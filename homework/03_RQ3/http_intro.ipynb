{
 "cells": [
  {
   "cell_type": "markdown",
   "metadata": {},
   "source": [
    "Before you turn this problem in, make sure everything runs as expected. First, **restart the kernel** (in the menubar, select Kernel$\\rightarrow$Restart) and then **run all cells** (in the menubar, select Cell$\\rightarrow$Run All).\n",
    "\n",
    "Make sure you fill in any place that says `YOUR CODE HERE`/`raise NotImplementedError` or \"YOUR ANSWER HERE\", as well as your name and collaborators below:"
   ]
  },
  {
   "cell_type": "markdown",
   "metadata": {},
   "source": [
    "**Q** What programming language do we need to use to create HTTP client applications?  Does it matter the language and/or libraries used by the Server?"
   ]
  },
  {
   "cell_type": "markdown",
   "metadata": {
    "deletable": false,
    "nbgrader": {
     "cell_type": "markdown",
     "checksum": "e04d850cc8d570e3c0dbcd3d6beeeef1",
     "grade": true,
     "grade_id": "cell-2beccba2d8efed86",
     "locked": false,
     "points": 1,
     "schema_version": 3,
     "solution": true,
     "task": false
    }
   },
   "source": [
    "YOUR ANSWER HERE"
   ]
  },
  {
   "cell_type": "markdown",
   "metadata": {},
   "source": [
    "**Q** Why might we want to use a package, like `requests`, and program to its interface when we are builing HTTP-capable clients over programming directly to the sockets interface?"
   ]
  },
  {
   "cell_type": "markdown",
   "metadata": {
    "deletable": false,
    "nbgrader": {
     "cell_type": "markdown",
     "checksum": "3fdd23649a47d8053d141b086ea54b32",
     "grade": true,
     "grade_id": "cell-e9250d12466f21e4",
     "locked": false,
     "points": 1,
     "schema_version": 3,
     "solution": true,
     "task": false
    }
   },
   "source": [
    "YOUR ANSWER HERE"
   ]
  },
  {
   "cell_type": "markdown",
   "metadata": {},
   "source": [
    "**Q** When we fill out a form on a web page, the HTTP to the server must communicate the information filled in via the form.  What *HTTP Method* do you expect would be used for this request/response?  Explain."
   ]
  },
  {
   "cell_type": "markdown",
   "metadata": {
    "deletable": false,
    "nbgrader": {
     "cell_type": "markdown",
     "checksum": "5fbd1e00d1b38c29682b87c8a3256c51",
     "grade": true,
     "grade_id": "cell-1ca06f93019bbe64",
     "locked": false,
     "points": 1,
     "schema_version": 3,
     "solution": true,
     "task": false
    }
   },
   "source": [
    "YOUR ANSWER HERE"
   ]
  },
  {
   "cell_type": "markdown",
   "metadata": {},
   "source": [
    "**Q** Suppose a resource to be obtained from a server is **very** large.  Further suppose that the resource gets updated, but it is uncertain exactly when.  And suppose that a client has obtained the resource at some time in the past.  If a client issues a GET, it is committed to obtaining the large resource.  Using HTTP methods, how might a client avoid issuing the GET unless an update to the large resource has actually occurred since the last GET?  You can assume that meta data includes the time the resource was last modified."
   ]
  },
  {
   "cell_type": "markdown",
   "metadata": {
    "deletable": false,
    "nbgrader": {
     "cell_type": "markdown",
     "checksum": "3c95eb7a9fefd85b62c264d9ade3200e",
     "grade": true,
     "grade_id": "cell-ea582169ff6781a4",
     "locked": false,
     "points": 1,
     "schema_version": 3,
     "solution": true,
     "task": false
    }
   },
   "source": [
    "YOUR ANSWER HERE"
   ]
  },
  {
   "cell_type": "markdown",
   "metadata": {},
   "source": [
    "**Q** Use Google to find five other types of header-line, other than the ones used in the book.  (The original HTTP 1.0 defined 16 types of header line, and HTTP 1.1 has added many more.)"
   ]
  },
  {
   "cell_type": "markdown",
   "metadata": {
    "deletable": false,
    "nbgrader": {
     "cell_type": "markdown",
     "checksum": "e78f3854a311cd30e3369194b1800603",
     "grade": true,
     "grade_id": "cell-5ac1befa98dacafb",
     "locked": false,
     "points": 1,
     "schema_version": 3,
     "solution": true,
     "task": false
    }
   },
   "source": [
    "YOUR ANSWER HERE"
   ]
  },
  {
   "cell_type": "markdown",
   "metadata": {},
   "source": [
    "**Q** Suppose you could enter\n",
    "\n",
    "    http://tcbressoud.github.io/datasystems-bookweb/20-ch-http.html\n",
    "    \n",
    "in the address line of a web browser.  Write the lines for a GET request over HTTP 1.1 for an equivalent request."
   ]
  },
  {
   "cell_type": "markdown",
   "metadata": {
    "deletable": false,
    "nbgrader": {
     "cell_type": "markdown",
     "checksum": "c7aea6557a5b8837275487ec0767b703",
     "grade": true,
     "grade_id": "cell-8df3599aa0076b4d",
     "locked": false,
     "points": 1,
     "schema_version": 3,
     "solution": true,
     "task": false
    }
   },
   "source": [
    "YOUR ANSWER HERE"
   ]
  },
  {
   "cell_type": "markdown",
   "metadata": {},
   "source": [
    "**Q** Most systems provide one or both of the command-line tools of `curl` or `wget`.  See if either are available on your platform.  If not, attempt to install `curl`.  Depending on whether you are successful, we may use this for demonstration purposes in class.  Report your results here."
   ]
  },
  {
   "cell_type": "markdown",
   "metadata": {
    "deletable": false,
    "nbgrader": {
     "cell_type": "markdown",
     "checksum": "e36c8f9dc2454c4f674d0ad01649e39c",
     "grade": true,
     "grade_id": "cell-0e8dc4bf56e167f3",
     "locked": false,
     "points": 1,
     "schema_version": 3,
     "solution": true,
     "task": false
    }
   },
   "source": [
    "YOUR ANSWER HERE"
   ]
  },
  {
   "cell_type": "markdown",
   "metadata": {},
   "source": [
    "**Q** Go to\n",
    "\n",
    "    http://httpbin.org/#/HTTP_Methods\n",
    "    \n",
    "and navigate to GET->Try It Out->Execute\n",
    "\n",
    "What is the `curl` command line that can issue this request?  What is the meaning of the -X and the -H options that are on that command line?"
   ]
  },
  {
   "cell_type": "markdown",
   "metadata": {
    "deletable": false,
    "nbgrader": {
     "cell_type": "markdown",
     "checksum": "9b1227dfdb4736c9d486cc32d84cb213",
     "grade": true,
     "grade_id": "cell-7c887572fcd8e5ab",
     "locked": false,
     "points": 1,
     "schema_version": 3,
     "solution": true,
     "task": false
    }
   },
   "source": [
    "YOUR ANSWER HERE"
   ]
  },
  {
   "cell_type": "markdown",
   "metadata": {},
   "source": [
    "**Q** For the previous web-based application, what is the format of the body of the response?  What do you think the purpose of the \"headers\" section in that response?  Are these headers with respect to the client, or to the server?  How do you know?"
   ]
  },
  {
   "cell_type": "markdown",
   "metadata": {
    "deletable": false,
    "nbgrader": {
     "cell_type": "markdown",
     "checksum": "33d6a350f7f71718485d8c9bbf18e512",
     "grade": true,
     "grade_id": "cell-6d58dbb54af7c7f5",
     "locked": false,
     "points": 1,
     "schema_version": 3,
     "solution": true,
     "task": false
    }
   },
   "source": [
    "YOUR ANSWER HERE"
   ]
  },
  {
   "cell_type": "markdown",
   "metadata": {},
   "source": [
    "**Q** Use your browser and go to\n",
    "\n",
    "    http://httpbin.org/get\n",
    "    \n",
    "In the web browser, what do you get back?  Does what you see in the browser window include **all** of the information that you know to be parts of an HTTP response message?  In particular, an HTTP response includes a status-line and zero or more header-lines, followed by an empty-line and then the body.  Which of these do you see in the browser window?"
   ]
  },
  {
   "cell_type": "markdown",
   "metadata": {
    "deletable": false,
    "nbgrader": {
     "cell_type": "markdown",
     "checksum": "f124e46ab5aa6e7d758b5b3e5c532002",
     "grade": true,
     "grade_id": "cell-a8918f62ba8e916d",
     "locked": false,
     "points": 1,
     "schema_version": 3,
     "solution": true,
     "task": false
    }
   },
   "source": [
    "YOUR ANSWER HERE"
   ]
  }
 ],
 "metadata": {
  "kernelspec": {
   "display_name": "Python 3",
   "language": "python",
   "name": "python3"
  },
  "language_info": {
   "codemirror_mode": {
    "name": "ipython",
    "version": 3
   },
   "file_extension": ".py",
   "mimetype": "text/x-python",
   "name": "python",
   "nbconvert_exporter": "python",
   "pygments_lexer": "ipython3",
   "version": "3.7.6"
  }
 },
 "nbformat": 4,
 "nbformat_minor": 4
}
