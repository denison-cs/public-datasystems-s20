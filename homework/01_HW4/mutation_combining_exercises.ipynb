{
 "cells": [
  {
   "cell_type": "markdown",
   "metadata": {},
   "source": [
    "Before you turn this problem in, make sure everything runs as expected. First, **restart the kernel** (in the menubar, select Kernel$\\rightarrow$Restart) and then **run all cells** (in the menubar, select Cell$\\rightarrow$Run All).\n",
    "\n",
    "Make sure you fill in any place that says `YOUR CODE HERE`/`raise NotImplementedError` or \"YOUR ANSWER HERE\", as well as your name and collaborators below:"
   ]
  },
  {
   "cell_type": "markdown",
   "metadata": {
    "deletable": false,
    "editable": false,
    "nbgrader": {
     "cell_type": "markdown",
     "checksum": "58f6c78d64461ccefe6fa4d702cb08ec",
     "grade": false,
     "grade_id": "cell-d5a0f4c899339b26",
     "locked": true,
     "schema_version": 3,
     "solution": false,
     "task": false
    }
   },
   "source": [
    "Please start by running the cell below, to read in `indicators` from a csv file we have provided. Next, consider reviewing the following tutorials:\n",
    "- http://pandas.pydata.org/pandas-docs/stable/10min.html\n",
    "- https://pandas.pydata.org/pandas-docs/stable/tutorials.html"
   ]
  },
  {
   "cell_type": "code",
   "execution_count": null,
   "metadata": {
    "deletable": false,
    "editable": false,
    "nbgrader": {
     "cell_type": "code",
     "checksum": "92250107748809445e50597247314a8c",
     "grade": false,
     "grade_id": "cell-387ec594b2214513",
     "locked": true,
     "schema_version": 3,
     "solution": false,
     "task": false
    }
   },
   "outputs": [],
   "source": [
    "import os\n",
    "import os.path\n",
    "import pandas as pd\n",
    "\n",
    "datadir = \"publicdata\"\n",
    "\n",
    "path = os.path.join(datadir, \"indicators.csv\")\n",
    "indicators = pd.read_csv(path)"
   ]
  },
  {
   "cell_type": "code",
   "execution_count": null,
   "metadata": {
    "deletable": false,
    "editable": false,
    "nbgrader": {
     "cell_type": "code",
     "checksum": "123a38699d87833d182ab9dda89c09bd",
     "grade": false,
     "grade_id": "cell-af2a6520d5d16ef9",
     "locked": true,
     "schema_version": 3,
     "solution": false,
     "task": false
    }
   },
   "outputs": [],
   "source": [
    "print(indicators.head())\n",
    "print(indicators.tail())"
   ]
  },
  {
   "cell_type": "markdown",
   "metadata": {
    "deletable": false,
    "editable": false,
    "nbgrader": {
     "cell_type": "markdown",
     "checksum": "35a6cb295787c13f65efbe9335c930a2",
     "grade": false,
     "grade_id": "cell-cdccc4b25b03622d",
     "locked": true,
     "schema_version": 3,
     "solution": false,
     "task": false
    }
   },
   "source": [
    "**Q1** Solve each part with respect to the `indicators` dataframe, rather than starting with `df1` when forming `df2`, etc.\n",
    "\n",
    "1. Add a column `gdp_per_capita`, defined from `gdp / pop`, and save the resulting dataframe as `df1`.\n",
    "2. Use the `drop` method to drop the columns `country` and `gdp`, saving the result as `df2`.\n",
    "3. Drop the rows corresponding to Aruba in 1961 and 1963. Save the resulting dataframe as `df3`.\n",
    "4. Update the column `cell` to increase it by 10% in all rows, saving the resulting dataframe as `df4`."
   ]
  },
  {
   "cell_type": "code",
   "execution_count": null,
   "metadata": {
    "deletable": false,
    "nbgrader": {
     "cell_type": "code",
     "checksum": "9d0c13432dd886fcc21215ace888f1fd",
     "grade": false,
     "grade_id": "cell-3ee03539117981dc",
     "locked": false,
     "schema_version": 3,
     "solution": true,
     "task": false
    }
   },
   "outputs": [],
   "source": [
    "# Solution Cell\n",
    "\n",
    "# YOUR CODE HERE\n",
    "raise NotImplementedError()\n"
   ]
  },
  {
   "cell_type": "code",
   "execution_count": null,
   "metadata": {
    "deletable": false,
    "editable": false,
    "nbgrader": {
     "cell_type": "code",
     "checksum": "3b7ae031f16402d69e80bd0e5f905a41",
     "grade": true,
     "grade_id": "cell-79ff412f2191639f",
     "locked": true,
     "points": 4,
     "schema_version": 3,
     "solution": false,
     "task": false
    }
   },
   "outputs": [],
   "source": [
    "# Testing cell\n",
    "\n",
    "assert df1.loc[12535,'gdp_per_capita'] > 0.95\n",
    "assert df1.loc[12535,'gdp_per_capita'] < 0.97\n",
    "assert df2.shape == (12540, 5)\n",
    "assert df3.shape == (12538, 7)\n",
    "assert df3.loc[2,'pop'] == 0.06\n",
    "assert df4.loc[12539,'cell'] > 14.16"
   ]
  },
  {
   "cell_type": "markdown",
   "metadata": {
    "deletable": false,
    "editable": false,
    "nbgrader": {
     "cell_type": "markdown",
     "checksum": "5928df6cd0c82e621e113a06cbf8e438",
     "grade": false,
     "grade_id": "cell-635e9a75b666893e",
     "locked": true,
     "schema_version": 3,
     "solution": false,
     "task": false
    }
   },
   "source": [
    "**Q2** In the data directory, you will find two csv files, `educationTop.csv` and `educationBottom.csv`, both based on data hosted by `www.census.gov`. Both have the same columns, and each row is a U.S. metropolitan area, with data on population, education, and unemployment. The first `csv` file contains metropolitan areas starting with A-K, and the second starting with L-Z. Read both into `pandas` data frames, using the column `GEO.id2` as an index. Concatenate these two data frames along the row dimension (with the top one on top), and call the result `educationDF`."
   ]
  },
  {
   "cell_type": "code",
   "execution_count": null,
   "metadata": {
    "deletable": false,
    "nbgrader": {
     "cell_type": "code",
     "checksum": "8f5ab03b1bf213750961f434a09b2911",
     "grade": false,
     "grade_id": "cell-bd76db40512af520",
     "locked": false,
     "schema_version": 3,
     "solution": true,
     "task": false
    }
   },
   "outputs": [],
   "source": [
    "# Solution Cell\n",
    "\n",
    "# YOUR CODE HERE\n",
    "raise NotImplementedError()\n",
    "print(educationDF.head().iloc[:,:2])\n",
    "print(educationDF.tail().iloc[:,:2])"
   ]
  },
  {
   "cell_type": "code",
   "execution_count": null,
   "metadata": {
    "deletable": false,
    "editable": false,
    "nbgrader": {
     "cell_type": "code",
     "checksum": "26bd52f989afd5b782be4e867649afac",
     "grade": true,
     "grade_id": "cell-b7ea13e0a64fa2d5",
     "locked": true,
     "points": 2,
     "schema_version": 3,
     "solution": false,
     "task": false
    }
   },
   "outputs": [],
   "source": [
    "# Testing cell\n",
    "\n",
    "assert eduTop.shape == (177,60)\n",
    "assert eduBot.shape == (191, 60)\n",
    "assert educationDF.shape == (368, 60)\n",
    "assert list(eduBot.columns) == list(educationDF.columns)"
   ]
  },
  {
   "cell_type": "markdown",
   "metadata": {
    "deletable": false,
    "editable": false,
    "nbgrader": {
     "cell_type": "markdown",
     "checksum": "36f3c9a92614a99a9f7196f58ed8ffd9",
     "grade": false,
     "grade_id": "cell-3134c707c0b64ee7",
     "locked": true,
     "schema_version": 3,
     "solution": false,
     "task": false
    }
   },
   "source": [
    "**Q3** In the data directory, you will find two csv files, `educationLeft.csv` and `educationRight.csv`, both based on data hosted by `www.census.gov`. Both have the same rows, and each row is a U.S. metropolitan area, with data on population, education, and unemployment. The first has information on individuals without a college degree, and the second has information on individuals with a college degree. Read both into `pandas` data frames with an index based on column 0.  Concatenate these two data frames along the column dimension, and call the result `educationDF2`."
   ]
  },
  {
   "cell_type": "code",
   "execution_count": null,
   "metadata": {
    "deletable": false,
    "nbgrader": {
     "cell_type": "code",
     "checksum": "e599e73e9f2bcd6c6fa3d88418d33ec8",
     "grade": false,
     "grade_id": "cell-263678c5d80e9a47",
     "locked": false,
     "schema_version": 3,
     "solution": true,
     "task": false
    }
   },
   "outputs": [],
   "source": [
    "# Solution Cell\n",
    "\n",
    "# YOUR CODE HERE\n",
    "raise NotImplementedError()\n",
    "\n",
    "educationDF2.shape"
   ]
  },
  {
   "cell_type": "code",
   "execution_count": null,
   "metadata": {
    "deletable": false,
    "editable": false,
    "nbgrader": {
     "cell_type": "code",
     "checksum": "56b2bcd5760d1d2935035f3ee7c989a1",
     "grade": true,
     "grade_id": "cell-7cc8d85dbb14034d",
     "locked": true,
     "points": 2,
     "schema_version": 3,
     "solution": false,
     "task": false
    }
   },
   "outputs": [],
   "source": [
    "# Testing cell\n",
    "\n",
    "assert educationDF2.shape == (367, 58)\n"
   ]
  },
  {
   "cell_type": "markdown",
   "metadata": {
    "deletable": false,
    "editable": false,
    "nbgrader": {
     "cell_type": "markdown",
     "checksum": "a5b82cf5935df429b4ad2fd12f87214d",
     "grade": false,
     "grade_id": "cell-491b466d6657d768",
     "locked": true,
     "schema_version": 3,
     "solution": false,
     "task": false
    }
   },
   "source": [
    "**Q4** In the data directory, you will find two csv files, `educationLeftJ.csv` and `educationRightJ.csv`, both based on data hosted by `www.census.gov`. In both, rows represent U.S. metropolitan area, with data on population, education, and unemployment. However, they do not have exactly the same set of rows, and the columns are totally different except for the index column `Geography`. \n",
    "\n",
    "0. Read both into `pandas` data frames, with names `educationLeftJ` and `educationRightJ`, with index column appropriately set.\n",
    "1. Make a copy of `educationLeftJ` called `educationLeftOriginal`.\n",
    "2. Starting with `educationLeftJ`, do a left join to bring in the data from `educationRightJ`, storing your answer as `dfJ`.\n",
    "3. Starting with `educationLeftOriginal`, do an inner join to bring in the data from `educationRightJ`, storing your answer as `dfJ2`.\n",
    "4. Now read the original csv files in as `eduLeft` and `eduRight` with no meaningful index. Then, starting from `eduLeft`, do an inner merge along the column `Geography`, storing your answer as `dfJ3`."
   ]
  },
  {
   "cell_type": "code",
   "execution_count": null,
   "metadata": {
    "deletable": false,
    "nbgrader": {
     "cell_type": "code",
     "checksum": "2cb07410f50095f5adfeea96b28f1cb5",
     "grade": false,
     "grade_id": "cell-626b87634f06841c",
     "locked": false,
     "schema_version": 3,
     "solution": true,
     "task": false
    }
   },
   "outputs": [],
   "source": [
    "# Solution Cell\n",
    "\n",
    "import os\n",
    "import os.path\n",
    "import pandas as pd\n",
    "\n",
    "datadir = \"publicdata\"\n",
    "\n",
    "path = os.path.join(datadir, \"indicators.csv\")\n",
    "indicators = pd.read_csv(path)\n",
    "\n",
    "# YOUR CODE HERE\n",
    "raise NotImplementedError()\n",
    "\n"
   ]
  },
  {
   "cell_type": "code",
   "execution_count": null,
   "metadata": {
    "deletable": false,
    "editable": false,
    "nbgrader": {
     "cell_type": "code",
     "checksum": "33305bd04b918a4ea8477992d9904630",
     "grade": true,
     "grade_id": "cell-6650ae6ad1902f4f",
     "locked": true,
     "points": 4,
     "schema_version": 3,
     "solution": false,
     "task": false
    }
   },
   "outputs": [],
   "source": [
    "# Testing cell\n",
    "\n",
    "assert educationLeftJ.shape == (249, 12)\n",
    "assert educationLeftOriginal.shape == (249, 12)\n",
    "assert educationRightJ.shape == (215, 12)\n",
    "assert dfJ.shape == (249, 24)\n",
    "assert list(dfJ.columns)[0] == 'Estimate; Less than high school graduate: - In labor force:'\n",
    "assert dfJ2.shape == (152, 24)\n",
    "assert dfJ3.shape == (152, 25)\n",
    "assert list(dfJ3.columns)[0] == 'Geography'"
   ]
  }
 ],
 "metadata": {
  "kernelspec": {
   "display_name": "Python 3",
   "language": "python",
   "name": "python3"
  },
  "language_info": {
   "codemirror_mode": {
    "name": "ipython",
    "version": 3
   },
   "file_extension": ".py",
   "mimetype": "text/x-python",
   "name": "python",
   "nbconvert_exporter": "python",
   "pygments_lexer": "ipython3",
   "version": "3.7.6"
  }
 },
 "nbformat": 4,
 "nbformat_minor": 4
}
