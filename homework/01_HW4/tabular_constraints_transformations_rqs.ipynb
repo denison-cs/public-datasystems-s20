{
 "cells": [
  {
   "cell_type": "markdown",
   "metadata": {},
   "source": [
    "Before you turn this problem in, make sure everything runs as expected. First, **restart the kernel** (in the menubar, select Kernel$\\rightarrow$Restart) and then **run all cells** (in the menubar, select Cell$\\rightarrow$Run All).\n",
    "\n",
    "Make sure you fill in any place that says `YOUR CODE HERE`/`raise NotImplementedError` or \"YOUR ANSWER HERE\", as well as your name and collaborators below:"
   ]
  },
  {
   "cell_type": "markdown",
   "metadata": {
    "deletable": false,
    "editable": false,
    "nbgrader": {
     "cell_type": "markdown",
     "checksum": "cd62c994658345095d82c1b2b035e38f",
     "grade": false,
     "grade_id": "cell-c3a897f8cdb7641d",
     "locked": true,
     "schema_version": 3,
     "solution": false,
     "task": false
    }
   },
   "source": [
    "**Q1** Give 2-3 reasonable column constraints for the data frame `indicators`."
   ]
  },
  {
   "cell_type": "markdown",
   "metadata": {
    "deletable": false,
    "nbgrader": {
     "cell_type": "markdown",
     "checksum": "dda5d2bee6a5fb99c2f88c7be8deac64",
     "grade": true,
     "grade_id": "cell-fbf7b2b35430f4b9",
     "locked": false,
     "points": 1,
     "schema_version": 3,
     "solution": true,
     "task": false
    }
   },
   "source": [
    "YOUR ANSWER HERE"
   ]
  },
  {
   "cell_type": "markdown",
   "metadata": {
    "deletable": false,
    "editable": false,
    "nbgrader": {
     "cell_type": "markdown",
     "checksum": "12816bf2f682d6d169ccaf328508ec3b",
     "grade": false,
     "grade_id": "cell-6da499f0a9699933",
     "locked": true,
     "schema_version": 3,
     "solution": false,
     "task": false
    }
   },
   "source": [
    "**Q2** Describe one of the examples of an un-tidy way to display the `topnames` dataset, and explain what specifically makes it un-tidy."
   ]
  },
  {
   "cell_type": "markdown",
   "metadata": {
    "deletable": false,
    "nbgrader": {
     "cell_type": "markdown",
     "checksum": "96f7f9c1d9d06de49b034f248755272c",
     "grade": true,
     "grade_id": "cell-97ebed90423d568d",
     "locked": false,
     "points": 1,
     "schema_version": 3,
     "solution": true,
     "task": false
    }
   },
   "source": [
    "YOUR ANSWER HERE"
   ]
  },
  {
   "cell_type": "markdown",
   "metadata": {
    "deletable": false,
    "editable": false,
    "nbgrader": {
     "cell_type": "markdown",
     "checksum": "b7b08a44bc26b18826a4ba9b416cbfc6",
     "grade": false,
     "grade_id": "cell-8f3ed41d2a0bb535",
     "locked": true,
     "schema_version": 3,
     "solution": false,
     "task": false
    }
   },
   "source": [
    "**Q3** Does the repetition created by the *melt* operation mean that the resulting data frame is un-tidy?\n"
   ]
  },
  {
   "cell_type": "markdown",
   "metadata": {
    "deletable": false,
    "nbgrader": {
     "cell_type": "markdown",
     "checksum": "291232de047a3f774354c1e9fb216449",
     "grade": true,
     "grade_id": "cell-12244e10f9f7463f",
     "locked": false,
     "points": 1,
     "schema_version": 3,
     "solution": true,
     "task": false
    }
   },
   "source": [
    "YOUR ANSWER HERE"
   ]
  },
  {
   "cell_type": "markdown",
   "metadata": {
    "deletable": false,
    "editable": false,
    "nbgrader": {
     "cell_type": "markdown",
     "checksum": "ad8a56973f6c0ef979ab30c868581262",
     "grade": false,
     "grade_id": "cell-ad2881b030689a70",
     "locked": true,
     "schema_version": 3,
     "solution": false,
     "task": false
    }
   },
   "source": [
    "**Q4** The reading gives an example of a data frame that melts into our usual `topnames` example. Give an example of a data frame that melts into `indicators[['code','year','pop']]`. Hint: your example should have lots of columns."
   ]
  },
  {
   "cell_type": "markdown",
   "metadata": {
    "deletable": false,
    "nbgrader": {
     "cell_type": "markdown",
     "checksum": "53d1b983b1c9a4a6791405bc72f2ddbb",
     "grade": true,
     "grade_id": "cell-aae495ad7d3d024c",
     "locked": false,
     "points": 1,
     "schema_version": 3,
     "solution": true,
     "task": false
    }
   },
   "source": [
    "YOUR ANSWER HERE"
   ]
  },
  {
   "cell_type": "markdown",
   "metadata": {
    "deletable": false,
    "editable": false,
    "nbgrader": {
     "cell_type": "markdown",
     "checksum": "9ad386369655eeb73c67b7c1d85cf196",
     "grade": false,
     "grade_id": "cell-c5d96b673b0564a1",
     "locked": true,
     "schema_version": 3,
     "solution": false,
     "task": false
    }
   },
   "source": [
    "**Q5** Write a sentence describing the number of rows after a melt, based on the number before the melt and the number of melt columns. Does it matter how many non-melt columns there are?\n"
   ]
  },
  {
   "cell_type": "markdown",
   "metadata": {
    "deletable": false,
    "nbgrader": {
     "cell_type": "markdown",
     "checksum": "6428637b17c1a5a7b3fff7d3eda70123",
     "grade": true,
     "grade_id": "cell-b324f6ede9263bf2",
     "locked": false,
     "points": 1,
     "schema_version": 3,
     "solution": true,
     "task": false
    }
   },
   "source": [
    "YOUR ANSWER HERE"
   ]
  },
  {
   "cell_type": "markdown",
   "metadata": {
    "deletable": false,
    "editable": false,
    "nbgrader": {
     "cell_type": "markdown",
     "checksum": "abaf17241295fd1d54c698793601ad3f",
     "grade": false,
     "grade_id": "cell-ba136a1bc057eb9a",
     "locked": true,
     "schema_version": 3,
     "solution": false,
     "task": false
    }
   },
   "source": [
    "**Q6** Read the documentation for stack, including how to stack only a subset of the columns. Then apply stack to the `pandas` dataframe created from this list of lists:\n",
    "\n",
    "`headers = ['sex',  2015,  2016,  2017]\n",
    "data = [['Female',  'Emma',  'Emma',  'Emma'],\n",
    "        ['Male',  'Noah',  'Noah',  'Liam']]`"
   ]
  },
  {
   "cell_type": "markdown",
   "metadata": {
    "deletable": false,
    "nbgrader": {
     "cell_type": "markdown",
     "checksum": "171ec8eea61aff596231d93e39789735",
     "grade": true,
     "grade_id": "cell-0175caee21eaf62c",
     "locked": false,
     "points": 1,
     "schema_version": 3,
     "solution": true,
     "task": false
    }
   },
   "source": [
    "YOUR ANSWER HERE"
   ]
  },
  {
   "cell_type": "markdown",
   "metadata": {
    "deletable": false,
    "editable": false,
    "nbgrader": {
     "cell_type": "markdown",
     "checksum": "09badfb8c91ebf98830059a4d3b601d8",
     "grade": false,
     "grade_id": "cell-2f220b55f5ba229e",
     "locked": true,
     "schema_version": 3,
     "solution": false,
     "task": false
    }
   },
   "source": [
    "**Q7** Looking at the Pivot Operation Figure, how can you tell how many new columns and new rows will be present after a pivot operation, based on the columns `index`, `pivot`, and `value` in the original data frame?"
   ]
  },
  {
   "cell_type": "markdown",
   "metadata": {
    "deletable": false,
    "nbgrader": {
     "cell_type": "markdown",
     "checksum": "d4f95ab838d7feb72b6822468ceaf516",
     "grade": true,
     "grade_id": "cell-efeba4453c56e815",
     "locked": false,
     "points": 1,
     "schema_version": 3,
     "solution": true,
     "task": false
    }
   },
   "source": [
    "YOUR ANSWER HERE"
   ]
  },
  {
   "cell_type": "markdown",
   "metadata": {
    "deletable": false,
    "editable": false,
    "nbgrader": {
     "cell_type": "markdown",
     "checksum": "a4e636e91ab97dc65e911e6d51990b64",
     "grade": false,
     "grade_id": "cell-e079309554a13f5e",
     "locked": true,
     "schema_version": 3,
     "solution": false,
     "task": false
    }
   },
   "source": [
    "**Q8** In the data frame `pivot_ex1`, could you have done `pivot` with other choices of index columns? If so, explain in detail what would have happened.\n",
    "\n"
   ]
  },
  {
   "cell_type": "markdown",
   "metadata": {
    "deletable": false,
    "nbgrader": {
     "cell_type": "markdown",
     "checksum": "6ae425e52d39751c9985fda23adcdc71",
     "grade": true,
     "grade_id": "cell-e255f0cf7e29e7bf",
     "locked": false,
     "points": 1,
     "schema_version": 3,
     "solution": true,
     "task": false
    }
   },
   "source": [
    "YOUR ANSWER HERE"
   ]
  },
  {
   "cell_type": "markdown",
   "metadata": {
    "deletable": false,
    "editable": false,
    "nbgrader": {
     "cell_type": "markdown",
     "checksum": "1c56ed8377d4d35797d9d8dd3cfbc393",
     "grade": false,
     "grade_id": "cell-065469cdbf168038",
     "locked": true,
     "schema_version": 3,
     "solution": false,
     "task": false
    }
   },
   "source": [
    "**Q9** Carry out the arithmetic to explain why the values in the `pivot_table` examples are different, i.e., explain where 30.25, 7.5, 6, and 12.25 come from in the first table, and where 60.5 and 24.5 come from in the second table."
   ]
  },
  {
   "cell_type": "markdown",
   "metadata": {
    "deletable": false,
    "nbgrader": {
     "cell_type": "markdown",
     "checksum": "216e7679de13f75b3e8175d9c1d96bf0",
     "grade": true,
     "grade_id": "cell-35e8d45732413e74",
     "locked": false,
     "points": 1,
     "schema_version": 3,
     "solution": true,
     "task": false
    }
   },
   "source": [
    "YOUR ANSWER HERE"
   ]
  }
 ],
 "metadata": {
  "kernelspec": {
   "display_name": "Python 3",
   "language": "python",
   "name": "python3"
  },
  "language_info": {
   "codemirror_mode": {
    "name": "ipython",
    "version": 3
   },
   "file_extension": ".py",
   "mimetype": "text/x-python",
   "name": "python",
   "nbconvert_exporter": "python",
   "pygments_lexer": "ipython3",
   "version": "3.7.6"
  }
 },
 "nbformat": 4,
 "nbformat_minor": 4
}
