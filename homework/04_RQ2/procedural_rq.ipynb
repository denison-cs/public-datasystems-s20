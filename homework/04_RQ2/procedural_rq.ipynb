{
 "cells": [
  {
   "cell_type": "markdown",
   "metadata": {},
   "source": [
    "Before you turn this problem in, make sure everything runs as expected. First, **restart the kernel** (in the menubar, select Kernel$\\rightarrow$Restart) and then **run all cells** (in the menubar, select Cell$\\rightarrow$Run All).\n",
    "\n",
    "Make sure you fill in any place that says `YOUR CODE HERE`/`raise NotImplementedError` or \"YOUR ANSWER HERE\", as well as your name and collaborators below:"
   ]
  },
  {
   "cell_type": "markdown",
   "metadata": {
    "deletable": false,
    "editable": false,
    "nbgrader": {
     "cell_type": "markdown",
     "checksum": "0c22cda790b4142895c970b9add19deb",
     "grade": false,
     "grade_id": "cell-01df819cf506a28f",
     "locked": true,
     "schema_version": 3,
     "solution": false,
     "task": false
    }
   },
   "source": [
    "**Q1** show how to set the gdp of the USA in 2018 to be `$20.50` trillion (in the correct units to match the rest of the tree). Note that the GDP of the USA in 2017 was `$19.39` trillion. You may assume the current status of `ind0` is as in the reading. Your answer should be a single line of code."
   ]
  },
  {
   "cell_type": "markdown",
   "metadata": {
    "deletable": false,
    "nbgrader": {
     "cell_type": "markdown",
     "checksum": "ed15eacc51be54ab3028d3c489a434a9",
     "grade": true,
     "grade_id": "cell-839d269d69dbe857",
     "locked": false,
     "points": 1,
     "schema_version": 3,
     "solution": true,
     "task": false
    }
   },
   "source": [
    "YOUR ANSWER HERE"
   ]
  },
  {
   "cell_type": "markdown",
   "metadata": {
    "deletable": false,
    "editable": false,
    "nbgrader": {
     "cell_type": "markdown",
     "checksum": "da55023573e7beb8147a210ce4055c5c",
     "grade": false,
     "grade_id": "cell-6d28fd37d0ea6f83",
     "locked": true,
     "schema_version": 3,
     "solution": false,
     "task": false
    }
   },
   "source": [
    "**Q2** Consider the `topnames` dataset from the tabular data unit. Please give an example of how this data might logically come to you in JSON. Include at least two years (so, four \"sex\" subtrees). If you are stumped, you can look below to see it in XML. "
   ]
  },
  {
   "cell_type": "markdown",
   "metadata": {
    "deletable": false,
    "nbgrader": {
     "cell_type": "markdown",
     "checksum": "5fc7753457e86af769458457d5df41c6",
     "grade": true,
     "grade_id": "cell-eed135b336c4a53d",
     "locked": false,
     "points": 1,
     "schema_version": 3,
     "solution": true,
     "task": false
    }
   },
   "source": [
    "YOUR ANSWER HERE"
   ]
  },
  {
   "cell_type": "markdown",
   "metadata": {
    "deletable": false,
    "editable": false,
    "nbgrader": {
     "cell_type": "markdown",
     "checksum": "ca8185d4111354da32456accefe79236",
     "grade": false,
     "grade_id": "cell-79d448420430e633",
     "locked": true,
     "schema_version": 3,
     "solution": false,
     "task": false
    }
   },
   "source": [
    "**Q3** Describe how you would read the JSON-formatted data you just created into `pandas`. You can also answer this question by providing the code. At the very least, be clear about whether this can be done with just one loop, or with doubly nested loops. Justify your answer."
   ]
  },
  {
   "cell_type": "markdown",
   "metadata": {
    "deletable": false,
    "nbgrader": {
     "cell_type": "markdown",
     "checksum": "9c6ecd290bd8c6ec3f3506a180f73372",
     "grade": true,
     "grade_id": "cell-9471241097210a99",
     "locked": false,
     "points": 1,
     "schema_version": 3,
     "solution": true,
     "task": false
    }
   },
   "source": [
    "YOUR ANSWER HERE"
   ]
  },
  {
   "cell_type": "markdown",
   "metadata": {
    "deletable": false,
    "editable": false,
    "nbgrader": {
     "cell_type": "markdown",
     "checksum": "d360c8d7d0b3f233437b320e68288696",
     "grade": false,
     "grade_id": "cell-ba0a2f1414b233e6",
     "locked": true,
     "schema_version": 3,
     "solution": false,
     "task": false
    }
   },
   "source": [
    "**Q4** Below, we provide a snippet of the `topnames` data in XML format. Describe at a high level how you would read this into a `pandas` dataframe. Make your solution general, so that it would also work on a larger version of the data. As part of your answer, give examples of the use of the `parse` method in the `etree` module, and give examples of how you would use the `text` and `tag` attributes, and the `get` method of particular Elements you see. \n",
    "\n",
    "    <topnames0>\n",
    "      <year value=\"1880\">\n",
    "        <sex value=\"Female\">\n",
    "          <name>Mary</name>\n",
    "          <count>7065</count>\n",
    "        </sex>\n",
    "        <sex value=\"Male\">\n",
    "          <name>John</name>\n",
    "          <count>9655</count>\n",
    "        </sex>\n",
    "      </year>\n",
    "    </topnames0>"
   ]
  },
  {
   "cell_type": "markdown",
   "metadata": {
    "deletable": false,
    "nbgrader": {
     "cell_type": "markdown",
     "checksum": "b1be39077835afb67403272495fb6e95",
     "grade": true,
     "grade_id": "cell-e2b3e7c2f6e95be5",
     "locked": false,
     "points": 1,
     "schema_version": 3,
     "solution": true,
     "task": false
    }
   },
   "source": [
    "YOUR ANSWER HERE"
   ]
  },
  {
   "cell_type": "markdown",
   "metadata": {
    "deletable": false,
    "editable": false,
    "nbgrader": {
     "cell_type": "markdown",
     "checksum": "9fa3fd09c751b078dcabf9f277c92754",
     "grade": false,
     "grade_id": "cell-74030c738f4ac864",
     "locked": true,
     "schema_version": 3,
     "solution": false,
     "task": false
    }
   },
   "source": [
    "**Q5** Write a function (or describe how) to build an XML tree associated with a given subtree of `topnames.json`. Your function may need two parameters, as in the reading. For example, when the dictionary passed to the function is `{\"name\":\"Mary\",\"count\":7065}`, then your function will produce the XML Element below:\n",
    "\n",
    "    <sex value=\"Female\">\n",
    "      <name>Mary</name>\n",
    "      <count>7065</count>\n",
    "    </sex>"
   ]
  },
  {
   "cell_type": "markdown",
   "metadata": {
    "deletable": false,
    "nbgrader": {
     "cell_type": "markdown",
     "checksum": "55c7ff450f1e049b339239abe87e0d9f",
     "grade": true,
     "grade_id": "cell-2b4cef4c9ea1a59f",
     "locked": false,
     "points": 1,
     "schema_version": 3,
     "solution": true,
     "task": false
    }
   },
   "source": [
    "YOUR ANSWER HERE"
   ]
  },
  {
   "cell_type": "markdown",
   "metadata": {},
   "source": [
    "## Extra Credit"
   ]
  },
  {
   "cell_type": "markdown",
   "metadata": {
    "deletable": false,
    "editable": false,
    "nbgrader": {
     "cell_type": "markdown",
     "checksum": "5ab669efa2c53c647831304176d1fb33",
     "grade": false,
     "grade_id": "cell-82e0a80b734410e6",
     "locked": true,
     "schema_version": 3,
     "solution": false,
     "task": false
    }
   },
   "source": [
    "**EC-Q1** The data in `ind0` can be structured into a tree in multiple ways. For instance, the children of the root can be country codes, and their children can be years, as we saw in the reading. Alternatively, the children of the root can be years, and their children can be country codes. These two representations represent two ways of thinking about the data, and what is considered \"top level\" information. Recalling that iterating over children is easy, which of these two representations would you use if your goal was to produce a graphic with time on the x-axis, population on the y-axis, and one curve per country (showing how the population changes over time)? Justify your answer, using a discussion of nested loops and `append` operations that would be required. You may assume that in either representation, the years are increasing as you move from left to right in the tree (i.e. from top to bottom in the XML file). "
   ]
  },
  {
   "cell_type": "markdown",
   "metadata": {
    "deletable": false,
    "nbgrader": {
     "cell_type": "markdown",
     "checksum": "d13021b8fb26a1c077ddea176cae0f50",
     "grade": true,
     "grade_id": "cell-d395365748eaed4a",
     "locked": false,
     "points": 0,
     "schema_version": 3,
     "solution": true,
     "task": false
    }
   },
   "source": [
    "YOUR ANSWER HERE"
   ]
  },
  {
   "cell_type": "markdown",
   "metadata": {
    "deletable": false,
    "editable": false,
    "nbgrader": {
     "cell_type": "markdown",
     "checksum": "a881394e5d7e6873ba2ab18e020aaf8d",
     "grade": false,
     "grade_id": "cell-f40a61decd39b1f5",
     "locked": true,
     "schema_version": 3,
     "solution": false,
     "task": false
    }
   },
   "source": [
    "**EC-Q2** Now suppose the data was given to you with the opposite hierarchical structure from the question above (swapping the top two levels). Describe a graphic you could easily make using this structure. Hint: think about what aesthetic is at the \"top level\"."
   ]
  },
  {
   "cell_type": "markdown",
   "metadata": {
    "deletable": false,
    "nbgrader": {
     "cell_type": "markdown",
     "checksum": "134d0bfa6217ccd5799a9f5a9203b495",
     "grade": true,
     "grade_id": "cell-011eea003d6c43a1",
     "locked": false,
     "points": 0,
     "schema_version": 3,
     "solution": true,
     "task": false
    }
   },
   "source": [
    "YOUR ANSWER HERE"
   ]
  }
 ],
 "metadata": {
  "kernelspec": {
   "display_name": "Python 3",
   "language": "python",
   "name": "python3"
  },
  "language_info": {
   "codemirror_mode": {
    "name": "ipython",
    "version": 3
   },
   "file_extension": ".py",
   "mimetype": "text/x-python",
   "name": "python",
   "nbconvert_exporter": "python",
   "pygments_lexer": "ipython3",
   "version": "3.7.6"
  }
 },
 "nbformat": 4,
 "nbformat_minor": 2
}
