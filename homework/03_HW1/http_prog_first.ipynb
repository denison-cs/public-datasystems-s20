{
 "cells": [
  {
   "cell_type": "markdown",
   "metadata": {},
   "source": [
    "Before you turn this problem in, make sure everything runs as expected. First, **restart the kernel** (in the menubar, select Kernel$\\rightarrow$Restart) and then **run all cells** (in the menubar, select Cell$\\rightarrow$Run All).\n",
    "\n",
    "Make sure you fill in any place that says `YOUR CODE HERE`/`raise NotImplementedError` or \"YOUR ANSWER HERE\", as well as your name and collaborators below:"
   ]
  },
  {
   "cell_type": "markdown",
   "metadata": {},
   "source": [
    "# JSON\n",
    "\n",
    "Please review section 2.4, if needed, and then solve the following problem."
   ]
  },
  {
   "cell_type": "code",
   "execution_count": null,
   "metadata": {},
   "outputs": [],
   "source": [
    "import json\n",
    "import os\n",
    "import os.path\n",
    "datadir = \"publicdata\""
   ]
  },
  {
   "cell_type": "markdown",
   "metadata": {
    "deletable": false,
    "editable": false,
    "nbgrader": {
     "cell_type": "markdown",
     "checksum": "eb19349e72aa4e6924e08f4095bc8330",
     "grade": false,
     "grade_id": "cell-5038d9efbf9d1c34",
     "locked": true,
     "schema_version": 3,
     "solution": false,
     "task": false
    }
   },
   "source": [
    "**Q1:** Write a function\n",
    "\n",
    "    writeSquares(N, filepath)\n",
    "\n",
    "that creates a list of the squares of integers from 1 to `N` and then writes them out as a JSON-encoded text file to the file location given by `filepath`.  If `N` is less than or equal to 0, no file should be created.  This function returns no value."
   ]
  },
  {
   "cell_type": "code",
   "execution_count": null,
   "metadata": {
    "deletable": false,
    "nbgrader": {
     "cell_type": "code",
     "checksum": "cd02bfba809fcd3723313e9ef24c16a9",
     "grade": false,
     "grade_id": "cell-7bcc1e2c8df55d0e",
     "locked": false,
     "schema_version": 3,
     "solution": true,
     "task": false
    }
   },
   "outputs": [],
   "source": [
    "# Solution cell\n",
    "\n",
    "# YOUR CODE HERE\n",
    "raise NotImplementedError()"
   ]
  },
  {
   "cell_type": "code",
   "execution_count": null,
   "metadata": {
    "deletable": false,
    "editable": false,
    "nbgrader": {
     "cell_type": "code",
     "checksum": "9d5e698839fe306d0e083cca029338f7",
     "grade": true,
     "grade_id": "cell-e9787275b7d0de79",
     "locked": true,
     "points": 2,
     "schema_version": 3,
     "solution": false,
     "task": false
    }
   },
   "outputs": [],
   "source": [
    "# Testing cell\n",
    "\n",
    "filepath = \"./squares.json\"\n",
    "writeSquares(5, filepath)\n",
    "result = json.load(open(filepath, 'r'))\n",
    "assert result == [1, 4, 9, 16, 25]\n",
    "writeSquares(1, filepath)\n",
    "result = json.load(open(filepath, 'r'))\n",
    "assert result == [1]\n",
    "os.remove(filepath)\n",
    "writeSquares(0, filepath)\n",
    "assert not os.path.isfile(filepath)"
   ]
  },
  {
   "cell_type": "markdown",
   "metadata": {},
   "source": [
    "# Programming with HTTP"
   ]
  },
  {
   "cell_type": "markdown",
   "metadata": {},
   "source": [
    "## Socket String-Based GET\n",
    "\n",
    "Please review section 2.4, if needed, and then solve the following two problems."
   ]
  },
  {
   "cell_type": "markdown",
   "metadata": {},
   "source": [
    "**Q2** In this question, we want to locate a web-server resource and then use the `mysocket` socket and Python string-based strategy for obtaining the data.\n",
    "\n",
    "Start by using Chrome or other web browser to navigate to:\n",
    "\n",
    "    www.discovercs.denison.edu\n",
    "    \n",
    "Once there, navigate to the resources associated with Chapter 8, and navigate within the web page to the subsection for Project 8.6.\n",
    "\n",
    "By hovering, or by clicking and looking at the browser's address line, find the resource that corresponds to \"Voting Results 1\".\n",
    "\n",
    "Our objective is to write a function that makes a GET request to obtain that resource:\n",
    "\n",
    "    GetVotes1()\n",
    "\n",
    "which returns **just the body** \n",
    "\n",
    "Note that the function takes no parameters.  So the function must establish the connection, make the request, obtain the full results, close the connection, parse the results to find where the body starts, and then return the string that point to the end.  Make sure your request uses HTTP 1.1, and includes the `Host` and the `Connection` header lines."
   ]
  },
  {
   "cell_type": "code",
   "execution_count": null,
   "metadata": {
    "deletable": false,
    "nbgrader": {
     "cell_type": "code",
     "checksum": "131c1d3228914fc933a1d25ba2dba859",
     "grade": false,
     "grade_id": "cell-1cdb33106f536a30",
     "locked": false,
     "schema_version": 3,
     "solution": true,
     "task": false
    }
   },
   "outputs": [],
   "source": [
    "import mysocket as sock\n",
    "\n",
    "# YOUR CODE HERE\n",
    "raise NotImplementedError()"
   ]
  },
  {
   "cell_type": "code",
   "execution_count": null,
   "metadata": {
    "deletable": false,
    "editable": false,
    "nbgrader": {
     "cell_type": "code",
     "checksum": "811253c15670f0b82a486eafb9f3c985",
     "grade": true,
     "grade_id": "cell-64feab94389c2863",
     "locked": true,
     "points": 4,
     "schema_version": 3,
     "solution": false,
     "task": false
    }
   },
   "outputs": [],
   "source": [
    "s = GetVotes1()\n",
    "assert s[:7] == 'A B C D' \n",
    "assert len(s) == 104"
   ]
  },
  {
   "cell_type": "markdown",
   "metadata": {},
   "source": [
    "**Q3** Enhance your implementation of\n",
    "\n",
    "    GetVotes1()\n",
    "\n",
    "so that it returns both the body **and** a dictionary that maps from header-name to value for each of the header lines returned in the result.  You are still required to use the `mysocket` method for issuing requests. Your function should still be called `GetVotes1()` and should begin the same way as your solution to the previous problem. You might consider printing the header line-by-line, and comparing what you see to the assert statements below, to get a sense of how to build the dictionary you are asked for."
   ]
  },
  {
   "cell_type": "code",
   "execution_count": null,
   "metadata": {
    "deletable": false,
    "nbgrader": {
     "cell_type": "code",
     "checksum": "c1b340a38d8e6d7aaf1e567357aa809a",
     "grade": false,
     "grade_id": "cell-130b81d731bc8bf3",
     "locked": false,
     "schema_version": 3,
     "solution": true,
     "task": false
    }
   },
   "outputs": [],
   "source": [
    "# YOUR CODE HERE\n",
    "raise NotImplementedError()"
   ]
  },
  {
   "cell_type": "code",
   "execution_count": null,
   "metadata": {
    "deletable": false,
    "editable": false,
    "nbgrader": {
     "cell_type": "code",
     "checksum": "a2ddc079c8217532762c1fd966948a27",
     "grade": true,
     "grade_id": "cell-141d91f1611654eb",
     "locked": true,
     "points": 4,
     "schema_version": 3,
     "solution": false,
     "task": false
    }
   },
   "outputs": [],
   "source": [
    "body, headers = GetVotes1()\n",
    "assert body[:7] == 'A B C D' \n",
    "assert len(body) == 104\n",
    "assert len(headers) == 8\n",
    "assert 'Date' in headers\n",
    "assert 'Server' in headers\n",
    "assert headers['Server'] == \"Apache\"\n",
    "assert ':' in headers['Date']"
   ]
  }
 ],
 "metadata": {
  "kernelspec": {
   "display_name": "Python 3",
   "language": "python",
   "name": "python3"
  },
  "language_info": {
   "codemirror_mode": {
    "name": "ipython",
    "version": 3
   },
   "file_extension": ".py",
   "mimetype": "text/x-python",
   "name": "python",
   "nbconvert_exporter": "python",
   "pygments_lexer": "ipython3",
   "version": "3.7.6"
  }
 },
 "nbformat": 4,
 "nbformat_minor": 4
}
