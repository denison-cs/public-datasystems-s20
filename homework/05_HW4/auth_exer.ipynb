{
 "cells": [
  {
   "cell_type": "markdown",
   "metadata": {},
   "source": [
    "Before you turn this problem in, make sure everything runs as expected. First, **restart the kernel** (in the menubar, select Kernel$\\rightarrow$Restart) and then **run all cells** (in the menubar, select Cell$\\rightarrow$Run All).\n",
    "\n",
    "Make sure you fill in any place that says `YOUR CODE HERE`/`raise NotImplementedError` or \"YOUR ANSWER HERE\", as well as your name and collaborators below:"
   ]
  },
  {
   "cell_type": "code",
   "execution_count": null,
   "metadata": {},
   "outputs": [],
   "source": [
    "import requests\n",
    "import pandas as pd\n",
    "import json\n",
    "\n",
    "import util\n",
    "from util import *\n",
    "from IPython.display import Image"
   ]
  },
  {
   "cell_type": "markdown",
   "metadata": {
    "deletable": false,
    "editable": false,
    "nbgrader": {
     "cell_type": "markdown",
     "checksum": "a50ef2cf8c3853ea53077bd2abb137ab",
     "grade": false,
     "grade_id": "cell-64d325612b514ab2",
     "locked": true,
     "schema_version": 3,
     "solution": false,
     "task": false
    }
   },
   "source": [
    "# 05_HW4\n",
    "\n",
    "This is the last homework. You will upload to Notebowl the ipynb file, at least two image files, and a CSV file.\n",
    "\n",
    "## Set Up\n",
    "\n",
    "**Edit `creds.json` Before Starting this Homework**\n",
    "\n",
    "### Record Credentials Information\n",
    "\n",
    "1. In the same folder as this notebook, right-click on `creds.json` and `Open With` and select `Editor`.\n",
    "2. In the `spotify` dictionary entry, put your Client ID, Client Secret, and also your user id (found here: https://www.spotify.com/us/account/overview/).\n",
    "3. **Save the File**\n",
    "4. Run the cell below, which calls a function in the `util` module that simply reads in a particular sub-dictionary within the creds file, and then assigns a global variable `client_id`. The signature for this function is:\n",
    "\n",
    "    `read_creds(key, folder=\".\", file=\"creds.json\")`\n",
    "    \n",
    "   where the second and third parameter give the folder and name for the credentials file.  Since we are using a `creds.json` in the current directory, we only need to specify the key for the sub-dictionary we wish to read.\n",
    "   \n",
    "5. Use the provided `spotify_token.ipynb` to generate tokens as needed to complete this homework (i.e., whenever your token expires, generate a new one and use `spotify_token.ipynb` to update `creds.json`)."
   ]
  },
  {
   "cell_type": "code",
   "execution_count": null,
   "metadata": {
    "deletable": false,
    "nbgrader": {
     "cell_type": "code",
     "checksum": "ca908f8f158fa8ccb107cc008325201d",
     "grade": false,
     "grade_id": "cell-fe28bdd52b96d5ed",
     "locked": false,
     "schema_version": 3,
     "solution": true,
     "task": false
    }
   },
   "outputs": [],
   "source": [
    "# YOUR CODE HERE\n",
    "raise NotImplementedError()"
   ]
  },
  {
   "cell_type": "markdown",
   "metadata": {},
   "source": [
    "**Q1** Study the documentation for the Spotify endpoint `v1/search`. Follow the procedure from class to obtain a Spotify authorization. Then write a function `search_goo()` that uses the authorization to carry out a search for the string \"Goo Goo Dolls\" and where the type is 'artists'. Return the resulting Python data structure. When you invoke `requests.get()` it will need both query parameters and headers. Hint: Spotify provides a nice \"try it yourself\" feature."
   ]
  },
  {
   "cell_type": "code",
   "execution_count": null,
   "metadata": {
    "deletable": false,
    "nbgrader": {
     "cell_type": "code",
     "checksum": "57f2ef99b6f93adc9acb5ab2d53a01cb",
     "grade": false,
     "grade_id": "cell-8a2897e677b39260",
     "locked": false,
     "schema_version": 3,
     "solution": true,
     "task": false
    }
   },
   "outputs": [],
   "source": [
    "# Solution cell\n",
    "\n",
    "# YOUR CODE HERE\n",
    "raise NotImplementedError()\n",
    "\n",
    "#answer = search_goo()\n"
   ]
  },
  {
   "cell_type": "code",
   "execution_count": null,
   "metadata": {
    "deletable": false,
    "editable": false,
    "nbgrader": {
     "cell_type": "code",
     "checksum": "04e56966301812b42f64815d0a5fc72a",
     "grade": true,
     "grade_id": "cell-26fd6b2371ee5d88",
     "locked": true,
     "points": 0,
     "schema_version": 3,
     "solution": false,
     "task": false
    }
   },
   "outputs": [],
   "source": [
    "# Testing cell\n"
   ]
  },
  {
   "cell_type": "code",
   "execution_count": null,
   "metadata": {
    "deletable": false,
    "editable": false,
    "nbgrader": {
     "cell_type": "code",
     "checksum": "9f328bdff208fb924777b1900f2a1442",
     "grade": true,
     "grade_id": "cell-bddb139fc8dadd92",
     "locked": true,
     "points": 4,
     "schema_version": 3,
     "solution": false,
     "task": false
    }
   },
   "outputs": [],
   "source": [
    "# Testing cell\n",
    "assert len(answer) == 1\n",
    "assert(len(answer['artists'])==7)\n",
    "assert(answer['artists']['items'][0]['name']=='The Goo Goo Dolls')"
   ]
  },
  {
   "cell_type": "markdown",
   "metadata": {},
   "source": [
    "**Q2** Now we are going to do a POST request to Spotify, to create a new playlist. Please study the documentation at https://developer.spotify.com/console/post-playlists/, specifically which parameters (in both header and body) are required, and what scope is required for an OAuth token to create a public playlist.\n",
    "\n",
    "1. Log in to your spotify and take a screenshot showing your existing playlists. Modify the cell below to show your screenshot."
   ]
  },
  {
   "cell_type": "code",
   "execution_count": null,
   "metadata": {
    "deletable": false,
    "nbgrader": {
     "cell_type": "code",
     "checksum": "7308640b5100d2f1ab74b3cda6bf870b",
     "grade": true,
     "grade_id": "cell-f2c876c579348297",
     "locked": false,
     "points": 1,
     "schema_version": 3,
     "solution": true,
     "task": false
    }
   },
   "outputs": [],
   "source": [
    "# YOUR CODE HERE\n",
    "raise NotImplementedError()"
   ]
  },
  {
   "cell_type": "markdown",
   "metadata": {},
   "source": [
    "2. Modify the notebook `spotify_token.ipynb` to generate a token with the appropriate scope. This should update your `creds.json`.\n",
    "3. Write code below (in a global cell, not a function) that carries out a POST request to create a playlist with the name 'CS 181 05_HW4 Playlist'. You can experiment with the \"Try It\" button at the API documentation, but in order to pass the test cases you will need to write code below."
   ]
  },
  {
   "cell_type": "code",
   "execution_count": null,
   "metadata": {
    "deletable": false,
    "nbgrader": {
     "cell_type": "code",
     "checksum": "52f95f09842729250d4879db787f4deb",
     "grade": false,
     "grade_id": "cell-8259437a765b3e5d",
     "locked": false,
     "schema_version": 3,
     "solution": true,
     "task": false
    }
   },
   "outputs": [],
   "source": [
    "# Solution cell\n",
    "\n",
    "user_id = \"\" # change this\n",
    "token = \"\" # change this, using spotifycreds\n",
    "\n",
    "\n",
    "# YOUR CODE HERE\n",
    "raise NotImplementedError()\n",
    "\n",
    "results = response.json()\n",
    "json_head(results,50)"
   ]
  },
  {
   "cell_type": "code",
   "execution_count": null,
   "metadata": {
    "deletable": false,
    "editable": false,
    "nbgrader": {
     "cell_type": "code",
     "checksum": "718698792b9604802db1e0154eef551f",
     "grade": true,
     "grade_id": "cell-461dcf8d61e2f9ed",
     "locked": true,
     "points": 4,
     "schema_version": 3,
     "solution": false,
     "task": false
    }
   },
   "outputs": [],
   "source": [
    "assert results['name'] == 'CS 181 05_HW4 Playlist'\n",
    "assert results['owner']['id'] == user_id\n",
    "assert token in headerD['Authorization']\n",
    "assert 'description' in results"
   ]
  },
  {
   "cell_type": "markdown",
   "metadata": {},
   "source": [
    "4. Take a screenshot from the user side, showing that the client (your code above) successfully created that playlist. Replace the image below with your screenshot."
   ]
  },
  {
   "cell_type": "code",
   "execution_count": null,
   "metadata": {
    "deletable": false,
    "nbgrader": {
     "cell_type": "code",
     "checksum": "476d4796d84d3be07db5035db625bb9d",
     "grade": true,
     "grade_id": "cell-4fd1b7deed446903",
     "locked": false,
     "points": 1,
     "schema_version": 3,
     "solution": true,
     "task": false
    }
   },
   "outputs": [],
   "source": [
    "# YOUR CODE HERE\n",
    "raise NotImplementedError()"
   ]
  },
  {
   "cell_type": "markdown",
   "metadata": {},
   "source": [
    "**Q3** In this problem you will apply what you've learned in Section 5 of the course. You will select a Web API, obtain any credentials needed, and obtain data from the API. The selected provider must require Authentication and Delegated Authorization (OAuth 2) to enable access to data not available to an anonymous user for at least some subset of the data. You can find a list of APIs here: https://any-api.com/, and you can search for APIs here: http://apis.io/. Please select an API different from those we have already studied, and, by reading through the documentation, please select one that involves OAuth. Then, work through the steps required to get the credentials you need for make a request for data using the `requests` module. Select data you are interested in and read it into a `pandas` dataframe. Then use the `to_csv()` function to write your `pandas` dataframe to a CSV file that you will upload along with your homework. You can read about this function here: https://pandas.pydata.org/pandas-docs/stable/reference/api/pandas.DataFrame.to_csv.html"
   ]
  },
  {
   "cell_type": "markdown",
   "metadata": {},
   "source": [
    "1. In the next cell (a markdown cell), please describe precisely the process you had to do in order to extract data from your chosen API. Please use the text in the book (discussion of TMDB), and in `spotify_token.ipynb` as a template. Make it so that we could replicate your process if we needed to. Include links, and update the `creds.json` document with credentials as you get them. Please also link to the terms of use document, or upload it along with the rest of your homework."
   ]
  },
  {
   "cell_type": "markdown",
   "metadata": {
    "deletable": false,
    "nbgrader": {
     "cell_type": "markdown",
     "checksum": "22817dc44966aa20cdf30542b779080e",
     "grade": true,
     "grade_id": "cell-d1fae9a619092e42",
     "locked": false,
     "points": 4,
     "schema_version": 3,
     "solution": true,
     "task": false
    }
   },
   "source": [
    "YOUR ANSWER HERE"
   ]
  },
  {
   "cell_type": "markdown",
   "metadata": {},
   "source": [
    "2. In the next cell, please put code that handles the cells/steps needed to get an access token.  For the most part, these steps only need be executed one time, to go from first registration of a client with a provider to the point where an access token is received (nominally Step 8 of the OAuth Dance).  If tokens need to be refreshed, then the cell(s) needed to refresh a token could be here as well. You can add more cells as needed."
   ]
  },
  {
   "cell_type": "code",
   "execution_count": null,
   "metadata": {
    "deletable": false,
    "nbgrader": {
     "cell_type": "code",
     "checksum": "64b87ca62b4f479f23ea995e2e8946d7",
     "grade": true,
     "grade_id": "cell-510040fcb09d7f80",
     "locked": false,
     "points": 4,
     "schema_version": 3,
     "solution": true,
     "task": false
    }
   },
   "outputs": [],
   "source": [
    "# YOUR CODE HERE\n",
    "raise NotImplementedError()"
   ]
  },
  {
   "cell_type": "markdown",
   "metadata": {},
   "source": [
    "3. The next cell is a code cell. Please put code there that reads in credentials from `creds.json` (updated by the cell above), then formulates a correct request for data from your chosen API, then reads that data into pandas, and finishes with the `to_csv` command. Your code should start from the premise of a valid token/apikey and do the steps required for acquiring and organizing the data from the provider. The cell should detect and handle errors from the server, including, but not limited to, handling an expired token. "
   ]
  },
  {
   "cell_type": "code",
   "execution_count": null,
   "metadata": {
    "deletable": false,
    "nbgrader": {
     "cell_type": "code",
     "checksum": "a10e5a0dfde3265e6f77ac26f711fe1f",
     "grade": true,
     "grade_id": "cell-2956a65c4e71b1ab",
     "locked": false,
     "points": 4,
     "schema_version": 3,
     "solution": true,
     "task": false
    }
   },
   "outputs": [],
   "source": [
    "# YOUR CODE HERE\n",
    "raise NotImplementedError()"
   ]
  }
 ],
 "metadata": {
  "kernelspec": {
   "display_name": "Python 3",
   "language": "python",
   "name": "python3"
  },
  "language_info": {
   "codemirror_mode": {
    "name": "ipython",
    "version": 3
   },
   "file_extension": ".py",
   "mimetype": "text/x-python",
   "name": "python",
   "nbconvert_exporter": "python",
   "pygments_lexer": "ipython3",
   "version": "3.7.7"
  }
 },
 "nbformat": 4,
 "nbformat_minor": 4
}
