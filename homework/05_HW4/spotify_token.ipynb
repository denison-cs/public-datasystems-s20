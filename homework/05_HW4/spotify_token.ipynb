{
 "cells": [
  {
   "cell_type": "markdown",
   "metadata": {},
   "source": [
    "Before you turn this problem in, make sure everything runs as expected. First, **restart the kernel** (in the menubar, select Kernel$\\rightarrow$Restart) and then **run all cells** (in the menubar, select Cell$\\rightarrow$Run All).\n",
    "\n",
    "Make sure you fill in any place that says `YOUR CODE HERE`/`raise NotImplementedError` or \"YOUR ANSWER HERE\", as well as your name and collaborators below:"
   ]
  },
  {
   "cell_type": "code",
   "execution_count": null,
   "metadata": {},
   "outputs": [],
   "source": [
    "import os.path\n",
    "import json\n",
    "import importlib\n",
    "import requests\n",
    "import webbrowser\n",
    "import base64\n",
    "from datetime import datetime, timedelta\n",
    "from requests.auth import HTTPBasicAuth\n",
    "\n",
    "import util\n",
    "from util import *"
   ]
  },
  {
   "cell_type": "code",
   "execution_count": null,
   "metadata": {},
   "outputs": [],
   "source": [
    "importlib.reload(util)\n",
    "from util import *"
   ]
  },
  {
   "cell_type": "markdown",
   "metadata": {},
   "source": [
    "## Set Up\n",
    "\n",
    "Step by step instructions are at the following link, in case any of the steps below are unclear to you. Note that part of what you are learning here is how to figure these things out for yourself.\n",
    "\n",
    "https://developer.spotify.com/documentation/web-api/quick-start/\n",
    "\n",
    "0. Register for a Spotify account.  Ok for it to be a free account, not a premium one.\n",
    "\n",
    "### Spotify Developer Steps\n",
    "\n",
    "1. Go to https://developer.spotify.com/dashboard/login\n",
    "2. On the Dashboard, use the `Create A Client ID` or, equivalently, click the `My New App` template box.\n",
    "3.In Step 1 of 3\n",
    "    - Name your app something like: `cs181-<login>`, using your Denison login.\n",
    "    - Add whatever description you like.\n",
    "    - Check `Desktop App` in answer to the question *\"What are you building?*\n",
    "    - Click `Next`\n",
    "3. In Step 2 of 3, Select `Non-Commercial`\n",
    "4. In Step 3 of 3, Click all three acknowledgement check boxes and Click `Submit`\n",
    "    - You should see a message that your application has been created, and be on a page dedicated to that application.\n",
    "5. Click the `Edit Settings` button and fill in the form as follows:\n",
    "    - For `Website`, I use `https://personal.denison.edu/~bressoud/datasystems`.  You can use the same, or you can use some other web site that you are affiliated with.  For some API providers, they check to see if the web site exists.\n",
    "    - For `Redirect URIs`, enter `https://caileighmarshall.github.io/cs181project/` (including the trailing slash), and click `Add`.\n",
    "    - Click `Save` to save your application settings edits.\n",
    "6. On your application page, click `Show Client Secret`, and leave the page up for the next set of steps.\n",
    "\n",
    "### Record Credentials Information\n",
    "\n",
    "1. In the same folder as this notebook, right-click on `creds.json` and `Open With` and select `Editor`.\n",
    "2. Verify that, for the `\"spotify\"` entry, that the `\"redirect_uri\"` entry has the value `\"https://caileighmarshall.github.io/cs181project/\"`.\n",
    "3. For the `\"client_id\"` entry, copy and paste the 32 character `Client ID` from your Application Dashboard as a string for that entry.\n",
    "4. For the `\"client_secret\"` entry, copy and paste the 32 character `Client Secret` from your Application Dashboard as a string for that entry.\n",
    "5. Save your changes to the `creds.json` file.  You may want to open it using the JSON navigator to make sure your JSON syntax is correct.\n",
    "\n",
    "If the `read_creds()` function invocation in the cell below is not successful, check your steps again."
   ]
  },
  {
   "cell_type": "code",
   "execution_count": null,
   "metadata": {},
   "outputs": [],
   "source": [
    "creds = read_creds(\"spotify\")"
   ]
  },
  {
   "cell_type": "markdown",
   "metadata": {},
   "source": [
    "## Construct URL\n",
    "\n",
    "The following three cells construct a URL.  An HTTP GET would be performed at this URL **by the Resource Owner**, taking them to a `Spotify` authentication and dialog, where they are asked if they approve of a particular application being able to perform certain categories of operations with their (the resource owner's) Spotify account.  The user can either approve, or can deny the application the ability to do these operations.\n",
    "\n",
    "Run these three cells, and at the third one, you are effectively \"Switching Roles\" from being the application (in this notebook), and are transitioning to being the User/Resource Owner and interacting directly with the Provider, Spotify."
   ]
  },
  {
   "cell_type": "code",
   "execution_count": null,
   "metadata": {},
   "outputs": [],
   "source": [
    "state = random_string()\n",
    "creds['state'] = state\n",
    "update_creds(\"spotify\", creds)"
   ]
  },
  {
   "cell_type": "code",
   "execution_count": null,
   "metadata": {},
   "outputs": [],
   "source": [
    "url = buildURL(\"/authorize\", \"accounts.spotify.com\")\n",
    "s = requests.Session()\n",
    "\n",
    "scopes = \"\"\n",
    "paramsD = {\n",
    "    'client_id': creds['client_id'],\n",
    "    'response_type': 'code',\n",
    "    'redirect_uri': creds['redirect_uri'],\n",
    "    'state': creds['state'],\n",
    "    'show_dialog': 'true'\n",
    "}\n",
    "if scopes != \"\":\n",
    "    paramsD['scope'] = scopes"
   ]
  },
  {
   "cell_type": "code",
   "execution_count": null,
   "metadata": {},
   "outputs": [],
   "source": [
    "req = requests.Request('GET', url, params=paramsD)\n",
    "\n",
    "prepped = s.prepare_request(req)\n",
    "user_url = prepped.url\n",
    "print(user_url)"
   ]
  },
  {
   "cell_type": "markdown",
   "metadata": {},
   "source": [
    "> After you run the next cell, and you (presumably) approve (i.e. you give delegated authority to the application), you will be redirected to the `redirect_uri` site. When you get there, copy the long string of characters, called a `code` and displayed in red, and then come back to this notebook."
   ]
  },
  {
   "cell_type": "code",
   "execution_count": null,
   "metadata": {},
   "outputs": [],
   "source": [
    "webbrowser.open(user_url)"
   ]
  },
  {
   "cell_type": "markdown",
   "metadata": {},
   "source": [
    "## Communicate Code from User to App"
   ]
  },
  {
   "cell_type": "markdown",
   "metadata": {},
   "source": [
    "For a regular application, the `redirect_uri` would take the resource owner to a web server under the control of the app, which would take the `code` provided, and put it in a database.\n",
    "\n",
    "We simulate that with copy-and-paste.\n",
    "\n",
    "Copy the code between the string delimiters, and then execute the following cell."
   ]
  },
  {
   "cell_type": "code",
   "execution_count": null,
   "metadata": {},
   "outputs": [],
   "source": [
    "code = \"\""
   ]
  },
  {
   "cell_type": "markdown",
   "metadata": {},
   "source": [
    "Our Equivalent of conveying, through the user, the code generated by the provider and approved by the user, and storing it in our \"database\" of our credentials file."
   ]
  },
  {
   "cell_type": "code",
   "execution_count": null,
   "metadata": {},
   "outputs": [],
   "source": [
    "creds['code'] = code\n",
    "update_creds(\"spotify\", creds)"
   ]
  },
  {
   "cell_type": "markdown",
   "metadata": {},
   "source": [
    "## Exchange Code for Token and Refresh Token"
   ]
  },
  {
   "cell_type": "markdown",
   "metadata": {},
   "source": [
    "The `code` is not enough.  Although the app has the code, and it has been securely coveyed via an authenticated user, the application must securely authenticate and interact with the provider to obtain the `token`, which is then sufficient for API requests."
   ]
  },
  {
   "cell_type": "code",
   "execution_count": null,
   "metadata": {},
   "outputs": [],
   "source": [
    "url = buildURL(\"/api/token\", \"accounts.spotify.com\")\n",
    "s = requests.Session()\n",
    "\n",
    "formD = {\n",
    "    'grant_type': 'authorization_code',\n",
    "    'code': creds['code'],\n",
    "    'redirect_uri': creds['redirect_uri'],\n",
    "    'client_id': creds['client_id'],\n",
    "    'client_secret': creds['client_secret']\n",
    "}"
   ]
  },
  {
   "cell_type": "code",
   "execution_count": null,
   "metadata": {},
   "outputs": [],
   "source": [
    "req = requests.Request('POST', url, data=formD)\n",
    "\n",
    "prepped = s.prepare_request(req)"
   ]
  },
  {
   "cell_type": "code",
   "execution_count": null,
   "metadata": {},
   "outputs": [],
   "source": [
    "prepped.url"
   ]
  },
  {
   "cell_type": "code",
   "execution_count": null,
   "metadata": {},
   "outputs": [],
   "source": [
    "prepped.body"
   ]
  },
  {
   "cell_type": "code",
   "execution_count": null,
   "metadata": {},
   "outputs": [],
   "source": [
    "response = s.send(prepped)\n",
    "if response.status_code != 200:\n",
    "    print(\"Error.  Status code:\", response.status_code)\n",
    "    print(response.text)"
   ]
  },
  {
   "cell_type": "code",
   "execution_count": null,
   "metadata": {},
   "outputs": [],
   "source": [
    "print(response.json())"
   ]
  },
  {
   "cell_type": "code",
   "execution_count": null,
   "metadata": {},
   "outputs": [],
   "source": [
    "tokenD = response.json()"
   ]
  },
  {
   "cell_type": "markdown",
   "metadata": {},
   "source": [
    "We then update our \"database\" with the `access_token` and the other information needed to make data requests:"
   ]
  },
  {
   "cell_type": "code",
   "execution_count": null,
   "metadata": {},
   "outputs": [],
   "source": [
    "creds['token'] = tokenD['access_token']\n",
    "creds['refresh'] = tokenD['refresh_token']\n",
    "creds['scope'] = tokenD['scope']\n",
    "expiration = datetime.now() + timedelta(seconds=tokenD['expires_in'])\n",
    "creds['expires'] = str(expiration)\n",
    "update_creds(\"spotify\", creds)"
   ]
  },
  {
   "cell_type": "markdown",
   "metadata": {},
   "source": [
    "## Try Out Token\n",
    "\n",
    "The following cell is like other API requests we have seen, we set up an endpoing and a location, and, in addition to any other request parameters we might need as Path Parameters, Query Parameters, Header Parameters, or POST-body Parameters, we include a Header parameter, where the header name is `Authorization`, and the value is `\"Bearer <access_token>\"`.  While other providers that use OAuth2 for delegated authority must have a request parameter that conveys the access token, it could take a different form, like a query parameter, for instance."
   ]
  },
  {
   "cell_type": "code",
   "execution_count": null,
   "metadata": {},
   "outputs": [],
   "source": [
    "creds = read_creds(\"spotify\")\n",
    "assert 'token' in creds"
   ]
  },
  {
   "cell_type": "code",
   "execution_count": null,
   "metadata": {},
   "outputs": [],
   "source": [
    "my_token = creds['token']"
   ]
  },
  {
   "cell_type": "code",
   "execution_count": null,
   "metadata": {},
   "outputs": [],
   "source": [
    "location = \"api.spotify.com\"\n",
    "resource_path = \"/v1/me\"\n",
    "url = buildURL(resource_path, location)\n",
    "\n",
    "authHeader = \"Bearer {}\".format(my_token)\n",
    "headerD = {\"Authorization\": authHeader}\n",
    "\n",
    "response=requests.get(url, headers=headerD)\n",
    "if response.status_code != 200:\n",
    "    print(\"Error.  Status code:\", response.status_code)\n",
    "    print(response.text)"
   ]
  },
  {
   "cell_type": "code",
   "execution_count": null,
   "metadata": {},
   "outputs": [],
   "source": [
    "response.json()"
   ]
  },
  {
   "cell_type": "markdown",
   "metadata": {},
   "source": [
    "## Refresh Token"
   ]
  },
  {
   "cell_type": "code",
   "execution_count": null,
   "metadata": {},
   "outputs": [],
   "source": [
    "creds = read_creds(\"spotify\")\n",
    "assert 'token' in creds\n",
    "assert 'refresh' in creds\n",
    "\n",
    "location = \"accounts.spotify.com\"\n",
    "resource_path = \"/api/token\"\n",
    "url = buildURL(resource_path, location)\n",
    "\n",
    "auth = HTTPBasicAuth(creds['client_id'], creds['client_secret'])\n",
    "bodyD = {\n",
    "    'grant_type': 'refresh_token',\n",
    "    'refresh_token': creds['refresh']\n",
    "}\n",
    "\n",
    "response = requests.post(url, auth=auth, data=bodyD)\n",
    "if response.status_code != 200:\n",
    "    print(\"Error.  Status code:\", response.status_code)\n",
    "    print(response.text)"
   ]
  },
  {
   "cell_type": "code",
   "execution_count": null,
   "metadata": {},
   "outputs": [],
   "source": [
    "response.json()"
   ]
  },
  {
   "cell_type": "code",
   "execution_count": null,
   "metadata": {},
   "outputs": [],
   "source": [
    "creds['token'] = tokenD['access_token']\n",
    "del creds['refresh']\n",
    "creds['scope'] = tokenD['scope']\n",
    "expiration = datetime.now() + timedelta(seconds=tokenD['expires_in'])\n",
    "creds['expires'] = str(expiration)\n",
    "update_creds(\"spotify\", creds)"
   ]
  },
  {
   "cell_type": "code",
   "execution_count": null,
   "metadata": {},
   "outputs": [],
   "source": []
  }
 ],
 "metadata": {
  "kernelspec": {
   "display_name": "Python 3",
   "language": "python",
   "name": "python3"
  },
  "language_info": {
   "codemirror_mode": {
    "name": "ipython",
    "version": 3
   },
   "file_extension": ".py",
   "mimetype": "text/x-python",
   "name": "python",
   "nbconvert_exporter": "python",
   "pygments_lexer": "ipython3",
   "version": "3.7.7"
  }
 },
 "nbformat": 4,
 "nbformat_minor": 4
}
