{
 "cells": [
  {
   "cell_type": "markdown",
   "metadata": {},
   "source": [
    "Before you turn this problem in, make sure everything runs as expected. First, **restart the kernel** (in the menubar, select Kernel$\\rightarrow$Restart) and then **run all cells** (in the menubar, select Cell$\\rightarrow$Run All).\n",
    "\n",
    "Make sure you fill in any place that says `YOUR CODE HERE`/`raise NotImplementedError` or \"YOUR ANSWER HERE\", as well as your name and collaborators below:"
   ]
  },
  {
   "cell_type": "markdown",
   "metadata": {},
   "source": [
    "# 04_HW2: XPath"
   ]
  },
  {
   "cell_type": "markdown",
   "metadata": {},
   "source": [
    "> **In the questions that follow, we are looking for XPath declarative solutions to the problems, not procedural solutions.  You will only get 1/2 credit for procedural solutions.**\n",
    "\n",
    "Please begin by importing whatever modules you need, reading in and parsing the relevant datasets, and familiarizing yourself with them."
   ]
  },
  {
   "cell_type": "markdown",
   "metadata": {},
   "source": [
    "**Q1:** Using the provided `bookstore.xml` file, create a Python list called \"books\" containing the **titles** of all books. Your list `books` should be a list of strings."
   ]
  },
  {
   "cell_type": "code",
   "execution_count": null,
   "metadata": {
    "deletable": false,
    "nbgrader": {
     "cell_type": "code",
     "checksum": "c261fcec0f1f7b0b618e1ede1eff49f9",
     "grade": false,
     "grade_id": "q3a",
     "locked": false,
     "schema_version": 3,
     "solution": true
    }
   },
   "outputs": [],
   "source": [
    "# Solution cell\n",
    "books = []\n",
    "# YOUR CODE HERE\n",
    "raise NotImplementedError()\n",
    "print(books)\n",
    "type(books[0])"
   ]
  },
  {
   "cell_type": "code",
   "execution_count": null,
   "metadata": {
    "deletable": false,
    "editable": false,
    "nbgrader": {
     "cell_type": "code",
     "checksum": "fe25f27b5e0d3004413b1d51c0e06270",
     "grade": true,
     "grade_id": "q3a1",
     "locked": true,
     "points": 2,
     "schema_version": 3,
     "solution": false
    }
   },
   "outputs": [],
   "source": [
    "assert len(books) > 0 and type(books[0]) is etree._ElementUnicodeResult\n",
    "assert 'Lover Birds' in books and 'Splish Splash' in books\n",
    "assert len(books)==12"
   ]
  },
  {
   "cell_type": "markdown",
   "metadata": {},
   "source": [
    "**Q2:** Create a list of books ids named `less` that cost less than `$6`. Note that `id` is an attribute."
   ]
  },
  {
   "cell_type": "code",
   "execution_count": null,
   "metadata": {
    "deletable": false,
    "nbgrader": {
     "cell_type": "code",
     "checksum": "5c950acc3b336f348b60db143c0859de",
     "grade": false,
     "grade_id": "q3b",
     "locked": false,
     "schema_version": 3,
     "solution": true
    }
   },
   "outputs": [],
   "source": [
    "# Solution cell\n",
    "less = []\n",
    "# YOUR CODE HERE\n",
    "raise NotImplementedError()\n",
    "less"
   ]
  },
  {
   "cell_type": "code",
   "execution_count": null,
   "metadata": {
    "deletable": false,
    "editable": false,
    "nbgrader": {
     "cell_type": "code",
     "checksum": "308bcd2add1d8c2f1d348fc06bf440d0",
     "grade": true,
     "grade_id": "q3b1",
     "locked": true,
     "points": 2,
     "schema_version": 3,
     "solution": false
    }
   },
   "outputs": [],
   "source": [
    "assert len(less) > 0 and type(less[0]) is etree._ElementUnicodeResult\n",
    "assert 'bk104' in less\n",
    "assert 'bk101' not in less\n",
    "assert len(less)==7"
   ]
  },
  {
   "cell_type": "markdown",
   "metadata": {},
   "source": [
    "**Q3:** Create a list of book titles called \"eva\" where Eva Corets was the author. Your list `eva` should be a list of strings."
   ]
  },
  {
   "cell_type": "code",
   "execution_count": null,
   "metadata": {
    "deletable": false,
    "nbgrader": {
     "cell_type": "code",
     "checksum": "f5fdb1f3a5e13cf2cca8e6c1bf301b38",
     "grade": false,
     "grade_id": "q3c",
     "locked": false,
     "schema_version": 3,
     "solution": true
    }
   },
   "outputs": [],
   "source": [
    "# Solution cell\n",
    "eva = []\n",
    "# YOUR CODE HERE\n",
    "raise NotImplementedError()\n",
    "eva"
   ]
  },
  {
   "cell_type": "code",
   "execution_count": null,
   "metadata": {
    "deletable": false,
    "editable": false,
    "nbgrader": {
     "cell_type": "code",
     "checksum": "ea8c80402c53f3e5dc3bb7ff567ac208",
     "grade": true,
     "grade_id": "q3c1",
     "locked": true,
     "points": 2,
     "schema_version": 3,
     "solution": false
    }
   },
   "outputs": [],
   "source": [
    "assert len(eva) > 0 and type(eva[0]) is etree._ElementUnicodeResult\n",
    "assert len(eva)==3\n",
    "assert 'Maeve Ascendant' in eva\n",
    "assert 'Paradox Lost' not in eva"
   ]
  },
  {
   "cell_type": "markdown",
   "metadata": {},
   "source": [
    "**Q4:** Find the average book price for all books that are not fantasy in this file, assigning to variable `avgprice`. **Hints** First, use XPath to get a list of the price strings (text) based on a single XPath query.  Then use a list comprehension to build a list of `float` values converting the strings to real-valued numbers.  Finally, perform the average based on the values and length of the list."
   ]
  },
  {
   "cell_type": "code",
   "execution_count": null,
   "metadata": {
    "deletable": false,
    "nbgrader": {
     "cell_type": "code",
     "checksum": "fb772ecc2cb0e0d239231cd23cffa611",
     "grade": false,
     "grade_id": "q3d",
     "locked": false,
     "schema_version": 3,
     "solution": true
    }
   },
   "outputs": [],
   "source": [
    "# Solution cell\n",
    "avgprice = 0\n",
    "# YOUR CODE HERE\n",
    "raise NotImplementedError()\n",
    "avgprice"
   ]
  },
  {
   "cell_type": "code",
   "execution_count": null,
   "metadata": {
    "deletable": false,
    "editable": false,
    "nbgrader": {
     "cell_type": "code",
     "checksum": "851e2770957af3bfc7fe411a376c3f1e",
     "grade": true,
     "grade_id": "cell-431b0c49edcca411",
     "locked": true,
     "points": 2,
     "schema_version": 3,
     "solution": false
    }
   },
   "outputs": [],
   "source": [
    "assert(avgprice > 23.82)\n",
    "assert(avgprice < 24)"
   ]
  },
  {
   "cell_type": "markdown",
   "metadata": {},
   "source": [
    "**Q5:** Create a list called `lessFantasy` containing the titles of the books where the price is under `$40` and not in the fantasy genre."
   ]
  },
  {
   "cell_type": "code",
   "execution_count": null,
   "metadata": {
    "deletable": false,
    "nbgrader": {
     "cell_type": "code",
     "checksum": "0bab880e05dffc921978d7a55ac01e1a",
     "grade": false,
     "grade_id": "q3e",
     "locked": false,
     "schema_version": 3,
     "solution": true
    }
   },
   "outputs": [],
   "source": [
    "# Solution cell\n",
    "lessFantasy = []\n",
    "# YOUR CODE HERE\n",
    "raise NotImplementedError()\n",
    "lessFantasy"
   ]
  },
  {
   "cell_type": "code",
   "execution_count": null,
   "metadata": {
    "deletable": false,
    "editable": false,
    "nbgrader": {
     "cell_type": "code",
     "checksum": "909a43b3312e5641738c4534ee94b526",
     "grade": true,
     "grade_id": "q3e1",
     "locked": true,
     "points": 2,
     "schema_version": 3,
     "solution": false
    }
   },
   "outputs": [],
   "source": [
    "assert len(lessFantasy)==6\n",
    "assert 'Paradox Lost' in lessFantasy\n",
    "assert 'Maeve Ascendant' not in lessFantasy"
   ]
  },
  {
   "cell_type": "markdown",
   "metadata": {},
   "source": [
    "**Q6:** Using `countries.xml`, generate a list of all the countries in the `countries.xml` file, assigning to a variable `countries`; then assign the number of countries to the variable `countrycount`. When you read in and parse the file, please name the root element `croot`."
   ]
  },
  {
   "cell_type": "code",
   "execution_count": null,
   "metadata": {
    "deletable": false,
    "nbgrader": {
     "cell_type": "code",
     "checksum": "48b42137d9d9035be993d9830d427688",
     "grade": false,
     "grade_id": "q4a",
     "locked": false,
     "schema_version": 3,
     "solution": true
    }
   },
   "outputs": [],
   "source": [
    "# Solution cell\n",
    "# YOUR CODE HERE\n",
    "raise NotImplementedError()"
   ]
  },
  {
   "cell_type": "code",
   "execution_count": null,
   "metadata": {
    "deletable": false,
    "editable": false,
    "nbgrader": {
     "cell_type": "code",
     "checksum": "e1324e63fb9ec80ec876b4747edafce1",
     "grade": true,
     "grade_id": "cell-a99f77ad878ec7b1",
     "locked": true,
     "points": 2,
     "schema_version": 3,
     "solution": false
    }
   },
   "outputs": [],
   "source": [
    "assert(countrycount == 231)\n",
    "assert('Uruguay' in countries)\n",
    "assert type(croot) is etree._Element"
   ]
  },
  {
   "cell_type": "markdown",
   "metadata": {},
   "source": [
    "**Q7:** Write a function `findPop(root,country)` that finds the population of a given `country` in the dataset `countries.xml`. Use an XPath expression and a format string. Return your answer as an integer."
   ]
  },
  {
   "cell_type": "code",
   "execution_count": null,
   "metadata": {
    "deletable": false,
    "nbgrader": {
     "cell_type": "code",
     "checksum": "9963c4324ecefbe50b235b097d4def76",
     "grade": false,
     "grade_id": "q4c",
     "locked": false,
     "schema_version": 3,
     "solution": true
    }
   },
   "outputs": [],
   "source": [
    "# Solution cell\n",
    "# YOUR CODE HERE\n",
    "raise NotImplementedError()"
   ]
  },
  {
   "cell_type": "code",
   "execution_count": null,
   "metadata": {
    "deletable": false,
    "editable": false,
    "nbgrader": {
     "cell_type": "code",
     "checksum": "8fb10a62ee3395dec69af20fd033c3ad",
     "grade": true,
     "grade_id": "q4c1",
     "locked": true,
     "points": 2,
     "schema_version": 3,
     "solution": false,
     "task": false
    }
   },
   "outputs": [],
   "source": [
    "# Testing cell\n",
    "assert findPop(croot,'Cuba') == 10951334\n",
    "assert findPop(croot,'Uruguay') == 3238952"
   ]
  },
  {
   "cell_type": "markdown",
   "metadata": {},
   "source": [
    "**Q8:** Create a list named \"german50\" with the **names** of all countries where over 50% of the population speaks German.  This one is more challenging, and may take some additional investigation to do it with just xpath.  Hint1: In a conditional predicate (`[ ]`), we can use `text()` to refer to the text of the current element.  Hint2: Once we get the right \"set\" of traversals, we can continue to build our path to get the desired set of information."
   ]
  },
  {
   "cell_type": "code",
   "execution_count": null,
   "metadata": {
    "deletable": false,
    "nbgrader": {
     "cell_type": "code",
     "checksum": "37115ed08ab97a2ffc11bb58d197aae9",
     "grade": false,
     "grade_id": "q4e",
     "locked": false,
     "schema_version": 3,
     "solution": true
    }
   },
   "outputs": [],
   "source": [
    "# Solution cell\n",
    "# YOUR CODE HERE\n",
    "raise NotImplementedError()"
   ]
  },
  {
   "cell_type": "code",
   "execution_count": null,
   "metadata": {
    "deletable": false,
    "editable": false,
    "nbgrader": {
     "cell_type": "code",
     "checksum": "1161b2fd4682023db959673a5de0df79",
     "grade": true,
     "grade_id": "q4e1",
     "locked": true,
     "points": 2,
     "schema_version": 3,
     "solution": false
    }
   },
   "outputs": [],
   "source": [
    "assert len(german50)==3\n",
    "assert type(german50[0]) is etree._ElementUnicodeResult"
   ]
  },
  {
   "cell_type": "markdown",
   "metadata": {},
   "source": [
    "**Q9:** Study the `countries` data carefully. Then use the `position()` function to create a node set consisting of, for countries in positions 5-55 inclusive, the population of the second city listed, if there are at least two cities listed. For example, nothing is in the node set for Aruba (no cities listed) or Armenia (only Yerevan listed), but Cordoba is in the node set thanks to Argentina. Your answer should use a single XPath expression. Please store the results in a list `secondPops` of integers."
   ]
  },
  {
   "cell_type": "code",
   "execution_count": null,
   "metadata": {
    "deletable": false,
    "nbgrader": {
     "cell_type": "code",
     "checksum": "90d955df22db26e3fc660abca2efc6bb",
     "grade": false,
     "grade_id": "cell-9cdf563633105d69",
     "locked": false,
     "schema_version": 3,
     "solution": true,
     "task": false
    }
   },
   "outputs": [],
   "source": [
    "# YOUR CODE HERE\n",
    "raise NotImplementedError()"
   ]
  },
  {
   "cell_type": "code",
   "execution_count": null,
   "metadata": {
    "deletable": false,
    "nbgrader": {
     "cell_type": "code",
     "checksum": "62a6d174f7cbfec6d12d2d6058dd8b51",
     "grade": true,
     "grade_id": "cell-c8e11dca9ab80a40",
     "locked": false,
     "points": 2,
     "schema_version": 3,
     "solution": true
    }
   },
   "outputs": [],
   "source": [
    "# YOUR CODE HERE\n",
    "raise NotImplementedError()"
   ]
  },
  {
   "cell_type": "markdown",
   "metadata": {},
   "source": [
    "**Q10:** With reference to the `topnames` dataset, please find all years where the top female name started with an M and the count was strictly larger than 50,000. Please navigate to the appropriate attribute, rather than returning a list of elements."
   ]
  },
  {
   "cell_type": "code",
   "execution_count": null,
   "metadata": {
    "deletable": false,
    "nbgrader": {
     "cell_type": "code",
     "checksum": "abfbd3e61b4482468fe4dd2a8385f63e",
     "grade": false,
     "grade_id": "cell-8ae34923d3f049b5",
     "locked": false,
     "schema_version": 3,
     "solution": true,
     "task": false
    }
   },
   "outputs": [],
   "source": [
    "# YOUR CODE HERE\n",
    "raise NotImplementedError()\n"
   ]
  },
  {
   "cell_type": "code",
   "execution_count": null,
   "metadata": {
    "deletable": false,
    "editable": false,
    "nbgrader": {
     "cell_type": "code",
     "checksum": "516f917745e3de95a2dd061792dbae4d",
     "grade": true,
     "grade_id": "cell-64822d9577e1ac2b",
     "locked": true,
     "points": 2,
     "schema_version": 3,
     "solution": false,
     "task": false
    }
   },
   "outputs": [],
   "source": [
    "assert nodeset[0] == '1915'\n",
    "assert len(nodeset) == 78"
   ]
  }
 ],
 "metadata": {
  "kernelspec": {
   "display_name": "Python 3",
   "language": "python",
   "name": "python3"
  },
  "language_info": {
   "codemirror_mode": {
    "name": "ipython",
    "version": 3
   },
   "file_extension": ".py",
   "mimetype": "text/x-python",
   "name": "python",
   "nbconvert_exporter": "python",
   "pygments_lexer": "ipython3",
   "version": "3.7.6"
  }
 },
 "nbformat": 4,
 "nbformat_minor": 4
}
