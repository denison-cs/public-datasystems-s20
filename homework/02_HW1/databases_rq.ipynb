{
 "cells": [
  {
   "cell_type": "markdown",
   "metadata": {},
   "source": [
    "Before you turn this problem in, make sure everything runs as expected. First, **restart the kernel** (in the menubar, select Kernel$\\rightarrow$Restart) and then **run all cells** (in the menubar, select Cell$\\rightarrow$Run All).\n",
    "\n",
    "Make sure you fill in any place that says `YOUR CODE HERE`/`raise NotImplementedError` or \"YOUR ANSWER HERE\", as well as your name and collaborators below:"
   ]
  },
  {
   "cell_type": "markdown",
   "metadata": {
    "deletable": false,
    "editable": false,
    "nbgrader": {
     "cell_type": "markdown",
     "checksum": "83536f9aa5c1ec5464b2c683bd063166",
     "grade": false,
     "grade_id": "cell-65667fd5517f8f8e",
     "locked": true,
     "schema_version": 3,
     "solution": false,
     "task": false
    }
   },
   "source": [
    "**Q1** Give a real-world example, different from any in the reading, of a situation where it might be important for many different individuals to have access to the same database."
   ]
  },
  {
   "cell_type": "markdown",
   "metadata": {
    "deletable": false,
    "nbgrader": {
     "cell_type": "markdown",
     "checksum": "37a3f4b0892397986aa4d891013c14ca",
     "grade": true,
     "grade_id": "cell-f0b3d0bb4ac5045f",
     "locked": false,
     "points": 1,
     "schema_version": 3,
     "solution": true,
     "task": false
    }
   },
   "source": [
    "YOUR ANSWER HERE"
   ]
  },
  {
   "cell_type": "markdown",
   "metadata": {
    "deletable": false,
    "editable": false,
    "nbgrader": {
     "cell_type": "markdown",
     "checksum": "4b801af838fb249142ebdaf715a02bfa",
     "grade": false,
     "grade_id": "cell-1f3d628445d8da22",
     "locked": true,
     "schema_version": 3,
     "solution": false,
     "task": false
    }
   },
   "source": [
    "**Q2** Give a real-world example, based on your experience of a time you shared an electronic resource or document with another person, of how a system you've used has handled consistency. What happened if two users tried to update it at the same time? What if users made changes while offline, and syncing was only possible when both came back online? "
   ]
  },
  {
   "cell_type": "markdown",
   "metadata": {
    "deletable": false,
    "nbgrader": {
     "cell_type": "markdown",
     "checksum": "f4549f8448de5f3dfc9de23684ec696c",
     "grade": true,
     "grade_id": "cell-637305c59facaf78",
     "locked": false,
     "points": 1,
     "schema_version": 3,
     "solution": true,
     "task": false
    }
   },
   "source": [
    "YOUR ANSWER HERE"
   ]
  },
  {
   "cell_type": "markdown",
   "metadata": {
    "deletable": false,
    "editable": false,
    "nbgrader": {
     "cell_type": "markdown",
     "checksum": "624a937f9171b8eb0881f45bea7cfc7e",
     "grade": false,
     "grade_id": "cell-b1297125afea5f91",
     "locked": true,
     "schema_version": 3,
     "solution": false,
     "task": false
    }
   },
   "source": [
    "**Q3** The reading explains the importance of database transactions. Using the language from the reading, give an example from the field of banking, showing why database transactions are important in the real world (e.g., what could go wrong if we didn't have such a notion). Hint: you can use the example in the text as inspiration."
   ]
  },
  {
   "cell_type": "markdown",
   "metadata": {
    "deletable": false,
    "nbgrader": {
     "cell_type": "markdown",
     "checksum": "7a6f5ecfd8f1007e02c63f1228e1f724",
     "grade": true,
     "grade_id": "cell-d717f0291437ce69",
     "locked": false,
     "points": 1,
     "schema_version": 3,
     "solution": true,
     "task": false
    }
   },
   "source": [
    "YOUR ANSWER HERE"
   ]
  },
  {
   "cell_type": "markdown",
   "metadata": {
    "deletable": false,
    "editable": false,
    "nbgrader": {
     "cell_type": "markdown",
     "checksum": "fd0f48e130d79efdd43162f105a9d2b8",
     "grade": false,
     "grade_id": "cell-7d1298f013b1d37e",
     "locked": true,
     "schema_version": 3,
     "solution": false,
     "task": false
    }
   },
   "source": [
    "**Q4** When we were making data tidy in previous chapters, we often needed to move back and forth between integer and string representations of years by applying `int()` and `str()` to the column `years`. Would this be possible in a database? Why or why not?"
   ]
  },
  {
   "cell_type": "markdown",
   "metadata": {
    "deletable": false,
    "nbgrader": {
     "cell_type": "markdown",
     "checksum": "8f800babbf891ce92eb443f34080bf4c",
     "grade": true,
     "grade_id": "cell-58ae8bedafadab49",
     "locked": false,
     "points": 1,
     "schema_version": 3,
     "solution": true,
     "task": false
    }
   },
   "source": [
    "YOUR ANSWER HERE"
   ]
  },
  {
   "cell_type": "markdown",
   "metadata": {
    "deletable": false,
    "editable": false,
    "nbgrader": {
     "cell_type": "markdown",
     "checksum": "8d6ecb0c04f2f82af143e8bacd556b02",
     "grade": false,
     "grade_id": "cell-2ba7c26111d13ddf",
     "locked": true,
     "schema_version": 3,
     "solution": false,
     "task": false
    }
   },
   "source": [
    "**Q5** Which of these are allowable field names in a database and why?\n",
    "1. `Address/PO`\n",
    "2. `num-cases`\n",
    "3. `number of visits`\n",
    "4. `pop_size`\n",
    "5. `socialSecurity#`\n",
    "6. `4chanUsername`"
   ]
  },
  {
   "cell_type": "markdown",
   "metadata": {
    "deletable": false,
    "nbgrader": {
     "cell_type": "markdown",
     "checksum": "df5b673b10b93fba55b4c4678a7e28d4",
     "grade": true,
     "grade_id": "cell-3a142466f08257aa",
     "locked": false,
     "points": 1,
     "schema_version": 3,
     "solution": true,
     "task": false
    }
   },
   "source": [
    "YOUR ANSWER HERE"
   ]
  },
  {
   "cell_type": "markdown",
   "metadata": {
    "deletable": false,
    "editable": false,
    "nbgrader": {
     "cell_type": "markdown",
     "checksum": "d5eef4bad9b1b3ebc00c9768d0edd820",
     "grade": false,
     "grade_id": "cell-e4ebb0a4617b45c8",
     "locked": true,
     "schema_version": 3,
     "solution": false,
     "task": false
    }
   },
   "source": [
    "**Q6** Make a list of 4-5 fields that could be present in a hypothetical `student` database (with information on students), then modify the `CREATE TABLE` command to fit this example. Don't forget to specify a key."
   ]
  },
  {
   "cell_type": "markdown",
   "metadata": {
    "deletable": false,
    "nbgrader": {
     "cell_type": "markdown",
     "checksum": "904d07f0374ae3197ef0a85a3ac01678",
     "grade": true,
     "grade_id": "cell-62fb5a991a8b01c3",
     "locked": false,
     "points": 1,
     "schema_version": 3,
     "solution": true,
     "task": false
    }
   },
   "source": [
    "YOUR ANSWER HERE"
   ]
  },
  {
   "cell_type": "markdown",
   "metadata": {
    "deletable": false,
    "editable": false,
    "nbgrader": {
     "cell_type": "markdown",
     "checksum": "10b611ac9ed7632e37a629feff2d46f7",
     "grade": false,
     "grade_id": "cell-9164271a8d0643fb",
     "locked": true,
     "schema_version": 3,
     "solution": false,
     "task": false
    }
   },
   "source": [
    "**Q7** The reading mentions that, when a database is created, each column is given a name, data type, data size, and \"possibly other constraints\". Give a real-world example with a specific column and another constraint one might wish for it."
   ]
  },
  {
   "cell_type": "markdown",
   "metadata": {
    "deletable": false,
    "nbgrader": {
     "cell_type": "markdown",
     "checksum": "22ee7c22e107bb32813b3be12b7e8425",
     "grade": true,
     "grade_id": "cell-5c99b98417f85ce2",
     "locked": false,
     "points": 1,
     "schema_version": 3,
     "solution": true,
     "task": false
    }
   },
   "source": [
    "YOUR ANSWER HERE"
   ]
  },
  {
   "cell_type": "markdown",
   "metadata": {
    "deletable": false,
    "editable": false,
    "nbgrader": {
     "cell_type": "markdown",
     "checksum": "9605804d42b2a1b15646a24f890448b1",
     "grade": false,
     "grade_id": "cell-dee54d710e35ec86",
     "locked": true,
     "schema_version": 3,
     "solution": false,
     "task": false
    }
   },
   "source": [
    "**Q8** The reading provides examples of many-to-one and many-to-many relationships between database tables. Give an example of a one-to-one relationship between two tables."
   ]
  },
  {
   "cell_type": "markdown",
   "metadata": {
    "deletable": false,
    "nbgrader": {
     "cell_type": "markdown",
     "checksum": "d2afc5f7d76f563dd5b1c89611c08c43",
     "grade": true,
     "grade_id": "cell-81ef1883f916e13e",
     "locked": false,
     "points": 1,
     "schema_version": 3,
     "solution": true,
     "task": false
    }
   },
   "source": [
    "YOUR ANSWER HERE"
   ]
  },
  {
   "cell_type": "markdown",
   "metadata": {
    "deletable": false,
    "editable": false,
    "nbgrader": {
     "cell_type": "markdown",
     "checksum": "03b134b62255119be04d423bea6d17e7",
     "grade": false,
     "grade_id": "cell-4ffa824b2261f6ef",
     "locked": true,
     "schema_version": 3,
     "solution": false,
     "task": false
    }
   },
   "source": [
    "**Q9** To understand the Client/Provider Database Interaction, use a program like MySQLWorkbench to connect to the databases provided with the book. Describe your experience, as a user, of establishing a connection, selecting a database, and viewing the data inside it."
   ]
  },
  {
   "cell_type": "markdown",
   "metadata": {
    "deletable": false,
    "nbgrader": {
     "cell_type": "markdown",
     "checksum": "cf20fc47df67b6160995ed3b5b9e8ead",
     "grade": true,
     "grade_id": "cell-7c87eb3a46cc5612",
     "locked": false,
     "points": 1,
     "schema_version": 3,
     "solution": true,
     "task": false
    }
   },
   "source": [
    "YOUR ANSWER HERE"
   ]
  },
  {
   "cell_type": "markdown",
   "metadata": {
    "deletable": false,
    "editable": false,
    "nbgrader": {
     "cell_type": "markdown",
     "checksum": "83ae054d212ad6996587da92e271b6db",
     "grade": false,
     "grade_id": "cell-4201a1378a509e01",
     "locked": true,
     "schema_version": 3,
     "solution": false,
     "task": false
    }
   },
   "source": [
    "**Q10** Can you think of another table that the `topnames` table might have a relation to, analogous to the relationship between `countries` and `indicators`? Explain."
   ]
  },
  {
   "cell_type": "markdown",
   "metadata": {
    "deletable": false,
    "nbgrader": {
     "cell_type": "markdown",
     "checksum": "da9ba8c9bea7909407a485768602faa2",
     "grade": true,
     "grade_id": "cell-17d666ca79f8c054",
     "locked": false,
     "points": 1,
     "schema_version": 3,
     "solution": true,
     "task": false
    }
   },
   "source": [
    "YOUR ANSWER HERE"
   ]
  },
  {
   "cell_type": "markdown",
   "metadata": {
    "deletable": false,
    "editable": false,
    "nbgrader": {
     "cell_type": "markdown",
     "checksum": "355266a4f1cd10097568965c105b0c4e",
     "grade": false,
     "grade_id": "cell-f89fcf247bebd5ad",
     "locked": true,
     "schema_version": 3,
     "solution": false,
     "task": false
    }
   },
   "source": [
    "**Q11** The text reads \"Our updated syntax uses the math | to allow selection of alternatives\" - how do you pronounce the symbol `|`? What does it mean?"
   ]
  },
  {
   "cell_type": "markdown",
   "metadata": {
    "deletable": false,
    "nbgrader": {
     "cell_type": "markdown",
     "checksum": "b25af9294a700e47bcd8946f6a57a5e6",
     "grade": true,
     "grade_id": "cell-ac1555e9e33b498e",
     "locked": false,
     "points": 1,
     "schema_version": 3,
     "solution": true,
     "task": false
    }
   },
   "source": [
    "YOUR ANSWER HERE"
   ]
  },
  {
   "cell_type": "markdown",
   "metadata": {
    "deletable": false,
    "editable": false,
    "nbgrader": {
     "cell_type": "markdown",
     "checksum": "8626c8c96b8e3e697186c9574e782d17",
     "grade": false,
     "grade_id": "cell-d5908eb9161b6e6e",
     "locked": true,
     "schema_version": 3,
     "solution": false,
     "task": false
    }
   },
   "source": [
    "**Q12** Consider the example:\n",
    "`SELECT pop FROM (SELECT code, pop, gdp FROM indicators0) AS select1`\n",
    "\n",
    "How could you modify this example to rename `pop` to `Population` in the final output?"
   ]
  },
  {
   "cell_type": "markdown",
   "metadata": {
    "deletable": false,
    "nbgrader": {
     "cell_type": "markdown",
     "checksum": "267a6cb64384a3e6eab703749f4b772f",
     "grade": true,
     "grade_id": "cell-92158ce5429129d7",
     "locked": false,
     "points": 1,
     "schema_version": 3,
     "solution": true,
     "task": false
    }
   },
   "source": [
    "YOUR ANSWER HERE"
   ]
  },
  {
   "cell_type": "markdown",
   "metadata": {
    "deletable": false,
    "editable": false,
    "nbgrader": {
     "cell_type": "markdown",
     "checksum": "f1e4a02e755e6bc09dbde1fe3bc216bc",
     "grade": false,
     "grade_id": "cell-4391f64eeaf91b23",
     "locked": true,
     "schema_version": 3,
     "solution": false,
     "task": false
    }
   },
   "source": [
    "**Q13** What SQL query would you use to select the data (all columns) for the top ten countries in the world by life expectancy?"
   ]
  },
  {
   "cell_type": "markdown",
   "metadata": {
    "deletable": false,
    "nbgrader": {
     "cell_type": "markdown",
     "checksum": "d7e51df3dee2f8946b5b21fb9aba8caf",
     "grade": true,
     "grade_id": "cell-9a23f1a42e37b3ec",
     "locked": false,
     "points": 1,
     "schema_version": 3,
     "solution": true,
     "task": false
    }
   },
   "source": [
    "YOUR ANSWER HERE"
   ]
  },
  {
   "cell_type": "markdown",
   "metadata": {
    "deletable": false,
    "editable": false,
    "nbgrader": {
     "cell_type": "markdown",
     "checksum": "1917f49638984bae04a20d0829165c90",
     "grade": false,
     "grade_id": "cell-d0b74a56068b37d0",
     "locked": true,
     "schema_version": 3,
     "solution": false,
     "task": false
    }
   },
   "source": [
    "**Q14** Suppose `table` is some generic table (i.e., any example you want to think about). What would it mean if `SELECT DISTINCT * FROM table` resulted in fewer rows than `SELECT * FROM table`?"
   ]
  },
  {
   "cell_type": "markdown",
   "metadata": {
    "deletable": false,
    "nbgrader": {
     "cell_type": "markdown",
     "checksum": "3feded4dcce4c3b042eb4870ea9ef465",
     "grade": true,
     "grade_id": "cell-0b0142951d156e7b",
     "locked": false,
     "points": 1,
     "schema_version": 3,
     "solution": true,
     "task": false
    }
   },
   "source": [
    "YOUR ANSWER HERE"
   ]
  },
  {
   "cell_type": "markdown",
   "metadata": {
    "deletable": false,
    "editable": false,
    "nbgrader": {
     "cell_type": "markdown",
     "checksum": "ea993ff9921fc91367a107641dc68728",
     "grade": false,
     "grade_id": "cell-1e397a7315c49657",
     "locked": true,
     "schema_version": 3,
     "solution": false,
     "task": false
    }
   },
   "source": [
    "**Q15** Rewrite the SQL query\n",
    "`SELECT * FROM indicators1\n",
    "WHERE life BETWEEN 65 AND 75`\n",
    "\n",
    "to avoid `BETWEEN` (but you can use operators and keywords as needed). Hint: be careful with parentheses."
   ]
  },
  {
   "cell_type": "markdown",
   "metadata": {
    "deletable": false,
    "nbgrader": {
     "cell_type": "markdown",
     "checksum": "c78644b7014191fb213cfdbaf3e6f4fa",
     "grade": true,
     "grade_id": "cell-4b1d0b83f1e0a4a5",
     "locked": false,
     "points": 1,
     "schema_version": 3,
     "solution": true,
     "task": false
    }
   },
   "source": [
    "YOUR ANSWER HERE"
   ]
  },
  {
   "cell_type": "markdown",
   "metadata": {
    "deletable": false,
    "editable": false,
    "nbgrader": {
     "cell_type": "markdown",
     "checksum": "1a0353f031a89c61cced6abb242db374",
     "grade": false,
     "grade_id": "cell-03e499126c8e9fbf",
     "locked": true,
     "schema_version": 3,
     "solution": false,
     "task": false
    }
   },
   "source": [
    "**Q16** Consider the SQL query\n",
    "`SELECT code, country, region FROM countries\n",
    "WHERE country LIKE '%Republic' OR code LIKE '_ZA'`\n",
    "\n",
    "How could you test in Python if the `country` is \"like\" `%Republic`? How could you test if the `code` is \"like\" `_ZA`? Be precise."
   ]
  },
  {
   "cell_type": "markdown",
   "metadata": {
    "deletable": false,
    "nbgrader": {
     "cell_type": "markdown",
     "checksum": "52a12998b3750a545d88f6e55b539184",
     "grade": true,
     "grade_id": "cell-96783f50cc56a301",
     "locked": false,
     "points": 1,
     "schema_version": 3,
     "solution": true,
     "task": false
    }
   },
   "source": [
    "YOUR ANSWER HERE"
   ]
  }
 ],
 "metadata": {
  "kernelspec": {
   "display_name": "Python 3",
   "language": "python",
   "name": "python3"
  },
  "language_info": {
   "codemirror_mode": {
    "name": "ipython",
    "version": 3
   },
   "file_extension": ".py",
   "mimetype": "text/x-python",
   "name": "python",
   "nbconvert_exporter": "python",
   "pygments_lexer": "ipython3",
   "version": "3.7.4"
  }
 },
 "nbformat": 4,
 "nbformat_minor": 2
}
