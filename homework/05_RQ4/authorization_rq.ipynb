{
 "cells": [
  {
   "cell_type": "markdown",
   "metadata": {},
   "source": [
    "Before you turn this problem in, make sure everything runs as expected. First, **restart the kernel** (in the menubar, select Kernel$\\rightarrow$Restart) and then **run all cells** (in the menubar, select Cell$\\rightarrow$Run All).\n",
    "\n",
    "Make sure you fill in any place that says `YOUR CODE HERE`/`raise NotImplementedError` or \"YOUR ANSWER HERE\", as well as your name and collaborators below:"
   ]
  },
  {
   "cell_type": "markdown",
   "metadata": {
    "deletable": false,
    "editable": false,
    "nbgrader": {
     "cell_type": "markdown",
     "checksum": "1f2a96958f8eee8acec6508f52afb975",
     "grade": false,
     "grade_id": "cell-c4cf3fee923323ae",
     "locked": true,
     "schema_version": 3,
     "solution": false,
     "task": false
    }
   },
   "source": [
    "**Q1** Please give a real-world example where a Provider would want to give a client a certain type of access but not another type of access, and how this would be enforced. Please be specific, and make it clear in your answer that you understand the terms 'authentication' and 'authorization'."
   ]
  },
  {
   "cell_type": "markdown",
   "metadata": {
    "deletable": false,
    "nbgrader": {
     "cell_type": "markdown",
     "checksum": "ae7e338c061b3c24ddd5f24f409bee9d",
     "grade": true,
     "grade_id": "cell-cdedbe71e9e04439",
     "locked": false,
     "points": 1,
     "schema_version": 3,
     "solution": true,
     "task": false
    }
   },
   "source": [
    "YOUR ANSWER HERE"
   ]
  },
  {
   "cell_type": "markdown",
   "metadata": {
    "deletable": false,
    "editable": false,
    "nbgrader": {
     "cell_type": "markdown",
     "checksum": "60edbd8484104e6853f39bbfb425b089",
     "grade": false,
     "grade_id": "cell-df388820b4c3b399",
     "locked": true,
     "schema_version": 3,
     "solution": false,
     "task": false
    }
   },
   "source": [
    "**Q2** Please give a real-world example (perhaps from your own experience) of impersonation as defined in the reading, and how it could go badly."
   ]
  },
  {
   "cell_type": "markdown",
   "metadata": {
    "deletable": false,
    "nbgrader": {
     "cell_type": "markdown",
     "checksum": "0d8f21e9a764ced7a6432c1f8fc79113",
     "grade": true,
     "grade_id": "cell-f78a9620f0d9218a",
     "locked": false,
     "points": 1,
     "schema_version": 3,
     "solution": true,
     "task": false
    }
   },
   "source": [
    "YOUR ANSWER HERE"
   ]
  },
  {
   "cell_type": "markdown",
   "metadata": {
    "deletable": false,
    "editable": false,
    "nbgrader": {
     "cell_type": "markdown",
     "checksum": "3d7d55b6b37bbe95aa11f47f18bd78bf",
     "grade": false,
     "grade_id": "cell-04c3d66b7b7ec7dc",
     "locked": true,
     "schema_version": 3,
     "solution": false,
     "task": false
    }
   },
   "source": [
    "**Q3** If you wanted to set up a secure encryption/decryption algorithm using a shared key, between yourself and some other person we'll call X, could you email the key to X? What about emailing a token? Why or why not?"
   ]
  },
  {
   "cell_type": "markdown",
   "metadata": {
    "deletable": false,
    "nbgrader": {
     "cell_type": "markdown",
     "checksum": "69f1a7b53bed7a87da967d1ccab05d83",
     "grade": true,
     "grade_id": "cell-bc739c7670cab04e",
     "locked": false,
     "points": 1,
     "schema_version": 3,
     "solution": true,
     "task": false
    }
   },
   "source": [
    "YOUR ANSWER HERE"
   ]
  },
  {
   "cell_type": "markdown",
   "metadata": {
    "deletable": false,
    "editable": false,
    "nbgrader": {
     "cell_type": "markdown",
     "checksum": "5aeddce56513b0c5beae33af94548535",
     "grade": false,
     "grade_id": "cell-3e6e8afa69f7e4f0",
     "locked": true,
     "schema_version": 3,
     "solution": false,
     "task": false
    }
   },
   "source": [
    "**Q4** The Caesar cypher, used by Roman general Julius Caesar, involves encrypting a string by shifting all letters by some fixed number. For example, you could encrypt \"sentence\" to \"vhqwhqfh\" by shifting all letters to the right by three (since v is three letters after s). If a letter is at the end of the alphabet, the shift takes you to the beginning, e.g., y is sent to b. In this example, please identify the key. Then describe a decryption algorithm and explain whether or not it uses the same key."
   ]
  },
  {
   "cell_type": "markdown",
   "metadata": {
    "deletable": false,
    "nbgrader": {
     "cell_type": "markdown",
     "checksum": "85876eb904e6b400f044d2a6526aaaf9",
     "grade": true,
     "grade_id": "cell-0e9b31c8f1749fab",
     "locked": false,
     "points": 1,
     "schema_version": 3,
     "solution": true,
     "task": false
    }
   },
   "source": [
    "YOUR ANSWER HERE"
   ]
  },
  {
   "cell_type": "markdown",
   "metadata": {
    "deletable": false,
    "editable": false,
    "nbgrader": {
     "cell_type": "markdown",
     "checksum": "2e03219fa3a7788e3743220732f18c08",
     "grade": false,
     "grade_id": "cell-3c4c74a58074bf92",
     "locked": true,
     "schema_version": 3,
     "solution": false,
     "task": false
    }
   },
   "source": [
    "**Q5** Please use a search engine to read about the \"man in the middle attack\" and report what you find. Then describe how signatures help prevent this attack and keep our data secure from it. Is this also related to the OAuth dance?"
   ]
  },
  {
   "cell_type": "markdown",
   "metadata": {
    "deletable": false,
    "nbgrader": {
     "cell_type": "markdown",
     "checksum": "dbe97cd1342d0b14ff475da56780512e",
     "grade": true,
     "grade_id": "cell-6595238175c5e23a",
     "locked": false,
     "points": 1,
     "schema_version": 3,
     "solution": true,
     "task": false
    }
   },
   "source": [
    "YOUR ANSWER HERE"
   ]
  },
  {
   "cell_type": "markdown",
   "metadata": {
    "deletable": false,
    "editable": false,
    "nbgrader": {
     "cell_type": "markdown",
     "checksum": "9c86188917ef05265dce18a7d44a091e",
     "grade": false,
     "grade_id": "cell-82ab469ee53cc48f",
     "locked": true,
     "schema_version": 3,
     "solution": false,
     "task": false
    }
   },
   "source": [
    "**Q6** The reading mentions the use of \"cached credentials in the browser\" as a way to streamline the authentication process. What happens (and why) if you attempt to use \"private browsing mode\" to obtain a code from a data system provider that you had previously obtained from a regular browser? What if you switch browsers?"
   ]
  },
  {
   "cell_type": "markdown",
   "metadata": {
    "deletable": false,
    "nbgrader": {
     "cell_type": "markdown",
     "checksum": "bc4776b71b96d0bdd24fcfa5901afc17",
     "grade": true,
     "grade_id": "cell-277798993f08b4ca",
     "locked": false,
     "points": 1,
     "schema_version": 3,
     "solution": true,
     "task": false
    }
   },
   "source": [
    "YOUR ANSWER HERE"
   ]
  },
  {
   "cell_type": "markdown",
   "metadata": {
    "deletable": false,
    "editable": false,
    "nbgrader": {
     "cell_type": "markdown",
     "checksum": "fbf13284626feec7ab2b9b0d8971551d",
     "grade": false,
     "grade_id": "cell-7eaaac187c8f6093",
     "locked": true,
     "schema_version": 3,
     "solution": false,
     "task": false
    }
   },
   "source": [
    "**Q7** Consider step E of Stage 1. The reading says if the resource owner (that is, you, using your web browser) is satisfied with the supporing information regarding a client, from an authorization point of view, the resource owner can click \"accept.\" Using what you know about how humans behave, describe if there are security vulnerabilities in this process from a user interface point of view. Illustrate your point with a real-world example."
   ]
  },
  {
   "cell_type": "markdown",
   "metadata": {
    "deletable": false,
    "nbgrader": {
     "cell_type": "markdown",
     "checksum": "a8daab67b3f651dbacc8c0ad44927f64",
     "grade": true,
     "grade_id": "cell-a0be577b93d0f717",
     "locked": false,
     "points": 1,
     "schema_version": 3,
     "solution": true,
     "task": false
    }
   },
   "source": [
    "YOUR ANSWER HERE"
   ]
  },
  {
   "cell_type": "markdown",
   "metadata": {
    "deletable": false,
    "editable": false,
    "nbgrader": {
     "cell_type": "markdown",
     "checksum": "db0b4f3a6c35b9a9a787250897efedaf",
     "grade": false,
     "grade_id": "cell-4a0bf001a46b1b22",
     "locked": true,
     "schema_version": 3,
     "solution": false,
     "task": false
    }
   },
   "source": [
    "**Q8** Stage 4 lists several reasons why a data request could fail. Please write a justification for why we should design data systems with such failures in mind. For example, setting a cap on the total number of requests helps protect us against a denial of service attack. What about the other reasons for failures?"
   ]
  },
  {
   "cell_type": "markdown",
   "metadata": {
    "deletable": false,
    "nbgrader": {
     "cell_type": "markdown",
     "checksum": "75a6a09dd79c8c827172bf58280f78b4",
     "grade": true,
     "grade_id": "cell-f680bb2458f2f0c4",
     "locked": false,
     "points": 1,
     "schema_version": 3,
     "solution": true,
     "task": false
    }
   },
   "source": [
    "YOUR ANSWER HERE"
   ]
  }
 ],
 "metadata": {
  "kernelspec": {
   "display_name": "Python 3",
   "language": "python",
   "name": "python3"
  },
  "language_info": {
   "codemirror_mode": {
    "name": "ipython",
    "version": 3
   },
   "file_extension": ".py",
   "mimetype": "text/x-python",
   "name": "python",
   "nbconvert_exporter": "python",
   "pygments_lexer": "ipython3",
   "version": "3.7.7"
  }
 },
 "nbformat": 4,
 "nbformat_minor": 2
}
