{
 "cells": [
  {
   "cell_type": "markdown",
   "metadata": {},
   "source": [
    "Before you turn this problem in, make sure everything runs as expected. First, **restart the kernel** (in the menubar, select Kernel$\\rightarrow$Restart) and then **run all cells** (in the menubar, select Cell$\\rightarrow$Run All).\n",
    "\n",
    "Make sure you fill in any place that says `YOUR CODE HERE`/`raise NotImplementedError` or \"YOUR ANSWER HERE\", as well as your name and collaborators below:"
   ]
  },
  {
   "cell_type": "markdown",
   "metadata": {},
   "source": [
    "# Networking\n",
    "\n",
    "In order to get some practice with networking, we will use a tool that allows you to trace the route of packets through the internet. Using this tool, you can select a website to communicate with, then send a communication (ping) through the network to talk to this website, then trace the path of the response from the website, as it navigates through routers all over the world.\n",
    "\n",
    "As you may know, many people and organizations do not like for their data to be tracked as it moves around the web, so for many of the websites you put into this tool, the path will be blocked by a firewall (which prevents the signals traceroute needs to trace the route).\n",
    "\n",
    "Each time you use the tool to answer a question below, please copy and paste the output so you can reference it later."
   ]
  },
  {
   "cell_type": "markdown",
   "metadata": {},
   "source": [
    "**Q1** Please use the link below to determine your IP address and other information that is available at your current location. What if you use a different web browser or \"private browsing mode\"? What happens when you repeat over a VPN?\n",
    "\n",
    "https://www.slac.stanford.edu/cgi-bin/nph-traceroute.pl"
   ]
  },
  {
   "cell_type": "markdown",
   "metadata": {
    "deletable": false,
    "nbgrader": {
     "cell_type": "markdown",
     "checksum": "5f79e3fc7b64e21934031df7b25c1d73",
     "grade": true,
     "grade_id": "cell-5a32d535e948e959",
     "locked": false,
     "points": 1,
     "schema_version": 3,
     "solution": true,
     "task": false
    }
   },
   "source": [
    "YOUR ANSWER HERE"
   ]
  },
  {
   "cell_type": "markdown",
   "metadata": {},
   "source": [
    "**Q2** Using the same link, click \"Yes\" to tell the website you do want to trace the route from the Stanford network to your machine. Please write down three things you learned from the location information in the pathway. Do you think a LAN was involved?"
   ]
  },
  {
   "cell_type": "markdown",
   "metadata": {
    "deletable": false,
    "nbgrader": {
     "cell_type": "markdown",
     "checksum": "c41f2b4055fcecca8bc565e4bb00a32d",
     "grade": true,
     "grade_id": "cell-e38edfa0ad81f8da",
     "locked": false,
     "points": 1,
     "schema_version": 3,
     "solution": true,
     "task": false
    }
   },
   "source": [
    "YOUR ANSWER HERE"
   ]
  },
  {
   "cell_type": "markdown",
   "metadata": {},
   "source": [
    "**Q3** Please copy and paste the pathway you got from the previous problem, then repeat the process to obtain another pathway. Are the two pathways exactly the same? Explain."
   ]
  },
  {
   "cell_type": "markdown",
   "metadata": {
    "deletable": false,
    "nbgrader": {
     "cell_type": "markdown",
     "checksum": "acb7b31b9b5dbdc59b4f7433936fd035",
     "grade": true,
     "grade_id": "cell-aeb723c969be5355",
     "locked": false,
     "points": 1,
     "schema_version": 3,
     "solution": true,
     "task": false
    }
   },
   "source": [
    "YOUR ANSWER HERE"
   ]
  },
  {
   "cell_type": "markdown",
   "metadata": {},
   "source": [
    "**Q4** Starting from https://www.slac.stanford.edu/cgi-bin/nph-traceroute.pl?function=traceroute, please type in \"personal.denison.edu\" as the target name for a trace route, and report what you learned from the pathway. What are the endpoints of the pathway? "
   ]
  },
  {
   "cell_type": "markdown",
   "metadata": {
    "deletable": false,
    "nbgrader": {
     "cell_type": "markdown",
     "checksum": "3b0adf1c5ee089689620cf769dfe36d8",
     "grade": true,
     "grade_id": "cell-1500fcb9b4b81c03",
     "locked": false,
     "points": 1,
     "schema_version": 3,
     "solution": true,
     "task": false
    }
   },
   "source": [
    "YOUR ANSWER HERE"
   ]
  },
  {
   "cell_type": "markdown",
   "metadata": {},
   "source": [
    "**Q5** Now, using the same tool, trace from Stanford to \"www.whitehouse.gov\" and report what you learned from the pathway. Do you think the traceroute got all the way to the White House servers? Justify your answer."
   ]
  },
  {
   "cell_type": "markdown",
   "metadata": {
    "deletable": false,
    "nbgrader": {
     "cell_type": "markdown",
     "checksum": "d243488285d2ce5ad544e0601cd0c5ee",
     "grade": true,
     "grade_id": "cell-6a7289ef9580b3b1",
     "locked": false,
     "points": 1,
     "schema_version": 3,
     "solution": true,
     "task": false
    }
   },
   "source": [
    "YOUR ANSWER HERE"
   ]
  },
  {
   "cell_type": "markdown",
   "metadata": {},
   "source": [
    "**Q6** Using the following link:\n",
    "\n",
    "https://www.net.princeton.edu/traceroute.html\n",
    "\n",
    "Trace from Princeton to `personal.denison.edu`.  What parts of the path are the same as Stanford to Denison?  What parts are the same?\n",
    "Can you trace from Princeton to Stanford?  How do you know the Stanford IP address to use in the traceroute site at Princeton?"
   ]
  },
  {
   "cell_type": "markdown",
   "metadata": {
    "deletable": false,
    "nbgrader": {
     "cell_type": "markdown",
     "checksum": "a53dfe57dca3749b52f201b02e0fd229",
     "grade": true,
     "grade_id": "cell-bd421c30d4394707",
     "locked": false,
     "points": 1,
     "schema_version": 3,
     "solution": true,
     "task": false
    }
   },
   "source": [
    "YOUR ANSWER HERE"
   ]
  },
  {
   "cell_type": "markdown",
   "metadata": {},
   "source": [
    "**Q7** Select one of the intermediate IP addresses from any of your tests above (we know that the intermediate IP addresses did not kill traceroute with a firewall). Then put that IP address into this tool and describe what you learned:\n",
    "\n",
    "https://gsuite.tools/traceroute\n",
    "\n",
    "For fun, try to make a path that goes through five countries. You may need to use Google to learn IP addresses for some remote places."
   ]
  },
  {
   "cell_type": "markdown",
   "metadata": {
    "deletable": false,
    "nbgrader": {
     "cell_type": "markdown",
     "checksum": "e56b9f592b009ef52d2fac8b77429f81",
     "grade": true,
     "grade_id": "cell-18467f9f25717892",
     "locked": false,
     "points": 1,
     "schema_version": 3,
     "solution": true,
     "task": false
    }
   },
   "source": [
    "YOUR ANSWER HERE"
   ]
  },
  {
   "cell_type": "markdown",
   "metadata": {},
   "source": [
    "**Q8** Take an inventory of your devices and see if you can determine what *Media Access* protocols (specific ones, not generic like WiFi) are available on the devices."
   ]
  },
  {
   "cell_type": "markdown",
   "metadata": {
    "deletable": false,
    "nbgrader": {
     "cell_type": "markdown",
     "checksum": "df731cf85a4a44d927c1e5467ecafc0c",
     "grade": true,
     "grade_id": "cell-2c1ca34c2ee9eb84",
     "locked": false,
     "points": 1,
     "schema_version": 3,
     "solution": true,
     "task": false
    }
   },
   "source": [
    "YOUR ANSWER HERE"
   ]
  },
  {
   "cell_type": "markdown",
   "metadata": {},
   "source": [
    "**Q9** Try to find a **command-line** way to find your IP address on your local machine, and then, through a Jupyter Lab Terminal, or other Terminal interface, use it to find the IP address for your machine.  Bonus for finding the IP address of your phone or tablet using **local** facilities."
   ]
  },
  {
   "cell_type": "markdown",
   "metadata": {
    "deletable": false,
    "nbgrader": {
     "cell_type": "markdown",
     "checksum": "7010c9096fda485d236b9d651125fa98",
     "grade": true,
     "grade_id": "cell-ebbab67823964f9e",
     "locked": false,
     "points": 1,
     "schema_version": 3,
     "solution": true,
     "task": false
    }
   },
   "source": [
    "YOUR ANSWER HERE"
   ]
  },
  {
   "cell_type": "markdown",
   "metadata": {},
   "source": [
    "**Q10** Use Google or other resources, and find the logical application and the application **port number** for the following protocols:\n",
    "\n",
    "- SSH\n",
    "- HTTPS\n",
    "- FTP\n",
    "- SMTP\n",
    "- POP3"
   ]
  },
  {
   "cell_type": "markdown",
   "metadata": {
    "deletable": false,
    "nbgrader": {
     "cell_type": "markdown",
     "checksum": "376524d06c5365efbd3630aaa3e2f0f5",
     "grade": true,
     "grade_id": "cell-a500f492ce518904",
     "locked": false,
     "points": 1,
     "schema_version": 3,
     "solution": true,
     "task": false
    }
   },
   "source": [
    "YOUR ANSWER HERE"
   ]
  }
 ],
 "metadata": {
  "kernelspec": {
   "display_name": "Python 3",
   "language": "python",
   "name": "python3"
  },
  "language_info": {
   "codemirror_mode": {
    "name": "ipython",
    "version": 3
   },
   "file_extension": ".py",
   "mimetype": "text/x-python",
   "name": "python",
   "nbconvert_exporter": "python",
   "pygments_lexer": "ipython3",
   "version": "3.7.6"
  }
 },
 "nbformat": 4,
 "nbformat_minor": 4
}
