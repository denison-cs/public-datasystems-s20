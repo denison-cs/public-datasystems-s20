{
 "cells": [
  {
   "cell_type": "markdown",
   "metadata": {},
   "source": [
    "Before you turn this problem in, make sure everything runs as expected. First, **restart the kernel** (in the menubar, select Kernel$\\rightarrow$Restart) and then **run all cells** (in the menubar, select Cell$\\rightarrow$Run All).\n",
    "\n",
    "Make sure you fill in any place that says `YOUR CODE HERE`/`raise NotImplementedError` or \"YOUR ANSWER HERE\", as well as your name and collaborators below:"
   ]
  },
  {
   "cell_type": "markdown",
   "metadata": {
    "deletable": false,
    "editable": false,
    "nbgrader": {
     "cell_type": "markdown",
     "checksum": "a843d265855124c5be114825cfc342ef",
     "grade": false,
     "grade_id": "cell-936586b482c77a58",
     "locked": true,
     "schema_version": 3,
     "solution": false,
     "task": false
    }
   },
   "source": [
    "**Q1** In the following SQL query, what happens for a row where `pop = 0`?\n",
    "\n",
    "`SELECT code, pop * 1.15 AS newpop, \n",
    "       cell / pop AS cellper, life > 75 AS longlife\n",
    "FROM indicators0\n",
    "`"
   ]
  },
  {
   "cell_type": "markdown",
   "metadata": {
    "deletable": false,
    "nbgrader": {
     "cell_type": "markdown",
     "checksum": "4701be1eedadac6b2b74896da328c529",
     "grade": true,
     "grade_id": "cell-f731072613e0df49",
     "locked": false,
     "points": 1,
     "schema_version": 3,
     "solution": true,
     "task": false
    }
   },
   "source": [
    "YOUR ANSWER HERE"
   ]
  },
  {
   "cell_type": "markdown",
   "metadata": {
    "deletable": false,
    "editable": false,
    "nbgrader": {
     "cell_type": "markdown",
     "checksum": "395ed3be409629e9448f8ca91e71b2ea",
     "grade": false,
     "grade_id": "cell-d81fcf4cfefb484a",
     "locked": true,
     "schema_version": 3,
     "solution": false,
     "task": false
    }
   },
   "source": [
    "**Q2** In `pandas` when we did aggregate and groupby, it was permissible to choose different sets of aggregates for different variables, e.g., `df.agg({'population':['min','max'],'cases':['mean','max']})`\n",
    "\n",
    "Can you do the same with SQL? Explain."
   ]
  },
  {
   "cell_type": "markdown",
   "metadata": {
    "deletable": false,
    "nbgrader": {
     "cell_type": "markdown",
     "checksum": "21da57230c4876a15da2565d81158925",
     "grade": true,
     "grade_id": "cell-52d7f9cfb837d2ee",
     "locked": false,
     "points": 1,
     "schema_version": 3,
     "solution": true,
     "task": false
    }
   },
   "source": [
    "YOUR ANSWER HERE"
   ]
  },
  {
   "cell_type": "markdown",
   "metadata": {
    "deletable": false,
    "editable": false,
    "nbgrader": {
     "cell_type": "markdown",
     "checksum": "ce3a9b6c1af2aad59b8c47bdc0ddb0f7",
     "grade": false,
     "grade_id": "cell-5d977e29649ed64a",
     "locked": true,
     "schema_version": 3,
     "solution": false,
     "task": false
    }
   },
   "source": [
    "**Q3** In the example below, what precisely is being computed, in real world terms, and how would you compute the same in `pandas`?\n",
    "\n",
    "`SELECT year, MAX(life) AS max_life\n",
    "FROM indicators\n",
    "GROUP BY year\n",
    "ORDER BY max_life DESC`"
   ]
  },
  {
   "cell_type": "markdown",
   "metadata": {
    "deletable": false,
    "nbgrader": {
     "cell_type": "markdown",
     "checksum": "d47745576f15c431c610222ee0c3222d",
     "grade": true,
     "grade_id": "cell-dd73d093f59d5697",
     "locked": false,
     "points": 1,
     "schema_version": 3,
     "solution": true,
     "task": false
    }
   },
   "source": [
    "YOUR ANSWER HERE"
   ]
  },
  {
   "cell_type": "markdown",
   "metadata": {
    "deletable": false,
    "editable": false,
    "nbgrader": {
     "cell_type": "markdown",
     "checksum": "21f1e7e13c896251ab5e2d1ff022d567",
     "grade": false,
     "grade_id": "cell-f0a1c2e934f1fb20",
     "locked": true,
     "schema_version": 3,
     "solution": false,
     "task": false
    }
   },
   "source": [
    "**Q4** What SQL query would tell you the number of `countries` in each of the eight regions?"
   ]
  },
  {
   "cell_type": "markdown",
   "metadata": {
    "deletable": false,
    "nbgrader": {
     "cell_type": "markdown",
     "checksum": "c3508a62446d5abf809b7e2fd6d346f0",
     "grade": true,
     "grade_id": "cell-19ed2e1bf7756008",
     "locked": false,
     "points": 1,
     "schema_version": 3,
     "solution": true,
     "task": false
    }
   },
   "source": [
    "YOUR ANSWER HERE"
   ]
  },
  {
   "cell_type": "markdown",
   "metadata": {
    "deletable": false,
    "editable": false,
    "nbgrader": {
     "cell_type": "markdown",
     "checksum": "ac9c362d68af3d363801b3be5dcb3fc8",
     "grade": false,
     "grade_id": "cell-47885ae40a6ef03d",
     "locked": true,
     "schema_version": 3,
     "solution": false,
     "task": false
    }
   },
   "source": [
    "**Q5** With reference to the `student` database, why is there a field `classterm` in `classes` but no `courseterm` in `courses`?"
   ]
  },
  {
   "cell_type": "markdown",
   "metadata": {
    "deletable": false,
    "nbgrader": {
     "cell_type": "markdown",
     "checksum": "863bab0d3a7ca7e301bdd0ab6c941777",
     "grade": true,
     "grade_id": "cell-0e8fd52255374440",
     "locked": false,
     "points": 1,
     "schema_version": 3,
     "solution": true,
     "task": false
    }
   },
   "source": [
    "YOUR ANSWER HERE"
   ]
  },
  {
   "cell_type": "markdown",
   "metadata": {
    "deletable": false,
    "editable": false,
    "nbgrader": {
     "cell_type": "markdown",
     "checksum": "f85e064956c6400b7ef158eb4ec15173",
     "grade": false,
     "grade_id": "cell-73eaa5fed0d14f32",
     "locked": true,
     "schema_version": 3,
     "solution": false,
     "task": false
    }
   },
   "source": [
    "**Q6** The `USING` keyword is one way to solve the problem of a duplicate `code` column (at least, when the conditions for `USING` are met). Explain another way to avoid selecting a duplicate column when doing an `INNER JOIN` on `PG.code = IE.code`."
   ]
  },
  {
   "cell_type": "markdown",
   "metadata": {
    "deletable": false,
    "nbgrader": {
     "cell_type": "markdown",
     "checksum": "47c1de7ce7c53d20b075ffe5e57787fa",
     "grade": true,
     "grade_id": "cell-85692bd1e808f5c7",
     "locked": false,
     "points": 1,
     "schema_version": 3,
     "solution": true,
     "task": false
    }
   },
   "source": [
    "YOUR ANSWER HERE"
   ]
  },
  {
   "cell_type": "markdown",
   "metadata": {
    "deletable": false,
    "editable": false,
    "nbgrader": {
     "cell_type": "markdown",
     "checksum": "792350d4397cdd535ea0ee8131897492",
     "grade": false,
     "grade_id": "cell-dff6651575c9f10c",
     "locked": true,
     "schema_version": 3,
     "solution": false,
     "task": false
    }
   },
   "source": [
    "**Q7** In the `topnames` join example, *what would happen and why*, if we only matched on year rather than year and sex, e.g., doing:\n",
    "\n",
    "`SELECT C.year, C.sex, C.count, N.name \n",
    "FROM counts AS C INNER JOIN names AS N\n",
    "     ON C.year = N.year`"
   ]
  },
  {
   "cell_type": "markdown",
   "metadata": {
    "deletable": false,
    "nbgrader": {
     "cell_type": "markdown",
     "checksum": "9c49accd7cf1d4503f81c4169c15300c",
     "grade": true,
     "grade_id": "cell-c02f5d541ec991b6",
     "locked": false,
     "points": 1,
     "schema_version": 3,
     "solution": true,
     "task": false
    }
   },
   "source": [
    "YOUR ANSWER HERE"
   ]
  },
  {
   "cell_type": "markdown",
   "metadata": {
    "deletable": false,
    "editable": false,
    "nbgrader": {
     "cell_type": "markdown",
     "checksum": "c8f9710d77d7142a7a1e8bfb7eb4a1c2",
     "grade": false,
     "grade_id": "cell-6be37f0e62052379",
     "locked": true,
     "schema_version": 3,
     "solution": false,
     "task": false
    }
   },
   "source": [
    "**Q8** As another example to illustrate a three-table join, imagine:\n",
    "1. a table `usa_births` with fields `year` and `births` that gives the total number of new births each year\n",
    "2. a table `usa_pop` with fields `year` and `pop`, containing the population of the USA for each year\n",
    "3. `topnames`\n",
    "Explain how to build the information of these three tables into the `topnames` table using a single query with multiple `INNER JOIN` commands."
   ]
  },
  {
   "cell_type": "markdown",
   "metadata": {
    "deletable": false,
    "nbgrader": {
     "cell_type": "markdown",
     "checksum": "37f3b2d4856434498787cf53299f3efb",
     "grade": true,
     "grade_id": "cell-074f957e3a706084",
     "locked": false,
     "points": 1,
     "schema_version": 3,
     "solution": true,
     "task": false
    }
   },
   "source": [
    "YOUR ANSWER HERE"
   ]
  }
 ],
 "metadata": {
  "kernelspec": {
   "display_name": "Python 3",
   "language": "python",
   "name": "python3"
  },
  "language_info": {
   "codemirror_mode": {
    "name": "ipython",
    "version": 3
   },
   "file_extension": ".py",
   "mimetype": "text/x-python",
   "name": "python",
   "nbconvert_exporter": "python",
   "pygments_lexer": "ipython3",
   "version": "3.7.6"
  }
 },
 "nbformat": 4,
 "nbformat_minor": 2
}
