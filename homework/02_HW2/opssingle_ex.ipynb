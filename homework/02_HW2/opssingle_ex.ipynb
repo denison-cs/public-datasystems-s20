{
 "cells": [
  {
   "cell_type": "markdown",
   "metadata": {},
   "source": [
    "Before you turn this problem in, make sure everything runs as expected. First, **restart the kernel** (in the menubar, select Kernel$\\rightarrow$Restart) and then **run all cells** (in the menubar, select Cell$\\rightarrow$Run All).\n",
    "\n",
    "Make sure you fill in any place that says `YOUR CODE HERE`/`raise NotImplementedError` or \"YOUR ANSWER HERE\", as well as your name and collaborators below:"
   ]
  },
  {
   "cell_type": "markdown",
   "metadata": {
    "deletable": false,
    "editable": false,
    "nbgrader": {
     "cell_type": "markdown",
     "checksum": "673643ed6a26336fd354f539a250c21d",
     "grade": false,
     "grade_id": "cell-830faf099b4799bc",
     "locked": true,
     "schema_version": 3,
     "solution": false,
     "task": false
    }
   },
   "source": [
    "## Set User Credentials\n",
    "\n",
    "With a shared resource at a provider like a MySQL RDBMS, we need to use credentials to authenticate ourselves to the server, and need the logical location of the server itself.\n",
    "\n",
    "For these notebooks, these are kept in a text file named 'creds.json', stored either in the same directory or in a data directory.  For this notebook, this is stored in the same directory as the notebook.\n",
    "\n",
    "- Right click on the `creds.json` file and select *Open With*->*Editor*\n",
    "- Replace the mysql dictionary's key for \"user\" (currently `\"nostudent\"`) with the base part of your email address (i.e. without the `@denison.edu`).  Your password on the mysql server, at present, is the same as your user, so change that from `\"nostudent\"` as well.  The server should be correct, mapped to `\"hadoop2.mathsci.denison.edu\"`. Likewise, the scheme should be correct, mapped to `\"mysql+mysqlconnector\"`. \n",
    "\n",
    "**Make sure to use double quotes for strings** ... this is `JSON`, not Python, and we have to follow JSON syntax.\n",
    "\n",
    "Once this is complete, execute the following cell to connect to the database and start SQL magic. If you are off-campus you will need to use a VPN first."
   ]
  },
  {
   "cell_type": "code",
   "execution_count": null,
   "metadata": {
    "deletable": false,
    "editable": false,
    "nbgrader": {
     "cell_type": "code",
     "checksum": "e1ff04d113283147207900a4a749853b",
     "grade": false,
     "grade_id": "cell-9c8e9263b43f1b8c",
     "locked": true,
     "schema_version": 3,
     "solution": false,
     "task": false
    }
   },
   "outputs": [],
   "source": [
    "import pandas as pd\n",
    "import os\n",
    "import os.path\n",
    "import json\n",
    "\n",
    "def getmysql_creds(dirname=\".\",filename=\"creds.json\"):\n",
    "    \"\"\" Using directory and filename parameters, open a credentials file\n",
    "        and obtain the four parts needed for a connection string to\n",
    "        a remote provider using the \"mysql\" dictionary within\n",
    "        an outer dictionary.  \n",
    "        \n",
    "        Return a scheme, server, user, and password\n",
    "    \"\"\"\n",
    "    assert os.path.isfile(os.path.join(dirname, filename))\n",
    "    with open(os.path.join(dirname, filename)) as f:\n",
    "        D = json.load(f)\n",
    "    mysql = D[\"mysql\"]\n",
    "    return mysql[\"scheme\"], mysql[\"server\"], mysql[\"user\"], mysql[\"pass\"]\n",
    "\n",
    "scheme, server, user, password = getmysql_creds()\n",
    "template = '{}://{}:{}@{}/'\n",
    "cstring = template.format(scheme, user, password, server)\n",
    "%load_ext sql\n",
    "%sql $cstring\n",
    "%sql USE book"
   ]
  },
  {
   "cell_type": "markdown",
   "metadata": {
    "deletable": false,
    "editable": false,
    "nbgrader": {
     "cell_type": "markdown",
     "checksum": "678eaaab08033400ac1212a79f736a10",
     "grade": false,
     "grade_id": "cell-8f0e02cb0aaf13d4",
     "locked": true,
     "schema_version": 3,
     "solution": false,
     "task": false
    }
   },
   "source": [
    "**Q1** In reference to the table `indicators`, write a query to find the number of distinct country codes that appear."
   ]
  },
  {
   "cell_type": "code",
   "execution_count": null,
   "metadata": {
    "deletable": false,
    "nbgrader": {
     "cell_type": "code",
     "checksum": "f46a3689ef94599b3fd6096a740a742e",
     "grade": false,
     "grade_id": "cell-7cbc6810bc215797",
     "locked": false,
     "schema_version": 3,
     "solution": true,
     "task": false
    }
   },
   "outputs": [],
   "source": [
    "# Solution cell\n",
    "\n",
    "query = \"\"\"\n",
    "\"\"\"\n",
    "# YOUR CODE HERE\n",
    "raise NotImplementedError()\n",
    "resultset = %sql $query\n",
    "resultdf = resultset.DataFrame()\n",
    "resultdf.head()"
   ]
  },
  {
   "cell_type": "code",
   "execution_count": null,
   "metadata": {
    "deletable": false,
    "editable": false,
    "nbgrader": {
     "cell_type": "code",
     "checksum": "0ffe8ad932a13dc04991e40db6b7168a",
     "grade": true,
     "grade_id": "cell-e5afce928062e6a8",
     "locked": true,
     "points": 2,
     "schema_version": 3,
     "solution": false,
     "task": false
    }
   },
   "outputs": [],
   "source": [
    "# Testing cell\n",
    "assert len(resultdf) == 218"
   ]
  },
  {
   "cell_type": "markdown",
   "metadata": {
    "deletable": false,
    "editable": false,
    "nbgrader": {
     "cell_type": "markdown",
     "checksum": "8faa87d94d7004f303f2c09e937f02d5",
     "grade": false,
     "grade_id": "cell-ce6e1a67fb00d883",
     "locked": true,
     "schema_version": 3,
     "solution": false,
     "task": false
    }
   },
   "source": [
    "**Q2** In reference to the table `indicators`, write a query to find the number of rows with no missing data for `gdp`."
   ]
  },
  {
   "cell_type": "code",
   "execution_count": null,
   "metadata": {
    "deletable": false,
    "nbgrader": {
     "cell_type": "code",
     "checksum": "0c8716bb90d9af92b2feec625d21bb12",
     "grade": false,
     "grade_id": "cell-fbf8b795b0c73518",
     "locked": false,
     "schema_version": 3,
     "solution": true,
     "task": false
    }
   },
   "outputs": [],
   "source": [
    "# Solution cell\n",
    "\n",
    "query = \"\"\"\n",
    "\"\"\"\n",
    "# YOUR CODE HERE\n",
    "raise NotImplementedError()\n",
    "resultset = %sql $query\n",
    "resultdf = resultset.DataFrame()\n",
    "resultdf.head()"
   ]
  },
  {
   "cell_type": "code",
   "execution_count": null,
   "metadata": {
    "deletable": false,
    "editable": false,
    "nbgrader": {
     "cell_type": "code",
     "checksum": "9ac2c6bf8699e157c99c2b70494fe59f",
     "grade": true,
     "grade_id": "cell-47b5fc9061e91f35",
     "locked": true,
     "points": 2,
     "schema_version": 3,
     "solution": false,
     "task": false
    }
   },
   "outputs": [],
   "source": [
    "# Testing cell\n",
    "assert len(resultdf) == 9660\n"
   ]
  },
  {
   "cell_type": "markdown",
   "metadata": {
    "deletable": false,
    "editable": false,
    "nbgrader": {
     "cell_type": "markdown",
     "checksum": "88a305b820fea693c161108d8b5c5a5b",
     "grade": false,
     "grade_id": "cell-20e4f8ea39216afe",
     "locked": true,
     "schema_version": 3,
     "solution": false,
     "task": false
    }
   },
   "source": [
    "**Q3** In reference to the table `indicators`, write a query to find the minimum non-zero number for `cell` that appears."
   ]
  },
  {
   "cell_type": "code",
   "execution_count": null,
   "metadata": {
    "deletable": false,
    "nbgrader": {
     "cell_type": "code",
     "checksum": "49f0ab7680a444f899272e4c0c527882",
     "grade": false,
     "grade_id": "cell-5226e56a426bd25a",
     "locked": false,
     "schema_version": 3,
     "solution": true,
     "task": false
    }
   },
   "outputs": [],
   "source": [
    "# Solution cell\n",
    "\n",
    "query = \"\"\"\n",
    "\"\"\"\n",
    "# YOUR CODE HERE\n",
    "raise NotImplementedError()\n",
    "resultset = %sql $query\n",
    "resultdf = resultset.DataFrame()\n",
    "resultdf.head()"
   ]
  },
  {
   "cell_type": "code",
   "execution_count": null,
   "metadata": {
    "deletable": false,
    "editable": false,
    "nbgrader": {
     "cell_type": "code",
     "checksum": "2eeffa8d80c37299158a8b02d4760a77",
     "grade": true,
     "grade_id": "cell-55ec74af18a71ef4",
     "locked": true,
     "points": 3,
     "schema_version": 3,
     "solution": false,
     "task": false
    }
   },
   "outputs": [],
   "source": [
    "# Testing cell\n",
    "assert resultdf.loc[0,'cell'] == 0.01"
   ]
  },
  {
   "cell_type": "markdown",
   "metadata": {
    "deletable": false,
    "editable": false,
    "nbgrader": {
     "cell_type": "markdown",
     "checksum": "271cad4eba69775f5aa8706d645951b5",
     "grade": false,
     "grade_id": "cell-f5817232b4f142f2",
     "locked": true,
     "schema_version": 3,
     "solution": false,
     "task": false
    }
   },
   "source": [
    "**Q4** Use a subquery to select the top ten entries in `indicators` by population, then select the bottom three of those by gdp."
   ]
  },
  {
   "cell_type": "code",
   "execution_count": null,
   "metadata": {
    "deletable": false,
    "nbgrader": {
     "cell_type": "code",
     "checksum": "6164f3026690f3098079840a4792bd25",
     "grade": false,
     "grade_id": "cell-b8c0c89a5fdecc80",
     "locked": false,
     "schema_version": 3,
     "solution": true,
     "task": false
    }
   },
   "outputs": [],
   "source": [
    "# Solution cell\n",
    "\n",
    "query = \"\"\"\n",
    "\"\"\"\n",
    "# YOUR CODE HERE\n",
    "raise NotImplementedError()\n",
    "resultset = %sql $query\n",
    "resultdf = resultset.DataFrame()\n",
    "resultdf.head()"
   ]
  },
  {
   "cell_type": "code",
   "execution_count": null,
   "metadata": {
    "deletable": false,
    "editable": false,
    "nbgrader": {
     "cell_type": "code",
     "checksum": "b834ccc19080b67dc513e12e728bdf96",
     "grade": true,
     "grade_id": "cell-6491ac3fd904a904",
     "locked": true,
     "points": 3,
     "schema_version": 3,
     "solution": false,
     "task": false
    }
   },
   "outputs": [],
   "source": [
    "# Testing cell\n",
    "assert len(resultdf) == 3\n",
    "assert resultdf.loc[0,'gdp'] == 2652.55\n",
    "assert resultdf.loc[1,'pop'] == 1352.62"
   ]
  },
  {
   "cell_type": "markdown",
   "metadata": {
    "deletable": false,
    "editable": false,
    "nbgrader": {
     "cell_type": "markdown",
     "checksum": "304b2c3e39f26f081d12dcd7acb41163",
     "grade": false,
     "grade_id": "cell-09b6fdcc914df194",
     "locked": true,
     "schema_version": 3,
     "solution": false,
     "task": false
    }
   },
   "source": [
    "**Q5** Using the SQL table `countries`, use a select query to answer the question: how many countries are there in each income class? Alias your new column as `new`."
   ]
  },
  {
   "cell_type": "code",
   "execution_count": null,
   "metadata": {
    "deletable": false,
    "nbgrader": {
     "cell_type": "code",
     "checksum": "dfaee084c98c58868eeab98767531ab4",
     "grade": false,
     "grade_id": "cell-b034b2d3862728f4",
     "locked": false,
     "schema_version": 3,
     "solution": true,
     "task": false
    }
   },
   "outputs": [],
   "source": [
    "# Solution cell\n",
    "\n",
    "query = \"\"\"\n",
    "\"\"\"\n",
    "# YOUR CODE HERE\n",
    "raise NotImplementedError()\n",
    "resultset = %sql $query\n",
    "resultdf = resultset.DataFrame()\n",
    "resultdf"
   ]
  },
  {
   "cell_type": "code",
   "execution_count": null,
   "metadata": {
    "deletable": false,
    "editable": false,
    "nbgrader": {
     "cell_type": "code",
     "checksum": "2dbd8a95319a1636778577c866c8d40b",
     "grade": true,
     "grade_id": "cell-55c12843e95f38fd",
     "locked": true,
     "points": 3,
     "schema_version": 3,
     "solution": false,
     "task": false
    }
   },
   "outputs": [],
   "source": [
    "# Testing cell\n",
    "\n",
    "assert len(resultdf) == 7\n",
    "assert 58 in list(resultdf['new'])"
   ]
  },
  {
   "cell_type": "markdown",
   "metadata": {
    "deletable": false,
    "editable": false,
    "nbgrader": {
     "cell_type": "markdown",
     "checksum": "b38d1a6379565f9ffb63e7d2212309d9",
     "grade": false,
     "grade_id": "cell-1675c6e29561df6e",
     "locked": true,
     "schema_version": 3,
     "solution": false,
     "task": false
    }
   },
   "source": [
    "**Q6** Not all countries are growing, so the largest population a country ever had might be in a previous year. For each country code in `indicators`, find the max population that country ever had. Alias your new column as `max_pop`. You should have one row per country. Then modify your query to yield only records where the max population is less than 1 (remember, this is measured in millions of people). Use a `HAVING` clause. Don't change the order (that is, your records should still be ordered by `code`)."
   ]
  },
  {
   "cell_type": "code",
   "execution_count": null,
   "metadata": {
    "deletable": false,
    "nbgrader": {
     "cell_type": "code",
     "checksum": "8c247b476c792d1d36c1f1e57679d785",
     "grade": false,
     "grade_id": "cell-8754ec8d72cf3653",
     "locked": false,
     "schema_version": 3,
     "solution": true,
     "task": false
    }
   },
   "outputs": [],
   "source": [
    "# Solution cell\n",
    "\n",
    "query = \"\"\"\n",
    "\"\"\"\n",
    "# YOUR CODE HERE\n",
    "raise NotImplementedError()\n",
    "resultset = %sql $query\n",
    "resultdf = resultset.DataFrame()\n",
    "resultdf.head()"
   ]
  },
  {
   "cell_type": "code",
   "execution_count": null,
   "metadata": {
    "deletable": false,
    "editable": false,
    "nbgrader": {
     "cell_type": "code",
     "checksum": "e00ef7dfc9e62d8f96b36ba2098b0ba8",
     "grade": true,
     "grade_id": "cell-50b95389f3f56dd9",
     "locked": true,
     "points": 3,
     "schema_version": 3,
     "solution": false,
     "task": false
    }
   },
   "outputs": [],
   "source": [
    "# Testing cell\n",
    "assert len(resultdf) == 58\n",
    "assert resultdf.loc[0,'max_pop'] == 0.11\n",
    "assert resultdf.loc[1,'max_pop'] == 0.08"
   ]
  }
 ],
 "metadata": {
  "kernelspec": {
   "display_name": "Python 3",
   "language": "python",
   "name": "python3"
  },
  "language_info": {
   "codemirror_mode": {
    "name": "ipython",
    "version": 3
   },
   "file_extension": ".py",
   "mimetype": "text/x-python",
   "name": "python",
   "nbconvert_exporter": "python",
   "pygments_lexer": "ipython3",
   "version": "3.7.6"
  }
 },
 "nbformat": 4,
 "nbformat_minor": 2
}
