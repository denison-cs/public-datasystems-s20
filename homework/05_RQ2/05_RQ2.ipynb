{
 "cells": [
  {
   "cell_type": "markdown",
   "metadata": {},
   "source": [
    "Before you turn this problem in, make sure everything runs as expected. First, **restart the kernel** (in the menubar, select Kernel$\\rightarrow$Restart) and then **run all cells** (in the menubar, select Cell$\\rightarrow$Run All).\n",
    "\n",
    "Make sure you fill in any place that says `YOUR CODE HERE`/`raise NotImplementedError` or \"YOUR ANSWER HERE\", as well as your name and collaborators below:"
   ]
  },
  {
   "cell_type": "markdown",
   "metadata": {},
   "source": [
    "# 05_RQ2 Reading Questions\n",
    "\n",
    "> The Objectives of these Reading Questions are two-fold\n",
    ">\n",
    "> 1. To practice looking at Provider APIs \"In the Wild\" and translating their documentation/specification into \"raw\" HTTP message syntax and into `curl` invocations\n",
    "> 2. Per Section 23.3 in the book, think about how we process the **results** of a request, and use functions to structure that processing."
   ]
  },
  {
   "cell_type": "markdown",
   "metadata": {},
   "source": [
    "## Provider API to HTTP Request\n",
    "\n",
    "> The problems in this section support the first objective.  After our initial example, we will reference a Provider API endpoint and you will \"translate\" into HTTP twice:\n",
    ">\n",
    "> 1. The first solution will show a `curl` invocation that would be the right incantation for the request.\n",
    "> 2. The second solution will show the raw HTTP as a multi-line block, equivalent to the `curl` and also correct for the desired request.\n",
    "\n",
    "For each problem, you can use\n",
    "\n",
    "Variable | Example Value\n",
    "---------|--------------------------\n",
    "API key  | 987234ab\n",
    "Session ID | a098123c\n",
    "Access Token | feedbeef\n",
    "Movie | 770\n",
    "Spotify User ID | bixby\n",
    "\n",
    "We start with an example problem and solution, to exemplify what we are looking for.  We will use the TMDB Rate Movie endpoint as our example.  See the documentation page to read the full specification: https://developers.themoviedb.org/3/movies/rate-movie\n",
    "\n",
    "Use three backticks to start and end the blocks where you put your `curl` or `HTTP` solutions, as we do in this example."
   ]
  },
  {
   "cell_type": "markdown",
   "metadata": {},
   "source": [
    "**curl solution**\n",
    "```\n",
    "curl --request POST \\\n",
    "     --url 'https://api.themoviedb.org/3/movie/770/rating?api_key=987234ab' \\\n",
    "     --header 'Content-Type: application/json;charset=utf-8' \\\n",
    "     --data '{\"value\": 8.5}'\n",
    "```"
   ]
  },
  {
   "cell_type": "markdown",
   "metadata": {},
   "source": [
    "**HTTP solution**\n",
    "```\n",
    "POST /3/movie/770/rating?api_key=987234ab HTTP/1.1\n",
    "Host: api.themoviedb.org\n",
    "Content-Type: application/json;charset=utf-8\n",
    "\n",
    "{\"value\": 8.5}\n",
    "```"
   ]
  },
  {
   "cell_type": "markdown",
   "metadata": {},
   "source": [
    "**Q1** Use the Spotify API to get a list of the current user's playlists, starting at the 100th one and retrieve up to 30."
   ]
  },
  {
   "cell_type": "markdown",
   "metadata": {
    "deletable": false,
    "nbgrader": {
     "cell_type": "markdown",
     "checksum": "2c3b0f899bdae41c11cd785e36254db8",
     "grade": true,
     "grade_id": "cell-6dae4e58aeaf9991",
     "locked": false,
     "points": 1,
     "schema_version": 3,
     "solution": true,
     "task": false
    }
   },
   "source": [
    "YOUR ANSWER HERE"
   ]
  },
  {
   "cell_type": "markdown",
   "metadata": {
    "deletable": false,
    "nbgrader": {
     "cell_type": "markdown",
     "checksum": "4f3c594872a9f72f0f71e557c0ac759f",
     "grade": true,
     "grade_id": "cell-f67ea3d348eb6a8c",
     "locked": false,
     "points": 1,
     "schema_version": 3,
     "solution": true,
     "task": false
    }
   },
   "source": [
    "YOUR ANSWER HERE"
   ]
  },
  {
   "cell_type": "markdown",
   "metadata": {},
   "source": [
    "**Q2** Use the Spotify API to create a playlist for `bixby`"
   ]
  },
  {
   "cell_type": "markdown",
   "metadata": {
    "deletable": false,
    "nbgrader": {
     "cell_type": "markdown",
     "checksum": "c2f3def6ba132f1b7d204bf0f6e01499",
     "grade": true,
     "grade_id": "cell-b266152cca7e00df",
     "locked": false,
     "points": 1,
     "schema_version": 3,
     "solution": true,
     "task": false
    }
   },
   "source": [
    "YOUR ANSWER HERE"
   ]
  },
  {
   "cell_type": "markdown",
   "metadata": {
    "deletable": false,
    "nbgrader": {
     "cell_type": "markdown",
     "checksum": "dcad6da202e8b4c309f8655dbf27b7cd",
     "grade": true,
     "grade_id": "cell-be8d1d55122bb9a6",
     "locked": false,
     "points": 1,
     "schema_version": 3,
     "solution": true,
     "task": false
    }
   },
   "source": [
    "YOUR ANSWER HERE"
   ]
  },
  {
   "cell_type": "markdown",
   "metadata": {},
   "source": [
    "**Q3** Use the Dropbox API to create a folder at a given path, where the access token is the some as above (would never be the case in reality), and the desired path is `/cs181/reading` and, if there is a conflict with an existing path, auto rename to avoid the conflict."
   ]
  },
  {
   "cell_type": "markdown",
   "metadata": {
    "deletable": false,
    "nbgrader": {
     "cell_type": "markdown",
     "checksum": "4451011a9b5f7dd033d61edc9d986e77",
     "grade": true,
     "grade_id": "cell-320a586a9e9a68e0",
     "locked": false,
     "points": 1,
     "schema_version": 3,
     "solution": true,
     "task": false
    }
   },
   "source": [
    "YOUR ANSWER HERE"
   ]
  },
  {
   "cell_type": "markdown",
   "metadata": {
    "deletable": false,
    "nbgrader": {
     "cell_type": "markdown",
     "checksum": "845bde1b51cf3bbc28c36d0ca5508b7f",
     "grade": true,
     "grade_id": "cell-fb9978cc5492ab59",
     "locked": false,
     "points": 1,
     "schema_version": 3,
     "solution": true,
     "task": false
    }
   },
   "source": [
    "YOUR ANSWER HERE"
   ]
  },
  {
   "cell_type": "markdown",
   "metadata": {},
   "source": [
    "## Chapter 23 Result Processing\n",
    "\n",
    "> As mentioned above, our objective from reading Chapter 23.3 is about creating functions to abstract the lower level details of making a request, and to look at Provider documentation for the **response** and to use it to design code to yield a format, like a List of Dictionaries, that we can then use to build a pandas table.\n",
    "\n",
    "Consider the TMDb endpoint for searching for a person.  The next two questions are going to have you design two functions to work with this endpoint.  Like in the chapter, we write a function to call the endpoint **with appropriate parameters** to have a function that can perform a search (i.e., it should have a parameter passed to the function that gives the search/query string, and like the book example, also passes the api key, performs the request and then returns the json-parsed result, or None if there was a problem.  The second function should take as input the json-parsed result, and should build a List of Dictionaries for a table representing the persons found.\n",
    "\n",
    "These functions are not long, and model what we did in the book.  You are not required to execute and test your functions, but they must be valid Python and be well structured.  Please **develop** your function, and avoid the \"copy and paste\" method of writing functions. (It is painfully clear when you use copy-and-paste.)"
   ]
  },
  {
   "cell_type": "markdown",
   "metadata": {},
   "source": [
    "**Q4** Design a function, `SearchPerson()`, including its parameters, where the function makes a valid request of the TMDb API, and, if successful, returns the JSON data."
   ]
  },
  {
   "cell_type": "code",
   "execution_count": null,
   "metadata": {
    "deletable": false,
    "nbgrader": {
     "cell_type": "code",
     "checksum": "82d112de89933eaef830f2bfbc18a39d",
     "grade": true,
     "grade_id": "cell-cd56277834f172d0",
     "locked": false,
     "points": 2,
     "schema_version": 3,
     "solution": true,
     "task": false
    }
   },
   "outputs": [],
   "source": [
    "# YOUR CODE HERE\n",
    "raise NotImplementedError()"
   ]
  },
  {
   "cell_type": "markdown",
   "metadata": {},
   "source": [
    "**Q5** Design/write a function, `PersonSearch2DoL()` that processes the result and, with an explicit table design in mind, generates a List of Dictionaries for the rows of the table."
   ]
  },
  {
   "cell_type": "code",
   "execution_count": null,
   "metadata": {
    "deletable": false,
    "nbgrader": {
     "cell_type": "code",
     "checksum": "c1c659a9c5bfff972c06a2b733a07a2f",
     "grade": true,
     "grade_id": "cell-66408f6de6fcb13a",
     "locked": false,
     "points": 2,
     "schema_version": 3,
     "solution": true,
     "task": false
    }
   },
   "outputs": [],
   "source": [
    "# YOUR CODE HERE\n",
    "raise NotImplementedError()"
   ]
  }
 ],
 "metadata": {
  "kernelspec": {
   "display_name": "Python 3",
   "language": "python",
   "name": "python3"
  },
  "language_info": {
   "codemirror_mode": {
    "name": "ipython",
    "version": 3
   },
   "file_extension": ".py",
   "mimetype": "text/x-python",
   "name": "python",
   "nbconvert_exporter": "python",
   "pygments_lexer": "ipython3",
   "version": "3.7.6"
  }
 },
 "nbformat": 4,
 "nbformat_minor": 4
}
