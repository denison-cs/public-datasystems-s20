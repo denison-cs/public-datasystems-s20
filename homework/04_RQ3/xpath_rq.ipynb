{
 "cells": [
  {
   "cell_type": "markdown",
   "metadata": {},
   "source": [
    "Before you turn this problem in, make sure everything runs as expected. First, **restart the kernel** (in the menubar, select Kernel$\\rightarrow$Restart) and then **run all cells** (in the menubar, select Cell$\\rightarrow$Run All).\n",
    "\n",
    "Make sure you fill in any place that says `YOUR CODE HERE`/`raise NotImplementedError` or \"YOUR ANSWER HERE\", as well as your name and collaborators below:"
   ]
  },
  {
   "cell_type": "markdown",
   "metadata": {
    "deletable": false,
    "editable": false,
    "nbgrader": {
     "cell_type": "markdown",
     "checksum": "b2f09ad117be5565f6a25cb1436fe9a4",
     "grade": false,
     "grade_id": "cell-9a269d75cf5fe32e",
     "locked": true,
     "schema_version": 3,
     "solution": false,
     "task": false
    }
   },
   "source": [
    "**Q1** We have used the analogy to a file system on many occasions. Please explain, for a tree representing file system data, what would be the meaning of: \n",
    "- internal nodes?\n",
    "- leaf nodes?\n",
    "- tag data?\n",
    "- attribute data?"
   ]
  },
  {
   "cell_type": "markdown",
   "metadata": {
    "deletable": false,
    "nbgrader": {
     "cell_type": "markdown",
     "checksum": "6620d12873343fdb222ada559d3f6c94",
     "grade": true,
     "grade_id": "cell-4b26e738b9ab83f2",
     "locked": false,
     "points": 1,
     "schema_version": 3,
     "solution": true,
     "task": false
    }
   },
   "source": [
    "YOUR ANSWER HERE"
   ]
  },
  {
   "cell_type": "markdown",
   "metadata": {
    "deletable": false,
    "editable": false,
    "nbgrader": {
     "cell_type": "markdown",
     "checksum": "c7c07e6496ef75b2a80eb47bd534976d",
     "grade": false,
     "grade_id": "cell-94841bb86dd8af19",
     "locked": true,
     "schema_version": 3,
     "solution": false,
     "task": false
    }
   },
   "source": [
    "**Q2** What is the difference between the following two XPath expressions?\n",
    "\n",
    "    schroot.xpath(\"//subject/@id[.='BCHM']\")\n",
    "    schroot.xpath(\"//subject[@id='BCHM']\")"
   ]
  },
  {
   "cell_type": "markdown",
   "metadata": {
    "deletable": false,
    "nbgrader": {
     "cell_type": "markdown",
     "checksum": "cd86e2f4214af5c440e1f22abceb5a2f",
     "grade": true,
     "grade_id": "cell-ae04c5c35f3a6721",
     "locked": false,
     "points": 1,
     "schema_version": 3,
     "solution": true,
     "task": false
    }
   },
   "source": [
    "YOUR ANSWER HERE"
   ]
  },
  {
   "cell_type": "markdown",
   "metadata": {
    "deletable": false,
    "editable": false,
    "nbgrader": {
     "cell_type": "markdown",
     "checksum": "b7699bb90fc443ee8370e3b8f95ce99d",
     "grade": false,
     "grade_id": "cell-36bbb4c613d8bbcf",
     "locked": true,
     "schema_version": 3,
     "solution": false,
     "task": false
    }
   },
   "source": [
    "**Q3** Please describe how you might implement an XPath search that uses `//`. You can assume you have a tree stored in a Python data structure, e.g., as a DoD. You can assume you're searching from the root node and are given some node name to search for. Hint: start by thinking about a concrete example, like `ind0`, but then also discuss in your answer if you think a general solution is possible (i.e., one that works on any tree parameter). This might also be a good time to look up algorithms like \"depth-first search\""
   ]
  },
  {
   "cell_type": "markdown",
   "metadata": {
    "deletable": false,
    "nbgrader": {
     "cell_type": "markdown",
     "checksum": "34a54b95f2e8ba302cf403d369e57148",
     "grade": true,
     "grade_id": "cell-7a0480bd69c82bed",
     "locked": false,
     "points": 1,
     "schema_version": 3,
     "solution": true,
     "task": false
    }
   },
   "source": [
    "YOUR ANSWER HERE"
   ]
  },
  {
   "cell_type": "markdown",
   "metadata": {
    "deletable": false,
    "editable": false,
    "nbgrader": {
     "cell_type": "markdown",
     "checksum": "a51145507275a1291ad6fe674a88643c",
     "grade": false,
     "grade_id": "cell-4eada515bd258ca5",
     "locked": true,
     "schema_version": 3,
     "solution": false,
     "task": false
    }
   },
   "source": [
    "**Q4** With reference to the `school` data, please write an XPath expression to match all attributes with key `num` anywhere in the document."
   ]
  },
  {
   "cell_type": "markdown",
   "metadata": {
    "deletable": false,
    "nbgrader": {
     "cell_type": "markdown",
     "checksum": "28c3328ad911c3c1891436ab04f2dfc7",
     "grade": true,
     "grade_id": "cell-1ff105ff7ea39c4a",
     "locked": false,
     "points": 1,
     "schema_version": 3,
     "solution": true,
     "task": false
    }
   },
   "source": [
    "YOUR ANSWER HERE"
   ]
  },
  {
   "cell_type": "markdown",
   "metadata": {
    "deletable": false,
    "editable": false,
    "nbgrader": {
     "cell_type": "markdown",
     "checksum": "0a6aadb73edd7dbd87e2067ccba98528",
     "grade": false,
     "grade_id": "cell-5080608c143cfa9c",
     "locked": true,
     "schema_version": 3,
     "solution": false,
     "task": false
    }
   },
   "source": [
    "**Q5** Repeat your solution to the above, but now with a Python line of code that invokes the method `xpath()` on a root node for `school`, and prints the resulting list. To test your code, follow the model from the `inclass` where you read in the file (or URL to access the resource given the link below), then parse it, then extract the root.\n",
    "\n",
    "http://personal.denison.edu/~bressoud/datasystems/data/"
   ]
  },
  {
   "cell_type": "markdown",
   "metadata": {
    "deletable": false,
    "nbgrader": {
     "cell_type": "markdown",
     "checksum": "d3e6511433857bb73eef696cad836f0c",
     "grade": true,
     "grade_id": "cell-56a49c6a72a193d1",
     "locked": false,
     "points": 1,
     "schema_version": 3,
     "solution": true,
     "task": false
    }
   },
   "source": [
    "YOUR ANSWER HERE"
   ]
  },
  {
   "cell_type": "markdown",
   "metadata": {
    "deletable": false,
    "editable": false,
    "nbgrader": {
     "cell_type": "markdown",
     "checksum": "33feaefebc24178389ddec934d096378",
     "grade": false,
     "grade_id": "cell-6bd8060be107f3bf",
     "locked": true,
     "schema_version": 3,
     "solution": false,
     "task": false
    }
   },
   "source": [
    "**Q6** With reference to the `school` data, please write an XPath expression to match all courses with subject attribute of \"CS\". In Python, this would yield a list of `Elements` with tag `course`. Hint: you will need a predicate that looks at an attribute, with `@`"
   ]
  },
  {
   "cell_type": "markdown",
   "metadata": {
    "deletable": false,
    "nbgrader": {
     "cell_type": "markdown",
     "checksum": "1d44b68f11608cfddc8a6c4cf7e55c4c",
     "grade": true,
     "grade_id": "cell-1cb8b947249381a1",
     "locked": false,
     "points": 1,
     "schema_version": 3,
     "solution": true,
     "task": false
    }
   },
   "source": [
    "YOUR ANSWER HERE"
   ]
  },
  {
   "cell_type": "markdown",
   "metadata": {
    "deletable": false,
    "editable": false,
    "nbgrader": {
     "cell_type": "markdown",
     "checksum": "55fce0a5f57c0176f46868284ae179c2",
     "grade": false,
     "grade_id": "cell-432187008686e848",
     "locked": true,
     "schema_version": 3,
     "solution": false,
     "task": false
    }
   },
   "source": [
    "**Q7** With reference to the `school` data, please write an XPath expression to match all courses worth 2 or fewer credit hours. In Python, this would yield a list of `Elements` with tag `course`. Hint: this will involve a predicate and backtracking (`..`)."
   ]
  },
  {
   "cell_type": "markdown",
   "metadata": {
    "deletable": false,
    "nbgrader": {
     "cell_type": "markdown",
     "checksum": "62c9d88121d53e2c5e36fbfaa84bc371",
     "grade": true,
     "grade_id": "cell-4b912bd374bd4704",
     "locked": false,
     "points": 1,
     "schema_version": 3,
     "solution": true,
     "task": false
    }
   },
   "source": [
    "YOUR ANSWER HERE"
   ]
  },
  {
   "cell_type": "markdown",
   "metadata": {
    "deletable": false,
    "editable": false,
    "nbgrader": {
     "cell_type": "markdown",
     "checksum": "add9e7de18acc64cb4843c4e059dacba",
     "grade": false,
     "grade_id": "cell-298c021389c69781",
     "locked": true,
     "schema_version": 3,
     "solution": false,
     "task": false
    }
   },
   "source": [
    "**Q8** With reference to the `school` data, please write an XPath expression to match all courses with title text containing \"Theory\". In Python, this would yield a list of `Elements` with tag `course`. Hint: this is like the above, but uses a built-in function from the reading."
   ]
  },
  {
   "cell_type": "markdown",
   "metadata": {
    "deletable": false,
    "nbgrader": {
     "cell_type": "markdown",
     "checksum": "faffb1022fcf4a75b8054c591398433d",
     "grade": true,
     "grade_id": "cell-1d82538b7cf4547b",
     "locked": false,
     "points": 1,
     "schema_version": 3,
     "solution": true,
     "task": false
    }
   },
   "source": [
    "YOUR ANSWER HERE"
   ]
  }
 ],
 "metadata": {
  "kernelspec": {
   "display_name": "Python 3",
   "language": "python",
   "name": "python3"
  },
  "language_info": {
   "codemirror_mode": {
    "name": "ipython",
    "version": 3
   },
   "file_extension": ".py",
   "mimetype": "text/x-python",
   "name": "python",
   "nbconvert_exporter": "python",
   "pygments_lexer": "ipython3",
   "version": "3.7.4"
  }
 },
 "nbformat": 4,
 "nbformat_minor": 2
}
