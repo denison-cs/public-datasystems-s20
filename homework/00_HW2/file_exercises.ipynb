{
 "cells": [
  {
   "cell_type": "markdown",
   "metadata": {},
   "source": [
    "Before you turn this problem in, make sure everything runs as expected. First, **restart the kernel** (in the menubar, select Kernel$\\rightarrow$Restart) and then **run all cells** (in the menubar, select Cell$\\rightarrow$Run All).\n",
    "\n",
    "Make sure you fill in any place that says `YOUR CODE HERE` or \"YOUR ANSWER HERE\", as well as your name and collaborators below:"
   ]
  },
  {
   "cell_type": "code",
   "execution_count": null,
   "metadata": {},
   "outputs": [],
   "source": [
    "NAME = \"\"\n",
    "COLLABORATORS = \"\""
   ]
  },
  {
   "cell_type": "markdown",
   "metadata": {},
   "source": [
    "---"
   ]
  },
  {
   "cell_type": "markdown",
   "metadata": {},
   "source": [
    "## Exercises on Files\n",
    "\n",
    "### References\n",
    "\n",
    "In addition to Chapter 2 of the class textbook, some other references that you might find helpful:\n",
    "\n",
    "- Discovering Computer Science, Jessen Havill, Chapter 6, Section 6.2\n",
    "- Online CS1 textbook: http://interactivepython.org/runestone/static/thinkcspy/Files/toctree.html\n",
    "\n",
    "### Exercises\n",
    "\n",
    "Note that you will lose significant credit if, for each function, you do not provide a **docstring** for the function.  If you do not recall how or where docstrings are to be placed for functions, see, for example:  \n",
    "\n",
    "- Discovering Computer Science, Jessen Havill, Chapter 3, Section 3.4\n",
    "- https://docs.python-guide.org/writing/documentation/#writing-docstrings"
   ]
  },
  {
   "cell_type": "code",
   "execution_count": null,
   "metadata": {
    "deletable": false,
    "editable": false,
    "nbgrader": {
     "cell_type": "code",
     "checksum": "26b919b14f910df3e206a9c92b05ab11",
     "grade": false,
     "grade_id": "setup-c2f03b11c7d77265",
     "locked": true,
     "schema_version": 3,
     "solution": false
    }
   },
   "outputs": [],
   "source": [
    "import os\n",
    "import os.path\n",
    "import io\n",
    "import sys\n",
    "from contextlib import redirect_stdout\n",
    "\n",
    "datadir = \"publicdata\""
   ]
  },
  {
   "cell_type": "markdown",
   "metadata": {
    "deletable": false,
    "editable": false,
    "nbgrader": {
     "cell_type": "markdown",
     "checksum": "8873df091719890294abfd240b8e7db9",
     "grade": false,
     "grade_id": "cell-90a0f17a2dff9fdb",
     "locked": true,
     "schema_version": 3,
     "solution": false
    }
   },
   "source": [
    "**Q:** Write a function that takes a single argument of a file path and, by opening, reading and closing the file, obtains the count of characters in the file.  If the path argument does **not** refer to an existing file, the function should return -1.\n",
    "\n",
    "    fileCharCount(path)\n"
   ]
  },
  {
   "cell_type": "code",
   "execution_count": null,
   "metadata": {
    "deletable": false,
    "nbgrader": {
     "cell_type": "code",
     "checksum": "37c5116802fac5cff4ee265cded66b75",
     "grade": false,
     "grade_id": "cell-d8e89dc6e7795f85",
     "locked": false,
     "schema_version": 3,
     "solution": true
    }
   },
   "outputs": [],
   "source": [
    "# Solution cell\n",
    "\n",
    "def fileCharCount(path):\n",
    "    count = 0\n",
    "    # YOUR CODE HERE\n",
    "    raise NotImplementedError()\n",
    "    return count\n",
    "print(\"Tennyson count:\", fileCharCount(os.path.join(datadir, \"tennyson.txt\")))"
   ]
  },
  {
   "cell_type": "code",
   "execution_count": null,
   "metadata": {
    "deletable": false,
    "editable": false,
    "nbgrader": {
     "cell_type": "code",
     "checksum": "9fd033564694306a4a3f8318083714ff",
     "grade": true,
     "grade_id": "cell-772314a11ed20586",
     "locked": true,
     "points": 3,
     "schema_version": 3,
     "solution": false
    }
   },
   "outputs": [],
   "source": [
    "# Testing cell\n",
    "\n",
    "assert fileCharCount(os.path.join(datadir, \"tennyson.txt\")) == 124\n",
    "assert fileCharCount(os.path.join(datadir, \"hello.txt\")) == 57\n",
    "assert fileCharCount(os.path.join(datadir, \"twolines.txt\")) == 25\n",
    "assert fileCharCount(os.path.join(datadir, \"foobar.txt\")) == -1"
   ]
  },
  {
   "cell_type": "markdown",
   "metadata": {
    "deletable": false,
    "editable": false,
    "nbgrader": {
     "cell_type": "markdown",
     "checksum": "97de93dfa8f6b3f7a8aa3e08db54bc48",
     "grade": false,
     "grade_id": "include-f7f8d97ed9e08e7f",
     "locked": true,
     "schema_version": 3,
     "solution": false
    }
   },
   "source": [
    "Suppose, in the data directory given by python variable `datadir`, there is a file named `tennyson.txt`.  The content of the file consists of the five lines as shown here:\n",
    "\n",
    "    Twilight and evening bell,  \n",
    "      And after that the dark!     \n",
    "\n",
    "    And may there be no sadness of farewell,  \n",
    "      When I embark;  \n",
    "\n",
    "So there are two lines, an empty line, and then two following lines.  Each of these five lines is terminated by the newline (`'\\n'`).  Some lines begin immediately with a non-space character, and some lines begin with one or more spaces.  Although not visible in the above, some of the lines have space characters at the end, before the terminating newline.\n"
   ]
  },
  {
   "cell_type": "markdown",
   "metadata": {
    "deletable": false,
    "editable": false,
    "nbgrader": {
     "cell_type": "markdown",
     "checksum": "43e6f1f215e16e9fd2b050f7e59c2184",
     "grade": false,
     "grade_id": "cell-35e6a897394ad952",
     "locked": true,
     "schema_version": 3,
     "solution": false
    }
   },
   "source": [
    "**Q:** For the `tennyson.txt` file, we want to read the lines and return a list of strings, with one entry in the list for each line of the file.  Use repeated invocations of the `readline()` method in your solution, and, because this is specific to the `tennyson.txt` file, your function can use the knowledge that there are five lines in the file.\n",
    "\n",
    "    tennysonLines()\n"
   ]
  },
  {
   "cell_type": "code",
   "execution_count": null,
   "metadata": {
    "deletable": false,
    "nbgrader": {
     "cell_type": "code",
     "checksum": "f64045cac9461b91fa81d104da2a1325",
     "grade": false,
     "grade_id": "cell-71057810a2d7ce51",
     "locked": false,
     "schema_version": 3,
     "solution": true
    }
   },
   "outputs": [],
   "source": [
    "# Solution cell\n",
    "\n",
    "# YOUR CODE HERE\n",
    "raise NotImplementedError()\n",
    "print(tennysonLines())"
   ]
  },
  {
   "cell_type": "code",
   "execution_count": null,
   "metadata": {
    "deletable": false,
    "editable": false,
    "nbgrader": {
     "cell_type": "code",
     "checksum": "c44736ff30c8c88233f41a1ff12e7739",
     "grade": true,
     "grade_id": "cell-a2f54407a10b92cb",
     "locked": true,
     "points": 3,
     "schema_version": 3,
     "solution": false
    }
   },
   "outputs": [],
   "source": [
    "# Testing cell\n",
    "\n",
    "filelines = tennysonLines()\n",
    "\n",
    "assert len(filelines) == 5\n",
    "assert filelines[0] == 'Twilight and evening bell,  \\n'\n",
    "assert filelines[-1] == '  When I embark;  \\n'\n",
    "assert filelines[2] == '\\n'"
   ]
  },
  {
   "cell_type": "markdown",
   "metadata": {
    "deletable": false,
    "editable": false,
    "nbgrader": {
     "cell_type": "markdown",
     "checksum": "d711160b2077f9fc98faca413a1de747",
     "grade": false,
     "grade_id": "cell-4bed3de059fe0cf8",
     "locked": true,
     "schema_version": 3,
     "solution": false
    }
   },
   "source": [
    "**Q:** Write a function\n",
    "\n",
    "    lastWords(filepath)\n",
    "\n",
    "that creates and returns a list of strings consisting of the last word in each of the lines of the text file whose location is given by `filepath`.  The items in the list should not include any newline or whitespace as part of any of the words, and there should not be any items in the list for any lines consisting of all whitespace.  A word, as required here, will include the last sequence of non-whitespace in the line."
   ]
  },
  {
   "cell_type": "code",
   "execution_count": null,
   "metadata": {
    "deletable": false,
    "nbgrader": {
     "cell_type": "code",
     "checksum": "1f214b2d7b04e871bf64a74db767f2a0",
     "grade": false,
     "grade_id": "cell-09d48197093a7c06",
     "locked": false,
     "schema_version": 3,
     "solution": true
    }
   },
   "outputs": [],
   "source": [
    "# Solution cell\n",
    "\n",
    "# YOUR CODE HERE\n",
    "raise NotImplementedError()\n",
    "filepath = os.path.join(datadir, \"tennyson.txt\")\n",
    "print(lastWords(filepath))"
   ]
  },
  {
   "cell_type": "code",
   "execution_count": null,
   "metadata": {
    "deletable": false,
    "editable": false,
    "nbgrader": {
     "cell_type": "code",
     "checksum": "19f51ac8356d38f5349cc1393a15b238",
     "grade": true,
     "grade_id": "cell-90f390601d4c01ec",
     "locked": true,
     "points": 3,
     "schema_version": 3,
     "solution": false
    }
   },
   "outputs": [],
   "source": [
    "# Testing cell\n",
    "\n",
    "assert lastWords(os.path.join(datadir, \"tennyson.txt\")) == ['bell,', 'dark!', 'farewell,', 'embark;']"
   ]
  },
  {
   "cell_type": "markdown",
   "metadata": {
    "deletable": false,
    "editable": false,
    "nbgrader": {
     "cell_type": "markdown",
     "checksum": "99ce917fada9d7a6a3f6a02a5e09e647",
     "grade": false,
     "grade_id": "cell-011e2382d00a86b7",
     "locked": true,
     "schema_version": 3,
     "solution": false
    }
   },
   "source": [
    "**Q:** Sometimes, when processing a file, some number of header, comment, or documentation lines at the beginning of a file must be omitted from the processing and skipped over before processing the remaining lines in the file.  Consider the addition of parameter, `skiplines` with a default value of 0 for the previous problem:\n",
    "\n",
    "    lineLengths(filepath, skiplines=0)\n",
    "\n",
    "The function should skip the specified number of lines and then, for the remainder of the lines, compute a list of (line number, line length) tuples, one per processed lines.  The line number advances, even for the skipped lines.  Line lengths should exclude any leading or trailing whitespace (spaces, tabs, trailing newline).  So for the `tennyson.txt` file:\n",
    "\n",
    "    Twilight and evening bell,  \n",
    "      And after that the dark!     \n",
    "\n",
    "    And may there be no sadness of farewell,  \n",
    "      When I embark;  \n",
    "\n",
    "the result of `lineLengths(\"tennyson.txt\", skiplines=2)` is the list of tuples: `[(3, 0), (4, 40), (5, 14)]` since lines 1 and 2 are skipped, and line 3 is an empty line, consisting of just a newline."
   ]
  },
  {
   "cell_type": "code",
   "execution_count": null,
   "metadata": {
    "deletable": false,
    "nbgrader": {
     "cell_type": "code",
     "checksum": "a846904033515cb4218704fec3ed925e",
     "grade": false,
     "grade_id": "cell-9662239e79b8a501",
     "locked": false,
     "schema_version": 3,
     "solution": true
    }
   },
   "outputs": [],
   "source": [
    "# Solution cell\n",
    "\n",
    "# YOUR CODE HERE\n",
    "raise NotImplementedError()\n",
    "\n",
    "filepath = os.path.join(datadir, \"hello.txt\")\n",
    "print(\"hello.txt:\", lineLengths(filepath))\n",
    "\n",
    "filepath = os.path.join(datadir, \"tennyson.txt\")\n",
    "print(\"tennyson.txt:\", lineLengths(filepath, skiplines=2))"
   ]
  },
  {
   "cell_type": "code",
   "execution_count": null,
   "metadata": {
    "deletable": false,
    "editable": false,
    "nbgrader": {
     "cell_type": "code",
     "checksum": "9fff5b19f98b660bba6cac0c52b910ab",
     "grade": true,
     "grade_id": "cell-3396d1b555aa5e73",
     "locked": true,
     "points": 5,
     "schema_version": 3,
     "solution": false
    }
   },
   "outputs": [],
   "source": [
    "# Testing cell\n",
    "\n",
    "filepath = os.path.join(datadir, \"hello.txt\")\n",
    "assert lineLengths(filepath) == [(1, 13), (2, 42)]\n",
    "assert lineLengths(filepath, skiplines=1) == [(2, 42)]\n",
    "assert lineLengths(filepath, skiplines=2) == []\n",
    "\n",
    "filepath = os.path.join(datadir, \"tennyson.txt\")\n",
    "assert lineLengths(filepath, skiplines=2) == [(3, 0), (4, 40), (5, 14)]"
   ]
  }
 ],
 "metadata": {
  "kernelspec": {
   "display_name": "Python 3",
   "language": "python",
   "name": "python3"
  },
  "language_info": {
   "codemirror_mode": {
    "name": "ipython",
    "version": 3
   },
   "file_extension": ".py",
   "mimetype": "text/x-python",
   "name": "python",
   "nbconvert_exporter": "python",
   "pygments_lexer": "ipython3",
   "version": "3.7.4"
  }
 },
 "nbformat": 4,
 "nbformat_minor": 4
}
