{
 "cells": [
  {
   "cell_type": "markdown",
   "metadata": {},
   "source": [
    "Before you turn this problem in, make sure everything runs as expected. First, **restart the kernel** (in the menubar, select Kernel$\\rightarrow$Restart) and then **run all cells** (in the menubar, select Cell$\\rightarrow$Run All).\n",
    "\n",
    "Make sure you fill in any place that says `YOUR CODE HERE` or \"YOUR ANSWER HERE\", as well as your name and collaborators below:"
   ]
  },
  {
   "cell_type": "code",
   "execution_count": null,
   "metadata": {},
   "outputs": [],
   "source": [
    "NAME = \"\"\n",
    "COLLABORATORS = \"\""
   ]
  },
  {
   "cell_type": "markdown",
   "metadata": {},
   "source": [
    "---"
   ]
  },
  {
   "cell_type": "markdown",
   "metadata": {},
   "source": [
    "# Reading Questions: Native Python"
   ]
  },
  {
   "cell_type": "markdown",
   "metadata": {
    "deletable": false,
    "editable": false,
    "nbgrader": {
     "cell_type": "markdown",
     "checksum": "1cc5e231e4caa72e58f9e9d9b043fd45",
     "grade": false,
     "grade_id": "cell-097912dcb0f6e90a",
     "locked": true,
     "schema_version": 3,
     "solution": false,
     "task": false
    }
   },
   "source": [
    "**Q**  Can you think of an algorithm that generates a new list where, after the first element (or two), subsequent elements are determined from previous element(s)?"
   ]
  },
  {
   "cell_type": "markdown",
   "metadata": {
    "deletable": false,
    "nbgrader": {
     "cell_type": "markdown",
     "checksum": "bdcef839f34238d700ef576b0a20ec26",
     "grade": true,
     "grade_id": "cell-53f6effdbe1ccfc0",
     "locked": false,
     "points": 1,
     "schema_version": 3,
     "solution": true,
     "task": false
    }
   },
   "source": [
    "YOUR ANSWER HERE"
   ]
  },
  {
   "cell_type": "markdown",
   "metadata": {
    "deletable": false,
    "editable": false,
    "nbgrader": {
     "cell_type": "markdown",
     "checksum": "64ac58561056bac44a403f614389a859",
     "grade": false,
     "grade_id": "cell-12ad297e120a8d45",
     "locked": true,
     "schema_version": 3,
     "solution": false,
     "task": false
    }
   },
   "source": [
    "**Q** Suppose you wanted to perform negation, a unary *operator* as opposed to a function in the Unary Vector Operation pattern (3.1.2).  What would that code look like?"
   ]
  },
  {
   "cell_type": "markdown",
   "metadata": {
    "deletable": false,
    "nbgrader": {
     "cell_type": "markdown",
     "checksum": "a05d54e63a774b5ef57132d6b166159b",
     "grade": true,
     "grade_id": "cell-ccd373da10071c83",
     "locked": false,
     "points": 1,
     "schema_version": 3,
     "solution": true,
     "task": false
    }
   },
   "source": [
    "YOUR ANSWER HERE"
   ]
  },
  {
   "cell_type": "markdown",
   "metadata": {
    "deletable": false,
    "editable": false,
    "nbgrader": {
     "cell_type": "markdown",
     "checksum": "b6d4012030b8beef857d9683a79eb154",
     "grade": false,
     "grade_id": "cell-8c4c9dbacf5803eb",
     "locked": true,
     "schema_version": 3,
     "solution": false,
     "task": false
    }
   },
   "source": [
    "**Q** Can you think of a previous time in your life when you had to be careful to make sure two lists were the same length? Was it an example of a binary vector operation?"
   ]
  },
  {
   "cell_type": "markdown",
   "metadata": {
    "deletable": false,
    "nbgrader": {
     "cell_type": "markdown",
     "checksum": "b10c70d718245b699cd0c1f1a54fa759",
     "grade": true,
     "grade_id": "cell-a180e8bd7032a2d9",
     "locked": false,
     "points": 1,
     "schema_version": 3,
     "solution": true,
     "task": false
    }
   },
   "source": [
    "YOUR ANSWER HERE"
   ]
  },
  {
   "cell_type": "markdown",
   "metadata": {
    "deletable": false,
    "editable": false,
    "nbgrader": {
     "cell_type": "markdown",
     "checksum": "b48a87e8a314f3ded9537ac570c7142d",
     "grade": false,
     "grade_id": "cell-7a6293e439e20e3f",
     "locked": true,
     "schema_version": 3,
     "solution": false,
     "task": false
    }
   },
   "source": [
    "**Q** Can you think of a real-world example where you would want to filter a dataset and keep only a particular subset? What predicate would you use? Please choose an example different from any in this section."
   ]
  },
  {
   "cell_type": "markdown",
   "metadata": {
    "deletable": false,
    "nbgrader": {
     "cell_type": "markdown",
     "checksum": "2377edb27e00566d7f490b09864aea63",
     "grade": true,
     "grade_id": "cell-aabfa6b055e38498",
     "locked": false,
     "points": 1,
     "schema_version": 3,
     "solution": true,
     "task": false
    }
   },
   "source": [
    "YOUR ANSWER HERE"
   ]
  },
  {
   "cell_type": "markdown",
   "metadata": {
    "deletable": false,
    "editable": false,
    "nbgrader": {
     "cell_type": "markdown",
     "checksum": "3a2f0f87ee17ea5399b690cb788a0bb3",
     "grade": false,
     "grade_id": "cell-554a544d8b2316c1",
     "locked": true,
     "schema_version": 3,
     "solution": false,
     "task": false
    }
   },
   "source": [
    "**Q** The text describes the benefits of a dictionary over a list for student GPA data. Suppose our dataset has a large number, $n$, of students. What is the worst case number of steps it would take to locate the index of a particular student if a list representation were used? Why is it more efficient to use a dictionary?"
   ]
  },
  {
   "cell_type": "markdown",
   "metadata": {
    "deletable": false,
    "nbgrader": {
     "cell_type": "markdown",
     "checksum": "9cbc3a48cdf8c1c7a86e893bcb7b77e3",
     "grade": true,
     "grade_id": "cell-f423d16caf5e466b",
     "locked": false,
     "points": 1,
     "schema_version": 3,
     "solution": true,
     "task": false
    }
   },
   "source": [
    "YOUR ANSWER HERE"
   ]
  },
  {
   "cell_type": "markdown",
   "metadata": {
    "deletable": false,
    "editable": false,
    "nbgrader": {
     "cell_type": "markdown",
     "checksum": "3a4e161ccb36cc492d68a3d0bc87b2ec",
     "grade": false,
     "grade_id": "cell-a3990e97bffa04df",
     "locked": true,
     "schema_version": 3,
     "solution": false,
     "task": false
    }
   },
   "source": [
    "**Q** Give an example of a Python object that is not a function. Hint: think about times when you imported a module, then created an instance of an abstract data type taken from that module."
   ]
  },
  {
   "cell_type": "markdown",
   "metadata": {
    "deletable": false,
    "nbgrader": {
     "cell_type": "markdown",
     "checksum": "573ba36990b47db328d2680ae4a90874",
     "grade": true,
     "grade_id": "cell-ad8bef3246a945e6",
     "locked": false,
     "points": 1,
     "schema_version": 3,
     "solution": true,
     "task": false
    }
   },
   "source": [
    "YOUR ANSWER HERE"
   ]
  },
  {
   "cell_type": "markdown",
   "metadata": {
    "deletable": false,
    "editable": false,
    "nbgrader": {
     "cell_type": "markdown",
     "checksum": "5715258fac29beeae73d81648fedc362",
     "grade": false,
     "grade_id": "cell-11ba68b5c9f215e1",
     "locked": true,
     "schema_version": 3,
     "solution": false,
     "task": false
    }
   },
   "source": [
    "**Q** Write 1-2 sentences arguing that the use of lambda expressions can make code easier to read. Hint: think about large programs with thousands of lines of code, and where functions may be located within that program."
   ]
  },
  {
   "cell_type": "markdown",
   "metadata": {
    "deletable": false,
    "nbgrader": {
     "cell_type": "markdown",
     "checksum": "7bf5ef565d3657abcb42b0f9f6bf1296",
     "grade": true,
     "grade_id": "cell-b035cbe6ffd762c4",
     "locked": false,
     "points": 1,
     "schema_version": 3,
     "solution": true,
     "task": false
    }
   },
   "source": [
    "YOUR ANSWER HERE"
   ]
  },
  {
   "cell_type": "markdown",
   "metadata": {
    "deletable": false,
    "editable": false,
    "nbgrader": {
     "cell_type": "markdown",
     "checksum": "86a2455247e6e961347c3d86d0f67c27",
     "grade": false,
     "grade_id": "cell-5ca81a4e4eb0f2d3",
     "locked": true,
     "schema_version": 3,
     "solution": false,
     "task": false
    }
   },
   "source": [
    "**Q** What is the value of `L` at the end of the following:\n",
    "\n",
    "        L = [2 * i for i in range(15) if (2 * i) % 6 != 0]"
   ]
  },
  {
   "cell_type": "markdown",
   "metadata": {
    "deletable": false,
    "nbgrader": {
     "cell_type": "markdown",
     "checksum": "316807a0d479d743bcea326be2b8ef68",
     "grade": true,
     "grade_id": "cell-dc469dcfa2e8a26f",
     "locked": false,
     "points": 1,
     "schema_version": 3,
     "solution": true,
     "task": false
    }
   },
   "source": [
    "YOUR ANSWER HERE"
   ]
  },
  {
   "cell_type": "markdown",
   "metadata": {
    "deletable": false,
    "editable": false,
    "nbgrader": {
     "cell_type": "markdown",
     "checksum": "0cb1209bd94fe97db8e7edf2ceb853f7",
     "grade": false,
     "grade_id": "cell-b4573bcd085ad879",
     "locked": true,
     "schema_version": 3,
     "solution": false,
     "task": false
    }
   },
   "source": [
    "**Q** The reading discussed the importance of maintaining the correspondence between parallel lists. Type the data below into Microsoft Excel and ask Excel to sort the data by `total_births`.\n",
    "\n",
    "        year  name  total_births\n",
    "        2010  Isabella\t22913\n",
    "        2010  Ava\t15433\n",
    "        2015  Emma\t20455\n",
    "        2015  Olivia\t19691\n",
    "\n",
    "Excel will ask if you want to \"expand the selection\" - try it with and without this option and keep track of what happens. How is this related to the correspondence between parallel lists?"
   ]
  },
  {
   "cell_type": "markdown",
   "metadata": {
    "deletable": false,
    "nbgrader": {
     "cell_type": "markdown",
     "checksum": "40660d57dcb3ce22abec41578e132d87",
     "grade": true,
     "grade_id": "cell-4a48745f58256ae7",
     "locked": false,
     "points": 1,
     "schema_version": 3,
     "solution": true,
     "task": false
    }
   },
   "source": [
    "YOUR ANSWER HERE"
   ]
  },
  {
   "cell_type": "markdown",
   "metadata": {
    "deletable": false,
    "editable": false,
    "nbgrader": {
     "cell_type": "markdown",
     "checksum": "02103d879b67652bd0d9a9f8280c94b7",
     "grade": false,
     "grade_id": "cell-8a57c709e784740f",
     "locked": true,
     "schema_version": 3,
     "solution": false,
     "task": false
    }
   },
   "source": [
    "**Q** Show how to represent the data above as a dictionary of lists, as in the reading."
   ]
  },
  {
   "cell_type": "markdown",
   "metadata": {
    "deletable": false,
    "nbgrader": {
     "cell_type": "markdown",
     "checksum": "fcd1edf7e154e0cc8119eca99538ba7c",
     "grade": true,
     "grade_id": "cell-5a3140546ead1e65",
     "locked": false,
     "points": 1,
     "schema_version": 3,
     "solution": true,
     "task": false
    }
   },
   "source": [
    "YOUR ANSWER HERE"
   ]
  },
  {
   "cell_type": "markdown",
   "metadata": {},
   "source": [
    "**Q** Between the \"dictionary of lists\" approach and the \"list of lists\" approach, which most closely resembles the format of data that comes to us as a csv file, and why?"
   ]
  },
  {
   "cell_type": "markdown",
   "metadata": {
    "deletable": false,
    "nbgrader": {
     "cell_type": "markdown",
     "checksum": "83f953b85a28e23fcc71c5f57da61d59",
     "grade": true,
     "grade_id": "cell-600ed28832349b00",
     "locked": false,
     "points": 1,
     "schema_version": 3,
     "solution": true,
     "task": false
    }
   },
   "source": [
    "YOUR ANSWER HERE"
   ]
  },
  {
   "cell_type": "markdown",
   "metadata": {
    "deletable": false,
    "editable": false,
    "nbgrader": {
     "cell_type": "markdown",
     "checksum": "4f5538cdfd3737ed93c3c42810398d09",
     "grade": false,
     "grade_id": "cell-2e0d195c3f83d84a",
     "locked": true,
     "schema_version": 3,
     "solution": false,
     "task": false
    }
   },
   "source": [
    "**Q** List at least one pro and one con of using a list of lists representation to store two dimensional data. Try to be creative, and feel free to write more than one pro/con. "
   ]
  },
  {
   "cell_type": "markdown",
   "metadata": {
    "deletable": false,
    "nbgrader": {
     "cell_type": "markdown",
     "checksum": "0aca11d7798e1653054081dd5b3c5bef",
     "grade": true,
     "grade_id": "cell-a8606a128b58f24a",
     "locked": false,
     "points": 1,
     "schema_version": 3,
     "solution": true,
     "task": false
    }
   },
   "source": [
    "YOUR ANSWER HERE"
   ]
  }
 ],
 "metadata": {
  "kernelspec": {
   "display_name": "Python 3",
   "language": "python",
   "name": "python3"
  },
  "language_info": {
   "codemirror_mode": {
    "name": "ipython",
    "version": 3
   },
   "file_extension": ".py",
   "mimetype": "text/x-python",
   "name": "python",
   "nbconvert_exporter": "python",
   "pygments_lexer": "ipython3",
   "version": "3.7.4"
  }
 },
 "nbformat": 4,
 "nbformat_minor": 2
}
