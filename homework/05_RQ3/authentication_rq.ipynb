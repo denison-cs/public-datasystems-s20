{
 "cells": [
  {
   "cell_type": "markdown",
   "metadata": {},
   "source": [
    "Before you turn this problem in, make sure everything runs as expected. First, **restart the kernel** (in the menubar, select Kernel$\\rightarrow$Restart) and then **run all cells** (in the menubar, select Cell$\\rightarrow$Run All).\n",
    "\n",
    "Make sure you fill in any place that says `YOUR CODE HERE`/`raise NotImplementedError` or \"YOUR ANSWER HERE\", as well as your name and collaborators below:"
   ]
  },
  {
   "cell_type": "markdown",
   "metadata": {
    "deletable": false,
    "editable": false,
    "nbgrader": {
     "cell_type": "markdown",
     "checksum": "61fb587fe818ae9bb54c16dfa643d0ec",
     "grade": false,
     "grade_id": "cell-8bd9d6be94ffffa3",
     "locked": true,
     "schema_version": 3,
     "solution": false,
     "task": false
    }
   },
   "source": [
    "**Q (DW)** The reading mentions \"globally known certification authorities.\" Please use a search engine to learn a bit more about this topic and report what you found. In particular, how/when does the host of a website get a certificate? Do they do it every time a client navigates to their webpage? Under what circumstances would a certificate be denied?\n"
   ]
  },
  {
   "cell_type": "markdown",
   "metadata": {
    "deletable": false,
    "nbgrader": {
     "cell_type": "markdown",
     "checksum": "60c2d77ff6a3adce55accc3e51481277",
     "grade": true,
     "grade_id": "cell-ae352b23dbf1c61f",
     "locked": false,
     "points": 0,
     "schema_version": 3,
     "solution": true,
     "task": false
    }
   },
   "source": [
    "YOUR ANSWER HERE"
   ]
  },
  {
   "cell_type": "markdown",
   "metadata": {
    "deletable": false,
    "editable": false,
    "nbgrader": {
     "cell_type": "markdown",
     "checksum": "2fe36182d48af181a7cc8286f8d5e506",
     "grade": false,
     "grade_id": "cell-15e98b611f103649",
     "locked": true,
     "schema_version": 3,
     "solution": false,
     "task": false
    }
   },
   "source": [
    "**Q7** The reading points out that the client side receives a certificate from the server side. Does the server side also need a certificate from the client? Why or why not?\n"
   ]
  },
  {
   "cell_type": "markdown",
   "metadata": {
    "deletable": false,
    "nbgrader": {
     "cell_type": "markdown",
     "checksum": "913bcfdea3794acfe6d9464b652b66f5",
     "grade": true,
     "grade_id": "cell-9530c75acd164963",
     "locked": false,
     "points": 0,
     "schema_version": 3,
     "solution": true,
     "task": false
    }
   },
   "source": [
    "YOUR ANSWER HERE"
   ]
  },
  {
   "cell_type": "markdown",
   "metadata": {
    "deletable": false,
    "editable": false,
    "nbgrader": {
     "cell_type": "markdown",
     "checksum": "63cc1bb6f16e2d640bd310528354a667",
     "grade": false,
     "grade_id": "cell-1d25196d48097a6b",
     "locked": true,
     "schema_version": 3,
     "solution": false,
     "task": false
    }
   },
   "source": [
    "**Q (DW)** During the key exchange, the client generates a secret key, encrypts it using the public key of the provider, and sends it to the provider. If an onlooker sees this transmission, can the onlooker determine the secret key? Explain.\n"
   ]
  },
  {
   "cell_type": "markdown",
   "metadata": {
    "deletable": false,
    "nbgrader": {
     "cell_type": "markdown",
     "checksum": "7f26a23161597dda8366b66e3b955c8f",
     "grade": true,
     "grade_id": "cell-473ddc7e6d5d83ee",
     "locked": false,
     "points": 0,
     "schema_version": 3,
     "solution": true,
     "task": false
    }
   },
   "source": [
    "YOUR ANSWER HERE"
   ]
  },
  {
   "cell_type": "markdown",
   "metadata": {
    "deletable": false,
    "editable": false,
    "nbgrader": {
     "cell_type": "markdown",
     "checksum": "5289985ac5419e3c4318e638597d5a5f",
     "grade": false,
     "grade_id": "cell-e92b98a14ab3d2c2",
     "locked": true,
     "schema_version": 3,
     "solution": false,
     "task": false
    }
   },
   "source": [
    "**Q (DW)** Why is it that in Phase D, an onlooker cannot steal a user id and password typed by the client? If the client had used http instead of https, would this still be true? Explain, and please mention \"packets\" in your answer."
   ]
  },
  {
   "cell_type": "markdown",
   "metadata": {
    "deletable": false,
    "nbgrader": {
     "cell_type": "markdown",
     "checksum": "0d34768eecda65c2afd0a6a1bc339e8c",
     "grade": true,
     "grade_id": "cell-3b45a64cbab78379",
     "locked": false,
     "points": 0,
     "schema_version": 3,
     "solution": true,
     "task": false
    }
   },
   "source": [
    "YOUR ANSWER HERE"
   ]
  },
  {
   "cell_type": "markdown",
   "metadata": {
    "deletable": false,
    "editable": false,
    "nbgrader": {
     "cell_type": "markdown",
     "checksum": "3a9118f6e5fefa170d406a87a9302073",
     "grade": false,
     "grade_id": "cell-a9889db6b78cce03",
     "locked": true,
     "schema_version": 3,
     "solution": false,
     "task": false
    }
   },
   "source": [
    "**Q8** The reading highlights that, even with https, we cannot \"hide or obscure the identities of the endpoints of communication.\" Is security for that kind of information important? Hint: you might consider looking into the term \"metadata\" and the Snowden leaks."
   ]
  },
  {
   "cell_type": "markdown",
   "metadata": {
    "deletable": false,
    "nbgrader": {
     "cell_type": "markdown",
     "checksum": "52fdeca9d9d2b19a74f6888a207e2477",
     "grade": true,
     "grade_id": "cell-8102dccc405f780f",
     "locked": false,
     "points": 0,
     "schema_version": 3,
     "solution": true,
     "task": false
    }
   },
   "source": [
    "YOUR ANSWER HERE"
   ]
  },
  {
   "cell_type": "markdown",
   "metadata": {
    "deletable": false,
    "editable": false,
    "nbgrader": {
     "cell_type": "markdown",
     "checksum": "b217eaf016a660a303ac3953cb57d2f2",
     "grade": false,
     "grade_id": "cell-57863d491f4bc32f",
     "locked": true,
     "schema_version": 3,
     "solution": false,
     "task": false
    }
   },
   "source": [
    "**Q9** The reading highlights that https does not keep data private \"once it has made it up the protocol stack.\" Why does this mean you can see http content using developer tools? What does it mean about the security of your data on the provider's servers? Can you think of a real-world example where these considerations have mattered?"
   ]
  },
  {
   "cell_type": "markdown",
   "metadata": {
    "deletable": false,
    "nbgrader": {
     "cell_type": "markdown",
     "checksum": "c0cc780d81f49bd2be87dee8339656a6",
     "grade": true,
     "grade_id": "cell-df01969416f4bbad",
     "locked": false,
     "points": 0,
     "schema_version": 3,
     "solution": true,
     "task": false
    }
   },
   "source": [
    "YOUR ANSWER HERE"
   ]
  },
  {
   "cell_type": "markdown",
   "metadata": {
    "deletable": false,
    "editable": false,
    "nbgrader": {
     "cell_type": "markdown",
     "checksum": "6b468410ec1752913143bc6f4dc34e16",
     "grade": false,
     "grade_id": "cell-1a5c27f7541771b8",
     "locked": true,
     "schema_version": 3,
     "solution": false,
     "task": false
    }
   },
   "source": [
    "**Q10** For each of the five authentication possibilities listed, please give a detailed real-world example of when this might occur. For instance, possibility four could occur if a university wants to make sure that sensitive data about students can only be accessed by professors from on-campus addresses. If a professor tries to access a student file from home (without using a VPN), they will get an authentication error. Now you give examples for the other possibilities on the list."
   ]
  },
  {
   "cell_type": "markdown",
   "metadata": {
    "deletable": false,
    "nbgrader": {
     "cell_type": "markdown",
     "checksum": "dc40354687b13a19c95aa8051f720393",
     "grade": true,
     "grade_id": "cell-49707833bd93ba26",
     "locked": false,
     "points": 0,
     "schema_version": 3,
     "solution": true,
     "task": false
    }
   },
   "source": [
    "YOUR ANSWER HERE"
   ]
  }
 ],
 "metadata": {
  "kernelspec": {
   "display_name": "Python 3",
   "language": "python",
   "name": "python3"
  },
  "language_info": {
   "codemirror_mode": {
    "name": "ipython",
    "version": 3
   },
   "file_extension": ".py",
   "mimetype": "text/x-python",
   "name": "python",
   "nbconvert_exporter": "python",
   "pygments_lexer": "ipython3",
   "version": "3.7.7"
  }
 },
 "nbformat": 4,
 "nbformat_minor": 2
}
