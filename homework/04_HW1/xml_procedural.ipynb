{
 "cells": [
  {
   "cell_type": "markdown",
   "metadata": {},
   "source": [
    "Before you turn this problem in, make sure everything runs as expected. First, **restart the kernel** (in the menubar, select Kernel$\\rightarrow$Restart) and then **run all cells** (in the menubar, select Cell$\\rightarrow$Run All).\n",
    "\n",
    "Make sure you fill in any place that says `YOUR CODE HERE`/`raise NotImplementedError` or \"YOUR ANSWER HERE\", as well as your name and collaborators below:"
   ]
  },
  {
   "cell_type": "markdown",
   "metadata": {},
   "source": [
    "## 04_HW1\n",
    "\n",
    "Please start by running the cell below. Note that, just like in class, we create a custom parser that we will use in the cells to follow. The function `print_tree()` is there to help you check your code as your write it, following the principle that it's wise to \"develop code incrementally\" rather than many lines of code at once."
   ]
  },
  {
   "cell_type": "code",
   "execution_count": null,
   "metadata": {},
   "outputs": [],
   "source": [
    "import json\n",
    "import io\n",
    "from lxml import etree\n",
    "import os.path\n",
    "import pandas as pd\n",
    "\n",
    "myparser = etree.XMLParser(remove_blank_text=True)\n",
    "datadir = \"public_data\"\n",
    "\n",
    "def print_tree(node, pretty_print=True, encoding='utf-8'):\n",
    "    result = etree.tostring(node, pretty_print=pretty_print)\n",
    "    if isinstance(result, bytes):\n",
    "        result = result.decode(encoding)\n",
    "    print(result)"
   ]
  },
  {
   "cell_type": "markdown",
   "metadata": {},
   "source": [
    "**Q1** Consider the JSON file, named `breakfast.json` in `public_data`.  This JSON contains a **list** of breakfast dishes served by a restaurant.  Each breakfast food is a dictionary, mapping keys about the breakfast food to values.  The keys present for each breakfast food include:\n",
    "\n",
    "- `name`: The string name of the dish as it appears on the menu,\n",
    "- `price`: A real value (in US currency) for the amount charged for ordering the dish,\n",
    "- `description`: The string long description for the dish,\n",
    "- `calories`: The integer number of calories for the dish.\n",
    "\n",
    "Your job is to, by hand, and using a text editor, create a file in **the current directory** named `breakfast.xml` that contains well-formed (parseable) representation of this same data.\n",
    "\n",
    "Additional Specifications of the XML:\n",
    "\n",
    "- the root Element should be named `menu`\n",
    "- the children Elements of `menu` should all be named `food`\n",
    "- We consider `price` and `calories` to be meta-data, and so these should be XML-attributes of a `food` Element\n",
    "- The children of each `food` Element should be `name` and `description`\n",
    "- The string values for `name` and `description` should be the *text* of their respective Element nodes.\n",
    "\n",
    "Please refer to the \"10 Golden Rules of Well-Formed XML\" from class. You can find this in chapter 17 of the online copy of the book. You are welcome to start from one of the XML files we gave you and modify it to match the specification above. Most simple text editors can open an XML file and can save XML files. Please be clear about the difference between tags, text, and attributes, and pay attention to the assert statements below."
   ]
  },
  {
   "cell_type": "markdown",
   "metadata": {},
   "source": [
    "**Remember to remove our solution `breakfast.xml` from the release version**"
   ]
  },
  {
   "cell_type": "code",
   "execution_count": null,
   "metadata": {
    "deletable": false,
    "editable": false,
    "nbgrader": {
     "cell_type": "code",
     "checksum": "324fba0fe70bbeca3da6eb2d444bf1ab",
     "grade": true,
     "grade_id": "cell-563b14a33c23f2f7",
     "locked": true,
     "points": 5,
     "schema_version": 3,
     "solution": false,
     "task": false
    }
   },
   "outputs": [],
   "source": [
    "# Testing cell\n",
    "\n",
    "path = os.path.join('.', \"breakfast.xml\")\n",
    "assert os.path.isfile(path)\n",
    "\n",
    "tree = etree.parse(path)\n",
    "root = tree.getroot()\n",
    "\n",
    "assert len(root) == 5\n",
    "assert root.tag == 'menu'\n",
    "for child in root:\n",
    "    assert child.tag == 'food'\n",
    "assert root[0].get('price') == \"5.95\"\n",
    "assert root[4][0].tag == 'name'\n",
    "assert root[4][0].text == 'Homestyle Breakfast'"
   ]
  },
  {
   "cell_type": "markdown",
   "metadata": {},
   "source": [
    "## Basic Operations"
   ]
  },
  {
   "cell_type": "markdown",
   "metadata": {},
   "source": [
    "As an aid for working with Element nodes, we summarize some of the fundamental operations\n",
    "\n",
    "Operation     |  Syntax Hint  |Brief Description\n",
    ":-------------|:--------------|:-----------------------------------------\n",
    "Get a Child   | `[index]`     |Access the node's child at index\n",
    "Get tag       | `.tag`        |Obtain tag of node\n",
    "Get text      | `.text`       |Obtain text of node up to child node or end tag\n",
    "Access all attributes | `.attrib` | Obtain dictionary of all of node's xml attributes\n",
    "Access one attribute | `.get()` | Fetch value for specified attribute, or `None` if not present\n",
    "Find child node | `.find()` | Search for first child matching search specification (by tag)\n",
    "Iterator child search | `.iterfind()` | Iterator for all children matching search specification (by tag)\n",
    "Unconditional Child Iteration | *node* | A node itself can be used as an iterator to obtain all children in document order\n",
    "Count children | `len(`*node*`)` | Find the number of children of a node\n",
    "Interator on descendants | `iter()` | Iterator over all descendents\n"
   ]
  },
  {
   "cell_type": "markdown",
   "metadata": {},
   "source": [
    "## Operations Questions\n",
    "\n",
    "The questions below are designed to be very similar to the inclass activity. First we need to read in the data."
   ]
  },
  {
   "cell_type": "markdown",
   "metadata": {},
   "source": [
    "**Q2** Write a function:\n",
    "    \n",
    "    getLocalXML(filename, datadir=\".\", parser=None)\n",
    "    \n",
    "that performs the common steps of creating a path from the given `filename` and `datadir` and parses the XML file, using the passed `parser`, if any, and returns the Element at the root of the tree.  If the file is not found, or if the parse is unsuccessful (due to XML not being \"well formed\"), the function should return `None`. Even though the testing cell below tests this function on `widombooks.xml`, your solution needs to work in general, because we need it for `reed.xml` in the next part of the homework."
   ]
  },
  {
   "cell_type": "code",
   "execution_count": null,
   "metadata": {
    "deletable": false,
    "nbgrader": {
     "cell_type": "code",
     "checksum": "04eed608471452331345af04c67e4fa0",
     "grade": false,
     "grade_id": "cell-a225b13a24565061",
     "locked": false,
     "schema_version": 3,
     "solution": true,
     "task": false
    }
   },
   "outputs": [],
   "source": [
    "# Solution cell\n",
    "# YOUR CODE HERE\n",
    "raise NotImplementedError()"
   ]
  },
  {
   "cell_type": "code",
   "execution_count": null,
   "metadata": {
    "deletable": false,
    "editable": false,
    "nbgrader": {
     "cell_type": "code",
     "checksum": "b27a67f969c5bbc70255c467825b574c",
     "grade": true,
     "grade_id": "cell-658c79e4ed9f354e",
     "locked": true,
     "points": 2,
     "schema_version": 3,
     "solution": false,
     "task": false
    }
   },
   "outputs": [],
   "source": [
    "# Testing cell\n",
    "wroot = getLocalXML(\"widombooks.xml\", datadir, myparser)\n",
    "assert len(wroot) == 8\n",
    "bad = getLocalXML(\"foo.xml\", datadir, myparser)\n",
    "assert bad == None\n",
    "bad2 = getLocalXML(\"bad.xml\", datadir)\n",
    "assert bad2==None"
   ]
  },
  {
   "cell_type": "markdown",
   "metadata": {},
   "source": [
    "**Q3** Using the Element `wroot` from above, get the attributes of the first child tagged `'Book'`, and store your answer as a dictionary `myAttrib`."
   ]
  },
  {
   "cell_type": "code",
   "execution_count": null,
   "metadata": {
    "deletable": false,
    "nbgrader": {
     "cell_type": "code",
     "checksum": "4cb7dea0e0ec78124a2348defd979099",
     "grade": false,
     "grade_id": "cell-d38aeb5e4a44a0ce",
     "locked": false,
     "schema_version": 3,
     "solution": true,
     "task": false
    }
   },
   "outputs": [],
   "source": [
    "# Solution cell\n",
    "# YOUR CODE HERE\n",
    "raise NotImplementedError()\n",
    "\n",
    "print(myAttrib)"
   ]
  },
  {
   "cell_type": "code",
   "execution_count": null,
   "metadata": {
    "deletable": false,
    "editable": false,
    "nbgrader": {
     "cell_type": "code",
     "checksum": "9c100adc8626cebcbe936fd70f949577",
     "grade": true,
     "grade_id": "cell-8addc20764afb51c",
     "locked": true,
     "points": 1,
     "schema_version": 3,
     "solution": false,
     "task": false
    }
   },
   "outputs": [],
   "source": [
    "# Testing cell\n",
    "\n",
    "assert myAttrib['Price'] == '85'\n",
    "assert len(myAttrib) == 3"
   ]
  },
  {
   "cell_type": "markdown",
   "metadata": {},
   "source": [
    "**Q4** Using the Element `wroot`, find all children with the tag `'Book'` and store them in a list of Elements called `booklist`."
   ]
  },
  {
   "cell_type": "code",
   "execution_count": null,
   "metadata": {
    "deletable": false,
    "nbgrader": {
     "cell_type": "code",
     "checksum": "12cb456d0bf32a5d435a1e5f2b53bb8f",
     "grade": false,
     "grade_id": "cell-eb985b5d4023fef4",
     "locked": false,
     "schema_version": 3,
     "solution": true,
     "task": false
    }
   },
   "outputs": [],
   "source": [
    "# Solution cell\n",
    "# YOUR CODE HERE\n",
    "raise NotImplementedError()\n",
    "print(booklist)\n",
    "booklist[0].tag"
   ]
  },
  {
   "cell_type": "code",
   "execution_count": null,
   "metadata": {
    "deletable": false,
    "editable": false,
    "nbgrader": {
     "cell_type": "code",
     "checksum": "a9fc0d84e8cd7dbae64ea3c29fe5565a",
     "grade": true,
     "grade_id": "cell-659422c258713e48",
     "locked": true,
     "points": 1,
     "schema_version": 3,
     "solution": false,
     "task": false
    }
   },
   "outputs": [],
   "source": [
    "# Testing cell\n",
    "assert len(booklist) == 4\n",
    "assert type(booklist) == list\n",
    "assert booklist[0].tag == 'Book'"
   ]
  },
  {
   "cell_type": "markdown",
   "metadata": {},
   "source": [
    "**Q5** Using the Element `wroot`, find all children with the tag `'Magazine'`, extract the title text from each, and store them in a list of strings called `titlelist` (one title per magazine in `widombooks.xml`). Hint: use loops."
   ]
  },
  {
   "cell_type": "code",
   "execution_count": null,
   "metadata": {
    "deletable": false,
    "nbgrader": {
     "cell_type": "code",
     "checksum": "bb33712074b5d4616648f989ec841d7c",
     "grade": false,
     "grade_id": "cell-3edc7562889ea029",
     "locked": false,
     "schema_version": 3,
     "solution": true,
     "task": false
    }
   },
   "outputs": [],
   "source": [
    "# Solution cell\n",
    "# YOUR CODE HERE\n",
    "raise NotImplementedError()\n",
    "\n",
    "print(titlelist)"
   ]
  },
  {
   "cell_type": "code",
   "execution_count": null,
   "metadata": {
    "deletable": false,
    "editable": false,
    "nbgrader": {
     "cell_type": "code",
     "checksum": "4306318c91051291829035a349e8119e",
     "grade": true,
     "grade_id": "cell-5e26cf3c2da2e65d",
     "locked": true,
     "points": 2,
     "schema_version": 3,
     "solution": false,
     "task": false
    }
   },
   "outputs": [],
   "source": [
    "# Testing cell\n",
    "assert len(titlelist) == 4\n",
    "assert \"Newsweek\" in titlelist\n",
    "assert \"Hector and Jeff's Database Hints\" in titlelist"
   ]
  },
  {
   "cell_type": "markdown",
   "metadata": {},
   "source": [
    "## Building Data Frame from XML\n",
    "\n",
    "The objective of the next series of questions is to, from `reed.xml` in the data directory, open it and parse it into a Dictionary of Lists representation and then to build the pandas data frame.  This follows the pattern from the book and also contained in the inclass Notebook from Friday.  \n",
    "\n",
    "Those sources have more explanation and step-by-step progression, while the questions here will only specify what is expected.  So it might behoove you to read and/or work through the inclass before solving these homework problems. We begin with a testing cell that refers to the function `getLocalXML` you wrote above, followed by a cell providing you a handy function from the reading."
   ]
  },
  {
   "cell_type": "code",
   "execution_count": null,
   "metadata": {
    "deletable": false,
    "editable": false,
    "nbgrader": {
     "cell_type": "code",
     "checksum": "9edde0c142540afa5972b6ce776e14a2",
     "grade": true,
     "grade_id": "cell-42f08a950fa15dd4",
     "locked": true,
     "points": 1,
     "schema_version": 3,
     "solution": false,
     "task": false
    }
   },
   "outputs": [],
   "source": [
    "# Testing cell\n",
    "root = getLocalXML(\"reed.xml\", datadir, myparser)\n",
    "assert len(root) == 703"
   ]
  },
  {
   "cell_type": "code",
   "execution_count": null,
   "metadata": {
    "deletable": false,
    "editable": false,
    "nbgrader": {
     "cell_type": "code",
     "checksum": "78421f73e417eadb6cd023ea64a673b8",
     "grade": false,
     "grade_id": "cell-908a22a9a78fc8ae",
     "locked": true,
     "schema_version": 3,
     "solution": false,
     "task": false
    }
   },
   "outputs": [],
   "source": [
    "# A gift for you\n",
    "\n",
    "def child_value(node, tag):\n",
    "    first_find = node.find(tag)\n",
    "    if first_find != None:\n",
    "        return first_find.text"
   ]
  },
  {
   "cell_type": "markdown",
   "metadata": {},
   "source": [
    "**Q6** Step 1, build List of Dictionaries of courses with columns (i.e. keys in each of the row-based dictionaries) of `'reg_num'`, `'subj'`, and `'crse'`.  Name your list of dictionaries `LoD`."
   ]
  },
  {
   "cell_type": "code",
   "execution_count": null,
   "metadata": {
    "deletable": false,
    "nbgrader": {
     "cell_type": "code",
     "checksum": "8ef5cc54df9289d4c6b997064b802889",
     "grade": false,
     "grade_id": "cell-2d5c2934ac8e46a2",
     "locked": false,
     "schema_version": 3,
     "solution": true,
     "task": false
    }
   },
   "outputs": [],
   "source": [
    "# Solution cell\n",
    "LoD = []\n",
    "# YOUR CODE HERE\n",
    "raise NotImplementedError()\n",
    "\n",
    "print(LoD[0])"
   ]
  },
  {
   "cell_type": "code",
   "execution_count": null,
   "metadata": {
    "deletable": false,
    "editable": false,
    "nbgrader": {
     "cell_type": "code",
     "checksum": "70332e0eedefd5f68ac995d511485f8b",
     "grade": true,
     "grade_id": "cell-37367e81ba520472",
     "locked": true,
     "points": 3,
     "schema_version": 3,
     "solution": false,
     "task": false
    }
   },
   "outputs": [],
   "source": [
    "# Testing cell\n",
    "assert isinstance(LoD, list)\n",
    "assert len(LoD) == 703\n",
    "assert isinstance(LoD[0], dict)\n",
    "assert 'subj' in LoD[0]\n",
    "assert LoD[0]['subj'] == 'ANTH'"
   ]
  },
  {
   "cell_type": "markdown",
   "metadata": {},
   "source": [
    "**Q7** Development Step 2: Repeat your code from Step 1 so that you the dictionaries in `LoD` includes all **leaf** children of each course (i.e. column-keys for everything **other than** `time` and `place`)."
   ]
  },
  {
   "cell_type": "code",
   "execution_count": null,
   "metadata": {
    "deletable": false,
    "nbgrader": {
     "cell_type": "code",
     "checksum": "4ccc39669d38ef06468db443304d4885",
     "grade": false,
     "grade_id": "cell-b86c98ff3c1c8125",
     "locked": false,
     "schema_version": 3,
     "solution": true,
     "task": false
    }
   },
   "outputs": [],
   "source": [
    "# Solution cell\n",
    "LoD = []\n",
    "# YOUR CODE HERE\n",
    "raise NotImplementedError()\n",
    "\n",
    "print(LoD[0])"
   ]
  },
  {
   "cell_type": "code",
   "execution_count": null,
   "metadata": {
    "deletable": false,
    "editable": false,
    "nbgrader": {
     "cell_type": "code",
     "checksum": "30bcf83af378960c92ec6d6f8ab4aef2",
     "grade": true,
     "grade_id": "cell-875bc90749ef42af",
     "locked": true,
     "points": 3,
     "schema_version": 3,
     "solution": false,
     "task": false
    }
   },
   "outputs": [],
   "source": [
    "# Testing cell\n",
    "assert isinstance(LoD, list)\n",
    "assert len(LoD) == 703\n",
    "assert isinstance(LoD[0], dict)\n",
    "assert 'subj' in LoD[0]\n",
    "assert LoD[0]['subj'] == 'ANTH'\n",
    "assert 'days' in LoD[0]\n",
    "assert LoD[0]['days'] == 'M-W'"
   ]
  },
  {
   "cell_type": "markdown",
   "metadata": {},
   "source": [
    "**Q8** Finally, use your `LoD` to create a pandas DataFrame, and set the index to an appropriate column(s) that defines a unique independent variable combination for the data set.  Assign the data frame to Python variable `df`."
   ]
  },
  {
   "cell_type": "code",
   "execution_count": null,
   "metadata": {
    "deletable": false,
    "nbgrader": {
     "cell_type": "code",
     "checksum": "63b1f5eeab0e7e89147d5cecaa4e0f2d",
     "grade": false,
     "grade_id": "cell-ddaf7c31e380b937",
     "locked": false,
     "schema_version": 3,
     "solution": true,
     "task": false
    }
   },
   "outputs": [],
   "source": [
    "# Solution cell\n",
    "# YOUR CODE HERE\n",
    "raise NotImplementedError()\n",
    "\n",
    "df.head()"
   ]
  },
  {
   "cell_type": "code",
   "execution_count": null,
   "metadata": {
    "deletable": false,
    "editable": false,
    "nbgrader": {
     "cell_type": "code",
     "checksum": "91fd3c3991f7d709c4b9665427076336",
     "grade": true,
     "grade_id": "cell-87e1161a3ca57bcc",
     "locked": true,
     "points": 2,
     "schema_version": 3,
     "solution": false,
     "task": false
    }
   },
   "outputs": [],
   "source": [
    "# Testing cell\n",
    "assert isinstance(df, pd.core.frame.DataFrame)\n",
    "assert len(df) == 703\n",
    "assert df.iloc[0]['title'] == 'Introduction to Anthropology'"
   ]
  }
 ],
 "metadata": {
  "kernelspec": {
   "display_name": "Python 3",
   "language": "python",
   "name": "python3"
  },
  "language_info": {
   "codemirror_mode": {
    "name": "ipython",
    "version": 3
   },
   "file_extension": ".py",
   "mimetype": "text/x-python",
   "name": "python",
   "nbconvert_exporter": "python",
   "pygments_lexer": "ipython3",
   "version": "3.7.6"
  }
 },
 "nbformat": 4,
 "nbformat_minor": 4
}
