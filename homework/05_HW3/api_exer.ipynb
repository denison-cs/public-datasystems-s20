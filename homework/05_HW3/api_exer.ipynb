{
 "cells": [
  {
   "cell_type": "markdown",
   "metadata": {},
   "source": [
    "Before you turn this problem in, make sure everything runs as expected. First, **restart the kernel** (in the menubar, select Kernel$\\rightarrow$Restart) and then **run all cells** (in the menubar, select Cell$\\rightarrow$Run All).\n",
    "\n",
    "Make sure you fill in any place that says `YOUR CODE HERE`/`raise NotImplementedError` or \"YOUR ANSWER HERE\", as well as your name and collaborators below:"
   ]
  },
  {
   "cell_type": "code",
   "execution_count": null,
   "metadata": {},
   "outputs": [],
   "source": [
    "import requests\n",
    "import pandas as pd\n",
    "import json\n",
    "\n",
    "import util\n",
    "from util import *"
   ]
  },
  {
   "cell_type": "markdown",
   "metadata": {},
   "source": [
    "## Set Up\n",
    "\n",
    "**Edit `creds.json` Before Starting this Homework**\n",
    "\n",
    "### Record Credentials Information\n",
    "\n",
    "1. In the same folder as this notebook, right-click on `creds.json` and `Open With` and select `Editor`.\n",
    "2. In the `tmdb` dictionary entry, put your API key, obtained for your application from TMDb, as the value of the `apikey` key.\n",
    "3. **Save the File**\n",
    "4. Run the cell below, which calls a function in the `util` module that simply reads in a paricular sub-dictionary within the creds file, and then assigns a global variable `apikey`. The signature for this function is:\n",
    "\n",
    "    `read_creds(key, folder=\".\", file=\"creds.json\")`\n",
    "    \n",
    "   where the second and third parameter give the folder and name for the credentials file.  Since we are using a `creds.json` in the current directory, we only need to specify the key for the sub-dictionary we wish to read."
   ]
  },
  {
   "cell_type": "code",
   "execution_count": null,
   "metadata": {},
   "outputs": [],
   "source": [
    "tmdbcreds = read_creds(\"tmdb\")\n",
    "apikey = tmdbcreds['apikey']"
   ]
  },
  {
   "cell_type": "markdown",
   "metadata": {
    "deletable": false,
    "editable": false,
    "nbgrader": {
     "cell_type": "markdown",
     "checksum": "d54e98f5295e128841799e6bac31fdd9",
     "grade": false,
     "grade_id": "cell-04d00a6955eee627",
     "locked": true,
     "schema_version": 3,
     "solution": false,
     "task": false
    }
   },
   "source": [
    "**Q1** The reading mentioned the TMDB endpoint `/discover/movie`. Many examples of what can be done with this endpoint are provided at the following link. \n",
    "\n",
    "    https://www.themoviedb.org/documentation/api/discover\n",
    "\n",
    "However, as always with APIs, it is unwise to rely solely on examples. Rather, you must read and understand the API documentation. Navigate the TMDB API documentation and find the url that explains how to use the endpoint endpoint `/discover/movie` (the place with the \"Try it out\" tab). Store this url as a string called `documentation` below."
   ]
  },
  {
   "cell_type": "code",
   "execution_count": null,
   "metadata": {
    "deletable": false,
    "nbgrader": {
     "cell_type": "code",
     "checksum": "de03d79dcba05ffdde8d0dc4232b95d4",
     "grade": false,
     "grade_id": "cell-dad96c8c9a596585",
     "locked": false,
     "schema_version": 3,
     "solution": true,
     "task": false
    }
   },
   "outputs": [],
   "source": [
    "documentation = \"\" # modify this\n",
    "# YOUR CODE HERE\n",
    "raise NotImplementedError()\n"
   ]
  },
  {
   "cell_type": "code",
   "execution_count": null,
   "metadata": {
    "deletable": false,
    "editable": false,
    "nbgrader": {
     "cell_type": "code",
     "checksum": "8e6294edbbec78df13331e890dde460e",
     "grade": true,
     "grade_id": "cell-08eb4b5e826e0678",
     "locked": true,
     "points": 1,
     "schema_version": 3,
     "solution": false,
     "task": false
    }
   },
   "outputs": [],
   "source": [
    "# Testing cell\n"
   ]
  },
  {
   "cell_type": "markdown",
   "metadata": {
    "deletable": false,
    "editable": false,
    "nbgrader": {
     "cell_type": "markdown",
     "checksum": "32071f5f76b2efa9394fadef0ff2a654",
     "grade": false,
     "grade_id": "cell-aa43a565afed02aa",
     "locked": true,
     "schema_version": 3,
     "solution": false,
     "task": false
    }
   },
   "source": [
    "**Q2** Write a function `getGenreDict(my_api_key)` that returns a Python dictionary mapping genre names to id numbers, e.g. `{'Action':28, 'Adventure':12,...}`. Your function should only make a single call to `requests.get()`, with the appropriate endpoint path for TMDB, and with the given API key. As always, return `None` if something goes wrong."
   ]
  },
  {
   "cell_type": "code",
   "execution_count": null,
   "metadata": {
    "deletable": false,
    "nbgrader": {
     "cell_type": "code",
     "checksum": "3a302faa221f8eac690b790710653f55",
     "grade": false,
     "grade_id": "cell-f13033eadf64207e",
     "locked": false,
     "schema_version": 3,
     "solution": true,
     "task": false
    }
   },
   "outputs": [],
   "source": [
    "# YOUR CODE HERE\n",
    "raise NotImplementedError()\n"
   ]
  },
  {
   "cell_type": "code",
   "execution_count": null,
   "metadata": {
    "deletable": false,
    "editable": false,
    "nbgrader": {
     "cell_type": "code",
     "checksum": "3addc35078da45f3a2bb64d275a3331b",
     "grade": true,
     "grade_id": "cell-c6c9372623d6829a",
     "locked": true,
     "points": 3,
     "schema_version": 3,
     "solution": false,
     "task": false
    }
   },
   "outputs": [],
   "source": [
    "# Testing cell\n",
    "\n",
    "d = getGenreDict(apikey)\n",
    "assert d['Action'] == 28\n",
    "assert d['Animation'] == 16\n",
    "assert len(d) == 19\n",
    "assert d['Science Fiction'] == 878\n",
    "\n",
    "bad = getGenreDict(apikey+'z')\n",
    "assert bad == None\n",
    "\n",
    "#print(d)"
   ]
  },
  {
   "cell_type": "markdown",
   "metadata": {
    "deletable": false,
    "editable": false,
    "nbgrader": {
     "cell_type": "markdown",
     "checksum": "d33b721d7c959a5651fa0d72b76fc4cd",
     "grade": false,
     "grade_id": "cell-b3aec791f18dc972",
     "locked": true,
     "schema_version": 3,
     "solution": false,
     "task": false
    }
   },
   "source": [
    "**Q3** Write a function `search_person_id(my_api_key, name)` that uses the `/search/person` endpoint to conduct a search for the given `name`, and returns the `id` of the first entry in the `results` list. This should use only one call to `requests.get()`. As always, return `None` if something goes wrong, and return `-1` if there were no results."
   ]
  },
  {
   "cell_type": "code",
   "execution_count": null,
   "metadata": {
    "deletable": false,
    "nbgrader": {
     "cell_type": "code",
     "checksum": "61f40b96d3d5aa50b6f1e0a400831fbe",
     "grade": false,
     "grade_id": "cell-d53a29800554dd8c",
     "locked": false,
     "schema_version": 3,
     "solution": true,
     "task": false
    }
   },
   "outputs": [],
   "source": [
    "# YOUR CODE HERE\n",
    "raise NotImplementedError()\n"
   ]
  },
  {
   "cell_type": "code",
   "execution_count": null,
   "metadata": {
    "deletable": false,
    "editable": false,
    "nbgrader": {
     "cell_type": "code",
     "checksum": "6b7a1276105a45b5587ff4824fcd1d37",
     "grade": true,
     "grade_id": "cell-5cc129c05c292f70",
     "locked": true,
     "points": 3,
     "schema_version": 3,
     "solution": false,
     "task": false
    }
   },
   "outputs": [],
   "source": [
    "# Testing cell\n",
    "assert search_person_id(apikey,'tom cruise') == 500\n",
    "assert search_person_id(apikey+'z','Bill Murray') == None\n",
    "assert search_person_id(apikey,'Bill Murray') == 1532\n",
    "assert search_person_id(apikey,'chevy Chase') == 54812\n",
    "assert search_person_id(apikey,'Humphrey Bogart') == 4110\n",
    "assert search_person_id(apikey,'Lauren bacall') == 7570\n",
    "assert search_person_id(apikey,'xzyaxoiasdg') == -1\n"
   ]
  },
  {
   "cell_type": "markdown",
   "metadata": {
    "deletable": false,
    "editable": false,
    "nbgrader": {
     "cell_type": "markdown",
     "checksum": "d57763a89a183493c5e57b47df6e225d",
     "grade": false,
     "grade_id": "cell-6d7dae5eb94cfe81",
     "locked": true,
     "schema_version": 3,
     "solution": false,
     "task": false
    }
   },
   "source": [
    "**Q4** You are bored in quarantine and want to generate a list of movies featuring your favorite actors/actresses, and in the genres you like. Suppose `actorList` and `genreList` are lists of strings, like \"Humphrey Bogart\" or \"Adventure\". You can use your functions `search_person_id` and `getGenreDict` to find the ids associated with these strings.\n",
    "\n",
    "After studying the API documentation and examples for the `/discover/movie` endpoint, please write a function `makeBigMovieLoD(my_api_key,actorList,genreList)` that returns a LoD with one dictionary per movie, with columns `title` (that's 'original title'), `id`, `popularity`, `language`, and `overview`. Your function should use a single call to `requests.get()` and should include movies with *all* of the actors on `actorList` and with *any* of the genres on `genreList`. If you come across a non-existant actor or genre (e.g., \"abventure\"), don't include it in the search. Please sort your results by popularity, from most popular to least popular."
   ]
  },
  {
   "cell_type": "code",
   "execution_count": null,
   "metadata": {
    "deletable": false,
    "nbgrader": {
     "cell_type": "code",
     "checksum": "b46a005132559bd8bbdedd17180c92e5",
     "grade": false,
     "grade_id": "cell-9d69ebbce4ab196f",
     "locked": false,
     "schema_version": 3,
     "solution": true,
     "task": false
    }
   },
   "outputs": [],
   "source": [
    "# YOUR CODE HERE\n",
    "raise NotImplementedError()"
   ]
  },
  {
   "cell_type": "code",
   "execution_count": null,
   "metadata": {
    "deletable": false,
    "editable": false,
    "nbgrader": {
     "cell_type": "code",
     "checksum": "729beb176aa2bcd5d68860eb85852c44",
     "grade": true,
     "grade_id": "cell-2d28e8a05a0c3958",
     "locked": true,
     "points": 4,
     "schema_version": 3,
     "solution": false,
     "task": false
    }
   },
   "outputs": [],
   "source": [
    "# Testing cell\n",
    "LoD = makeBigMovieLoD(apikey,['Humphrey Bogart', 'Lauren Bacall'],['Adventure','Drama','Romance'])\n",
    "assert LoD[0]['title'] == 'To Have and Have Not'\n",
    "assert len(LoD) == 2\n",
    "LoD = makeBigMovieLoD(apikey,['Humphrey Bogart', 'Lauren Bacall'],['Abventure','Romance'])\n",
    "assert len(LoD) == 1\n",
    "LoD = makeBigMovieLoD(apikey,['Humphrey Bogart'],['Adventure','Drama','Romance'])\n",
    "assert len(LoD) == 20\n"
   ]
  },
  {
   "cell_type": "markdown",
   "metadata": {
    "deletable": false,
    "editable": false,
    "nbgrader": {
     "cell_type": "markdown",
     "checksum": "c05c12cee3d01608f6734e6a6557c75a",
     "grade": false,
     "grade_id": "cell-6ba3ec0e0d0b386f",
     "locked": true,
     "schema_version": 3,
     "solution": false,
     "task": false
    }
   },
   "source": [
    "**Q5** Write a function `makeBigMovieDF(my_api_key,rating,year)` that returns a dataframe consisting of *all* US movies with the given rating (e.g., G, PG-13, R, etc.) in the given year, sorted by revenue, from largest revenue to smallest. Your columns should be `title`, `release_date`, `popularity`, `vote_average`, and `overview`.\n",
    "\n",
    "Be careful, as your initial invocation of `requests.get()` might only return Page 1 out of some large number of pages. You should be sure to get the information from all the pages. A helper function would be wise.\n",
    "\n",
    "Hint: Study the documentation for the `/discover/movie` endpoint carefully. What we have called rating they call something else."
   ]
  },
  {
   "cell_type": "code",
   "execution_count": null,
   "metadata": {
    "deletable": false,
    "nbgrader": {
     "cell_type": "code",
     "checksum": "6ff0ff8395e2a0e92d7a36989ae0b17c",
     "grade": false,
     "grade_id": "cell-72cc49ca1ca272e7",
     "locked": false,
     "schema_version": 3,
     "solution": true,
     "task": false
    }
   },
   "outputs": [],
   "source": [
    "# YOUR CODE HERE\n",
    "raise NotImplementedError()\n",
    "\n",
    "print(get_page('75df0c4f93ec9e484534b8ce1db9a67e','G',4,2010))\n"
   ]
  },
  {
   "cell_type": "code",
   "execution_count": null,
   "metadata": {
    "deletable": false,
    "editable": false,
    "nbgrader": {
     "cell_type": "code",
     "checksum": "594fef898a87b7efa1d45e0aacdc89a2",
     "grade": true,
     "grade_id": "cell-c9a32ca20216aa2a",
     "locked": true,
     "points": 2,
     "schema_version": 3,
     "solution": false,
     "task": false
    }
   },
   "outputs": [],
   "source": [
    "# Testing cell\n",
    "df = makeBigMovieDF(apikey,'G',1944)\n",
    "assert df.shape == (132, 5)\n",
    "assert 'Bambi' in list(df.iloc[0])\n"
   ]
  },
  {
   "cell_type": "code",
   "execution_count": null,
   "metadata": {
    "deletable": false,
    "editable": false,
    "nbgrader": {
     "cell_type": "code",
     "checksum": "1d3861dda68c8313753863fcde4321ad",
     "grade": true,
     "grade_id": "cell-9cd434c932b179b6",
     "locked": true,
     "points": 2,
     "schema_version": 3,
     "solution": false,
     "task": false
    }
   },
   "outputs": [],
   "source": [
    "# Testing cell \n",
    "df = makeBigMovieDF(apikey,'R',1930)\n",
    "assert \"All Quiet on the Western Front\" in list(df.iloc[0])\n",
    "assert df.shape == (60,5)\n",
    "\n",
    "# Testing cell (warning: may take time)\n",
    "#df = makeBigMovieDF('75df0c4f93ec9e484534b8ce1db9a67e','G',2010)\n",
    "#assert 'Avatar' in list(df.iloc[0])\n",
    "#assert df.shape == (2832, 5)\n"
   ]
  }
 ],
 "metadata": {
  "kernelspec": {
   "display_name": "Python 3",
   "language": "python",
   "name": "python3"
  },
  "language_info": {
   "codemirror_mode": {
    "name": "ipython",
    "version": 3
   },
   "file_extension": ".py",
   "mimetype": "text/x-python",
   "name": "python",
   "nbconvert_exporter": "python",
   "pygments_lexer": "ipython3",
   "version": "3.7.7"
  }
 },
 "nbformat": 4,
 "nbformat_minor": 2
}
