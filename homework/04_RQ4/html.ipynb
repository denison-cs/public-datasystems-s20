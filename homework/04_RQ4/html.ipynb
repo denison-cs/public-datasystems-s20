{
 "cells": [
  {
   "cell_type": "markdown",
   "metadata": {},
   "source": [
    "Before you turn this problem in, make sure everything runs as expected. First, **restart the kernel** (in the menubar, select Kernel$\\rightarrow$Restart) and then **run all cells** (in the menubar, select Cell$\\rightarrow$Run All).\n",
    "\n",
    "Make sure you fill in any place that says `YOUR CODE HERE`/`raise NotImplementedError` or \"YOUR ANSWER HERE\", as well as your name and collaborators below:"
   ]
  },
  {
   "cell_type": "markdown",
   "metadata": {
    "deletable": false,
    "editable": false,
    "nbgrader": {
     "cell_type": "markdown",
     "checksum": "2752b445cdad36e286695848c25a5185",
     "grade": false,
     "grade_id": "cell-646daf3977211d00",
     "locked": true,
     "schema_version": 3,
     "solution": false,
     "task": false
    }
   },
   "source": [
    "**Q1** Please share the coolest real-world application of web scraping that you are aware of."
   ]
  },
  {
   "cell_type": "markdown",
   "metadata": {
    "deletable": false,
    "nbgrader": {
     "cell_type": "markdown",
     "checksum": "07420ee16cebc9a91cfa28f049a0bf6a",
     "grade": true,
     "grade_id": "cell-715e5b108a053901",
     "locked": false,
     "points": 1,
     "schema_version": 3,
     "solution": true,
     "task": false
    }
   },
   "source": [
    "YOUR ANSWER HERE"
   ]
  },
  {
   "cell_type": "markdown",
   "metadata": {
    "deletable": false,
    "editable": false,
    "nbgrader": {
     "cell_type": "markdown",
     "checksum": "cc36bb62e813d6339fa2237d9086c738",
     "grade": false,
     "grade_id": "cell-bab47dd63c7154bb",
     "locked": true,
     "schema_version": 3,
     "solution": false,
     "task": false
    }
   },
   "source": [
    "**Q2** In the reading, the data sought is located in a table under the `h2` header. Will this always be the case? Either justify a \"yes\" answer or find an example online to demonstrate a \"no\" answer."
   ]
  },
  {
   "cell_type": "markdown",
   "metadata": {
    "deletable": false,
    "nbgrader": {
     "cell_type": "markdown",
     "checksum": "e0669c2696b55ef9ccd0f644709e49b8",
     "grade": true,
     "grade_id": "cell-6e5d14c20eda4b61",
     "locked": false,
     "points": 1,
     "schema_version": 3,
     "solution": true,
     "task": false
    }
   },
   "source": [
    "YOUR ANSWER HERE"
   ]
  },
  {
   "cell_type": "markdown",
   "metadata": {
    "deletable": false,
    "editable": false,
    "nbgrader": {
     "cell_type": "markdown",
     "checksum": "27ca14c7157504365e00e133470be069",
     "grade": false,
     "grade_id": "cell-3e30765f51d66803",
     "locked": true,
     "schema_version": 3,
     "solution": false,
     "task": false
    }
   },
   "source": [
    "**Q3** The reading talks about the evolution of HTML over time. It would be a mistake to only learn the newest form of HTML, e.g., because one day you may need to web-scrape data on a webpage created a long time ago. Indeed, you can even web-scrape pages that no longer appear on the internet, because the \"way back machine\" stores copies of many webpages. Please explore https://archive.org/web/web.php and think of a real-world example where you would want to access an old copy of a webpage, or a webpage that was taken down."
   ]
  },
  {
   "cell_type": "markdown",
   "metadata": {
    "deletable": false,
    "nbgrader": {
     "cell_type": "markdown",
     "checksum": "fa0de63b91b5b2eb7f2ff9c99dc292bd",
     "grade": true,
     "grade_id": "cell-f9bea6dbc20b59d0",
     "locked": false,
     "points": 1,
     "schema_version": 3,
     "solution": true,
     "task": false
    }
   },
   "source": [
    "YOUR ANSWER HERE"
   ]
  },
  {
   "cell_type": "markdown",
   "metadata": {
    "deletable": false,
    "editable": false,
    "nbgrader": {
     "cell_type": "markdown",
     "checksum": "a4575a5f4874c11cac07fbd4c9552cbb",
     "grade": false,
     "grade_id": "cell-13b33dba54ba38cc",
     "locked": true,
     "schema_version": 3,
     "solution": false,
     "task": false
    }
   },
   "source": [
    "**Q4** The first figure in the reading shows that in HTML it is possible for two or more tags to appear on the same line, meaning you have to read an HTML document carefully to discover the tree structure. A nice way to see the HTML text of a webpage is to open the page in Chrome, go to \"View\" -> \"Developer\" -> \"View Source.\" Please follow this procedure with the webpage http://personal.denison.edu/~whiteda/math401spring2016.html\n",
    "\n",
    "Find the table inside the webpage and answer the following questions:\n",
    "\n",
    "1. What tag is used to start and end the table?\n",
    "2. Does this table have an HTML table header tag?\n",
    "3. What xpath expression could you use to find the number of rows of the table, and what is the real-world meaning of this number?"
   ]
  },
  {
   "cell_type": "markdown",
   "metadata": {
    "deletable": false,
    "nbgrader": {
     "cell_type": "markdown",
     "checksum": "b1492140dd6db148a1d67fecfa539cbf",
     "grade": true,
     "grade_id": "cell-cd5df18a7649c41a",
     "locked": false,
     "points": 1,
     "schema_version": 3,
     "solution": true,
     "task": false
    }
   },
   "source": [
    "YOUR ANSWER HERE"
   ]
  },
  {
   "cell_type": "markdown",
   "metadata": {
    "deletable": false,
    "editable": false,
    "nbgrader": {
     "cell_type": "markdown",
     "checksum": "d203c756a1a6c149207e67c4bfcef38b",
     "grade": false,
     "grade_id": "cell-be50bd4306b60ae4",
     "locked": true,
     "schema_version": 3,
     "solution": false,
     "task": false
    }
   },
   "source": [
    "**Q5** Similar to the question above, please \"View Source\" on this page:\n",
    "http://personal.denison.edu/~bressoud/datasystems/data/\n",
    "and determine the tag name associated to each of the links to datasets listed on the page. How could you determine the number of datasets listed on the page? Is it wise to find and count all elements on the page with the tag you just discovered? Explain."
   ]
  },
  {
   "cell_type": "markdown",
   "metadata": {
    "deletable": false,
    "nbgrader": {
     "cell_type": "markdown",
     "checksum": "c111e004d7d3698126ba64a92606a53f",
     "grade": true,
     "grade_id": "cell-0a8c68e12eb88de5",
     "locked": false,
     "points": 1,
     "schema_version": 3,
     "solution": true,
     "task": false
    }
   },
   "source": [
    "YOUR ANSWER HERE"
   ]
  },
  {
   "cell_type": "markdown",
   "metadata": {
    "deletable": false,
    "editable": false,
    "nbgrader": {
     "cell_type": "markdown",
     "checksum": "4d55695469ea80381bf603978653dc3c",
     "grade": false,
     "grade_id": "cell-c61f7b5287427681",
     "locked": true,
     "schema_version": 3,
     "solution": false,
     "task": false
    }
   },
   "source": [
    "**Q6** In the first XPath code shown in the reading, why is it `nodeset = root1.xpath(\"/html/body/div//table\")` instead of `nodeset = root1.xpath(\"/html/body/div/table\")`?"
   ]
  },
  {
   "cell_type": "markdown",
   "metadata": {
    "deletable": false,
    "nbgrader": {
     "cell_type": "markdown",
     "checksum": "06557addb3b9d56b5bf599b3f69504cf",
     "grade": true,
     "grade_id": "cell-0446eef0d1033e66",
     "locked": false,
     "points": 1,
     "schema_version": 3,
     "solution": true,
     "task": false
    }
   },
   "source": [
    "YOUR ANSWER HERE"
   ]
  },
  {
   "cell_type": "markdown",
   "metadata": {
    "deletable": false,
    "editable": false,
    "nbgrader": {
     "cell_type": "markdown",
     "checksum": "6bded63793dd8743669778320403e915",
     "grade": false,
     "grade_id": "cell-db60efbdc5bed0e4",
     "locked": true,
     "schema_version": 3,
     "solution": false,
     "task": false
    }
   },
   "source": [
    "**Q7** In the `ind2016` example, consider the line `tdlist = table.xpath(\"./tbody/tr/td/text()\")`. Please describe `tdlist` carefully after this line is executed. For instance, how big is this list? What is the *type* of the items in `tdlist`? How does it relate to the table?"
   ]
  },
  {
   "cell_type": "markdown",
   "metadata": {
    "deletable": false,
    "nbgrader": {
     "cell_type": "markdown",
     "checksum": "91aff670b5d2bff9ee2b970bf340ecca",
     "grade": true,
     "grade_id": "cell-efc989f985bb68fd",
     "locked": false,
     "points": 1,
     "schema_version": 3,
     "solution": true,
     "task": false
    }
   },
   "source": [
    "YOUR ANSWER HERE"
   ]
  },
  {
   "cell_type": "markdown",
   "metadata": {
    "deletable": false,
    "editable": false,
    "nbgrader": {
     "cell_type": "markdown",
     "checksum": "b12d2fb14919a422936c5f13a762150a",
     "grade": false,
     "grade_id": "cell-48d8ffa634c57544",
     "locked": true,
     "schema_version": 3,
     "solution": false,
     "task": false
    }
   },
   "source": [
    "**Q8** What is the point of using the wikipedia API? For instance, what is the difference between the source of https://en.m.wikipedia.org/wiki/List_of_states_and_territories_of_the_United_States_by_population and the source of https://en.wikipedia.org/api/rest_v1/page/html/List_of_states_and_territories_of_the_United_States_by_population ?\n"
   ]
  },
  {
   "cell_type": "markdown",
   "metadata": {
    "deletable": false,
    "nbgrader": {
     "cell_type": "markdown",
     "checksum": "0db6f5396134bc6020387b3a72f524bd",
     "grade": true,
     "grade_id": "cell-db2e30680f56e4cc",
     "locked": false,
     "points": 1,
     "schema_version": 3,
     "solution": true,
     "task": false
    }
   },
   "source": [
    "YOUR ANSWER HERE"
   ]
  },
  {
   "cell_type": "markdown",
   "metadata": {
    "deletable": false,
    "editable": false,
    "nbgrader": {
     "cell_type": "markdown",
     "checksum": "db95d751f2cd8505f326575ab0484758",
     "grade": false,
     "grade_id": "cell-3be78fd070607d6f",
     "locked": true,
     "schema_version": 3,
     "solution": false,
     "task": false
    }
   },
   "source": [
    "**Q9** The reading shows two ways of building a `pandas` dataframe from a webpage: using either a LoL or DoL. Write a sentence to describe how each approach works at a high level. Which do you find more intuitive and why?"
   ]
  },
  {
   "cell_type": "markdown",
   "metadata": {
    "deletable": false,
    "nbgrader": {
     "cell_type": "markdown",
     "checksum": "f48435db7a81a7259176f83ec0ef2c28",
     "grade": true,
     "grade_id": "cell-b788b65f0b4eca9d",
     "locked": false,
     "points": 1,
     "schema_version": 3,
     "solution": true,
     "task": false
    }
   },
   "source": [
    "YOUR ANSWER HERE"
   ]
  }
 ],
 "metadata": {
  "kernelspec": {
   "display_name": "Python 3",
   "language": "python",
   "name": "python3"
  },
  "language_info": {
   "codemirror_mode": {
    "name": "ipython",
    "version": 3
   },
   "file_extension": ".py",
   "mimetype": "text/x-python",
   "name": "python",
   "nbconvert_exporter": "python",
   "pygments_lexer": "ipython3",
   "version": "3.7.6"
  }
 },
 "nbformat": 4,
 "nbformat_minor": 2
}
