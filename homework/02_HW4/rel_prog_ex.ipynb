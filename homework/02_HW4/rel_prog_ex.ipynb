{
 "cells": [
  {
   "cell_type": "markdown",
   "metadata": {},
   "source": [
    "Before you turn this problem in, make sure everything runs as expected. First, **restart the kernel** (in the menubar, select Kernel$\\rightarrow$Restart) and then **run all cells** (in the menubar, select Cell$\\rightarrow$Run All).\n",
    "\n",
    "Make sure you fill in any place that says `YOUR CODE HERE`/`raise NotImplementedError` or \"YOUR ANSWER HERE\", as well as your name and collaborators below:"
   ]
  },
  {
   "cell_type": "markdown",
   "metadata": {
    "deletable": false,
    "editable": false,
    "nbgrader": {
     "cell_type": "markdown",
     "checksum": "3a9466fc989db0a8a77b3056fb803dcc",
     "grade": false,
     "grade_id": "cell-09a00dc400158f29",
     "locked": true,
     "schema_version": 3,
     "solution": false,
     "task": false
    }
   },
   "source": [
    "## Set User Credentials\n",
    "\n",
    "With a shared resource at a provider like a MySQL RDBMS, we need to use credentials to authenticate ourselves to the server, and need the logical location of the server itself.\n",
    "\n",
    "For these notebooks, these are kept in a text file named 'creds.json', stored either in the same directory or in a data directory.  For this notebook, this is stored in the same directory as the notebook.\n",
    "\n",
    "- Right click on the `creds.json` file and select *Open With*->*Editor*\n",
    "- Replace the mysql dictionary's key for \"user\" (currently `\"nostudent\"`) with the base part of your email address (i.e. without the `@denison.edu`).  Your password on the mysql server, at present, is the same as your user, so change that from `\"nostudent\"` as well.  The server should be correct, mapped to `\"hadoop2.mathsci.denison.edu\"`. Likewise, the scheme should be correct, mapped to `\"mysql+mysqlconnector\"`. \n",
    "\n",
    "**Make sure to use double quotes for strings** ... this is `JSON`, not Python, and we have to follow JSON syntax.\n",
    "\n",
    "Once this is complete, execute the following cell to connect to the database using SQL alchemy. If you are off-campus you will need to use a VPN first."
   ]
  },
  {
   "cell_type": "code",
   "execution_count": null,
   "metadata": {
    "deletable": false,
    "editable": false,
    "nbgrader": {
     "cell_type": "code",
     "checksum": "bcbe49c07c7467239823cc3743d83ca4",
     "grade": false,
     "grade_id": "cell-dac357f5cad07758",
     "locked": true,
     "schema_version": 3,
     "solution": false,
     "task": false
    }
   },
   "outputs": [],
   "source": [
    "import pandas as pd\n",
    "import os\n",
    "import os.path\n",
    "import json\n",
    "import sqlalchemy as sa\n",
    "\n",
    "def getmysql_creds(dirname=\".\",filename=\"creds.json\"):\n",
    "    \"\"\" Using directory and filename parameters, open a credentials file\n",
    "        and obtain the four parts needed for a connection string to\n",
    "        a remote provider using the \"mysql\" dictionary within\n",
    "        an outer dictionary.  \n",
    "        \n",
    "        Return a scheme, server, user, and password\n",
    "    \"\"\"\n",
    "    assert os.path.isfile(os.path.join(dirname, filename))\n",
    "    with open(os.path.join(dirname, filename)) as f:\n",
    "        D = json.load(f)\n",
    "    mysql = D[\"mysql\"]\n",
    "    return mysql[\"scheme\"], mysql[\"server\"], mysql[\"user\"], mysql[\"pass\"],mysql[\"database\"]\n",
    "\n",
    "scheme, server, u, password, database = getmysql_creds()\n",
    "template = '{}://{}:{}@{}/{}'\n",
    "cstring = template.format(scheme, u, password, server,database)\n",
    "\n",
    "engine=sa.create_engine(cstring)\n",
    "\n",
    "print(cstring) # you should be in your personal \n",
    "               # database space now, if you edited the JSON"
   ]
  },
  {
   "cell_type": "markdown",
   "metadata": {
    "deletable": false,
    "editable": false,
    "nbgrader": {
     "cell_type": "markdown",
     "checksum": "079d83970eb3e33a02c1f73ffe2409dd",
     "grade": false,
     "grade_id": "cell-b1a38991ca60787f",
     "locked": true,
     "schema_version": 3,
     "solution": false,
     "task": false
    }
   },
   "source": [
    "**Q1** Write a function `create_connection_str(user,p,h,d)` that creates a connection string to connect to MySQL protocol given by host `h` and database `d`, for user `user` and password `p`. Test your function with your own username and password."
   ]
  },
  {
   "cell_type": "code",
   "execution_count": null,
   "metadata": {
    "deletable": false,
    "nbgrader": {
     "cell_type": "code",
     "checksum": "b413c116bd4ee27320e568028ccd899f",
     "grade": false,
     "grade_id": "cell-a4b742c5363f8bc5",
     "locked": false,
     "schema_version": 3,
     "solution": true,
     "task": false
    }
   },
   "outputs": [],
   "source": [
    "# Solution cell\n",
    "\n",
    "# YOUR CODE HERE\n",
    "raise NotImplementedError()"
   ]
  },
  {
   "cell_type": "code",
   "execution_count": null,
   "metadata": {
    "deletable": false,
    "editable": false,
    "nbgrader": {
     "cell_type": "code",
     "checksum": "0043c29d8ab9a3b10608a7b020bcf753",
     "grade": true,
     "grade_id": "cell-1ca7d4fa74b04065",
     "locked": true,
     "points": 3,
     "schema_version": 3,
     "solution": false,
     "task": false
    }
   },
   "outputs": [],
   "source": [
    "# Testing cell\n",
    "cstring = create_connection_str(u,u,'hadoop2.mathsci.denison.edu','book')\n",
    "print(cstring)\n",
    "engine = sa.create_engine(cstring)\n",
    "conn = engine.connect()\n",
    "query = \"SELECT * FROM indicators0\"\n",
    "result_proxy = conn.execute(query)\n",
    "fields = result_proxy.keys()\n",
    "query2 = \"SELECT * FROM topnames\"\n",
    "result_proxy2 = conn.execute(query2)\n",
    "fields2 = result_proxy2.keys()\n",
    "conn.close()\n",
    "assert len(fields) == 5\n",
    "assert len(fields2) == 4"
   ]
  },
  {
   "cell_type": "markdown",
   "metadata": {
    "deletable": false,
    "editable": false,
    "nbgrader": {
     "cell_type": "markdown",
     "checksum": "bc248a70ba9993393feecc3e90af06bc",
     "grade": false,
     "grade_id": "cell-82cd3c987cb0dfe3",
     "locked": true,
     "schema_version": 3,
     "solution": false,
     "task": false
    }
   },
   "source": [
    "**Q2** In reference to the `school` database, please list all courses (subject and number) that were not taught as classes during the year (hint: recall that outer joins can be used for such 'set difference' questions). Do this using your function `create_connection_str`, and using a `with` environment to make sure the connection you create is closed when you are done. Save the result of your query as `result_proxy`."
   ]
  },
  {
   "cell_type": "code",
   "execution_count": null,
   "metadata": {
    "deletable": false,
    "nbgrader": {
     "cell_type": "code",
     "checksum": "8d7cbc1ef79a659cde7952ae313660db",
     "grade": false,
     "grade_id": "cell-a189b4c69ad9a847",
     "locked": false,
     "schema_version": 3,
     "solution": true,
     "task": false
    }
   },
   "outputs": [],
   "source": [
    "# Solution cell\n",
    "# YOUR CODE HERE\n",
    "raise NotImplementedError()\n",
    "resultdf = pd.DataFrame(result_proxy.fetchall(),\n",
    "                       columns = result_proxy.keys())\n",
    "\n",
    "resultdf.head()"
   ]
  },
  {
   "cell_type": "code",
   "execution_count": null,
   "metadata": {
    "deletable": false,
    "editable": false,
    "nbgrader": {
     "cell_type": "code",
     "checksum": "116f6ec24d9756f1b29cf3dfbc887cdd",
     "grade": true,
     "grade_id": "cell-4141a941927f7a09",
     "locked": true,
     "points": 4,
     "schema_version": 3,
     "solution": false,
     "task": false
    }
   },
   "outputs": [],
   "source": [
    "# Testing cell\n",
    "assert len(resultdf) == 94\n",
    "assert list(resultdf.columns) == ['coursesubject','coursenum']"
   ]
  },
  {
   "cell_type": "markdown",
   "metadata": {
    "deletable": false,
    "editable": false,
    "nbgrader": {
     "cell_type": "markdown",
     "checksum": "a7e98ecda7c043c63e130c5fe9273b96",
     "grade": false,
     "grade_id": "cell-e2a6900179e36d43",
     "locked": true,
     "schema_version": 3,
     "solution": false,
     "task": false
    }
   },
   "source": [
    "**Q3** Use your function `create_connection_str` to create a connection string, engine, and connection to the `nycflights13` database. Then use `read_sql_table()` to create a `pandas` dataframe `df` from the `planes` table of `nycflights13`."
   ]
  },
  {
   "cell_type": "code",
   "execution_count": null,
   "metadata": {
    "deletable": false,
    "nbgrader": {
     "cell_type": "code",
     "checksum": "4f812dd4912089bf483fd23e2e17aa7d",
     "grade": false,
     "grade_id": "cell-cb9f49f9378209d8",
     "locked": false,
     "schema_version": 3,
     "solution": true,
     "task": false
    }
   },
   "outputs": [],
   "source": [
    "# Solution cell\n",
    "# YOUR CODE HERE\n",
    "raise NotImplementedError()\n",
    "df.head()"
   ]
  },
  {
   "cell_type": "code",
   "execution_count": null,
   "metadata": {
    "deletable": false,
    "editable": false,
    "nbgrader": {
     "cell_type": "code",
     "checksum": "7fa657fd2b0e9df1a93a9c0d444a29e8",
     "grade": true,
     "grade_id": "cell-3f82cc39b77e023c",
     "locked": true,
     "points": 2,
     "schema_version": 3,
     "solution": false,
     "task": false
    }
   },
   "outputs": [],
   "source": [
    "# Testing cell\n",
    "assert df.shape == (3322,9)\n",
    "assert 'EMBRAER' in list(df['manufacturer'])"
   ]
  },
  {
   "cell_type": "markdown",
   "metadata": {
    "deletable": false,
    "editable": false,
    "nbgrader": {
     "cell_type": "markdown",
     "checksum": "62ad08d5e7f0eeb9f93e67b4ad957d32",
     "grade": false,
     "grade_id": "cell-7c436d2ff016f941",
     "locked": true,
     "schema_version": 3,
     "solution": false,
     "task": false
    }
   },
   "source": [
    "**Q4** Write a function `select_message(dbcon,u,f,i)` that uses a select query (that incorporates variables) to select the message from the `emails` table of the `enron` database, where the user is `u`, the folder is `f`, and the `emailid` is `i`. Return your answer as a data frame, and make use of `read_sql_query()` in `pandas`. Here `dbcon` is the connection, as you can see from the testing cell."
   ]
  },
  {
   "cell_type": "code",
   "execution_count": null,
   "metadata": {
    "deletable": false,
    "nbgrader": {
     "cell_type": "code",
     "checksum": "9f9773840188d27b03aff511ce5663ab",
     "grade": false,
     "grade_id": "cell-fc63f57138d53929",
     "locked": false,
     "schema_version": 3,
     "solution": true,
     "task": false
    }
   },
   "outputs": [],
   "source": [
    "# Solution cell\n",
    "# YOUR CODE HERE\n",
    "raise NotImplementedError()"
   ]
  },
  {
   "cell_type": "code",
   "execution_count": null,
   "metadata": {
    "deletable": false,
    "editable": false,
    "nbgrader": {
     "cell_type": "code",
     "checksum": "b68ae5c4eb0493153f20c1cfab7e7094",
     "grade": true,
     "grade_id": "cell-471f8bf67e7affe8",
     "locked": true,
     "points": 4,
     "schema_version": 3,
     "solution": false,
     "task": false
    }
   },
   "outputs": [],
   "source": [
    "# Testing cell\n",
    "cstring = create_connection_str(u,u,'hadoop2.mathsci.denison.edu','enron')\n",
    "engine = sa.create_engine(cstring)\n",
    "with engine.connect() as connection:\n",
    "    df = select_message(connection,'allen-p','inbox',39)\n",
    "\n",
    "print(df['message'][0])\n",
    "\n",
    "assert len(df) == 1\n",
    "assert 'West Power Desk' in df['message'][0]\n",
    "assert 'The method for distribution of the weekly reports has changed' in df['message'][0]"
   ]
  }
 ],
 "metadata": {
  "kernelspec": {
   "display_name": "Python 3",
   "language": "python",
   "name": "python3"
  },
  "language_info": {
   "codemirror_mode": {
    "name": "ipython",
    "version": 3
   },
   "file_extension": ".py",
   "mimetype": "text/x-python",
   "name": "python",
   "nbconvert_exporter": "python",
   "pygments_lexer": "ipython3",
   "version": "3.7.4"
  }
 },
 "nbformat": 4,
 "nbformat_minor": 4
}
