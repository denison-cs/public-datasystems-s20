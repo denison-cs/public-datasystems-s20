{
 "cells": [
  {
   "cell_type": "markdown",
   "metadata": {},
   "source": [
    "Before you turn this problem in, make sure everything runs as expected. First, **restart the kernel** (in the menubar, select Kernel$\\rightarrow$Restart) and then **run all cells** (in the menubar, select Cell$\\rightarrow$Run All).\n",
    "\n",
    "Make sure you fill in any place that says `YOUR CODE HERE`/`raise NotImplementedError` or \"YOUR ANSWER HERE\", as well as your name and collaborators below:"
   ]
  },
  {
   "cell_type": "markdown",
   "metadata": {},
   "source": [
    "# Practice with APIs\n",
    "\n",
    "The goal of this set of RQs is to guide you through some hands-on practice with APIs. This is not meant as a substitute for doing the reading, and to fully answer the questions below, you will need to read the text we gave you from Chapter 23. Having completed these RQs, you'll be in a better position to write code to work with APIs in the future."
   ]
  },
  {
   "cell_type": "markdown",
   "metadata": {
    "deletable": false,
    "editable": false,
    "nbgrader": {
     "cell_type": "markdown",
     "checksum": "4537c4907cc8168fba7e65e40b891961",
     "grade": false,
     "grade_id": "cell-57120bd5299950a1",
     "locked": true,
     "schema_version": 3,
     "solution": false,
     "task": false
    }
   },
   "source": [
    "**Q1** Please open the following link in your favorite web browser and follow the directions there for creating an account and requesting an API key:\n",
    "\n",
    "https://developers.themoviedb.org/3/getting-started/introduction\n",
    "\n",
    "You can fill in any application name and URL that you like, but in the Application Summary field, you need to write a sentence or two. Feel free to simply describe that you are going to use the API key to learn about APIs for a course you are taking. When you finish, please write down the first four digits of the API key you received in the cell below. Keep the rest of your API key secret and keep it in a place you won't forget it.  Creating a `creds.json` and making it contain a dictionary with `'tmdb'` mapping to a dictionary with `apikey` mapping to **your** api key will prepare you for Friday."
   ]
  },
  {
   "cell_type": "markdown",
   "metadata": {
    "deletable": false,
    "nbgrader": {
     "cell_type": "markdown",
     "checksum": "c32cc96a3bf1b7b87412ddb3985e0071",
     "grade": true,
     "grade_id": "cell-7e7cefa48e1afe58",
     "locked": false,
     "points": 1,
     "schema_version": 3,
     "solution": true,
     "task": false
    }
   },
   "source": [
    "YOUR ANSWER HERE"
   ]
  },
  {
   "cell_type": "markdown",
   "metadata": {
    "deletable": false,
    "editable": false,
    "nbgrader": {
     "cell_type": "markdown",
     "checksum": "cf277f451bca980e0d8c16c1a85299d0",
     "grade": false,
     "grade_id": "cell-b2c6ebd953944b8c",
     "locked": true,
     "schema_version": 3,
     "solution": false,
     "task": false
    }
   },
   "source": [
    "**Q2** As part of the process in getting your API key above, you had accept some terms. Since you are going to use this API key to develop software, it is important to *actually read and understand* those terms of use, to be sure you are not violating them. In case you didn't save a copy, you can see the terms of use you accepted at this link:\n",
    "https://www.themoviedb.org/documentation/api/terms-of-use\n",
    "\n",
    "Please write down two terms of use you would expect, and one that surprised you, plus why. If any of the terms of use confused you, please write down your confusion below so you can clarify it later."
   ]
  },
  {
   "cell_type": "markdown",
   "metadata": {
    "deletable": false,
    "nbgrader": {
     "cell_type": "markdown",
     "checksum": "a240bdf8ddd33f08c45269cf9330c321",
     "grade": true,
     "grade_id": "cell-6af781088c9a321b",
     "locked": false,
     "points": 1,
     "schema_version": 3,
     "solution": true,
     "task": false
    }
   },
   "source": [
    "YOUR ANSWER HERE"
   ]
  },
  {
   "cell_type": "markdown",
   "metadata": {
    "deletable": false,
    "editable": false,
    "nbgrader": {
     "cell_type": "markdown",
     "checksum": "64bd346875c2716d8400b9afdc4eb732",
     "grade": false,
     "grade_id": "cell-5eb484452fe4edd2",
     "locked": true,
     "schema_version": 3,
     "solution": false,
     "task": false
    }
   },
   "source": [
    "**Q3** The \"TMDB Search Movie Specification\" figure is based on the following link:\n",
    "https://developers.themoviedb.org/3/search/search-movies\n",
    "\n",
    "Please read the information at that website carefully, then answer the following questions.\n",
    "\n",
    "1. On the left sidebar, please give an example of a different kind of SEARCH you can do with the TMDB API. \n",
    "2. On the left sidebar, please find the goal of a POST message under MOVIES.\n",
    "3. In the Responses table, what Example of a Status Code 401 is provided? How about Status Code 404?\n",
    "4. In the schema for a successful `application/json` response, what path would lead to `vote_average`?"
   ]
  },
  {
   "cell_type": "markdown",
   "metadata": {
    "deletable": false,
    "nbgrader": {
     "cell_type": "markdown",
     "checksum": "a948b3a923145c33179ce91be2e705f6",
     "grade": true,
     "grade_id": "cell-31e3ed6129833e9d",
     "locked": false,
     "points": 1,
     "schema_version": 3,
     "solution": true,
     "task": false
    }
   },
   "source": [
    "YOUR ANSWER HERE"
   ]
  },
  {
   "cell_type": "markdown",
   "metadata": {
    "deletable": false,
    "editable": false,
    "nbgrader": {
     "cell_type": "markdown",
     "checksum": "d06e691eef47ae2946550001eaf2cdd4",
     "grade": false,
     "grade_id": "cell-375221d3acdc04ee",
     "locked": true,
     "schema_version": 3,
     "solution": false,
     "task": false
    }
   },
   "source": [
    "**Q4** With reference to the problem above, from the link provided, please click \"Try it out\" at the top of the page. \n",
    "\n",
    "1. Please put in the required api_key (you can use the one from the reading or the one you obtained in Q1), a search for \"citizen kane\", not including adult films, and only including films released in 1941. \n",
    "\n",
    "    a. Please write down the resulting URL.\n",
    "    \n",
    "    b. Describe what happens when you click \"Send Request\"\n",
    "    \n",
    "    c. Is it the same thing that happens when you copy and paste the URL into your web browser?\n",
    "\n",
    "2. Experiment with different settings in the \"Try it out\" menu. \n",
    "\n",
    "    a. What happens if you leave out the API key? \n",
    "    \n",
    "    b. Does capitalization matter? \n",
    "    \n",
    "    c. Can you search for a film with the symbol `+` in the title (e.g., the movie `+1` released in 2013 about three college friends who attend a party...)? \n",
    "    \n",
    "    d. How are spaces and pluses converted into URLs, and why? What do you think would happen if you searched for a movie with an ampersand (&) or percentage sign (%) in the title, and why?"
   ]
  },
  {
   "cell_type": "markdown",
   "metadata": {
    "deletable": false,
    "nbgrader": {
     "cell_type": "markdown",
     "checksum": "24e9b48d8c5b5592d80a745a1c3cf3bc",
     "grade": true,
     "grade_id": "cell-d825a4e3773dc622",
     "locked": false,
     "points": 1,
     "schema_version": 3,
     "solution": true,
     "task": false
    }
   },
   "source": [
    "YOUR ANSWER HERE"
   ]
  },
  {
   "cell_type": "markdown",
   "metadata": {
    "deletable": false,
    "editable": false,
    "nbgrader": {
     "cell_type": "markdown",
     "checksum": "0585aa65106a519a786806384e8cd31e",
     "grade": false,
     "grade_id": "cell-17a5bf72d53a04b0",
     "locked": true,
     "schema_version": 3,
     "solution": false,
     "task": false
    }
   },
   "source": [
    "**Q5** The reading gives an example of an endpoint-path to the root for the GitHub API. Please formulate an endpoint path to the root for TMDB and then describe what happens when you navigate to that link in your web browser."
   ]
  },
  {
   "cell_type": "markdown",
   "metadata": {
    "deletable": false,
    "nbgrader": {
     "cell_type": "markdown",
     "checksum": "864691bfd234ff2df325d71c1c7617b2",
     "grade": true,
     "grade_id": "cell-8de915bd27ba6a4e",
     "locked": false,
     "points": 1,
     "schema_version": 3,
     "solution": true,
     "task": false
    }
   },
   "source": [
    "YOUR ANSWER HERE"
   ]
  },
  {
   "cell_type": "markdown",
   "metadata": {
    "deletable": false,
    "editable": false,
    "nbgrader": {
     "cell_type": "markdown",
     "checksum": "0ea661cf39e12ee61dafbf0e7f5f8746",
     "grade": false,
     "grade_id": "cell-c3559bd210a9f6ae",
     "locked": true,
     "schema_version": 3,
     "solution": false,
     "task": false
    }
   },
   "source": [
    "**Q6** The reading gives an example of an endpoint-path to a non-root endpoint (without query parameters, but with a path parameter). Please give an analogous example for TMDB and describe what happens *and why* when you navigate to that path in a browser."
   ]
  },
  {
   "cell_type": "markdown",
   "metadata": {
    "deletable": false,
    "nbgrader": {
     "cell_type": "markdown",
     "checksum": "5d3d0f24897082c4ab48817b95774351",
     "grade": true,
     "grade_id": "cell-52bc9c19e16298f3",
     "locked": false,
     "points": 1,
     "schema_version": 3,
     "solution": true,
     "task": false
    }
   },
   "source": [
    "YOUR ANSWER HERE"
   ]
  },
  {
   "cell_type": "markdown",
   "metadata": {
    "deletable": false,
    "editable": false,
    "nbgrader": {
     "cell_type": "markdown",
     "checksum": "51011b239d7dafd7ca2e506e63145ebd",
     "grade": false,
     "grade_id": "cell-85cc0af1c05f6058",
     "locked": true,
     "schema_version": 3,
     "solution": false,
     "task": false
    }
   },
   "source": [
    "**Q7** Please give a justification in real-world terms of each of the four \"guiding principles\" of REST. That is, describe, for each principle, what the world would be like if the principle were not followed, and explain why this matters."
   ]
  },
  {
   "cell_type": "markdown",
   "metadata": {
    "deletable": false,
    "nbgrader": {
     "cell_type": "markdown",
     "checksum": "2204742f321136aca5b0525b467b2938",
     "grade": true,
     "grade_id": "cell-996550dd87aa2032",
     "locked": false,
     "points": 1,
     "schema_version": 3,
     "solution": true,
     "task": false
    }
   },
   "source": [
    "YOUR ANSWER HERE"
   ]
  },
  {
   "cell_type": "markdown",
   "metadata": {
    "deletable": false,
    "editable": false,
    "nbgrader": {
     "cell_type": "markdown",
     "checksum": "9f139624b4e69c91429fea24cbc9260f",
     "grade": false,
     "grade_id": "cell-9e02b0ad411b1e0c",
     "locked": true,
     "schema_version": 3,
     "solution": false,
     "task": false
    }
   },
   "source": [
    "**Q8** Why do you think it is important for TMDB to issue API keys? Why is it important to keep your key secret? Why is it important to use HTTPS instead of HTTP for this kind of situation?"
   ]
  },
  {
   "cell_type": "markdown",
   "metadata": {
    "deletable": false,
    "nbgrader": {
     "cell_type": "markdown",
     "checksum": "597c9d04ff683b7d452432977df8d303",
     "grade": true,
     "grade_id": "cell-f48d15d0796f14c6",
     "locked": false,
     "points": 1,
     "schema_version": 3,
     "solution": true,
     "task": false
    }
   },
   "source": [
    "YOUR ANSWER HERE"
   ]
  }
 ],
 "metadata": {
  "kernelspec": {
   "display_name": "Python 3",
   "language": "python",
   "name": "python3"
  },
  "language_info": {
   "codemirror_mode": {
    "name": "ipython",
    "version": 3
   },
   "file_extension": ".py",
   "mimetype": "text/x-python",
   "name": "python",
   "nbconvert_exporter": "python",
   "pygments_lexer": "ipython3",
   "version": "3.7.6"
  }
 },
 "nbformat": 4,
 "nbformat_minor": 2
}
