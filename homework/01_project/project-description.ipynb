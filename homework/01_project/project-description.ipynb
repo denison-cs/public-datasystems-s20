{
 "cells": [
  {
   "cell_type": "markdown",
   "metadata": {},
   "source": [
    "Before you turn this problem in, make sure everything runs as expected. First, **restart the kernel** (in the menubar, select Kernel$\\rightarrow$Restart) and then **run all cells** (in the menubar, select Cell$\\rightarrow$Run All).\n",
    "\n",
    "Make sure you fill in any place that says `YOUR CODE HERE`/`raise NotImplementedError` or \"YOUR ANSWER HERE\", as well as your name and collaborators below:"
   ]
  },
  {
   "cell_type": "markdown",
   "metadata": {},
   "source": [
    "# Unit 01 Tabular: Unit Project\n",
    "\n",
    "All projects in this course share some basic learning objectives:\n",
    "\n",
    "1. Use real data collected and compiled together by some outside entity.\n",
    "    - For this project, for convenience, we are providing a set of csv files in the `publicdata` directory, but these are **exactly as distributed** from the provider.\n",
    "2. Use tools and techniques of the Unit to help acquire and transform the data into a useable form.\n",
    "3. Corollary to 2, synthesize many individual skills into a coherent whole to solve a problem.\n",
    "4. Incorporate coherent documentation to describe the start-to-finish process of the project, including describing questions of the project and answers developed.\n",
    "5. Build a visualization to help understand the data."
   ]
  },
  {
   "cell_type": "markdown",
   "metadata": {},
   "source": [
    "## The Gender Statistics Dataset\n",
    "\n",
    "### Dataset Origin and Attribution\n",
    "\n",
    "The dataset for this project is provided as a collection of csv files in the relative path `publicdata/Gender_Stats`.  This data is collected and distributed by an organization named **World Bank**.  The dataset is classified as Public under the Access to Information Classification Policy. Users inside and outside the Bank can access this dataset.  The dataset is licensed under [CC-BY 4.0](https://datacatalog.worldbank.org/public-licenses#cc-by)\n",
    "\n",
    "### Dataset Contents\n",
    "\n",
    "The Gender Statistics database is a comprehensive source for the latest sex-disaggregated data and gender statistics covering demography, education, health, access to economic opportunities, public life and decision-making, and agency.\n",
    "\n",
    "Here are some of the World Bank's documentation further describing the data:\n",
    "\n",
    "- https://datacatalog.worldbank.org/dataset/gender-statistics\n",
    "- https://data.worldbank.org/products/data-books/little-data-book-on-gender\n",
    "- http://datatopics.worldbank.org/gender/indicators\n",
    "- https://data.worldbank.org/indicator/"
   ]
  },
  {
   "cell_type": "markdown",
   "metadata": {},
   "source": [
    "## Student Objectives\n",
    "\n",
    "Your objective is to construct a well-organized and well-written report which documents your investigation of this data set.  The report should target an audience that is **not** an expert in `pandas` and tidy data.  The intended audience would be a person who can understand graphs and quantitative exploration.\n",
    "\n",
    "The point of a synthesis unit project like this is twofold:\n",
    "\n",
    "- to document, through code **and** Markdown, in your `processing.ipynb` Notebook, the progression that starts with the input of the raw external data and ends with tidy data in a set of csv files.  The Markdown should document and justify (based on tidy data principles) the transformations on the data, while the code should be a well-designed set of functions allowing repeatable results, and called in a structured way.\n",
    "- to document, through Markdown and visulizations, and **clearly communicate** what you **learned about the data**, framed as a set of \"interesting questions\" that your visualizations help you to answer.  This documentation should be performed in the `report.ipynb` notebook.\n",
    "\n",
    "As outlined in the rubric below, your grade is about all of these parts."
   ]
  },
  {
   "cell_type": "markdown",
   "metadata": {},
   "source": [
    "## Process Overview\n",
    "\n",
    "The steps described here are intended to help you think through the arc of this project.  We have also provided some specific guidance in the `guidance.ipynb` that give you some real steps to take and directions that will help give you a place to start, both with Step 1 and Step 3, outlined here.\n",
    "\n",
    "### Step 1: Understand Your Data\n",
    "\n",
    "> Goal: One or more Tidy data frames with clear identification of Independent Variables and Dependent Variables.  These should be saved in CSV files.\n",
    "\n",
    "- If you have a Data Dictionary, read it carefully.  Look in the data folder at the CSV files.  Is there one that is focused on *defining* variables/indicators that are found in other (data carrying) files?  Use the data dictionary to learn the scope of the data available.\n",
    "- Look at the gender data and the country data, and start to understand the structure as given to you. Using a spreadsheet application or other view on the tabular data, work at understanding first the dependent variables, and then the independent variables that they are dependent upon.  \n",
    "- Look at values in the table and try to answer the question: This value is a value of which variable, and has meaning/interpretation given by values of which independent variables?\n",
    "- Think about what makes a distinct measure, and how the additional measures are taken over time or by different locales.\n",
    "- Look at rows to see if there are aggregations of information at the same \"level\" as other rows in the dataset."
   ]
  },
  {
   "cell_type": "markdown",
   "metadata": {},
   "source": [
    "### Step 2: Craft Exploratory Questions\n",
    "\n",
    "> Goal: At least three questions that exploration of the data can give insight on.\n",
    "\n",
    "  - As you explore the data in Step 1, ask yourself: what is this data good for? What do I find myself wondering as I dig into it?\n",
    "  - Think about questions that can naturally be answered via visualizations (step 4).\n",
    "  - Avoid questions that cannot be answered by this particular dataset, e.g. about columns you don't have access to."
   ]
  },
  {
   "cell_type": "markdown",
   "metadata": {},
   "source": [
    "### Step 3: Development\n",
    "\n",
    "> Goal: Write functions to allow reproducible processing of the full and/or subset data to obtain a collection of Tidy versions and allowing output to CSV for exchange/communication with the next step.\n",
    "\n",
    "  - This is where you write the necessary code to drop rows, drop columns, rename columns, subset into different dataframes, melt, pivot, join, etc.\n",
    "  - Test your code frequently as you go, and also test the notebook as a whole, by restarting the kernel and doing a Cell -> \"Run All\" to be sure that your code does not rely on variables you created once then deleted the code for.\n",
    "  - Remove unnecessary print statements, and never print an entire data frame (you will be doing a \"File -> Download As -> pdf\" at the end, which will include all code outputs).\n",
    "  - Be sure to comment your code, and use Markdown cells to explain what you are doing at each step."
   ]
  },
  {
   "cell_type": "markdown",
   "metadata": {},
   "source": [
    "### Step 4: Visualization\n",
    "\n",
    "> Goal: Set of clear and coherent visualizations that give insight to the exploratory questions and include **explanation** and **interpretation**.\n",
    "\n",
    "  - Avoid graphics that contain far too much information (e.g. hundreds of histograms, or scatterplots with so many points as to be unreadable).\n",
    "  - Don't feel the need to include every graphic you produce. Your goal is quality, not quantity. Having too many visualizations can actually hurt your grade, since this is a writing assignment and you are being graded on quality and coherence rather than the sheer amount of work you did.\n",
    "  - Produce graphics that are informative, where the reader can see a story at a glance.\n",
    "  - Good graphics often include a contrast, e.g., one line plot for women and another for men.\n",
    "  - Good graphics often include color.\n",
    "\n",
    "Note that the steps listed above, as in most data projects, are not intended to be strictly linear.  You may craft some questions that, under development or visualization, may turn out to be not well articulated, or difficult to explore.  You may find that the target tables, in fact, are not tidy and more work in Step 1 and beyond are needed."
   ]
  },
  {
   "cell_type": "markdown",
   "metadata": {},
   "source": [
    "**All of the above steps should be integrated into the two provided Notebooks that document and chronicles the project.**\n",
    "\n",
    "The Notebook should be considered a writing assignment every bit as much as a programming assignment.  You should write clearly and coherently.  You should have paragraphs that are cohesive and have a topic sentence and then support that topic sentence.  You should organize into sections and subsections and, through narrative, lead your reader through the chronicle and development.\n",
    "\n",
    "Your target audience is for a **non-expert** scientist or mathematician.  They may not know \"tidy data\", but are well familiar with independent and dependent variables.  They will not know the information available in the Gender Stats."
   ]
  },
  {
   "cell_type": "markdown",
   "metadata": {},
   "source": [
    "## Evaluation and Grading\n",
    "\n",
    "Your task is to write the Python code to acquire the data for each dataset, write (good, clean, coherent) functions to process the **format/representation** as given for the dataset and to assemble it into a **data structure(s)** allowing processing by your Python, take any steps you believe are necessary to **make the data tidy**, so that we can do aggregation and to allow processing for **visualization and exploration**, and to output the data to allow a hand-off for visualization in Tableau or another visualization program.\n",
    "\n",
    "For this synthesis assignment, you may not, in fact, need tons of Python code.  And the class discussion of the source dataset and the assignment description will give you advice to help you in this process.  But part of the point of a synthesis project is to document, through Markdown in your solution Notebooks, the start-to-finish progression to go from external raw data to a visualization that can answer questions about the data in the dataset.  \n",
    "\n",
    "So your Project assignments are not just about \"writing the program\".  I want you, through the Markdown and Notebook, as well as the visualization, to **clearly communicate** all of your steps in the start-to-finish progression and what you **learned about the datasets**.  As outlined in the rubric below, your grade is about all of these parts.\n",
    "\n",
    "I want to see you put together a coherent report/essay in an iPython Notebook that describes the steps taken, presents the code and rationale for why your functions coherently decompose and solve the overall problem, and uses graphs and English description to describe and **interpret** the results.  So the end of the notebook will be including the graphs/visualizations developed in Tableau and leading the reader through the interpretation.\n",
    "\n",
    "A good notebook should allow an audience/reader who is *not associated with this course* to understand the development and your conclusions. That said, you can use vocabulary we have learned in the course, like subset, join, melt, and pivot, without defining these terms.\n",
    "\n",
    "Your grade will be determined as follows:\n",
    "\n",
    "- 25 points for a well written and coherent essay and visualizations that answer good questions about the data\n",
    "- 17 points for code that executes correctly, and is structured with good functional decomposition and limits/eliminates globals\n",
    "  - I and my TAs must be able to load your notebook and do a \"Restart and Run All\" execution and get execution that correctly starts with no data in the local directory, and ends with a file (or files) that serves as a correct Data Connection in Tableau to your visualization.\n",
    "- 8 points for code documentation.  The code documentation **must** include:\n",
    "\n",
    "  - Program level docstring\n",
    "  - Complete docstrings for each function that include description, parameters, and return value\n",
    "      - If you have insufficient functions defined, you will lose these potential points as well\n",
    "  - Comments in the code that describe (for a reader that might _only_ see your code) *how* the code is working.\n"
   ]
  },
  {
   "cell_type": "markdown",
   "metadata": {},
   "source": [
    "## What to Turn In\n",
    "\n",
    "You will turn in\n",
    "\n",
    "- `processing.ipynb`: we will execute this notebook and expect that it can run from start to finish and create the CSV files of tidy data\n",
    "- a PDF of your **executed** `processing.ipynb` so that we can make comments on the PDF about how well you wrote your functions, described and justified the processing that you did, and organized and documented your code.\n",
    "- `report.ipynb`: we will also execute this notebook and expect that it can run from start to finish and will include any graphics/visualizations needed to read and interpret your report.\n",
    "- a **PDF** of your **executed** `report.ipynb` so that we can make comments on the PDF about how well you wrote your report, described the data and its context, and formulated interesting questions, showed visualizations, and interpreted the results.\n",
    "- One or more (jpeg) image files as needed to execute `report.ipynb`\n",
    "\n",
    "You can include your tidy data csvs.\n",
    "\n",
    "These should all be submitted to Notebowl, and **not** packaged in a zip."
   ]
  }
 ],
 "metadata": {
  "kernelspec": {
   "display_name": "Python 3",
   "language": "python",
   "name": "python3"
  },
  "language_info": {
   "codemirror_mode": {
    "name": "ipython",
    "version": 3
   },
   "file_extension": ".py",
   "mimetype": "text/x-python",
   "name": "python",
   "nbconvert_exporter": "python",
   "pygments_lexer": "ipython3",
   "version": "3.7.6"
  }
 },
 "nbformat": 4,
 "nbformat_minor": 4
}
