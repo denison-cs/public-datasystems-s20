{
 "cells": [
  {
   "cell_type": "markdown",
   "metadata": {},
   "source": [
    "Before you turn this problem in, make sure everything runs as expected. First, **restart the kernel** (in the menubar, select Kernel$\\rightarrow$Restart) and then **run all cells** (in the menubar, select Cell$\\rightarrow$Run All).\n",
    "\n",
    "Make sure you fill in any place that says `YOUR CODE HERE`/`raise NotImplementedError` or \"YOUR ANSWER HERE\", as well as your name and collaborators below:"
   ]
  },
  {
   "cell_type": "markdown",
   "metadata": {},
   "source": [
    "Use this notebook for the Markdown (and any necessary code) that you use for your report/essay for describing what you learned about this data set.  Make sure your report is \n",
    "\n",
    "- well structured/organized,\n",
    "- provides a context for the data, \n",
    "- describes the qualities and contents of the data, \n",
    "- motivates and develops what you were interested in learning about the data,\n",
    "- clearly states/describes your \"interesting questions\",\n",
    "- uses **good** visualizations to convey possible answers to your questions,\n",
    "- helps the reader **interpret** what they see in the visualization.\n",
    "\n",
    "You can/should delete this descriptive cell, but make sure you include the cell immediately below this cell, as it is used in the notebook submission process."
   ]
  },
  {
   "cell_type": "code",
   "execution_count": null,
   "metadata": {
    "deletable": false,
    "nbgrader": {
     "cell_type": "code",
     "checksum": "bb45ff906790cc23457b2e8257ac33e2",
     "grade": true,
     "grade_id": "cell-082cb8c869176279",
     "locked": false,
     "points": 25,
     "schema_version": 3,
     "solution": true,
     "task": false
    }
   },
   "outputs": [],
   "source": [
    "# YOUR CODE HERE\n",
    "raise NotImplementedError()"
   ]
  }
 ],
 "metadata": {
  "kernelspec": {
   "display_name": "Python 3",
   "language": "python",
   "name": "python3"
  },
  "language_info": {
   "codemirror_mode": {
    "name": "ipython",
    "version": 3
   },
   "file_extension": ".py",
   "mimetype": "text/x-python",
   "name": "python",
   "nbconvert_exporter": "python",
   "pygments_lexer": "ipython3",
   "version": "3.7.6"
  }
 },
 "nbformat": 4,
 "nbformat_minor": 2
}
