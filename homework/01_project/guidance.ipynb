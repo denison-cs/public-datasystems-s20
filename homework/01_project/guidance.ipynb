{
 "cells": [
  {
   "cell_type": "markdown",
   "metadata": {},
   "source": [
    "Before you turn this problem in, make sure everything runs as expected. First, **restart the kernel** (in the menubar, select Kernel$\\rightarrow$Restart) and then **run all cells** (in the menubar, select Cell$\\rightarrow$Run All).\n",
    "\n",
    "Make sure you fill in any place that says `YOUR CODE HERE`/`raise NotImplementedError` or \"YOUR ANSWER HERE\", as well as your name and collaborators below:"
   ]
  },
  {
   "cell_type": "markdown",
   "metadata": {},
   "source": [
    "### Specific Guidance\n",
    "\n",
    "Most of this guidance applies to the main data set.  It is not intended to consitute a \"step-by-step\" direction of what you are to do to \"get a good grade.\"  The code and functions that you write may well be informed by this guidance, but evaluation of the project is as specified in the project description notebook.\n",
    "\n",
    "1. **Understand your data**:\n",
    "    - Q: Column dimension consists mainly of *what*?\n",
    "    - Q: Row dimension consists mainly of *what*?\n",
    "    - Q: What are the cases of redundant data, indicative of subset independent variable determining a dependent variable and included for convenience?  Think, in particular, about country codes and country names and indicator codes and indicator names.\n",
    "    - If we did not look at the definitions of the indicators, and assuming we could do appropriate melting and pivoting, what would be the basic form of the functional dependency for the data set?\n",
    "    - Look closely at the first two rows for a particular country, and, in particular, at the Indicator Name/Description.  You should see, on two rows, names that prefix with \"Access to anti-retroviral drugs\".  If we performed appropriate melting and pivoting, these would consitute two different variables, with female version and a male version.  Would that be tidy?  If yes, justify.  If no, explain the real functional dependecy for this (and others like it) subset of the data.\n",
    "    - With your eyes opened to this kind of problem in the data set, look at the Indicator Name lines that start \"Cause of death ...\".  For these \"indicator\" lines, what is the true functional dependency?\n",
    "    - Go back to your original functional dependency.  Are there rows where this is the true functional dependency?\n",
    "    - Look up ARB rows in the large data set, and also in the Gender_StatsCountry.csv file.  In particular, look at the \"Special Notes\" Column.  Is inclusion of rows like this appropriate for Tidy Data?  Why or why not?  \n",
    "    - Find other instances of such aggregate \"country code\" lines in both the large data set and in the `StatsCountry.csv`.  Beyond the Special Notes description, if we look at the values in other columns of StatsCountry, is there a discernable pattern?  Does this suggest a way of getting a *list* of country codes that are aggregates?  (Other than a manual process.)\n",
    "\n",
    "2.  **Subset before Transformation**.  \n",
    "\n",
    "    This is a fairly large data set, and before we start doing expensive operations like melt and pivot, it makes sense to perform some subsetting that, from our work above, we know is coming.  The subsetting that we might imagine:\n",
    "\n",
    "    - Removing all rows that represent aggregates\n",
    "    \n",
    "    - Removing columns that are redundant and can be recreated with an auxiliary table (like the \"Country Name\" or the \"Indicator Name\")\n",
    "\n",
    "    - If, based on our desired \"interesting questions\" we can restrict our attention to a subset of the period of time covered by the table, we could remove columns for years out of that time range.\n",
    "    \n",
    "    - For *each unique set* of independent variables, create a subset data set that involves the rows of *only those* indicator variables.  Each of these subsets could be further reduced to the set of indicators that are involved in exploring our \"interesting questions\".\n",
    "        - To allow for reproducible analysis and decoupling and to avoid repeated operations, these untidy intermediate results should be saved to separate csv files.\n",
    "        - This last step is really resolving **TidyData3** that says that any single table should only represent one functional dependency mapping.\n",
    "\n",
    "3. **Make Subsets Tidy** \n",
    "\n",
    "    We should then apply our operations to perform tidy data conversion to these data sets.  Generate csv files giving the tidy result.  In addition to a tidy `countries` table, I would expect at least three tidy data sets derived from the main data (each with a different functional dependency governing it).  Make sure there are at least 5 or 6  variable columns for each of these.  Use short, simple, clear variable names by renaming the original indicator into something appropriate.\n",
    "\n",
    "4. **Generate/Tidy Auxiliary Tables**\n",
    "\n",
    "    - `countries` with code, name (like the Long Name), region, and income group to allow joining and groupby with these categorizations\n",
    "    - `variables` with original indicator code (or an approximation based on the functional dependency, the indicator name (long name) (again an approximation based on the functional dependecy), and your variable name."
   ]
  },
  {
   "cell_type": "code",
   "execution_count": null,
   "metadata": {},
   "outputs": [],
   "source": []
  }
 ],
 "metadata": {
  "kernelspec": {
   "display_name": "Python 3",
   "language": "python",
   "name": "python3"
  },
  "language_info": {
   "codemirror_mode": {
    "name": "ipython",
    "version": 3
   },
   "file_extension": ".py",
   "mimetype": "text/x-python",
   "name": "python",
   "nbconvert_exporter": "python",
   "pygments_lexer": "ipython3",
   "version": "3.7.6"
  }
 },
 "nbformat": 4,
 "nbformat_minor": 4
}
