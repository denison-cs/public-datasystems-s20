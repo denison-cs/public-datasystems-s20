{
 "cells": [
  {
   "cell_type": "markdown",
   "metadata": {},
   "source": [
    "Before you turn this problem in, make sure everything runs as expected. First, **restart the kernel** (in the menubar, select Kernel$\\rightarrow$Restart) and then **run all cells** (in the menubar, select Cell$\\rightarrow$Run All).\n",
    "\n",
    "Make sure you fill in any place that says `YOUR CODE HERE`/`raise NotImplementedError` or \"YOUR ANSWER HERE\", as well as your name and collaborators below:"
   ]
  },
  {
   "cell_type": "markdown",
   "metadata": {
    "deletable": false,
    "editable": false,
    "nbgrader": {
     "cell_type": "markdown",
     "checksum": "6e3e6cfc3f6e7cf60d333381c1d00bc2",
     "grade": false,
     "grade_id": "cell-b53b1e1fc57f2ff7",
     "locked": true,
     "schema_version": 3,
     "solution": false,
     "task": false
    }
   },
   "source": [
    "**Q1** Design a database for the following dataset of lakes (where `size` in in acres and `maxDepth` is in feet). Your answer should involve multiple tables. Note the dependencies between the tables, which columns are primary keys, and which are foreign keys to be used to join the tables back together again.\n",
    "\n",
    "|name|size|maxDepth|location|\n",
    "|----|----|--------|------|\n",
    "|Houghton|20044|20|Roscommon, MI|\n",
    "|Hubbard|18850|85|Alcona, MI|\n",
    "|Charlevoix|17260|122|Charlevoix, MI|\n",
    "|Burt|17120|73|Cheboygan, MI|\n",
    "|Mullett|16630|148|Cheboygan, MI|\n",
    "|Lake Mendota|9740|83|Dane, WI|\n",
    "|Lake Pepin|19649|60|Pepin, WI|\n",
    "|Lake Onalaska|7688|40|LaCrosse, WI|\n",
    "\n",
    "If you double-click this cell, you can see how to create a nicely formatted table in Markdown. Please display tables following this model in your answer below. Please also write a paragraph about how you decided which tables to create (hint: talk about functional dependencies)."
   ]
  },
  {
   "cell_type": "markdown",
   "metadata": {
    "deletable": false,
    "nbgrader": {
     "cell_type": "markdown",
     "checksum": "b4c2d233357db1dfad69d5d5f04e6e61",
     "grade": true,
     "grade_id": "cell-7fe085340a06fb06",
     "locked": false,
     "points": 5,
     "schema_version": 3,
     "solution": true,
     "task": false
    }
   },
   "source": [
    "*Solution cell*\n",
    "\n",
    "YOUR ANSWER HERE"
   ]
  }
 ],
 "metadata": {
  "kernelspec": {
   "display_name": "Python 3",
   "language": "python",
   "name": "python3"
  },
  "language_info": {
   "codemirror_mode": {
    "name": "ipython",
    "version": 3
   },
   "file_extension": ".py",
   "mimetype": "text/x-python",
   "name": "python",
   "nbconvert_exporter": "python",
   "pygments_lexer": "ipython3",
   "version": "3.7.4"
  }
 },
 "nbformat": 4,
 "nbformat_minor": 2
}
