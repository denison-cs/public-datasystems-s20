{
 "cells": [
  {
   "cell_type": "markdown",
   "metadata": {},
   "source": [
    "Before you turn this problem in, make sure everything runs as expected. First, **restart the kernel** (in the menubar, select Kernel$\\rightarrow$Restart) and then **run all cells** (in the menubar, select Cell$\\rightarrow$Run All).\n",
    "\n",
    "Make sure you fill in any place that says `YOUR CODE HERE`/`raise NotImplementedError` or \"YOUR ANSWER HERE\", as well as your name and collaborators below:"
   ]
  },
  {
   "cell_type": "markdown",
   "metadata": {
    "deletable": false,
    "editable": false,
    "nbgrader": {
     "cell_type": "markdown",
     "checksum": "55f00084035ef9bfd825760928b7aac0",
     "grade": false,
     "grade_id": "cell-ae4fda0f95c1f6d5",
     "locked": true,
     "schema_version": 3,
     "solution": false,
     "task": false
    }
   },
   "source": [
    "**Q1** Consider the primary key of the `topnames` dataset. Will this key determine rows uniquely in the future? Explain, by thinking through what it would mean for the world if the answer was \"yes\" and if the answer was \"no\"."
   ]
  },
  {
   "cell_type": "markdown",
   "metadata": {
    "deletable": false,
    "nbgrader": {
     "cell_type": "markdown",
     "checksum": "855653dcb8dfb2dd274b7c9ec66388ef",
     "grade": true,
     "grade_id": "cell-4f0d25479b603307",
     "locked": false,
     "points": 1,
     "schema_version": 3,
     "solution": true,
     "task": false
    }
   },
   "source": [
    "YOUR ANSWER HERE"
   ]
  },
  {
   "cell_type": "markdown",
   "metadata": {
    "deletable": false,
    "editable": false,
    "nbgrader": {
     "cell_type": "markdown",
     "checksum": "cae1fcd090d884f8e6546f5753e320eb",
     "grade": false,
     "grade_id": "cell-967ea6308a8f4a49",
     "locked": true,
     "schema_version": 3,
     "solution": false,
     "task": false
    }
   },
   "source": [
    "**Q2** Is it possible to have fields that are part of the set of independent variables but not part of a primary key? Explain."
   ]
  },
  {
   "cell_type": "markdown",
   "metadata": {
    "deletable": false,
    "nbgrader": {
     "cell_type": "markdown",
     "checksum": "052f2d0f42f6ad4b64298584bbb83443",
     "grade": true,
     "grade_id": "cell-1d7d8774bfcfd135",
     "locked": false,
     "points": 1,
     "schema_version": 3,
     "solution": true,
     "task": false
    }
   },
   "source": [
    "YOUR ANSWER HERE"
   ]
  },
  {
   "cell_type": "markdown",
   "metadata": {
    "deletable": false,
    "editable": false,
    "nbgrader": {
     "cell_type": "markdown",
     "checksum": "c4e44f30c54e03b0fffb22365a44c69e",
     "grade": false,
     "grade_id": "cell-50c7720b925530ef",
     "locked": true,
     "schema_version": 3,
     "solution": false,
     "task": false
    }
   },
   "source": [
    "**Q3** The reading recommends avoiding \"repeated fields between tables.\" Does that mean that in the `school` database we should avoid having `studentid` in both `students` and in `student_class`? Explain."
   ]
  },
  {
   "cell_type": "markdown",
   "metadata": {
    "deletable": false,
    "nbgrader": {
     "cell_type": "markdown",
     "checksum": "27b015120c6475f2fa9c81e68ddff87e",
     "grade": true,
     "grade_id": "cell-d65c261ce9c46c88",
     "locked": false,
     "points": 1,
     "schema_version": 3,
     "solution": true,
     "task": false
    }
   },
   "source": [
    "YOUR ANSWER HERE"
   ]
  },
  {
   "cell_type": "markdown",
   "metadata": {
    "deletable": false,
    "editable": false,
    "nbgrader": {
     "cell_type": "markdown",
     "checksum": "83ef26c67f2930ee6aa1979347b604f2",
     "grade": false,
     "grade_id": "cell-87079a53d2cb9b0e",
     "locked": true,
     "schema_version": 3,
     "solution": false,
     "task": false
    }
   },
   "source": [
    "**Q4** Please think of an example, different from any in the book, of a field containing a list of values, then explain the remedy."
   ]
  },
  {
   "cell_type": "markdown",
   "metadata": {
    "deletable": false,
    "nbgrader": {
     "cell_type": "markdown",
     "checksum": "e0d8268a526165f4a32a03b214103977",
     "grade": true,
     "grade_id": "cell-5fdc9b16b5a5143d",
     "locked": false,
     "points": 1,
     "schema_version": 3,
     "solution": true,
     "task": false
    }
   },
   "source": [
    "YOUR ANSWER HERE"
   ]
  },
  {
   "cell_type": "markdown",
   "metadata": {
    "deletable": false,
    "editable": false,
    "nbgrader": {
     "cell_type": "markdown",
     "checksum": "01dde2952aa9644c59bcf05453174d17",
     "grade": false,
     "grade_id": "cell-b1449ef0198d40e7",
     "locked": true,
     "schema_version": 3,
     "solution": false,
     "task": false
    }
   },
   "source": [
    "**Q5** In the case of `majors`, it is reasonable to assume that no student has more than 3 majors, so one could reasonably add new columns like `major1,major2,major3`. Consider a database of pet owners, with a table `owners` where the entities are people (and various fields like `address`, `age`, `gender`, etc). Imagine a column `cats` whose value for a given row (owner) is a list of all cats that person owns. Could this table be represented using columns `cat1`, `cat2`, etc? Explain. Then explain how, specifically, you would modify your database to avoid having a column that takes list values."
   ]
  },
  {
   "cell_type": "markdown",
   "metadata": {
    "deletable": false,
    "nbgrader": {
     "cell_type": "markdown",
     "checksum": "0d2ea964b1ee648a07ebec43107f4a0a",
     "grade": true,
     "grade_id": "cell-a80c867d11b3f2fa",
     "locked": false,
     "points": 1,
     "schema_version": 3,
     "solution": true,
     "task": false
    }
   },
   "source": [
    "YOUR ANSWER HERE"
   ]
  },
  {
   "cell_type": "markdown",
   "metadata": {
    "deletable": false,
    "editable": false,
    "nbgrader": {
     "cell_type": "markdown",
     "checksum": "044b469c50c7f55d04776a6249020825",
     "grade": false,
     "grade_id": "cell-1705d73ea3b3ec7d",
     "locked": true,
     "schema_version": 3,
     "solution": false,
     "task": false
    }
   },
   "source": [
    "**Q6** Give an example of a data type field constraint, and its impact in real-world terms."
   ]
  },
  {
   "cell_type": "markdown",
   "metadata": {
    "deletable": false,
    "nbgrader": {
     "cell_type": "markdown",
     "checksum": "1c027a4196d46e1c216bb7a405efce38",
     "grade": true,
     "grade_id": "cell-99095de9df58ce3e",
     "locked": false,
     "points": 1,
     "schema_version": 3,
     "solution": true,
     "task": false
    }
   },
   "source": [
    "YOUR ANSWER HERE"
   ]
  },
  {
   "cell_type": "markdown",
   "metadata": {
    "deletable": false,
    "editable": false,
    "nbgrader": {
     "cell_type": "markdown",
     "checksum": "1b61e479d4ac8d7afd89d9722cadacfb",
     "grade": false,
     "grade_id": "cell-09cdd922416745b9",
     "locked": true,
     "schema_version": 3,
     "solution": false,
     "task": false
    }
   },
   "source": [
    "**Q7** What are the three types of relationships between tables? Define and give an example of each, different from examples already in the text."
   ]
  },
  {
   "cell_type": "markdown",
   "metadata": {
    "deletable": false,
    "nbgrader": {
     "cell_type": "markdown",
     "checksum": "3b6d13256bf7e9b510fccc8df58907b5",
     "grade": true,
     "grade_id": "cell-6457bcac4018b3d6",
     "locked": false,
     "points": 1,
     "schema_version": 3,
     "solution": true,
     "task": false
    }
   },
   "source": [
    "YOUR ANSWER HERE"
   ]
  },
  {
   "cell_type": "markdown",
   "metadata": {
    "deletable": false,
    "editable": false,
    "nbgrader": {
     "cell_type": "markdown",
     "checksum": "f9a08c00ca2f1a88ded824e8aa09f0aa",
     "grade": false,
     "grade_id": "cell-6f574eab9fa948e5",
     "locked": true,
     "schema_version": 3,
     "solution": false,
     "task": false
    }
   },
   "source": [
    "**Q8** Give an example construction of the `countries` table including data type constraints, and using the `UNIQUE` keyword. You can mimic the example of creation of the `subjects` table."
   ]
  },
  {
   "cell_type": "markdown",
   "metadata": {
    "deletable": false,
    "nbgrader": {
     "cell_type": "markdown",
     "checksum": "0d6141cce0a9d525a4980cc67e5c87c5",
     "grade": true,
     "grade_id": "cell-9b9554cffb4b9e9f",
     "locked": false,
     "points": 1,
     "schema_version": 3,
     "solution": true,
     "task": false
    }
   },
   "source": [
    "YOUR ANSWER HERE"
   ]
  },
  {
   "cell_type": "markdown",
   "metadata": {
    "deletable": false,
    "editable": false,
    "nbgrader": {
     "cell_type": "markdown",
     "checksum": "7e607229115019475548cbdb5026e113",
     "grade": false,
     "grade_id": "cell-cbf44a1132c2d5a4",
     "locked": true,
     "schema_version": 3,
     "solution": false,
     "task": false
    }
   },
   "source": [
    "**Q9** Explain how to use a `CHECK` constraint to ensure that, when inserting birth numbers into `topnames`, it is impossible to insert a negative number."
   ]
  },
  {
   "cell_type": "markdown",
   "metadata": {
    "deletable": false,
    "nbgrader": {
     "cell_type": "markdown",
     "checksum": "3a13a69b2c955e2d1f7e4fa99675475d",
     "grade": true,
     "grade_id": "cell-240fe5997e11551b",
     "locked": false,
     "points": 1,
     "schema_version": 3,
     "solution": true,
     "task": false
    }
   },
   "source": [
    "YOUR ANSWER HERE"
   ]
  },
  {
   "cell_type": "markdown",
   "metadata": {
    "deletable": false,
    "editable": false,
    "nbgrader": {
     "cell_type": "markdown",
     "checksum": "8a140dcf4bd60d75f6ae9f23489cd3f8",
     "grade": false,
     "grade_id": "cell-9dc17ea530173efe",
     "locked": true,
     "schema_version": 3,
     "solution": false,
     "task": false
    }
   },
   "source": [
    "**Q10** If you were dropping tables from the `school` database, what order would you drop in and why?"
   ]
  },
  {
   "cell_type": "markdown",
   "metadata": {
    "deletable": false,
    "nbgrader": {
     "cell_type": "markdown",
     "checksum": "9eb91b57f66da0f5da4386448b67d1b4",
     "grade": true,
     "grade_id": "cell-2633b92800287a73",
     "locked": false,
     "points": 1,
     "schema_version": 3,
     "solution": true,
     "task": false
    }
   },
   "source": [
    "YOUR ANSWER HERE"
   ]
  },
  {
   "cell_type": "markdown",
   "metadata": {
    "deletable": false,
    "editable": false,
    "nbgrader": {
     "cell_type": "markdown",
     "checksum": "c068ef7906fd05f6b0a89b3717194947",
     "grade": false,
     "grade_id": "cell-05b355559925e0d0",
     "locked": true,
     "schema_version": 3,
     "solution": false,
     "task": false
    }
   },
   "source": [
    "**Q11** How would you describe the relationship between the *value-list* and the *column-list* when inserting values? Where have you seen this kind of relationship between two lists before?"
   ]
  },
  {
   "cell_type": "markdown",
   "metadata": {
    "deletable": false,
    "nbgrader": {
     "cell_type": "markdown",
     "checksum": "e5d77d66ab1be3b7182312c1756b6d9b",
     "grade": true,
     "grade_id": "cell-2de64a5b4515d782",
     "locked": false,
     "points": 1,
     "schema_version": 3,
     "solution": true,
     "task": false
    }
   },
   "source": [
    "YOUR ANSWER HERE"
   ]
  },
  {
   "cell_type": "markdown",
   "metadata": {
    "deletable": false,
    "editable": false,
    "nbgrader": {
     "cell_type": "markdown",
     "checksum": "886f4a9c2c34b1f426f7406e10b4bc9d",
     "grade": false,
     "grade_id": "cell-05338878b1f7a542",
     "locked": true,
     "schema_version": 3,
     "solution": false,
     "task": false
    }
   },
   "source": [
    "**Q12** With respect to the `movies` table, what are the pros and cons of making the default value for `rating` be 0.0 instead of NULL?"
   ]
  },
  {
   "cell_type": "markdown",
   "metadata": {
    "deletable": false,
    "nbgrader": {
     "cell_type": "markdown",
     "checksum": "d68c46dfc51d3408816c63a0856db100",
     "grade": true,
     "grade_id": "cell-a82ff6222c20d258",
     "locked": false,
     "points": 1,
     "schema_version": 3,
     "solution": true,
     "task": false
    }
   },
   "source": [
    "YOUR ANSWER HERE"
   ]
  },
  {
   "cell_type": "markdown",
   "metadata": {
    "deletable": false,
    "editable": false,
    "nbgrader": {
     "cell_type": "markdown",
     "checksum": "d8cd6ea1ddb1ccea879afa6e057b77f9",
     "grade": false,
     "grade_id": "cell-733ecde218588e68",
     "locked": true,
     "schema_version": 3,
     "solution": false,
     "task": false
    }
   },
   "source": [
    "**Q13** Consider the `LoL` example for insertion. How would you modify this example to work even if the `LoL` has columns in the wrong order, e.g., putting `rating` as the third field and `release` as the fourth? This might happen if the `LoL` was created based on an old version of the database schema. "
   ]
  },
  {
   "cell_type": "markdown",
   "metadata": {
    "deletable": false,
    "nbgrader": {
     "cell_type": "markdown",
     "checksum": "5538825e943e4fbe4987899870c84bec",
     "grade": true,
     "grade_id": "cell-67722385699bbeb6",
     "locked": false,
     "points": 1,
     "schema_version": 3,
     "solution": true,
     "task": false
    }
   },
   "source": [
    "YOUR ANSWER HERE"
   ]
  },
  {
   "cell_type": "markdown",
   "metadata": {
    "deletable": false,
    "editable": false,
    "nbgrader": {
     "cell_type": "markdown",
     "checksum": "70350da48d43c029220cbc61cf6733a8",
     "grade": false,
     "grade_id": "cell-e8a04ac47b22e24a",
     "locked": true,
     "schema_version": 3,
     "solution": false,
     "task": false
    }
   },
   "source": [
    "**Q14** How would the code in example 2 change if the headers in the csv file were `ID,name,released,stars`?"
   ]
  },
  {
   "cell_type": "markdown",
   "metadata": {
    "deletable": false,
    "nbgrader": {
     "cell_type": "markdown",
     "checksum": "6300f9a0ae6f17c38bbce8b62e037cee",
     "grade": true,
     "grade_id": "cell-531746a053424ac8",
     "locked": false,
     "points": 1,
     "schema_version": 3,
     "solution": true,
     "task": false
    }
   },
   "source": [
    "YOUR ANSWER HERE"
   ]
  },
  {
   "cell_type": "markdown",
   "metadata": {
    "deletable": false,
    "editable": false,
    "nbgrader": {
     "cell_type": "markdown",
     "checksum": "8520bac5386efe92eeb0688ac25a5a7f",
     "grade": false,
     "grade_id": "cell-f2edbeb6288c61cf",
     "locked": true,
     "schema_version": 3,
     "solution": false,
     "task": false
    }
   },
   "source": [
    "**Q15** If the csv file in example 2 had the same data as the LoL in example 1, what would be the first value of `row` in the for-loop in example 2?"
   ]
  },
  {
   "cell_type": "markdown",
   "metadata": {
    "deletable": false,
    "nbgrader": {
     "cell_type": "markdown",
     "checksum": "38e5f4f096bd6cb630a957003f55864d",
     "grade": true,
     "grade_id": "cell-86851a5077273add",
     "locked": false,
     "points": 1,
     "schema_version": 3,
     "solution": true,
     "task": false
    }
   },
   "source": [
    "YOUR ANSWER HERE"
   ]
  }
 ],
 "metadata": {
  "kernelspec": {
   "display_name": "Python 3",
   "language": "python",
   "name": "python3"
  },
  "language_info": {
   "codemirror_mode": {
    "name": "ipython",
    "version": 3
   },
   "file_extension": ".py",
   "mimetype": "text/x-python",
   "name": "python",
   "nbconvert_exporter": "python",
   "pygments_lexer": "ipython3",
   "version": "3.7.4"
  }
 },
 "nbformat": 4,
 "nbformat_minor": 2
}
