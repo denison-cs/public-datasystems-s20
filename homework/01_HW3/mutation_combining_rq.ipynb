{
 "cells": [
  {
   "cell_type": "markdown",
   "metadata": {},
   "source": [
    "Before you turn this problem in, make sure everything runs as expected. First, **restart the kernel** (in the menubar, select Kernel$\\rightarrow$Restart) and then **run all cells** (in the menubar, select Cell$\\rightarrow$Run All).\n",
    "\n",
    "Make sure you fill in any place that says `YOUR CODE HERE`/`raise NotImplementedError` or \"YOUR ANSWER HERE\", as well as your name and collaborators below:"
   ]
  },
  {
   "cell_type": "markdown",
   "metadata": {
    "deletable": false,
    "editable": false,
    "nbgrader": {
     "cell_type": "markdown",
     "checksum": "cc38140ccd29fa9bb06d4cb10026a118",
     "grade": false,
     "grade_id": "cell-d4a058a6425ddfb7",
     "locked": true,
     "schema_version": 3,
     "solution": false,
     "task": false
    }
   },
   "source": [
    "**Q1** Check out the online documentation for the `insert()` command in `pandas`, and then write down a line of code that would insert a column named `'code'`, with values `code_series`, in position index 2, into `ind2`. You can assume that column `'code'` has already been popped from `ind2` before you start, like in the reading."
   ]
  },
  {
   "cell_type": "markdown",
   "metadata": {
    "deletable": false,
    "nbgrader": {
     "cell_type": "markdown",
     "checksum": "346194fdb515336a5f62fedf6704e387",
     "grade": true,
     "grade_id": "cell-82e36a9a1db49958",
     "locked": false,
     "points": 1,
     "schema_version": 3,
     "solution": true,
     "task": false
    }
   },
   "source": [
    "YOUR ANSWER HERE"
   ]
  },
  {
   "cell_type": "markdown",
   "metadata": {
    "deletable": false,
    "editable": false,
    "nbgrader": {
     "cell_type": "markdown",
     "checksum": "89657255d617462fa153001d838a98eb",
     "grade": false,
     "grade_id": "cell-e82a26eace384e01",
     "locked": true,
     "schema_version": 3,
     "solution": false,
     "task": false
    }
   },
   "source": [
    "**Q2** Run the following code, and then explain precisely why Python gets confused. Note: you will first need to have a data frame named `indicators`, so check out the `publicdata` directory.\n",
    "\n",
    "`country_cell = indicators[['country', 'cell']]\n",
    "country_cell['cellper'] = indicators.cell / indicators['pop']`\n"
   ]
  },
  {
   "cell_type": "markdown",
   "metadata": {
    "deletable": false,
    "nbgrader": {
     "cell_type": "markdown",
     "checksum": "d7559df180c15ea23aadf7d7b3efcddb",
     "grade": true,
     "grade_id": "cell-be593e665b6a8a36",
     "locked": false,
     "points": 1,
     "schema_version": 3,
     "solution": true,
     "task": false
    }
   },
   "source": [
    "YOUR ANSWER HERE"
   ]
  },
  {
   "cell_type": "markdown",
   "metadata": {
    "deletable": false,
    "editable": false,
    "nbgrader": {
     "cell_type": "markdown",
     "checksum": "223819d7e910917b30ca8781f28a1428",
     "grade": false,
     "grade_id": "cell-02aa48b608cd54e6",
     "locked": true,
     "schema_version": 3,
     "solution": false,
     "task": false
    }
   },
   "source": [
    "**Q3** The reading shows how to update the `'CHN'` and `'USA'` rows of `ind2` to add 5 to the values in the life expectancy column. Show how to do the same thing using `iloc`.\n",
    "\n"
   ]
  },
  {
   "cell_type": "markdown",
   "metadata": {
    "deletable": false,
    "nbgrader": {
     "cell_type": "markdown",
     "checksum": "a9ec04dc54a2338836a25cf7f8e36fd8",
     "grade": true,
     "grade_id": "cell-0a46442d6bfbbe40",
     "locked": false,
     "points": 1,
     "schema_version": 3,
     "solution": true,
     "task": false
    }
   },
   "source": [
    "YOUR ANSWER HERE"
   ]
  },
  {
   "cell_type": "markdown",
   "metadata": {
    "deletable": false,
    "editable": false,
    "nbgrader": {
     "cell_type": "markdown",
     "checksum": "36581da6608bfb7c5f67a46c2df5ffea",
     "grade": false,
     "grade_id": "cell-20847b3db48ce87c",
     "locked": true,
     "schema_version": 3,
     "solution": false,
     "task": false
    }
   },
   "source": [
    "**Q4** Read the online documentation about `sort_values()` in `pandas` and then show how to mutate the `ind2` data frame to sort it by the values in the life expectancy column. When you do so, explain the meaning of your `inplace` setting."
   ]
  },
  {
   "cell_type": "markdown",
   "metadata": {
    "deletable": false,
    "nbgrader": {
     "cell_type": "markdown",
     "checksum": "bdf7150744e6c5045ef001cef9c527e8",
     "grade": true,
     "grade_id": "cell-d4f8d094751f34a0",
     "locked": false,
     "points": 1,
     "schema_version": 3,
     "solution": true,
     "task": false
    }
   },
   "source": [
    "YOUR ANSWER HERE"
   ]
  },
  {
   "cell_type": "markdown",
   "metadata": {
    "deletable": false,
    "editable": false,
    "nbgrader": {
     "cell_type": "markdown",
     "checksum": "19a8d0f9f092e6d255cdc66d94332396",
     "grade": false,
     "grade_id": "cell-81763d670ca8fc76",
     "locked": true,
     "schema_version": 3,
     "solution": false,
     "task": false
    }
   },
   "source": [
    "**Q5** Consider the code that concatenates `indicators1` and `indicators2` by row (`axis=0`). Suppose that, when defining `indicators1`, we use the code \n",
    "\n",
    "`indicators1 = indicators.loc[['CHN', 'IND', 'USA'], 'life' ]` \n",
    "\n",
    "instead of \n",
    "\n",
    "`indicators1 = indicators.loc[['CHN', 'IND', 'USA'], :'life' ]`\n",
    "\n",
    "Explain what happens in `combined` and why."
   ]
  },
  {
   "cell_type": "markdown",
   "metadata": {
    "deletable": false,
    "nbgrader": {
     "cell_type": "markdown",
     "checksum": "523721caba01064b2bf46e51ee1765d2",
     "grade": true,
     "grade_id": "cell-931f73e0ff1a97bd",
     "locked": false,
     "points": 1,
     "schema_version": 3,
     "solution": true,
     "task": false
    }
   },
   "source": [
    "YOUR ANSWER HERE"
   ]
  },
  {
   "cell_type": "markdown",
   "metadata": {
    "deletable": false,
    "editable": false,
    "nbgrader": {
     "cell_type": "markdown",
     "checksum": "0174776a2a95c7a990b12db5470b5dfa",
     "grade": false,
     "grade_id": "cell-52c31e513f12354e",
     "locked": true,
     "schema_version": 3,
     "solution": false,
     "task": false
    }
   },
   "source": [
    "**Q6** What happens if we use `concat` with `ignore_index = True` on a data frame that *does* have a meaningful index, like `'code'` in `indicators`?\n"
   ]
  },
  {
   "cell_type": "markdown",
   "metadata": {
    "deletable": false,
    "nbgrader": {
     "cell_type": "markdown",
     "checksum": "abe126e72db31afa29e15642b30ee2f7",
     "grade": true,
     "grade_id": "cell-b06e466345dc990b",
     "locked": false,
     "points": 1,
     "schema_version": 3,
     "solution": true,
     "task": false
    }
   },
   "source": [
    "YOUR ANSWER HERE"
   ]
  },
  {
   "cell_type": "markdown",
   "metadata": {
    "deletable": false,
    "editable": false,
    "nbgrader": {
     "cell_type": "markdown",
     "checksum": "b6746ca155dbf57512c86c0d0cbec455",
     "grade": false,
     "grade_id": "cell-d462e5acb2d2fbaa",
     "locked": true,
     "schema_version": 3,
     "solution": false,
     "task": false
    }
   },
   "source": [
    "**Q7** Give a real-world example, different from the one in the book, when you might want to combine two datasets with the same rows but different columns, along a column level. Does your example represent tidy data? Why or why not?\n"
   ]
  },
  {
   "cell_type": "markdown",
   "metadata": {
    "deletable": false,
    "nbgrader": {
     "cell_type": "markdown",
     "checksum": "7e180bd6c4601f5a3458f880addcf2d7",
     "grade": true,
     "grade_id": "cell-b257e43cbc038f6d",
     "locked": false,
     "points": 1,
     "schema_version": 3,
     "solution": true,
     "task": false
    }
   },
   "source": [
    "YOUR ANSWER HERE"
   ]
  },
  {
   "cell_type": "markdown",
   "metadata": {
    "deletable": false,
    "editable": false,
    "nbgrader": {
     "cell_type": "markdown",
     "checksum": "16ad74e63a998592897e2cafa0c3ac7c",
     "grade": false,
     "grade_id": "cell-0f45e12011766945",
     "locked": true,
     "schema_version": 3,
     "solution": false,
     "task": false
    }
   },
   "source": [
    "**Q8** Is the inner join symmetric? In other words, does it matter if you do `join1.join(join2, how=\"inner\")` or `join2.join(join1, how=\"inner\")`?\n"
   ]
  },
  {
   "cell_type": "markdown",
   "metadata": {
    "deletable": false,
    "nbgrader": {
     "cell_type": "markdown",
     "checksum": "e665de3fdcb03c1b9ecec398c1301cf8",
     "grade": true,
     "grade_id": "cell-b642c10035d63406",
     "locked": false,
     "points": 1,
     "schema_version": 3,
     "solution": true,
     "task": false
    }
   },
   "source": [
    "YOUR ANSWER HERE"
   ]
  },
  {
   "cell_type": "markdown",
   "metadata": {
    "deletable": false,
    "editable": false,
    "nbgrader": {
     "cell_type": "markdown",
     "checksum": "d9d860513bf94876276c11feedb645e5",
     "grade": false,
     "grade_id": "cell-43d462249748e22e",
     "locked": true,
     "schema_version": 3,
     "solution": false,
     "task": false
    }
   },
   "source": [
    "**Q9** What happens if you use `merge` when you meant to use `join`, i.e. on a column that is an index?\n",
    "\n"
   ]
  },
  {
   "cell_type": "markdown",
   "metadata": {
    "deletable": false,
    "nbgrader": {
     "cell_type": "markdown",
     "checksum": "f86d88147de1c7c7ee3bbece12a213c0",
     "grade": true,
     "grade_id": "cell-cdf41772adc39482",
     "locked": false,
     "points": 1,
     "schema_version": 3,
     "solution": true,
     "task": false
    }
   },
   "source": [
    "YOUR ANSWER HERE"
   ]
  },
  {
   "cell_type": "markdown",
   "metadata": {
    "deletable": false,
    "editable": false,
    "nbgrader": {
     "cell_type": "markdown",
     "checksum": "182b059f4226a7f39ca4adae9b9ae9af",
     "grade": false,
     "grade_id": "cell-f450aee4b61cb0a5",
     "locked": true,
     "schema_version": 3,
     "solution": false,
     "task": false
    }
   },
   "source": [
    "**Q10** Give a real-world example, different from the one in the book, plus a reason you might want to do an inner join instead of a left or right join.\n",
    "\n",
    "\n"
   ]
  },
  {
   "cell_type": "markdown",
   "metadata": {
    "deletable": false,
    "nbgrader": {
     "cell_type": "markdown",
     "checksum": "3165fe03b0a2b3b67adfda9a06944b84",
     "grade": true,
     "grade_id": "cell-7d297e7008769933",
     "locked": false,
     "points": 1,
     "schema_version": 3,
     "solution": true,
     "task": false
    }
   },
   "source": [
    "YOUR ANSWER HERE"
   ]
  }
 ],
 "metadata": {
  "kernelspec": {
   "display_name": "Python 3",
   "language": "python",
   "name": "python3"
  },
  "language_info": {
   "codemirror_mode": {
    "name": "ipython",
    "version": 3
   },
   "file_extension": ".py",
   "mimetype": "text/x-python",
   "name": "python",
   "nbconvert_exporter": "python",
   "pygments_lexer": "ipython3",
   "version": "3.7.4"
  }
 },
 "nbformat": 4,
 "nbformat_minor": 2
}
