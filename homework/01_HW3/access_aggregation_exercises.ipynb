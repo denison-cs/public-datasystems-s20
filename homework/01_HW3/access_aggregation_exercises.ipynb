{
 "cells": [
  {
   "cell_type": "markdown",
   "metadata": {},
   "source": [
    "Before you turn this problem in, make sure everything runs as expected. First, **restart the kernel** (in the menubar, select Kernel$\\rightarrow$Restart) and then **run all cells** (in the menubar, select Cell$\\rightarrow$Run All).\n",
    "\n",
    "Make sure you fill in any place that says `YOUR CODE HERE`/`raise NotImplementedError` or \"YOUR ANSWER HERE\", as well as your name and collaborators below:"
   ]
  },
  {
   "cell_type": "markdown",
   "metadata": {
    "deletable": false,
    "editable": false,
    "nbgrader": {
     "cell_type": "markdown",
     "checksum": "05c7230c6a2599042b4d9f433e0d58f4",
     "grade": false,
     "grade_id": "cell-2b65788e2b455276",
     "locked": true,
     "schema_version": 3,
     "solution": false,
     "task": false
    }
   },
   "source": [
    "Please start by running the cell below, to import `pandas`. Next, consider reviewing the following tutorials:\n",
    "- http://pandas.pydata.org/pandas-docs/stable/10min.html\n",
    "- https://pandas.pydata.org/pandas-docs/stable/tutorials.html"
   ]
  },
  {
   "cell_type": "code",
   "execution_count": null,
   "metadata": {
    "deletable": false,
    "editable": false,
    "nbgrader": {
     "cell_type": "code",
     "checksum": "e55ff497027eeb54e7d508751433ebc6",
     "grade": false,
     "grade_id": "cell-87f04c0cbace2c87",
     "locked": true,
     "schema_version": 3,
     "solution": false,
     "task": false
    }
   },
   "outputs": [],
   "source": [
    "import pandas as pd"
   ]
  },
  {
   "cell_type": "markdown",
   "metadata": {
    "deletable": false,
    "editable": false,
    "nbgrader": {
     "cell_type": "markdown",
     "checksum": "49182c5253e3369500550d4f19a025e4",
     "grade": false,
     "grade_id": "cell-96c5e773c69dbcc5",
     "locked": true,
     "schema_version": 3,
     "solution": false,
     "task": false
    }
   },
   "source": [
    "**Q1** The code below defines a List of Lists (plus a header column), but there is some missing data. The data is based on data from [**R for Data Science**](http://r4ds.had.co.nz/) by Garrett Grolemund and Hadley Wickham. \n",
    "\n",
    "0. Use `pandas` to read this List of Lists into a dataframe called `df`, with column labels given by `colnames`. \n",
    "Then: \n",
    "1. Extract the `shape` of the data into a variable called `sh`.\n",
    "2. Extract the *list* of `cases`, into a variable called `L` (hint: be very careful about type).\n",
    "3. Define a list of booleans `K` where `K[i]` is `False` exactly when `population[i]` represents missing data. Do this using a `pandas` built-in function, rather than by using the `math` module. The [documentation](https://pandas.pydata.org/pandas-docs/stable/reference/api/pandas.DataFrame.isna.html) will help.\n",
    "4. Create a new data frame `df2`, via slicing and `iloc`, corresponding to the rows that are about `Brazil` and the columns for `year` and `cases`. Your data frame should have two rows and two columns.\n",
    "5. Use a projection or built-in function to define a new dataframe `df3` consisting of only the rows of `df` without missing data. Again, refer to the [documentation](https://pandas.pydata.org/pandas-docs/stable/reference/api/pandas.DataFrame.isna.html).\n",
    "6. Use a projection to define a new dataframe `df4` consisting of only columns without missing data. Use `loc`.\n",
    "7. Create a new data frame `df5` whose row names are of the form `X_year` where `X` is the first letter of the country name, e.g., the first row name should be `A_1999` and the last `C_2001`."
   ]
  },
  {
   "cell_type": "code",
   "execution_count": null,
   "metadata": {
    "deletable": false,
    "editable": false,
    "nbgrader": {
     "cell_type": "code",
     "checksum": "63b6a8794c7c2ef7e5782cb11cc7cce4",
     "grade": false,
     "grade_id": "cell-345974f69a5350f5",
     "locked": true,
     "schema_version": 3,
     "solution": false,
     "task": false
    }
   },
   "outputs": [],
   "source": [
    "data = [['Afghanistan',  '1999',    745,  19987071, 0],\n",
    "        ['Afghanistan',  '2000',   2666,  20595360, 1],\n",
    "        ['Afghanistan',  '2001',   None,  31527618, 0],\n",
    "        [     'Brazil',  '1999',  37737, 172006362, 2],\n",
    "        [     'Brazil',  '2000',  80488, 174504898, 0],\n",
    "        [      'China',  '1999', 212258, 972915272, 1],\n",
    "        [      'China',  '2000', 213766, 980428583, 2],\n",
    "        [      'China',  '2001', 215626,      None, 1]]\n",
    "\n",
    "colnames = ['country', 'year', 'cases', 'population', 'category']"
   ]
  },
  {
   "cell_type": "code",
   "execution_count": null,
   "metadata": {
    "deletable": false,
    "nbgrader": {
     "cell_type": "code",
     "checksum": "adf9f30bcf7cbcba7366da07cde4cae9",
     "grade": false,
     "grade_id": "cell-56671dc2ed0cbdfb",
     "locked": false,
     "schema_version": 3,
     "solution": true,
     "task": false
    }
   },
   "outputs": [],
   "source": [
    "# Solution cell\n",
    "\n",
    "# YOUR CODE HERE\n",
    "raise NotImplementedError()\n"
   ]
  },
  {
   "cell_type": "code",
   "execution_count": null,
   "metadata": {
    "deletable": false,
    "editable": false,
    "nbgrader": {
     "cell_type": "code",
     "checksum": "0bd03ac4646fef99749ce2ffffd8af98",
     "grade": true,
     "grade_id": "cell-142b562be65aee80",
     "locked": true,
     "points": 8,
     "schema_version": 3,
     "solution": false,
     "task": false
    }
   },
   "outputs": [],
   "source": [
    "# Testing cell\n",
    "\n",
    "assert df.at[1,'year'] == '2000'\n",
    "assert df.at[7,'cases'] == 215626.0\n",
    "assert df.at[2,'category'] == 0\n",
    "assert df.at[3,'country'] == 'Brazil'\n",
    "assert list(df.columns) == ['country', 'year', 'cases', 'population', 'category']\n",
    "assert sh == (8,5)\n",
    "assert len(L) == 8\n",
    "assert 2666.0 in L\n",
    "assert type(L) == list\n",
    "assert type(K) == list\n",
    "assert K[2] == False\n",
    "assert K[6] == True\n",
    "assert df2.at[3,'year'] == '1999'\n",
    "assert df2.shape == (2,2)\n",
    "assert df2.at[4,'cases'] == 80488.0\n",
    "assert df3.shape == (6,5)\n",
    "assert df3.at[1,'year'] == '2000'\n",
    "assert df3.at[6,'cases'] == 213766.0\n",
    "assert df3.at[3,'country'] == 'Brazil'\n",
    "assert df4.shape == (8,3)\n",
    "assert df4.at[1,'year'] == '2000'\n",
    "assert df4.at[6,'category'] == 2\n",
    "assert df4.at[3,'country'] == 'Brazil'\n",
    "assert df5.shape == (8,5)\n",
    "assert list(df5.index) == ['A_1999', 'A_2000', 'A_2001', 'B_1999', 'B_2000', 'C_1999', 'C_2000', 'C_2001']\n"
   ]
  },
  {
   "cell_type": "markdown",
   "metadata": {
    "deletable": false,
    "editable": false,
    "nbgrader": {
     "cell_type": "markdown",
     "checksum": "a3a88104f9a22d929b99279f2eb7171a",
     "grade": false,
     "grade_id": "cell-0bb25bf276d50fa0",
     "locked": true,
     "schema_version": 3,
     "solution": false,
     "task": false
    }
   },
   "source": [
    "**Q2** Using the same data as in the previous problem, and working with `df3` to avoid missing data:\n",
    "\n",
    "1. Create a new Series `cases_per_capita` obtained by dividing `cases` by `population` in `df3`, then add this to `df3` as a new column named `'cpc'`.\n",
    "2. Use `agg` to compute the `min` and `max` for `cpc`, in that order, and save the result as `a2`.\n",
    "3. Use `agg` to compute the minimum population and the maximum number of cases, storing the result as a *data frame* named `a3`. Hint: this means you need square brackets when using `agg`.\n",
    "4. Use `groupby` to group `df3` by `country`, then use `agg` to compute the `mean` for `'population'` and `'cases'` for each group, storing the result as a *data frame* named `a4`."
   ]
  },
  {
   "cell_type": "code",
   "execution_count": null,
   "metadata": {
    "deletable": false,
    "nbgrader": {
     "cell_type": "code",
     "checksum": "c0990f0b0921519182bec79823c93344",
     "grade": false,
     "grade_id": "cell-013fd91bbb300e31",
     "locked": false,
     "schema_version": 3,
     "solution": true,
     "task": false
    }
   },
   "outputs": [],
   "source": [
    "# Solution cell\n",
    "\n",
    "# YOUR CODE HERE\n",
    "raise NotImplementedError()\n"
   ]
  },
  {
   "cell_type": "code",
   "execution_count": null,
   "metadata": {
    "deletable": false,
    "editable": false,
    "nbgrader": {
     "cell_type": "code",
     "checksum": "6dec2bf4bfd1865627b0badf770ad925",
     "grade": true,
     "grade_id": "cell-a09db6c81faa799e",
     "locked": true,
     "points": 4,
     "schema_version": 3,
     "solution": false,
     "task": false
    }
   },
   "outputs": [],
   "source": [
    "# Testing cell\n",
    "\n",
    "assert list(cases_per_capita)[0] > 0.00003\n",
    "assert list(cases_per_capita)[0] < 0.00004\n",
    "assert df3.at[1,'year'] == '2000'\n",
    "assert df3.at[6,'cases'] == 213766.0\n",
    "assert df3.at[4,'category'] == 0\n",
    "assert df3.at[3,'cpc'] > 0.0002\n",
    "assert df3.at[3,'cpc'] < 0.00023\n",
    "assert df3.shape == (6,6)\n",
    "assert a2.shape == (2,1)\n",
    "assert a2.at['max','cpc'] < 0.00047\n",
    "assert a2.at['max','cpc'] > 0.00045\n",
    "assert a3.shape == (2,2)\n",
    "assert a3.at['max','cases'] == 213766.0\n",
    "assert a4.shape == (3,2)\n",
    "assert (a4.loc['Brazil'])['population']['mean'] == 173255630.0\n",
    "assert (a4.loc['Afghanistan'])['cases']['mean'] == 1705.5\n"
   ]
  }
 ],
 "metadata": {
  "kernelspec": {
   "display_name": "Python 3",
   "language": "python",
   "name": "python3"
  },
  "language_info": {
   "codemirror_mode": {
    "name": "ipython",
    "version": 3
   },
   "file_extension": ".py",
   "mimetype": "text/x-python",
   "name": "python",
   "nbconvert_exporter": "python",
   "pygments_lexer": "ipython3",
   "version": "3.7.4"
  }
 },
 "nbformat": 4,
 "nbformat_minor": 2
}
