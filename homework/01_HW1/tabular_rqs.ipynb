{
 "cells": [
  {
   "cell_type": "markdown",
   "metadata": {},
   "source": [
    "Before you turn this problem in, make sure everything runs as expected. First, **restart the kernel** (in the menubar, select Kernel$\\rightarrow$Restart) and then **run all cells** (in the menubar, select Cell$\\rightarrow$Run All).\n",
    "\n",
    "Make sure you fill in any place that says `YOUR CODE HERE`/`raise NotImplementedError` or \"YOUR ANSWER HERE\", as well as your name and collaborators below:"
   ]
  },
  {
   "cell_type": "markdown",
   "metadata": {
    "deletable": false,
    "editable": false,
    "nbgrader": {
     "cell_type": "markdown",
     "checksum": "d5ad7227b087b3f5f0de4d0eed97add0",
     "grade": false,
     "grade_id": "cell-61dedb89984478ac",
     "locked": true,
     "schema_version": 3,
     "solution": false,
     "task": false
    }
   },
   "source": [
    "**Q1** Think back to the student table example from the previous chapter, and give a logical mapping describing the relationship between the independent and dependent variables.\n"
   ]
  },
  {
   "cell_type": "markdown",
   "metadata": {
    "deletable": false,
    "nbgrader": {
     "cell_type": "markdown",
     "checksum": "e8307ba972a132b16d2188d2c4d0ace4",
     "grade": true,
     "grade_id": "cell-4683aba69803ca2e",
     "locked": false,
     "points": 1,
     "schema_version": 3,
     "solution": true,
     "task": false
    }
   },
   "source": [
    "YOUR ANSWER HERE"
   ]
  },
  {
   "cell_type": "markdown",
   "metadata": {
    "deletable": false,
    "editable": false,
    "nbgrader": {
     "cell_type": "markdown",
     "checksum": "40e1e1a0d3d6a0a232d2304edec07d3d",
     "grade": false,
     "grade_id": "cell-62ddf4d3f62294b3",
     "locked": true,
     "schema_version": 3,
     "solution": false,
     "task": false
    }
   },
   "source": [
    "**Q2** The text describes many ways to store the baby name data in tables. Give another way, different from any in the text, and then describe whether it fails any of the assumptions TidyData1 through TidyData3 (and if so, which one it fails)."
   ]
  },
  {
   "cell_type": "markdown",
   "metadata": {
    "deletable": false,
    "nbgrader": {
     "cell_type": "markdown",
     "checksum": "27a518523a0d25a82a4d372ab36a2ff1",
     "grade": true,
     "grade_id": "cell-ff29fec988fa555c",
     "locked": false,
     "points": 1,
     "schema_version": 3,
     "solution": true,
     "task": false
    }
   },
   "source": [
    "YOUR ANSWER HERE"
   ]
  },
  {
   "cell_type": "markdown",
   "metadata": {
    "deletable": false,
    "editable": false,
    "nbgrader": {
     "cell_type": "markdown",
     "checksum": "a85252d21a0051726e91e43d26c68181",
     "grade": false,
     "grade_id": "cell-1998a02ee1a36615",
     "locked": true,
     "schema_version": 3,
     "solution": false,
     "task": false
    }
   },
   "source": [
    "**Q3** If you create a csv file that is \"double-spaced\" (meaning, a blank line between each line of data), does this represent tidy data? Explain."
   ]
  },
  {
   "cell_type": "markdown",
   "metadata": {
    "deletable": false,
    "nbgrader": {
     "cell_type": "markdown",
     "checksum": "58906c2aa6e79207fd6578df65ded7a3",
     "grade": true,
     "grade_id": "cell-0cd51be072be270b",
     "locked": false,
     "points": 1,
     "schema_version": 3,
     "solution": true,
     "task": false
    }
   },
   "source": [
    "YOUR ANSWER HERE"
   ]
  },
  {
   "cell_type": "markdown",
   "metadata": {
    "deletable": false,
    "editable": false,
    "nbgrader": {
     "cell_type": "markdown",
     "checksum": "85ed7289166e517943c23042dfb9a98b",
     "grade": false,
     "grade_id": "cell-d310d8da54474823",
     "locked": true,
     "schema_version": 3,
     "solution": false,
     "task": false
    }
   },
   "source": [
    "**Q4** It is common to write an address with commas, and different addresses sometimes require different numbers of commas, e.g. `Department of Mathematics and Computer Science, 100 W. College Street, Granville, OH 43023` vs. `1600 Pennsylvania Ave NW, Washington, DC 20500`. Give a detailed explanation of how to include the address field in a csv file in such a way that different rows do not end up with different numbers of columns."
   ]
  },
  {
   "cell_type": "markdown",
   "metadata": {
    "deletable": false,
    "nbgrader": {
     "cell_type": "markdown",
     "checksum": "979b8d5bc0693a15635b866247401899",
     "grade": true,
     "grade_id": "cell-f9b224a5c9c5e614",
     "locked": false,
     "points": 1,
     "schema_version": 3,
     "solution": true,
     "task": false
    }
   },
   "source": [
    "YOUR ANSWER HERE"
   ]
  },
  {
   "cell_type": "markdown",
   "metadata": {
    "deletable": false,
    "editable": false,
    "nbgrader": {
     "cell_type": "markdown",
     "checksum": "c2da400cebb5332530f1763cac179380",
     "grade": false,
     "grade_id": "cell-b3a281f438589afe",
     "locked": true,
     "schema_version": 3,
     "solution": false,
     "task": false
    }
   },
   "source": [
    "**Q5** Can you imagine ever using both the `index=` and the `column=` options inside of `pd.DataFrame`? Explain.\n"
   ]
  },
  {
   "cell_type": "markdown",
   "metadata": {
    "deletable": false,
    "nbgrader": {
     "cell_type": "markdown",
     "checksum": "60c3c12acb77f528cea6d94b9e026e62",
     "grade": true,
     "grade_id": "cell-17742aa9ce0f00d9",
     "locked": false,
     "points": 1,
     "schema_version": 3,
     "solution": true,
     "task": false
    }
   },
   "source": [
    "YOUR ANSWER HERE"
   ]
  },
  {
   "cell_type": "markdown",
   "metadata": {
    "deletable": false,
    "editable": false,
    "nbgrader": {
     "cell_type": "markdown",
     "checksum": "388d705c059c73fac6c32358288b1d3c",
     "grade": false,
     "grade_id": "cell-3af2546204dffb7d",
     "locked": true,
     "schema_version": 3,
     "solution": false,
     "task": false
    }
   },
   "source": [
    "**Q6** When using the function `read_csv` in `pandas`, what is the connection between what you pass to `index_col` and with functional dependencies in the data?\n"
   ]
  },
  {
   "cell_type": "markdown",
   "metadata": {
    "deletable": false,
    "nbgrader": {
     "cell_type": "markdown",
     "checksum": "4426b8818d4be089876981c19e318aff",
     "grade": true,
     "grade_id": "cell-daf487ef9d70a74d",
     "locked": false,
     "points": 1,
     "schema_version": 3,
     "solution": true,
     "task": false
    }
   },
   "source": [
    "YOUR ANSWER HERE"
   ]
  },
  {
   "cell_type": "markdown",
   "metadata": {
    "deletable": false,
    "editable": false,
    "nbgrader": {
     "cell_type": "markdown",
     "checksum": "d89cb23ac68765cd323adecdc9321a66",
     "grade": false,
     "grade_id": "cell-1aa4f81a39ce699f",
     "locked": true,
     "schema_version": 3,
     "solution": false,
     "task": false
    }
   },
   "source": [
    "**Q7** Experiment with modifying your DoL or LoL to force the `info` function to result in some `null` data. What did you have to do to make this happen?"
   ]
  },
  {
   "cell_type": "markdown",
   "metadata": {
    "deletable": false,
    "nbgrader": {
     "cell_type": "markdown",
     "checksum": "4901cc291e989b9db5761db057f874a0",
     "grade": true,
     "grade_id": "cell-7ea35fe47e237f55",
     "locked": false,
     "points": 1,
     "schema_version": 3,
     "solution": true,
     "task": false
    }
   },
   "source": [
    "YOUR ANSWER HERE"
   ]
  },
  {
   "cell_type": "markdown",
   "metadata": {
    "deletable": false,
    "editable": false,
    "nbgrader": {
     "cell_type": "markdown",
     "checksum": "4599660aa3fbf8284c7595903cb8b413",
     "grade": false,
     "grade_id": "cell-f4c1dbbf0400c5f2",
     "locked": true,
     "schema_version": 3,
     "solution": false,
     "task": false
    }
   },
   "source": [
    "**Q8** What is `topnames1` if you get confused about the `inplace` parameter and write a line of code like:\n",
    "\n",
    "    topnames1 = topnames0.set_index(['year','sex'], inplace = True)\n",
    "\n",
    "Where have you seen this kind of logical error before?"
   ]
  },
  {
   "cell_type": "markdown",
   "metadata": {
    "deletable": false,
    "nbgrader": {
     "cell_type": "markdown",
     "checksum": "c26420cdbc7f71cc9b7ecfa3022534e1",
     "grade": true,
     "grade_id": "cell-f575ed04d6870fbc",
     "locked": false,
     "points": 1,
     "schema_version": 3,
     "solution": true,
     "task": false
    }
   },
   "source": [
    "YOUR ANSWER HERE"
   ]
  },
  {
   "cell_type": "markdown",
   "metadata": {
    "deletable": false,
    "editable": false,
    "nbgrader": {
     "cell_type": "markdown",
     "checksum": "ab960db277a07b0a3fe8a8347fa0899b",
     "grade": false,
     "grade_id": "cell-0aca144604c8bd3c",
     "locked": true,
     "schema_version": 3,
     "solution": false,
     "task": false
    }
   },
   "source": [
    "**Q9** Experiment with the last code provided in the section, to bring in `'count'` as a `float` or as some other type. Are you able to change the `memory usage` reported from `info`? Does that change make sense?\n",
    "\n"
   ]
  },
  {
   "cell_type": "markdown",
   "metadata": {
    "deletable": false,
    "nbgrader": {
     "cell_type": "markdown",
     "checksum": "391c9114696e5e991ce05cbce42da2a5",
     "grade": true,
     "grade_id": "cell-7ccdf3b150249645",
     "locked": false,
     "points": 1,
     "schema_version": 3,
     "solution": true,
     "task": false
    }
   },
   "source": [
    "YOUR ANSWER HERE"
   ]
  },
  {
   "cell_type": "markdown",
   "metadata": {
    "deletable": false,
    "editable": false,
    "nbgrader": {
     "cell_type": "markdown",
     "checksum": "6e8b73edfefdb168dfacff376d2e235f",
     "grade": false,
     "grade_id": "cell-746e4f2a77ca9cce",
     "locked": true,
     "schema_version": 3,
     "solution": false,
     "task": false
    }
   },
   "source": [
    "**Q10** Give an example of filtering in the context of the dataset of top names."
   ]
  },
  {
   "cell_type": "markdown",
   "metadata": {
    "deletable": false,
    "nbgrader": {
     "cell_type": "markdown",
     "checksum": "31991e5c29a6945b6db3dd850c1083d7",
     "grade": true,
     "grade_id": "cell-17422d7b62323ad9",
     "locked": false,
     "points": 1,
     "schema_version": 3,
     "solution": true,
     "task": false
    }
   },
   "source": [
    "YOUR ANSWER HERE"
   ]
  },
  {
   "cell_type": "markdown",
   "metadata": {
    "deletable": false,
    "editable": false,
    "nbgrader": {
     "cell_type": "markdown",
     "checksum": "e9697e08d8ceb5d42864dba4deca8162",
     "grade": false,
     "grade_id": "cell-39462b971cfbcf41",
     "locked": true,
     "schema_version": 3,
     "solution": false,
     "task": false
    }
   },
   "source": [
    "**Q11** Give an example where you might wish to update a column in place."
   ]
  },
  {
   "cell_type": "markdown",
   "metadata": {
    "deletable": false,
    "nbgrader": {
     "cell_type": "markdown",
     "checksum": "71f4558f67d23ef0a6bddaaa5bd75e36",
     "grade": true,
     "grade_id": "cell-f823796447573920",
     "locked": false,
     "points": 1,
     "schema_version": 3,
     "solution": true,
     "task": false
    }
   },
   "source": [
    "YOUR ANSWER HERE"
   ]
  },
  {
   "cell_type": "markdown",
   "metadata": {
    "deletable": false,
    "editable": false,
    "nbgrader": {
     "cell_type": "markdown",
     "checksum": "b85e19c0f2f92a2426457a8969a8da88",
     "grade": false,
     "grade_id": "cell-fed74d2656ff081a",
     "locked": true,
     "schema_version": 3,
     "solution": false,
     "task": false
    }
   },
   "source": [
    "**Q12** Give an example of a real-world situation that would require you to add rows to a dataset.\n"
   ]
  },
  {
   "cell_type": "markdown",
   "metadata": {
    "deletable": false,
    "nbgrader": {
     "cell_type": "markdown",
     "checksum": "41bcf6a735a1c21d3b14bab86efce6a6",
     "grade": true,
     "grade_id": "cell-b625511c1b1a7c2c",
     "locked": false,
     "points": 1,
     "schema_version": 3,
     "solution": true,
     "task": false
    }
   },
   "source": [
    "YOUR ANSWER HERE"
   ]
  },
  {
   "cell_type": "markdown",
   "metadata": {
    "deletable": false,
    "editable": false,
    "nbgrader": {
     "cell_type": "markdown",
     "checksum": "ca1eeffb42e35ed6a95731bdef5149af",
     "grade": false,
     "grade_id": "cell-b7624adbf20bb474",
     "locked": true,
     "schema_version": 3,
     "solution": false,
     "task": false
    }
   },
   "source": [
    "**Q13** Is an index just row labels, or is it also a column of data itself? Explain.\n"
   ]
  },
  {
   "cell_type": "markdown",
   "metadata": {
    "deletable": false,
    "nbgrader": {
     "cell_type": "markdown",
     "checksum": "20c8402c7ce894b645c00218a81e31aa",
     "grade": true,
     "grade_id": "cell-2f4c8ca816c5c3b1",
     "locked": false,
     "points": 1,
     "schema_version": 3,
     "solution": true,
     "task": false
    }
   },
   "source": [
    "YOUR ANSWER HERE"
   ]
  },
  {
   "cell_type": "markdown",
   "metadata": {
    "deletable": false,
    "editable": false,
    "nbgrader": {
     "cell_type": "markdown",
     "checksum": "d64bc4254c8b49955561ce9af8b053cf",
     "grade": false,
     "grade_id": "cell-fe62216242c2f66f",
     "locked": true,
     "schema_version": 3,
     "solution": false,
     "task": false
    }
   },
   "source": [
    "**Q14** Give an example of a `pandas` method, by looking ahead if necessary.\n"
   ]
  },
  {
   "cell_type": "markdown",
   "metadata": {
    "deletable": false,
    "nbgrader": {
     "cell_type": "markdown",
     "checksum": "b607e1fca9f2c1357ca29f5bf375ef76",
     "grade": true,
     "grade_id": "cell-76b4dcec0b7e0ba4",
     "locked": false,
     "points": 1,
     "schema_version": 3,
     "solution": true,
     "task": false
    }
   },
   "source": [
    "YOUR ANSWER HERE"
   ]
  },
  {
   "cell_type": "markdown",
   "metadata": {
    "deletable": false,
    "editable": false,
    "nbgrader": {
     "cell_type": "markdown",
     "checksum": "f019b074c5caa7df3357f900efd8b3a6",
     "grade": false,
     "grade_id": "cell-0af1064b77fea839",
     "locked": true,
     "schema_version": 3,
     "solution": false,
     "task": false
    }
   },
   "source": [
    "**Q15** In order to project onto a column using its name, like `indicators.gdp`, it must be the case that the column name is not the name of an existing attribute or method. Give an example where this could fail."
   ]
  },
  {
   "cell_type": "markdown",
   "metadata": {
    "deletable": false,
    "nbgrader": {
     "cell_type": "markdown",
     "checksum": "7ac54f86f053f2c1481b9e52301b4523",
     "grade": true,
     "grade_id": "cell-ccf040c4a290a753",
     "locked": false,
     "points": 1,
     "schema_version": 3,
     "solution": true,
     "task": false
    }
   },
   "source": [
    "YOUR ANSWER HERE"
   ]
  },
  {
   "cell_type": "markdown",
   "metadata": {
    "deletable": false,
    "editable": false,
    "nbgrader": {
     "cell_type": "markdown",
     "checksum": "327b29dbdf4012a9b85bad2dcac92ca7",
     "grade": false,
     "grade_id": "cell-525b7ad45ea384e3",
     "locked": true,
     "schema_version": 3,
     "solution": false,
     "task": false
    }
   },
   "source": [
    "**Q16** When accessing an element in a dataframe via double subsetting, what happens if you swap the rows and columns, e.g., `indicators['USA']['pop']`? Explain.\n",
    "\n"
   ]
  },
  {
   "cell_type": "markdown",
   "metadata": {
    "deletable": false,
    "nbgrader": {
     "cell_type": "markdown",
     "checksum": "1d17b4e3b7328bdf4652bb39f5d10f9f",
     "grade": true,
     "grade_id": "cell-58b32c8b5b91ca01",
     "locked": false,
     "points": 1,
     "schema_version": 3,
     "solution": true,
     "task": false
    }
   },
   "source": [
    "YOUR ANSWER HERE"
   ]
  },
  {
   "cell_type": "markdown",
   "metadata": {
    "deletable": false,
    "editable": false,
    "nbgrader": {
     "cell_type": "markdown",
     "checksum": "cd55f4b9ff17a26fb71a9fcfd316ba52",
     "grade": false,
     "grade_id": "cell-87a6242ed71b645c",
     "locked": true,
     "schema_version": 3,
     "solution": false,
     "task": false
    }
   },
   "source": [
    "**Q17** Give an example of an application of `apply` using an anonymous `lambda` expression.\n"
   ]
  },
  {
   "cell_type": "markdown",
   "metadata": {
    "deletable": false,
    "nbgrader": {
     "cell_type": "markdown",
     "checksum": "ecf83897f01cbe06bd58ca7abba9e015",
     "grade": true,
     "grade_id": "cell-31aedf58f9cb00ce",
     "locked": false,
     "points": 1,
     "schema_version": 3,
     "solution": true,
     "task": false
    }
   },
   "source": [
    "YOUR ANSWER HERE"
   ]
  }
 ],
 "metadata": {
  "kernelspec": {
   "display_name": "Python 3",
   "language": "python",
   "name": "python3"
  },
  "language_info": {
   "codemirror_mode": {
    "name": "ipython",
    "version": 3
   },
   "file_extension": ".py",
   "mimetype": "text/x-python",
   "name": "python",
   "nbconvert_exporter": "python",
   "pygments_lexer": "ipython3",
   "version": "3.7.6"
  }
 },
 "nbformat": 4,
 "nbformat_minor": 2
}
