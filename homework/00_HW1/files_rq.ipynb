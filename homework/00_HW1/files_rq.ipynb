{
 "cells": [
  {
   "cell_type": "markdown",
   "metadata": {},
   "source": [
    "Before you turn this problem in, make sure everything runs as expected. First, **restart the kernel** (in the menubar, select Kernel$\\rightarrow$Restart) and then **run all cells** (in the menubar, select Cell$\\rightarrow$Run All).\n",
    "\n",
    "Make sure you fill in any place that says `YOUR CODE HERE` or \"YOUR ANSWER HERE\", as well as your name and collaborators below:"
   ]
  },
  {
   "cell_type": "code",
   "execution_count": null,
   "metadata": {},
   "outputs": [],
   "source": [
    "NAME = \"\"\n",
    "COLLABORATORS = \"\""
   ]
  },
  {
   "cell_type": "markdown",
   "metadata": {},
   "source": [
    "---"
   ]
  },
  {
   "cell_type": "markdown",
   "metadata": {
    "deletable": false,
    "editable": false,
    "nbgrader": {
     "cell_type": "markdown",
     "checksum": "fd3fe03799c4d9a737fcc16f4778cdfb",
     "grade": false,
     "grade_id": "cell-5534b425803ea111",
     "locked": true,
     "schema_version": 3,
     "solution": false,
     "task": false
    }
   },
   "source": [
    "**Q (TB)** What Python function establishes a *connection* between a Python program and a local file through the operating system?  What is the data type of what is returned by the function?"
   ]
  },
  {
   "cell_type": "markdown",
   "metadata": {
    "deletable": false,
    "nbgrader": {
     "cell_type": "markdown",
     "checksum": "ee054e48162f3cbbe829885ae58d95ce",
     "grade": true,
     "grade_id": "cell-9629192462eeb06f",
     "locked": false,
     "points": 1,
     "schema_version": 3,
     "solution": true,
     "task": false
    }
   },
   "source": [
    "YOUR ANSWER HERE"
   ]
  },
  {
   "cell_type": "markdown",
   "metadata": {
    "deletable": false,
    "editable": false,
    "nbgrader": {
     "cell_type": "markdown",
     "checksum": "e945151af96e4ce0affd2543fdff5e30",
     "grade": false,
     "grade_id": "cell-bdbddfa32b411cb5",
     "locked": true,
     "schema_version": 3,
     "solution": false,
     "task": false
    }
   },
   "source": [
    "**Q (TB)** What access mode would be used to open a file for writing raw binary data to a file instead of a sequence of text characters?"
   ]
  },
  {
   "cell_type": "markdown",
   "metadata": {
    "deletable": false,
    "nbgrader": {
     "cell_type": "markdown",
     "checksum": "b7de0dcdecebde4e57042ef85571d71c",
     "grade": true,
     "grade_id": "cell-3143083faf927b8d",
     "locked": false,
     "points": 1,
     "schema_version": 3,
     "solution": true,
     "task": false
    }
   },
   "source": [
    "YOUR ANSWER HERE"
   ]
  },
  {
   "cell_type": "markdown",
   "metadata": {
    "deletable": false,
    "editable": false,
    "nbgrader": {
     "cell_type": "markdown",
     "checksum": "1d87645997c288497a715990a2f638bf",
     "grade": false,
     "grade_id": "cell-c562d37790893dbf",
     "locked": true,
     "schema_version": 3,
     "solution": false,
     "task": false
    }
   },
   "source": [
    "**Q (TB)** Give two reasons why an `open()` call might fail.  How should one write code to handle such situations?"
   ]
  },
  {
   "cell_type": "markdown",
   "metadata": {
    "deletable": false,
    "nbgrader": {
     "cell_type": "markdown",
     "checksum": "8e576c012e768cbd62b60db3b44cfdea",
     "grade": true,
     "grade_id": "cell-29b7b679a811bf43",
     "locked": false,
     "points": 1,
     "schema_version": 3,
     "solution": true,
     "task": false
    }
   },
   "source": [
    "YOUR ANSWER HERE"
   ]
  },
  {
   "cell_type": "markdown",
   "metadata": {
    "deletable": false,
    "editable": false,
    "nbgrader": {
     "cell_type": "markdown",
     "checksum": "702f5269eb0c969f7d408f6fe3dc0a9d",
     "grade": false,
     "grade_id": "cell-38de43921b52061c",
     "locked": true,
     "schema_version": 3,
     "solution": false,
     "task": false
    }
   },
   "source": [
    "**Q (TB)** If an encoding of a file sometimes takes 1 byte for a character and sometimes takes 2 bytes for a character, and never takes more than 2 bytes per character.  What are the minimum and maximum byte lengths for a 128 character file? (UTF-8 is an example of such an encoding.)"
   ]
  },
  {
   "cell_type": "markdown",
   "metadata": {
    "deletable": false,
    "nbgrader": {
     "cell_type": "markdown",
     "checksum": "e874cf8450675b8f4da1bd4c6b3a5293",
     "grade": true,
     "grade_id": "cell-776daef2204b74e0",
     "locked": false,
     "points": 1,
     "schema_version": 3,
     "solution": true,
     "task": false
    }
   },
   "source": [
    "YOUR ANSWER HERE"
   ]
  },
  {
   "cell_type": "markdown",
   "metadata": {
    "deletable": false,
    "editable": false,
    "nbgrader": {
     "cell_type": "markdown",
     "checksum": "74be6eb4b5e4b04d8a105b2ce05ca8ed",
     "grade": false,
     "grade_id": "cell-d72afee9b39023cb",
     "locked": true,
     "schema_version": 3,
     "solution": false,
     "task": false
    }
   },
   "source": [
    "**Q (TB)** Why does the textbook advocate using a `with` clause for encapsulating a set of operations used to work with a file?"
   ]
  },
  {
   "cell_type": "markdown",
   "metadata": {
    "deletable": false,
    "nbgrader": {
     "cell_type": "markdown",
     "checksum": "408f06ebabd26b075931ddd12da08578",
     "grade": true,
     "grade_id": "cell-2922d79e98f8b14f",
     "locked": false,
     "points": 1,
     "schema_version": 3,
     "solution": true,
     "task": false
    }
   },
   "source": [
    "YOUR ANSWER HERE"
   ]
  },
  {
   "cell_type": "markdown",
   "metadata": {
    "deletable": false,
    "editable": false,
    "nbgrader": {
     "cell_type": "markdown",
     "checksum": "57775cd41d9405cf4bf3b6761e2bae01",
     "grade": false,
     "grade_id": "cell-74f4451fc898777d",
     "locked": true,
     "schema_version": 3,
     "solution": false,
     "task": false
    }
   },
   "source": [
    "**Q (TB)** What is the disadvantage of assuming we know the number of lines in a file and using a *definite* loop to process the lines?"
   ]
  },
  {
   "cell_type": "markdown",
   "metadata": {
    "deletable": false,
    "nbgrader": {
     "cell_type": "markdown",
     "checksum": "72abf9a73d7d75f23d40c921bd833f97",
     "grade": true,
     "grade_id": "cell-48b73ce852633bae",
     "locked": false,
     "points": 1,
     "schema_version": 3,
     "solution": true,
     "task": false
    }
   },
   "source": [
    "YOUR ANSWER HERE"
   ]
  },
  {
   "cell_type": "markdown",
   "metadata": {
    "deletable": false,
    "editable": false,
    "nbgrader": {
     "cell_type": "markdown",
     "checksum": "b65d75f8bcc164d642a2a8b119b4b87f",
     "grade": false,
     "grade_id": "cell-e0aac06825955ea0",
     "locked": true,
     "schema_version": 3,
     "solution": false,
     "task": false
    }
   },
   "source": [
    "**Q (TB)** What do we mean when we say that a structure or an object is an **iterator**?  Give two examples of iterators we have used, not including file objects."
   ]
  },
  {
   "cell_type": "markdown",
   "metadata": {
    "deletable": false,
    "nbgrader": {
     "cell_type": "markdown",
     "checksum": "124b936060130b4f430f24daa6894935",
     "grade": true,
     "grade_id": "cell-fbe1c7ef8ebfe63d",
     "locked": false,
     "points": 1,
     "schema_version": 3,
     "solution": true,
     "task": false
    }
   },
   "source": [
    "YOUR ANSWER HERE"
   ]
  },
  {
   "cell_type": "markdown",
   "metadata": {
    "deletable": false,
    "editable": false,
    "nbgrader": {
     "cell_type": "markdown",
     "checksum": "f6d46aae78bea074fffb7c2046fc040a",
     "grade": false,
     "grade_id": "cell-4c7b5842d329be6b",
     "locked": true,
     "schema_version": 3,
     "solution": false,
     "task": false
    }
   },
   "source": [
    "**Q (TB)** True or False: It is ok to mix the use of `readline()` method invocations with the use of a file object as an iterator over lines in a file.  Explain."
   ]
  },
  {
   "cell_type": "markdown",
   "metadata": {
    "deletable": false,
    "nbgrader": {
     "cell_type": "markdown",
     "checksum": "d25e4fff44ae6a9b46f17e2e914e8913",
     "grade": true,
     "grade_id": "cell-18264f63c4a953a8",
     "locked": false,
     "points": 1,
     "schema_version": 3,
     "solution": true,
     "task": false
    }
   },
   "source": [
    "YOUR ANSWER HERE"
   ]
  },
  {
   "cell_type": "markdown",
   "metadata": {
    "deletable": false,
    "editable": false,
    "nbgrader": {
     "cell_type": "markdown",
     "checksum": "649a24e916d979de0df4739a2aba8d84",
     "grade": false,
     "grade_id": "cell-2e14c0e5829f8416",
     "locked": true,
     "schema_version": 3,
     "solution": false,
     "task": false
    }
   },
   "source": [
    "**Q (TB)** When we have multiple items on each line of a file, how does our program know when one item ends and the next one begins?"
   ]
  },
  {
   "cell_type": "markdown",
   "metadata": {
    "deletable": false,
    "nbgrader": {
     "cell_type": "markdown",
     "checksum": "e9a3bb8e3e15a9186791983eaa1024af",
     "grade": true,
     "grade_id": "cell-07e9ac0f49efbed0",
     "locked": false,
     "points": 1,
     "schema_version": 3,
     "solution": true,
     "task": false
    }
   },
   "source": [
    "YOUR ANSWER HERE"
   ]
  },
  {
   "cell_type": "markdown",
   "metadata": {
    "deletable": false,
    "editable": false,
    "nbgrader": {
     "cell_type": "markdown",
     "checksum": "67f95569be26a1b2002bad55631e97d2",
     "grade": false,
     "grade_id": "cell-d47b91fa4c365d17",
     "locked": true,
     "schema_version": 3,
     "solution": false,
     "task": false
    }
   },
   "source": [
    "**Q (TB)** Why is it that sometimes we use functions like `int()` or `float()` on values obtained from a file, while other times we do not?"
   ]
  },
  {
   "cell_type": "markdown",
   "metadata": {
    "deletable": false,
    "nbgrader": {
     "cell_type": "markdown",
     "checksum": "da53f1cfc4df126f94391ada6d7a30c0",
     "grade": true,
     "grade_id": "cell-d296d296659b8d0d",
     "locked": false,
     "points": 1,
     "schema_version": 3,
     "solution": true,
     "task": false
    }
   },
   "source": [
    "YOUR ANSWER HERE"
   ]
  },
  {
   "cell_type": "markdown",
   "metadata": {
    "deletable": false,
    "editable": false,
    "nbgrader": {
     "cell_type": "markdown",
     "checksum": "9a376c11058fdeca428a47c7b89ccd01",
     "grade": false,
     "grade_id": "cell-7552e2bf25f14d6c",
     "locked": true,
     "schema_version": 3,
     "solution": false,
     "task": false
    }
   },
   "source": [
    "**Q (TB)** When the bytes of a file encode and represent integers or floats, but *without* using the sequence of characters, what do we call the type of file?"
   ]
  },
  {
   "cell_type": "markdown",
   "metadata": {
    "deletable": false,
    "nbgrader": {
     "cell_type": "markdown",
     "checksum": "cbcefef50a394e848c4bfb88d8d38e93",
     "grade": true,
     "grade_id": "cell-76160f4237979635",
     "locked": false,
     "points": 1,
     "schema_version": 3,
     "solution": true,
     "task": false
    }
   },
   "source": [
    "YOUR ANSWER HERE"
   ]
  },
  {
   "cell_type": "markdown",
   "metadata": {
    "deletable": false,
    "editable": false,
    "nbgrader": {
     "cell_type": "markdown",
     "checksum": "c02c2f30bea867397c660c8d422070f9",
     "grade": false,
     "grade_id": "cell-d8eb4f6ed7cf33af",
     "locked": true,
     "schema_version": 3,
     "solution": false,
     "task": false
    }
   },
   "source": [
    "**Q (TB)** If we view a file system hierarchy as a tree, would a file like `titanic.csv` be an internal node of the tree, or a leaf node?"
   ]
  },
  {
   "cell_type": "markdown",
   "metadata": {
    "deletable": false,
    "nbgrader": {
     "cell_type": "markdown",
     "checksum": "56061dabfa33d59e4a0c2a400a311a47",
     "grade": true,
     "grade_id": "cell-6c66f7b1f0df9a76",
     "locked": false,
     "points": 1,
     "schema_version": 3,
     "solution": true,
     "task": false
    }
   },
   "source": [
    "YOUR ANSWER HERE"
   ]
  },
  {
   "cell_type": "markdown",
   "metadata": {
    "deletable": false,
    "editable": false,
    "nbgrader": {
     "cell_type": "markdown",
     "checksum": "127f808f939b5282c0c2944581b47edd",
     "grade": false,
     "grade_id": "cell-ae5ac830b9040d34",
     "locked": true,
     "schema_version": 3,
     "solution": false,
     "task": false
    }
   },
   "source": [
    "**Q (TB)** Consider the subtree rooted at your home directory on your personal computer.  Draw a (sub)tree depiction of the folders and files starting at your home directory."
   ]
  },
  {
   "cell_type": "markdown",
   "metadata": {
    "deletable": false,
    "nbgrader": {
     "cell_type": "markdown",
     "checksum": "ac66e6a814a9fd3bf66e5cc4a4c2d7fe",
     "grade": true,
     "grade_id": "cell-47dec404da355370",
     "locked": false,
     "points": 1,
     "schema_version": 3,
     "solution": true,
     "task": false
    }
   },
   "source": [
    "YOUR ANSWER HERE"
   ]
  },
  {
   "cell_type": "markdown",
   "metadata": {
    "deletable": false,
    "editable": false,
    "nbgrader": {
     "cell_type": "markdown",
     "checksum": "9917cb966aff8ca3c8721796f31ebf28",
     "grade": false,
     "grade_id": "cell-24cef566bad379cd",
     "locked": true,
     "schema_version": 3,
     "solution": false,
     "task": false
    }
   },
   "source": [
    "**Q (TB)** Assuming the current working directory is your home directory, write down at least three relative paths for files in your directory hierarchy."
   ]
  },
  {
   "cell_type": "markdown",
   "metadata": {
    "deletable": false,
    "nbgrader": {
     "cell_type": "markdown",
     "checksum": "e0cd2c659a3641034acb10271ca2d3cf",
     "grade": true,
     "grade_id": "cell-f7cd74c11ac23bc4",
     "locked": false,
     "points": 1,
     "schema_version": 3,
     "solution": true,
     "task": false
    }
   },
   "source": [
    "YOUR ANSWER HERE"
   ]
  }
 ],
 "metadata": {
  "kernelspec": {
   "display_name": "Python 3",
   "language": "python",
   "name": "python3"
  },
  "language_info": {
   "codemirror_mode": {
    "name": "ipython",
    "version": 3
   },
   "file_extension": ".py",
   "mimetype": "text/x-python",
   "name": "python",
   "nbconvert_exporter": "python",
   "pygments_lexer": "ipython3",
   "version": "3.7.4"
  }
 },
 "nbformat": 4,
 "nbformat_minor": 4
}
