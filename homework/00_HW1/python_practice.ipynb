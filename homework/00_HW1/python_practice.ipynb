{
 "cells": [
  {
   "cell_type": "markdown",
   "metadata": {},
   "source": [
    "Before you turn this problem in, make sure everything runs as expected. First, **restart the kernel** (in the menubar, select Kernel$\\rightarrow$Restart) and then **run all cells** (in the menubar, select Cell$\\rightarrow$Run All).\n",
    "\n",
    "Make sure you fill in any place that says `YOUR CODE HERE` or \"YOUR ANSWER HERE\", as well as your name and collaborators below:"
   ]
  },
  {
   "cell_type": "code",
   "execution_count": null,
   "metadata": {},
   "outputs": [],
   "source": [
    "NAME = \"\"\n",
    "COLLABORATORS = \"\""
   ]
  },
  {
   "cell_type": "markdown",
   "metadata": {},
   "source": [
    "---"
   ]
  },
  {
   "cell_type": "markdown",
   "metadata": {},
   "source": [
    "# Notebook for Practicing Python Cell Type Exercises\n",
    "\n",
    "On most Python-centric notebooks, there will often be a read-only cell at the top of the notebook that performs a basic set of `import` statements that might be needed along with some global variable definitions for use in the notebook.\n",
    "\n",
    "This is not to say that, when solving a problem, you would never need to perform your own `import`.  \n",
    "\n",
    "You should leave this first setup cell as is and execute it before moving on to the cells where you will provide your own solutions to the questions/exercises.  Be sure, when you do so, that you replace **both** the comment line that you should provide a solution, and the Python statement that raises an exception.  Sometimes, in a solution cell, there is code before and/or after the place where you provide your solution. This code should be kept as is, and sometimes gives an appropriate set up and then invocation of a requested function; or the code you provide may be *within* the body of a loop or function, or placed in a context that allows us to capture the result of `print` function invocations.\n",
    "\n",
    "If you need/want to for your solution, you can add in additional code cells.  But make sure that you also fill in the solution cell, and that you do not change any autograding assert cells.  (You could change them, but the submission and checking process will always change them back.)  Also be careful to ensure that each cell that you expect to be executed is, in fact, a code cell, and not a markdown cell.\n",
    "\n",
    "You should use the \"checking cell\", typically with assert statements, as a way of getting feedback on the correctness of your solution.  If the assert statements fail, start by seeing *exactly which assert* failed, and discern the intent and parameters of the test.  This should allow you to start to debug your solution.  Also, if the asserts fail and you think they should pass, **read the problem again**.  Often the issue is not fully satisfying the problem as stated."
   ]
  },
  {
   "cell_type": "code",
   "execution_count": null,
   "metadata": {
    "deletable": false,
    "editable": false,
    "nbgrader": {
     "cell_type": "code",
     "checksum": "4a4110e0d1c3da1a5c350729142cdd66",
     "grade": false,
     "grade_id": "setup-d7ec15c1dc8323bd",
     "locked": true,
     "schema_version": 3,
     "solution": false
    }
   },
   "outputs": [],
   "source": [
    "import os\n",
    "import os.path\n",
    "import io\n",
    "import sys\n",
    "from contextlib import redirect_stdout\n",
    "\n",
    "datadir = \"publicdata\""
   ]
  },
  {
   "cell_type": "markdown",
   "metadata": {
    "deletable": false,
    "editable": false,
    "nbgrader": {
     "cell_type": "markdown",
     "checksum": "30020a87b18106658b6f56622c12390c",
     "grade": false,
     "grade_id": "cell-bc363340f0197707",
     "locked": true,
     "schema_version": 3,
     "solution": false,
     "task": false
    }
   },
   "source": [
    "**Q** Write a function\n",
    "\n",
    "    double(arg)\n",
    "\n",
    "that doubles the value of its argument, `arg` and returns the result."
   ]
  },
  {
   "cell_type": "code",
   "execution_count": null,
   "metadata": {
    "deletable": false,
    "nbgrader": {
     "cell_type": "code",
     "checksum": "9ea1a87069e297a95a769e3e828abdb7",
     "grade": false,
     "grade_id": "cell-314f181e4a1f666c",
     "locked": false,
     "schema_version": 3,
     "solution": true,
     "task": false
    }
   },
   "outputs": [],
   "source": [
    "# YOUR CODE HERE\n",
    "raise NotImplementedError()\n",
    "\n",
    "print(double(2.5))\n",
    "print(double(\"Tom\"))"
   ]
  },
  {
   "cell_type": "code",
   "execution_count": null,
   "metadata": {
    "deletable": false,
    "editable": false,
    "nbgrader": {
     "cell_type": "code",
     "checksum": "3cbfffffe1c28af7020cefdfff223042",
     "grade": true,
     "grade_id": "cell-6d70f8c71feec7bb",
     "locked": true,
     "points": 1,
     "schema_version": 3,
     "solution": false,
     "task": false
    }
   },
   "outputs": [],
   "source": [
    "assert double(2.5) == 5.0\n",
    "assert double(\"Hey, Boomer\") == \"Hey, BoomerHey, Boomer\""
   ]
  },
  {
   "cell_type": "markdown",
   "metadata": {
    "deletable": false,
    "editable": false,
    "nbgrader": {
     "cell_type": "markdown",
     "checksum": "8c9f69e676b41f67599dd1102709f73f",
     "grade": false,
     "grade_id": "cell-654d9b924957e9f8",
     "locked": true,
     "schema_version": 3,
     "solution": false,
     "task": false
    }
   },
   "source": [
    "**Q** (Attributed to Havill in Intro textbook) The speeding ticket fine in a nearby town is \\\\$50 plus \\\\$5 for each mph over the posted speed limit.  In addition, there is an extra penalty of \\\\$200 for all speeds above 90 mph.  Write a function\n",
    "\n",
    "    fine(speedLimit, clockedSpeed)\n",
    "    \n",
    "that returns the fined amount (or 0 if `clockedSpeed` $\\le$ `speedLimit`).\n",
    "\n",
    "In this case, the solution cell does not have an example invocation of your code, so you may want to insert a code cell in between the solution cell and the assertion/checking cell for testing your function with various inputs."
   ]
  },
  {
   "cell_type": "code",
   "execution_count": null,
   "metadata": {
    "deletable": false,
    "nbgrader": {
     "cell_type": "code",
     "checksum": "b6a859e530b924268ec745b1e0d87428",
     "grade": false,
     "grade_id": "cell-2fbeaef44f6597cc",
     "locked": false,
     "schema_version": 3,
     "solution": true,
     "task": false
    }
   },
   "outputs": [],
   "source": [
    "# YOUR CODE HERE\n",
    "raise NotImplementedError()"
   ]
  },
  {
   "cell_type": "code",
   "execution_count": null,
   "metadata": {
    "deletable": false,
    "editable": false,
    "nbgrader": {
     "cell_type": "code",
     "checksum": "1b36bd2d27b32c923683f3a47d281614",
     "grade": true,
     "grade_id": "cell-d23606ad5eff5fbf",
     "locked": true,
     "points": 2,
     "schema_version": 3,
     "solution": false,
     "task": false
    }
   },
   "outputs": [],
   "source": [
    "assert fine(35, 40) == 75\n",
    "assert fine(35, 35) == 0\n",
    "assert fine(35, 36) == 55\n",
    "assert fine(55, 89.875) == 224.375\n",
    "assert fine(55, 90) == 225\n",
    "assert fine(55, 91) == 430"
   ]
  },
  {
   "cell_type": "markdown",
   "metadata": {
    "deletable": false,
    "editable": false,
    "nbgrader": {
     "cell_type": "markdown",
     "checksum": "6ba0cd65194ccaee750eb0017583929a",
     "grade": false,
     "grade_id": "cell-be294748cf7a90a8",
     "locked": true,
     "schema_version": 3,
     "solution": false,
     "task": false
    }
   },
   "source": [
    "**Q** Write code to print a grid of 5 rows with 4 `'*'` characters in each row using nested `for` loops.  This is a case where the solution cell is \"capturing\" what your code prints, so your solution must replace the comment and the raise exception **at the same level of indentation**.  This allows the capture of the print and checking in the following cell to see if your solution is correct."
   ]
  },
  {
   "cell_type": "code",
   "execution_count": null,
   "metadata": {
    "deletable": false,
    "nbgrader": {
     "cell_type": "code",
     "checksum": "81e41541da3baae545af7efe23b909fb",
     "grade": false,
     "grade_id": "cell-e0233023054ab686",
     "locked": false,
     "schema_version": 3,
     "solution": true,
     "task": false
    }
   },
   "outputs": [],
   "source": [
    "printed = io.StringIO()\n",
    "with redirect_stdout(printed):\n",
    "    # YOUR CODE HERE\n",
    "    raise NotImplementedError()\n",
    "print(printed.getvalue())"
   ]
  },
  {
   "cell_type": "code",
   "execution_count": null,
   "metadata": {
    "deletable": false,
    "editable": false,
    "nbgrader": {
     "cell_type": "code",
     "checksum": "e866dff13503dbad9df279d9ba7a737e",
     "grade": true,
     "grade_id": "cell-ab718c1fabd4aa2a",
     "locked": true,
     "points": 2,
     "schema_version": 3,
     "solution": false,
     "task": false
    }
   },
   "outputs": [],
   "source": [
    "assert ( printed.getvalue() == '****\\n****\\n****\\n****\\n****\\n' or\n",
    "         printed.getvalue() == '****\\n****\\n****\\n****\\n****' )"
   ]
  }
 ],
 "metadata": {
  "kernelspec": {
   "display_name": "Python 3",
   "language": "python",
   "name": "python3"
  },
  "language_info": {
   "codemirror_mode": {
    "name": "ipython",
    "version": 3
   },
   "file_extension": ".py",
   "mimetype": "text/x-python",
   "name": "python",
   "nbconvert_exporter": "python",
   "pygments_lexer": "ipython3",
   "version": "3.7.4"
  }
 },
 "nbformat": 4,
 "nbformat_minor": 4
}
