{
 "cells": [
  {
   "cell_type": "markdown",
   "metadata": {
    "deletable": false,
    "editable": false,
    "nbgrader": {
     "cell_type": "markdown",
     "checksum": "75b594fde546b6b7cbc9970b861a27d8",
     "grade": false,
     "grade_id": "cell-b547ef4902c7fee5",
     "locked": true,
     "schema_version": 3,
     "solution": false,
     "task": false
    }
   },
   "source": [
    "Before you turn this problem in, make sure everything runs as expected. First, **restart the kernel** (in the menubar, select Kernel$\\rightarrow$Restart) and then **run all cells** (in the menubar, select Cell$\\rightarrow$Run All).\n",
    "\n",
    "Make sure you fill in any place that says `YOUR CODE HERE` or \"YOUR ANSWER HERE\", as well as your name and collaborators below:"
   ]
  },
  {
   "cell_type": "code",
   "execution_count": null,
   "metadata": {},
   "outputs": [],
   "source": [
    "NAME = \"\"\n",
    "COLLABORATORS = \"\""
   ]
  },
  {
   "cell_type": "markdown",
   "metadata": {
    "deletable": false,
    "editable": false,
    "nbgrader": {
     "cell_type": "markdown",
     "checksum": "61a4c9764466bf70da8f4a161133fa2d",
     "grade": false,
     "grade_id": "cell-e8c2b9c7cd32a2d0",
     "locked": true,
     "schema_version": 3,
     "solution": false,
     "task": false
    }
   },
   "source": [
    "## Exercises on Python Native Data Structures\n",
    "\n",
    "### References\n",
    "\n",
    "In addition to Chapter 3 of the class textbook, some other references that you might find helpful:\n",
    "\n",
    "- Discovering Computer Science, Jessen Havill, Sections 8.3 and 9.1\n",
    "- Online CS1 textbook: https://runestone.academy/runestone/books/published/thinkcspy/Lists/toctree.html and https://runestone.academy/runestone/books/published/thinkcspy/Dictionaries/toctree.html\n",
    "\n",
    "### Exercises\n",
    "\n",
    "Note that you will lose significant credit if, for each function, you do not provide a **docstring** for the function.  If you do not recall how or where docstrings are to be placed for functions, see, for example:  \n",
    "\n",
    "- Discovering Computer Science, Jessen Havill, Chapter 3, Section 3.4\n",
    "- https://docs.python-guide.org/writing/documentation/#writing-docstrings"
   ]
  },
  {
   "cell_type": "code",
   "execution_count": null,
   "metadata": {
    "deletable": false,
    "editable": false,
    "nbgrader": {
     "cell_type": "code",
     "checksum": "7d9e33f7742ffb579c4b20f8a43467ce",
     "grade": false,
     "grade_id": "cell-9ad68714e4976048",
     "locked": true,
     "schema_version": 3,
     "solution": false,
     "task": false
    }
   },
   "outputs": [],
   "source": [
    "import os\n",
    "import os.path\n",
    "import io\n",
    "import sys\n",
    "from contextlib import redirect_stdout\n",
    "\n",
    "datadir = \"publicdata\""
   ]
  },
  {
   "cell_type": "markdown",
   "metadata": {
    "deletable": false,
    "editable": false,
    "nbgrader": {
     "cell_type": "markdown",
     "checksum": "17293ae5fa76a071d5efc6a794392f96",
     "grade": false,
     "grade_id": "cell-3a6349343e0369b4",
     "locked": true,
     "schema_version": 3,
     "solution": false,
     "task": false
    }
   },
   "source": [
    "**Q1** Write a function `elementwiseMult(vec1,vec2)` that uses the `zip` function to compute and return the element-wise multiplication of two lists, `vec1` and `vec2`, of the same length. For example, if `vec1 = [2,4,5]` and `vec2 = [4,3,1]`, you would return `[8,12,5]`."
   ]
  },
  {
   "cell_type": "code",
   "execution_count": null,
   "metadata": {
    "deletable": false,
    "nbgrader": {
     "cell_type": "code",
     "checksum": "5d8b85569d074a5e6affd2dfc0948090",
     "grade": false,
     "grade_id": "cell-c8d98116207ef509",
     "locked": false,
     "schema_version": 3,
     "solution": true,
     "task": false
    }
   },
   "outputs": [],
   "source": [
    "# Solution cell\n",
    "\n",
    "def elementwiseMult(vec1,vec2):\n",
    "    # YOUR CODE HERE\n",
    "    raise NotImplementedError()\n",
    "print(elementwiseMult([2,4,5],[4,3,1]))"
   ]
  },
  {
   "cell_type": "code",
   "execution_count": null,
   "metadata": {
    "deletable": false,
    "editable": false,
    "nbgrader": {
     "cell_type": "code",
     "checksum": "6cd7a4a47d004bd5492ea99fa5b0eeb9",
     "grade": true,
     "grade_id": "cell-c716e4e1e525691d",
     "locked": true,
     "points": 1,
     "schema_version": 3,
     "solution": false,
     "task": false
    }
   },
   "outputs": [],
   "source": [
    "# Testing cell\n",
    "\n",
    "assert elementwiseMult([2,4,1,5],[4,3,0,1]) == [8,12,0,5]\n",
    "assert elementwiseMult([-2,5],[4,3]) == [-8,15]\n"
   ]
  },
  {
   "cell_type": "markdown",
   "metadata": {
    "deletable": false,
    "editable": false,
    "nbgrader": {
     "cell_type": "markdown",
     "checksum": "35458d92724e175560c5f134ebf0e483",
     "grade": false,
     "grade_id": "cell-a422406e9cb96839",
     "locked": true,
     "schema_version": 3,
     "solution": false,
     "task": false
    }
   },
   "source": [
    "**Q2** Write a function\n",
    "\n",
    "`dropFives(data)`\n",
    "\n",
    "that creates, accumulates, and returns a new list that has all the elements from the list, `data`, except for the items with integer value 5. The elements in your new list should be in the same order as they were in `data`."
   ]
  },
  {
   "cell_type": "code",
   "execution_count": null,
   "metadata": {
    "deletable": false,
    "nbgrader": {
     "cell_type": "code",
     "checksum": "80d2f15483dc1595c7c0e2cba12ce5d3",
     "grade": false,
     "grade_id": "cell-de2912cd0b6a8a98",
     "locked": false,
     "schema_version": 3,
     "solution": true,
     "task": false
    }
   },
   "outputs": [],
   "source": [
    "# Solution cell\n",
    "\n",
    "def dropFives(data):\n",
    "    # YOUR CODE HERE\n",
    "    raise NotImplementedError()\n",
    "print(dropFives([2,4,5,4,3,1]))"
   ]
  },
  {
   "cell_type": "code",
   "execution_count": null,
   "metadata": {
    "deletable": false,
    "editable": false,
    "nbgrader": {
     "cell_type": "code",
     "checksum": "905a6f67564f3dffeaaa6a2d68ca1801",
     "grade": true,
     "grade_id": "cell-8db9727f3209420f",
     "locked": true,
     "points": 1,
     "schema_version": 3,
     "solution": false,
     "task": false
    }
   },
   "outputs": [],
   "source": [
    "# Testing cell\n",
    "\n",
    "assert dropFives([2,4,5,4,3,1]) == [2, 4, 4, 3, 1]\n",
    "assert dropFives([5,5,5,5]) == []\n",
    "assert dropFives([5,55,-5,5]) == [55,-5]\n",
    "\n"
   ]
  },
  {
   "cell_type": "markdown",
   "metadata": {
    "deletable": false,
    "editable": false,
    "nbgrader": {
     "cell_type": "markdown",
     "checksum": "5051ae65930c8e9e679d2d4818a13a0a",
     "grade": false,
     "grade_id": "cell-3cde91026af7343d",
     "locked": true,
     "schema_version": 3,
     "solution": false,
     "task": false
    }
   },
   "source": [
    "**Q3** Write a function\n",
    "\n",
    "`filmography(L)`\n",
    "\n",
    "whose parameter `L` is a list of tuples of the form (actor, movie), that creates and returns a dictionary where the keys are actor names and the values are lists of movies that actor has been in. For example, given `L = [(‘DiCaprio’,‘Revenant’),(‘Cumberbatch’,‘Hobbit’),(‘DiCaprio’,‘Gatsby’),(‘DiCaprio’,‘Django’)]`, then you should return `{‘DiCaprio’:[‘Revenant’,‘Gatsby’,‘Django’],‘Cumberbatch’:[‘Hobbit’]}`"
   ]
  },
  {
   "cell_type": "code",
   "execution_count": null,
   "metadata": {
    "deletable": false,
    "nbgrader": {
     "cell_type": "code",
     "checksum": "bff20721b952af5eb4ee70e39de295b2",
     "grade": false,
     "grade_id": "cell-66fb4389e963a59d",
     "locked": false,
     "schema_version": 3,
     "solution": true,
     "task": false
    }
   },
   "outputs": [],
   "source": [
    "# Solution cell\n",
    "\n",
    "def filmography(L):\n",
    "    # YOUR CODE HERE\n",
    "    raise NotImplementedError()\n",
    "print(filmography([('DiCaprio','Revenant'),('Cumberbatch','Hobbit'),('DiCaprio','Gatsby'),('DiCaprio','Django')]))"
   ]
  },
  {
   "cell_type": "code",
   "execution_count": null,
   "metadata": {
    "deletable": false,
    "editable": false,
    "nbgrader": {
     "cell_type": "code",
     "checksum": "aef67b7beaf979f14e41a8c4d141cbca",
     "grade": true,
     "grade_id": "cell-c4a63419ac36da74",
     "locked": true,
     "points": 2,
     "schema_version": 3,
     "solution": false,
     "task": false
    }
   },
   "outputs": [],
   "source": [
    "# Testing cell\n",
    "\n",
    "assert filmography([('De Niro','Irishman'),('Cumberbatch','Brexit'),('Hamill','Star Wars'),('DiCaprio','Django')]) == {'De Niro':['Irishman'],'Cumberbatch':['Brexit'],'Hamill':['Star Wars'],'DiCaprio':['Django']}\n",
    "assert filmography([('De Niro','Irishman'),('Cumberbatch','Brexit'),('DiCaprio','Gatsby'),('DiCaprio','Django')]) == {'De Niro':['Irishman'],'Cumberbatch':['Brexit'],'DiCaprio':['Gatsby','Django']}\n",
    "assert filmography([]) == {}\n",
    "assert filmography([('Cumberbatch','Hobbit')]) == {'Cumberbatch':['Hobbit']}\n"
   ]
  },
  {
   "cell_type": "markdown",
   "metadata": {
    "deletable": false,
    "editable": false,
    "nbgrader": {
     "cell_type": "markdown",
     "checksum": "dafc7583819e0aab615ef3b097157f8c",
     "grade": false,
     "grade_id": "cell-94e86de85f55dfbd",
     "locked": true,
     "schema_version": 3,
     "solution": false,
     "task": false
    }
   },
   "source": [
    "**Q4** Write a function\n",
    "\n",
    "`whichIsBigger(f1,f2,n)`\n",
    "\n",
    "which computes `f1(n)` and `f2(n)`, and returns whichever function (`f1` or `f2`) results in the larger value when an integer `n` is passed as a parameter. In case of a tie, return `f1`. Test with `f1(x)` defined as x^3 and `f2(x)` defined as 5x^2+4 and using n=2. Test again with n=100."
   ]
  },
  {
   "cell_type": "code",
   "execution_count": null,
   "metadata": {
    "deletable": false,
    "nbgrader": {
     "cell_type": "code",
     "checksum": "07a6a296203c954c3e81e2995557e51b",
     "grade": false,
     "grade_id": "cell-8b12181a84b0e621",
     "locked": false,
     "schema_version": 3,
     "solution": true,
     "task": false
    }
   },
   "outputs": [],
   "source": [
    "# Solution cell\n",
    "\n",
    "def whichIsBigger(f1,f2,n):\n",
    "    # YOUR CODE HERE\n",
    "    raise NotImplementedError()\n",
    "\n",
    "def f1(x):\n",
    "    return x**3\n",
    "\n",
    "def f2(x):\n",
    "    return 5*x*x + 4\n",
    "\n",
    "print(whichIsBigger(f1,f2,2))\n",
    "print(whichIsBigger(f1,f2,100))"
   ]
  },
  {
   "cell_type": "code",
   "execution_count": null,
   "metadata": {
    "deletable": false,
    "editable": false,
    "nbgrader": {
     "cell_type": "code",
     "checksum": "92dd1bc6951a00768ab492fc2512c52e",
     "grade": true,
     "grade_id": "cell-7c76005eb023b881",
     "locked": true,
     "points": 1,
     "schema_version": 3,
     "solution": false,
     "task": false
    }
   },
   "outputs": [],
   "source": [
    "# Testing cell\n",
    "\n",
    "def f1(x):\n",
    "    return x**3 - 7\n",
    "\n",
    "def f2(x):\n",
    "    return 5*x*x + 4*x + 2\n",
    "\n",
    "assert whichIsBigger(f1,f2,0) == f2\n",
    "assert whichIsBigger(f1,f2,-10) == f2\n",
    "assert whichIsBigger(f1,f2,2) == f2\n",
    "assert whichIsBigger(f1,f2,50) == f1\n"
   ]
  },
  {
   "cell_type": "markdown",
   "metadata": {
    "deletable": false,
    "editable": false,
    "nbgrader": {
     "cell_type": "markdown",
     "checksum": "da4e628b1e203d781e21855fb2fcead0",
     "grade": false,
     "grade_id": "cell-25935568ff927bba",
     "locked": true,
     "schema_version": 3,
     "solution": false,
     "task": false
    }
   },
   "source": [
    "**Q5** Write a lambda expression and assign it to the variable `evensquared` such that it squares the value of its single argument if the argument is even, and cubes the argument if it is odd.\n",
    "\n",
    "Afterward, for example, expression `evensquared(5)` should yield `125`, while `evensquared(4)` should yield `16`.\n",
    "\n",
    "Hint: We need an expression to handle an `if` type condition."
   ]
  },
  {
   "cell_type": "code",
   "execution_count": null,
   "metadata": {
    "deletable": false,
    "nbgrader": {
     "cell_type": "code",
     "checksum": "4b6bd624dab91d0210f598b3115bedaf",
     "grade": false,
     "grade_id": "cell-36f6dfa09775489f",
     "locked": false,
     "schema_version": 3,
     "solution": true,
     "task": false
    }
   },
   "outputs": [],
   "source": [
    "# Solution cell\n",
    "\n",
    "# YOUR CODE HERE\n",
    "raise NotImplementedError()\n",
    "\n",
    "print(evensquared(5))\n",
    "print(evensquared(4))\n"
   ]
  },
  {
   "cell_type": "code",
   "execution_count": null,
   "metadata": {
    "deletable": false,
    "editable": false,
    "nbgrader": {
     "cell_type": "code",
     "checksum": "2c34b231276b8e7ae215ac52780dd749",
     "grade": true,
     "grade_id": "cell-d76bb4b7c8a840cc",
     "locked": true,
     "points": 1,
     "schema_version": 3,
     "solution": false,
     "task": false
    }
   },
   "outputs": [],
   "source": [
    "assert evensquared(5) == 125\n",
    "assert evensquared(0) == 0\n",
    "assert evensquared(-1) == -1\n",
    "assert evensquared(2) == 4\n",
    "assert evensquared(-2) == 4"
   ]
  },
  {
   "cell_type": "markdown",
   "metadata": {
    "deletable": false,
    "editable": false,
    "nbgrader": {
     "cell_type": "markdown",
     "checksum": "e1d9f8bdb9a0970bae93c82fb7f46402",
     "grade": false,
     "grade_id": "cell-e0be5c012bd210df",
     "locked": true,
     "schema_version": 3,
     "solution": false,
     "task": false
    }
   },
   "source": [
    "**Q6** Write a function\n",
    "```python\n",
    "word_lengths(s)\n",
    "```\n",
    "that, for each whitespace separated word in string `s`, determines the length of the word and returns a list of such lengths, **omitting occurences of the string: `the`**.  For example, `word_lengths(\"Denison CS is the best\")` returns the list `[7, 2, 2, 4]`, with lengths for 'Denison', `'CS'`, `'is'`, and `'best'`, and omitting the occurence of `'the'`.  Your solution MUST use a list comprehension or else you won't receive full credit."
   ]
  },
  {
   "cell_type": "code",
   "execution_count": null,
   "metadata": {
    "deletable": false,
    "nbgrader": {
     "cell_type": "code",
     "checksum": "42cfec839477d12eccb82728458e56cf",
     "grade": false,
     "grade_id": "cell-090557ab8470cb32",
     "locked": false,
     "schema_version": 3,
     "solution": true,
     "task": false
    }
   },
   "outputs": [],
   "source": [
    "# YOUR CODE HERE\n",
    "raise NotImplementedError()\n",
    "\n",
    "print(word_lengths(\"Denison CS is the best\"))"
   ]
  },
  {
   "cell_type": "code",
   "execution_count": null,
   "metadata": {
    "deletable": false,
    "editable": false,
    "nbgrader": {
     "cell_type": "code",
     "checksum": "1cc885f041fa36db37d1e9fd368ccf35",
     "grade": true,
     "grade_id": "cell-56f5c219fdcfe89e",
     "locked": true,
     "points": 2,
     "schema_version": 3,
     "solution": false,
     "task": false
    }
   },
   "outputs": [],
   "source": [
    "assert(word_lengths(\"Denison CS is the best\") == [7,2,2,4])\n",
    "assert(word_lengths(\"\") == [])\n",
    "assert(word_lengths(\"a\") == [1])"
   ]
  },
  {
   "cell_type": "code",
   "execution_count": null,
   "metadata": {},
   "outputs": [],
   "source": []
  }
 ],
 "metadata": {
  "kernelspec": {
   "display_name": "Python 3",
   "language": "python",
   "name": "python3"
  },
  "language_info": {
   "codemirror_mode": {
    "name": "ipython",
    "version": 3
   },
   "file_extension": ".py",
   "mimetype": "text/x-python",
   "name": "python",
   "nbconvert_exporter": "python",
   "pygments_lexer": "ipython3",
   "version": "3.7.4"
  }
 },
 "nbformat": 4,
 "nbformat_minor": 2
}
