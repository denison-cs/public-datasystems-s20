{
 "cells": [
  {
   "cell_type": "markdown",
   "metadata": {
    "deletable": false,
    "editable": false,
    "nbgrader": {
     "cell_type": "markdown",
     "checksum": "8309a6cddd13dda34645211e53eb3a40",
     "grade": false,
     "grade_id": "cell-fc1a3018a504c43f",
     "locked": true,
     "schema_version": 3,
     "solution": false,
     "task": false
    }
   },
   "source": [
    "**Q**  Suppose D is a dictionary of lists representing a dataset as in the reading. How can you determine the total number of columns? How can you determine the number of rows?"
   ]
  },
  {
   "cell_type": "markdown",
   "metadata": {
    "deletable": false,
    "nbgrader": {
     "cell_type": "markdown",
     "checksum": "037544132406dd918111f64501a41830",
     "grade": true,
     "grade_id": "cell-56ce4d373885f0c0",
     "locked": false,
     "points": 1,
     "schema_version": 3,
     "solution": true,
     "task": false
    }
   },
   "source": [
    "YOUR ANSWER HERE"
   ]
  },
  {
   "cell_type": "markdown",
   "metadata": {
    "deletable": false,
    "editable": false,
    "nbgrader": {
     "cell_type": "markdown",
     "checksum": "ced410ac50e4af60a37bc992efad32cc",
     "grade": false,
     "grade_id": "cell-4ab42e317d9a9f83",
     "locked": true,
     "schema_version": 3,
     "solution": false,
     "task": false
    }
   },
   "source": [
    "**Q** With reference to the reading, describe how to use the dictionary `topnames` to determine the name and year with the largest value for the variable `count`."
   ]
  },
  {
   "cell_type": "markdown",
   "metadata": {
    "deletable": false,
    "nbgrader": {
     "cell_type": "markdown",
     "checksum": "7266289bc4be0711964daa404580a65f",
     "grade": true,
     "grade_id": "cell-a307b11a8aa4fc2c",
     "locked": false,
     "points": 1,
     "schema_version": 3,
     "solution": true,
     "task": false
    }
   },
   "source": [
    "YOUR ANSWER HERE"
   ]
  },
  {
   "cell_type": "markdown",
   "metadata": {
    "deletable": false,
    "editable": false,
    "nbgrader": {
     "cell_type": "markdown",
     "checksum": "1f2f1b2d74f49013d8ae278a68eb966b",
     "grade": false,
     "grade_id": "cell-011f7a3f6d35b6c1",
     "locked": true,
     "schema_version": 3,
     "solution": false,
     "task": false
    }
   },
   "source": [
    "**Q** In the \"list of lists\" approach, what could go wrong if, instead of having a separate list `columns`, we simply made the header list `columns` the first list in topnames?"
   ]
  },
  {
   "cell_type": "markdown",
   "metadata": {
    "deletable": false,
    "nbgrader": {
     "cell_type": "markdown",
     "checksum": "83248aab43072a24df5f60995923f201",
     "grade": true,
     "grade_id": "cell-2a24cc4cc52934f1",
     "locked": false,
     "points": 1,
     "schema_version": 3,
     "solution": true,
     "task": false
    }
   },
   "source": [
    "YOUR ANSWER HERE"
   ]
  },
  {
   "cell_type": "markdown",
   "metadata": {
    "deletable": false,
    "editable": false,
    "nbgrader": {
     "cell_type": "markdown",
     "checksum": "14bd74029cb428b1c4f236b9d32691bc",
     "grade": false,
     "grade_id": "cell-dd0a0758776f3c22",
     "locked": true,
     "schema_version": 3,
     "solution": false,
     "task": false
    }
   },
   "source": [
    "**Q** For what type of dataset might you want to have easy access to the rows? For what type of dataset might you want to have easy access to the columns? Please explain your answer, ideally with examples."
   ]
  },
  {
   "cell_type": "markdown",
   "metadata": {
    "deletable": false,
    "nbgrader": {
     "cell_type": "markdown",
     "checksum": "942c9a40e89c50bebe53aa3e621548e4",
     "grade": true,
     "grade_id": "cell-36775f5a102a90ce",
     "locked": false,
     "points": 1,
     "schema_version": 3,
     "solution": true,
     "task": false
    }
   },
   "source": [
    "YOUR ANSWER HERE"
   ]
  }
 ],
 "metadata": {
  "kernelspec": {
   "display_name": "Python 3",
   "language": "python",
   "name": "python3"
  },
  "language_info": {
   "codemirror_mode": {
    "name": "ipython",
    "version": 3
   },
   "file_extension": ".py",
   "mimetype": "text/x-python",
   "name": "python",
   "nbconvert_exporter": "python",
   "pygments_lexer": "ipython3",
   "version": "3.7.4"
  }
 },
 "nbformat": 4,
 "nbformat_minor": 2
}
