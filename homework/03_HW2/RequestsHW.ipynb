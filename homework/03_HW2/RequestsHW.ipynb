{
 "cells": [
  {
   "cell_type": "markdown",
   "metadata": {},
   "source": [
    "Before you turn this problem in, make sure everything runs as expected. First, **restart the kernel** (in the menubar, select Kernel$\\rightarrow$Restart) and then **run all cells** (in the menubar, select Cell$\\rightarrow$Run All).\n",
    "\n",
    "Make sure you fill in any place that says `YOUR CODE HERE`/`raise NotImplementedError` or \"YOUR ANSWER HERE\", as well as your name and collaborators below:"
   ]
  },
  {
   "cell_type": "markdown",
   "metadata": {},
   "source": [
    "# Programming with HTTP\n",
    "\n",
    "Please start by running the cell below this one."
   ]
  },
  {
   "cell_type": "code",
   "execution_count": null,
   "metadata": {},
   "outputs": [],
   "source": [
    "import requests"
   ]
  },
  {
   "cell_type": "markdown",
   "metadata": {},
   "source": [
    "**Q1** Create a table that describes a `response` object. List the six most common attributes with a brief description of what information a client gets from each (hint: you might consider checking out the inclass from Friday). Then check the online documentation and make a table describing three methods that come with a `response` object, what each does, and when you might use it. You can use the following markdown code for making tables (but copy and paste it into the cell below):\n",
    "\n",
    "|attribute|description|\n",
    "|--------|--------------------|\n",
    "|first-attribute|what it's good for|\n",
    "\n",
    "|method|description|use case|\n",
    "|--------|--------------------|----------|\n",
    "|first-method|what it's good for|when to use it|"
   ]
  },
  {
   "cell_type": "markdown",
   "metadata": {
    "deletable": false,
    "nbgrader": {
     "cell_type": "markdown",
     "checksum": "4ac1dab1c538d761edd60b78fff79bbe",
     "grade": true,
     "grade_id": "cell-3eb005f5ccf91f40",
     "locked": false,
     "points": 4,
     "schema_version": 3,
     "solution": true,
     "task": false
    }
   },
   "source": [
    "YOUR ANSWER HERE"
   ]
  },
  {
   "cell_type": "markdown",
   "metadata": {},
   "source": [
    "**Q2** Since we often need to begin by combining a protocol, a location, and a resource into a string representing a URL, write a function:\n",
    "\n",
    "`\n",
    "buildURL(protocol, location, resource)\n",
    "`\n",
    "\n",
    "that returns a string URL based on the three component parts of `protocol`, `location`, and `resource`.  Your function should be flexible, so that if a user specifies a protocol as 'http://' or as 'http', you still obtain a valid URL. Hint: slicing can help with this last bit."
   ]
  },
  {
   "cell_type": "code",
   "execution_count": null,
   "metadata": {
    "deletable": false,
    "nbgrader": {
     "cell_type": "code",
     "checksum": "44bd88c2d344420ed8c48c6119eb27e2",
     "grade": false,
     "grade_id": "cell-41fc6b8d6eb4bf90",
     "locked": false,
     "schema_version": 3,
     "solution": true,
     "task": false
    }
   },
   "outputs": [],
   "source": [
    "# Solution cell\n",
    "\n",
    "# YOUR CODE HERE\n",
    "raise NotImplementedError()\n",
    "\n",
    "buildURL('http://', 'httpbin.org', '/get')"
   ]
  },
  {
   "cell_type": "code",
   "execution_count": null,
   "metadata": {
    "deletable": false,
    "editable": false,
    "nbgrader": {
     "cell_type": "code",
     "checksum": "f8b0ef4f6d2b7470abf0855a2f932510",
     "grade": true,
     "grade_id": "cell-31c5bc54e442c99a",
     "locked": true,
     "points": 3,
     "schema_version": 3,
     "solution": false,
     "task": false
    }
   },
   "outputs": [],
   "source": [
    "# Testing cell\n",
    "assert buildURL('http://', 'httpbin.org', '/get') == 'http://httpbin.org/get'\n",
    "assert buildURL('http', 'httpbin.org', '/get') == 'http://httpbin.org/get'\n",
    "assert buildURL('https', 'api.kivaws.org', '/v1/loans/newest') == 'https://api.kivaws.org/v1/loans/newest'"
   ]
  },
  {
   "cell_type": "markdown",
   "metadata": {},
   "source": [
    "**Q3** We often want to be able, given a location and a resource, to construct and issue an HTTP request to the URL from the location and resource using the GET HTTP method, and to obtain a **string** consisting of the body of the returned data resource.\n",
    "\n",
    "Write a function\n",
    "\n",
    "`\n",
    "simpleHTTPGet(location, resource)\n",
    "`\n",
    "\n",
    "that uses the function `buildURL` from above (with `http` protocol), along with function(s) and attributes from the `requests` module to achieve this functionality.  If, for whatever reason, we do not successfully obtain a valid string data result, the function should detect this and return `None`. This way the caller, if coded properly, can know whether or not the call was successful. Hint: you can find out whether or not `requests.get()` was successful by looking at the value of `status_code`."
   ]
  },
  {
   "cell_type": "code",
   "execution_count": null,
   "metadata": {
    "deletable": false,
    "nbgrader": {
     "cell_type": "code",
     "checksum": "0cd42de89dae44cd0f2e3516c30ba3a5",
     "grade": false,
     "grade_id": "cell-598ea6f1cb1a46c2",
     "locked": false,
     "schema_version": 3,
     "solution": true
    }
   },
   "outputs": [],
   "source": [
    "# Solution cell\n",
    "\n",
    "# YOUR CODE HERE\n",
    "raise NotImplementedError()\n",
    "simpleHTTPGet('personal.denison.edu', '/')"
   ]
  },
  {
   "cell_type": "code",
   "execution_count": null,
   "metadata": {
    "deletable": false,
    "editable": false,
    "jupyter": {
     "outputs_hidden": true
    },
    "nbgrader": {
     "cell_type": "code",
     "checksum": "c10d59f2ca8137c0a0700143f3b10b9c",
     "grade": true,
     "grade_id": "cell-69d67104c1fb5cd1",
     "locked": true,
     "points": 3,
     "schema_version": 3,
     "solution": false
    }
   },
   "outputs": [],
   "source": [
    "# Testing cell\n",
    "\n",
    "s1 = simpleHTTPGet('personal.denison.edu', '/')\n",
    "assert len(s1) == 464\n",
    "assert type(s1) is str\n",
    "s2 = simpleHTTPGet('httpbin.org', '/get')\n",
    "assert 300 < len(s2) < 350\n",
    "s3 = simpleHTTPGet('personal.denison.edu', '/~whiteda/DenisonWebsiteInfo.pdf')\n",
    "assert s3 == None"
   ]
  },
  {
   "cell_type": "markdown",
   "metadata": {},
   "source": [
    "**Q4** You have probably had the experience before of trying to open a webpage, and having a redirect page pop up, telling you that the page has moved and asking if you want to be redirected. The same thing can happen when we write code to make requests. Write a function:\n",
    "\n",
    "`\n",
    "getRedirectURL(location, resource)\n",
    "`\n",
    "\n",
    "that begins like your function `simpleHTTPGet` but does not allow redirects when invoking `get`. Your function will return a url. If the `get` results in a success status code (please refer to the table \"Common HTTP Status Codes\" in Chapter 20), you return the original url (obtained from `buildURL`, with `http` protocol). If you detect that `get` tried to redirect, search within the headers to find the `\"Location\"` it tried to redirect to, and return that URL instead. If you get any other status code, return `None`."
   ]
  },
  {
   "cell_type": "code",
   "execution_count": null,
   "metadata": {
    "deletable": false,
    "nbgrader": {
     "cell_type": "code",
     "checksum": "56a98617ab1146d45d15d54d5a513349",
     "grade": false,
     "grade_id": "cell-7a364e38a3b112cf",
     "locked": false,
     "schema_version": 3,
     "solution": true,
     "task": false
    }
   },
   "outputs": [],
   "source": [
    "# Solution cell\n",
    "\n",
    "# YOUR CODE HERE\n",
    "raise NotImplementedError()\n",
    "\n",
    "print(getRedirectURL('personal.denison.edu','/~kretchmar'))\n",
    "print(getRedirectURL('personal.denison.edu','/~kretchmar/'))\n",
    "print(getRedirectURL('personal.denison.edu','/~whiteda/DenisonWebsiteInfo.pdf'))"
   ]
  },
  {
   "cell_type": "code",
   "execution_count": null,
   "metadata": {
    "deletable": false,
    "editable": false,
    "nbgrader": {
     "cell_type": "code",
     "checksum": "270ad14d1860746ab94b4e4649c98041",
     "grade": true,
     "grade_id": "cell-3849e54c14f31757",
     "locked": true,
     "points": 4,
     "schema_version": 3,
     "solution": false,
     "task": false
    }
   },
   "outputs": [],
   "source": [
    "# Testing cell\n",
    "\n",
    "assert getRedirectURL('personal.denison.edu','/~whiteda') == 'http://personal.denison.edu/~whiteda/'\n",
    "assert getRedirectURL('personal.denison.edu','/~whiteda/') == 'http://personal.denison.edu/~whiteda/'\n",
    "assert getRedirectURL('personal.denison.edu','/~whiteda/DenisonWebsiteInfo.pdf') == None\n"
   ]
  },
  {
   "cell_type": "markdown",
   "metadata": {},
   "source": [
    "**Q5** We saw in class how to add custom headers along with a get request. This is important in a number of contexts, e.g., when you request a large file, it might make sense to ask it to be compressed for transit. This example motivates our assert statements below. Given parallel lists `headerNameList` and `headerValueList`, you can build a dictionary that maps from header names to their associated values (given by the parallel structure). Write a function\n",
    "\n",
    "`\n",
    "getCustomHeader(location, resource,headerNameList,headerValueList)\n",
    "`\n",
    "\n",
    "that builds a custom header dictionary and then passes it to the `get` method. Your function should call `buildURL` (with `https`) to build the url to pass to `get`. Your function should return the response from the `get` invocation."
   ]
  },
  {
   "cell_type": "code",
   "execution_count": null,
   "metadata": {
    "deletable": false,
    "nbgrader": {
     "cell_type": "code",
     "checksum": "66e8d79c3ef010a847b25a74045e899a",
     "grade": false,
     "grade_id": "cell-8d319aa00876d442",
     "locked": false,
     "schema_version": 3,
     "solution": true,
     "task": false
    }
   },
   "outputs": [],
   "source": [
    "# Solution cell\n",
    "\n",
    "# YOUR CODE HERE\n",
    "raise NotImplementedError()\n",
    "\n",
    "r = getCustomHeader('httpbin.org','/get/',['Transfer-Encoding'],['compress'])\n",
    "request = r.request\n",
    "print(request.headers)\n",
    "print()\n",
    "\n",
    "r = getCustomHeader('httpbin.org','/get/',['Transfer-Encoding','Accept'],['compress','text/html'])\n",
    "request = r.request\n",
    "print(request.headers)\n",
    "print()\n",
    "\n",
    "r = getCustomHeader('httpbin.org','/get/',[],[])\n",
    "request = r.request\n",
    "print(request.headers)\n"
   ]
  },
  {
   "cell_type": "code",
   "execution_count": null,
   "metadata": {
    "deletable": false,
    "editable": false,
    "nbgrader": {
     "cell_type": "code",
     "checksum": "5ee65ba1b89f53c5bb6ce263ee3485ff",
     "grade": true,
     "grade_id": "cell-82a227c94a4c2151",
     "locked": true,
     "points": 3,
     "schema_version": 3,
     "solution": false,
     "task": false
    }
   },
   "outputs": [],
   "source": [
    "# Testing cell\n",
    "\n",
    "r = getCustomHeader('httpbin.org','/get/',['Transfer-Encoding'],['compress'])\n",
    "request = r.request\n",
    "assert request.headers['Transfer-Encoding'] == 'compress'\n",
    "assert request.headers['Connection'] == 'keep-alive'\n",
    "r = getCustomHeader('httpbin.org','/get/',['Transfer-Encoding','Accept'],['compress','text/html'])\n",
    "request = r.request\n",
    "assert request.headers['Accept'] == 'text/html'\n",
    "assert request.headers['Transfer-Encoding'] == 'compress'\n"
   ]
  },
  {
   "cell_type": "markdown",
   "metadata": {},
   "source": [
    "**Q6** Please write a function\n",
    "\n",
    "`\n",
    "postData(location, resource,dataToPost)\n",
    "`\n",
    "\n",
    "that uses your `buildURL` function to build a URL (using `https`), then uses the `requests` module to post `dataToPost` to that URL (note: `dataToPost` will be the *body* of the message you send). Please return the `response` returned by the method of `requests` that you invoke. Note: we test your function with `https://httpbin.org/post`, which is set up to allow you to post there."
   ]
  },
  {
   "cell_type": "code",
   "execution_count": null,
   "metadata": {
    "deletable": false,
    "nbgrader": {
     "cell_type": "code",
     "checksum": "54eaa5921544d715399bd2f1ad42e4d4",
     "grade": false,
     "grade_id": "cell-3e6febf281674186",
     "locked": false,
     "schema_version": 3,
     "solution": true,
     "task": false
    }
   },
   "outputs": [],
   "source": [
    "# Solution cell\n",
    "\n",
    "# YOUR CODE HERE\n",
    "raise NotImplementedError()\n",
    "\n",
    "response = postData('httpbin.org','/post',\"Wow, what a cool string!\")\n",
    "print(response.status_code)\n",
    "print(response.request.body)"
   ]
  },
  {
   "cell_type": "code",
   "execution_count": null,
   "metadata": {
    "deletable": false,
    "editable": false,
    "nbgrader": {
     "cell_type": "code",
     "checksum": "2fe6abd2ec8683f596ba7fd075d4835b",
     "grade": true,
     "grade_id": "cell-8eb777c810cbcff6",
     "locked": true,
     "points": 2,
     "schema_version": 3,
     "solution": false,
     "task": false
    }
   },
   "outputs": [],
   "source": [
    "# Testing cell\n",
    "\n",
    "response = postData('httpbin.org','/post',\"CS181 is the best\")\n",
    "r = response.request\n",
    "assert r.method == 'POST'\n",
    "assert r.body == 'CS181 is the best'\n",
    "assert r.url == 'https://httpbin.org/post'"
   ]
  },
  {
   "cell_type": "code",
   "execution_count": null,
   "metadata": {},
   "outputs": [],
   "source": []
  }
 ],
 "metadata": {
  "kernelspec": {
   "display_name": "Python 3",
   "language": "python",
   "name": "python3"
  },
  "language_info": {
   "codemirror_mode": {
    "name": "ipython",
    "version": 3
   },
   "file_extension": ".py",
   "mimetype": "text/x-python",
   "name": "python",
   "nbconvert_exporter": "python",
   "pygments_lexer": "ipython3",
   "version": "3.7.6"
  }
 },
 "nbformat": 4,
 "nbformat_minor": 4
}
