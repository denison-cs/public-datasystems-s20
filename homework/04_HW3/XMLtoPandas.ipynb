{
 "cells": [
  {
   "cell_type": "markdown",
   "metadata": {},
   "source": [
    "Before you turn this problem in, make sure everything runs as expected. First, **restart the kernel** (in the menubar, select Kernel$\\rightarrow$Restart) and then **run all cells** (in the menubar, select Cell$\\rightarrow$Run All).\n",
    "\n",
    "Make sure you fill in any place that says `YOUR CODE HERE`/`raise NotImplementedError` or \"YOUR ANSWER HERE\", as well as your name and collaborators below:"
   ]
  },
  {
   "cell_type": "markdown",
   "metadata": {},
   "source": [
    "# 04_HW3: XPath for reading into `pandas`\n",
    "\n",
    "The purpose of this homework is to give you more experience reading hierarchical data into a `pandas` dataframe.  We want to parse through XML or HTML to build a table of data in one of our two-dimensional formats (e.g., LoL, DoL, LoD, or DoD) and then read this into `pandas`."
   ]
  },
  {
   "cell_type": "code",
   "execution_count": null,
   "metadata": {},
   "outputs": [],
   "source": [
    "import pandas as pd\n",
    "from lxml import etree\n",
    "import json\n",
    "import requests\n",
    "import io"
   ]
  },
  {
   "cell_type": "markdown",
   "metadata": {},
   "source": [
    "## The dataset: NYC Water Consumption\n"
   ]
  },
  {
   "cell_type": "markdown",
   "metadata": {},
   "source": [
    "The data is from https://catalog.data.gov/dataset/water-consumption-in-the-new-york-city-3d2f0 and the xml can be downloaded from there. For your convenience, we note that the full URL, including query parameters, for downloading this dataset is as follows\n",
    "\n",
    "https://data.cityofnewyork.us/api/views/ia2d-e54m/rows.xml?accessType=DOWNLOAD\n",
    "\n",
    "You are encouraged to look carefully at the data, e.g., in Google Chrome:\n",
    "\n",
    "https://data.cityofnewyork.us/api/views/ia2d-e54m/rows.xml\n",
    "\n",
    "Also for your convenience, and as a means of seeing the table we want to obtain from the xml, we include in this assignment directory a csv of the data, which we read in and display the first five observations:"
   ]
  },
  {
   "cell_type": "code",
   "execution_count": null,
   "metadata": {
    "jupyter": {
     "outputs_hidden": false
    }
   },
   "outputs": [],
   "source": [
    "NYCwater=pd.read_csv('Water_Consumption_In_The_New_York_City.csv')\n",
    "print('length:',len(NYCwater))\n",
    "NYCwater.head()"
   ]
  },
  {
   "cell_type": "markdown",
   "metadata": {},
   "source": [
    "You can see that there are four columns, 38 rows, and we see observations where a row is determined by a year, and dependent variables include population, total water consumption in millions of gallons per day, and a derived column of per-capita gallons consumed per day. Please do not use this CSV file in your solutions to the problems below.\n",
    "\n",
    "## XML Processing\n",
    "Now we turn to obtaining and processing the xml version of the dataset."
   ]
  },
  {
   "cell_type": "markdown",
   "metadata": {},
   "source": [
    "**Q1:** Write a function\n",
    "\n",
    "`\n",
    "getNYCWater(url)\n",
    "`\n",
    "\n",
    "that uses the `requests` module to obtain the data based on the URL given above and, if successful, returns an `lxml` Element for the root of the resultant tree.  If not successful, the function should return `None`.  You are welcome to use functions you have developed previously."
   ]
  },
  {
   "cell_type": "code",
   "execution_count": null,
   "metadata": {
    "deletable": false,
    "nbgrader": {
     "cell_type": "code",
     "checksum": "1ff5ac0e4747097f7fc9a6751bfb7662",
     "grade": false,
     "grade_id": "cell-c1aecf8014016980a",
     "locked": false,
     "schema_version": 3,
     "solution": true,
     "task": false
    }
   },
   "outputs": [],
   "source": [
    "def getNYCWater(url):\n",
    "    # YOUR CODE HERE\n",
    "    raise NotImplementedError()"
   ]
  },
  {
   "cell_type": "code",
   "execution_count": null,
   "metadata": {
    "deletable": false,
    "editable": false,
    "nbgrader": {
     "cell_type": "code",
     "checksum": "ac7ef85f4f80296f25403e68047de335",
     "grade": true,
     "grade_id": "cell-c1aecf8014016980",
     "locked": true,
     "points": 3,
     "schema_version": 3,
     "solution": false,
     "task": false
    }
   },
   "outputs": [],
   "source": [
    "# Testing cell\n",
    "protocol = 'https'\n",
    "location = 'data.cityofnewyork.us'\n",
    "resource = '/api/views/ia2d-e54m/rows'\n",
    "fmt = 'xml'\n",
    "query = 'accessType=DOWNLOAD'\n",
    "\n",
    "my_url = \"{}://{}{}.{}?{}\".format(protocol, location, resource, fmt, query)\n",
    "\n",
    "root = getNYCWater(my_url)\n",
    "assert type(root) is etree._Element\n",
    "assert len(root) == 1\n",
    "assert getNYCWater(\"http://httpbin.org/post\") == None"
   ]
  },
  {
   "cell_type": "markdown",
   "metadata": {},
   "source": [
    "**Q2:** Use `xpath` to obtain a single entry list, `yearList`, containing the string text of the first year in the dataset."
   ]
  },
  {
   "cell_type": "code",
   "execution_count": null,
   "metadata": {
    "deletable": false,
    "nbgrader": {
     "cell_type": "code",
     "checksum": "7d21db27be50927f6554362f71d99323",
     "grade": false,
     "grade_id": "cell-18b19cbe166a2ee4",
     "locked": false,
     "schema_version": 3,
     "solution": true,
     "task": false
    }
   },
   "outputs": [],
   "source": [
    "# YOUR CODE HERE\n",
    "raise NotImplementedError()"
   ]
  },
  {
   "cell_type": "code",
   "execution_count": null,
   "metadata": {
    "deletable": false,
    "editable": false,
    "nbgrader": {
     "cell_type": "code",
     "checksum": "79921d68f2b0f4b40d7d4edfcdf056d8",
     "grade": true,
     "grade_id": "cell-87420c995f0485b7",
     "locked": true,
     "points": 1,
     "schema_version": 3,
     "solution": false,
     "task": false
    }
   },
   "outputs": [],
   "source": [
    "# Testing cell\n",
    "assert len(yearList) == 1\n",
    "assert yearList[0] == '1979'"
   ]
  },
  {
   "cell_type": "markdown",
   "metadata": {},
   "source": [
    "**Q3:** Use `xpath` to obtain a single entry list `yearList` containing the text of the last year in the dataset."
   ]
  },
  {
   "cell_type": "code",
   "execution_count": null,
   "metadata": {
    "deletable": false,
    "jupyter": {
     "outputs_hidden": false
    },
    "nbgrader": {
     "cell_type": "code",
     "checksum": "3812bb1c01c0b705579a5c527800a1d7",
     "grade": false,
     "grade_id": "cell-dc41d56487ac971d",
     "locked": false,
     "schema_version": 3,
     "solution": true,
     "task": false
    }
   },
   "outputs": [],
   "source": [
    "# YOUR CODE HERE\n",
    "raise NotImplementedError()"
   ]
  },
  {
   "cell_type": "code",
   "execution_count": null,
   "metadata": {
    "deletable": false,
    "editable": false,
    "nbgrader": {
     "cell_type": "code",
     "checksum": "a6b448e2b40b981c40c0d304e4df0f32",
     "grade": true,
     "grade_id": "cell-206eca448a9f4a3d",
     "locked": true,
     "points": 1,
     "schema_version": 3,
     "solution": false,
     "task": false
    }
   },
   "outputs": [],
   "source": [
    "# Testing cell\n",
    "assert len(yearList) == 1\n",
    "assert yearList[0] == '2018' # note: this will change when they release more data"
   ]
  },
  {
   "cell_type": "markdown",
   "metadata": {},
   "source": [
    "**Q4:** Use xpath to obtain a list `yearList` containing the text of the ALL of the years in the dataset."
   ]
  },
  {
   "cell_type": "code",
   "execution_count": null,
   "metadata": {
    "deletable": false,
    "jupyter": {
     "outputs_hidden": false
    },
    "nbgrader": {
     "cell_type": "code",
     "checksum": "9f7bf10da78c4009f7c3ee46a9a50ec8",
     "grade": false,
     "grade_id": "cell-7441d5a0e24e086a",
     "locked": false,
     "schema_version": 3,
     "solution": true,
     "task": false
    }
   },
   "outputs": [],
   "source": [
    "# YOUR CODE HERE\n",
    "raise NotImplementedError()"
   ]
  },
  {
   "cell_type": "code",
   "execution_count": null,
   "metadata": {
    "deletable": false,
    "editable": false,
    "nbgrader": {
     "cell_type": "code",
     "checksum": "1374147e95e37efedcecb2edfb8b9682",
     "grade": true,
     "grade_id": "cell-a23562bcc811ebad",
     "locked": true,
     "points": 1,
     "schema_version": 3,
     "solution": false,
     "task": false
    }
   },
   "outputs": [],
   "source": [
    "# Testing cell\n",
    "assert len(yearList) == 40\n",
    "assert yearList[-1] == '2018'"
   ]
  },
  {
   "cell_type": "markdown",
   "metadata": {},
   "source": [
    "**Q5:** Using a single `xpath` expression and a condition on the year, produce a single entry list `year98` containing a string text of the population of New York in 1998."
   ]
  },
  {
   "cell_type": "code",
   "execution_count": null,
   "metadata": {
    "deletable": false,
    "jupyter": {
     "outputs_hidden": false
    },
    "nbgrader": {
     "cell_type": "code",
     "checksum": "676594f8fc6bc7c2118ef7ebe4176fcc",
     "grade": false,
     "grade_id": "cell-9950ec609d48cfae",
     "locked": false,
     "schema_version": 3,
     "solution": true,
     "task": false
    }
   },
   "outputs": [],
   "source": [
    "# YOUR CODE HERE\n",
    "raise NotImplementedError()"
   ]
  },
  {
   "cell_type": "code",
   "execution_count": null,
   "metadata": {
    "deletable": false,
    "editable": false,
    "nbgrader": {
     "cell_type": "code",
     "checksum": "f0d519394d6946d52d35eb41b3d03c89",
     "grade": true,
     "grade_id": "cell-088b17a7da4850df",
     "locked": true,
     "points": 1,
     "schema_version": 3,
     "solution": false,
     "task": false
    }
   },
   "outputs": [],
   "source": [
    "# Testing cell\n",
    "assert len(year98) == 1\n",
    "assert year98[0] == '7858259'"
   ]
  },
  {
   "cell_type": "markdown",
   "metadata": {},
   "source": [
    "**Q6:** Using a single `xpath` expression, produce a list `conList` containing a string text of the `consumption` nodes for all the rows represented in the XML file. Pay attention to type."
   ]
  },
  {
   "cell_type": "code",
   "execution_count": null,
   "metadata": {
    "deletable": false,
    "jupyter": {
     "outputs_hidden": false
    },
    "nbgrader": {
     "cell_type": "code",
     "checksum": "88e953d0169903655e65233c9544ab6a",
     "grade": false,
     "grade_id": "cell-47e4ef2902c1624a",
     "locked": false,
     "schema_version": 3,
     "solution": true,
     "task": false
    }
   },
   "outputs": [],
   "source": [
    "# YOUR CODE HERE\n",
    "raise NotImplementedError()"
   ]
  },
  {
   "cell_type": "code",
   "execution_count": null,
   "metadata": {
    "deletable": false,
    "editable": false,
    "nbgrader": {
     "cell_type": "code",
     "checksum": "6259e9b2d679de63bd4f53608173be01",
     "grade": true,
     "grade_id": "cell-fd68119f5f46bce4",
     "locked": true,
     "points": 1,
     "schema_version": 3,
     "solution": false,
     "task": false
    }
   },
   "outputs": [],
   "source": [
    "# Testing cell\n",
    "assert len(conList) == 40\n",
    "assert conList[0] == '1512'\n",
    "assert conList[-1] == '1007.50'"
   ]
  },
  {
   "cell_type": "markdown",
   "metadata": {},
   "source": [
    "> As can be seen from the above exercises, using XPath, we can easily obtain the data in columns.  On the other hand, if we use XPath to get a list of Element rows, we could then obtain the information about each row in programmatic fashion.  So the next two exercises will obtain the same goal: to get a pandas dataframe whose columns are `[year, population, totalconsumption, percapita]` from the XML.  **Note that all four of these columns should be integers or floats, not strings**. Your solution should continue to work even if the dataset is updated in a future year (so do not assume you know the number of rows)."
   ]
  },
  {
   "cell_type": "markdown",
   "metadata": {},
   "source": [
    "**Q7:** Write a function, \n",
    "\n",
    "`\n",
    "NYCdf1(treeroot)\n",
    "`\n",
    "\n",
    "that, given the Element root, uses the above mechanism of XPath to get column data and, after conversion to integer/float data type, uses `pandas` to create and return the corresponding `pandas` dataframe by specifying a dictionary of columns. Your dataframe should not have an index."
   ]
  },
  {
   "cell_type": "code",
   "execution_count": null,
   "metadata": {
    "deletable": false,
    "jupyter": {
     "outputs_hidden": false
    },
    "nbgrader": {
     "cell_type": "code",
     "checksum": "b7496347657f58dfe5948c35f2dbfd99",
     "grade": false,
     "grade_id": "cell-86f6cf35710a405b",
     "locked": false,
     "schema_version": 3,
     "solution": true,
     "task": false
    }
   },
   "outputs": [],
   "source": [
    "# YOUR CODE HERE\n",
    "raise NotImplementedError()\n",
    "\n",
    "df=NYCdf1(root)\n",
    "df.head()"
   ]
  },
  {
   "cell_type": "code",
   "execution_count": null,
   "metadata": {
    "deletable": false,
    "editable": false,
    "nbgrader": {
     "cell_type": "code",
     "checksum": "565915bb6a5da6f38f882b9f58b97347",
     "grade": true,
     "grade_id": "cell-2418a1b24dcb5f0a",
     "locked": true,
     "points": 3,
     "schema_version": 3,
     "solution": false,
     "task": false
    }
   },
   "outputs": [],
   "source": [
    "# Testing cell\n",
    "df=NYCdf1(root)\n",
    "\n",
    "assert df.shape == (40,4)\n",
    "assert 1979 in list(df.iloc[0])\n",
    "assert 7102100.0 in list(df.iloc[0])\n",
    "assert 1512.0 in list(df.iloc[0])\n",
    "assert 213 in list(df.iloc[0])\n",
    "assert 1007.5 in list(df.iloc[-1])"
   ]
  },
  {
   "cell_type": "markdown",
   "metadata": {},
   "source": [
    "**Q8:** Write a function, \n",
    "\n",
    "`\n",
    "NYCdf2(treeroot)\n",
    "`\n",
    "\n",
    "that, given the Element root, uses XPath to get a list of row Elements and then iterates over each row, creating a list of the values for the row.  This should be appended to an accumulating list of lists.  Then the list of lists should be constructed into a `pandas` dataframe (without an index) to be returned. Again make sure that all values are integer/float data type.  Other than perhaps column order, this dataframe should yield the same result as our prior function."
   ]
  },
  {
   "cell_type": "code",
   "execution_count": null,
   "metadata": {
    "deletable": false,
    "jupyter": {
     "outputs_hidden": false
    },
    "nbgrader": {
     "cell_type": "code",
     "checksum": "522eaec327f111e1b545e339327265bf",
     "grade": false,
     "grade_id": "cell-ab15bed515f24bd6",
     "locked": false,
     "schema_version": 3,
     "solution": true,
     "task": false
    }
   },
   "outputs": [],
   "source": [
    "# YOUR CODE HERE\n",
    "raise NotImplementedError()\n",
    "\n",
    "df=NYCdf2(root)\n",
    "df.tail()"
   ]
  },
  {
   "cell_type": "code",
   "execution_count": null,
   "metadata": {
    "deletable": false,
    "editable": false,
    "nbgrader": {
     "cell_type": "code",
     "checksum": "4f53c09512ab954fd95aba089c544767",
     "grade": true,
     "grade_id": "cell-24c375404f4213a4",
     "locked": true,
     "points": 3,
     "schema_version": 3,
     "solution": false,
     "task": false
    }
   },
   "outputs": [],
   "source": [
    "# Testing cell\n",
    "df=NYCdf2(root)\n",
    "assert df.shape == (40,4)\n",
    "assert 1979 in list(df.iloc[0])\n",
    "assert 7102100.0 in list(df.iloc[0])\n",
    "assert 1512.0 in list(df.iloc[0])\n",
    "assert 213 in list(df.iloc[0])\n",
    "assert 1007.5 in list(df.iloc[-1])"
   ]
  }
 ],
 "metadata": {
  "kernelspec": {
   "display_name": "Python 3",
   "language": "python",
   "name": "python3"
  },
  "language_info": {
   "codemirror_mode": {
    "name": "ipython",
    "version": 3
   },
   "file_extension": ".py",
   "mimetype": "text/x-python",
   "name": "python",
   "nbconvert_exporter": "python",
   "pygments_lexer": "ipython3",
   "version": "3.7.6"
  }
 },
 "nbformat": 4,
 "nbformat_minor": 4
}
