{
 "cells": [
  {
   "cell_type": "markdown",
   "metadata": {},
   "source": [
    "Before you turn this problem in, make sure everything runs as expected. First, **restart the kernel** (in the menubar, select Kernel$\\rightarrow$Restart) and then **run all cells** (in the menubar, select Cell$\\rightarrow$Run All).\n",
    "\n",
    "Make sure you fill in any place that says `YOUR CODE HERE`/`raise NotImplementedError` or \"YOUR ANSWER HERE\", as well as your name and collaborators below:"
   ]
  },
  {
   "cell_type": "code",
   "execution_count": null,
   "metadata": {
    "deletable": false,
    "editable": false,
    "nbgrader": {
     "cell_type": "code",
     "checksum": "2004d41f3f42aaf31f0981a6cd9c3604",
     "grade": false,
     "grade_id": "cell-3b20d97f497af45a",
     "locked": true,
     "schema_version": 3,
     "solution": false,
     "task": false
    }
   },
   "outputs": [],
   "source": [
    "import pandas as pd\n",
    "import os\n",
    "import os.path\n",
    "\n",
    "datadir = \"publicdata\""
   ]
  },
  {
   "cell_type": "markdown",
   "metadata": {
    "deletable": false,
    "editable": false,
    "nbgrader": {
     "cell_type": "markdown",
     "checksum": "55f30a503f52548852a2432428d7add9",
     "grade": false,
     "grade_id": "cell-c50fe8487f81dcf2",
     "locked": true,
     "schema_version": 3,
     "solution": false,
     "task": false
    }
   },
   "source": [
    "**Q1** Read `table6.csv` into a dataframe, then look at the data. Is it in Tidy Data form? Explain your answer."
   ]
  },
  {
   "cell_type": "code",
   "execution_count": null,
   "metadata": {
    "deletable": false,
    "editable": false,
    "nbgrader": {
     "cell_type": "code",
     "checksum": "7513d8fa532409f4f9e297937772338e",
     "grade": false,
     "grade_id": "cell-6fe3c5e2353aa750",
     "locked": true,
     "schema_version": 3,
     "solution": false,
     "task": false
    }
   },
   "outputs": [],
   "source": [
    "path = os.path.join(datadir, \"table6.csv\")\n",
    "df6 = pd.read_csv(path)\n",
    "df6"
   ]
  },
  {
   "cell_type": "markdown",
   "metadata": {
    "deletable": false,
    "nbgrader": {
     "cell_type": "markdown",
     "checksum": "7586fc4247298ce11c4275a28e711125",
     "grade": true,
     "grade_id": "cell-b710cf5a6681aa7d",
     "locked": false,
     "points": 1,
     "schema_version": 3,
     "solution": true,
     "task": false
    }
   },
   "source": [
    "YOUR ANSWER HERE"
   ]
  },
  {
   "cell_type": "markdown",
   "metadata": {
    "deletable": false,
    "editable": false,
    "nbgrader": {
     "cell_type": "markdown",
     "checksum": "b8b5a7c4ffbc66b42b08e67774fbe68e",
     "grade": false,
     "grade_id": "cell-dff79f943cac585f",
     "locked": true,
     "schema_version": 3,
     "solution": false,
     "task": false
    }
   },
   "source": [
    "**Q2** Explore the data provided as `table6.csv`, and then draw the functional dependency."
   ]
  },
  {
   "cell_type": "markdown",
   "metadata": {
    "deletable": false,
    "nbgrader": {
     "cell_type": "markdown",
     "checksum": "19f21f0734e0e11f8cf6fc1ac9edf055",
     "grade": true,
     "grade_id": "cell-6b669d3180c0fae1",
     "locked": false,
     "points": 1,
     "schema_version": 3,
     "solution": true,
     "task": false
    }
   },
   "source": [
    "YOUR ANSWER HERE"
   ]
  },
  {
   "cell_type": "markdown",
   "metadata": {
    "deletable": false,
    "editable": false,
    "nbgrader": {
     "cell_type": "markdown",
     "checksum": "dd93bc4b8c37945cf4ec4db0715a5473",
     "grade": false,
     "grade_id": "cell-3e277fb334254c32",
     "locked": true,
     "schema_version": 3,
     "solution": false,
     "task": false
    }
   },
   "source": [
    "**Q3** This question deals with the tuburculosis dataset. At no point should you rearrange the order of the rows, as we are using the default integer index to perform our checking.\n",
    "\n",
    "1. Read `table6.csv` into a dataframe `df6`.  Do not specify an index column.\n",
    "2. Combine 'century' and 'yearDigits' into one column, 'year' (whose values are strings), then drop the two old columns. Use `copy()` to avoid modifying the original data frame. Store the result as `df6a`.\n",
    "3. Starting from `df6a`, split the column 'rate' into two new columns 'cases' (the number before the slash) and 'population' (the number after). After you're done, drop 'rate'. Store the result as `df6b`.\n",
    "\n",
    "Also note that our checking assumes the order of operations as given above, so that the column order is consistent between your solution and our own."
   ]
  },
  {
   "cell_type": "code",
   "execution_count": null,
   "metadata": {
    "deletable": false,
    "nbgrader": {
     "cell_type": "code",
     "checksum": "4d4965c1dd556b125809271bf430e5eb",
     "grade": false,
     "grade_id": "cell-f40f1f2f851f4a41",
     "locked": false,
     "schema_version": 3,
     "solution": true,
     "task": false
    }
   },
   "outputs": [],
   "source": [
    "# Solution cell\n",
    "\n",
    "# YOUR CODE HERE\n",
    "raise NotImplementedError()"
   ]
  },
  {
   "cell_type": "code",
   "execution_count": null,
   "metadata": {
    "deletable": false,
    "editable": false,
    "nbgrader": {
     "cell_type": "code",
     "checksum": "4fa4c549829622373f7e63cd58162a7b",
     "grade": true,
     "grade_id": "cell-704bb13a9f05424c",
     "locked": true,
     "points": 3,
     "schema_version": 3,
     "solution": false,
     "task": false
    }
   },
   "outputs": [],
   "source": [
    "# Testing cell\n",
    "\n",
    "assert df6.shape == (6,4)\n",
    "assert df6a.shape == (6,3)\n",
    "assert df6b.shape == (6,4)\n",
    "assert df6.iloc[2,3] == '37737/172006362'\n",
    "assert df6a.iloc[3,2] == '2000'\n",
    "assert df6b.iloc[4,3] == '1272915272'\n",
    "assert df6b.iloc[0,2] == \"745\""
   ]
  },
  {
   "cell_type": "markdown",
   "metadata": {
    "deletable": false,
    "editable": false,
    "nbgrader": {
     "cell_type": "markdown",
     "checksum": "03b88bb327532eb5bf3b3d44cf83089a",
     "grade": false,
     "grade_id": "cell-775e19de360f74cd",
     "locked": true,
     "schema_version": 3,
     "solution": false,
     "task": false
    }
   },
   "source": [
    "**Q4** Read `us_rent_income.csv` into a dataframe, then look at the data. Is it in Tidy Data form? Explain your answer. Note: this dataset contains estimated income and rent in each state, as well as the margin of error for each of these quantities. This data came from the US Census."
   ]
  },
  {
   "cell_type": "code",
   "execution_count": null,
   "metadata": {
    "deletable": false,
    "editable": false,
    "nbgrader": {
     "cell_type": "code",
     "checksum": "b9c00f3c5c73121e57231711fabc97f5",
     "grade": false,
     "grade_id": "cell-a2130cb49378afaf",
     "locked": true,
     "schema_version": 3,
     "solution": false,
     "task": false
    }
   },
   "outputs": [],
   "source": [
    "path = os.path.join(datadir, \"us_rent_income.csv\")\n",
    "df = pd.read_csv(path)\n",
    "df.head()"
   ]
  },
  {
   "cell_type": "markdown",
   "metadata": {
    "deletable": false,
    "nbgrader": {
     "cell_type": "markdown",
     "checksum": "2a6c94ba3be741ba5f156d6f09197308",
     "grade": true,
     "grade_id": "cell-27e0ebcef6854ded",
     "locked": false,
     "points": 1,
     "schema_version": 3,
     "solution": true,
     "task": false
    }
   },
   "source": [
    "YOUR ANSWER HERE"
   ]
  },
  {
   "cell_type": "markdown",
   "metadata": {
    "deletable": false,
    "editable": false,
    "nbgrader": {
     "cell_type": "markdown",
     "checksum": "96275df5a6ccd1632a589c8113980ad1",
     "grade": false,
     "grade_id": "cell-d4fb6ed9d7b56344",
     "locked": true,
     "schema_version": 3,
     "solution": false,
     "task": false
    }
   },
   "source": [
    "**Q5** Explore the data provided as `us_rent_income.csv`, and then draw the functional dependency."
   ]
  },
  {
   "cell_type": "markdown",
   "metadata": {
    "deletable": false,
    "nbgrader": {
     "cell_type": "markdown",
     "checksum": "f8cb4d4ce86368592329452c6dde84a9",
     "grade": true,
     "grade_id": "cell-8fa9d821cc812a75",
     "locked": false,
     "points": 1,
     "schema_version": 3,
     "solution": true,
     "task": false
    }
   },
   "source": [
    "YOUR ANSWER HERE"
   ]
  },
  {
   "cell_type": "markdown",
   "metadata": {
    "deletable": false,
    "editable": false,
    "nbgrader": {
     "cell_type": "markdown",
     "checksum": "a678e0a02c55e2c0a2b63d4253f92976",
     "grade": false,
     "grade_id": "cell-7430638fd7ac4f7b",
     "locked": true,
     "schema_version": 3,
     "solution": false,
     "task": false
    }
   },
   "source": [
    "**Q6** Read `us_rent_income.csv` into a dataframe (with \"GEOID\" as the index), then transform as needed to make it tidy. Store the result as `df_rent`.  If the asserts fail, try to understand the expectation.  Look at the asserts to see the expected row and column of the values, because if you did not define a tidy result, those will not correspond to your solution."
   ]
  },
  {
   "cell_type": "code",
   "execution_count": null,
   "metadata": {
    "deletable": false,
    "nbgrader": {
     "cell_type": "code",
     "checksum": "74564b7baf7a8b743e7e59a5553cff8a",
     "grade": false,
     "grade_id": "cell-bfe72fc9d49121fb",
     "locked": false,
     "schema_version": 3,
     "solution": true,
     "task": false
    }
   },
   "outputs": [],
   "source": [
    "# Solution cell\n",
    "\n",
    "# YOUR CODE HERE\n",
    "raise NotImplementedError()"
   ]
  },
  {
   "cell_type": "code",
   "execution_count": null,
   "metadata": {
    "deletable": false,
    "editable": false,
    "nbgrader": {
     "cell_type": "code",
     "checksum": "327555f764635ba99f8f215abd1757c8",
     "grade": true,
     "grade_id": "cell-c44e986dd0e3d6bb",
     "locked": true,
     "points": 2,
     "schema_version": 3,
     "solution": false,
     "task": false
    }
   },
   "outputs": [],
   "source": [
    "# Testing cell\n",
    "\n",
    "assert(df_rent.shape == (52,4))\n",
    "assert(df_rent.iloc[0,0] == 24476.0)\n",
    "assert(df_rent.iloc[0,1] == 747.0)\n",
    "assert(df_rent.iloc[0,2] == 136.0)\n",
    "assert(df_rent.iloc[0,3] == 3.0)\n",
    "assert(df_rent.iloc[20,0] == 37147.0)\n",
    "assert(df_rent.iloc[31,1] == 809.0) "
   ]
  },
  {
   "cell_type": "markdown",
   "metadata": {
    "deletable": false,
    "editable": false,
    "nbgrader": {
     "cell_type": "markdown",
     "checksum": "4b074ba5b814fcb5302a7f4974e483f7",
     "grade": false,
     "grade_id": "cell-371e0f97ac6153ad",
     "locked": true,
     "schema_version": 3,
     "solution": false,
     "task": false
    }
   },
   "source": [
    "**Q7** Read `relig_income.csv` into a dataframe, then look at the data. Is it in Tidy Data form? Explain your answer."
   ]
  },
  {
   "cell_type": "code",
   "execution_count": null,
   "metadata": {
    "deletable": false,
    "editable": false,
    "nbgrader": {
     "cell_type": "code",
     "checksum": "3b5e7b684a24dd82802a565dd789d785",
     "grade": false,
     "grade_id": "cell-ffcaff43b218a641",
     "locked": true,
     "schema_version": 3,
     "solution": false,
     "task": false
    }
   },
   "outputs": [],
   "source": [
    "path = os.path.join(datadir, \"relig_income.csv\")\n",
    "df = pd.read_csv(path)\n",
    "df.head()\n"
   ]
  },
  {
   "cell_type": "markdown",
   "metadata": {
    "deletable": false,
    "nbgrader": {
     "cell_type": "markdown",
     "checksum": "7febd0193505df1625c6e15dd5d9f039",
     "grade": true,
     "grade_id": "cell-e0ea7df53126956a",
     "locked": false,
     "points": 1,
     "schema_version": 3,
     "solution": true,
     "task": false
    }
   },
   "source": [
    "YOUR ANSWER HERE"
   ]
  },
  {
   "cell_type": "markdown",
   "metadata": {
    "deletable": false,
    "editable": false,
    "nbgrader": {
     "cell_type": "markdown",
     "checksum": "f45c7c17f82febabf42287cc97a7b8a2",
     "grade": false,
     "grade_id": "cell-41ec7ffcef89e453",
     "locked": true,
     "schema_version": 3,
     "solution": false,
     "task": false
    }
   },
   "source": [
    "**Q8** Explore the data provided as `relig_income.csv`, and then draw the functional dependency. Note: this data came from a survey of individuals about their religion and their income."
   ]
  },
  {
   "cell_type": "markdown",
   "metadata": {
    "deletable": false,
    "nbgrader": {
     "cell_type": "markdown",
     "checksum": "fd188637141f2b920d0083a6ebb7ab78",
     "grade": true,
     "grade_id": "cell-a9b25ca589a1eff5",
     "locked": false,
     "points": 1,
     "schema_version": 3,
     "solution": true,
     "task": false
    }
   },
   "source": [
    "YOUR ANSWER HERE"
   ]
  },
  {
   "cell_type": "markdown",
   "metadata": {
    "deletable": false,
    "editable": false,
    "nbgrader": {
     "cell_type": "markdown",
     "checksum": "31a5a3d4ffd4e530022a66401cb73555",
     "grade": false,
     "grade_id": "cell-55b09ebb2add5e18",
     "locked": true,
     "schema_version": 3,
     "solution": false,
     "task": false
    }
   },
   "source": [
    "**Q9** Read `relig_income.csv` into a dataframe, then transform as needed to make it tidy. Store the result as `df_rel`. Don't change the order of the rows."
   ]
  },
  {
   "cell_type": "code",
   "execution_count": null,
   "metadata": {
    "deletable": false,
    "nbgrader": {
     "cell_type": "code",
     "checksum": "d153190ad8e690a6410b651f78a0f5d2",
     "grade": false,
     "grade_id": "cell-f1e0c971bbb3e44a",
     "locked": false,
     "schema_version": 3,
     "solution": true,
     "task": false
    }
   },
   "outputs": [],
   "source": [
    "# Solution cell\n",
    "\n",
    "# YOUR CODE HERE\n",
    "raise NotImplementedError()\n",
    "df_rel.head(20)"
   ]
  },
  {
   "cell_type": "code",
   "execution_count": null,
   "metadata": {
    "deletable": false,
    "editable": false,
    "nbgrader": {
     "cell_type": "code",
     "checksum": "00cc2d766288b6a659d63015c3a4ee32",
     "grade": true,
     "grade_id": "cell-d9745d93e6cf5727",
     "locked": true,
     "points": 2,
     "schema_version": 3,
     "solution": false,
     "task": false
    }
   },
   "outputs": [],
   "source": [
    "# Testing cell\n",
    "\n",
    "assert(df_rel.shape == (180,3))\n",
    "assert(df_rel.iloc[0,0] == \"Agnostic\")\n",
    "assert(df_rel.iloc[0,1] == \"<$10k\")\n",
    "assert(df_rel.iloc[0,2] == 27)\n",
    "assert(df_rel.iloc[41,0] == \"Evangelical Prot\")\n",
    "assert(df_rel.iloc[89,1] == \"$40-50k\")\n",
    "assert(df_rel.iloc[104,2] == 14)\n"
   ]
  }
 ],
 "metadata": {
  "kernelspec": {
   "display_name": "Python 3",
   "language": "python",
   "name": "python3"
  },
  "language_info": {
   "codemirror_mode": {
    "name": "ipython",
    "version": 3
   },
   "file_extension": ".py",
   "mimetype": "text/x-python",
   "name": "python",
   "nbconvert_exporter": "python",
   "pygments_lexer": "ipython3",
   "version": "3.7.6"
  }
 },
 "nbformat": 4,
 "nbformat_minor": 2
}
