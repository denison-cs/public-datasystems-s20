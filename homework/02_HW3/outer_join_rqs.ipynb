{
 "cells": [
  {
   "cell_type": "markdown",
   "metadata": {},
   "source": [
    "Before you turn this problem in, make sure everything runs as expected. First, **restart the kernel** (in the menubar, select Kernel$\\rightarrow$Restart) and then **run all cells** (in the menubar, select Cell$\\rightarrow$Run All).\n",
    "\n",
    "Make sure you fill in any place that says `YOUR CODE HERE`/`raise NotImplementedError` or \"YOUR ANSWER HERE\", as well as your name and collaborators below:"
   ]
  },
  {
   "cell_type": "markdown",
   "metadata": {
    "deletable": false,
    "editable": false,
    "nbgrader": {
     "cell_type": "markdown",
     "checksum": "c2bec0fcea7afa8cce15887ae42f76d1",
     "grade": false,
     "grade_id": "cell-d7b14f3805ca92a7",
     "locked": true,
     "schema_version": 3,
     "solution": false,
     "task": false
    }
   },
   "source": [
    "**Q1** If the full outer join is made up of rows from an inner join, left join, and right join, then why is it that in forming the outer join, you don't need to `UNION` with the inner join, as well as the left and right join?"
   ]
  },
  {
   "cell_type": "markdown",
   "metadata": {
    "deletable": false,
    "nbgrader": {
     "cell_type": "markdown",
     "checksum": "0dc01bd8ce48235a8586107ff81c5137",
     "grade": true,
     "grade_id": "cell-e6e6f49ee4382fef",
     "locked": false,
     "points": 1,
     "schema_version": 3,
     "solution": true,
     "task": false
    }
   },
   "source": [
    "YOUR ANSWER HERE"
   ]
  },
  {
   "cell_type": "markdown",
   "metadata": {
    "deletable": false,
    "editable": false,
    "nbgrader": {
     "cell_type": "markdown",
     "checksum": "fa5a946c924db0333a8038f2e8163d2b",
     "grade": false,
     "grade_id": "cell-1b266525dc403b30",
     "locked": true,
     "schema_version": 3,
     "solution": false,
     "task": false
    }
   },
   "source": [
    "**Q2** Suppose you have reason to believe there are typos in a shared column of two tables (e.g., if you believed the `code` in `indicators` had typos, but `code` in `countries` was correct). Explain how you could use the material from the section to identify the rows with typos."
   ]
  },
  {
   "cell_type": "markdown",
   "metadata": {
    "deletable": false,
    "nbgrader": {
     "cell_type": "markdown",
     "checksum": "50210f419c1c375813d2020f11b5a8e6",
     "grade": true,
     "grade_id": "cell-9d7a3b4705688aa6",
     "locked": false,
     "points": 1,
     "schema_version": 3,
     "solution": true,
     "task": false
    }
   },
   "source": [
    "YOUR ANSWER HERE"
   ]
  },
  {
   "cell_type": "markdown",
   "metadata": {
    "deletable": false,
    "editable": false,
    "nbgrader": {
     "cell_type": "markdown",
     "checksum": "2845978c5611c9511bb4bf380b0051e8",
     "grade": false,
     "grade_id": "cell-c8dff2c4748c9ab8",
     "locked": true,
     "schema_version": 3,
     "solution": false,
     "task": false
    }
   },
   "source": [
    "**Q3** Would the first two example queries in 12.5 (joining `indicators` to `countries` then doing GROUP BY) work without restricting the `year` to be 2017? If so, what quantities would they be computing?"
   ]
  },
  {
   "cell_type": "markdown",
   "metadata": {
    "deletable": false,
    "nbgrader": {
     "cell_type": "markdown",
     "checksum": "a94219bd44c078cad0950d3ec0010d1f",
     "grade": true,
     "grade_id": "cell-cecf5ef78906a64a",
     "locked": false,
     "points": 1,
     "schema_version": 3,
     "solution": true,
     "task": false
    }
   },
   "source": [
    "YOUR ANSWER HERE"
   ]
  },
  {
   "cell_type": "markdown",
   "metadata": {
    "deletable": false,
    "editable": false,
    "nbgrader": {
     "cell_type": "markdown",
     "checksum": "d762c5b1b0d9fb46abed3c8fdbd64bfa",
     "grade": false,
     "grade_id": "cell-122a411c414d2603",
     "locked": true,
     "schema_version": 3,
     "solution": false,
     "task": false
    }
   },
   "source": [
    "**Q4** The reading says you can use a subquery with a singleton result in a HAVING clause. Please give an example. You can modify the example from the text if you like."
   ]
  },
  {
   "cell_type": "markdown",
   "metadata": {
    "deletable": false,
    "nbgrader": {
     "cell_type": "markdown",
     "checksum": "60b89a2d57ce68b45d5743ce8e9614fa",
     "grade": true,
     "grade_id": "cell-6ee4e2c099180267",
     "locked": false,
     "points": 1,
     "schema_version": 3,
     "solution": true,
     "task": false
    }
   },
   "source": [
    "YOUR ANSWER HERE"
   ]
  },
  {
   "cell_type": "markdown",
   "metadata": {
    "deletable": false,
    "editable": false,
    "nbgrader": {
     "cell_type": "markdown",
     "checksum": "c46c0a1fbb55882c1049159bccabd2f7",
     "grade": false,
     "grade_id": "cell-f8cf42c0ed0866a7",
     "locked": true,
     "schema_version": 3,
     "solution": false,
     "task": false
    }
   },
   "source": [
    "**Q5** Consider the virtual table example in 12.6 for computing the number of majors. Why is the virtual table (the result of the subquery) aliased as `majors`? Do we ever use that alias (e.g., asking for `majors.nummajor`? What would happen if you didn't use an alias?"
   ]
  },
  {
   "cell_type": "markdown",
   "metadata": {
    "deletable": false,
    "nbgrader": {
     "cell_type": "markdown",
     "checksum": "b51109f3a079cbe353ef32e3e39194ba",
     "grade": true,
     "grade_id": "cell-3216b136c7c899f0",
     "locked": false,
     "points": 1,
     "schema_version": 3,
     "solution": true,
     "task": false
    }
   },
   "source": [
    "YOUR ANSWER HERE"
   ]
  }
 ],
 "metadata": {
  "kernelspec": {
   "display_name": "Python 3",
   "language": "python",
   "name": "python3"
  },
  "language_info": {
   "codemirror_mode": {
    "name": "ipython",
    "version": 3
   },
   "file_extension": ".py",
   "mimetype": "text/x-python",
   "name": "python",
   "nbconvert_exporter": "python",
   "pygments_lexer": "ipython3",
   "version": "3.7.6"
  }
 },
 "nbformat": 4,
 "nbformat_minor": 2
}
