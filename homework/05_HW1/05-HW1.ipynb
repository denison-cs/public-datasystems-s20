{
 "cells": [
  {
   "cell_type": "markdown",
   "metadata": {},
   "source": [
    "Before you turn this problem in, make sure everything runs as expected. First, **restart the kernel** (in the menubar, select Kernel$\\rightarrow$Restart) and then **run all cells** (in the menubar, select Cell$\\rightarrow$Run All).\n",
    "\n",
    "Make sure you fill in any place that says `YOUR CODE HERE`/`raise NotImplementedError` or \"YOUR ANSWER HERE\", as well as your name and collaborators below:"
   ]
  },
  {
   "cell_type": "markdown",
   "metadata": {},
   "source": [
    "# 05_HW1: Web-scraping basics\n",
    "\n",
    "As you learned in the most recent in-class worksheet, web-scraping entails getting a desired HTML document, parsing it, and extracting information from it. In order to get the data we want, we often need HTTP GET requests using URL-query parameters, POST requests with parameters, and resource paths beginning with `/api/` to reduce noise in the resource we are getting (more on this in the next chapter). We summarize:\n",
    "\n",
    "## HTML as a tree\n",
    "\n",
    "1. Get the HTML through HTTP\n",
    "   - Variations of the HTTP\n",
    "     - A static html page, intended for web browser/human viewing\n",
    "       - Usually of type .html, e.g., http://personal.denison.edu/~bressoud/datasystems/ind0.html\n",
    "     - A dynamic html page, intended for web browser/human viewing\n",
    "       - Can be of type PHP, ASP, or JSP, e.g., https://ww2.energy.ca.gov/almanac/transportation_data/gasoline/margins/index_cms.php\n",
    "       - Sometimes need GET with URL-query-parameters\n",
    "       - Can do POST with URL-encoded body\n",
    "     - An API endpoint (will be discussed in chapter 23)\n",
    "       - Typically dynamic\n",
    "       - URL and/or POST Body parameters\n",
    "       - Different formats for return\n",
    "       - Most often with authentication/authorization\n",
    "   - Examples for today\n",
    "     - https://api.kivaws.org/v1/loans/newest\n",
    "     - Even though this starts with `api`, we do not need the material from chapter 23 to web scrape it.\n",
    "2. Process the result into a tree\n",
    "   - If well structured (close to, or satisfying XHTML), can use same technique as for XML with the `lxml` module package\n",
    "   - If less well structured\n",
    "     - HTML parser of `lxml`\n",
    "   - All result in a tree structure, but can differ in some of the details of the operations to inspect/traverse/manipulate the tree\n",
    "3. Understand the tree structure and navigate the tree to iterate over and build the data\n",
    "   - Basic structure of HTML\n",
    "     - [W3Schools Tutorial Link](https://www.w3schools.com/html/)\n",
    "     - head\n",
    "     - body\n",
    "     - div and span\n",
    "   - Lists\n",
    "   - Tables\n",
    "   \n",
    "Please run the cell below to import all packages we will need."
   ]
  },
  {
   "cell_type": "code",
   "execution_count": null,
   "metadata": {},
   "outputs": [],
   "source": [
    "from IPython.core.debugger import set_trace\n",
    "import requests\n",
    "from lxml import etree\n",
    "import lxml.html as lh\n",
    "import pandas as pd\n",
    "import json\n",
    "import re\n",
    "import io"
   ]
  },
  {
   "cell_type": "markdown",
   "metadata": {},
   "source": [
    "### Using HTTP headers and parameters\n",
    "\n",
    "Recall from your previous homework, the function\n",
    "\n",
    "`\n",
    "buildURL(location, resource,protocol)\n",
    "`\n",
    "\n",
    "that returns a string URL based on the three component parts of `protocol`, `location`, and `resource`. Recall also \n",
    "\n",
    "`\n",
    "simpleHTTPGet(location, resource)\n",
    "`\n",
    "\n",
    "that uses `buildURL` and the `requests` module to construct and issue an HTTP request to the URL from the location and resource using the GET HTTP method, and to obtain a string consisting of the body of the returned data resource (or `None` if the request fails to retrieve string data). These functions are provided below, in case you didn't solve them correctly on the previous homework. Because the protocol is so often `'http'`, we can specify it as an optional argument as shown below, which defaults to the value `'http'`. For more on optional arguments, please consult the following resource:\n",
    "\n",
    "- http://docs.activestate.com/activepython/3.5/dip/power_of_introspection/optional_arguments.html"
   ]
  },
  {
   "cell_type": "code",
   "execution_count": null,
   "metadata": {
    "deletable": false,
    "editable": false,
    "nbgrader": {
     "cell_type": "code",
     "checksum": "550988dfe8324920ac760b19f7c2da6e",
     "grade": false,
     "grade_id": "cell-41fc6b8d6eb4bf90",
     "locked": true,
     "schema_version": 3,
     "solution": false,
     "task": false
    }
   },
   "outputs": [],
   "source": [
    "def buildURL(location, resource,protocol='http'):\n",
    "    \"\"\"Construct a URL, given the protocol (with or without the trailing '://'), \n",
    "       a location, and a resource.\n",
    "       Return: string version of the url\n",
    "    \"\"\"\n",
    "    fmt1 = \"{}{}{}\"\n",
    "    fmt2 = \"{}://{}{}\"\n",
    "    if protocol[-3:] == \"://\":\n",
    "        url = fmt1.format(protocol, location, resource)\n",
    "    else:\n",
    "        url = fmt2.format(protocol, location, resource)\n",
    "    return url\n",
    "\n",
    "buildURL('httpbin.org', '/get','http://')\n",
    "\n",
    "def simpleHTTPGet(location, resource):\n",
    "    \"\"\"Perform an HTTP GET to the given location and resource (but no query parameters)\n",
    "       Rerturn: string of the textual body of the response, if successful,\n",
    "                None if not successful\n",
    "    \"\"\"\n",
    "    url = buildURL(location, resource,'http')\n",
    "    resp = requests.get(url)\n",
    "    if resp.status_code != 200:\n",
    "        return None\n",
    "    return resp.text\n",
    "simpleHTTPGet('personal.denison.edu', '/')"
   ]
  },
  {
   "cell_type": "markdown",
   "metadata": {},
   "source": [
    "**Q1** We have seen that some `get` requests result in a response body whose format is JSON, while other requests result in text or html body. When the result is JSON, we know that we can go beyond returning just a string containing the result ... we can \"interpret\" the json and yield an actual Python data structure.  Rewrite your `simpleHTTPGet()` function so that it obtains the data, same as before, but if the **content type** is JSON, we, instead of returning a string, return the json interpreted result. Because the content type sometimes includes character set information, our check for content type must look for `application/json` at the beginning of the content type header. If that's not the content type, then return the `text` like before. Hint: `requests.Response` objects have many useful built-in functions, described in the documentation https://www.w3schools.com/python/ref_requests_response.asp"
   ]
  },
  {
   "cell_type": "code",
   "execution_count": null,
   "metadata": {
    "deletable": false,
    "nbgrader": {
     "cell_type": "code",
     "checksum": "274edce023b3abd8b626296c94390a90",
     "grade": false,
     "grade_id": "cell-f032b4ae5262e8c9",
     "locked": false,
     "schema_version": 3,
     "solution": true
    }
   },
   "outputs": [],
   "source": [
    "# Solution cell\n",
    "\n",
    "# YOUR CODE HERE\n",
    "raise NotImplementedError()\n",
    "simpleHTTPGet('httpbin.org', '/get')"
   ]
  },
  {
   "cell_type": "code",
   "execution_count": null,
   "metadata": {
    "deletable": false,
    "editable": false,
    "jupyter": {
     "outputs_hidden": true
    },
    "nbgrader": {
     "cell_type": "code",
     "checksum": "96145af1739c50ddd8df3150eca75c98",
     "grade": true,
     "grade_id": "cell-e803aa91204a1b0a",
     "locked": true,
     "points": 3,
     "schema_version": 3,
     "solution": false
    }
   },
   "outputs": [],
   "source": [
    "# Testing cell\n",
    "\n",
    "s1 = simpleHTTPGet('personal.denison.edu', '/')\n",
    "assert len(s1) == 464\n",
    "assert type(s1) is str\n",
    "j2 = simpleHTTPGet('httpbin.org', '/get')\n",
    "assert type(j2) is dict\n",
    "assert len(j2) == 4"
   ]
  },
  {
   "cell_type": "markdown",
   "metadata": {},
   "source": [
    "**Q2** The second most common use case for HTTP is to use a GET method with URL parameters.  So write a function\n",
    "\n",
    "`\n",
    "HTTPGetParams(location, resource, pdict,protocol)\n",
    "`\n",
    "\n",
    "that rewrites your `simpleHTTPGet` to use the dictionary of URL parameters specified in `pdict` to specify the parameter name to parameter value mapping to be included in the GET request. Please arrange for `protocol` to be an optional argument, whose default value is `'http'`. See the assert statements below for examples.\n",
    "\n",
    "Although we will use a dictionary `pdict`, and that is what is expected in the `requests` module, we know that, through the processing performed by `requests`, the dictionary will result in adding the `?` and the `<name>=<value>` pairs to the url before the HTTP GET request is sent from the client to the server, e.g., sending URLs of the form `https://covidtracking.com/api/states/daily?state=OH&date=20200407`. You might consider referring back to the COVID problem of 03_HW3, or to the documentation for the `requests` module (including parameters to the `get` function):\n",
    "https://www.w3schools.com/python/module_requests.asp\n",
    "\n",
    "Like the previous problem, if the content type is json, you should return an interpreted json-based Python data structure. Otherwise, return a string with the text of the response, or return `None` if the request was not successful."
   ]
  },
  {
   "cell_type": "code",
   "execution_count": null,
   "metadata": {
    "deletable": false,
    "nbgrader": {
     "cell_type": "code",
     "checksum": "a856efbc705945246e23d9dffd1d63e0",
     "grade": false,
     "grade_id": "cell-01a4dd0771154c50",
     "locked": false,
     "schema_version": 3,
     "solution": true
    }
   },
   "outputs": [],
   "source": [
    "# Solution cell\n",
    "\n",
    "# YOUR CODE HERE\n",
    "raise NotImplementedError()\n",
    "HTTPGetParams('httpbin.org', '/get', {'a': 5, 'b': 'Hello world'})\n",
    "HTTPGetParams('httpbin.org', '/get', {'a': 5, 'b': 'Hello world'}, 'http')"
   ]
  },
  {
   "cell_type": "code",
   "execution_count": null,
   "metadata": {
    "deletable": false,
    "editable": false,
    "jupyter": {
     "outputs_hidden": true
    },
    "nbgrader": {
     "cell_type": "code",
     "checksum": "f2b7f2cbb3988b881673a4452de7600c",
     "grade": true,
     "grade_id": "cell-58bb94932b346aff",
     "locked": true,
     "points": 3,
     "schema_version": 3,
     "solution": false
    }
   },
   "outputs": [],
   "source": [
    "# Testing cell\n",
    "\n",
    "s1 = HTTPGetParams('personal.denison.edu', '/', {})\n",
    "assert len(s1) == 464\n",
    "assert type(s1) is str\n",
    "\n",
    "j2 = HTTPGetParams('httpbin.org', '/get', {'a': 5, 'b': 'Hello world'})\n",
    "assert type(j2) is dict\n",
    "assert len(j2) == 4\n",
    "assert len(j2['args']) == 2\n",
    "\n",
    "# This example should be familiar from midterm3\n",
    "j3 = HTTPGetParams('api.kivaws.org', '/v1/loans/newest.json', {'page':1,'per_page':5},'https')\n",
    "assert type(j3) is dict\n",
    "assert len(j3) == 2\n",
    "assert len(j3['paging']) == 4\n",
    "assert len(j3['loans']) == 5"
   ]
  },
  {
   "cell_type": "markdown",
   "metadata": {},
   "source": [
    "### Web-scraping Kiva loans\n",
    "\n",
    "**Q3** Review 03_HW3, where we employed URL parameters to customize queries for COVID data. We will now do the same for data on Kiva loans. Kiva is an organization that describes itself as \"an online lending platform connecting online lenders to entrepreneurs.\" You can learn more here:\n",
    "https://www.kiva.org/about\n",
    "\n",
    "Later, we will study the Kiva API in detail. For now, it is enough to know that a URL of the following form yields ten results from the second page of loans, with lots of information in each result (please click to see):\n",
    "http://api.kivaws.org/v1/loans/newest.json?page=2&per_page=10\n",
    "\n",
    "Whereas a URL of the following form yields five results from the first page of loans, with only the ids of the loans (rather than, say, their amounts as well):\n",
    "http://api.kivaws.org/v1/loans/newest.json?page=1&per_page=5&ids_only=true\n",
    "\n",
    "By now, when you see these kinds of URLs you should be thinking in terms of the `pdict` parameter from the previous problem. Please write a function\n",
    "\n",
    "`\n",
    "kivaNewestLoans(pagenum, loansperpage, onlyids)\n",
    "`\n",
    "\n",
    "that allows a Python program to specify integers for the `pagenum`, the `loansperpage`, and a boolean for whether or not to only include ids in the result, returning the JSON resulting from making the HTTP GET with appropriate parameters.  Be careful, as a Python boolean used for the third parameter is not exactly what is expected as a URL parameter (see the example URL above). Please build a dictionary based on the given parameters and pass it as an argument to your `HTTPGetParams` function, then return the result."
   ]
  },
  {
   "cell_type": "code",
   "execution_count": null,
   "metadata": {
    "deletable": false,
    "nbgrader": {
     "cell_type": "code",
     "checksum": "e96b9105e20f55122e6975cefaaf0fa4",
     "grade": false,
     "grade_id": "cell-6d98a65baf50d5be",
     "locked": false,
     "schema_version": 3,
     "solution": true
    }
   },
   "outputs": [],
   "source": [
    "# Solution cell\n",
    "\n",
    "# YOUR CODE HERE\n",
    "raise NotImplementedError()\n",
    "kivaNewestLoans(1, 5, True)"
   ]
  },
  {
   "cell_type": "code",
   "execution_count": null,
   "metadata": {
    "deletable": false,
    "editable": false,
    "jupyter": {
     "outputs_hidden": true
    },
    "nbgrader": {
     "cell_type": "code",
     "checksum": "229042f1f7ffd755ebb8f7307bff1134",
     "grade": true,
     "grade_id": "cell-fa6db76a899fb7ba",
     "locked": true,
     "points": 4,
     "schema_version": 3,
     "solution": false
    }
   },
   "outputs": [],
   "source": [
    "# Testing cell\n",
    "\n",
    "new2 = kivaNewestLoans(2, 2, False)\n",
    "assert new2\n",
    "assert 'loans' in new2\n",
    "assert 'paging' in new2\n",
    "assert len(new2['loans']) == 2"
   ]
  },
  {
   "cell_type": "markdown",
   "metadata": {},
   "source": [
    "### HTTP with file extensions\n",
    "\n",
    "We have seen that URLs often take us to resources with different file extensions, so it can be useful to generalize our functions above to know what file extension to expect. For example, the Kiva data is also available in XML format via the link:\n",
    "http://api.kivaws.org/v1/loans/newest.xml?page=1&per_page=5&ids_only=true\n",
    "\n",
    "Please compare this link to the previous problem to see where the file extension comes in.\n",
    "\n",
    "**Q4** Rewrite the `buildURL` function to allow both `protocol` and `extension` to be optional. If not specified, `protocol` should be `'http'`. If no `extension` is specified, the URL resource ends as given by `resource`, but otherwise we append a period (`'.'`) and the given extension to the end of the URL resource. Furthermore, please make the function smarter, so that if the first `'/'` in `resource` is not present, the function realizes this and puts it in. See the assert statements for examples. Hint: start with     `buildURL(location, resource, protocol='http', extension=None)`"
   ]
  },
  {
   "cell_type": "code",
   "execution_count": null,
   "metadata": {
    "deletable": false,
    "nbgrader": {
     "cell_type": "code",
     "checksum": "6d5a9cd3098f5b359c25f2dd47afb4a7",
     "grade": false,
     "grade_id": "cell-7921b975bc811499",
     "locked": false,
     "schema_version": 3,
     "solution": true,
     "task": false
    }
   },
   "outputs": [],
   "source": [
    "# YOUR CODE HERE\n",
    "raise NotImplementedError()\n"
   ]
  },
  {
   "cell_type": "code",
   "execution_count": null,
   "metadata": {
    "deletable": false,
    "editable": false,
    "nbgrader": {
     "cell_type": "code",
     "checksum": "bfb962ccf466ee35ab41ef22ef408cda",
     "grade": true,
     "grade_id": "cell-a069a3d4318aeeee",
     "locked": true,
     "points": 2,
     "schema_version": 3,
     "solution": false,
     "task": false
    }
   },
   "outputs": [],
   "source": [
    "# Testing cell\n",
    "\n",
    "assert buildURL('api.kivaws.org','/v1/loans/newest','https','xml') == 'https://api.kivaws.org/v1/loans/newest.xml'\n",
    "assert buildURL('api.kivaws.org','v1/loans/newest','http','json') == 'http://api.kivaws.org/v1/loans/newest.json'\n",
    "assert buildURL('personal.denison.edu','~bressoud/datasystems/ind0.html') == 'http://personal.denison.edu/~bressoud/datasystems/ind0.html'\n",
    "assert buildURL('personal.denison.edu','/~bressoud/datasystems/ind0.html','https') == 'https://personal.denison.edu/~bressoud/datasystems/ind0.html'"
   ]
  },
  {
   "cell_type": "markdown",
   "metadata": {},
   "source": [
    "### HTTP Post with parameters\n",
    "\n",
    "**Q5** Recall from the classroom demonstration that we can emulate the selection of field values on a webpage by issuing a HTTP POST request and using the `requests` module's ability to place data in the body of the post request. If you study the inclass activity, you will see how this was done with a POST request to http://www.energy.ca.gov/almanac/transportation_data/gasoline/margins/index.php, featuring the year 1999. Please write a function\n",
    "\n",
    "    HTTPPostParams(location, resource, pdict, protocol='http')\n",
    "\n",
    "that submits a POST request using the given dictionary `pdict`. You might want to start with `HTTPGetParams` and modify it accordingly. Please get the response to your POST request, check the content type, and return either an interpreted json-based Python data structure, a string with the text of the response, or `None` if the POST request was not successful. Please see the assert statements for examples."
   ]
  },
  {
   "cell_type": "code",
   "execution_count": null,
   "metadata": {
    "deletable": false,
    "jupyter": {
     "outputs_hidden": true
    },
    "nbgrader": {
     "cell_type": "code",
     "checksum": "9bf52118ebb5f739e553263887902309",
     "grade": false,
     "grade_id": "cell-f9f5da8eac77ec12",
     "locked": false,
     "schema_version": 3,
     "solution": true
    }
   },
   "outputs": [],
   "source": [
    "# Solution cell\n",
    "\n",
    "# YOUR CODE HERE\n",
    "raise NotImplementedError()\n"
   ]
  },
  {
   "cell_type": "code",
   "execution_count": null,
   "metadata": {
    "deletable": false,
    "editable": false,
    "nbgrader": {
     "cell_type": "code",
     "checksum": "cac317ef6c8afe76d3c946cd5c66ac06",
     "grade": true,
     "grade_id": "cell-3160e740506e878b",
     "locked": true,
     "points": 4,
     "schema_version": 3,
     "solution": false
    }
   },
   "outputs": [],
   "source": [
    "# Testing cell\n",
    "\n",
    "s1 = HTTPPostParams('personal.denison.edu', '/', {})\n",
    "assert len(s1) == 464\n",
    "assert type(s1) is str\n",
    "\n",
    "j2 = HTTPPostParams('httpbin.org', '/post', {'a': 5, 'b': 'Hello world'})\n",
    "assert type(j2) is dict\n",
    "assert len(j2) == 8\n",
    "assert len(j2['form']) == 2\n",
    "\n",
    "j3 = HTTPPostParams('httpbin.org', '/post', {'a': 5, 'b': 'Hello world','c':'CS181 is great!'},'https')\n",
    "assert j3['url'] == 'https://httpbin.org/post'\n",
    "\n",
    "j4 = HTTPGetParams('api.kivaws.org', '/v1/loans', {'try_this':'making a mess!'},'https')\n",
    "assert j4 == None\n",
    "\n"
   ]
  },
  {
   "cell_type": "markdown",
   "metadata": {},
   "source": [
    "**Q6** Please write a function `getCAGas(year)` that mimics the inclass activity to select an appropriate location, resource, dictionary, and protocol, to retrieve as a string, the html that contains the tables of the gas margins for the state of California for the given `year`. Your solution should call `HTTPPostParams` and return the result. Hint: you will need to study the inclass activity to figure out the dictionary that is required."
   ]
  },
  {
   "cell_type": "code",
   "execution_count": null,
   "metadata": {
    "deletable": false,
    "nbgrader": {
     "cell_type": "code",
     "checksum": "7ed538ece7a3237fb7076acbbceb4b82",
     "grade": false,
     "grade_id": "cell-5d430cbd20e04b04",
     "locked": false,
     "schema_version": 3,
     "solution": true,
     "task": false
    }
   },
   "outputs": [],
   "source": [
    "# Solution cell\n",
    "\n",
    "# YOUR CODE HERE\n",
    "raise NotImplementedError()"
   ]
  },
  {
   "cell_type": "code",
   "execution_count": null,
   "metadata": {
    "deletable": false,
    "editable": false,
    "nbgrader": {
     "cell_type": "code",
     "checksum": "3343dade90f8c69ebe507f081c4e7e22",
     "grade": true,
     "grade_id": "cell-7ab5cc1161ca893d",
     "locked": true,
     "points": 2,
     "schema_version": 3,
     "solution": false,
     "task": false
    }
   },
   "outputs": [],
   "source": [
    "# Testing cell\n",
    "\n",
    "htmlresult = getCAGas(2000)\n",
    "assert type(htmlresult) is str\n",
    "assert 60000 < len(htmlresult) < 100000"
   ]
  }
 ],
 "metadata": {
  "kernelspec": {
   "display_name": "Python 3",
   "language": "python",
   "name": "python3"
  },
  "language_info": {
   "codemirror_mode": {
    "name": "ipython",
    "version": 3
   },
   "file_extension": ".py",
   "mimetype": "text/x-python",
   "name": "python",
   "nbconvert_exporter": "python",
   "pygments_lexer": "ipython3",
   "version": "3.7.6"
  }
 },
 "nbformat": 4,
 "nbformat_minor": 4
}
