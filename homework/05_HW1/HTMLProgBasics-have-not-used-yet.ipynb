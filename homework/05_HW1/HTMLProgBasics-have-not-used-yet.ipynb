{
 "cells": [
  {
   "cell_type": "markdown",
   "metadata": {},
   "source": [
    "Before you turn this problem in, make sure everything runs as expected. First, **restart the kernel** (in the menubar, select Kernel$\\rightarrow$Restart) and then **run all cells** (in the menubar, select Cell$\\rightarrow$Run All).\n",
    "\n",
    "Make sure you fill in any place that says `YOUR CODE HERE`/`raise NotImplementedError` or \"YOUR ANSWER HERE\", as well as your name and collaborators below:"
   ]
  },
  {
   "cell_type": "markdown",
   "metadata": {},
   "source": [
    "# 05_HW1: Web-scraping basics\n",
    "\n",
    "As you learned in the most recent in-class worksheet, web-scraping entails getting a desired HTML document, parsing it, and extracting information from it. In order to get the data we want, we often need HTTP GET requests using URL-query parameters, POST requests with parameters, and resource paths beginning with `/api/` to reduce noise in the resource we are getting (more on this in the next chapter). We summarize:\n",
    "\n",
    "## HTML as a tree\n",
    "\n",
    "1. Get the HTML through HTTP\n",
    "   - Variations of the HTTP\n",
    "     - A static html page, intended for web browser/human viewing\n",
    "       - Usually of type .html, e.g., http://personal.denison.edu/~bressoud/datasystems/ind0.html\n",
    "     - A dynamic html page, intended for web browser/human viewing\n",
    "       - Can be of type PHP, ASP, or JSP, e.g., https://ww2.energy.ca.gov/almanac/transportation_data/gasoline/margins/index_cms.php\n",
    "       - Sometimes need GET with URL-query-parameters\n",
    "       - Can do POST with URL-encoded body\n",
    "     - An API endpoint (will be discussed in chapter 23)\n",
    "       - Typically dynamic\n",
    "       - URL and/or POST Body parameters\n",
    "       - Different formats for return\n",
    "       - Most often with authentication/authorization\n",
    "   - Examples for today\n",
    "     - https://api.kivaws.org/v1/loans/newest\n",
    "     - Even though this starts with `api`, we do not need the material from chapter 23 to web scrape it.\n",
    "2. Process the result into a tree\n",
    "   - If well structured (close to, or satisfying XHTML), can use same technique as for XML with the `lxml` module package\n",
    "   - If less well structured\n",
    "     - HTML parser of `lxml`\n",
    "   - All result in a tree structure, but can differ in some of the details of the operations to inspect/traverse/manipulate the tree\n",
    "3. Understand the tree structure and navigate the tree to iterate over and build the data\n",
    "   - Basic structure of HTML\n",
    "     - [W3Schools Tutorial Link](https://www.w3schools.com/html/)\n",
    "     - head\n",
    "     - body\n",
    "     - div and span\n",
    "   - Lists\n",
    "   - Tables\n",
    "   \n",
    "Please run the cell below to import all packages we will need."
   ]
  },
  {
   "cell_type": "code",
   "execution_count": null,
   "metadata": {},
   "outputs": [],
   "source": [
    "from IPython.core.debugger import set_trace\n",
    "import requests\n",
    "from lxml import etree\n",
    "import lxml.html as lh\n",
    "import pandas as pd\n",
    "import json\n",
    "import re\n",
    "import io"
   ]
  },
  {
   "cell_type": "code",
   "execution_count": null,
   "metadata": {},
   "outputs": [],
   "source": []
  },
  {
   "cell_type": "code",
   "execution_count": null,
   "metadata": {},
   "outputs": [],
   "source": [
    "url = 'https://api.kivaws.org/v1/loans/newest'\n",
    "response = requests.get(url)\n",
    "if response.status_code != 200:\n",
    "    print('Unable to retrieve url:', url, 'Status code:', response.status_code)\n",
    "else:\n",
    "    htmltree = lh.parse(io.BytesIO(response.content))\n",
    "    htmlroot = htmltree.getroot()"
   ]
  },
  {
   "cell_type": "code",
   "execution_count": null,
   "metadata": {},
   "outputs": [],
   "source": [
    "print(etree.tostring(htmlroot, pretty_print=True).decode('utf-8')[:1200])"
   ]
  },
  {
   "cell_type": "code",
   "execution_count": null,
   "metadata": {},
   "outputs": [],
   "source": [
    "datarows = htmlroot.xpath('/html/body/div/table/tr/td/..')"
   ]
  },
  {
   "cell_type": "code",
   "execution_count": null,
   "metadata": {},
   "outputs": [],
   "source": [
    "datarows"
   ]
  },
  {
   "cell_type": "code",
   "execution_count": null,
   "metadata": {},
   "outputs": [],
   "source": [
    "html_root_element = htmlroot\n",
    "table_rows = html_root_element.xpath('/html/body/div/table/tr')"
   ]
  },
  {
   "cell_type": "code",
   "execution_count": null,
   "metadata": {},
   "outputs": [],
   "source": [
    "html_root_element"
   ]
  },
  {
   "cell_type": "code",
   "execution_count": null,
   "metadata": {},
   "outputs": [],
   "source": [
    "head_e = html_root_element[0]\n",
    "body_e = html_root_element[1]\n",
    "print(head_e, body_e)"
   ]
  },
  {
   "cell_type": "code",
   "execution_count": null,
   "metadata": {},
   "outputs": [],
   "source": [
    "contentdiv_e = body_e[1]\n",
    "print('tag = {}, attributes = {}'.format(contentdiv_e.tag, contentdiv_e.attrib))"
   ]
  },
  {
   "cell_type": "code",
   "execution_count": null,
   "metadata": {},
   "outputs": [],
   "source": [
    "table_e = contentdiv_e[0]\n",
    "print('tag = {}, attributes = {}'.format(table_e.tag, table_e.attrib))"
   ]
  },
  {
   "cell_type": "code",
   "execution_count": null,
   "metadata": {},
   "outputs": [],
   "source": [
    "table_rows = []\n",
    "for table_child in table_e:\n",
    "    if table_child.tag == 'tr':\n",
    "        table_rows.append(table_child)"
   ]
  },
  {
   "cell_type": "code",
   "execution_count": null,
   "metadata": {},
   "outputs": [],
   "source": [
    "header_row = table_rows.pop(0)"
   ]
  },
  {
   "cell_type": "code",
   "execution_count": null,
   "metadata": {},
   "outputs": [],
   "source": [
    "headers = [child.text for child in header_row]\n",
    "headers"
   ]
  },
  {
   "cell_type": "code",
   "execution_count": null,
   "metadata": {},
   "outputs": [],
   "source": [
    "ListOfLists = []\n",
    "for row_e in table_rows:\n",
    "    row = []\n",
    "    for child in row_e:\n",
    "        if len(child) == 0:\n",
    "            row.append(child.text)\n",
    "        else:\n",
    "            assert len(child) == 1\n",
    "            assert child[0].tag == 'a'\n",
    "            row.append(child[0].text)\n",
    "    #row = [child.text for child in row_e]\n",
    "    ListOfLists.append(row)\n",
    "df = pd.DataFrame(ListOfLists, columns=headers)\n",
    "df"
   ]
  },
  {
   "cell_type": "code",
   "execution_count": null,
   "metadata": {},
   "outputs": [],
   "source": []
  }
 ],
 "metadata": {
  "kernelspec": {
   "display_name": "Python 3",
   "language": "python",
   "name": "python3"
  },
  "language_info": {
   "codemirror_mode": {
    "name": "ipython",
    "version": 3
   },
   "file_extension": ".py",
   "mimetype": "text/x-python",
   "name": "python",
   "nbconvert_exporter": "python",
   "pygments_lexer": "ipython3",
   "version": "3.7.4"
  }
 },
 "nbformat": 4,
 "nbformat_minor": 2
}
