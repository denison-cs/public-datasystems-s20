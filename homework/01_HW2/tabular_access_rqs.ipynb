{
 "cells": [
  {
   "cell_type": "markdown",
   "metadata": {},
   "source": [
    "Before you turn this problem in, make sure everything runs as expected. First, **restart the kernel** (in the menubar, select Kernel$\\rightarrow$Restart) and then **run all cells** (in the menubar, select Cell$\\rightarrow$Run All).\n",
    "\n",
    "Make sure you fill in any place that says `YOUR CODE HERE`/`raise NotImplementedError` or \"YOUR ANSWER HERE\", as well as your name and collaborators below:"
   ]
  },
  {
   "cell_type": "code",
   "execution_count": null,
   "metadata": {
    "deletable": false,
    "editable": false,
    "nbgrader": {
     "cell_type": "code",
     "checksum": "74c586c0462426aa228537c2e3274be0",
     "grade": false,
     "grade_id": "cell-640ea433755b6057",
     "locked": true,
     "schema_version": 3,
     "solution": false,
     "task": false
    }
   },
   "outputs": [],
   "source": [
    "# Run this cell first\n",
    "\n",
    "import pandas as pd\n",
    "datadir = \"publicdata/\"\n",
    "indicators0 = pd.read_csv(datadir+\"indicators.csv\")\n",
    "indicators = pd.read_csv(datadir+\"indicators.csv\", index_col = 'code')\n",
    "topnames0 = pd.read_csv(datadir+\"topnames.csv\")\n",
    "topnames = pd.read_csv(datadir+\"topnames.csv\", index_col=['year','sex'])\n"
   ]
  },
  {
   "cell_type": "markdown",
   "metadata": {
    "deletable": false,
    "editable": false,
    "nbgrader": {
     "cell_type": "markdown",
     "checksum": "ffe2d28af9e7e3dc9cbb2f397dbe0ddd",
     "grade": false,
     "grade_id": "cell-550b5931d3f2317d",
     "locked": true,
     "schema_version": 3,
     "solution": false,
     "task": false
    }
   },
   "source": [
    "**Q1** It was a design decision to make slicing include its *end* row when `index` is used rather than position. Explain on a human level why this is a good design decision.\n"
   ]
  },
  {
   "cell_type": "markdown",
   "metadata": {
    "deletable": false,
    "nbgrader": {
     "cell_type": "markdown",
     "checksum": "8c66126d3b3802ef817648d5b892a3f2",
     "grade": true,
     "grade_id": "cell-2ec48337dbf3f8a2",
     "locked": false,
     "points": 1,
     "schema_version": 3,
     "solution": true,
     "task": false
    }
   },
   "source": [
    "YOUR ANSWER HERE"
   ]
  },
  {
   "cell_type": "markdown",
   "metadata": {
    "deletable": false,
    "editable": false,
    "nbgrader": {
     "cell_type": "markdown",
     "checksum": "c1ea85223330305d0be2229fde9aeaba",
     "grade": false,
     "grade_id": "cell-69d0059645325fa6",
     "locked": true,
     "schema_version": 3,
     "solution": false,
     "task": false
    }
   },
   "source": [
    "**Q2** In the generic syntax for a slice, it says *start:end[:stride]*, but the example in the text says `indicators['RUS','CHN',-1]`. Explain.\n",
    "\n"
   ]
  },
  {
   "cell_type": "markdown",
   "metadata": {
    "deletable": false,
    "nbgrader": {
     "cell_type": "markdown",
     "checksum": "5faca7f33e23389eac5a94c2e6b4ab7b",
     "grade": true,
     "grade_id": "cell-c3039faa6761125d",
     "locked": false,
     "points": 1,
     "schema_version": 3,
     "solution": true,
     "task": false
    }
   },
   "source": [
    "YOUR ANSWER HERE"
   ]
  },
  {
   "cell_type": "markdown",
   "metadata": {
    "deletable": false,
    "editable": false,
    "nbgrader": {
     "cell_type": "markdown",
     "checksum": "0c8a7045663dd2a4c85ca58116480049",
     "grade": false,
     "grade_id": "cell-c3c71ac7063dd3a1",
     "locked": true,
     "schema_version": 3,
     "solution": false,
     "task": false
    }
   },
   "source": [
    "**Q3** How does Python decide which countries should be included in a slice like `indicators['CHN':'RUS']`? Is it always alphabetical? What if someone wanted a slice by GDP?"
   ]
  },
  {
   "cell_type": "markdown",
   "metadata": {
    "deletable": false,
    "nbgrader": {
     "cell_type": "markdown",
     "checksum": "89ebd4f4397b13e4971a92eba8d5ef3c",
     "grade": true,
     "grade_id": "cell-cc89c90c7b446d75",
     "locked": false,
     "points": 1,
     "schema_version": 3,
     "solution": true,
     "task": false
    }
   },
   "source": [
    "YOUR ANSWER HERE"
   ]
  },
  {
   "cell_type": "markdown",
   "metadata": {
    "deletable": false,
    "editable": false,
    "nbgrader": {
     "cell_type": "markdown",
     "checksum": "c3dc1ad41af5341aae7c528c60f949f6",
     "grade": false,
     "grade_id": "cell-c623393c321213f4",
     "locked": true,
     "schema_version": 3,
     "solution": false,
     "task": false
    }
   },
   "source": [
    "**Q4** Would it ever make sense to introduce a *row* of booleans instead of a *column* of booleans?"
   ]
  },
  {
   "cell_type": "markdown",
   "metadata": {
    "deletable": false,
    "nbgrader": {
     "cell_type": "markdown",
     "checksum": "2f1af657eca2ba4eacd3a424151465f6",
     "grade": true,
     "grade_id": "cell-4633571697d55431",
     "locked": false,
     "points": 1,
     "schema_version": 3,
     "solution": true,
     "task": false
    }
   },
   "source": [
    "YOUR ANSWER HERE"
   ]
  },
  {
   "cell_type": "markdown",
   "metadata": {
    "deletable": false,
    "editable": false,
    "nbgrader": {
     "cell_type": "markdown",
     "checksum": "6417c19742a06a466ab8a929aaf45c9d",
     "grade": false,
     "grade_id": "cell-cc418b93e83f23ad",
     "locked": true,
     "schema_version": 3,
     "solution": false,
     "task": false
    }
   },
   "source": [
    "**Q5** How do you think Python extracts the relevant rows when you call `nlargest`? If you were designing `pandas` would you have it sort every time? Justify your answer."
   ]
  },
  {
   "cell_type": "markdown",
   "metadata": {
    "deletable": false,
    "nbgrader": {
     "cell_type": "markdown",
     "checksum": "400606f3991d28fc2cb23a961cbcea26",
     "grade": true,
     "grade_id": "cell-37550a3cc960cfcd",
     "locked": false,
     "points": 1,
     "schema_version": 3,
     "solution": true,
     "task": false
    }
   },
   "source": [
    "YOUR ANSWER HERE"
   ]
  },
  {
   "cell_type": "markdown",
   "metadata": {
    "deletable": false,
    "editable": false,
    "nbgrader": {
     "cell_type": "markdown",
     "checksum": "e58dbd6ce18561dfc241ecda23bc585e",
     "grade": false,
     "grade_id": "cell-0d26ef3c613804b7",
     "locked": true,
     "schema_version": 3,
     "solution": false,
     "task": false
    }
   },
   "source": [
    "**Q6** Write two lines of code that use `loc` to define: \n",
    "1. A DataFrame `df1` with the GDPs and populations for China and the USA, from `indicators`.\n",
    "2. A DataFrame `df2` with all rows of `topnames0` corresponding to male births after 2000."
   ]
  },
  {
   "cell_type": "code",
   "execution_count": null,
   "metadata": {
    "deletable": false,
    "nbgrader": {
     "cell_type": "code",
     "checksum": "f10406b74fd15c5217d6b6f8a684fa1c",
     "grade": false,
     "grade_id": "cell-4ca07052a4097ed4",
     "locked": false,
     "schema_version": 3,
     "solution": true,
     "task": false
    }
   },
   "outputs": [],
   "source": [
    "# YOUR CODE HERE\n",
    "raise NotImplementedError()\n",
    "print(len(df1))\n",
    "print(len(df2))\n"
   ]
  },
  {
   "cell_type": "code",
   "execution_count": null,
   "metadata": {
    "deletable": false,
    "editable": false,
    "nbgrader": {
     "cell_type": "code",
     "checksum": "29a866c1d1827f92f4f9519147fbe8e7",
     "grade": true,
     "grade_id": "cell-3c5e27cbe84c6dea",
     "locked": true,
     "points": 1,
     "schema_version": 3,
     "solution": false,
     "task": false
    }
   },
   "outputs": [],
   "source": [
    "assert len(df1) == 2\n",
    "assert len(df2) == 18\n",
    "assert df2['name'].nunique() == 3\n",
    "assert df1.shape == (2,2)"
   ]
  },
  {
   "cell_type": "markdown",
   "metadata": {
    "deletable": false,
    "editable": false,
    "nbgrader": {
     "cell_type": "markdown",
     "checksum": "736eb8282c66c2dbeb36b6cdbd8f9262",
     "grade": false,
     "grade_id": "cell-ecf5c16ed397d49f",
     "locked": true,
     "schema_version": 3,
     "solution": false,
     "task": false
    }
   },
   "source": [
    "**Q7** Write three lines of code that iterate over the rows of `topnames` and uses a list accumulator `L` to append counts of male births in years like 1950, 1960, etc. Use an if-statement."
   ]
  },
  {
   "cell_type": "code",
   "execution_count": null,
   "metadata": {
    "deletable": false,
    "nbgrader": {
     "cell_type": "code",
     "checksum": "748a7e9cd68870078640c204656a8bdd",
     "grade": false,
     "grade_id": "cell-6bf8c0cbc7f4fc29",
     "locked": false,
     "schema_version": 3,
     "solution": true,
     "task": false
    }
   },
   "outputs": [],
   "source": [
    "L = []\n",
    "# YOUR CODE HERE\n",
    "raise NotImplementedError()\n",
    "print(len(L))"
   ]
  },
  {
   "cell_type": "code",
   "execution_count": null,
   "metadata": {
    "deletable": false,
    "editable": false,
    "nbgrader": {
     "cell_type": "code",
     "checksum": "5d5d0da20176a0b7e94be5a969f6e632",
     "grade": true,
     "grade_id": "cell-c63815b11691a498",
     "locked": true,
     "points": 2,
     "schema_version": 3,
     "solution": false,
     "task": false
    }
   },
   "outputs": [],
   "source": [
    "assert len(L) == 12\n",
    "assert L[0] == 9829\n",
    "assert L[-2] == 34477"
   ]
  },
  {
   "cell_type": "markdown",
   "metadata": {
    "deletable": false,
    "editable": false,
    "nbgrader": {
     "cell_type": "markdown",
     "checksum": "462563d5c499ec8e0428bf338b8d6c85",
     "grade": false,
     "grade_id": "cell-1928df7878e10cb5",
     "locked": true,
     "schema_version": 3,
     "solution": false,
     "task": false
    }
   },
   "source": [
    "**Q8** Write two lines of code that iterate over the columns of `indicators` and appends the `max` of every column to an accumulator `K`, using the built-in `max` function. Note that, if the column is all strings, this will take the alphabetically last string."
   ]
  },
  {
   "cell_type": "code",
   "execution_count": null,
   "metadata": {
    "deletable": false,
    "nbgrader": {
     "cell_type": "code",
     "checksum": "4b9d3656f7d7bc52e4ef82aa1d69d458",
     "grade": false,
     "grade_id": "cell-9a44bee14555e78f",
     "locked": false,
     "schema_version": 3,
     "solution": true,
     "task": false
    }
   },
   "outputs": [],
   "source": [
    "K = []\n",
    "# YOUR CODE HERE\n",
    "raise NotImplementedError()\n",
    "print(len(K))\n",
    "print(K[1])"
   ]
  },
  {
   "cell_type": "code",
   "execution_count": null,
   "metadata": {
    "deletable": false,
    "editable": false,
    "nbgrader": {
     "cell_type": "code",
     "checksum": "1e7daf7831bd1d518ba5e211407322cb",
     "grade": true,
     "grade_id": "cell-412eb48086337514",
     "locked": true,
     "points": 2,
     "schema_version": 3,
     "solution": false,
     "task": false
    }
   },
   "outputs": [],
   "source": [
    "assert len(K) == 5\n",
    "assert K[0] == 'Vietnam'\n",
    "assert K[-2] == 78.54"
   ]
  },
  {
   "cell_type": "markdown",
   "metadata": {
    "deletable": false,
    "editable": false,
    "nbgrader": {
     "cell_type": "markdown",
     "checksum": "27ebbb11c6c5ab058f0783983f219d92",
     "grade": false,
     "grade_id": "cell-0d7869258ea9939a",
     "locked": true,
     "schema_version": 3,
     "solution": false,
     "task": false
    }
   },
   "source": [
    "**Q9** Give an example of an overloaded aggregation function/method, and an example of how to call it by either \"passing the Series as the argument to the function\" or by \"invoking a method (with no argument) on a Series object.\"\n"
   ]
  },
  {
   "cell_type": "markdown",
   "metadata": {
    "deletable": false,
    "nbgrader": {
     "cell_type": "markdown",
     "checksum": "4de55dd3423ce9be216d36aad4400e72",
     "grade": true,
     "grade_id": "cell-80bd77c4893de588",
     "locked": false,
     "points": 1,
     "schema_version": 3,
     "solution": true,
     "task": false
    }
   },
   "source": [
    "YOUR ANSWER HERE"
   ]
  },
  {
   "cell_type": "markdown",
   "metadata": {
    "deletable": false,
    "editable": false,
    "nbgrader": {
     "cell_type": "markdown",
     "checksum": "b544522d102fd5e8ae52ed75821000e5",
     "grade": false,
     "grade_id": "cell-0050e46508f15923",
     "locked": true,
     "schema_version": 3,
     "solution": false,
     "task": false
    }
   },
   "source": [
    "**Q10** At a high level, how do you think the method `value_count()` is implemented? Where have you seen this type of problem before?"
   ]
  },
  {
   "cell_type": "markdown",
   "metadata": {
    "deletable": false,
    "nbgrader": {
     "cell_type": "markdown",
     "checksum": "03e6dda0b3b0caba5c0f0b8148570dbf",
     "grade": true,
     "grade_id": "cell-58b04084f0533f81",
     "locked": false,
     "points": 1,
     "schema_version": 3,
     "solution": true,
     "task": false
    }
   },
   "source": [
    "YOUR ANSWER HERE"
   ]
  },
  {
   "cell_type": "markdown",
   "metadata": {
    "deletable": false,
    "editable": false,
    "nbgrader": {
     "cell_type": "markdown",
     "checksum": "58c4b5617b5a15695a889e60fd1bb19c",
     "grade": false,
     "grade_id": "cell-5ee515b67cd43eb8",
     "locked": true,
     "schema_version": 3,
     "solution": false,
     "task": false
    }
   },
   "source": [
    "**Q11** In the example that calls `max`, `median`, and `nunique`, what would happen if you called `nunique` on `topnames0` instead of `topnames0['name']`?"
   ]
  },
  {
   "cell_type": "markdown",
   "metadata": {
    "deletable": false,
    "nbgrader": {
     "cell_type": "markdown",
     "checksum": "68585304f9ecb32181b37cfa13175c6b",
     "grade": true,
     "grade_id": "cell-82d10769a97471fd",
     "locked": false,
     "points": 1,
     "schema_version": 3,
     "solution": true,
     "task": false
    }
   },
   "source": [
    "YOUR ANSWER HERE"
   ]
  },
  {
   "cell_type": "markdown",
   "metadata": {
    "deletable": false,
    "editable": false,
    "nbgrader": {
     "cell_type": "markdown",
     "checksum": "57c24ed74df1069e865651fc5e0252dd",
     "grade": false,
     "grade_id": "cell-d6f7cd97b222a241",
     "locked": true,
     "schema_version": 3,
     "solution": false,
     "task": false
    }
   },
   "source": [
    "**Q12** Give an example of a dictionary mapping from column names to lists of functions (rather than function names). Use more than just built-in functions. Hint: you don't need parentheses because you are not calling the functions."
   ]
  },
  {
   "cell_type": "markdown",
   "metadata": {
    "deletable": false,
    "nbgrader": {
     "cell_type": "markdown",
     "checksum": "a279cc4b5c3331b82c474d4f86073a45",
     "grade": true,
     "grade_id": "cell-c2414e4cc812197a",
     "locked": false,
     "points": 1,
     "schema_version": 3,
     "solution": true,
     "task": false
    }
   },
   "source": [
    "YOUR ANSWER HERE"
   ]
  },
  {
   "cell_type": "markdown",
   "metadata": {
    "deletable": false,
    "editable": false,
    "nbgrader": {
     "cell_type": "markdown",
     "checksum": "c9f06b07a2b0bc58d72f3b7a94950c20",
     "grade": false,
     "grade_id": "cell-c18b4fbc4694e5c5",
     "locked": true,
     "schema_version": 3,
     "solution": false,
     "task": false
    }
   },
   "source": [
    "**Q13** The command `indicators.max()` applies the function `max` to every column. Write one line of code to perform the `max` aggregation for all the columns except the `country` column, and save the results in `q13`. Use the `agg` method."
   ]
  },
  {
   "cell_type": "code",
   "execution_count": null,
   "metadata": {
    "deletable": false,
    "nbgrader": {
     "cell_type": "code",
     "checksum": "ec8f68d0c32a1d622b7a973780cc0ec7",
     "grade": false,
     "grade_id": "cell-f4faf2f9e1fe7dbe",
     "locked": false,
     "schema_version": 3,
     "solution": true,
     "task": false
    }
   },
   "outputs": [],
   "source": [
    "# YOUR CODE HERE\n",
    "raise NotImplementedError()\n",
    "print(len(q13))"
   ]
  },
  {
   "cell_type": "code",
   "execution_count": null,
   "metadata": {
    "deletable": false,
    "editable": false,
    "nbgrader": {
     "cell_type": "code",
     "checksum": "020e9662a86488e6a6522ce1ad3e24f5",
     "grade": true,
     "grade_id": "cell-094faca476024d26",
     "locked": true,
     "points": 1,
     "schema_version": 3,
     "solution": false,
     "task": false
    }
   },
   "outputs": [],
   "source": [
    "assert q13['pop'] == 1386.4\n",
    "assert q13['cell'] == 1469.88\n",
    "assert len(q13) == 4"
   ]
  },
  {
   "cell_type": "markdown",
   "metadata": {
    "deletable": false,
    "editable": false,
    "nbgrader": {
     "cell_type": "markdown",
     "checksum": "a13afd4797f1205304fe809e04358bd1",
     "grade": false,
     "grade_id": "cell-2a25dd45d3ff7b55",
     "locked": true,
     "schema_version": 3,
     "solution": false,
     "task": false
    }
   },
   "source": [
    "**Q14** Use `agg` to return a dataset with the max, min, mean, and median counts (in that order) in `topnames0` for males born in the 1960s. Save your answer in a variable called `q14`\n"
   ]
  },
  {
   "cell_type": "code",
   "execution_count": null,
   "metadata": {
    "deletable": false,
    "nbgrader": {
     "cell_type": "code",
     "checksum": "fefd60fb7f0b6a2df5c9eae0eb5526a4",
     "grade": false,
     "grade_id": "cell-05672656f5628019",
     "locked": false,
     "schema_version": 3,
     "solution": true,
     "task": false
    }
   },
   "outputs": [],
   "source": [
    "# YOUR CODE HERE\n",
    "raise NotImplementedError()\n",
    "q14.shape\n"
   ]
  },
  {
   "cell_type": "code",
   "execution_count": null,
   "metadata": {
    "deletable": false,
    "editable": false,
    "nbgrader": {
     "cell_type": "code",
     "checksum": "592011f99464c2ace9f05545bd58286f",
     "grade": true,
     "grade_id": "cell-072a1a71ed36afd7",
     "locked": true,
     "points": 1,
     "schema_version": 3,
     "solution": false,
     "task": false
    }
   },
   "outputs": [],
   "source": [
    "assert q14.shape == (4,1)\n",
    "assert q14['count'][1] == 79990.0"
   ]
  },
  {
   "cell_type": "markdown",
   "metadata": {
    "deletable": false,
    "editable": false,
    "nbgrader": {
     "cell_type": "markdown",
     "checksum": "73947339e31fcbc22c89d65e44f789c6",
     "grade": false,
     "grade_id": "cell-d719f3d64f345f52",
     "locked": true,
     "schema_version": 3,
     "solution": false,
     "task": false
    }
   },
   "source": [
    "**Q15** Write a sentence to explain why `len(groupby_name)` is 18, and why `len(groupby_year)` is 139, in the `topnames` example."
   ]
  },
  {
   "cell_type": "markdown",
   "metadata": {
    "deletable": false,
    "nbgrader": {
     "cell_type": "markdown",
     "checksum": "1c719c88ff8effe3c5feb42e9d45f0f3",
     "grade": true,
     "grade_id": "cell-8dd070d297d89cbf",
     "locked": false,
     "points": 1,
     "schema_version": 3,
     "solution": true,
     "task": false
    }
   },
   "source": [
    "YOUR ANSWER HERE"
   ]
  },
  {
   "cell_type": "markdown",
   "metadata": {
    "deletable": false,
    "editable": false,
    "nbgrader": {
     "cell_type": "markdown",
     "checksum": "261f248caf30948c1c85c7430855ad10",
     "grade": false,
     "grade_id": "cell-282cfb0e93d0be86",
     "locked": true,
     "schema_version": 3,
     "solution": false,
     "task": false
    }
   },
   "source": [
    "**Q16** Write a line of code that adds a new column `popSize` to `indicators` which takes value 'high' if `pop > 1000`, 'low' if `pop < 100`, and 'medium' otherwise. \n"
   ]
  },
  {
   "cell_type": "code",
   "execution_count": null,
   "metadata": {
    "deletable": false,
    "nbgrader": {
     "cell_type": "code",
     "checksum": "d4924b3fbae481b28404b03d5c58298b",
     "grade": false,
     "grade_id": "cell-82edbc196735cade",
     "locked": false,
     "schema_version": 3,
     "solution": true,
     "task": false
    }
   },
   "outputs": [],
   "source": [
    "# YOUR CODE HERE\n",
    "raise NotImplementedError()\n",
    "indicators.head()"
   ]
  },
  {
   "cell_type": "code",
   "execution_count": null,
   "metadata": {
    "deletable": false,
    "editable": false,
    "nbgrader": {
     "cell_type": "code",
     "checksum": "aaa1a15c31f94ba4eb92415b9bb59800",
     "grade": true,
     "grade_id": "cell-6619a20cd039698d",
     "locked": true,
     "points": 1,
     "schema_version": 3,
     "solution": false,
     "task": false
    }
   },
   "outputs": [],
   "source": [
    "assert len(indicators['popSize']) == 5\n",
    "assert indicators['popSize'][-1] == 'low'"
   ]
  },
  {
   "cell_type": "markdown",
   "metadata": {
    "deletable": false,
    "editable": false,
    "nbgrader": {
     "cell_type": "markdown",
     "checksum": "46fb4a63fc2752e215c0726239fd38a1",
     "grade": false,
     "grade_id": "cell-fc667aedbe252be9",
     "locked": true,
     "schema_version": 3,
     "solution": false,
     "task": false
    }
   },
   "source": [
    "**Q17** Building on the question above, use `groupby` to partition `indicators` by this new column `popSize`, storing the result as `groupby_pop`.\n"
   ]
  },
  {
   "cell_type": "code",
   "execution_count": null,
   "metadata": {
    "deletable": false,
    "nbgrader": {
     "cell_type": "code",
     "checksum": "e0e19fcb6f7bddbbd23fa9024df93429",
     "grade": false,
     "grade_id": "cell-4c9225bf393f3305",
     "locked": false,
     "schema_version": 3,
     "solution": true,
     "task": false
    }
   },
   "outputs": [],
   "source": [
    "# YOUR CODE HERE\n",
    "raise NotImplementedError()\n",
    "groupby_pop.head()\n"
   ]
  },
  {
   "cell_type": "code",
   "execution_count": null,
   "metadata": {
    "deletable": false,
    "editable": false,
    "nbgrader": {
     "cell_type": "code",
     "checksum": "029478f8dbbc9e3bb0f627718a5facab",
     "grade": true,
     "grade_id": "cell-4e7f934a0bd4dc4d",
     "locked": true,
     "points": 1,
     "schema_version": 3,
     "solution": false,
     "task": false
    }
   },
   "outputs": [],
   "source": [
    "assert len(groupby_pop) == 3\n",
    "assert len(groupby_pop['popSize']) == 3\n"
   ]
  },
  {
   "cell_type": "markdown",
   "metadata": {
    "deletable": false,
    "editable": false,
    "nbgrader": {
     "cell_type": "markdown",
     "checksum": "ee41a10dbd2985b0c38be19cc76f64de",
     "grade": false,
     "grade_id": "cell-dbfaa2dc62425b78",
     "locked": true,
     "schema_version": 3,
     "solution": false,
     "task": false
    }
   },
   "source": [
    "**Q19** Building on the question above, use `agg` to report the average population in each of the three groups."
   ]
  },
  {
   "cell_type": "code",
   "execution_count": null,
   "metadata": {
    "deletable": false,
    "nbgrader": {
     "cell_type": "code",
     "checksum": "3a006f240ea0889f77289b1b81c1ef5c",
     "grade": false,
     "grade_id": "cell-34a86c27dfc75f2f",
     "locked": false,
     "schema_version": 3,
     "solution": true,
     "task": false
    }
   },
   "outputs": [],
   "source": [
    "# YOUR CODE HERE\n",
    "raise NotImplementedError()\n",
    "q19"
   ]
  },
  {
   "cell_type": "code",
   "execution_count": null,
   "metadata": {
    "deletable": false,
    "editable": false,
    "nbgrader": {
     "cell_type": "code",
     "checksum": "b2fc66695a18e5e545c1e8444db27695",
     "grade": true,
     "grade_id": "cell-8dd2d1c7ed7b286f",
     "locked": true,
     "points": 1,
     "schema_version": 3,
     "solution": false,
     "task": false
    }
   },
   "outputs": [],
   "source": [
    "assert len(q19) == 3\n",
    "assert q19['pop']['mean'][1] == 94.6"
   ]
  },
  {
   "cell_type": "markdown",
   "metadata": {
    "deletable": false,
    "editable": false,
    "nbgrader": {
     "cell_type": "markdown",
     "checksum": "982e207106110b37e959b7f96a93e2ba",
     "grade": false,
     "grade_id": "cell-a7a03e9d5b01d4ad",
     "locked": true,
     "schema_version": 3,
     "solution": false,
     "task": false
    }
   },
   "source": [
    "**Q20** Write one line of code to sort `q19` by `mean`, storing the result in `indicatorsSorted`, and following the model where `namegroup` was sorted. Warning: pay attention to your `inplace` settings."
   ]
  },
  {
   "cell_type": "code",
   "execution_count": null,
   "metadata": {
    "deletable": false,
    "nbgrader": {
     "cell_type": "code",
     "checksum": "a211e54a35dc71fea7aeb30d73dc7a59",
     "grade": false,
     "grade_id": "cell-fd45be7b5c7d66c2",
     "locked": false,
     "schema_version": 3,
     "solution": true,
     "task": false
    }
   },
   "outputs": [],
   "source": [
    "# YOUR CODE HERE\n",
    "raise NotImplementedError()\n",
    "indicatorsSorted"
   ]
  },
  {
   "cell_type": "code",
   "execution_count": null,
   "metadata": {
    "deletable": false,
    "editable": false,
    "nbgrader": {
     "cell_type": "code",
     "checksum": "66c4b356932ffd0fc9cb195e9c8d4af9",
     "grade": true,
     "grade_id": "cell-915589165bf6a966",
     "locked": true,
     "points": 1,
     "schema_version": 3,
     "solution": false,
     "task": false
    }
   },
   "outputs": [],
   "source": [
    "assert indicatorsSorted['pop']['mean'][1] == 234.825"
   ]
  }
 ],
 "metadata": {
  "kernelspec": {
   "display_name": "Python 3",
   "language": "python",
   "name": "python3"
  },
  "language_info": {
   "codemirror_mode": {
    "name": "ipython",
    "version": 3
   },
   "file_extension": ".py",
   "mimetype": "text/x-python",
   "name": "python",
   "nbconvert_exporter": "python",
   "pygments_lexer": "ipython3",
   "version": "3.7.6"
  }
 },
 "nbformat": 4,
 "nbformat_minor": 2
}
