{
 "cells": [
  {
   "cell_type": "markdown",
   "metadata": {},
   "source": [
    "Before you turn this problem in, make sure everything runs as expected. First, **restart the kernel** (in the menubar, select Kernel$\\rightarrow$Restart) and then **run all cells** (in the menubar, select Cell$\\rightarrow$Run All).\n",
    "\n",
    "Make sure you fill in any place that says `YOUR CODE HERE`/`raise NotImplementedError` or \"YOUR ANSWER HERE\", as well as your name and collaborators below:"
   ]
  },
  {
   "cell_type": "markdown",
   "metadata": {},
   "source": [
    "# Programming and Data Acquisiton using HTTP"
   ]
  },
  {
   "cell_type": "code",
   "execution_count": null,
   "metadata": {},
   "outputs": [],
   "source": [
    "import os.path\n",
    "\n",
    "import requests\n",
    "import json\n",
    "import io\n",
    "import pandas as pd\n",
    "\n",
    "import importlib\n",
    "import util"
   ]
  },
  {
   "cell_type": "code",
   "execution_count": null,
   "metadata": {},
   "outputs": [],
   "source": [
    "importlib.reload(util)\n",
    "from util import *"
   ]
  },
  {
   "cell_type": "markdown",
   "metadata": {},
   "source": [
    "A collegue has placed a file `mystery3.dat` on a web server `personal.denison.edu` in the resource path `/~bressoud/datasystems/data`.  You know the data is textual, and is a tab-separated data collection where each line consists of:\n",
    "\n",
    "    male_name <tab> male_count <tab> female_name <tab> female_count\n",
    "    \n",
    "for the top 10 name applications of each sex to the US Social Security Administration for the year 2015.\n",
    "\n",
    "Using this common setup, answer the following questions."
   ]
  },
  {
   "cell_type": "markdown",
   "metadata": {},
   "source": [
    "**Q1** Unfortunately, your colleage is using an old IBM-based platform, and they did not tell you the encoding of the data.  You know that the encoding is almost certainly one of:\n",
    "\n",
    "- 'UTF-8'\n",
    "- 'UTF-16BE'\n",
    "- 'UTF-16LE'\n",
    "- 'cp037'\n",
    "- 'latin_1'\n",
    "\n",
    "In the code cell that follows, and using variable names for constant strings and the `buildURL()` utility function, fetch the resource and determine the correct encoding of the file.  Use the `.content`, `.encoding`, and `.text` attributes.  As a matter of good practice, you should assert that the status is 200 as a simple means of checking that you were able to retrieve the resource.\n",
    "\n",
    "By completion of the cell, you should assign the type of the content to `content_type` and the correct encoding to `content_enc`, and variable `content_body` should have reference the tab-separated lines of top baby names data."
   ]
  },
  {
   "cell_type": "code",
   "execution_count": null,
   "metadata": {
    "deletable": false,
    "nbgrader": {
     "cell_type": "code",
     "checksum": "5b8f3603f88db4efa2d6551a3d261744",
     "grade": false,
     "grade_id": "cell-4be125be19293b31",
     "locked": false,
     "schema_version": 3,
     "solution": true,
     "task": false
    }
   },
   "outputs": [],
   "source": [
    "# YOUR CODE HERE\n",
    "raise NotImplementedError()"
   ]
  },
  {
   "cell_type": "code",
   "execution_count": null,
   "metadata": {
    "deletable": false,
    "editable": false,
    "nbgrader": {
     "cell_type": "code",
     "checksum": "a0df155f793990e33c97b06103ea3974",
     "grade": true,
     "grade_id": "cell-bc92e0494e369467",
     "locked": true,
     "points": 1,
     "schema_version": 3,
     "solution": false,
     "task": false
    }
   },
   "outputs": [],
   "source": [
    "assert content_enc != None\n",
    "assert content_type != None\n",
    "assert content_body != None"
   ]
  },
  {
   "cell_type": "code",
   "execution_count": null,
   "metadata": {
    "deletable": false,
    "editable": false,
    "nbgrader": {
     "cell_type": "code",
     "checksum": "18c8045a8a0cbb3dae77b970a26a0e83",
     "grade": true,
     "grade_id": "cell-366abcc3eb792964",
     "locked": true,
     "points": 2,
     "schema_version": 3,
     "solution": false,
     "task": false
    }
   },
   "outputs": [],
   "source": []
  },
  {
   "cell_type": "markdown",
   "metadata": {},
   "source": [
    "**Q2** Using the technique shown in class to construct a file-like object from a **text string**, do so, and use this to create a dictionary of lists representation of the tab-separated data.  Note that there is no header line in the data.  We start you off with the basic dictionary structure. \n",
    "\n",
    "Use what we did in class, the documentation for the constructors to make file-like objects, and the chapter to figure out how to do this ... it would not be appropriate to ask the Slack channel for the incantations needed to do this."
   ]
  },
  {
   "cell_type": "code",
   "execution_count": null,
   "metadata": {
    "deletable": false,
    "nbgrader": {
     "cell_type": "code",
     "checksum": "359856d8cc287d0a6e695d943ecb7233",
     "grade": false,
     "grade_id": "cell-8e6f74a53dcbf0e9",
     "locked": false,
     "schema_version": 3,
     "solution": true,
     "task": false
    }
   },
   "outputs": [],
   "source": [
    "DoL = {'malename': [], 'malecount': [], 'femalename': [], 'femalecount': []}\n",
    "# YOUR CODE HERE\n",
    "raise NotImplementedError()"
   ]
  },
  {
   "cell_type": "code",
   "execution_count": null,
   "metadata": {
    "deletable": false,
    "editable": false,
    "nbgrader": {
     "cell_type": "code",
     "checksum": "48df8446b09e275fd597bb211d58ca75",
     "grade": true,
     "grade_id": "cell-52311628c4f73476",
     "locked": true,
     "points": 2,
     "schema_version": 3,
     "solution": false,
     "task": false
    }
   },
   "outputs": [],
   "source": [
    "assert len(DoL['malename']) == 10\n",
    "assert DoL['malename'][0] == 'Noah'\n",
    "assert DoL['femalename'][9] == 'Harper'"
   ]
  },
  {
   "cell_type": "code",
   "execution_count": null,
   "metadata": {
    "deletable": false,
    "editable": false,
    "nbgrader": {
     "cell_type": "code",
     "checksum": "943f19a53a35c60ed1538e9be35ad463",
     "grade": true,
     "grade_id": "cell-6378c904ae819202",
     "locked": true,
     "points": 1,
     "schema_version": 3,
     "solution": false,
     "task": false
    }
   },
   "outputs": [],
   "source": [
    "assert True"
   ]
  },
  {
   "cell_type": "markdown",
   "metadata": {},
   "source": [
    "**Q3** Finally, let's use `pandas` in our data acquisition.  Again create a file-like object for pandas and give it the file-like object in a call to `read_csv()`.  Name your resultant data frame `df`.  Make sure you have reasonable column names.\n",
    "\n",
    "Use what we did in class, the documentation for the constructors to make file-like objects, pandas documentation for the `read_csv()` function, and the chapter to figure out how to do this ... it would not be appropriate to ask the Slack channel for the incantations needed to do this, nor to post your own code or screenshot.\n",
    "\n",
    "https://pandas.pydata.org/pandas-docs/stable/reference/api/pandas.read_csv.html"
   ]
  },
  {
   "cell_type": "code",
   "execution_count": null,
   "metadata": {
    "deletable": false,
    "nbgrader": {
     "cell_type": "code",
     "checksum": "8c8b87a8f05a30bb0c7d126819b2f4b4",
     "grade": false,
     "grade_id": "cell-3c3d6bac2b935136",
     "locked": false,
     "schema_version": 3,
     "solution": true,
     "task": false
    }
   },
   "outputs": [],
   "source": [
    "# YOUR CODE HERE\n",
    "raise NotImplementedError()"
   ]
  },
  {
   "cell_type": "code",
   "execution_count": null,
   "metadata": {
    "deletable": false,
    "editable": false,
    "nbgrader": {
     "cell_type": "code",
     "checksum": "0d2f06b6a45254ba0b5940f1c6c471a6",
     "grade": true,
     "grade_id": "cell-f5595d0d045d8f6e",
     "locked": true,
     "points": 3,
     "schema_version": 3,
     "solution": false,
     "task": false
    }
   },
   "outputs": [],
   "source": [
    "assert len(df) == 10\n",
    "assert isinstance(df.columns[0],str)\n",
    "assert df.iloc[0,0] == 'Noah'\n",
    "assert df.iloc[0,1] == 19635\n",
    "assert df.iloc[9,2] == 'Harper'\n",
    "assert df.iloc[9,3] == 10295"
   ]
  },
  {
   "cell_type": "markdown",
   "metadata": {},
   "source": [
    "The COVID Tracking Project at `https://covidtracking.com` offers a basic API available in the resource subtree rooted at `/api`.\n",
    "\n",
    "Visit https://covidtracking.com/api for a web-browser friendly information page about the API.\n",
    "\n",
    "We are particularly interested in the JSON version of the current stats per state avaliable at resource path: `'/api/vi/states/current.json'`, and the historical state data available at resource path: `'/api/vi/states/daily.json'`."
   ]
  },
  {
   "cell_type": "markdown",
   "metadata": {},
   "source": [
    "**Q4** Retrieve the current stats for all 50 states and create an in-memory data structure from the JSON-formatted result.  \n",
    "\n",
    "As before, use variables for constant values and utilize the `buildURL()` utility function.\n",
    "\n",
    "Assign the resultant data structure to `data`."
   ]
  },
  {
   "cell_type": "code",
   "execution_count": null,
   "metadata": {
    "deletable": false,
    "nbgrader": {
     "cell_type": "code",
     "checksum": "9c03c9430eadd995f532c54dfe789153",
     "grade": false,
     "grade_id": "cell-0cf8c78cda0fd21b",
     "locked": false,
     "schema_version": 3,
     "solution": true,
     "task": false
    }
   },
   "outputs": [],
   "source": [
    "# YOUR CODE HERE\n",
    "raise NotImplementedError()"
   ]
  },
  {
   "cell_type": "code",
   "execution_count": null,
   "metadata": {
    "deletable": false,
    "editable": false,
    "nbgrader": {
     "cell_type": "code",
     "checksum": "51028a57fc8668cae71d6d7bdae3e783",
     "grade": true,
     "grade_id": "cell-788732e07f2c3037",
     "locked": true,
     "points": 3,
     "schema_version": 3,
     "solution": false,
     "task": false
    }
   },
   "outputs": [],
   "source": [
    "assert data\n",
    "assert data != None\n",
    "assert len(data) == 56\n",
    "assert isinstance(data, list)\n",
    "assert isinstance(data[0], dict)\n",
    "assert data[0]['state'] == 'AK'"
   ]
  },
  {
   "cell_type": "markdown",
   "metadata": {},
   "source": [
    "**Q5** Create a pandas dataframe of the result in which the state is the row index and the columns are `'positive'`, `'negative'`, `'hospitalized'`, and `'death'`.  Assign the result to `state_current`.  Hint: A List of Dictionaries is as simple as a Dictionary of Lists when creating a pandas DataFrame."
   ]
  },
  {
   "cell_type": "code",
   "execution_count": null,
   "metadata": {
    "deletable": false,
    "nbgrader": {
     "cell_type": "code",
     "checksum": "977d0c1d1dfca2a5eff6466c2f3ce3f6",
     "grade": false,
     "grade_id": "cell-d46d1d8b33222c4d",
     "locked": false,
     "schema_version": 3,
     "solution": true,
     "task": false
    }
   },
   "outputs": [],
   "source": [
    "# YOUR CODE HERE\n",
    "raise NotImplementedError()"
   ]
  },
  {
   "cell_type": "code",
   "execution_count": null,
   "metadata": {
    "deletable": false,
    "editable": false,
    "nbgrader": {
     "cell_type": "code",
     "checksum": "7be2a7b578f0d800ef7ceaf9a4c1c7a1",
     "grade": true,
     "grade_id": "cell-e3c38acd6c43e5a1",
     "locked": true,
     "points": 2,
     "schema_version": 3,
     "solution": false,
     "task": false
    }
   },
   "outputs": [],
   "source": [
    "assert len(state_current)\n",
    "assert 'OH' in state_current.index\n",
    "assert state_current.loc['OH', 'positive'] > 4000"
   ]
  },
  {
   "cell_type": "markdown",
   "metadata": {},
   "source": [
    "**Q6** According to the documentation on the web site:\n",
    "\n",
    "> If you want to filter the /api/states/daily you can add a query param like ?state=NY to only show cases in New York. Or /api/states/daily?state=NY&date=20200316 to show the result of a specific date. \n",
    "\n",
    "This means that our resource path includes both an endpoint for the resource, `/api/states/daily` immediately followed (i.e. with no intervening spaces) by a sequence of characters that begins with a `'?'` and is followed by *key*=*value* pairs, which are themselves separated by a `'&'` character.\n",
    "\n",
    "These are known by the term **query parameters** and are part of the full definition of a resource path.\n",
    "\n",
    "If we know that we want to specify filters for *both* a state and for a specfic date, we could use Python string formatting to build a resource path from a template string:\n",
    "\n",
    "    \"/api/states/daily?state={}&date={}\"\n",
    "    \n",
    "Write a function:\n",
    "\n",
    "    getCOVID(state, date)\n",
    "    \n",
    "that uses this technique to build a resource path, a url, and then issue the HTTP request.  The result will be JSON formatted, so you obtain the in-memory representation and then return the dictionary.  If the HTTP request returns something other than status code 200, return None from your function."
   ]
  },
  {
   "cell_type": "code",
   "execution_count": null,
   "metadata": {
    "deletable": false,
    "nbgrader": {
     "cell_type": "code",
     "checksum": "ae25bc732c0153bf14f9c9b384b73137",
     "grade": false,
     "grade_id": "cell-7bb15030a424f0b1",
     "locked": false,
     "schema_version": 3,
     "solution": true,
     "task": false
    }
   },
   "outputs": [],
   "source": [
    "# YOUR CODE HERE\n",
    "raise NotImplementedError()"
   ]
  },
  {
   "cell_type": "code",
   "execution_count": null,
   "metadata": {},
   "outputs": [],
   "source": [
    "getCOVID('OH', 20200407)"
   ]
  },
  {
   "cell_type": "code",
   "execution_count": null,
   "metadata": {
    "deletable": false,
    "editable": false,
    "nbgrader": {
     "cell_type": "code",
     "checksum": "64d7ab99091b0f3dcc5952c720845533",
     "grade": true,
     "grade_id": "cell-c6b929446eca1cc6",
     "locked": true,
     "points": 3,
     "schema_version": 3,
     "solution": false,
     "task": false
    }
   },
   "outputs": [],
   "source": [
    "result1 = getCOVID('OH', 20200406)\n",
    "assert isinstance(result1, dict)\n",
    "result2 = getCOVID('OH', '20200406')\n",
    "assert result2['positive'] == 4450"
   ]
  }
 ],
 "metadata": {
  "kernelspec": {
   "display_name": "Python 3",
   "language": "python",
   "name": "python3"
  },
  "language_info": {
   "codemirror_mode": {
    "name": "ipython",
    "version": 3
   },
   "file_extension": ".py",
   "mimetype": "text/x-python",
   "name": "python",
   "nbconvert_exporter": "python",
   "pygments_lexer": "ipython3",
   "version": "3.7.6"
  }
 },
 "nbformat": 4,
 "nbformat_minor": 4
}
