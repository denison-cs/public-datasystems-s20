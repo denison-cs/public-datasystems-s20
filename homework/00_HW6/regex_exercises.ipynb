{
 "cells": [
  {
   "cell_type": "markdown",
   "metadata": {},
   "source": [
    "Before you turn this problem in, make sure everything runs as expected. First, **restart the kernel** (in the menubar, select Kernel$\\rightarrow$Restart) and then **run all cells** (in the menubar, select Cell$\\rightarrow$Run All).\n",
    "\n",
    "Make sure you fill in any place that says `YOUR CODE HERE`/`raise NotImplementedError` or \"YOUR ANSWER HERE\", as well as your name and collaborators below:"
   ]
  },
  {
   "cell_type": "markdown",
   "metadata": {
    "deletable": false,
    "editable": false,
    "nbgrader": {
     "cell_type": "markdown",
     "checksum": "71bc93cb079dc7bc49de0a7af06fbd19",
     "grade": false,
     "grade_id": "cell-b91a4de2322f0bcc",
     "locked": true,
     "schema_version": 3,
     "solution": false,
     "task": false
    }
   },
   "source": [
    "**Q1:** Outside of the US, it is common to write dates in the form `year.month.day`, e.g., `2020.01.05` for `January 05, 2020`. Write a regular expression that matches a date written in this form."
   ]
  },
  {
   "cell_type": "markdown",
   "metadata": {
    "deletable": false,
    "nbgrader": {
     "cell_type": "markdown",
     "checksum": "a64b54af31673d1da82e9c7803c3ed7c",
     "grade": true,
     "grade_id": "cell-fb61093ef82e7e0c",
     "locked": false,
     "points": 2,
     "schema_version": 3,
     "solution": true,
     "task": false
    }
   },
   "source": [
    "YOUR ANSWER HERE"
   ]
  },
  {
   "cell_type": "markdown",
   "metadata": {
    "deletable": false,
    "editable": false,
    "nbgrader": {
     "cell_type": "markdown",
     "checksum": "c9723d100c7cce76b90e79af6d4e792f",
     "grade": false,
     "grade_id": "cell-b96d1d9d01365d6d",
     "locked": true,
     "schema_version": 3,
     "solution": false,
     "task": false
    }
   },
   "source": [
    "**Q2:** Write a regular expression pattern that will capture all triple double quote comments in a `target` comprised of Python source code.  Your pattern should handle cases where the comment is \"empty\" (i.e. there are no characters in between the beginning and ending triple double quotes), as well as handle cases where the triple double quote resides on a single line, and on multiple lines. You are capturing the comments, not the quotes themselves."
   ]
  },
  {
   "cell_type": "markdown",
   "metadata": {
    "deletable": false,
    "nbgrader": {
     "cell_type": "markdown",
     "checksum": "cdfbb94da82191fda516500fe6043124",
     "grade": true,
     "grade_id": "cell-ce4a88751f9b2cff",
     "locked": false,
     "points": 2,
     "schema_version": 3,
     "solution": true,
     "task": false
    }
   },
   "source": [
    "YOUR ANSWER HERE"
   ]
  },
  {
   "cell_type": "markdown",
   "metadata": {
    "deletable": false,
    "editable": false,
    "nbgrader": {
     "cell_type": "markdown",
     "checksum": "9da001cb622d1793f2f16f6ac2d55230",
     "grade": false,
     "grade_id": "cell-7d17066a69067a1d",
     "locked": true,
     "schema_version": 3,
     "solution": false,
     "task": false
    }
   },
   "source": [
    "**Q3:** Hexadecimal numbers are numbers that have 16 symbols, and the symbols use the digits 0 through 9 and then the first six alphabetic letters of A through F.  The letters may be in either upper or lower case, or some mix.  Numbers are written the same way as integers---with one or more of the 16 symbols in a sequence, with no intervening spaces or punctuation.\n",
    "\n",
    "Write a regular expression pattern that, if applied to a target, completely matches all hexadecimal numbers within that target."
   ]
  },
  {
   "cell_type": "markdown",
   "metadata": {
    "deletable": false,
    "nbgrader": {
     "cell_type": "markdown",
     "checksum": "553378389e05b254c83f56b6135f1878",
     "grade": true,
     "grade_id": "cell-a589e2c8229c9045",
     "locked": false,
     "points": 2,
     "schema_version": 3,
     "solution": true,
     "task": false
    }
   },
   "source": [
    "YOUR ANSWER HERE"
   ]
  },
  {
   "cell_type": "markdown",
   "metadata": {
    "deletable": false,
    "editable": false,
    "nbgrader": {
     "cell_type": "markdown",
     "checksum": "db24c8d7f2de86c55fc7933f89d940bc",
     "grade": false,
     "grade_id": "cell-32e65d6c745f85d6",
     "locked": true,
     "schema_version": 3,
     "solution": false,
     "task": false
    }
   },
   "source": [
    "**Q4:** Write a regular expression pattern that matches 9 digit telephone numbers. The numbers will be formatted as `dddsdddsdddd` or `(ddd)sdddsdddd`, where `d` is a digit and `s` is a separator (space, period, or dash), e.g., `555 555.5555` or `(555) 555-5555`. Match all three portions of the phone number---the area code, the three digit exchange prefix, and the four digit line number."
   ]
  },
  {
   "cell_type": "markdown",
   "metadata": {
    "deletable": false,
    "nbgrader": {
     "cell_type": "markdown",
     "checksum": "3557561c6b47a62d096f3e421919dabb",
     "grade": true,
     "grade_id": "cell-934571923c0344a7",
     "locked": false,
     "points": 2,
     "schema_version": 3,
     "solution": true,
     "task": false
    }
   },
   "source": [
    "YOUR ANSWER HERE"
   ]
  },
  {
   "cell_type": "markdown",
   "metadata": {
    "deletable": false,
    "editable": false,
    "nbgrader": {
     "cell_type": "markdown",
     "checksum": "0498bd703907d7e4b2480ec374a39efb",
     "grade": false,
     "grade_id": "cell-28abc7261a434c6b",
     "locked": true,
     "schema_version": 3,
     "solution": false,
     "task": false
    }
   },
   "source": [
    "**Q5:** An IP Address (using the standard IPv4) looks like `x.y.z.w` (where each of `x,y,z,w` are numbers in the range 0-255). For example, the smallest is `0.0.0.0`, the largest is `255.255.255.255`, and a generic one is `174.17.6.152`. If you Google \"What is my IP address?\" you can see yours. Write a regular expression to capture an IP address within a larger document, e.g., `\"Joe's IP address is 174.17.6.152, let's keep data on all his searches!\"`. Your regular expression should capture each of the four numbers separately. You can assume only numbers `0-255` are used, e.g., no one will try to sneak in an invalid IP address like `825.603.971.243`. However, notice that an IP address does not end with a period."
   ]
  },
  {
   "cell_type": "markdown",
   "metadata": {
    "deletable": false,
    "nbgrader": {
     "cell_type": "markdown",
     "checksum": "5c40f40a3afeb21b65e55b7a6fa967ad",
     "grade": true,
     "grade_id": "cell-d9c9e10d4e51cc74",
     "locked": false,
     "points": 2,
     "schema_version": 3,
     "solution": true,
     "task": false
    }
   },
   "source": [
    "YOUR ANSWER HERE"
   ]
  },
  {
   "cell_type": "markdown",
   "metadata": {
    "deletable": false,
    "editable": false,
    "nbgrader": {
     "cell_type": "markdown",
     "checksum": "2c73cfa4b3e8d2c3a2ae11104a517ccd",
     "grade": false,
     "grade_id": "cell-772c701f073a70f4",
     "locked": true,
     "schema_version": 3,
     "solution": false,
     "task": false
    }
   },
   "source": [
    "**Q6:** Write a regular expression to capture only correct IPv4 addresses, e.g., it should match `174.17.6.152` but not `825.603.971.243`. Capture each of the four numbers separately."
   ]
  },
  {
   "cell_type": "markdown",
   "metadata": {
    "deletable": false,
    "nbgrader": {
     "cell_type": "markdown",
     "checksum": "8b59af5f62cf3e85129d94cc28477bf7",
     "grade": true,
     "grade_id": "cell-c558c69e0a526e67",
     "locked": false,
     "points": 3,
     "schema_version": 3,
     "solution": true,
     "task": false
    }
   },
   "source": [
    "YOUR ANSWER HERE"
   ]
  },
  {
   "cell_type": "markdown",
   "metadata": {
    "deletable": false,
    "editable": false,
    "nbgrader": {
     "cell_type": "markdown",
     "checksum": "de618425f55ee27dde1625fd341025e7",
     "grade": false,
     "grade_id": "cell-a8351f26af8617d7",
     "locked": true,
     "schema_version": 3,
     "solution": false,
     "task": false
    }
   },
   "source": [
    "**Q7:** It is considered likely that the world will run out of IPv4 addresses, because there are so many devices using the internet. In order to have more IP addresses, a new protocol, IPv6, represents addresses as eight groups of four hexadecimal digits, separated by colons. For example, the smallest is `0000:0000:0000:0000:0000:0000:0000:0000`, the largest is `ffff:ffff:ffff:ffff:ffff:ffff:ffff:ffff`, and a generic one is `2003:0de8:81a3:0000:9f78:6a5c:1376:7b34`. Write a regular expression to match IPv6 addresses."
   ]
  },
  {
   "cell_type": "markdown",
   "metadata": {
    "deletable": false,
    "nbgrader": {
     "cell_type": "markdown",
     "checksum": "e22a020026ab4252a55a91b9dbe924bd",
     "grade": true,
     "grade_id": "cell-704fe8c251df0975",
     "locked": false,
     "points": 2,
     "schema_version": 3,
     "solution": true,
     "task": false
    }
   },
   "source": [
    "YOUR ANSWER HERE"
   ]
  }
 ],
 "metadata": {
  "kernelspec": {
   "display_name": "Python 3",
   "language": "python",
   "name": "python3"
  },
  "language_info": {
   "codemirror_mode": {
    "name": "ipython",
    "version": 3
   },
   "file_extension": ".py",
   "mimetype": "text/x-python",
   "name": "python",
   "nbconvert_exporter": "python",
   "pygments_lexer": "ipython3",
   "version": "3.7.6"
  }
 },
 "nbformat": 4,
 "nbformat_minor": 2
}
