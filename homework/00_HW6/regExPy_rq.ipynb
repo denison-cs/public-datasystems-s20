{
 "cells": [
  {
   "cell_type": "markdown",
   "metadata": {},
   "source": [
    "Before you turn this problem in, make sure everything runs as expected. First, **restart the kernel** (in the menubar, select Kernel$\\rightarrow$Restart) and then **run all cells** (in the menubar, select Cell$\\rightarrow$Run All).\n",
    "\n",
    "Make sure you fill in any place that says `YOUR CODE HERE`/`raise NotImplementedError` or \"YOUR ANSWER HERE\", as well as your name and collaborators below:"
   ]
  },
  {
   "cell_type": "markdown",
   "metadata": {
    "deletable": false,
    "editable": false,
    "nbgrader": {
     "cell_type": "markdown",
     "checksum": "0fa1db6261bd832ceeef332cc2f40d6d",
     "grade": false,
     "grade_id": "cell-4206364c11f2d718",
     "locked": true,
     "schema_version": 3,
     "solution": false,
     "task": false
    }
   },
   "source": [
    "**Q1** Why does `\\bh\\w*\\b` match `hills`? Give two other words it might match."
   ]
  },
  {
   "cell_type": "markdown",
   "metadata": {
    "deletable": false,
    "nbgrader": {
     "cell_type": "markdown",
     "checksum": "65e65d0d8753270073947dbdc01ab0a9",
     "grade": true,
     "grade_id": "cell-179a21bfd547ac138f",
     "locked": false,
     "points": 1,
     "schema_version": 3,
     "solution": true,
     "task": false
    }
   },
   "source": [
    "YOUR ANSWER HERE"
   ]
  },
  {
   "cell_type": "markdown",
   "metadata": {
    "deletable": false,
    "editable": false,
    "nbgrader": {
     "cell_type": "markdown",
     "checksum": "2e2b80c71cca83c32ee2c462b184a3c4",
     "grade": false,
     "grade_id": "cell-179a21bfd547c138fa",
     "locked": true,
     "schema_version": 3,
     "solution": false,
     "task": false
    }
   },
   "source": [
    "**Q2** Why precisely does \n",
    "\n",
    "\n",
    "    (\\w+).*of\\s*(\\w+).*\\$(\\d+\\.\\d{2})\n",
    "\n",
    "capture `Alice`, `oranges`, and `2.50` in the textbook's example?"
   ]
  },
  {
   "cell_type": "markdown",
   "metadata": {
    "deletable": false,
    "nbgrader": {
     "cell_type": "markdown",
     "checksum": "a6afe20fe394737ebb8e94a20763b651",
     "grade": true,
     "grade_id": "cell-179a21bfd547c138fb",
     "locked": false,
     "points": 1,
     "schema_version": 3,
     "solution": true,
     "task": false
    }
   },
   "source": [
    "YOUR ANSWER HERE"
   ]
  },
  {
   "cell_type": "markdown",
   "metadata": {
    "deletable": false,
    "editable": false,
    "nbgrader": {
     "cell_type": "markdown",
     "checksum": "9508ccd80b5ee691b8b2c00d25e92909",
     "grade": false,
     "grade_id": "cell-179a21bfd547c138fc",
     "locked": true,
     "schema_version": 3,
     "solution": false,
     "task": false
    }
   },
   "source": [
    "**Q3** Write a regular expression that captures the counts in sentences like `The most popular baby name in 2018 was Claire with 18101 births.`"
   ]
  },
  {
   "cell_type": "markdown",
   "metadata": {
    "deletable": false,
    "nbgrader": {
     "cell_type": "markdown",
     "checksum": "8f73051e4492ea58ba0b50cdfc3b4c8c",
     "grade": true,
     "grade_id": "cell-179a21bfd547c138fd",
     "locked": false,
     "points": 1,
     "schema_version": 3,
     "solution": true,
     "task": false
    }
   },
   "source": [
    "YOUR ANSWER HERE"
   ]
  },
  {
   "cell_type": "markdown",
   "metadata": {
    "deletable": false,
    "editable": false,
    "nbgrader": {
     "cell_type": "markdown",
     "checksum": "def7cf3878ca2c6ef41f00a4a332d3d5",
     "grade": false,
     "grade_id": "cell-179a21bfd547c138fe",
     "locked": true,
     "schema_version": 3,
     "solution": false,
     "task": false
    }
   },
   "source": [
    "**Q4** Run the following code, and then explain why only the second invocation of `match` results in a match.\n",
    "\n",
    "    import re\n",
    "    print(re.match(r'From\\s+', 'Fromage is delicious'))\n",
    "    print(re.match(r'From\\s+', 'From Russia with Love'))\n"
   ]
  },
  {
   "cell_type": "markdown",
   "metadata": {
    "deletable": false,
    "nbgrader": {
     "cell_type": "markdown",
     "checksum": "3b290d05f2f5e0f3a6a1ebfa26068f9d",
     "grade": true,
     "grade_id": "cell-1e1e1a83c7fd2f1919f",
     "locked": false,
     "points": 1,
     "schema_version": 3,
     "solution": true,
     "task": false
    }
   },
   "source": [
    "YOUR ANSWER HERE"
   ]
  },
  {
   "cell_type": "markdown",
   "metadata": {
    "deletable": false,
    "editable": false,
    "nbgrader": {
     "cell_type": "markdown",
     "checksum": "c1fcc41dbcc5c3be1bd0bffb26320bb8",
     "grade": false,
     "grade_id": "cell-1e1e1a83c7dg21919f",
     "locked": true,
     "schema_version": 3,
     "solution": false,
     "task": false
    }
   },
   "source": [
    "**Q5** Run the following code, and then explain why the first print results in `None`.\n",
    "\n",
    "\n",
    "    import re\n",
    "    print(re.match('age', 'Fromage is delicious'))\n",
    "    print(re.search('age', 'Fromage is delicious'))\n",
    "\n"
   ]
  },
  {
   "cell_type": "markdown",
   "metadata": {
    "deletable": false,
    "nbgrader": {
     "cell_type": "markdown",
     "checksum": "178aa79951612d78e77b2d262ac57524",
     "grade": true,
     "grade_id": "cell-1e1e1a83c7dh21919f",
     "locked": false,
     "points": 1,
     "schema_version": 3,
     "solution": true,
     "task": false
    }
   },
   "source": [
    "YOUR ANSWER HERE"
   ]
  },
  {
   "cell_type": "markdown",
   "metadata": {
    "deletable": false,
    "editable": false,
    "nbgrader": {
     "cell_type": "markdown",
     "checksum": "712692d7453f661548c20e1b5c4b8c2d",
     "grade": false,
     "grade_id": "cell-1e1e1a83c7dd21919f",
     "locked": true,
     "schema_version": 3,
     "solution": false,
     "task": false
    }
   },
   "source": [
    "**Q6** Run the following code, and then explain the difference between what `findall` and `finditer` return.\n",
    "\n",
    "\n",
    "    import re\n",
    "    print(re.findall('\\d{2}', 'An amazing thing happened Thursday May 13 at 17:11:10 1997'))\n",
    "    print(re.finditer('\\d{2}', 'An amazing thing happened Thursday May 13 at 17:11:10 1997'))\n",
    "\n",
    "Hint: it might help to run the following code\n",
    "\n",
    "    iter = re.finditer('\\d{2}', 'An amazing thing happened Thursday May 13 at 17:11:10 1997')\n",
    "    for match in iter:\n",
    "        print(match)\n",
    "    "
   ]
  },
  {
   "cell_type": "markdown",
   "metadata": {
    "deletable": false,
    "nbgrader": {
     "cell_type": "markdown",
     "checksum": "1d190236aa844bdea7b0e16882a3859d",
     "grade": true,
     "grade_id": "cell-1e1e1a83c7d21a919f",
     "locked": false,
     "points": 1,
     "schema_version": 3,
     "solution": true,
     "task": false
    }
   },
   "source": [
    "YOUR ANSWER HERE"
   ]
  },
  {
   "cell_type": "markdown",
   "metadata": {
    "deletable": false,
    "editable": false,
    "nbgrader": {
     "cell_type": "markdown",
     "checksum": "cc66d81942c17d91b71c812af6100328",
     "grade": false,
     "grade_id": "cell-1e1e1a83c7sd21919f",
     "locked": true,
     "schema_version": 3,
     "solution": false,
     "task": false
    }
   },
   "source": [
    "**Q7** Explain (or give code) how to use `finditer`, `Match`, and `Match.start` to find all indices where a given `char` appears in a string `s`\n"
   ]
  },
  {
   "cell_type": "markdown",
   "metadata": {
    "deletable": false,
    "nbgrader": {
     "cell_type": "markdown",
     "checksum": "0a44985709068c49b8a8f73ebd8ab3fd",
     "grade": true,
     "grade_id": "cell-1e1e1a83c7d2d1919f",
     "locked": false,
     "points": 1,
     "schema_version": 3,
     "solution": true,
     "task": false
    }
   },
   "source": [
    "YOUR ANSWER HERE"
   ]
  }
 ],
 "metadata": {
  "kernelspec": {
   "display_name": "Python 3",
   "language": "python",
   "name": "python3"
  },
  "language_info": {
   "codemirror_mode": {
    "name": "ipython",
    "version": 3
   },
   "file_extension": ".py",
   "mimetype": "text/x-python",
   "name": "python",
   "nbconvert_exporter": "python",
   "pygments_lexer": "ipython3",
   "version": "3.7.6"
  }
 },
 "nbformat": 4,
 "nbformat_minor": 2
}
