{
 "cells": [
  {
   "cell_type": "markdown",
   "metadata": {},
   "source": [
    "Before you turn this problem in, make sure everything runs as expected. First, **restart the kernel** (in the menubar, select Kernel$\\rightarrow$Restart) and then **run all cells** (in the menubar, select Cell$\\rightarrow$Run All).\n",
    "\n",
    "Make sure you fill in any place that says `YOUR CODE HERE`/`raise NotImplementedError` or \"YOUR ANSWER HERE\", as well as your name and collaborators below:"
   ]
  },
  {
   "cell_type": "markdown",
   "metadata": {
    "deletable": false,
    "editable": false,
    "nbgrader": {
     "cell_type": "markdown",
     "checksum": "6d8a41af3a07539c7dbe10b488d42f12",
     "grade": false,
     "grade_id": "cell-0632f508bcd3cc7a",
     "locked": true,
     "schema_version": 3,
     "solution": false,
     "task": false
    }
   },
   "source": [
    "**Q1** Give an example of a time when you have extracted data from text, e.g., reading in a txt file and producing lists of data from it. \n",
    "\n"
   ]
  },
  {
   "cell_type": "markdown",
   "metadata": {
    "deletable": false,
    "nbgrader": {
     "cell_type": "markdown",
     "checksum": "09c2e77d9f2a4b4602110e56b6e9f4ca",
     "grade": true,
     "grade_id": "cell-5279d515c97deddf",
     "locked": false,
     "points": 1,
     "schema_version": 3,
     "solution": true,
     "task": false
    }
   },
   "source": [
    "YOUR ANSWER HERE"
   ]
  },
  {
   "cell_type": "markdown",
   "metadata": {
    "deletable": false,
    "editable": false,
    "nbgrader": {
     "cell_type": "markdown",
     "checksum": "c745be2b954b4625250aa87fb3269a7c",
     "grade": false,
     "grade_id": "cell-dfc14f808ce7ffb8",
     "locked": true,
     "schema_version": 3,
     "solution": false,
     "task": false
    }
   },
   "source": [
    "**Q2** Give a real-world application or question where you would want to automate the process of extracting data from tweets, social media, blog posts, web servers, or emails."
   ]
  },
  {
   "cell_type": "markdown",
   "metadata": {
    "deletable": false,
    "nbgrader": {
     "cell_type": "markdown",
     "checksum": "aaed7af53523795acca792adf46d5bab",
     "grade": true,
     "grade_id": "cell-c89f5257c0d136f9",
     "locked": false,
     "points": 1,
     "schema_version": 3,
     "solution": true,
     "task": false
    }
   },
   "source": [
    "YOUR ANSWER HERE"
   ]
  },
  {
   "cell_type": "markdown",
   "metadata": {
    "deletable": false,
    "editable": false,
    "nbgrader": {
     "cell_type": "markdown",
     "checksum": "17fde6797876c50606a260b4ce6b0454",
     "grade": false,
     "grade_id": "cell-03a566d6447a0b09",
     "locked": true,
     "schema_version": 3,
     "solution": false,
     "task": false
    }
   },
   "source": [
    "**Q3** What Python string slice of \n",
    "   \n",
    "```\n",
    "\"Alice says the price of oranges is $2.50\\nBob says the price of apples is $1.75\"\n",
    "```\n",
    "\n",
    "contains the character sequence \"2.50\"?\n",
    "\n"
   ]
  },
  {
   "cell_type": "markdown",
   "metadata": {
    "deletable": false,
    "nbgrader": {
     "cell_type": "markdown",
     "checksum": "5343598fa93721d92e70532b9323d100",
     "grade": true,
     "grade_id": "cell-c5c4581dda2c9dba",
     "locked": false,
     "points": 1,
     "schema_version": 3,
     "solution": true,
     "task": false
    }
   },
   "source": [
    "YOUR ANSWER HERE"
   ]
  },
  {
   "cell_type": "markdown",
   "metadata": {
    "deletable": false,
    "editable": false,
    "nbgrader": {
     "cell_type": "markdown",
     "checksum": "2f650bb993b335a6b77346ff829822c7",
     "grade": false,
     "grade_id": "cell-c261fe8ae2035c52",
     "locked": true,
     "schema_version": 3,
     "solution": false,
     "task": false
    }
   },
   "source": [
    "**Q4** A pattern can be as simple as a single character, and a target can be as simple as a string. Give an example of a target (at least 20 characters long) and a pattern with three matches in the target. Choose an example different from the book.\n"
   ]
  },
  {
   "cell_type": "markdown",
   "metadata": {
    "deletable": false,
    "nbgrader": {
     "cell_type": "markdown",
     "checksum": "0d9efc0010f605397d1860ef2cec2ea3",
     "grade": true,
     "grade_id": "cell-227ab26b309740d0",
     "locked": false,
     "points": 1,
     "schema_version": 3,
     "solution": true,
     "task": false
    }
   },
   "source": [
    "YOUR ANSWER HERE"
   ]
  },
  {
   "cell_type": "markdown",
   "metadata": {
    "deletable": false,
    "editable": false,
    "nbgrader": {
     "cell_type": "markdown",
     "checksum": "be74d8d0ab3a7d04ffd7e9f570f56639",
     "grade": false,
     "grade_id": "cell-328d3c95d2045de3",
     "locked": true,
     "schema_version": 3,
     "solution": false,
     "task": false
    }
   },
   "source": [
    "**Q5** Open Google Chrome, navigate to any webpage (e.g., www.google.com), then in the top menu click `View -> Developer -> View Source`. If you don't have Google Chrome, you can do this in many other web browsers (and you can use Google to learn how). It may simply work to navigate to view-source:https://www.google.com/ \n",
    "\n",
    "Look at the text it shows you and try to spot data inside that text. Write 2-3 sentences explaining in high-level terms how regular expressions could be used to extract that data."
   ]
  },
  {
   "cell_type": "markdown",
   "metadata": {
    "deletable": false,
    "nbgrader": {
     "cell_type": "markdown",
     "checksum": "fac90414a3dfa8266f536b72c5529e12",
     "grade": true,
     "grade_id": "cell-59714edaa366780c",
     "locked": false,
     "points": 1,
     "schema_version": 3,
     "solution": true,
     "task": false
    }
   },
   "source": [
    "YOUR ANSWER HERE"
   ]
  },
  {
   "cell_type": "markdown",
   "metadata": {
    "deletable": false,
    "editable": false,
    "nbgrader": {
     "cell_type": "markdown",
     "checksum": "587b98b934189f0fb1d855782749ac1c",
     "grade": false,
     "grade_id": "cell-81cc8a52f4e2c56c",
     "locked": true,
     "schema_version": 3,
     "solution": false,
     "task": false
    }
   },
   "source": [
    "**Q6** Give a real-world scenario where you would be searching a target for a pattern made of both literals and metacharacters. Choose an example different from any in the book."
   ]
  },
  {
   "cell_type": "markdown",
   "metadata": {
    "deletable": false,
    "nbgrader": {
     "cell_type": "markdown",
     "checksum": "6321af50f806818fa63173a534d4ccd7",
     "grade": true,
     "grade_id": "cell-6ebc844c8689d63d",
     "locked": false,
     "points": 1,
     "schema_version": 3,
     "solution": true,
     "task": false
    }
   },
   "source": [
    "YOUR ANSWER HERE"
   ]
  },
  {
   "cell_type": "markdown",
   "metadata": {
    "deletable": false,
    "editable": false,
    "nbgrader": {
     "cell_type": "markdown",
     "checksum": "f3b837db6d6b4ead47b13d11782f2f6e",
     "grade": false,
     "grade_id": "cell-9ce3181bb7760bda",
     "locked": true,
     "schema_version": 3,
     "solution": false,
     "task": false
    }
   },
   "source": [
    "**Q7** Explain why the pattern \\d{2} against the target $101.20 matches 10 and 20."
   ]
  },
  {
   "cell_type": "markdown",
   "metadata": {
    "deletable": false,
    "nbgrader": {
     "cell_type": "markdown",
     "checksum": "be10286b6c622c89322ac934b9e14977",
     "grade": true,
     "grade_id": "cell-22b646ef4b5001dd",
     "locked": false,
     "points": 1,
     "schema_version": 3,
     "solution": true,
     "task": false
    }
   },
   "source": [
    "YOUR ANSWER HERE"
   ]
  },
  {
   "cell_type": "markdown",
   "metadata": {
    "deletable": false,
    "editable": false,
    "nbgrader": {
     "cell_type": "markdown",
     "checksum": "d4dedf9c90a1c65c1767e1a14847fce9",
     "grade": false,
     "grade_id": "cell-7c917130d29606ab",
     "locked": true,
     "schema_version": 3,
     "solution": false,
     "task": false
    }
   },
   "source": [
    "**Q8** In the target `Hahahahahaha`, how many matches are there for the pattern `hah` and why?"
   ]
  },
  {
   "cell_type": "markdown",
   "metadata": {
    "deletable": false,
    "nbgrader": {
     "cell_type": "markdown",
     "checksum": "ec63415d0b40604f12a976fc7334de5f",
     "grade": true,
     "grade_id": "cell-9c739c4a3c040bd5",
     "locked": false,
     "points": 1,
     "schema_version": 3,
     "solution": true,
     "task": false
    }
   },
   "source": [
    "YOUR ANSWER HERE"
   ]
  },
  {
   "cell_type": "markdown",
   "metadata": {
    "deletable": false,
    "editable": false,
    "nbgrader": {
     "cell_type": "markdown",
     "checksum": "51e6e9ca5bcacdc0115fb7159bfcbbba",
     "grade": false,
     "grade_id": "cell-4fc8f333798aa987",
     "locked": true,
     "schema_version": 3,
     "solution": false,
     "task": false
    }
   },
   "source": [
    "**Q9** True or False: the pattern `[David]` matches exactly the occurrences of `David` as a substring of the target. Justify your answer."
   ]
  },
  {
   "cell_type": "markdown",
   "metadata": {
    "deletable": false,
    "nbgrader": {
     "cell_type": "markdown",
     "checksum": "fddf6b890517c0f3fb6d0e64e3ce5c03",
     "grade": true,
     "grade_id": "cell-8f86075342ef4790",
     "locked": false,
     "points": 1,
     "schema_version": 3,
     "solution": true,
     "task": false
    }
   },
   "source": [
    "YOUR ANSWER HERE"
   ]
  },
  {
   "cell_type": "markdown",
   "metadata": {
    "deletable": false,
    "editable": false,
    "nbgrader": {
     "cell_type": "markdown",
     "checksum": "0b358b32be5ad8a925fe925553ba536e",
     "grade": false,
     "grade_id": "cell-b46c1b053b68c992",
     "locked": true,
     "schema_version": 3,
     "solution": false,
     "task": false
    }
   },
   "source": [
    "**Q10** True or False: the pattern `[0-90]` matches `57`. Justify your answer."
   ]
  },
  {
   "cell_type": "markdown",
   "metadata": {
    "deletable": false,
    "nbgrader": {
     "cell_type": "markdown",
     "checksum": "4572702e834df9b15f9435a734f648b2",
     "grade": true,
     "grade_id": "cell-cafc673eef7526d8",
     "locked": false,
     "points": 1,
     "schema_version": 3,
     "solution": true,
     "task": false
    }
   },
   "source": [
    "YOUR ANSWER HERE"
   ]
  }
 ],
 "metadata": {
  "kernelspec": {
   "display_name": "Python 3",
   "language": "python",
   "name": "python3"
  },
  "language_info": {
   "codemirror_mode": {
    "name": "ipython",
    "version": 3
   },
   "file_extension": ".py",
   "mimetype": "text/x-python",
   "name": "python",
   "nbconvert_exporter": "python",
   "pygments_lexer": "ipython3",
   "version": "3.7.4"
  }
 },
 "nbformat": 4,
 "nbformat_minor": 2
}
