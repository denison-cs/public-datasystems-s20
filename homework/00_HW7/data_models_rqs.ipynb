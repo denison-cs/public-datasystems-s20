{
 "cells": [
  {
   "cell_type": "markdown",
   "metadata": {},
   "source": [
    "Before you turn this problem in, make sure everything runs as expected. First, **restart the kernel** (in the menubar, select Kernel$\\rightarrow$Restart) and then **run all cells** (in the menubar, select Cell$\\rightarrow$Run All).\n",
    "\n",
    "Make sure you fill in any place that says `YOUR CODE HERE`/`raise NotImplementedError` or \"YOUR ANSWER HERE\", as well as your name and collaborators below:"
   ]
  },
  {
   "cell_type": "markdown",
   "metadata": {
    "deletable": false,
    "editable": false,
    "nbgrader": {
     "cell_type": "markdown",
     "checksum": "3a5edf22a4541e3fb22d323e2e487d08",
     "grade": false,
     "grade_id": "cell-6a445115cafe69cd",
     "locked": true,
     "schema_version": 3,
     "solution": false,
     "task": false
    }
   },
   "source": [
    "**Q1** Give an example of a *procedural mutation* of a dataset. Hint: think of a time you learned or programmed an algorithm to change the data."
   ]
  },
  {
   "cell_type": "markdown",
   "metadata": {
    "deletable": false,
    "nbgrader": {
     "cell_type": "markdown",
     "checksum": "2da92e72520c65f56fe58fcd46543691",
     "grade": true,
     "grade_id": "cell-8c5712ab6eb0febe",
     "locked": false,
     "points": 1,
     "schema_version": 3,
     "solution": true,
     "task": false
    }
   },
   "source": [
    "YOUR ANSWER HERE"
   ]
  },
  {
   "cell_type": "markdown",
   "metadata": {
    "deletable": false,
    "editable": false,
    "nbgrader": {
     "cell_type": "markdown",
     "checksum": "55578e3be1eb4cd8aa8cefe75d29226b",
     "grade": false,
     "grade_id": "cell-27e3f8ddf7d363de",
     "locked": true,
     "schema_version": 3,
     "solution": false,
     "task": false
    }
   },
   "source": [
    "**Q2** List the three types of constraints mentioned in the reading, and an example of each (different from the examples in the reading)."
   ]
  },
  {
   "cell_type": "markdown",
   "metadata": {
    "deletable": false,
    "nbgrader": {
     "cell_type": "markdown",
     "checksum": "7d2f7bedc476e1de43e5b53eef001351",
     "grade": true,
     "grade_id": "cell-bd90007013451745",
     "locked": false,
     "points": 1,
     "schema_version": 3,
     "solution": true,
     "task": false
    }
   },
   "source": [
    "YOUR ANSWER HERE"
   ]
  },
  {
   "cell_type": "markdown",
   "metadata": {
    "deletable": false,
    "editable": false,
    "nbgrader": {
     "cell_type": "markdown",
     "checksum": "ffa1be16c975c84b6d527f9210a45506",
     "grade": false,
     "grade_id": "cell-a443db01d31426ea",
     "locked": true,
     "schema_version": 3,
     "solution": false,
     "task": false
    }
   },
   "source": [
    "**Q3** List the tabular operations from the reading and describe examples of each, referring back to earlier chapters if necessary. Go beyond the words in the text, e.g., instead of \"aggregation operations\" you could discuss a time when you needed to compute the sum of all entries in a column of data."
   ]
  },
  {
   "cell_type": "markdown",
   "metadata": {
    "deletable": false,
    "nbgrader": {
     "cell_type": "markdown",
     "checksum": "8869c8985a161a58029c63ed909ca3cf",
     "grade": true,
     "grade_id": "cell-8f989c2bf5049b33",
     "locked": false,
     "points": 1,
     "schema_version": 3,
     "solution": true,
     "task": false
    }
   },
   "source": [
    "YOUR ANSWER HERE"
   ]
  },
  {
   "cell_type": "markdown",
   "metadata": {
    "deletable": false,
    "editable": false,
    "nbgrader": {
     "cell_type": "markdown",
     "checksum": "c71dc3daa8290652dd80b880ce7022c5",
     "grade": false,
     "grade_id": "cell-bd63597d6af6466e",
     "locked": true,
     "schema_version": 3,
     "solution": false,
     "task": false
    }
   },
   "source": [
    "**Q4** List the four tenets of tabular data, and describe examples of what it would look like to violate each one.\n"
   ]
  },
  {
   "cell_type": "markdown",
   "metadata": {
    "deletable": false,
    "nbgrader": {
     "cell_type": "markdown",
     "checksum": "5b2e0d0b0e1896f1a2bdeb20453f001f",
     "grade": true,
     "grade_id": "cell-2c23b3b582571a7b",
     "locked": false,
     "points": 1,
     "schema_version": 3,
     "solution": true,
     "task": false
    }
   },
   "source": [
    "YOUR ANSWER HERE"
   ]
  },
  {
   "cell_type": "markdown",
   "metadata": {
    "deletable": false,
    "editable": false,
    "nbgrader": {
     "cell_type": "markdown",
     "checksum": "235ec0412977addb85ca08eac747a563",
     "grade": false,
     "grade_id": "cell-cf1bcb42a6ab97e2",
     "locked": true,
     "schema_version": 3,
     "solution": false,
     "task": false
    }
   },
   "source": [
    "**Q5** Describe an example of a database schema to store information about people, their homes, and their car registration information. For each table, describe at least three attributes, and describe the links between the tables."
   ]
  },
  {
   "cell_type": "markdown",
   "metadata": {
    "deletable": false,
    "nbgrader": {
     "cell_type": "markdown",
     "checksum": "e47ceda83090769b24ccbb837ee99e4b",
     "grade": true,
     "grade_id": "cell-c1009479ee51b236",
     "locked": false,
     "points": 1,
     "schema_version": 3,
     "solution": true,
     "task": false
    }
   },
   "source": [
    "YOUR ANSWER HERE"
   ]
  },
  {
   "cell_type": "markdown",
   "metadata": {
    "deletable": false,
    "editable": false,
    "nbgrader": {
     "cell_type": "markdown",
     "checksum": "45f2b6e2a5343a22cc4c373fe75f9db7",
     "grade": false,
     "grade_id": "cell-f115c93e81f07099",
     "locked": true,
     "schema_version": 3,
     "solution": false,
     "task": false
    }
   },
   "source": [
    "**Q6** List the relational model operations and give an example of each. If necessary, you can google \"database join,\" or peek ahead to future chapters."
   ]
  },
  {
   "cell_type": "markdown",
   "metadata": {
    "deletable": false,
    "nbgrader": {
     "cell_type": "markdown",
     "checksum": "c2afdd304825e6aea4486e4b92c5f6ca",
     "grade": true,
     "grade_id": "cell-1147cfbd23d928a7",
     "locked": false,
     "points": 1,
     "schema_version": 3,
     "solution": true,
     "task": false
    }
   },
   "source": [
    "YOUR ANSWER HERE"
   ]
  },
  {
   "cell_type": "markdown",
   "metadata": {
    "deletable": false,
    "editable": false,
    "nbgrader": {
     "cell_type": "markdown",
     "checksum": "8205c4981642a513f6af3200b1e53c7c",
     "grade": false,
     "grade_id": "cell-6cbf25be8cb7ca97",
     "locked": true,
     "schema_version": 3,
     "solution": false,
     "task": false
    }
   },
   "source": [
    "**Q7** Give an example of a database constraint. Hint: think about the example in the text, and \"uniqueness.\""
   ]
  },
  {
   "cell_type": "markdown",
   "metadata": {
    "deletable": false,
    "nbgrader": {
     "cell_type": "markdown",
     "checksum": "aba4ea0225281863737538025591aa0e",
     "grade": true,
     "grade_id": "cell-0f6959d4e01a2352",
     "locked": false,
     "points": 1,
     "schema_version": 3,
     "solution": true,
     "task": false
    }
   },
   "source": [
    "YOUR ANSWER HERE"
   ]
  },
  {
   "cell_type": "markdown",
   "metadata": {
    "deletable": false,
    "editable": false,
    "nbgrader": {
     "cell_type": "markdown",
     "checksum": "42450375be81907c4f0688ee21192ccf",
     "grade": false,
     "grade_id": "cell-fd7c2b560a29e478",
     "locked": true,
     "schema_version": 3,
     "solution": false,
     "task": false
    }
   },
   "source": [
    "**Q8** Describe part of the tree structure of a webpage you are familiar with. Instead of drawing a picture as in the text, you could type your response using indentation, as in this example:\n",
    "\n",
    "    catalog\n",
    "        book [id = \"bk101\"]\n",
    "            author\n",
    "                Shakespeare\n",
    "            title\n",
    "                Henry IV\n",
    "            price\n",
    "                $10.95\n",
    "        book [id = \"bk102\"]\n",
    "            author\n",
    "            title\n",
    "            price\n",
    "        ...\n",
    "        book [id = \"bk200\"]\n",
    "            author\n",
    "            title\n",
    "            price"
   ]
  },
  {
   "cell_type": "markdown",
   "metadata": {
    "deletable": false,
    "nbgrader": {
     "cell_type": "markdown",
     "checksum": "3e77769661e30565fa19e475800ab89a",
     "grade": true,
     "grade_id": "cell-b14ae252eb55db27",
     "locked": false,
     "points": 1,
     "schema_version": 3,
     "solution": true,
     "task": false
    }
   },
   "source": [
    "YOUR ANSWER HERE"
   ]
  },
  {
   "cell_type": "markdown",
   "metadata": {
    "deletable": false,
    "editable": false,
    "nbgrader": {
     "cell_type": "markdown",
     "checksum": "cb7d033a76325065125a11d052fdf146",
     "grade": false,
     "grade_id": "cell-11251449fb72beac",
     "locked": true,
     "schema_version": 3,
     "solution": false,
     "task": false
    }
   },
   "source": [
    "**Q9** List two similarities and two differences between the relational data model and the tabular data model."
   ]
  },
  {
   "cell_type": "markdown",
   "metadata": {
    "deletable": false,
    "nbgrader": {
     "cell_type": "markdown",
     "checksum": "ab921d7e521f7a0daf0d32a5b8a97667",
     "grade": true,
     "grade_id": "cell-82ba9a238aea26f3",
     "locked": false,
     "points": 1,
     "schema_version": 3,
     "solution": true,
     "task": false
    }
   },
   "source": [
    "YOUR ANSWER HERE"
   ]
  },
  {
   "cell_type": "markdown",
   "metadata": {
    "deletable": false,
    "editable": false,
    "nbgrader": {
     "cell_type": "markdown",
     "checksum": "61e642eb610757320829f5b65d4b60b4",
     "grade": false,
     "grade_id": "cell-b46aef276694057b",
     "locked": true,
     "schema_version": 3,
     "solution": false,
     "task": false
    }
   },
   "source": [
    "**Q10** List two similarities and two differences between the hierarchical data model and the tabular data model."
   ]
  },
  {
   "cell_type": "markdown",
   "metadata": {
    "deletable": false,
    "nbgrader": {
     "cell_type": "markdown",
     "checksum": "2254014cb6ad63cb1df73c3573b999c5",
     "grade": true,
     "grade_id": "cell-d9a0bfcc8d06b2fb",
     "locked": false,
     "points": 1,
     "schema_version": 3,
     "solution": true,
     "task": false
    }
   },
   "source": [
    "YOUR ANSWER HERE"
   ]
  },
  {
   "cell_type": "markdown",
   "metadata": {
    "deletable": false,
    "editable": false,
    "nbgrader": {
     "cell_type": "markdown",
     "checksum": "eaca535dca67c3074b44731f6eab0d08",
     "grade": false,
     "grade_id": "cell-6ece57676e638f2a",
     "locked": true,
     "schema_version": 3,
     "solution": false,
     "task": false
    }
   },
   "source": [
    "**Q11** List two similarities and two differences between the hierarchical data model and the relational data model.\n"
   ]
  },
  {
   "cell_type": "markdown",
   "metadata": {
    "deletable": false,
    "nbgrader": {
     "cell_type": "markdown",
     "checksum": "0a1ad0f5caddcce9d803c593bb22495d",
     "grade": true,
     "grade_id": "cell-ac183da1825b9dbc",
     "locked": false,
     "points": 1,
     "schema_version": 3,
     "solution": true,
     "task": false
    }
   },
   "source": [
    "YOUR ANSWER HERE"
   ]
  }
 ],
 "metadata": {
  "kernelspec": {
   "display_name": "Python 3",
   "language": "python",
   "name": "python3"
  },
  "language_info": {
   "codemirror_mode": {
    "name": "ipython",
    "version": 3
   },
   "file_extension": ".py",
   "mimetype": "text/x-python",
   "name": "python",
   "nbconvert_exporter": "python",
   "pygments_lexer": "ipython3",
   "version": "3.7.4"
  }
 },
 "nbformat": 4,
 "nbformat_minor": 2
}
