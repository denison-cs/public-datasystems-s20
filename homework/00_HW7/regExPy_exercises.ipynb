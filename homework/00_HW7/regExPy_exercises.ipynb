{
 "cells": [
  {
   "cell_type": "markdown",
   "metadata": {},
   "source": [
    "Before you turn this problem in, make sure everything runs as expected. First, **restart the kernel** (in the menubar, select Kernel$\\rightarrow$Restart) and then **run all cells** (in the menubar, select Cell$\\rightarrow$Run All).\n",
    "\n",
    "Make sure you fill in any place that says `YOUR CODE HERE`/`raise NotImplementedError` or \"YOUR ANSWER HERE\", as well as your name and collaborators below:"
   ]
  },
  {
   "cell_type": "code",
   "execution_count": null,
   "metadata": {
    "deletable": false,
    "editable": false,
    "nbgrader": {
     "cell_type": "code",
     "checksum": "64780c95fef4e0e643255f0d21e48529",
     "grade": false,
     "grade_id": "cell-2b17227879690e35",
     "locked": true,
     "schema_version": 3,
     "solution": false
    }
   },
   "outputs": [],
   "source": [
    "import re\n",
    "\n",
    "import os\n",
    "import os.path\n",
    "import io\n",
    "import sys\n",
    "import string\n",
    "from contextlib import redirect_stdout\n",
    "\n",
    "datadir = \"publicdata\""
   ]
  },
  {
   "cell_type": "markdown",
   "metadata": {
    "deletable": false,
    "editable": false,
    "nbgrader": {
     "cell_type": "markdown",
     "checksum": "0b4b4afc297cbbf14db3717eca40acd8",
     "grade": false,
     "grade_id": "cell-36b5b700a3101523",
     "locked": true,
     "schema_version": 3,
     "solution": false
    }
   },
   "source": [
    "**Q1:** In the directory referenced by `datadir` is a file named `rime.txt`, whose contents are a small prefix of the **Rime of the Ancyent Marinere**, which we read into a string variable, `data`. Write a function\n",
    "\n",
    "    findAncients(s)\n",
    "\n",
    "that, using regular expressions and the `re` module, finds **all** instances of \"ancient\" in the passed string `s`, spelled either with an `'i'` or a `'y'` (i.e. either `'ancient'` or `'ancyent'`), and insensitive to case.  The function should return a list of tuples with the start and end index (inclusive) of the match, or an empty list if no instances were found.  "
   ]
  },
  {
   "cell_type": "code",
   "execution_count": null,
   "metadata": {
    "deletable": false,
    "nbgrader": {
     "cell_type": "code",
     "checksum": "564a2f9677b55e256ef80eaced8b91a7",
     "grade": false,
     "grade_id": "cell-148b872c82b7fbc1",
     "locked": false,
     "schema_version": 3,
     "solution": true
    }
   },
   "outputs": [],
   "source": [
    "# YOUR CODE HERE\n",
    "raise NotImplementedError()\n",
    "\n",
    "path = os.path.join(datadir, \"rime.txt\")\n",
    "if not os.path.isfile(path):\n",
    "    print(\"Problem finding source file\")\n",
    "    \n",
    "with open(path, 'r') as f:\n",
    "    data = f.read()\n",
    "\n",
    "result = findAncients(data)\n",
    "if len(result) == 0:\n",
    "    print(\"Ancient not found\")\n",
    "else:\n",
    "    for t in result:\n",
    "        print(t, data[t[0]:t[1]+1])"
   ]
  },
  {
   "cell_type": "code",
   "execution_count": null,
   "metadata": {
    "deletable": false,
    "editable": false,
    "nbgrader": {
     "cell_type": "code",
     "checksum": "edd55f42d3ce45e39c6851566f4eff7d",
     "grade": true,
     "grade_id": "cell-63d24cafeb3da570",
     "locked": true,
     "points": 4,
     "schema_version": 3,
     "solution": false
    }
   },
   "outputs": [],
   "source": [
    "text1 = \"Does this text match this pattern?\"\n",
    "assert len(findAncients(text1)) == 0\n",
    "\n",
    "path = os.path.join(datadir, \"rime.txt\")\n",
    "if not os.path.isfile(path):\n",
    "    print(\"Problem finding source file\")\n",
    "    \n",
    "with open(path, 'r') as f:\n",
    "    data = f.read()\n",
    "\n",
    "assert len(findAncients(data)) == 3\n",
    "assert findAncients(data)[0][0] == 16\n",
    "assert findAncients(data)[0][1] == 23\n",
    "assert findAncients(data)[2][0] == 384\n",
    "assert findAncients(data)[2][1] == 391"
   ]
  },
  {
   "cell_type": "markdown",
   "metadata": {},
   "source": [
    "**Match and No Match**\n",
    "\n",
    "Sometimes, regular expression patterns are expected to match certain patterns and, equally important, to **not** match other patterns.  In the next couple exercises, the goal is to find a single pattern such that, in a **list** of targets, the designated targets within the list match and the designated targets fail to match.  In this setup, each possible target is a string without any line termination."
   ]
  },
  {
   "cell_type": "markdown",
   "metadata": {
    "deletable": false,
    "editable": false,
    "nbgrader": {
     "cell_type": "markdown",
     "checksum": "645e88625e5b0ccbca72ecd6529df86e",
     "grade": false,
     "grade_id": "cell-f85e6e73c11341d5",
     "locked": true,
     "schema_version": 3,
     "solution": false
    }
   },
   "source": [
    "**Q2:** Write a function\n",
    "\n",
    "    findMatches(pattern, targetlist)\n",
    "\n",
    "that performs a regular expression search of `pattern` on each of the targets in targetlist.  The function should build a list that, for each target that both successfully finds a match, and the match is the entire string, includes the matched string/target.  For any target that does not match, or where less than the full target is matched, nothing is added to the resultant list."
   ]
  },
  {
   "cell_type": "code",
   "execution_count": null,
   "metadata": {
    "deletable": false,
    "nbgrader": {
     "cell_type": "code",
     "checksum": "273b50aa8fe2db9bceb995feaf823903",
     "grade": false,
     "grade_id": "cell-da4ceb50085b9293",
     "locked": false,
     "schema_version": 3,
     "solution": true
    }
   },
   "outputs": [],
   "source": [
    "# YOUR CODE HERE\n",
    "raise NotImplementedError()"
   ]
  },
  {
   "cell_type": "code",
   "execution_count": null,
   "metadata": {
    "deletable": false,
    "editable": false,
    "nbgrader": {
     "cell_type": "code",
     "checksum": "3a4dc6847fc0800de123c77358e68d26",
     "grade": true,
     "grade_id": "cell-6e722a0f35d04727",
     "locked": true,
     "points": 5,
     "schema_version": 3,
     "solution": false
    }
   },
   "outputs": [],
   "source": [
    "targets = [\"abc\", \"abcd\", \"abcdef\"]\n",
    "assert findMatches(r'abc', targets) == ['abc']\n",
    "assert findMatches(r'abcd?', targets) == ['abc', 'abcd']\n",
    "assert findMatches(r'', targets) == []"
   ]
  },
  {
   "cell_type": "markdown",
   "metadata": {
    "deletable": false,
    "editable": false,
    "nbgrader": {
     "cell_type": "markdown",
     "checksum": "b9c825616cd09239e0ee68c06190da77",
     "grade": false,
     "grade_id": "cell-036247a99ee22c57",
     "locked": true,
     "schema_version": 3,
     "solution": false
    }
   },
   "source": [
    "**Q3:** Suppose we want to distinguish between the two columns below:\n",
    "\n",
    "    Match     | No Match\n",
    "    --------------------\n",
    "    pit       | pt\n",
    "    spot      | Pot\n",
    "    spate     | peat\n",
    "    slap two  | part\n",
    "    respite   | top it\n",
    "\n",
    "Write and assign to Python variable `pattern` a regular expression that completely matches all the targets in the first column and does **not** match any of the targets in the second column.  Note that, in the asserts, your `findMatches()` function will be invoked to check your solution.  If these asserts fail, the problem could be with your pattern, or could also be a problem with your `findMatches()` function."
   ]
  },
  {
   "cell_type": "code",
   "execution_count": null,
   "metadata": {
    "deletable": false,
    "nbgrader": {
     "cell_type": "code",
     "checksum": "11679fdd07d616cb58753ba3f40e0ee6",
     "grade": false,
     "grade_id": "cell-9282f4dd87ae28b6",
     "locked": false,
     "schema_version": 3,
     "solution": true
    }
   },
   "outputs": [],
   "source": [
    "pattern = r''\n",
    "# YOUR CODE HERE\n",
    "raise NotImplementedError()"
   ]
  },
  {
   "cell_type": "code",
   "execution_count": null,
   "metadata": {
    "deletable": false,
    "editable": false,
    "nbgrader": {
     "cell_type": "code",
     "checksum": "0cd8ea386d8252931a6829a319924952",
     "grade": true,
     "grade_id": "cell-a1d29edccb29df9d",
     "locked": true,
     "points": 2,
     "schema_version": 3,
     "solution": false
    }
   },
   "outputs": [],
   "source": [
    "matchlist = [\"pit\", \"spot\", \"spate\", \"slap two\", \"respite\"]\n",
    "nomatchlist = [\"pt\", \"Pot\", \"peat\", \"part\", \"top it\"]\n",
    "matches = findMatches(pattern, matchlist)\n",
    "assert matches == matchlist\n",
    "matches = findMatches(pattern, nomatchlist)\n",
    "assert matches == []"
   ]
  }
 ],
 "metadata": {
  "kernelspec": {
   "display_name": "Python 3",
   "language": "python",
   "name": "python3"
  },
  "language_info": {
   "codemirror_mode": {
    "name": "ipython",
    "version": 3
   },
   "file_extension": ".py",
   "mimetype": "text/x-python",
   "name": "python",
   "nbconvert_exporter": "python",
   "pygments_lexer": "ipython3",
   "version": "3.7.4"
  }
 },
 "nbformat": 4,
 "nbformat_minor": 2
}
