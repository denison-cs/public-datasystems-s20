{
 "cells": [
  {
   "cell_type": "markdown",
   "metadata": {},
   "source": [
    "Before you turn this problem in, make sure everything runs as expected. First, **restart the kernel** (in the menubar, select Kernel$\\rightarrow$Restart) and then **run all cells** (in the menubar, select Cell$\\rightarrow$Run All).\n",
    "\n",
    "Make sure you fill in any place that says `YOUR CODE HERE`/`raise NotImplementedError` or \"YOUR ANSWER HERE\", as well as your name and collaborators below:"
   ]
  },
  {
   "cell_type": "markdown",
   "metadata": {},
   "source": [
    "# 05_HW2: More about getting data over the web\n",
    "\n",
    "## Objectives\n",
    "\n",
    "- Solidifying knowledge of web-scraping\n",
    "  - Practice with Programmatic manipulation of tree structured data\n",
    "  - Seeing similarities and differences between JSON and XML\n",
    "  - Deeper understanding of the XML format and tree\n",
    "  - Relating back to tabular data structres by processing into DataFrame\n",
    "- Practice with APIs, keys, GET, and POST\n",
    "\n",
    "Recall the extended `buildURL` from the previous homework (which has a parameter `extension` for the format of the resource you are seeking), provided below for your convenience."
   ]
  },
  {
   "cell_type": "code",
   "execution_count": null,
   "metadata": {},
   "outputs": [],
   "source": [
    "from IPython.core.debugger import set_trace\n",
    "import requests\n",
    "from lxml import etree\n",
    "import pandas as pd\n",
    "import re\n",
    "import io\n",
    "import json\n",
    "\n",
    "def buildURL(location, resource, protocol='http', extension=None):\n",
    "    fmt1 = '{}://{}{}'\n",
    "    if resource[0] != '/':\n",
    "        resource = '/' + resource\n",
    "    url = fmt1.format(protocol, location, resource)\n",
    "    if extension:\n",
    "        url += '.' + extension\n",
    "    return url\n",
    "\n"
   ]
  },
  {
   "cell_type": "markdown",
   "metadata": {},
   "source": [
    "**Q1** Please follow the model above (and your previous HW) to generalize the `HTTPGetParams` function to allow optional arguments to specify a protocol and an extension, and use the revised `buildURL` function to help do its work.  Further, let the `pdict` parameter dictionary be optional, so that, if not specified, the request is made without URL parameters. \n",
    "\n",
    "    HTTPGet(location, resource, protocol='http', extension=None, pdict=None)\n",
    "\n",
    "Finally, the function should extend what it does *with* the result so that, if the returned content is JSON, we, like before, interpret the JSON format into a Python data structure, but if the content is XML, we interpret the XML format into an `Element` data structure (Note, do not yield an `ElementTree`). and if the content is HTML, we also interpret into an `lxml` `Element` data structure. Do not use the `extension` parameter to make this determination, but rather use the Content type header field available in the response.  Think about flexibility when looking for matching a content-type.  Some providers may or may not include information about encoding in the content-type.  Others may say `text/json` as opposed to `application/json`.\n",
    "\n",
    "If the content is neither json nor xml nor html, but the request was successful, we should return the string of the byte-stream body.  If the request was unsuccessful, we should return `None`."
   ]
  },
  {
   "cell_type": "code",
   "execution_count": null,
   "metadata": {
    "deletable": false,
    "nbgrader": {
     "cell_type": "code",
     "checksum": "027acf54f205b8fbd37fbf680b125a79",
     "grade": false,
     "grade_id": "cell-976241e91f32e65f",
     "locked": false,
     "schema_version": 3,
     "solution": true,
     "task": false
    }
   },
   "outputs": [],
   "source": [
    "# YOUR CODE HERE\n",
    "raise NotImplementedError()"
   ]
  },
  {
   "cell_type": "code",
   "execution_count": null,
   "metadata": {
    "deletable": false,
    "editable": false,
    "nbgrader": {
     "cell_type": "code",
     "checksum": "6a8eaeac6117f96b9c91c6b997b0296f",
     "grade": true,
     "grade_id": "cell-fffd9d2f90186eee",
     "locked": true,
     "points": 1,
     "schema_version": 3,
     "solution": false,
     "task": false
    }
   },
   "outputs": [],
   "source": [
    "# Testing cell\n",
    "\n",
    "d = HTTPGet('covidtracking.com','/api/states/daily','https','json',{'state':'NY', 'date':20200316})\n",
    "assert type(d) is dict\n",
    "assert d['state'] == 'NY'\n",
    "assert 'posNeg' in d\n",
    "assert d['date'] == 20200316"
   ]
  },
  {
   "cell_type": "code",
   "execution_count": null,
   "metadata": {
    "deletable": false,
    "editable": false,
    "nbgrader": {
     "cell_type": "code",
     "checksum": "e75885313aed897407b759b4d7dbb2a3",
     "grade": true,
     "grade_id": "cell-d52b772aa49409fb",
     "locked": true,
     "points": 1,
     "schema_version": 3,
     "solution": false,
     "task": false
    }
   },
   "outputs": [],
   "source": [
    "# Testing cell\n",
    "\n",
    "protocol = \"http\"\n",
    "location = \"personal.denison.edu\"\n",
    "resource = \"/~bressoud/datasystems/data/mystery5\"\n",
    "x = HTTPGet(location, resource)\n",
    "assert x[:10] == b'\\xff\\xd8\\xff\\xe0\\x00\\x10JFIF'"
   ]
  },
  {
   "cell_type": "code",
   "execution_count": null,
   "metadata": {
    "deletable": false,
    "editable": false,
    "nbgrader": {
     "cell_type": "code",
     "checksum": "b52aa9288fe9e1bdc96bf28bae07330b",
     "grade": true,
     "grade_id": "cell-17b433f5c096d8d3",
     "locked": true,
     "points": 1,
     "schema_version": 3,
     "solution": false,
     "task": false
    }
   },
   "outputs": [],
   "source": [
    "# Testing cell\n",
    "\n",
    "d = HTTPGet('en.wikipedia.org','/wiki/List_of_most_popular_given_names_by_state_in_the_United_States','https')\n",
    "assert(len(d) == 2)\n",
    "assert(type(d) is etree._Element)"
   ]
  },
  {
   "cell_type": "code",
   "execution_count": null,
   "metadata": {
    "deletable": false,
    "editable": false,
    "nbgrader": {
     "cell_type": "code",
     "checksum": "cc8203987788958edc6deb9f9537dc37",
     "grade": true,
     "grade_id": "cell-468f7764691caae3",
     "locked": true,
     "points": 1,
     "schema_version": 3,
     "solution": false,
     "task": false
    }
   },
   "outputs": [],
   "source": [
    "# Testing cell\n",
    "\n",
    "data = HTTPGet('api.kivaws.org', '/v1/loans/newest', protocol='https', \n",
    "                   extension='xml', pdict = {'status': 'fundraising'})\n",
    "assert (type(data) is etree._Element)\n",
    "assert len(data) == 2"
   ]
  },
  {
   "cell_type": "markdown",
   "metadata": {},
   "source": [
    "## Provider API Function\n",
    "\n",
    "We often find that a provider has grouped functionality logically into a set of endpoints, each able to obtain data that corresponds to a single logical subset of the data.  In our Python programming, we should refelect this by providing one or a small number of functions that abstract obtaining data from this endpoint.  As one example, **Q4** does this for the Kiva newest loans endpoint."
   ]
  },
  {
   "cell_type": "markdown",
   "metadata": {},
   "source": [
    "**Q2** We know that the Kiva endpoint for the most recent loans uses the location of `'api.kivaws.org'` and the base resource is `'/v1/loans/newest'`. Please look at the inclass worksheet for more details about path endpoints and query parameters for this resource. It provides examples like\n",
    "\n",
    "http://api.kivaws.org/v1/loans/newest.xml?status=fundraising\n",
    "\n",
    "http://api.kivaws.org/v1/loans/newest.json?status=fundraising\n",
    "\n",
    "Note from the provider's documentation that they support formats of html, json, and xml, and from the examples note that we suffix the resource with a period and the desired extension.  Our goal in this question is to build a function that retrieves the newest loans and allows the caller to specify the page number,the loans per page, and the format.  So write the function\n",
    "\n",
    "`\n",
    "kivaNewestLoans(pagenum=1, loansperpage=20, datatype='json')\n",
    "`\n",
    "\n",
    "that uses your previous `HTTPGet` function and realizes this nice general Python function for obtaining the Kiva newest loans. It should work for any of the three data types mentioned, but should default to `json`. Note the default parameters to allow us to call `kivaNewestLoans` with no arguments and get reasonable results."
   ]
  },
  {
   "cell_type": "code",
   "execution_count": null,
   "metadata": {
    "deletable": false,
    "nbgrader": {
     "cell_type": "code",
     "checksum": "fdff1d89fcfe632781b528cb0d36af86",
     "grade": false,
     "grade_id": "cell-de09320aa8ca8332",
     "locked": false,
     "schema_version": 3,
     "solution": true,
     "task": false
    }
   },
   "outputs": [],
   "source": [
    "# YOUR CODE HERE\n",
    "raise NotImplementedError()"
   ]
  },
  {
   "cell_type": "code",
   "execution_count": null,
   "metadata": {
    "deletable": false,
    "editable": false,
    "nbgrader": {
     "cell_type": "code",
     "checksum": "72a0128470b43b8dfba62bcab6ffe5f3",
     "grade": true,
     "grade_id": "cell-47e5d86de5bbe542",
     "locked": true,
     "points": 2,
     "schema_version": 3,
     "solution": false,
     "task": false
    }
   },
   "outputs": [],
   "source": [
    "# Testing cell\n",
    "d = getKivaNewestLoans(5,30,'json')\n",
    "assert type(d) is dict\n",
    "assert(len(d) == 2)\n",
    "assert 'paging' in d.keys()\n",
    "assert 'loans' in d.keys()\n",
    "assert len(d['paging']) == 4\n",
    "assert len(d['loans']) == 30\n",
    "\n",
    "d = getKivaNewestLoans()\n",
    "assert type(d) is dict\n",
    "assert(len(d) == 2)\n",
    "assert 'paging' in d.keys()\n",
    "assert 'loans' in d.keys()\n",
    "\n",
    "d = getKivaNewestLoans(5,30,'xml')\n",
    "assert type(d) is etree._Element\n",
    "assert(len(d) == 2)"
   ]
  },
  {
   "cell_type": "markdown",
   "metadata": {},
   "source": [
    "## Tree Data Structure to DataFrame"
   ]
  },
  {
   "cell_type": "markdown",
   "metadata": {},
   "source": [
    "**Q3** Write a function\n",
    "\n",
    "    kivaNewestLoansJsonDF(columns, pagenum=1, loansperpage=20)\n",
    "\n",
    "that retrieves json data through the kiva newest loans endpoint, using the given `pagenum` and `loansperpage`, and then builds a `pandas` dataframe from the json result.  The columns parameter is a list of strings specifying the columns to be included in the result.  For a json-based data structure, these strings correspond to one of the **keys** in the dictionary that specifies each individual loan.  You may assume that, for any particular `columns` list entry, the child item is a *leaf* of the tree."
   ]
  },
  {
   "cell_type": "code",
   "execution_count": null,
   "metadata": {
    "deletable": false,
    "nbgrader": {
     "cell_type": "code",
     "checksum": "feb167cc2b167b048e0760e1d835049b",
     "grade": false,
     "grade_id": "cell-1f86fcdcc38b6e1a",
     "locked": false,
     "schema_version": 3,
     "solution": true,
     "task": false
    }
   },
   "outputs": [],
   "source": [
    "# YOUR CODE HERE\n",
    "raise NotImplementedError()\n",
    "\n",
    "df = kivaNewestLoansJsonDF(['name','sector','loan_amount'])\n",
    "df.head()"
   ]
  },
  {
   "cell_type": "code",
   "execution_count": null,
   "metadata": {
    "deletable": false,
    "editable": false,
    "nbgrader": {
     "cell_type": "code",
     "checksum": "bcb8d456c109d21f8871086ec0bad7fb",
     "grade": true,
     "grade_id": "cell-016cc9e08b6dfeb3",
     "locked": true,
     "points": 4,
     "schema_version": 3,
     "solution": false,
     "task": false
    }
   },
   "outputs": [],
   "source": [
    "# Testing cell\n",
    "cols = ['name','sector','loan_amount']\n",
    "df = kivaNewestLoansJsonDF(cols)\n",
    "assert df.shape == (20,3)\n",
    "\n",
    "df = kivaNewestLoansJsonDF(['name','loan_amount'],2,35)\n",
    "assert df.shape == (35,2)\n",
    "assert 'name' in list(df.columns)\n",
    "assert 'loan_amount' in list(df.columns)"
   ]
  },
  {
   "cell_type": "markdown",
   "metadata": {},
   "source": [
    "**Q4** Write a function\n",
    "\n",
    "    kivaNewestLoansXMLDF(columns, pagenum=1, loansperpage=20)\n",
    "\n",
    "that retrieves xml data through the kiva newest loans endpoint, using the given pagenum and loansperpage, and then builds a pandas dataframe from the xml result.  The columns parameter is a list of strings specifying the columns to be included in the result.  For an xml-based data structure, these strings correspond to one of the **tags** that are children for each individual loan.  You may assume that, for any particular columns list entry, the child item is a *leaf* of the tree, so the text of the Element gives the desired value."
   ]
  },
  {
   "cell_type": "code",
   "execution_count": null,
   "metadata": {
    "deletable": false,
    "nbgrader": {
     "cell_type": "code",
     "checksum": "448cfa0ee2a98f4dd0e53676a569de70",
     "grade": false,
     "grade_id": "cell-44f605c44e5bedba",
     "locked": false,
     "schema_version": 3,
     "solution": true,
     "task": false
    }
   },
   "outputs": [],
   "source": [
    "# YOUR CODE HERE\n",
    "raise NotImplementedError()\n",
    "\n",
    "df = kivaNewestLoansXMLDF(['name','sector','loan_amount'])\n",
    "df.head()"
   ]
  },
  {
   "cell_type": "code",
   "execution_count": null,
   "metadata": {
    "deletable": false,
    "editable": false,
    "nbgrader": {
     "cell_type": "code",
     "checksum": "9ca1bc7c18efd794ac436113fd8a2292",
     "grade": true,
     "grade_id": "cell-f156d800e56f614d",
     "locked": true,
     "points": 4,
     "schema_version": 3,
     "solution": false,
     "task": false
    }
   },
   "outputs": [],
   "source": [
    "# Testing cell\n",
    "cols = ['name','sector','loan_amount']\n",
    "df = kivaNewestLoansXMLDF(cols)\n",
    "assert df.shape == (20,3)\n",
    "\n",
    "df = kivaNewestLoansXMLDF(['name','loan_amount'],2,35)\n",
    "assert df.shape == (35,2)\n",
    "assert 'name' in list(df.columns)\n",
    "assert 'loan_amount' in list(df.columns)"
   ]
  },
  {
   "cell_type": "markdown",
   "metadata": {},
   "source": [
    "## Practice with APIs and POST\n",
    "\n",
    "We conclude this homework with practice very similar to the book. Using the TMDB API and the `requests` module, you will\n",
    "\n",
    "\t1.\tCreate a guest session\n",
    "\t2.\tFind a TV show based on a given criteria\n",
    "\t3.\tRate the TV show with a given rating\n",
    "\n",
    "As we saw in the reading, most APIs require some form of authentication from the client, especially for a POST request. We have selected exercises below that do not require OAuth (to be discussed in chapter 24), but that do require an `apikey` and a guest session. First, we introduce an even more general `buildURL` function (which also specifies the `port`). Please run the cell that follows."
   ]
  },
  {
   "cell_type": "code",
   "execution_count": null,
   "metadata": {},
   "outputs": [],
   "source": [
    "def buildURL(resource_path, host=\"http.bin\", protocol=\"https\", \n",
    "             extension=None, port=None):\n",
    "    if resource_path[0] != '/':\n",
    "        resource_path = '/' + resource_path\n",
    "    \n",
    "    if extension != None:\n",
    "        resource_path += \".\" + extension\n",
    "        \n",
    "    if port != None:\n",
    "        host = host + \":{}\".format(port)\n",
    "    \n",
    "    url_template = \"{}://{}{}\"\n",
    "    url = url_template.format(protocol, host, resource_path)\n",
    "    return url"
   ]
  },
  {
   "cell_type": "markdown",
   "metadata": {},
   "source": [
    "### JSON for `apikey`\n",
    "\n",
    "We will use the same API discussed in the book, TMDB. Recall from earlier in the course that it is very unwise to hard code sensitive information into a program you are writing. For instance, by including a real `apikey` in the textbook, the authors make it possible for a reader to behave badly using this real key, and to cause trouble with TMDB.\n",
    "\n",
    "For the exercise that follows, you will have to use your own api_key. Rather than hard-coding it into this notebook, please open `creds.json` and type in your `apikey` there (as a string). Then run the cell below."
   ]
  },
  {
   "cell_type": "code",
   "execution_count": null,
   "metadata": {},
   "outputs": [],
   "source": [
    "with open(\"./creds.json\") as f:\n",
    "    creds = json.load(f)\n",
    "protocol = creds['tmdb']['protocol']\n",
    "location = creds['tmdb']['location']\n",
    "apikey = creds['tmdb']['apikey']\n",
    "sessionid = creds['tmdb']['sessionid']"
   ]
  },
  {
   "cell_type": "code",
   "execution_count": null,
   "metadata": {
    "deletable": false,
    "editable": false,
    "nbgrader": {
     "cell_type": "code",
     "checksum": "6382fcb32416ceb25a87a566e0a83a45",
     "grade": true,
     "grade_id": "cell-da1d45dd523d3dae",
     "locked": true,
     "points": 0,
     "schema_version": 3,
     "solution": false,
     "task": false
    }
   },
   "outputs": [],
   "source": [
    "# Testing cell\n"
   ]
  },
  {
   "cell_type": "markdown",
   "metadata": {},
   "source": [
    "**Q5** Check the book or the TMDB API to find the correct resource path to request a new guest session ID. Please write a function `get_guest_session_id(my_api_key)` that uses the given API key to get and return a guest session id. For fun, think about how to modify your function so that instead of returning the guest session id, you would instead modify the JSON file to write the guest session id into it. Please use the `buildURL` function in your answer."
   ]
  },
  {
   "cell_type": "code",
   "execution_count": null,
   "metadata": {
    "deletable": false,
    "nbgrader": {
     "cell_type": "code",
     "checksum": "335a3d85b270524f0b3deabf37488286",
     "grade": false,
     "grade_id": "cell-cb204e9d54d42cc6",
     "locked": false,
     "schema_version": 3,
     "solution": true,
     "task": false
    }
   },
   "outputs": [],
   "source": [
    "# YOUR CODE HERE\n",
    "raise NotImplementedError()\n",
    "\n",
    "# We test the function using the apikey we got from the JSON you modified\n",
    "print(get_guest_session_id(apikey))"
   ]
  },
  {
   "cell_type": "code",
   "execution_count": null,
   "metadata": {
    "deletable": false,
    "editable": false,
    "nbgrader": {
     "cell_type": "code",
     "checksum": "592982b91ad67eeb88a2624a29297eb9",
     "grade": true,
     "grade_id": "cell-9cc03a53f9db12a1",
     "locked": true,
     "points": 2,
     "schema_version": 3,
     "solution": false,
     "task": false
    }
   },
   "outputs": [],
   "source": [
    "# Testing cell\n",
    "\n",
    "assert len(get_guest_session_id(apikey)) == 32"
   ]
  },
  {
   "cell_type": "code",
   "execution_count": null,
   "metadata": {
    "deletable": false,
    "editable": false,
    "nbgrader": {
     "cell_type": "code",
     "checksum": "af6e03e0974bcda993615314a865f715",
     "grade": true,
     "grade_id": "cell-bab241be1a58bf07",
     "locked": true,
     "points": 0,
     "schema_version": 3,
     "solution": false,
     "task": false
    }
   },
   "outputs": [],
   "source": [
    "# Testing cell\n"
   ]
  },
  {
   "cell_type": "markdown",
   "metadata": {},
   "source": [
    "**Q6** Study the TMDB API documentation to find the correct syntax for searching for a TV show. Then write a function `find_first_show(my_api_key, q, ad)` that searches for a TV show with query `q`, and with `ad` as the option for whether or not to include adult shows. Please return the `id` of the top result. Be careful: we do not want the genre_id. This will be much easier if you use the \"Try it out\" feature on the API documentation. See the test cells for a sample invocation."
   ]
  },
  {
   "cell_type": "code",
   "execution_count": null,
   "metadata": {
    "deletable": false,
    "nbgrader": {
     "cell_type": "code",
     "checksum": "41b1e3216f0ccae6f16c9317837fd00b",
     "grade": false,
     "grade_id": "cell-84518030a2795251",
     "locked": false,
     "schema_version": 3,
     "solution": true,
     "task": false
    }
   },
   "outputs": [],
   "source": [
    "# YOUR CODE HERE\n",
    "raise NotImplementedError()\n",
    "\n",
    "# This uses the API key from the JSON file, if you ran all cells above\n",
    "print(find_first_show(apikey,\"Pretty Little Liars: The Perfectionists\",\"false\"))\n"
   ]
  },
  {
   "cell_type": "code",
   "execution_count": null,
   "metadata": {
    "deletable": false,
    "editable": false,
    "nbgrader": {
     "cell_type": "code",
     "checksum": "60d795dfb5f9878d9a4bc7db625c7249",
     "grade": true,
     "grade_id": "cell-e67e9ffd5db03146",
     "locked": true,
     "points": 2,
     "schema_version": 3,
     "solution": false,
     "task": false
    }
   },
   "outputs": [],
   "source": [
    "# Testing cell\n",
    "assert find_first_show(apikey,\"Pretty Little Liars: The Perfectionists\",\"false\") == 79863\n",
    "assert find_first_show(apikey,\"TURN: Washington's Spies\",\"true\") == 57276\n"
   ]
  },
  {
   "cell_type": "markdown",
   "metadata": {},
   "source": [
    "**Q7** Study the TMDB API documentation to find the correct syntax for posting a rating of a TV show. Then write a function `post_tv_rating(my_api_key, tv_id, rat)`, that posts a rating of `rat` (a float) for the given `tv_id` (an integer), returning the `response` you get from the `requests` module. Your function should call `get_guest_session_id` to get a session id. Please don't forget the required header parameter(s)."
   ]
  },
  {
   "cell_type": "code",
   "execution_count": null,
   "metadata": {
    "deletable": false,
    "nbgrader": {
     "cell_type": "code",
     "checksum": "519b0966124a9e2199c23465b26ffeca",
     "grade": false,
     "grade_id": "cell-2c51732b5f993668",
     "locked": false,
     "schema_version": 3,
     "solution": true,
     "task": false
    }
   },
   "outputs": [],
   "source": [
    "# Solution cell\n",
    "# YOUR CODE HERE\n",
    "raise NotImplementedError()\n",
    "\n",
    "# This uses the API key from the JSON file\n",
    "r = post_tv_rating(apikey,79863,7.8)\n",
    "print(type(r))\n",
    "print()\n",
    "print(r.json())\n",
    "print()\n",
    "print(r.url)"
   ]
  },
  {
   "cell_type": "code",
   "execution_count": null,
   "metadata": {
    "deletable": false,
    "editable": false,
    "nbgrader": {
     "cell_type": "code",
     "checksum": "77272a42632edb62a787888f7a8fce46",
     "grade": true,
     "grade_id": "cell-3e4aa4d788721c80",
     "locked": true,
     "points": 2,
     "schema_version": 3,
     "solution": false,
     "task": false
    }
   },
   "outputs": [],
   "source": [
    "# Testing cell\n",
    "\n",
    "r = post_tv_rating(apikey,79863,7.8)\n",
    "\n",
    "assert r.json()['status_code'] == 1\n",
    "assert r.json()['status_message'] == 'Success.'\n",
    "assert '79863' in r.url\n",
    "assert apikey in r.url\n",
    "assert 'tv' in r.url\n",
    "\n",
    "r = post_tv_rating(apikey,57276,5.2)\n",
    "assert '57276' in r.url\n"
   ]
  }
 ],
 "metadata": {
  "kernelspec": {
   "display_name": "Python 3",
   "language": "python",
   "name": "python3"
  },
  "language_info": {
   "codemirror_mode": {
    "name": "ipython",
    "version": 3
   },
   "file_extension": ".py",
   "mimetype": "text/x-python",
   "name": "python",
   "nbconvert_exporter": "python",
   "pygments_lexer": "ipython3",
   "version": "3.7.6"
  }
 },
 "nbformat": 4,
 "nbformat_minor": 4
}
