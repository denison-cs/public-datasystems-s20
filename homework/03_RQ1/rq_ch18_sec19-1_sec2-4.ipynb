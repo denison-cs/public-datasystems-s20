{
 "cells": [
  {
   "cell_type": "markdown",
   "metadata": {},
   "source": [
    "Before you turn this problem in, make sure everything runs as expected. First, **restart the kernel** (in the menubar, select Kernel$\\rightarrow$Restart) and then **run all cells** (in the menubar, select Cell$\\rightarrow$Run All).\n",
    "\n",
    "Make sure you fill in any place that says `YOUR CODE HERE`/`raise NotImplementedError` or \"YOUR ANSWER HERE\", as well as your name and collaborators below:"
   ]
  },
  {
   "cell_type": "markdown",
   "metadata": {
    "deletable": false,
    "editable": false,
    "nbgrader": {
     "cell_type": "markdown",
     "checksum": "a2710e412d93f1235fce42ec4a430781",
     "grade": false,
     "grade_id": "cell-8125bf793edc58e5",
     "locked": true,
     "schema_version": 3,
     "solution": false,
     "task": false
    }
   },
   "source": [
    "**Q1** Please give examples of formats, encodings, and carriers, to illustrate the layering of functionality in a data system architecture."
   ]
  },
  {
   "cell_type": "markdown",
   "metadata": {
    "deletable": false,
    "nbgrader": {
     "cell_type": "markdown",
     "checksum": "12dd5526ed52c1163bbab59561f529f2",
     "grade": true,
     "grade_id": "cell-81d2ae70d135ebcb",
     "locked": false,
     "points": 1,
     "schema_version": 3,
     "solution": true,
     "task": false
    }
   },
   "source": [
    "YOUR ANSWER HERE"
   ]
  },
  {
   "cell_type": "markdown",
   "metadata": {
    "deletable": false,
    "editable": false,
    "nbgrader": {
     "cell_type": "markdown",
     "checksum": "5efd2b4526245d1737fc67468cbedf20",
     "grade": false,
     "grade_id": "cell-ec45ac77f28e5e7b",
     "locked": true,
     "schema_version": 3,
     "solution": false,
     "task": false
    }
   },
   "source": [
    "**Q2** There will be an entire chapter on the HyperText Transfer Protocol (HTTP), but to get a sense of some of the subtleties that arise in the \"Carrier\" part of a data system, please Google \"https vs http\" and write a sentence to describe what the \"s\" is about in \"https\". Hopefully by now in your life you have experienced this difference first-hand through a web-browser. If so, please write another sentence describing a time in your life when the difference mattered."
   ]
  },
  {
   "cell_type": "markdown",
   "metadata": {
    "deletable": false,
    "nbgrader": {
     "cell_type": "markdown",
     "checksum": "ddc220e91520ad7d7188f3bd86cb63bf",
     "grade": true,
     "grade_id": "cell-208464515b5bcaf2",
     "locked": false,
     "points": 1,
     "schema_version": 3,
     "solution": true,
     "task": false
    }
   },
   "source": [
    "YOUR ANSWER HERE"
   ]
  },
  {
   "cell_type": "markdown",
   "metadata": {
    "deletable": false,
    "editable": false,
    "nbgrader": {
     "cell_type": "markdown",
     "checksum": "ed6d1bd701b48a48d11a89c13438126e",
     "grade": false,
     "grade_id": "cell-57865659dc7632d7",
     "locked": true,
     "schema_version": 3,
     "solution": false,
     "task": false
    }
   },
   "source": [
    "**Q3** Please give an example from your own experience of a time you struggled with a local file. This could have to do with locating the file and writing code to extract data from it, or needing to share the file with a partner, or cleaning the file in some way that was not reproducible (e.g., not documented in your code)."
   ]
  },
  {
   "cell_type": "markdown",
   "metadata": {
    "deletable": false,
    "nbgrader": {
     "cell_type": "markdown",
     "checksum": "6cc07a313896155747c19559a6fc9f47",
     "grade": true,
     "grade_id": "cell-433da56bf1ba34b5",
     "locked": false,
     "points": 1,
     "schema_version": 3,
     "solution": true,
     "task": false
    }
   },
   "source": [
    "YOUR ANSWER HERE"
   ]
  },
  {
   "cell_type": "markdown",
   "metadata": {
    "deletable": false,
    "editable": false,
    "nbgrader": {
     "cell_type": "markdown",
     "checksum": "e3633500e90e15ac547ca5ff19a72ef9",
     "grade": false,
     "grade_id": "cell-c146aadc852cba1e",
     "locked": true,
     "schema_version": 3,
     "solution": false,
     "task": false
    }
   },
   "source": [
    "**Q4** Please give an example of a webpage you know that has a displayed table of data. Then give a different example of a webpage hosting a csv file you can download.\n"
   ]
  },
  {
   "cell_type": "markdown",
   "metadata": {
    "deletable": false,
    "nbgrader": {
     "cell_type": "markdown",
     "checksum": "34b0d5af8373b4f4008c68f42e48cb46",
     "grade": true,
     "grade_id": "cell-badb2aa8b0818193",
     "locked": false,
     "points": 1,
     "schema_version": 3,
     "solution": true,
     "task": false
    }
   },
   "source": [
    "YOUR ANSWER HERE"
   ]
  },
  {
   "cell_type": "markdown",
   "metadata": {
    "deletable": false,
    "editable": false,
    "nbgrader": {
     "cell_type": "markdown",
     "checksum": "c0c516b11411785c7bccb82459635469",
     "grade": false,
     "grade_id": "cell-439e8391b6341f26",
     "locked": true,
     "schema_version": 3,
     "solution": false,
     "task": false
    }
   },
   "source": [
    "**Q5** Please give an example of an API and its use. Even better if your example is RESTful (though you would need to use a search engine to figure out what that means)."
   ]
  },
  {
   "cell_type": "markdown",
   "metadata": {
    "deletable": false,
    "nbgrader": {
     "cell_type": "markdown",
     "checksum": "e1efe4f1277c92a760b1824862de8f29",
     "grade": true,
     "grade_id": "cell-e158109aa36b7776",
     "locked": false,
     "points": 1,
     "schema_version": 3,
     "solution": true,
     "task": false
    }
   },
   "source": [
    "YOUR ANSWER HERE"
   ]
  },
  {
   "cell_type": "markdown",
   "metadata": {
    "deletable": false,
    "editable": false,
    "nbgrader": {
     "cell_type": "markdown",
     "checksum": "dd180e73dbd543116a91e07770c9516b",
     "grade": false,
     "grade_id": "cell-e9ac78bb63e04b8a",
     "locked": true,
     "schema_version": 3,
     "solution": false,
     "task": false
    }
   },
   "source": [
    "**Q6** Can JSON read/write **list** data structures?  How about **dictionary** data structures?  How about file object/structures?"
   ]
  },
  {
   "cell_type": "markdown",
   "metadata": {
    "deletable": false,
    "nbgrader": {
     "cell_type": "markdown",
     "checksum": "192956d1ca6013a132be160822285ff5",
     "grade": true,
     "grade_id": "cell-8e66c103a7d81da9",
     "locked": false,
     "points": 1,
     "schema_version": 3,
     "solution": true,
     "task": false
    }
   },
   "source": [
    "YOUR ANSWER HERE"
   ]
  },
  {
   "cell_type": "markdown",
   "metadata": {
    "deletable": false,
    "editable": false,
    "nbgrader": {
     "cell_type": "markdown",
     "checksum": "fae99f6ad8cf4da90d85c6f7446dd922",
     "grade": false,
     "grade_id": "cell-e2cc559adbb886f3",
     "locked": true,
     "schema_version": 3,
     "solution": false,
     "task": false
    }
   },
   "source": [
    "**Q7** Suppose you use a text editor to create a JSON file, but make the mistake of using Python compatible strings that are delimited by a single quote instead of by the JSON syntax for a string, that uses double quotes.  What do you think will happen if you open and then use a JSON `load()` to try and read the JSON into a data structure in your program?"
   ]
  },
  {
   "cell_type": "markdown",
   "metadata": {
    "deletable": false,
    "nbgrader": {
     "cell_type": "markdown",
     "checksum": "aaf13024a2ad5a3fcb77d2b39b156285",
     "grade": true,
     "grade_id": "cell-da00a180ac5a351e",
     "locked": false,
     "points": 1,
     "schema_version": 3,
     "solution": true,
     "task": false
    }
   },
   "source": [
    "YOUR ANSWER HERE"
   ]
  },
  {
   "cell_type": "markdown",
   "metadata": {
    "deletable": false,
    "editable": false,
    "nbgrader": {
     "cell_type": "markdown",
     "checksum": "fc0737e70292434f70b87690ad6f4371",
     "grade": false,
     "grade_id": "cell-be547429bc7a79d8",
     "locked": true,
     "schema_version": 3,
     "solution": false,
     "task": false
    }
   },
   "source": [
    "**Q8** When modeling a network as a graph, what kinds of considerations go into the decision of whether to make it a \"directed graph\" (i.e. arrows that point one way between nodes) versus an \"undirected graph\" (edges can be traversed in both directions)? Which model do you think is more appropriate for the first Figure in the reading? Please talk about information flow in your answer."
   ]
  },
  {
   "cell_type": "markdown",
   "metadata": {
    "deletable": false,
    "nbgrader": {
     "cell_type": "markdown",
     "checksum": "4a0f771b7c1674455819e11bae7f1ec0",
     "grade": true,
     "grade_id": "cell-58b827d7fce804da",
     "locked": false,
     "points": 1,
     "schema_version": 3,
     "solution": true,
     "task": false
    }
   },
   "source": [
    "YOUR ANSWER HERE"
   ]
  },
  {
   "cell_type": "markdown",
   "metadata": {
    "deletable": false,
    "editable": false,
    "nbgrader": {
     "cell_type": "markdown",
     "checksum": "ad7f8b86112c0baf20ee0c09843f2c48",
     "grade": false,
     "grade_id": "cell-6068480849ef610a",
     "locked": true,
     "schema_version": 3,
     "solution": false,
     "task": false
    }
   },
   "source": [
    "**Q9** The reading says a laptop can have two endpoints in the network, if it has both a wireless card and a wired Ethernet interface. Does this mean such a laptop can act like a router and be an internal node in the Figure? Can a smartphone ever act like a router? Explain."
   ]
  },
  {
   "cell_type": "markdown",
   "metadata": {
    "deletable": false,
    "nbgrader": {
     "cell_type": "markdown",
     "checksum": "5d98b218243d48a1a2471d045b5e7828",
     "grade": true,
     "grade_id": "cell-1bf6d058cb426546",
     "locked": false,
     "points": 1,
     "schema_version": 3,
     "solution": true,
     "task": false
    }
   },
   "source": [
    "YOUR ANSWER HERE"
   ]
  },
  {
   "cell_type": "markdown",
   "metadata": {
    "deletable": false,
    "editable": false,
    "nbgrader": {
     "cell_type": "markdown",
     "checksum": "21313b34bdc9e7722e4c78dda0ee29b4",
     "grade": false,
     "grade_id": "cell-39a261c6d518cd72",
     "locked": true,
     "schema_version": 3,
     "solution": false,
     "task": false
    }
   },
   "source": [
    "**Q10** The reading makes it clear that information flows through a network architecture via packets, with packet switching handled by the routers. Paying careful attention to the figure, please answer: if we want to download data from a web server or RDBMS server, is there a unique path for the packets to follow as they reach our laptop machine? If not, what does this mean in terms of the order in which packets reach us, and the consequences of any routers or wires failing en-route? Please discuss both real-world consequences and computer science consequences/remedies."
   ]
  },
  {
   "cell_type": "markdown",
   "metadata": {
    "deletable": false,
    "nbgrader": {
     "cell_type": "markdown",
     "checksum": "023eaf1bd1630b963af4061352d9b099",
     "grade": true,
     "grade_id": "cell-bb8bda8bd9ae090c",
     "locked": false,
     "points": 1,
     "schema_version": 3,
     "solution": true,
     "task": false
    }
   },
   "source": [
    "YOUR ANSWER HERE"
   ]
  }
 ],
 "metadata": {
  "kernelspec": {
   "display_name": "Python 3",
   "language": "python",
   "name": "python3"
  },
  "language_info": {
   "codemirror_mode": {
    "name": "ipython",
    "version": 3
   },
   "file_extension": ".py",
   "mimetype": "text/x-python",
   "name": "python",
   "nbconvert_exporter": "python",
   "pygments_lexer": "ipython3",
   "version": "3.7.6"
  }
 },
 "nbformat": 4,
 "nbformat_minor": 2
}
