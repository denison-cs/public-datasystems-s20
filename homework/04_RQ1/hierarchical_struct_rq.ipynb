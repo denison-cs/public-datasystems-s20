{
 "cells": [
  {
   "cell_type": "markdown",
   "metadata": {},
   "source": [
    "Before you turn this problem in, make sure everything runs as expected. First, **restart the kernel** (in the menubar, select Kernel$\\rightarrow$Restart) and then **run all cells** (in the menubar, select Cell$\\rightarrow$Run All).\n",
    "\n",
    "Make sure you fill in any place that says `YOUR CODE HERE`/`raise NotImplementedError` or \"YOUR ANSWER HERE\", as well as your name and collaborators below:"
   ]
  },
  {
   "cell_type": "markdown",
   "metadata": {
    "deletable": false,
    "editable": false,
    "nbgrader": {
     "cell_type": "markdown",
     "checksum": "ae05b7cb08c08c96ca5be4bbcd77bd95",
     "grade": false,
     "grade_id": "cell-3a1b4b7ba89c47eb",
     "locked": true,
     "schema_version": 3,
     "solution": false,
     "task": false
    }
   },
   "source": [
    "**Q1** You may have seen trees before, when learning about binary search. A list of numbers can be represented as a tree, with one node for each item. The tree structure determines how quickly we can search for a given item. For example, let \n",
    "\n",
    "    L = [1,3,4,6,7,8,9,10,11,13,15,16,17,18,20].\n",
    "\n",
    "If you represent L as a *linear tree*, this means the root is 1, and there are edges 1->3, 3->4, 4->6, etc. Searching this tree for `item = 17` requires 13 steps, i.e., a path of length 13. We say item 17 is stored at *depth* 13 in the tree.\n",
    "\n",
    "Please use the language of trees (root, paths, depth, etc.) to explain what makes binary search faster than linear search. Start by thinking about how to represent L in a way that lines up with binary search, analogously to how we just did it for linear search. Please also give a binary search path in L to the item 17, and include the depth of 17 in your answer. If you are stumped, you could search for \"Binary Search Tree\" online. Be sure to explain what tree property makes binary search take time O(log(n)) while linear search takes time O(n)."
   ]
  },
  {
   "cell_type": "markdown",
   "metadata": {
    "deletable": false,
    "nbgrader": {
     "cell_type": "markdown",
     "checksum": "8290b4bb3187acbc8332e40e1ad17662",
     "grade": true,
     "grade_id": "cell-58bfed24299030f1",
     "locked": false,
     "points": 1,
     "schema_version": 3,
     "solution": true,
     "task": false
    }
   },
   "source": [
    "YOUR ANSWER HERE"
   ]
  },
  {
   "cell_type": "markdown",
   "metadata": {
    "deletable": false,
    "editable": false,
    "nbgrader": {
     "cell_type": "markdown",
     "checksum": "632cce8f85d0181a0e424f51cac5bfb5",
     "grade": false,
     "grade_id": "cell-21f1b040c5e8ad8e",
     "locked": true,
     "schema_version": 3,
     "solution": false,
     "task": false
    }
   },
   "source": [
    "**Q2** Please write down a portion of your family tree with depth at least three, and with at least 8 nodes. You will be the root. Please give your tree in the form of a JSON *object*, following the model in the reading. Please use horizontal white-space to make the tree structure easy to follow, and represent one node per line."
   ]
  },
  {
   "cell_type": "markdown",
   "metadata": {
    "deletable": false,
    "nbgrader": {
     "cell_type": "markdown",
     "checksum": "0a91a2bfc3c7045c420ad83f2e9d127d",
     "grade": true,
     "grade_id": "cell-49066746ae53d591",
     "locked": false,
     "points": 1,
     "schema_version": 3,
     "solution": true,
     "task": false
    }
   },
   "source": [
    "YOUR ANSWER HERE"
   ]
  },
  {
   "cell_type": "markdown",
   "metadata": {
    "deletable": false,
    "editable": false,
    "nbgrader": {
     "cell_type": "markdown",
     "checksum": "d2c9d3ce4674ac5b7fa47b75b80c912a",
     "grade": false,
     "grade_id": "cell-134ecc771a2b5f9a",
     "locked": true,
     "schema_version": 3,
     "solution": false,
     "task": false
    }
   },
   "source": [
    "**Q3** Now represent the above portion of your family tree in XML format, again with one node per line, and using tags and attributes as illustrated in the reading. Again, use horizontal white-space to make the tree structure clear to follow."
   ]
  },
  {
   "cell_type": "markdown",
   "metadata": {
    "deletable": false,
    "nbgrader": {
     "cell_type": "markdown",
     "checksum": "89f8343b74c3c5125d38b0a295f8c9d6",
     "grade": true,
     "grade_id": "cell-0ea450ea745826f9",
     "locked": false,
     "points": 1,
     "schema_version": 3,
     "solution": true,
     "task": false
    }
   },
   "source": [
    "YOUR ANSWER HERE"
   ]
  },
  {
   "cell_type": "markdown",
   "metadata": {
    "deletable": false,
    "editable": false,
    "nbgrader": {
     "cell_type": "markdown",
     "checksum": "bffac361f8519e6239525434adfe62e6",
     "grade": false,
     "grade_id": "cell-7451d7060231bef2",
     "locked": true,
     "schema_version": 3,
     "solution": false,
     "task": false
    }
   },
   "source": [
    "**Q4** Please describe three kinds of attributes you might include in your family tree, and why it would be valuable to store this data."
   ]
  },
  {
   "cell_type": "markdown",
   "metadata": {
    "deletable": false,
    "nbgrader": {
     "cell_type": "markdown",
     "checksum": "f7fe506d3842e20117f73ff70d4635c2",
     "grade": true,
     "grade_id": "cell-86351dfb8f999258",
     "locked": false,
     "points": 1,
     "schema_version": 3,
     "solution": true,
     "task": false
    }
   },
   "source": [
    "YOUR ANSWER HERE"
   ]
  },
  {
   "cell_type": "markdown",
   "metadata": {
    "deletable": false,
    "editable": false,
    "nbgrader": {
     "cell_type": "markdown",
     "checksum": "ee616ed41ce40ee3c667ebe35a71aed5",
     "grade": false,
     "grade_id": "cell-24a8c427a75be0c6",
     "locked": true,
     "schema_version": 3,
     "solution": false,
     "task": false
    }
   },
   "source": [
    "**Q5** When we use the `lxml` library, why is it that doing `getroot()` then printing the result, has the effect of printing the entire tree?"
   ]
  },
  {
   "cell_type": "markdown",
   "metadata": {
    "deletable": false,
    "nbgrader": {
     "cell_type": "markdown",
     "checksum": "0e1b4c33aaec4bcf15bf4557d626e8d2",
     "grade": true,
     "grade_id": "cell-6383bcf3d550f35d",
     "locked": false,
     "points": 1,
     "schema_version": 3,
     "solution": true,
     "task": false
    }
   },
   "source": [
    "YOUR ANSWER HERE"
   ]
  },
  {
   "cell_type": "markdown",
   "metadata": {
    "deletable": false,
    "editable": false,
    "nbgrader": {
     "cell_type": "markdown",
     "checksum": "955fa5931d07d8782bc6f293043438c6",
     "grade": false,
     "grade_id": "cell-93dae2b30e23b61b",
     "locked": true,
     "schema_version": 3,
     "solution": false,
     "task": false
    }
   },
   "source": [
    "**Q6** Please make an analogy between how paths are given when we use a native Python dictionary to represent a tree, and your experience with URLs on the web, and with using the Terminal or Command Prompt on your machine. Please give a concrete example illustrating the analogy."
   ]
  },
  {
   "cell_type": "markdown",
   "metadata": {
    "deletable": false,
    "nbgrader": {
     "cell_type": "markdown",
     "checksum": "cccd0e4131be28af482006c2bc4d8c94",
     "grade": true,
     "grade_id": "cell-74f1129a6293c86b",
     "locked": false,
     "points": 1,
     "schema_version": 3,
     "solution": true,
     "task": false
    }
   },
   "source": [
    "YOUR ANSWER HERE"
   ]
  },
  {
   "cell_type": "markdown",
   "metadata": {
    "deletable": false,
    "editable": false,
    "nbgrader": {
     "cell_type": "markdown",
     "checksum": "1cd1e4c160b8ab1e447dde7c4b39199f",
     "grade": false,
     "grade_id": "cell-ab4c57369d046b7d",
     "locked": true,
     "schema_version": 3,
     "solution": false,
     "task": false
    }
   },
   "source": [
    "**Q7** In the context of networking, we have previously thought about a provider's resources as forming a tree. Some websites are organized following this tree structure. For example, please poke around this website:\n",
    "https://home.apache.org/~taylor/\n",
    "and see if you can find a path of length three (i.e. with three slashes in the part after \"taylor\"). What do you notice about the relationship between the URL and the tree structure?"
   ]
  },
  {
   "cell_type": "markdown",
   "metadata": {
    "deletable": false,
    "nbgrader": {
     "cell_type": "markdown",
     "checksum": "0f31bc12c51b5876515adbd3a2c33a87",
     "grade": true,
     "grade_id": "cell-276688ca6882c915",
     "locked": false,
     "points": 1,
     "schema_version": 3,
     "solution": true,
     "task": false
    }
   },
   "source": [
    "YOUR ANSWER HERE"
   ]
  }
 ],
 "metadata": {
  "kernelspec": {
   "display_name": "Python 3",
   "language": "python",
   "name": "python3"
  },
  "language_info": {
   "codemirror_mode": {
    "name": "ipython",
    "version": 3
   },
   "file_extension": ".py",
   "mimetype": "text/x-python",
   "name": "python",
   "nbconvert_exporter": "python",
   "pygments_lexer": "ipython3",
   "version": "3.7.6"
  }
 },
 "nbformat": 4,
 "nbformat_minor": 2
}
