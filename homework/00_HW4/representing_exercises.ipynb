{
 "cells": [
  {
   "cell_type": "markdown",
   "metadata": {},
   "source": [
    "Before you turn this problem in, make sure everything runs as expected. First, **restart the kernel** (in the menubar, select Kernel$\\rightarrow$Restart) and then **run all cells** (in the menubar, select Cell$\\rightarrow$Run All).\n",
    "\n",
    "Make sure you fill in any place that says `YOUR CODE HERE`/`raise NotImplementedError` or \"YOUR ANSWER HERE\", as well as your name and collaborators below:"
   ]
  },
  {
   "cell_type": "markdown",
   "metadata": {
    "deletable": false,
    "editable": false,
    "nbgrader": {
     "cell_type": "markdown",
     "checksum": "2faf20e13dc75aa353fc15f57814fbe4",
     "grade": false,
     "grade_id": "cell-3460f57b9c672817",
     "locked": true,
     "schema_version": 3,
     "solution": false,
     "task": false
    }
   },
   "source": [
    "## Exercises on Representing General Data Sets\n",
    "\n",
    "### References\n",
    "\n",
    "In addition to Chapter 3 of the class textbook, some other references that you might find helpful:\n",
    "\n",
    "- Discovering Computer Science, Jessen Havill, Sections 8.3 and 9.1\n",
    "- Online CS1 textbook: https://runestone.academy/runestone/books/published/thinkcspy/Lists/toctree.html and https://runestone.academy/runestone/books/published/thinkcspy/Dictionaries/toctree.html\n",
    "\n",
    "### Exercises\n",
    "\n",
    "Note that you will lose significant credit if, for each function, you do not provide a **docstring** for the function.  If you do not recall how or where docstrings are to be placed for functions, see, for example:  \n",
    "\n",
    "- Discovering Computer Science, Jessen Havill, Chapter 3, Section 3.4\n",
    "- https://docs.python-guide.org/writing/documentation/#writing-docstrings"
   ]
  },
  {
   "cell_type": "code",
   "execution_count": null,
   "metadata": {},
   "outputs": [],
   "source": [
    "import os\n",
    "import os.path\n",
    "import io\n",
    "import sys\n",
    "from contextlib import redirect_stdout\n",
    "\n",
    "datadir = \"publicdata\""
   ]
  },
  {
   "cell_type": "markdown",
   "metadata": {
    "deletable": false,
    "editable": false,
    "nbgrader": {
     "cell_type": "markdown",
     "checksum": "dfd96d2e489e2f2bdc3695c6b3542e63",
     "grade": false,
     "grade_id": "cell-6dce6ccbf1d6aecd",
     "locked": true,
     "schema_version": 3,
     "solution": false,
     "task": false
    }
   },
   "source": [
    "**Q1:** Write a function\n",
    "\n",
    "    readBabynames2DoL(path)\n",
    "\n",
    "that reads from the file at location `path` and returns a dictionary mapping from column names to lists containing the data in those columns. The format of the file is a *CSV file*.  The first line is a comma separated set of string names for the columns contained in the file.  In this case `year,name,count`.  Subsequent lines have, on each line, comma separated values for a data mapping, where the first value gives the value of the year, and the second and third values on the line give the string name and the integer count.\n",
    "\n",
    "Your function will accumulate a dictionary mapping from `year` to the list of years, from `name` to the list of names (in the same order), and from `count` to the list of counts (in the same order).  Make sure you convert `year` and `count` to integers.\n",
    "\n",
    "In the `datadir` directory, there are files `topfemale.csv` and `topmale.csv` that are formatted in this way.  In the testing cell, we use your `readNames()` function, assign to variable `females` the dictionary obtained from `topfemale.csv` and assign to variable `males` the dictionary obtained from `topmale.csv`. Note that, unlike the example in the reading, `sex` is not a variable."
   ]
  },
  {
   "cell_type": "code",
   "execution_count": null,
   "metadata": {
    "deletable": false,
    "nbgrader": {
     "cell_type": "code",
     "checksum": "a5e3e993da0683d68bd97bf5e92bd002",
     "grade": false,
     "grade_id": "cell-4a6811329eba267e",
     "locked": false,
     "schema_version": 3,
     "solution": true,
     "task": false
    }
   },
   "outputs": [],
   "source": [
    "# Solution cell\n",
    "\n",
    "# YOUR CODE HERE\n",
    "raise NotImplementedError()"
   ]
  },
  {
   "cell_type": "code",
   "execution_count": null,
   "metadata": {
    "deletable": false,
    "editable": false,
    "nbgrader": {
     "cell_type": "code",
     "checksum": "824e4c1871a148d9c01673bedcf4a4f1",
     "grade": true,
     "grade_id": "cell-d9c88497031d1b22",
     "locked": true,
     "points": 5,
     "schema_version": 3,
     "solution": false,
     "task": false
    }
   },
   "outputs": [],
   "source": [
    "# Testing cell\n",
    "\n",
    "femalepath = os.path.join(datadir, \"topfemale.csv\")\n",
    "females = readBabynames2DoL(femalepath)\n",
    "assert len(females) == 3\n",
    "assert len(females['year']) == 139\n",
    "assert 1880 in females['year']\n",
    "assert 2018 in females['year']\n",
    "assert 'Mary' in females['name']\n",
    "assert 'Emma' in females['name']\n",
    "assert 6919 in females['count']\n",
    "\n",
    "\n",
    "malepath = os.path.join(datadir, \"topmale.csv\")\n",
    "males = readBabynames2DoL(malepath)\n",
    "assert len(males) == 3\n",
    "assert len(males['count']) == 139\n",
    "assert 1880 in males['year']\n",
    "assert 2018 in males['year']\n",
    "assert 'John' in males['name']\n",
    "assert 'Liam' in males['name']\n",
    "assert 8769 in males['count']\n"
   ]
  },
  {
   "cell_type": "markdown",
   "metadata": {
    "deletable": false,
    "editable": false,
    "nbgrader": {
     "cell_type": "markdown",
     "checksum": "e9053f9770e389649d40e2cb79c93566",
     "grade": false,
     "grade_id": "cell-c5ba2a472628bbf8",
     "locked": true,
     "schema_version": 3,
     "solution": false,
     "task": false
    }
   },
   "source": [
    "**Q2:** Write a function\n",
    "\n",
    "    readNamesCount2LoL(path)\n",
    "\n",
    "that reads from the file at location `path` and returns a List of Lists (where inner lists are rows of the data set).  The format of the file is a *CSV file*.  The first line is a comma separated set of string names for the columns contained in the file.  In this case `year,name,count`.  Subsequent lines have, on each line, comma separated values for a data mapping, where the first value gives the independent variable value of the year, and the second and third values on the line give the string name and the integer count. Be sure to convert `year` and `count` to integers.\n",
    "\n",
    "Your function should return both a list of the column names, and the list of lists, in that order.\n",
    "\n",
    "In the `datadir` directory, there are files `topfemale.csv` and `topmale.csv` that are formatted in this way. In the testing cell, we use your `readNames()` function to extract the header (`fheader`) and the List of Lists (`female`) obtained from `topfemale.csv`. Similarly, we extract `mheader` and `males` from `topmale.csv`."
   ]
  },
  {
   "cell_type": "code",
   "execution_count": null,
   "metadata": {
    "deletable": false,
    "nbgrader": {
     "cell_type": "code",
     "checksum": "2367619e2deaae14c460f5b2f7d4d912",
     "grade": false,
     "grade_id": "cell-9d31e0bd2282efbf",
     "locked": false,
     "schema_version": 3,
     "solution": true,
     "task": false
    }
   },
   "outputs": [],
   "source": [
    "# Solution cell\n",
    "\n",
    "# YOUR CODE HERE\n",
    "raise NotImplementedError()"
   ]
  },
  {
   "cell_type": "code",
   "execution_count": null,
   "metadata": {
    "deletable": false,
    "editable": false,
    "nbgrader": {
     "cell_type": "code",
     "checksum": "44f95932d9d56f537fb9373edc77cd6e",
     "grade": true,
     "grade_id": "cell-eb7a054370919de2",
     "locked": true,
     "points": 5,
     "schema_version": 3,
     "solution": false,
     "task": false
    }
   },
   "outputs": [],
   "source": [
    "# Testing cell\n",
    "\n",
    "femalepath = os.path.join(datadir, \"topfemale.csv\")\n",
    "fheader, females = readNamesCount2LoL(femalepath)\n",
    "assert fheader == ['year','name','count']\n",
    "assert len(females) == 139\n",
    "assert [1880,'Mary',7065] in females\n",
    "assert [2018,'Emma',18688] in females\n",
    "assert females[0][1] == 'Mary'\n",
    "assert females[138][0] == 2018\n",
    "assert females[137][2] == 19800\n",
    "\n",
    "\n",
    "malepath = os.path.join(datadir, \"topmale.csv\")\n",
    "mheader, males = readNamesCount2LoL(malepath)\n",
    "assert mheader == ['year','name','count']\n",
    "assert len(males) == 139\n",
    "assert [1880,'John',9655] in males\n",
    "assert [2018,'Liam',19837] in males\n",
    "assert males[0][1] == 'John'\n",
    "assert males[138][0] == 2018\n",
    "assert males[137][2] == 18798"
   ]
  },
  {
   "cell_type": "markdown",
   "metadata": {
    "deletable": false,
    "editable": false,
    "nbgrader": {
     "cell_type": "markdown",
     "checksum": "0ec81339b1f86496cadd4c533576a224",
     "grade": false,
     "grade_id": "cell-63c9e152ce80287c",
     "locked": true,
     "schema_version": 3,
     "solution": false,
     "task": false
    }
   },
   "source": [
    "**Q3:** Write a function\n",
    "\n",
    "    convertDoL2LoL(D)\n",
    "\n",
    "that converts from a Dictionary of Lists representation in `D` to the equivalent List of Lists representation, returning both the list of column names, as given by the keys of `D`, as well as a list of lists storing the data in the values of `D`. Note that, because we do not know the order of mappings in a dictionary, the order of fields in the column names, and the order of fields in the rows of the data set may not be apparent. But as long as all rows as well as the list of column names is consistent, the conversion is valid. Hint: a list comprehension might come in handy.\n",
    "\n",
    "In the testing cell, we use your function on `topfemale.csv` and `topmale.csv` as above, and we also rely on your function `readBabynames2DoL(path)` from above."
   ]
  },
  {
   "cell_type": "code",
   "execution_count": null,
   "metadata": {
    "deletable": false,
    "nbgrader": {
     "cell_type": "code",
     "checksum": "e1a76fc469c40c35dc6fc51ed7b91272",
     "grade": false,
     "grade_id": "cell-e460b9ab40ae430a",
     "locked": false,
     "schema_version": 3,
     "solution": true,
     "task": false
    }
   },
   "outputs": [],
   "source": [
    "# Solution cell\n",
    "\n",
    "# YOUR CODE HERE\n",
    "raise NotImplementedError()\n",
    "    \n"
   ]
  },
  {
   "cell_type": "code",
   "execution_count": null,
   "metadata": {
    "deletable": false,
    "editable": false,
    "nbgrader": {
     "cell_type": "code",
     "checksum": "b81d8802d630903c8bf952ba56b75959",
     "grade": true,
     "grade_id": "cell-76b2b6e0b7d9fe50",
     "locked": true,
     "points": 4,
     "schema_version": 3,
     "solution": false,
     "task": false
    }
   },
   "outputs": [],
   "source": [
    "# Testing cell\n",
    "\n",
    "femalepath = os.path.join(datadir, \"topfemale.csv\")\n",
    "femaleDict = readBabynames2DoL(femalepath)\n",
    "females = convertDoL2LoL(femaleDict)\n",
    "assert len(females) == 139\n",
    "assert [1880,'Mary',7065] in females\n",
    "assert [2018,'Emma',18688] in females\n",
    "\n",
    "\n",
    "malepath = os.path.join(datadir, \"topmale.csv\")\n",
    "malesDict = readBabynames2DoL(malepath)\n",
    "males = convertDoL2LoL(malesDict)\n",
    "assert len(males) == 139\n",
    "assert [1880,'John',9655] in males\n",
    "assert [2018,'Liam',19837] in males\n"
   ]
  },
  {
   "cell_type": "markdown",
   "metadata": {
    "deletable": false,
    "editable": false,
    "nbgrader": {
     "cell_type": "markdown",
     "checksum": "854b94e7a56346208918164a38802df8",
     "grade": false,
     "grade_id": "cell-a06ff85a3bb41b10",
     "locked": true,
     "schema_version": 3,
     "solution": false,
     "task": false
    }
   },
   "source": [
    "**Q4:** Write a function\n",
    "\n",
    "    convertLoL2DoL(columns, data)\n",
    "    \n",
    "that converts from a List of Lists to a Dictionary of Lists `D`, which you return. Here, `columns` is a list of column names (which will become the keys in `D`), and `data` is a list of row lists. \n",
    "\n",
    "In the testing cell, we use your function on `topfemale.csv` and `topmale.csv` as above, and we also rely on your function `readNamesCount2LoL(path)` from above."
   ]
  },
  {
   "cell_type": "code",
   "execution_count": null,
   "metadata": {
    "deletable": false,
    "nbgrader": {
     "cell_type": "code",
     "checksum": "e06e4b32bdfbdf58aa91e67bd913e7f8",
     "grade": false,
     "grade_id": "cell-8ea17850818d185d",
     "locked": false,
     "schema_version": 3,
     "solution": true,
     "task": false
    }
   },
   "outputs": [],
   "source": [
    "# Solution cell\n",
    "\n",
    "# YOUR CODE HERE\n",
    "raise NotImplementedError()\n",
    "    \n"
   ]
  },
  {
   "cell_type": "code",
   "execution_count": null,
   "metadata": {
    "deletable": false,
    "editable": false,
    "nbgrader": {
     "cell_type": "code",
     "checksum": "63506876a854c5827c58f95345231f13",
     "grade": true,
     "grade_id": "cell-a7d4785cea11a0b6",
     "locked": true,
     "points": 4,
     "schema_version": 3,
     "solution": false,
     "task": false
    }
   },
   "outputs": [],
   "source": [
    "# Testing cell\n",
    "\n",
    "femalepath = os.path.join(datadir, \"topfemale.csv\")\n",
    "fheader, femalesList = readNamesCount2LoL(femalepath)\n",
    "females = convertLoL2DoL(fheader, femalesList)\n",
    "assert len(females) == 3\n",
    "assert len(females['year']) == 139\n",
    "assert 1880 in females['year']\n",
    "assert 2018 in females['year']\n",
    "assert 'Mary' in females['name']\n",
    "assert 'Emma' in females['name']\n",
    "assert 6919 in females['count']\n",
    "\n",
    "\n",
    "malepath = os.path.join(datadir, \"topmale.csv\")\n",
    "mheader, malesList = readNamesCount2LoL(malepath)\n",
    "males = convertLoL2DoL(mheader, malesList)\n",
    "assert len(males) == 3\n",
    "assert len(males['count']) == 139\n",
    "assert 1880 in males['year']\n",
    "assert 2018 in males['year']\n",
    "assert 'John' in males['name']\n",
    "assert 'Liam' in males['name']\n",
    "assert 8769 in males['count']\n"
   ]
  },
  {
   "cell_type": "code",
   "execution_count": null,
   "metadata": {},
   "outputs": [],
   "source": []
  }
 ],
 "metadata": {
  "kernelspec": {
   "display_name": "Python 3",
   "language": "python",
   "name": "python3"
  },
  "language_info": {
   "codemirror_mode": {
    "name": "ipython",
    "version": 3
   },
   "file_extension": ".py",
   "mimetype": "text/x-python",
   "name": "python",
   "nbconvert_exporter": "python",
   "pygments_lexer": "ipython3",
   "version": "3.7.4"
  }
 },
 "nbformat": 4,
 "nbformat_minor": 2
}
