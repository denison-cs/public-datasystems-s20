{
 "cells": [
  {
   "cell_type": "markdown",
   "metadata": {},
   "source": [
    "Before you turn this problem in, make sure everything runs as expected. First, **restart the kernel** (in the menubar, select Kernel$\\rightarrow$Restart) and then **run all cells** (in the menubar, select Cell$\\rightarrow$Run All).\n",
    "\n",
    "Make sure you fill in any place that says `YOUR CODE HERE` or \"YOUR ANSWER HERE\", as well as your name and collaborators below:"
   ]
  },
  {
   "cell_type": "code",
   "execution_count": null,
   "metadata": {},
   "outputs": [],
   "source": [
    "NAME = \"\"\n",
    "COLLABORATORS = \"\""
   ]
  },
  {
   "cell_type": "markdown",
   "metadata": {},
   "source": [
    "---"
   ]
  },
  {
   "cell_type": "code",
   "execution_count": null,
   "metadata": {},
   "outputs": [],
   "source": [
    "import pandas as pd\n",
    "import os\n",
    "import os.path\n",
    "import json"
   ]
  },
  {
   "cell_type": "code",
   "execution_count": null,
   "metadata": {},
   "outputs": [],
   "source": [
    "def getmysql_creds(dirname=\".\",filename=\"creds.json\"):\n",
    "    \"\"\" Using directory and filename parameters, open a credentials file\n",
    "        and obtain the four parts needed for a connection string to\n",
    "        a remote provider using the \"mysql\" dictionary within\n",
    "        an outer dictionary.  \n",
    "        \n",
    "        Return a scheme, server, user, and password\n",
    "    \"\"\"\n",
    "    assert os.path.isfile(os.path.join(dirname, filename))\n",
    "    with open(os.path.join(dirname, filename)) as f:\n",
    "        D = json.load(f)\n",
    "    mysql = D[\"mysql\"]\n",
    "    return mysql[\"scheme\"], mysql[\"server\"], mysql[\"user\"], mysql[\"pass\"]"
   ]
  },
  {
   "cell_type": "markdown",
   "metadata": {},
   "source": [
    "## Set User Credentials\n",
    "\n",
    "With a shared resource at a provider like a MySQL RDBMS, we need to use credentials to authenticate ourselves to the server, and need the logical location of the server itself.\n",
    "\n",
    "For these notebooks, these are kept in a text file named 'creds.json', stored either in the same directory or in a data directory.  For this notebook, this is stored in the same directory as the notebook.\n",
    "\n",
    "- Right click on the `creds.json` file and select *Open With*->*Editor*\n",
    "- Replace the mysql dictionary's key for \"user\" (currently `\"nostudent\"`) with the base part of your email address (i.e. without the `.denison.edu`).  Your password on the mysql server, at present, is the same as your user, so change that from `\"nostudent\"` as well.  The server should be correct, mapped to `\"hadoop2.mathsci.denison.edu\"`. Likewise, the scheme should be correct, mapped to `\"mysql+mysqlconnector\"`. \n",
    "\n",
    "**Make sure to use double quotes for strings** ... this is `JSON`, not Python, and we have to follow JSON syntax.\n",
    "\n",
    "Once this is complete, execute the following cell to get these values into global variables."
   ]
  },
  {
   "cell_type": "code",
   "execution_count": null,
   "metadata": {},
   "outputs": [],
   "source": [
    "scheme, server, user, password = getmysql_creds()"
   ]
  },
  {
   "cell_type": "markdown",
   "metadata": {},
   "source": [
    "## Package Double Check\n",
    "\n",
    "If you followed all the instructions at the initial install of Anaconda on your computer, these packages should already be installed on your machine.  \n",
    "\n",
    "1. Check for what SQL-related packages are installed:  Click the `+` in the upper left of Jupyter Lab and open a Terminal.  At the command prompt, type the following command:\n",
    "\n",
    "    `$ conda list | grep sql`\n",
    "\n",
    "    I get the following:\n",
    "    ```\n",
    "    ipython-sql               0.3.9                    pypi_0    pypi\n",
    "    mysql-connector-c         6.1.11               hccea1a4_0  \n",
    "    mysql-connector-python    8.0.18           py37h3febbb0_1  \n",
    "    sqlalchemy                1.3.9            py37h1de35cc_0  \n",
    "    sqlite                    3.30.1               ha441bb4_0  \n",
    "    sqlparse                  0.3.0                    pypi_0    pypi\n",
    "    ```\n",
    "\n",
    "2. If `mysql-connector-python` is not present:\n",
    "\n",
    "    `$ conda install mysql-connector-python`\n",
    "    \n",
    "    Accept the defaults and install.\n",
    "    \n",
    "3. If `ipython-sql`  is not present:\n",
    "\n",
    "    `$ pip install ipython-sql`\n",
    "    \n",
    "    Accept the defaults and install"
   ]
  },
  {
   "cell_type": "markdown",
   "metadata": {},
   "source": [
    "## Establish Connection to Server from This Notebook Client\n",
    "\n",
    "### Connection String\n",
    "\n",
    "A connection string rolls togther the information about the scheme, the user, the password, and the server.  At this point, it is still just a string that we have constructed in Python, and named `cstring`."
   ]
  },
  {
   "cell_type": "code",
   "execution_count": null,
   "metadata": {},
   "outputs": [],
   "source": [
    "template = '{}://{}:{}@{}/'\n",
    "cstring = template.format(scheme, user, password, server)"
   ]
  },
  {
   "cell_type": "markdown",
   "metadata": {},
   "source": [
    "### Load Notebook Extension to Enable \"SQL Magic\"\n",
    "\n",
    "This extension is provided by the `ipython-sql` package installed previously, and allows the three forms of sql within Notebooks (code cells, not markdown cells)\n",
    "\n",
    "1. `%%sql`: Magic to make an entire multi-line cell be interpreted as an SQL to be sent as a request to a connected server.\n",
    "2. Single line `%sql`: Magic to allow a single line SQL, placed in its entirety to the right of the `%sql` and the only thing in the cell.\n",
    "3. Embedded `%sql`: Magic to allow the SQL *following the `%sql`* to be executed as part of a larger Python code block.  This allows the integration of Python code and variables incorporated with sql requests.\n",
    "\n",
    "**Execute the following cell to load the sql-magics extension**\n",
    "\n",
    "> Note that if this cell is executed a second time within the same kernel, it will not reload.  Normally this is fine, unless the sql magics module has changed."
   ]
  },
  {
   "cell_type": "code",
   "execution_count": null,
   "metadata": {},
   "outputs": [],
   "source": [
    "%load_ext sql"
   ]
  },
  {
   "cell_type": "markdown",
   "metadata": {},
   "source": [
    "### Establish Connection from Client to Server\n",
    "\n",
    "The cell below uses the Python variable constructed earlier to actually establish a connection with the server.  If when you execute this cell, you get a `'Connected'` message, you are ready to proceed.  If not, then the most likely problem is one with the JSON specifications of your credentials.  Much less likely is a problem with the user that was created in the MySQL Server.\n",
    "\n",
    "If you cannot get a connection established, switch over to MySQL Workbench and try from that different client."
   ]
  },
  {
   "cell_type": "code",
   "execution_count": null,
   "metadata": {},
   "outputs": [],
   "source": [
    "%sql $cstring"
   ]
  },
  {
   "cell_type": "markdown",
   "metadata": {},
   "source": [
    "### Tell the Provider the Default Database\n",
    "\n",
    "In the next cell, we use a multi-line sql to issue our first real SQL: a statement that sets the default database to use for future interactions.  In this case, we want to use the `book` database, that includes many of the tables we have seen and used in the last few chapters.\n",
    "\n",
    "Expected result is a reflection of the connection string and an empty return, with 0 rows and an empty list.  This is because the result of this SQL has no rows to give back as a result."
   ]
  },
  {
   "cell_type": "code",
   "execution_count": null,
   "metadata": {},
   "outputs": [],
   "source": [
    "%%sql\n",
    "USE book"
   ]
  },
  {
   "cell_type": "markdown",
   "metadata": {},
   "source": [
    "## Focus on Projecting Columns\n",
    "\n",
    "1. Project the `pop` column from the `indicators0` table"
   ]
  },
  {
   "cell_type": "code",
   "execution_count": null,
   "metadata": {
    "deletable": false,
    "nbgrader": {
     "cell_type": "code",
     "checksum": "c2441aed074812ec651769bd50ed6775",
     "grade": true,
     "grade_id": "cell-bbdb09230afb60cf",
     "locked": false,
     "points": 0,
     "schema_version": 3,
     "solution": true,
     "task": false
    }
   },
   "outputs": [],
   "source": [
    "# YOUR CODE HERE\n",
    "raise NotImplementedError()"
   ]
  },
  {
   "cell_type": "markdown",
   "metadata": {},
   "source": [
    "2. Project the `name` column from the `topnames` table.\n",
    "\n",
    "    - Then amend the query to limit the results to at most 8 rows."
   ]
  },
  {
   "cell_type": "code",
   "execution_count": null,
   "metadata": {
    "deletable": false,
    "nbgrader": {
     "cell_type": "code",
     "checksum": "ebc78e4b40bc31b96eba7b7133a9160b",
     "grade": true,
     "grade_id": "cell-58c56df855d38574",
     "locked": false,
     "points": 0,
     "schema_version": 3,
     "solution": true,
     "task": false
    }
   },
   "outputs": [],
   "source": [
    "# YOUR CODE HERE\n",
    "raise NotImplementedError()"
   ]
  },
  {
   "cell_type": "markdown",
   "metadata": {},
   "source": [
    "3. Project the `year`, `sex` and `name` columns from the `topnames` table, limiting to at most 7 rows"
   ]
  },
  {
   "cell_type": "code",
   "execution_count": null,
   "metadata": {
    "deletable": false,
    "nbgrader": {
     "cell_type": "code",
     "checksum": "bd4d6b4407cc8e5194773c813415eebf",
     "grade": true,
     "grade_id": "cell-0c2358da49ac4d00",
     "locked": false,
     "points": 0,
     "schema_version": 3,
     "solution": true,
     "task": false
    }
   },
   "outputs": [],
   "source": [
    "# YOUR CODE HERE\n",
    "raise NotImplementedError()"
   ]
  },
  {
   "cell_type": "markdown",
   "metadata": {},
   "source": [
    "4. Project the `code', `pop`, and `gdp` fields of `indicators0`, but, in the result, name the second field `Population` and the third field `GDP`."
   ]
  },
  {
   "cell_type": "code",
   "execution_count": null,
   "metadata": {
    "deletable": false,
    "nbgrader": {
     "cell_type": "code",
     "checksum": "fc4c3d460ad0000521df9309c499b48e",
     "grade": true,
     "grade_id": "cell-700f5e57163c2bbf",
     "locked": false,
     "points": 0,
     "schema_version": 3,
     "solution": true,
     "task": false
    }
   },
   "outputs": [],
   "source": [
    "# YOUR CODE HERE\n",
    "raise NotImplementedError()"
   ]
  },
  {
   "cell_type": "markdown",
   "metadata": {},
   "source": [
    "5. Project all columns (by wildcard) from the `indicators0` table."
   ]
  },
  {
   "cell_type": "code",
   "execution_count": null,
   "metadata": {
    "deletable": false,
    "nbgrader": {
     "cell_type": "code",
     "checksum": "903be12aaa4daa0d90207bb7afd91544",
     "grade": true,
     "grade_id": "cell-4681f17650a04111",
     "locked": false,
     "points": 0,
     "schema_version": 3,
     "solution": true,
     "task": false
    }
   },
   "outputs": [],
   "source": [
    "# YOUR CODE HERE\n",
    "raise NotImplementedError()"
   ]
  },
  {
   "cell_type": "markdown",
   "metadata": {},
   "source": [
    "6. Project all columns from the `topnames` table such that the result starts with the most recent year, working backwards toward the oldest year.  You can limit the result to 10 records."
   ]
  },
  {
   "cell_type": "code",
   "execution_count": null,
   "metadata": {
    "deletable": false,
    "nbgrader": {
     "cell_type": "code",
     "checksum": "d24765b11d863e0e821da85e84b2bc61",
     "grade": true,
     "grade_id": "cell-4ed695d350858603",
     "locked": false,
     "points": 0,
     "schema_version": 3,
     "solution": true,
     "task": false
    }
   },
   "outputs": [],
   "source": [
    "# YOUR CODE HERE\n",
    "raise NotImplementedError()"
   ]
  },
  {
   "cell_type": "markdown",
   "metadata": {},
   "source": [
    "7. Project all columns from the `topnames` table such that the result starts with the most recent year, working backwards toward the oldest year, and so that `'Female'` occurs before `'Male'` within each year.  You can limit the result to 8 records."
   ]
  },
  {
   "cell_type": "code",
   "execution_count": null,
   "metadata": {
    "deletable": false,
    "nbgrader": {
     "cell_type": "code",
     "checksum": "d5e09cf35fdc661563fb01eaaf08f8b2",
     "grade": true,
     "grade_id": "cell-15ad4bac4745f2e1",
     "locked": false,
     "points": 0,
     "schema_version": 3,
     "solution": true,
     "task": false
    }
   },
   "outputs": [],
   "source": [
    "# YOUR CODE HERE\n",
    "raise NotImplementedError()"
   ]
  },
  {
   "cell_type": "markdown",
   "metadata": {},
   "source": [
    "## Focus on Selecting and Filtering Rows\n",
    "\n",
    "In this next section, we explore how, in SQL, we create subsets of the *rows* (or *records* of the data requested from tables.\n",
    "\n",
    "1. Start by changing the default database to the `nycflights13` schema."
   ]
  },
  {
   "cell_type": "code",
   "execution_count": null,
   "metadata": {
    "deletable": false,
    "nbgrader": {
     "cell_type": "code",
     "checksum": "34e200cf9524b3f5bc347a2bce73c00b",
     "grade": true,
     "grade_id": "cell-fdd69d0580bc859c",
     "locked": false,
     "points": 0,
     "schema_version": 3,
     "solution": true,
     "task": false
    }
   },
   "outputs": [],
   "source": [
    "# YOUR CODE HERE\n",
    "raise NotImplementedError()"
   ]
  },
  {
   "cell_type": "markdown",
   "metadata": {},
   "source": [
    "2. Project the `tzone` column from the `airports` table.\n",
    "    - Then amend your query to filter based on uniqueness"
   ]
  },
  {
   "cell_type": "code",
   "execution_count": null,
   "metadata": {
    "deletable": false,
    "nbgrader": {
     "cell_type": "code",
     "checksum": "aadd9eb60c0cc03663cf21460c6993b6",
     "grade": true,
     "grade_id": "cell-63a23ed93dd586d3",
     "locked": false,
     "points": 0,
     "schema_version": 3,
     "solution": true,
     "task": false
    }
   },
   "outputs": [],
   "source": [
    "# YOUR CODE HERE\n",
    "raise NotImplementedError()"
   ]
  },
  {
   "cell_type": "markdown",
   "metadata": {},
   "source": [
    "3. Project unique `manufacturer` and `engine` combinations from the `planes` table.  Is this a different result than the unique manufacturers?  Why or why not?\n",
    "    - Amend your query to sort by manufacturer"
   ]
  },
  {
   "cell_type": "code",
   "execution_count": null,
   "metadata": {
    "deletable": false,
    "nbgrader": {
     "cell_type": "code",
     "checksum": "a9d186a50562b5cfc6bd8a06fcb37f07",
     "grade": true,
     "grade_id": "cell-f8e20df48f1107a5",
     "locked": false,
     "points": 0,
     "schema_version": 3,
     "solution": true,
     "task": false
    }
   },
   "outputs": [],
   "source": [
    "# YOUR CODE HERE\n",
    "raise NotImplementedError()"
   ]
  },
  {
   "cell_type": "markdown",
   "metadata": {},
   "source": [
    "4. As a way of seeing how to deal with two databases *without* changing the default, use the database name *and* table name to get the distinct `income` categories from the `countries` table of the `book` database."
   ]
  },
  {
   "cell_type": "code",
   "execution_count": null,
   "metadata": {
    "deletable": false,
    "nbgrader": {
     "cell_type": "code",
     "checksum": "20f34e9a2ce2d460f34f6bbe1f81e138",
     "grade": true,
     "grade_id": "cell-ab3a1d8387116bde",
     "locked": false,
     "points": 0,
     "schema_version": 3,
     "solution": true,
     "task": false
    }
   },
   "outputs": [],
   "source": [
    "# YOUR CODE HERE\n",
    "raise NotImplementedError()"
   ]
  },
  {
   "cell_type": "markdown",
   "metadata": {},
   "source": [
    "5. Project all columns from the `indicators1` view in the `book` database where the population is greater than 1000."
   ]
  },
  {
   "cell_type": "code",
   "execution_count": null,
   "metadata": {
    "deletable": false,
    "nbgrader": {
     "cell_type": "code",
     "checksum": "e23290511241c9b6e09cfa9933313d62",
     "grade": true,
     "grade_id": "cell-77e7b880c2e9051f",
     "locked": false,
     "points": 0,
     "schema_version": 3,
     "solution": true,
     "task": false
    }
   },
   "outputs": [],
   "source": [
    "# YOUR CODE HERE\n",
    "raise NotImplementedError()"
   ]
  },
  {
   "cell_type": "markdown",
   "metadata": {},
   "source": [
    "6. Project `carrier` and `flight` for those distinct records in the `flight` table where the departure delay is more than 600 minutes.  How many records do we get if we do not eliminate duplicates?"
   ]
  },
  {
   "cell_type": "code",
   "execution_count": null,
   "metadata": {
    "deletable": false,
    "nbgrader": {
     "cell_type": "code",
     "checksum": "ac4beccd0cb4123bb44efe7caa063154",
     "grade": true,
     "grade_id": "cell-505e28c82a35af86",
     "locked": false,
     "points": 0,
     "schema_version": 3,
     "solution": true,
     "task": false
    }
   },
   "outputs": [],
   "source": [
    "# YOUR CODE HERE\n",
    "raise NotImplementedError()"
   ]
  },
  {
   "cell_type": "markdown",
   "metadata": {},
   "source": [
    "7. Same question as before, but also restrict to records with *either* American Airlines ('AA') or Delta ('DL') as the carrier."
   ]
  },
  {
   "cell_type": "code",
   "execution_count": null,
   "metadata": {
    "deletable": false,
    "nbgrader": {
     "cell_type": "code",
     "checksum": "e85abab6458b602da3de7a98e67e1abd",
     "grade": true,
     "grade_id": "cell-d5c482d59fc25e24",
     "locked": false,
     "points": 0,
     "schema_version": 3,
     "solution": true,
     "task": false
    }
   },
   "outputs": [],
   "source": [
    "# YOUR CODE HERE\n",
    "raise NotImplementedError()"
   ]
  },
  {
   "cell_type": "markdown",
   "metadata": {},
   "source": [
    "8. Find the plane models that have a seat capacity more than or equal to 140 and less than or equal to 149. Use the SQL to specify a range.\n",
    "    - How would you change you query to see if the range is inclusive or exclusive on the two ends"
   ]
  },
  {
   "cell_type": "code",
   "execution_count": null,
   "metadata": {
    "deletable": false,
    "nbgrader": {
     "cell_type": "code",
     "checksum": "db595da480b947552f089586a1f40be9",
     "grade": true,
     "grade_id": "cell-9b5cdd3968d02106",
     "locked": false,
     "points": 0,
     "schema_version": 3,
     "solution": true,
     "task": false
    }
   },
   "outputs": [],
   "source": [
    "# YOUR CODE HERE\n",
    "raise NotImplementedError()"
   ]
  },
  {
   "cell_type": "markdown",
   "metadata": {},
   "source": [
    "9. Repeat question 7, but use the SQL *Set Inclusion* condition.  Then extend to include Frontier ('F9')"
   ]
  },
  {
   "cell_type": "code",
   "execution_count": null,
   "metadata": {
    "deletable": false,
    "nbgrader": {
     "cell_type": "code",
     "checksum": "fcc766ffdcf4ca5c6ec24af7c27ccffb",
     "grade": true,
     "grade_id": "cell-f6755a81e6427ac2",
     "locked": false,
     "points": 0,
     "schema_version": 3,
     "solution": true,
     "task": false
    }
   },
   "outputs": [],
   "source": [
    "# YOUR CODE HERE\n",
    "raise NotImplementedError()"
   ]
  },
  {
   "cell_type": "markdown",
   "metadata": {},
   "source": [
    "10. Find the airports that have the string \"Island\" anywhere in their name."
   ]
  },
  {
   "cell_type": "code",
   "execution_count": null,
   "metadata": {
    "deletable": false,
    "nbgrader": {
     "cell_type": "code",
     "checksum": "d3f601b799a665ae8dab83a564cb6b32",
     "grade": true,
     "grade_id": "cell-e02aa04966e98e54",
     "locked": false,
     "points": 0,
     "schema_version": 3,
     "solution": true,
     "task": false
    }
   },
   "outputs": [],
   "source": [
    "# YOUR CODE HERE\n",
    "raise NotImplementedError()"
   ]
  }
 ],
 "metadata": {
  "kernelspec": {
   "display_name": "Python 3",
   "language": "python",
   "name": "python3"
  },
  "language_info": {
   "codemirror_mode": {
    "name": "ipython",
    "version": 3
   },
   "file_extension": ".py",
   "mimetype": "text/x-python",
   "name": "python",
   "nbconvert_exporter": "python",
   "pygments_lexer": "ipython3",
   "version": "3.7.6"
  }
 },
 "nbformat": 4,
 "nbformat_minor": 4
}
