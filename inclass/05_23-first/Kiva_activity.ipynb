{
 "cells": [
  {
   "cell_type": "markdown",
   "metadata": {},
   "source": [
    "# Chapter 23 - first half\n",
    "\n",
    "The main goals of this inclass activity are\n",
    "\n",
    "- get practice with curl in the terminal\n",
    "- learn how to use curl in an ipynb setting, with %%bash\n",
    "- practice with learning about APIs\n",
    "- practice with GET requests and file extensions\n",
    "- practice with POST\n",
    "\n",
    "In the reading, you learned about APIs for GitHub and TMDB. With this activity and the homework you'll learn about Kiva loans."
   ]
  },
  {
   "cell_type": "markdown",
   "metadata": {},
   "source": [
    "## Understanding Paginated Results\n",
    "\n",
    "**Step 1**\n",
    "\n",
    "1. Read the Terms of Use Agreement: https://www.kiva.org/legal/terms\n",
    "2. Read the Code of Conduct: https://www.kiva.org/build/code-of-conduct\n",
    "3. Study the API: we've given you the info you need to avoid this in the current worksheet\n",
    "\n",
    "The API has changed in the past year to become more complicated, but you can still access data from Kiva using the old API approach. That old approach is decribed at the following link. Recall, we learned about the Way Back Machine in the reading questions:\n",
    "\n",
    "https://web.archive.org/web/20190629032937/https://build.kiva.org/api\n",
    "\n",
    "**Step 2**\n",
    "\n",
    "Start playing with how to get data from http://api.kivaws.org\n",
    "\n",
    "API methods can be tested easily with most any browser. As an example, try out the loans/search method using HTML output:\n",
    "\n",
    "    http://api.kivaws.org/v1/loans/search.html?status=fundraising\n",
    "\n",
    "API calls with the .html extension are designed for testing or debugging. If the browser or tool you are using easily supports viewing XML output you might try using the .xml extension instead:\n",
    "\n",
    "    http://api.kivaws.org/v1/loans/search.xml?status=fundraising\n",
    "\n",
    "Try changing up some of the parameters and see how the search results change. What URL would you use to access the same data in JSON format?"
   ]
  },
  {
   "cell_type": "markdown",
   "metadata": {},
   "source": [
    "*Solution cell*\n",
    "\n",
    "    http://api.kivaws.org/v1/loans/search.json?status=fundraising\n"
   ]
  },
  {
   "cell_type": "markdown",
   "metadata": {},
   "source": [
    "From the reading, it should be clear to you that we are using a *query parameter* corresponding to a Python dictionary `{'status':'fundraising'}`. Just like in the reading, we can use `&` to provide the URI with multiple query parameters at once. Here are two more that we commonly use (and that come up on your homework):\n",
    "\n",
    "- page\n",
    "  -  A number for the page of data to return (results are segmented into pages).\n",
    "- per_page\n",
    "  -  A number telling how many results per page you want to see\n",
    "\n",
    "Both of these parameters will hopefully be familiar to you from times you have used a search engine like Google.\n",
    "\n",
    "In our example link above, the default is to take you to Page 1 (out of 145 at the time of writing):\n",
    "\n",
    "    http://api.kivaws.org/v1/loans/search.html?status=fundraising\n",
    "\n",
    "You can see \"Page 1 out of 145\" in the top line of the results. Note that, by the time you go to this link, it might have changed, if more loans were made and the data source updated correspondingly.\n",
    "\n",
    "To get the second page of results instead of the first, you can add a query parameter using `page`:\n",
    "\n",
    "    http://api.kivaws.org/v1/loans/search.html?status=fundraising&page=2\n",
    "    \n",
    "Note that the first line now says \"Page 2 out of 145\". You can also change how many results you want to see per page, just like a search engine. For example, to see 100 results per page, you would do:\n",
    "\n",
    "    http://api.kivaws.org/v1/loans/search.html?status=fundraising&per_page=100\n",
    "\n",
    "Note that when showing 100 results per page, you only need 29 pages to get through all the results, instead of 145. How would you modify this URI to show you the third page, with 50 pages per day?"
   ]
  },
  {
   "cell_type": "markdown",
   "metadata": {},
   "source": [
    "*Solution cell*\n",
    "\n"
   ]
  },
  {
   "cell_type": "markdown",
   "metadata": {},
   "source": [
    "Here are some more parameters that the loans/search method can take:\n",
    "\n",
    "- status\n",
    "  -  Any of: fundraising,funded,in_repayment,paid,defaulted\n",
    "- gender\n",
    "  -  Any of: male,female\n",
    "- sector\n",
    "  -  Matches against a sector name such as agriculture\n",
    "- region\n",
    "  -  Any of: na,ca,sa,af,as,me,ee\n",
    "- country_code\n",
    "  -  Matches a two-digit ISO country code.\n",
    "- partner\n",
    "  -  Matches one or more partner IDs.\n",
    "- q\n",
    "  -  A general search string to match against various properties of loans\n",
    "- sort_by\n",
    "  -  Any of: popularity,loan_amount,oldest,expiration,newest, amount_remaining,repayment_term\n",
    "\n",
    "Here's how you'd make a request for all loans in Cambodia or Mongolia that are actively paying back, sorted by the amount of the loan:\n",
    "\n",
    "    http://api.kivaws.org/v1/loans/search.html?country_code=kh,mn&sort;_by=loan_amount&status;=in_repayment\n",
    "\n",
    "Please come up with three more examples that make use of the first eight parameters above (that is, everything except `page`)."
   ]
  },
  {
   "cell_type": "markdown",
   "metadata": {},
   "source": [
    "*Solution cell*\n"
   ]
  },
  {
   "cell_type": "markdown",
   "metadata": {},
   "source": [
    "*Solution cell*\n"
   ]
  },
  {
   "cell_type": "markdown",
   "metadata": {},
   "source": [
    "*Solution cell*\n"
   ]
  },
  {
   "cell_type": "markdown",
   "metadata": {},
   "source": [
    "## Curl\n",
    "\n",
    "In all the examples above, you needed to physically copy and paste the URLs into a web browser to test your results. This is obviously terrible from a computer science perspective.\n",
    "\n",
    "One step in the right direction (to at least have a reproducible workflow all in one document) is to use `curl`. For example, with the first link given above, we have\n",
    "\n",
    "    curl --get --url http://api.kivaws.org/v1/loans/search.html?status=fundraising\n",
    "\n",
    "We can run this command in Jupyter via the following cell:"
   ]
  },
  {
   "cell_type": "code",
   "execution_count": 3,
   "metadata": {
    "collapsed": true,
    "jupyter": {
     "outputs_hidden": true
    }
   },
   "outputs": [
    {
     "name": "stdout",
     "output_type": "stream",
     "text": [
      "<!DOCTYPE html PUBLIC \"-//W3C//DTD XHTML 1.0 Strict//EN\" \"http://www.w3.org/TR/xhtml1/DTD/xhtml1-strict.dtd\">\n",
      "<html xmlns=\"http://www.w3.org/1999/xhtml\">\n",
      "<head>\n",
      "\t<title>Kiva API: v1/loans/search.html</title>\n",
      "\t<meta http-equiv=\"Content-Type\" content=\"text/html; charset=utf-8\" />\n",
      "\t<link rel=\"shortcut icon\" href=\"favicon.ico\" type=\"image/x-icon\" />\n",
      "\t<style type=\"text/css\">\n",
      "\tbody {\n",
      "\t\tbackground-color: #CCCCCC;\n",
      "\t\tcolor: #333333;\n",
      "\t\tfont: .875em/1.357 arial,helvetica,sans-serif;\n",
      "\t}\n",
      "\n",
      "\th1, h2, h3, h4 {\n",
      "\t\tcolor: #4B9123;\n",
      "\t}\n",
      "\n",
      "\ttable {\n",
      "\t\twidth: 100%;\n",
      "\t\tmin-width: 500px;\n",
      "\t\tmax-width: 1500px;\n",
      "\t}\n",
      "\ttr:nth-child(even) td {\n",
      "\t\tbackground: #C3DCAD;\n",
      "\t};\n",
      "\n",
      "\ttr:nth-child(odd) td {\n",
      "\t\tbackground: #FFFFFF;\n",
      "\t}\n",
      "\n",
      "\t#content {\n",
      "\t\tbackground-color: #FFFFFF;\n",
      "\t\tborder: 1px solid #DDDDDD;\n",
      "\t\tpadding: 5px 10px;\n",
      "\t}\n",
      "\t#footer {\n",
      "\t\tfont-size: 90%;\n",
      "\t\tmargin-top: 10px;\n",
      "\t\tcolor: #888888;\n",
      "\t}\n",
      "\n",
      "\t</style>\n",
      "\t</head>\n",
      "<body>\n",
      "\t<div id=\"header\">\n",
      "\t</div>\n",
      "\n",
      "\t\t\n",
      "\t<div id=\"content\">\n",
      "\t\n",
      "Page 1 out of 145 (2889 total results)\n",
      "<table>\n",
      "\t<h2>loans</h2>\n",
      "\t<tr> <th>Id</th> <th>Title</th>  <th>Location</th> <th>Activity</th> \n",
      "\t\t<th>Number of Borrowers</th>\n",
      "\t\t<th>Paid/Raised</th> <th>Loan Amount</th> </tr>    \n",
      "\t<!-- Here is where we loop through our $posts array, printing out post info -->\n",
      "\t \n",
      "\t\t<tr  >\n",
      "\t\t\t<td>1961740</td>\n",
      "\t\t\t<td><a href=\"/v1/loans/1961740\">Emarencia</a>\t\t\t</td>\n",
      "\t\t\t<td>Kabondo West, Homa Bay, Kenya</td>\n",
      "\t\t\t<td>Farm Supplies</td>\n",
      "\t\t\t<td>1</td>\n",
      "\t\t\t<td>$0</td>\n",
      "\t\t\t<td>$150</td>\n",
      "\t\t</tr>\n",
      "\t \n",
      "\t\t<tr  >\n",
      "\t\t\t<td>1961737</td>\n",
      "\t\t\t<td><a href=\"/v1/loans/1961737\">Agnaeta</a>\t\t\t</td>\n",
      "\t\t\t<td>Kakamega, Kenya</td>\n",
      "\t\t\t<td>Bricks</td>\n",
      "\t\t\t<td>1</td>\n",
      "\t\t\t<td>$0</td>\n",
      "\t\t\t<td>$375</td>\n",
      "\t\t</tr>\n",
      "\t \n",
      "\t\t<tr  >\n",
      "\t\t\t<td>1961739</td>\n",
      "\t\t\t<td><a href=\"/v1/loans/1961739\">Juliana</a>\t\t\t</td>\n",
      "\t\t\t<td>Kamara, Nakuru, Kenya</td>\n",
      "\t\t\t<td>Farming</td>\n",
      "\t\t\t<td>1</td>\n",
      "\t\t\t<td>$0</td>\n",
      "\t\t\t<td>$75</td>\n",
      "\t\t</tr>\n",
      "\t \n",
      "\t\t<tr  >\n",
      "\t\t\t<td>1961728</td>\n",
      "\t\t\t<td><a href=\"/v1/loans/1961728\">Edwin</a>\t\t\t</td>\n",
      "\t\t\t<td>Ibanda, Uganda</td>\n",
      "\t\t\t<td>Retail</td>\n",
      "\t\t\t<td>1</td>\n",
      "\t\t\t<td>$0</td>\n",
      "\t\t\t<td>$275</td>\n",
      "\t\t</tr>\n",
      "\t \n",
      "\t\t<tr  >\n",
      "\t\t\t<td>1961736</td>\n",
      "\t\t\t<td><a href=\"/v1/loans/1961736\">James</a>\t\t\t</td>\n",
      "\t\t\t<td>Tindiret, Nandi, Kenya</td>\n",
      "\t\t\t<td>Agriculture</td>\n",
      "\t\t\t<td>1</td>\n",
      "\t\t\t<td>$0</td>\n",
      "\t\t\t<td>$75</td>\n",
      "\t\t</tr>\n",
      "\t \n",
      "\t\t<tr  >\n",
      "\t\t\t<td>1961730</td>\n",
      "\t\t\t<td><a href=\"/v1/loans/1961730\">Milcah</a>\t\t\t</td>\n",
      "\t\t\t<td>Tindiret, Nandi, Kenya</td>\n",
      "\t\t\t<td>Agriculture</td>\n",
      "\t\t\t<td>1</td>\n",
      "\t\t\t<td>$0</td>\n",
      "\t\t\t<td>$100</td>\n",
      "\t\t</tr>\n",
      "\t \n",
      "\t\t<tr  >\n",
      "\t\t\t<td>1961734</td>\n",
      "\t\t\t<td><a href=\"/v1/loans/1961734\">Elizabeth</a>\t\t\t</td>\n",
      "\t\t\t<td>Kakamega, Kenya</td>\n",
      "\t\t\t<td>Motorcycle Repair</td>\n",
      "\t\t\t<td>1</td>\n",
      "\t\t\t<td>$25</td>\n",
      "\t\t\t<td>$300</td>\n",
      "\t\t</tr>\n",
      "\t \n",
      "\t\t<tr  >\n",
      "\t\t\t<td>1961735</td>\n",
      "\t\t\t<td><a href=\"/v1/loans/1961735\">Loeurt</a>\t\t\t</td>\n",
      "\t\t\t<td>Siem Reap Province, Cambodia</td>\n",
      "\t\t\t<td>Farm Supplies</td>\n",
      "\t\t\t<td>1</td>\n",
      "\t\t\t<td>$0</td>\n",
      "\t\t\t<td>$500</td>\n",
      "\t\t</tr>\n",
      "\t \n",
      "\t\t<tr  >\n",
      "\t\t\t<td>1961722</td>\n",
      "\t\t\t<td><a href=\"/v1/loans/1961722\">Joan</a>\t\t\t</td>\n",
      "\t\t\t<td>Kabiyet, Nandi, Kenya</td>\n",
      "\t\t\t<td>Agriculture</td>\n",
      "\t\t\t<td>1</td>\n",
      "\t\t\t<td>$0</td>\n",
      "\t\t\t<td>$125</td>\n",
      "\t\t</tr>\n",
      "\t \n",
      "\t\t<tr  >\n",
      "\t\t\t<td>1961724</td>\n",
      "\t\t\t<td><a href=\"/v1/loans/1961724\">Dorcas</a>\t\t\t</td>\n",
      "\t\t\t<td>Kipsomba, Uasin Gishu, Kenya</td>\n",
      "\t\t\t<td>Farming</td>\n",
      "\t\t\t<td>1</td>\n",
      "\t\t\t<td>$0</td>\n",
      "\t\t\t<td>$175</td>\n",
      "\t\t</tr>\n",
      "\t \n",
      "\t\t<tr  >\n",
      "\t\t\t<td>1961726</td>\n",
      "\t\t\t<td><a href=\"/v1/loans/1961726\">John</a>\t\t\t</td>\n",
      "\t\t\t<td>Tindiret, Nandi, Kenya</td>\n",
      "\t\t\t<td>Agriculture</td>\n",
      "\t\t\t<td>1</td>\n",
      "\t\t\t<td>$0</td>\n",
      "\t\t\t<td>$225</td>\n",
      "\t\t</tr>\n",
      "\t \n",
      "\t\t<tr  >\n",
      "\t\t\t<td>1961729</td>\n",
      "\t\t\t<td><a href=\"/v1/loans/1961729\">Jeniffer</a>\t\t\t</td>\n",
      "\t\t\t<td>Segero/Barsombe, Uasin Gishu, Kenya</td>\n",
      "\t\t\t<td>Agriculture</td>\n",
      "\t\t\t<td>1</td>\n",
      "\t\t\t<td>$0</td>\n",
      "\t\t\t<td>$125</td>\n",
      "\t\t</tr>\n",
      "\t \n",
      "\t\t<tr  >\n",
      "\t\t\t<td>1961732</td>\n",
      "\t\t\t<td><a href=\"/v1/loans/1961732\">Jairo</a>\t\t\t</td>\n",
      "\t\t\t<td>Central Sakwa, Migori, Kenya</td>\n",
      "\t\t\t<td>Agriculture</td>\n",
      "\t\t\t<td>1</td>\n",
      "\t\t\t<td>$0</td>\n",
      "\t\t\t<td>$150</td>\n",
      "\t\t</tr>\n",
      "\t \n",
      "\t\t<tr  >\n",
      "\t\t\t<td>1961733</td>\n",
      "\t\t\t<td><a href=\"/v1/loans/1961733\">Alice</a>\t\t\t</td>\n",
      "\t\t\t<td>Chemelil/Chemase, Nandi, Kenya</td>\n",
      "\t\t\t<td>Agriculture</td>\n",
      "\t\t\t<td>1</td>\n",
      "\t\t\t<td>$0</td>\n",
      "\t\t\t<td>$150</td>\n",
      "\t\t</tr>\n",
      "\t \n",
      "\t\t<tr  >\n",
      "\t\t\t<td>1961720</td>\n",
      "\t\t\t<td><a href=\"/v1/loans/1961720\">Janet</a>\t\t\t</td>\n",
      "\t\t\t<td>Kilibwoni, Nandi, Kenya</td>\n",
      "\t\t\t<td>Farming</td>\n",
      "\t\t\t<td>1</td>\n",
      "\t\t\t<td>$0</td>\n",
      "\t\t\t<td>$125</td>\n",
      "\t\t</tr>\n",
      "\t \n",
      "\t\t<tr  >\n",
      "\t\t\t<td>1961721</td>\n",
      "\t\t\t<td><a href=\"/v1/loans/1961721\">Michael</a>\t\t\t</td>\n",
      "\t\t\t<td>Soy, Uasin Gishu, Kenya</td>\n",
      "\t\t\t<td>Agriculture</td>\n",
      "\t\t\t<td>1</td>\n",
      "\t\t\t<td>$0</td>\n",
      "\t\t\t<td>$525</td>\n",
      "\t\t</tr>\n",
      "\t \n",
      "\t\t<tr  >\n",
      "\t\t\t<td>1961725</td>\n",
      "\t\t\t<td><a href=\"/v1/loans/1961725\">Rose</a>\t\t\t</td>\n",
      "\t\t\t<td>Bungoma, Kenya</td>\n",
      "\t\t\t<td>Beauty Salon</td>\n",
      "\t\t\t<td>1</td>\n",
      "\t\t\t<td>$0</td>\n",
      "\t\t\t<td>$475</td>\n",
      "\t\t</tr>\n",
      "\t \n",
      "\t\t<tr  >\n",
      "\t\t\t<td>1961727</td>\n",
      "\t\t\t<td><a href=\"/v1/loans/1961727\">Petru</a>\t\t\t</td>\n",
      "\t\t\t<td>Telenești, Moldova</td>\n",
      "\t\t\t<td>Personal Housing Expenses</td>\n",
      "\t\t\t<td>1</td>\n",
      "\t\t\t<td>$0</td>\n",
      "\t\t\t<td>$1400</td>\n",
      "\t\t</tr>\n",
      "\t \n",
      "\t\t<tr  >\n",
      "\t\t\t<td>1961719</td>\n",
      "\t\t\t<td><a href=\"/v1/loans/1961719\">Georgina</a>\t\t\t</td>\n",
      "\t\t\t<td>Kosirai, Nandi, Kenya</td>\n",
      "\t\t\t<td>Agriculture</td>\n",
      "\t\t\t<td>1</td>\n",
      "\t\t\t<td>$0</td>\n",
      "\t\t\t<td>$175</td>\n",
      "\t\t</tr>\n",
      "\t \n",
      "\t\t<tr  >\n",
      "\t\t\t<td>1961717</td>\n",
      "\t\t\t<td><a href=\"/v1/loans/1961717\">Olesea</a>\t\t\t</td>\n",
      "\t\t\t<td>Telenești, Moldova</td>\n",
      "\t\t\t<td>Personal Housing Expenses</td>\n",
      "\t\t\t<td>1</td>\n",
      "\t\t\t<td>$0</td>\n",
      "\t\t\t<td>$850</td>\n",
      "\t\t</tr>\n",
      "\t</table>\n",
      " \n",
      "\t</div>\n",
      "\t\n",
      "\t<div id=\"footer\">\n",
      "\t\t<b><tt>.json</tt></b> for a response in JSON<br/>\n",
      "\t\t<b><tt>.xml</tt></b> for a response in XML\n",
      "\t</div>\n",
      "</body>\n",
      "</html>\n"
     ]
    },
    {
     "name": "stderr",
     "output_type": "stream",
     "text": [
      "  % Total    % Received % Xferd  Average Speed   Time    Time     Time  Current\n",
      "                                 Dload  Upload   Total   Spent    Left  Speed\n",
      "100  5406  100  5406    0     0  10142      0 --:--:-- --:--:-- --:--:-- 10142\n"
     ]
    }
   ],
   "source": [
    "%%bash\n",
    "\n",
    "curl --get --url http://api.kivaws.org/v1/loans/search.html?status=fundraising"
   ]
  },
  {
   "cell_type": "markdown",
   "metadata": {},
   "source": [
    "Please use three `%%bash` cells below to run `curl` commands for the three links provided above in the examples about the query parameters `page=` and `per_page=`."
   ]
  },
  {
   "cell_type": "code",
   "execution_count": null,
   "metadata": {},
   "outputs": [],
   "source": [
    "%%bash\n",
    "\n",
    "### BEGIN SOLUTION \n",
    "curl \n",
    "### END SOLUTION\n"
   ]
  },
  {
   "cell_type": "code",
   "execution_count": null,
   "metadata": {},
   "outputs": [],
   "source": [
    "%%bash\n",
    "\n",
    "### BEGIN SOLUTION \n",
    "\n",
    "### END SOLUTION\n"
   ]
  },
  {
   "cell_type": "code",
   "execution_count": null,
   "metadata": {},
   "outputs": [],
   "source": [
    "%%bash\n",
    "\n",
    "### BEGIN SOLUTION \n",
    "\n",
    "### END SOLUTION\n"
   ]
  },
  {
   "cell_type": "markdown",
   "metadata": {},
   "source": [
    "## Programmatic\n",
    "\n",
    "While `curl` is fun and powerful, we have not illustrated yet how to actually store the results of a `curl` GET command for use in a program. Thankfully, we previously learned how to get results from the web into Python native data structures using the `requests` module. Please run the following cell."
   ]
  },
  {
   "cell_type": "code",
   "execution_count": 5,
   "metadata": {},
   "outputs": [],
   "source": [
    "import requests\n",
    "import json\n",
    "import io\n",
    "from lxml import etree"
   ]
  },
  {
   "cell_type": "markdown",
   "metadata": {},
   "source": [
    "We return now to our Kiva loan problem.\n",
    "\n",
    "**Step 3**\n",
    "\n",
    "Write, in a global cell, the programmatic way to get the data as xml and yields the root Element of the xml tree."
   ]
  },
  {
   "cell_type": "code",
   "execution_count": 25,
   "metadata": {},
   "outputs": [
    {
     "name": "stdout",
     "output_type": "stream",
     "text": [
      "200\n"
     ]
    }
   ],
   "source": [
    "url = \"http://api.kivaws.org/v1/loans/search.xml\"\n",
    "searchTerms = {'status': 'fundraising'}\n",
    "resp = requests.get(url, params=searchTerms)\n",
    "print(resp.status_code)"
   ]
  },
  {
   "cell_type": "code",
   "execution_count": 26,
   "metadata": {},
   "outputs": [],
   "source": [
    "xmldata = etree.parse(io.BytesIO(resp.content)).getroot()"
   ]
  },
  {
   "cell_type": "code",
   "execution_count": 7,
   "metadata": {},
   "outputs": [
    {
     "name": "stdout",
     "output_type": "stream",
     "text": [
      "paging {} None\n",
      "loans {'type': 'list'} None\n"
     ]
    }
   ],
   "source": [
    "for child in xmldata:\n",
    "    print(child.tag, child.attrib, child.text)"
   ]
  },
  {
   "cell_type": "markdown",
   "metadata": {},
   "source": [
    "**Step 4** Make the above a **function** `getRootKivas()` with no parameters that returns a Python data structure, or `None`, if there was a problem."
   ]
  },
  {
   "cell_type": "code",
   "execution_count": null,
   "metadata": {},
   "outputs": [],
   "source": [
    "### BEGIN SOLUTION \n",
    "\n",
    "### END SOLUTION"
   ]
  },
  {
   "cell_type": "markdown",
   "metadata": {},
   "source": [
    "**Step 5** Refine your function to take and use a **page** parameter, so `getRootKivas(p)` gives the results from page `p`. Please solve this by creating a URI with a `?` and bringing `p` into a format string."
   ]
  },
  {
   "cell_type": "code",
   "execution_count": null,
   "metadata": {},
   "outputs": [],
   "source": [
    "### BEGIN SOLUTION \n",
    "def getRootKivas(p):\n",
    "    endpoint = 'loans/newest.json?page={}'\n",
    "    kiva_api = 'http://api.kivaws.org/v1/'\n",
    "    \n",
    "    r = requests.get(kiva_api + endpoint.format(p))\n",
    "    if r.status_code == 200:\n",
    "        newest_page = json.loads(r.text)\n",
    "        print(newest_page['paging'])\n",
    "    else:\n",
    "        print(\"Error getting page\")\n",
    "    \n",
    "    return r\n",
    "### END SOLUTION"
   ]
  },
  {
   "cell_type": "code",
   "execution_count": null,
   "metadata": {},
   "outputs": [],
   "source": [
    "r = getRootKivas(42)\n",
    "r.request.url"
   ]
  },
  {
   "cell_type": "markdown",
   "metadata": {},
   "source": [
    "**5b** Now solve the same problem by passing a dictionary to `get`. Here is an example. Please write a general function."
   ]
  },
  {
   "cell_type": "code",
   "execution_count": null,
   "metadata": {},
   "outputs": [],
   "source": [
    "kiva_api = 'http://api.kivaws.org/v1/'\n",
    "endpoint = 'loans/newest.json'\n",
    "getargs = {'page': 42}\n",
    "r = req.get(kiva_api + endpoint, params=getargs)\n",
    "n = json.loads(r.text)\n",
    "print(n['paging'])\n",
    "print()\n",
    "print(n['loans'][0])"
   ]
  },
  {
   "cell_type": "code",
   "execution_count": null,
   "metadata": {},
   "outputs": [],
   "source": [
    "### BEGIN SOLUTION \n",
    "def getRootKivas(p):\n",
    "    endpoint = 'loans/newest.json'\n",
    "    kiva_api = 'http://api.kivaws.org/v1/'\n",
    "    getargs = {'page': p}\n",
    "    r = requests.get(kiva_api + endpoint, params=getargs)\n",
    "    if r.status_code == 200:\n",
    "        newest_page = json.loads(r.text)\n",
    "        #print(newest_page['paging'])\n",
    "    else:\n",
    "        return None\n",
    "    \n",
    "    return r\n",
    "### END SOLUTION"
   ]
  },
  {
   "cell_type": "markdown",
   "metadata": {},
   "source": [
    "**Step 6** Refine your function further to take and use a **per_page** parameter, so `getRootKivas(p,n)` gives the results from page `p`, when each page has `n` results."
   ]
  },
  {
   "cell_type": "code",
   "execution_count": null,
   "metadata": {},
   "outputs": [],
   "source": [
    "### BEGIN SOLUTION \n",
    "def getRootKivas(p,n):\n",
    "    endpoint = 'loans/newest.json'\n",
    "    kiva_api = 'http://api.kivaws.org/v1/'\n",
    "    getargs = {'page': p, 'per_page':n}\n",
    "    r = requests.get(kiva_api + endpoint, params=getargs)\n",
    "    if r.status_code != 200:\n",
    "        return None\n",
    "    \n",
    "    return r\n",
    "### END SOLUTION"
   ]
  },
  {
   "cell_type": "markdown",
   "metadata": {},
   "source": [
    "**Step 7** Refine your function further to take and use a **sector** parameter, so `getRootKivas(p,n,s)` gives the results from page `p`, when each page has `n` results, and the sector is `s` (e.g., 'Agriculture')."
   ]
  },
  {
   "cell_type": "code",
   "execution_count": null,
   "metadata": {},
   "outputs": [],
   "source": [
    "### BEGIN SOLUTION \n",
    "def getRootKivas(p,n,s):\n",
    "    endpoint = 'loans/newest.json'\n",
    "    kiva_api = 'http://api.kivaws.org/v1/'\n",
    "    getargs = {'page': p, 'per_page':n, 'sector': s}\n",
    "    r = requests.get(kiva_api + endpoint, params=getargs)\n",
    "    if r.status_code != 200:\n",
    "        return None\n",
    "    \n",
    "    return r\n",
    "### END SOLUTION\n"
   ]
  },
  {
   "cell_type": "code",
   "execution_count": null,
   "metadata": {},
   "outputs": [],
   "source": [
    "# Testing cell\n",
    "r = getRootKivas(2,10,'agriculture')\n",
    "n = json.loads(r.text)\n",
    "print(n['paging'])"
   ]
  },
  {
   "cell_type": "markdown",
   "metadata": {},
   "source": [
    "**Step 8** Refine your function further to take and use **theme** and **status** parameters, so `getRootKivas(p,n,sec,theme,stat)` gives the results from page `p`, when each page has `n` results, and the sector is `sec`, and the theme is `theme` (e.g., 'Higher Eduction') and the status is `stat` (e.g. 'funded')."
   ]
  },
  {
   "cell_type": "code",
   "execution_count": null,
   "metadata": {},
   "outputs": [],
   "source": [
    "### BEGIN SOLUTION \n",
    "def getRootKivas(p,n,sec,theme,stat):\n",
    "    endpoint = 'loans/newest.json'\n",
    "    kiva_api = 'http://api.kivaws.org/v1/'\n",
    "    getargs = {'page': p, 'per_page':n, 'sector': sec, 'themes': theme, 'status': stat}\n",
    "    r = requests.get(kiva_api + endpoint, params=getargs)\n",
    "    if r.status_code != 200:\n",
    "        return None\n",
    "    \n",
    "    return r\n",
    "### END SOLUTION"
   ]
  },
  {
   "cell_type": "code",
   "execution_count": null,
   "metadata": {},
   "outputs": [],
   "source": [
    "# Testing cell\n",
    "r = getRootKivas(1,10,'agriculture','Higher Education','funded')\n",
    "n = json.loads(r.text)\n",
    "print(n['paging'])"
   ]
  },
  {
   "cell_type": "markdown",
   "metadata": {},
   "source": [
    "**Step 9** Refine your function further to take a parameter for the endpoint_type. In all the examples above, it was `newest`, but poking around on the Kiva website, `search` would have also worked. Think about what other types work."
   ]
  },
  {
   "cell_type": "code",
   "execution_count": null,
   "metadata": {},
   "outputs": [],
   "source": [
    "### BEGIN SOLUTION \n",
    "def getRootKivas(p,n,sec,theme,stat,endpoint_type):\n",
    "    endpoint = 'loans/{}.json'.format(endpoint_type)\n",
    "    kiva_api = 'http://api.kivaws.org/v1/'\n",
    "    getargs = {'page': p, 'per_page':n, 'sector': sec, 'themes': theme, 'status': stat}\n",
    "    r = requests.get(kiva_api + endpoint, params=getargs)\n",
    "    if r.status_code != 200:\n",
    "        return None\n",
    "    \n",
    "    return r\n",
    "### END SOLUTION"
   ]
  },
  {
   "cell_type": "markdown",
   "metadata": {},
   "source": [
    "**Step 10** Can you make your function even more general? For example, every invocation above seeks data along the path `http://api.kivaws.org/v1/loans/`. What else in that path can be modified to be a parameter?"
   ]
  },
  {
   "cell_type": "code",
   "execution_count": null,
   "metadata": {},
   "outputs": [],
   "source": [
    "### BEGIN SOLUTION \n",
    "\n",
    "### END SOLUTION"
   ]
  },
  {
   "cell_type": "markdown",
   "metadata": {},
   "source": [
    "## A more in-depth example\n",
    "\n",
    "In the example above, we assumed the data would come to us in XML form. We now generalize that, then show how to build in query parameters.\n",
    "\n",
    "**Q1** Please write a function \n",
    "\n",
    "    kiva_newest(baseurl, apiobject, method, form = 'json')\n",
    "    \n",
    "that takes four string parameters (where the fourth is optional), builds a correct URL, and executes a `requests.get`, returning the result (or `None` if there is a problem). The fourth parameter is the format of the data. Please refer to the examples above."
   ]
  },
  {
   "cell_type": "code",
   "execution_count": 7,
   "metadata": {},
   "outputs": [],
   "source": [
    "### BEGIN SOLUTION \n",
    "def kiva_newest(baseurl, apiobject, method, form = 'json'):\n",
    "    \"\"\"\n",
    "    Parameters: \n",
    "    Return: response object\n",
    "    \"\"\"\n",
    "    url = \"{}/{}/{}.{}\".format(baseurl, apiobject, method, form)\n",
    "    r = requests.get(url)\n",
    "    return r\n",
    "### END SOLUTION"
   ]
  },
  {
   "cell_type": "code",
   "execution_count": 13,
   "metadata": {
    "collapsed": true,
    "jupyter": {
     "outputs_hidden": true
    }
   },
   "outputs": [
    {
     "name": "stdout",
     "output_type": "stream",
     "text": [
      "{\"paging\":{\"page\":1,\"total\":2881,\"page_size\":20,\"pages\":145},\"loans\":[{\"id\":1961740,\"name\":\"Emarencia\",\"description\":{\"languages\":[\"en\"]},\"status\":\"fundraising\",\"funded_amount\":25,\"basket_amount\":0,\"image\":{\"id\":3443346,\"template_id\":1},\"activity\":\"Farm Supplies\",\"sector\":\"Agriculture\",\"use\":\"to access premium seeds and high quality fertilizer for one acre of maize, in addition to advice and insurance, optimizing for increased productivity and profits.\",\"location\":{\"country_code\":\"KE\",\"country\":\"Kenya\",\"town\":\"Kabondo West, Homa Bay\",\"geo\":{\"level\":\"town\",\"pairs\":\"-0.44775 34.891382\",\"type\":\"point\"}},\"partner_id\":596,\"posted_date\":\"2020-04-23T22:50:08Z\",\"planned_expiration_date\":\"2020-06-07T22:50:08Z\",\"loan_amount\":150,\"borrower_count\":1,\"lender_count\":1,\"bonus_credit_eligibility\":false,\"tags\":[]},{\"id\":1961737,\"name\":\"Agnaeta\",\"description\":{\"languages\":[\"en\"]},\"status\":\"fundraising\",\"funded_amount\":0,\"basket_amount\":0,\"image\":{\"id\":3500446,\"template_id\":1},\"activity\":\"Bricks\",\"sector\":\"Construction\",\"use\":\"to expand her brick making business by buying more materials and expanding her storage room.\",\"location\":{\"country_code\":\"KE\",\"country\":\"Kenya\",\"town\":\"Kakamega\",\"geo\":{\"level\":\"town\",\"pairs\":\"0.283333 34.75\",\"type\":\"point\"}},\"partner_id\":386,\"posted_date\":\"2020-04-23T22:40:09Z\",\"planned_expiration_date\":\"2020-06-07T22:40:09Z\",\"loan_amount\":375,\"borrower_count\":1,\"lender_count\":0,\"bonus_credit_eligibility\":true,\"tags\":[]},{\"id\":1961739,\"name\":\"Juliana\",\"description\":{\"languages\":[\"en\"]},\"status\":\"fundraising\",\"funded_amount\":0,\"basket_amount\":0,\"image\":{\"id\":3443342,\"template_id\":1},\"activity\":\"Farming\",\"sector\":\"Agriculture\",\"use\":\"to access premium seeds and high quality fertilizer for 0.5 acres of maize, in addition to advice and insurance, optimizing for increased productivity and profits.\",\"location\":{\"country_code\":\"KE\",\"country\":\"Kenya\",\"town\":\"Kamara, Nakuru\",\"geo\":{\"level\":\"town\",\"pairs\":\"-0.087234 35.680609\",\"type\":\"point\"}},\"partner_id\":596,\"posted_date\":\"2020-04-23T22:40:09Z\",\"planned_expiration_date\":\"2020-06-07T22:40:09Z\",\"loan_amount\":75,\"borrower_count\":1,\"lender_count\":0,\"bonus_credit_eligibility\":false,\"tags\":[]},{\"id\":1961728,\"name\":\"Edwin\",\"description\":{\"languages\":[\"en\"]},\"status\":\"fundraising\",\"funded_amount\":0,\"basket_amount\":0,\"image\":{\"id\":3494616,\"template_id\":1},\"activity\":\"Retail\",\"sector\":\"Retail\",\"use\":\"to restock her shop to increase sales and generate income.\",\"location\":{\"country_code\":\"UG\",\"country\":\"Uganda\",\"town\":\"Ibanda\",\"geo\":{\"level\":\"town\",\"pairs\":\"-0.116667 30.483333\",\"type\":\"point\"}},\"partner_id\":222,\"posted_date\":\"2020-04-23T22:40:08Z\",\"planned_expiration_date\":\"2020-06-07T22:40:08Z\",\"loan_amount\":275,\"borrower_count\":1,\"lender_count\":0,\"bonus_credit_eligibility\":true,\"tags\":[]},{\"id\":1961736,\"name\":\"James\",\"description\":{\"languages\":[\"en\"]},\"status\":\"fundraising\",\"funded_amount\":0,\"basket_amount\":0,\"image\":{\"id\":3443340,\"template_id\":1},\"activity\":\"Agriculture\",\"sector\":\"Agriculture\",\"use\":\"to access premium seeds and high quality fertilizer for 0.5 acres of maize, in addition to advice and insurance, to  increase productivity and profits.\",\"location\":{\"country_code\":\"KE\",\"country\":\"Kenya\",\"town\":\"Tindiret, Nandi\",\"geo\":{\"level\":\"town\",\"pairs\":\"-0.076111 35.356389\",\"type\":\"point\"}},\"partner_id\":596,\"posted_date\":\"2020-04-23T22:30:08Z\",\"planned_expiration_date\":\"2020-06-07T22:30:08Z\",\"loan_amount\":75,\"borrower_count\":1,\"lender_count\":0,\"bonus_credit_eligibility\":false,\"tags\":[{\"name\":\"volunteer_pick\",\"id\":\"1\"},{\"name\":\"volunteer_like\",\"id\":\"2\"}]},{\"id\":1961730,\"name\":\"Milcah\",\"description\":{\"languages\":[\"en\"]},\"status\":\"fundraising\",\"funded_amount\":0,\"basket_amount\":0,\"image\":{\"id\":3443266,\"template_id\":1},\"activity\":\"Agriculture\",\"sector\":\"Agriculture\",\"use\":\"to access premium seeds and high quality fertilizer for 0.5 acres of maize, in addition to advice and insurance, to increase her productivity and profits.\",\"location\":{\"country_code\":\"KE\",\"country\":\"Kenya\",\"town\":\"Tindiret, Nandi\",\"geo\":{\"level\":\"town\",\"pairs\":\"-0.076111 35.356389\",\"type\":\"point\"}},\"partner_id\":596,\"posted_date\":\"2020-04-23T22:20:09Z\",\"planned_expiration_date\":\"2020-06-07T22:20:09Z\",\"loan_amount\":100,\"borrower_count\":1,\"lender_count\":0,\"bonus_credit_eligibility\":false,\"tags\":[{\"name\":\"volunteer_pick\",\"id\":\"1\"},{\"name\":\"volunteer_like\",\"id\":\"2\"}]},{\"id\":1961734,\"name\":\"Elizabeth\",\"description\":{\"languages\":[\"en\"]},\"status\":\"fundraising\",\"funded_amount\":50,\"basket_amount\":0,\"image\":{\"id\":3500443,\"template_id\":1},\"activity\":\"Motorcycle Repair\",\"sector\":\"Services\",\"use\":\"to buy more spare parts to boost her business.\",\"location\":{\"country_code\":\"KE\",\"country\":\"Kenya\",\"town\":\"Kakamega\",\"geo\":{\"level\":\"town\",\"pairs\":\"0.283333 34.75\",\"type\":\"point\"}},\"partner_id\":386,\"posted_date\":\"2020-04-23T22:20:09Z\",\"planned_expiration_date\":\"2020-06-07T22:20:09Z\",\"loan_amount\":300,\"borrower_count\":1,\"lender_count\":2,\"bonus_credit_eligibility\":true,\"tags\":[]},{\"id\":1961735,\"name\":\"Loeurt\",\"description\":{\"languages\":[\"en\"]},\"status\":\"fundraising\",\"funded_amount\":0,\"basket_amount\":0,\"image\":{\"id\":3500444,\"template_id\":1},\"activity\":\"Farm Supplies\",\"sector\":\"Agriculture\",\"use\":\"to buy fertilizers, soil, and rice paddy seeds to use in her farm.\",\"location\":{\"country_code\":\"KH\",\"country\":\"Cambodia\",\"town\":\"Siem Reap Province\",\"geo\":{\"level\":\"town\",\"pairs\":\"13.691538 104.100133\",\"type\":\"point\"}},\"partner_id\":9,\"posted_date\":\"2020-04-23T22:20:02Z\",\"planned_expiration_date\":\"2020-06-07T22:20:02Z\",\"loan_amount\":500,\"borrower_count\":1,\"lender_count\":0,\"bonus_credit_eligibility\":true,\"tags\":[{\"name\":\"volunteer_pick\",\"id\":\"1\"},{\"name\":\"volunteer_like\",\"id\":\"2\"}]},{\"id\":1961722,\"name\":\"Joan\",\"description\":{\"languages\":[\"en\"]},\"status\":\"fundraising\",\"funded_amount\":0,\"basket_amount\":0,\"image\":{\"id\":3443248,\"template_id\":1},\"activity\":\"Agriculture\",\"sector\":\"Agriculture\",\"use\":\"to access premium seeds and high quality fertilizer for one acre of maize, in addition to advice and insurance, increasing her productivity and profits.\",\"location\":{\"country_code\":\"KE\",\"country\":\"Kenya\",\"town\":\"Kabiyet, Nandi\",\"geo\":{\"level\":\"town\",\"pairs\":\"0.413503 35.075451\",\"type\":\"point\"}},\"partner_id\":596,\"posted_date\":\"2020-04-23T22:10:10Z\",\"planned_expiration_date\":\"2020-06-07T22:10:09Z\",\"loan_amount\":125,\"borrower_count\":1,\"lender_count\":0,\"bonus_credit_eligibility\":false,\"tags\":[{\"name\":\"volunteer_pick\",\"id\":\"1\"},{\"name\":\"volunteer_like\",\"id\":\"2\"}]},{\"id\":1961724,\"name\":\"Dorcas\",\"description\":{\"languages\":[\"en\"]},\"status\":\"fundraising\",\"funded_amount\":0,\"basket_amount\":0,\"image\":{\"id\":3443283,\"template_id\":1},\"activity\":\"Farming\",\"sector\":\"Agriculture\",\"use\":\"to access premium seeds, high quality fertilizer, advice and insurance for 1 acre of maize to optimize it for increased productivity and profits.\",\"location\":{\"country_code\":\"KE\",\"country\":\"Kenya\",\"town\":\"Kipsomba, Uasin Gishu\",\"geo\":{\"level\":\"town\",\"pairs\":\"0.786965 35.192863\",\"type\":\"point\"}},\"partner_id\":596,\"posted_date\":\"2020-04-23T22:10:10Z\",\"planned_expiration_date\":\"2020-06-07T22:10:10Z\",\"loan_amount\":175,\"borrower_count\":1,\"lender_count\":0,\"bonus_credit_eligibility\":false,\"tags\":[]},{\"id\":1961726,\"name\":\"John\",\"description\":{\"languages\":[\"en\"]},\"status\":\"fundraising\",\"funded_amount\":0,\"basket_amount\":0,\"image\":{\"id\":3443293,\"template_id\":1},\"activity\":\"Agriculture\",\"sector\":\"Agriculture\",\"use\":\"to access premium seeds and high quality fertilizer for 2 acres of maize, in addition to advice and insurance, optimizing productivity and profits.\",\"location\":{\"country_code\":\"KE\",\"country\":\"Kenya\",\"town\":\"Tindiret, Nandi\",\"geo\":{\"level\":\"town\",\"pairs\":\"-0.076111 35.356389\",\"type\":\"point\"}},\"partner_id\":596,\"posted_date\":\"2020-04-23T22:10:10Z\",\"planned_expiration_date\":\"2020-06-07T22:10:10Z\",\"loan_amount\":225,\"borrower_count\":1,\"lender_count\":0,\"bonus_credit_eligibility\":false,\"tags\":[]},{\"id\":1961729,\"name\":\"Jeniffer\",\"description\":{\"languages\":[\"en\"]},\"status\":\"fundraising\",\"funded_amount\":0,\"basket_amount\":0,\"image\":{\"id\":3443297,\"template_id\":1},\"activity\":\"Agriculture\",\"sector\":\"Agriculture\",\"use\":\"to access premium seeds and high quality fertilizer for one acre of maize, in addition to advice and insurance, increasing productivity and profits.\",\"location\":{\"country_code\":\"KE\",\"country\":\"Kenya\",\"town\":\"Segero\\/Barsombe, Uasin Gishu\",\"geo\":{\"level\":\"town\",\"pairs\":\"0.902718 35.335652\",\"type\":\"point\"}},\"partner_id\":596,\"posted_date\":\"2020-04-23T22:10:10Z\",\"planned_expiration_date\":\"2020-06-07T22:10:10Z\",\"loan_amount\":125,\"borrower_count\":1,\"lender_count\":0,\"bonus_credit_eligibility\":false,\"tags\":[{\"name\":\"volunteer_pick\",\"id\":\"1\"},{\"name\":\"volunteer_like\",\"id\":\"2\"}]},{\"id\":1961732,\"name\":\"Jairo\",\"description\":{\"languages\":[\"en\"]},\"status\":\"fundraising\",\"funded_amount\":0,\"basket_amount\":0,\"image\":{\"id\":3443307,\"template_id\":1},\"activity\":\"Agriculture\",\"sector\":\"Agriculture\",\"use\":\"to access premium seeds and high quality fertilizer for one acre of maize, in addition to advice and insurance, to increase productivity and profits.\",\"location\":{\"country_code\":\"KE\",\"country\":\"Kenya\",\"town\":\"Central Sakwa, Migori\",\"geo\":{\"level\":\"town\",\"pairs\":\"-0.848365 34.541762\",\"type\":\"point\"}},\"partner_id\":596,\"posted_date\":\"2020-04-23T22:10:10Z\",\"planned_expiration_date\":\"2020-06-07T22:10:10Z\",\"loan_amount\":150,\"borrower_count\":1,\"lender_count\":0,\"bonus_credit_eligibility\":false,\"tags\":[{\"name\":\"volunteer_pick\",\"id\":\"1\"},{\"name\":\"volunteer_like\",\"id\":\"2\"}]},{\"id\":1961733,\"name\":\"Alice\",\"description\":{\"languages\":[\"en\"]},\"status\":\"fundraising\",\"funded_amount\":0,\"basket_amount\":0,\"image\":{\"id\":3443338,\"template_id\":1},\"activity\":\"Agriculture\",\"sector\":\"Agriculture\",\"use\":\"to access premium seeds and high quality fertilizer for one acre of maize, in addition to advice and insurance, to increase productivity and profits.\",\"location\":{\"country_code\":\"KE\",\"country\":\"Kenya\",\"town\":\"Chemelil\\/Chemase, Nandi\",\"geo\":{\"level\":\"town\",\"pairs\":\"-0.082091 35.135129\",\"type\":\"point\"}},\"partner_id\":596,\"posted_date\":\"2020-04-23T22:10:10Z\",\"planned_expiration_date\":\"2020-06-07T22:10:10Z\",\"loan_amount\":150,\"borrower_count\":1,\"lender_count\":0,\"bonus_credit_eligibility\":false,\"tags\":[{\"name\":\"volunteer_pick\",\"id\":\"1\"},{\"name\":\"volunteer_like\",\"id\":\"2\"}]},{\"id\":1961720,\"name\":\"Janet\",\"description\":{\"languages\":[\"en\"]},\"status\":\"fundraising\",\"funded_amount\":0,\"basket_amount\":0,\"image\":{\"id\":3443292,\"template_id\":1},\"activity\":\"Farming\",\"sector\":\"Agriculture\",\"use\":\"to access premium seeds and high-quality fertilizer for one acre of maize, in addition to advice and insurance, optimizing for increased productivity and profits.\",\"location\":{\"country_code\":\"KE\",\"country\":\"Kenya\",\"town\":\"Kilibwoni, Nandi\",\"geo\":{\"level\":\"town\",\"pairs\":\"0.198665 35.236825\",\"type\":\"point\"}},\"partner_id\":596,\"posted_date\":\"2020-04-23T22:10:09Z\",\"planned_expiration_date\":\"2020-06-07T22:10:09Z\",\"loan_amount\":125,\"borrower_count\":1,\"lender_count\":0,\"bonus_credit_eligibility\":false,\"tags\":[]},{\"id\":1961721,\"name\":\"Michael\",\"description\":{\"languages\":[\"en\"]},\"status\":\"fundraising\",\"funded_amount\":0,\"basket_amount\":0,\"image\":{\"id\":3443352,\"template_id\":1},\"activity\":\"Agriculture\",\"sector\":\"Agriculture\",\"use\":\"to access premium seeds, high quality fertilizer, advice and insurance for 3 acres of maize to optimize it for increased productivity and profits.\",\"location\":{\"country_code\":\"KE\",\"country\":\"Kenya\",\"town\":\"Soy, Uasin Gishu\",\"geo\":{\"level\":\"town\",\"pairs\":\"0.693386 35.192863\",\"type\":\"point\"}},\"partner_id\":596,\"posted_date\":\"2020-04-23T22:10:09Z\",\"planned_expiration_date\":\"2020-06-07T22:10:09Z\",\"loan_amount\":525,\"borrower_count\":1,\"lender_count\":0,\"bonus_credit_eligibility\":false,\"tags\":[]},{\"id\":1961725,\"name\":\"Rose\",\"description\":{\"languages\":[\"en\"]},\"status\":\"fundraising\",\"funded_amount\":0,\"basket_amount\":0,\"image\":{\"id\":3494539,\"template_id\":1},\"activity\":\"Beauty Salon\",\"sector\":\"Services\",\"use\":\"to support her business with the equipment and cosmetics it needs to boost it.\",\"location\":{\"country_code\":\"KE\",\"country\":\"Kenya\",\"town\":\"Bungoma\",\"geo\":{\"level\":\"town\",\"pairs\":\"0.566667 34.566667\",\"type\":\"point\"}},\"partner_id\":386,\"posted_date\":\"2020-04-23T22:10:09Z\",\"planned_expiration_date\":\"2020-06-07T22:10:08Z\",\"loan_amount\":475,\"borrower_count\":1,\"lender_count\":0,\"bonus_credit_eligibility\":true,\"tags\":[{\"name\":\"volunteer_pick\",\"id\":\"1\"},{\"name\":\"volunteer_like\",\"id\":\"2\"}]},{\"id\":1961727,\"name\":\"Petru\",\"description\":{\"languages\":[\"en\"]},\"status\":\"fundraising\",\"funded_amount\":0,\"basket_amount\":0,\"image\":{\"id\":3500436,\"template_id\":1},\"activity\":\"Personal Housing Expenses\",\"sector\":\"Housing\",\"themes\":[\"Earth Day Campaign\",\"Green\",\"Clean Energy\"],\"use\":\"for connecting his house to the gas pipeline.\",\"location\":{\"country_code\":\"MD\",\"country\":\"Moldova\",\"town\":\"Telene\\u0219ti\",\"geo\":{\"level\":\"town\",\"pairs\":\"47.498396 28.367602\",\"type\":\"point\"}},\"partner_id\":413,\"posted_date\":\"2020-04-23T22:10:09Z\",\"planned_expiration_date\":\"2020-06-07T22:10:09Z\",\"loan_amount\":1400,\"borrower_count\":1,\"lender_count\":0,\"bonus_credit_eligibility\":false,\"tags\":[]},{\"id\":1961719,\"name\":\"Georgina\",\"description\":{\"languages\":[\"en\"]},\"status\":\"fundraising\",\"funded_amount\":0,\"basket_amount\":0,\"image\":{\"id\":3443236,\"template_id\":1},\"activity\":\"Agriculture\",\"sector\":\"Agriculture\",\"use\":\"to access premium seeds, high quality fertilizer, advice and insurance for 1.5 acres of maize to optimize it for increased productivity and profits.\",\"location\":{\"country_code\":\"KE\",\"country\":\"Kenya\",\"town\":\"Kosirai, Nandi\",\"geo\":{\"level\":\"town\",\"pairs\":\"0.283438 35.137879\",\"type\":\"point\"}},\"partner_id\":596,\"posted_date\":\"2020-04-23T22:00:09Z\",\"planned_expiration_date\":\"2020-06-07T22:00:09Z\",\"loan_amount\":175,\"borrower_count\":1,\"lender_count\":0,\"bonus_credit_eligibility\":false,\"tags\":[]},{\"id\":1961717,\"name\":\"Olesea\",\"description\":{\"languages\":[\"en\"]},\"status\":\"fundraising\",\"funded_amount\":175,\"basket_amount\":0,\"image\":{\"id\":3500334,\"template_id\":1},\"activity\":\"Personal Housing Expenses\",\"sector\":\"Housing\",\"themes\":[\"Earth Day Campaign\",\"Green\",\"Clean Energy\"],\"use\":\"to install the heating system in her house.\",\"location\":{\"country_code\":\"MD\",\"country\":\"Moldova\",\"town\":\"Telene\\u0219ti\",\"geo\":{\"level\":\"town\",\"pairs\":\"47.498396 28.367602\",\"type\":\"point\"}},\"partner_id\":413,\"posted_date\":\"2020-04-23T22:00:08Z\",\"planned_expiration_date\":\"2020-06-07T22:00:08Z\",\"loan_amount\":850,\"borrower_count\":1,\"lender_count\":7,\"bonus_credit_eligibility\":false,\"tags\":[{\"name\":\"volunteer_pick\",\"id\":\"1\"},{\"name\":\"volunteer_like\",\"id\":\"2\"}]}]}\n"
     ]
    }
   ],
   "source": [
    "# Testing cell\n",
    "\n",
    "baseurl = \"https://api.kivaws.org/v1\"\n",
    "apiobject = \"loans\"\n",
    "method = \"newest\"\n",
    "\n",
    "resp = kiva_newest(baseurl, apiobject, method)\n",
    "print(resp.text)\n"
   ]
  },
  {
   "cell_type": "code",
   "execution_count": 14,
   "metadata": {
    "collapsed": true,
    "jupyter": {
     "outputs_hidden": true
    }
   },
   "outputs": [
    {
     "name": "stdout",
     "output_type": "stream",
     "text": [
      "{\"paging\":{\"page\":1,\"total\":2881,\"page_size\":20,\"pages\":145},\"loans\":[{\"id\":1961740,\"name\":\"Emarencia\",\"description\":{\"languages\":[\"en\"]},\"status\":\"fundraising\",\"funded_amount\":25,\"basket_amount\":0,\"image\":{\"id\":3443346,\"template_id\":1},\"activity\":\"Farm Supplies\",\"sector\":\"Agriculture\",\"use\":\"to access premium seeds and high quality fertilizer for one acre of maize, in addition to advice and insurance, optimizing for increased productivity and profits.\",\"location\":{\"country_code\":\"KE\",\"country\":\"Kenya\",\"town\":\"Kabondo West, Homa Bay\",\"geo\":{\"level\":\"town\",\"pairs\":\"-0.44775 34.891382\",\"type\":\"point\"}},\"partner_id\":596,\"posted_date\":\"2020-04-23T22:50:08Z\",\"planned_expiration_date\":\"2020-06-07T22:50:08Z\",\"loan_amount\":150,\"borrower_count\":1,\"lender_count\":1,\"bonus_credit_eligibility\":false,\"tags\":[]},{\"id\":1961737,\"name\":\"Agnaeta\",\"description\":{\"languages\":[\"en\"]},\"status\":\"fundraising\",\"funded_amount\":0,\"basket_amount\":0,\"image\":{\"id\":3500446,\"template_id\":1},\"activity\":\"Bricks\",\"sector\":\"Construction\",\"use\":\"to expand her brick making business by buying more materials and expanding her storage room.\",\"location\":{\"country_code\":\"KE\",\"country\":\"Kenya\",\"town\":\"Kakamega\",\"geo\":{\"level\":\"town\",\"pairs\":\"0.283333 34.75\",\"type\":\"point\"}},\"partner_id\":386,\"posted_date\":\"2020-04-23T22:40:09Z\",\"planned_expiration_date\":\"2020-06-07T22:40:09Z\",\"loan_amount\":375,\"borrower_count\":1,\"lender_count\":0,\"bonus_credit_eligibility\":true,\"tags\":[]},{\"id\":1961739,\"name\":\"Juliana\",\"description\":{\"languages\":[\"en\"]},\"status\":\"fundraising\",\"funded_amount\":0,\"basket_amount\":0,\"image\":{\"id\":3443342,\"template_id\":1},\"activity\":\"Farming\",\"sector\":\"Agriculture\",\"use\":\"to access premium seeds and high quality fertilizer for 0.5 acres of maize, in addition to advice and insurance, optimizing for increased productivity and profits.\",\"location\":{\"country_code\":\"KE\",\"country\":\"Kenya\",\"town\":\"Kamara, Nakuru\",\"geo\":{\"level\":\"town\",\"pairs\":\"-0.087234 35.680609\",\"type\":\"point\"}},\"partner_id\":596,\"posted_date\":\"2020-04-23T22:40:09Z\",\"planned_expiration_date\":\"2020-06-07T22:40:09Z\",\"loan_amount\":75,\"borrower_count\":1,\"lender_count\":0,\"bonus_credit_eligibility\":false,\"tags\":[]},{\"id\":1961728,\"name\":\"Edwin\",\"description\":{\"languages\":[\"en\"]},\"status\":\"fundraising\",\"funded_amount\":0,\"basket_amount\":0,\"image\":{\"id\":3494616,\"template_id\":1},\"activity\":\"Retail\",\"sector\":\"Retail\",\"use\":\"to restock her shop to increase sales and generate income.\",\"location\":{\"country_code\":\"UG\",\"country\":\"Uganda\",\"town\":\"Ibanda\",\"geo\":{\"level\":\"town\",\"pairs\":\"-0.116667 30.483333\",\"type\":\"point\"}},\"partner_id\":222,\"posted_date\":\"2020-04-23T22:40:08Z\",\"planned_expiration_date\":\"2020-06-07T22:40:08Z\",\"loan_amount\":275,\"borrower_count\":1,\"lender_count\":0,\"bonus_credit_eligibility\":true,\"tags\":[]},{\"id\":1961736,\"name\":\"James\",\"description\":{\"languages\":[\"en\"]},\"status\":\"fundraising\",\"funded_amount\":0,\"basket_amount\":0,\"image\":{\"id\":3443340,\"template_id\":1},\"activity\":\"Agriculture\",\"sector\":\"Agriculture\",\"use\":\"to access premium seeds and high quality fertilizer for 0.5 acres of maize, in addition to advice and insurance, to  increase productivity and profits.\",\"location\":{\"country_code\":\"KE\",\"country\":\"Kenya\",\"town\":\"Tindiret, Nandi\",\"geo\":{\"level\":\"town\",\"pairs\":\"-0.076111 35.356389\",\"type\":\"point\"}},\"partner_id\":596,\"posted_date\":\"2020-04-23T22:30:08Z\",\"planned_expiration_date\":\"2020-06-07T22:30:08Z\",\"loan_amount\":75,\"borrower_count\":1,\"lender_count\":0,\"bonus_credit_eligibility\":false,\"tags\":[{\"name\":\"volunteer_pick\",\"id\":\"1\"},{\"name\":\"volunteer_like\",\"id\":\"2\"}]},{\"id\":1961730,\"name\":\"Milcah\",\"description\":{\"languages\":[\"en\"]},\"status\":\"fundraising\",\"funded_amount\":0,\"basket_amount\":0,\"image\":{\"id\":3443266,\"template_id\":1},\"activity\":\"Agriculture\",\"sector\":\"Agriculture\",\"use\":\"to access premium seeds and high quality fertilizer for 0.5 acres of maize, in addition to advice and insurance, to increase her productivity and profits.\",\"location\":{\"country_code\":\"KE\",\"country\":\"Kenya\",\"town\":\"Tindiret, Nandi\",\"geo\":{\"level\":\"town\",\"pairs\":\"-0.076111 35.356389\",\"type\":\"point\"}},\"partner_id\":596,\"posted_date\":\"2020-04-23T22:20:09Z\",\"planned_expiration_date\":\"2020-06-07T22:20:09Z\",\"loan_amount\":100,\"borrower_count\":1,\"lender_count\":0,\"bonus_credit_eligibility\":false,\"tags\":[{\"name\":\"volunteer_pick\",\"id\":\"1\"},{\"name\":\"volunteer_like\",\"id\":\"2\"}]},{\"id\":1961734,\"name\":\"Elizabeth\",\"description\":{\"languages\":[\"en\"]},\"status\":\"fundraising\",\"funded_amount\":50,\"basket_amount\":0,\"image\":{\"id\":3500443,\"template_id\":1},\"activity\":\"Motorcycle Repair\",\"sector\":\"Services\",\"use\":\"to buy more spare parts to boost her business.\",\"location\":{\"country_code\":\"KE\",\"country\":\"Kenya\",\"town\":\"Kakamega\",\"geo\":{\"level\":\"town\",\"pairs\":\"0.283333 34.75\",\"type\":\"point\"}},\"partner_id\":386,\"posted_date\":\"2020-04-23T22:20:09Z\",\"planned_expiration_date\":\"2020-06-07T22:20:09Z\",\"loan_amount\":300,\"borrower_count\":1,\"lender_count\":2,\"bonus_credit_eligibility\":true,\"tags\":[]},{\"id\":1961735,\"name\":\"Loeurt\",\"description\":{\"languages\":[\"en\"]},\"status\":\"fundraising\",\"funded_amount\":0,\"basket_amount\":0,\"image\":{\"id\":3500444,\"template_id\":1},\"activity\":\"Farm Supplies\",\"sector\":\"Agriculture\",\"use\":\"to buy fertilizers, soil, and rice paddy seeds to use in her farm.\",\"location\":{\"country_code\":\"KH\",\"country\":\"Cambodia\",\"town\":\"Siem Reap Province\",\"geo\":{\"level\":\"town\",\"pairs\":\"13.691538 104.100133\",\"type\":\"point\"}},\"partner_id\":9,\"posted_date\":\"2020-04-23T22:20:02Z\",\"planned_expiration_date\":\"2020-06-07T22:20:02Z\",\"loan_amount\":500,\"borrower_count\":1,\"lender_count\":0,\"bonus_credit_eligibility\":true,\"tags\":[{\"name\":\"volunteer_pick\",\"id\":\"1\"},{\"name\":\"volunteer_like\",\"id\":\"2\"}]},{\"id\":1961722,\"name\":\"Joan\",\"description\":{\"languages\":[\"en\"]},\"status\":\"fundraising\",\"funded_amount\":0,\"basket_amount\":0,\"image\":{\"id\":3443248,\"template_id\":1},\"activity\":\"Agriculture\",\"sector\":\"Agriculture\",\"use\":\"to access premium seeds and high quality fertilizer for one acre of maize, in addition to advice and insurance, increasing her productivity and profits.\",\"location\":{\"country_code\":\"KE\",\"country\":\"Kenya\",\"town\":\"Kabiyet, Nandi\",\"geo\":{\"level\":\"town\",\"pairs\":\"0.413503 35.075451\",\"type\":\"point\"}},\"partner_id\":596,\"posted_date\":\"2020-04-23T22:10:10Z\",\"planned_expiration_date\":\"2020-06-07T22:10:09Z\",\"loan_amount\":125,\"borrower_count\":1,\"lender_count\":0,\"bonus_credit_eligibility\":false,\"tags\":[{\"name\":\"volunteer_pick\",\"id\":\"1\"},{\"name\":\"volunteer_like\",\"id\":\"2\"}]},{\"id\":1961724,\"name\":\"Dorcas\",\"description\":{\"languages\":[\"en\"]},\"status\":\"fundraising\",\"funded_amount\":0,\"basket_amount\":0,\"image\":{\"id\":3443283,\"template_id\":1},\"activity\":\"Farming\",\"sector\":\"Agriculture\",\"use\":\"to access premium seeds, high quality fertilizer, advice and insurance for 1 acre of maize to optimize it for increased productivity and profits.\",\"location\":{\"country_code\":\"KE\",\"country\":\"Kenya\",\"town\":\"Kipsomba, Uasin Gishu\",\"geo\":{\"level\":\"town\",\"pairs\":\"0.786965 35.192863\",\"type\":\"point\"}},\"partner_id\":596,\"posted_date\":\"2020-04-23T22:10:10Z\",\"planned_expiration_date\":\"2020-06-07T22:10:10Z\",\"loan_amount\":175,\"borrower_count\":1,\"lender_count\":0,\"bonus_credit_eligibility\":false,\"tags\":[]},{\"id\":1961726,\"name\":\"John\",\"description\":{\"languages\":[\"en\"]},\"status\":\"fundraising\",\"funded_amount\":0,\"basket_amount\":0,\"image\":{\"id\":3443293,\"template_id\":1},\"activity\":\"Agriculture\",\"sector\":\"Agriculture\",\"use\":\"to access premium seeds and high quality fertilizer for 2 acres of maize, in addition to advice and insurance, optimizing productivity and profits.\",\"location\":{\"country_code\":\"KE\",\"country\":\"Kenya\",\"town\":\"Tindiret, Nandi\",\"geo\":{\"level\":\"town\",\"pairs\":\"-0.076111 35.356389\",\"type\":\"point\"}},\"partner_id\":596,\"posted_date\":\"2020-04-23T22:10:10Z\",\"planned_expiration_date\":\"2020-06-07T22:10:10Z\",\"loan_amount\":225,\"borrower_count\":1,\"lender_count\":0,\"bonus_credit_eligibility\":false,\"tags\":[]},{\"id\":1961729,\"name\":\"Jeniffer\",\"description\":{\"languages\":[\"en\"]},\"status\":\"fundraising\",\"funded_amount\":0,\"basket_amount\":0,\"image\":{\"id\":3443297,\"template_id\":1},\"activity\":\"Agriculture\",\"sector\":\"Agriculture\",\"use\":\"to access premium seeds and high quality fertilizer for one acre of maize, in addition to advice and insurance, increasing productivity and profits.\",\"location\":{\"country_code\":\"KE\",\"country\":\"Kenya\",\"town\":\"Segero\\/Barsombe, Uasin Gishu\",\"geo\":{\"level\":\"town\",\"pairs\":\"0.902718 35.335652\",\"type\":\"point\"}},\"partner_id\":596,\"posted_date\":\"2020-04-23T22:10:10Z\",\"planned_expiration_date\":\"2020-06-07T22:10:10Z\",\"loan_amount\":125,\"borrower_count\":1,\"lender_count\":0,\"bonus_credit_eligibility\":false,\"tags\":[{\"name\":\"volunteer_pick\",\"id\":\"1\"},{\"name\":\"volunteer_like\",\"id\":\"2\"}]},{\"id\":1961732,\"name\":\"Jairo\",\"description\":{\"languages\":[\"en\"]},\"status\":\"fundraising\",\"funded_amount\":0,\"basket_amount\":0,\"image\":{\"id\":3443307,\"template_id\":1},\"activity\":\"Agriculture\",\"sector\":\"Agriculture\",\"use\":\"to access premium seeds and high quality fertilizer for one acre of maize, in addition to advice and insurance, to increase productivity and profits.\",\"location\":{\"country_code\":\"KE\",\"country\":\"Kenya\",\"town\":\"Central Sakwa, Migori\",\"geo\":{\"level\":\"town\",\"pairs\":\"-0.848365 34.541762\",\"type\":\"point\"}},\"partner_id\":596,\"posted_date\":\"2020-04-23T22:10:10Z\",\"planned_expiration_date\":\"2020-06-07T22:10:10Z\",\"loan_amount\":150,\"borrower_count\":1,\"lender_count\":0,\"bonus_credit_eligibility\":false,\"tags\":[{\"name\":\"volunteer_pick\",\"id\":\"1\"},{\"name\":\"volunteer_like\",\"id\":\"2\"}]},{\"id\":1961733,\"name\":\"Alice\",\"description\":{\"languages\":[\"en\"]},\"status\":\"fundraising\",\"funded_amount\":0,\"basket_amount\":0,\"image\":{\"id\":3443338,\"template_id\":1},\"activity\":\"Agriculture\",\"sector\":\"Agriculture\",\"use\":\"to access premium seeds and high quality fertilizer for one acre of maize, in addition to advice and insurance, to increase productivity and profits.\",\"location\":{\"country_code\":\"KE\",\"country\":\"Kenya\",\"town\":\"Chemelil\\/Chemase, Nandi\",\"geo\":{\"level\":\"town\",\"pairs\":\"-0.082091 35.135129\",\"type\":\"point\"}},\"partner_id\":596,\"posted_date\":\"2020-04-23T22:10:10Z\",\"planned_expiration_date\":\"2020-06-07T22:10:10Z\",\"loan_amount\":150,\"borrower_count\":1,\"lender_count\":0,\"bonus_credit_eligibility\":false,\"tags\":[{\"name\":\"volunteer_pick\",\"id\":\"1\"},{\"name\":\"volunteer_like\",\"id\":\"2\"}]},{\"id\":1961720,\"name\":\"Janet\",\"description\":{\"languages\":[\"en\"]},\"status\":\"fundraising\",\"funded_amount\":0,\"basket_amount\":0,\"image\":{\"id\":3443292,\"template_id\":1},\"activity\":\"Farming\",\"sector\":\"Agriculture\",\"use\":\"to access premium seeds and high-quality fertilizer for one acre of maize, in addition to advice and insurance, optimizing for increased productivity and profits.\",\"location\":{\"country_code\":\"KE\",\"country\":\"Kenya\",\"town\":\"Kilibwoni, Nandi\",\"geo\":{\"level\":\"town\",\"pairs\":\"0.198665 35.236825\",\"type\":\"point\"}},\"partner_id\":596,\"posted_date\":\"2020-04-23T22:10:09Z\",\"planned_expiration_date\":\"2020-06-07T22:10:09Z\",\"loan_amount\":125,\"borrower_count\":1,\"lender_count\":0,\"bonus_credit_eligibility\":false,\"tags\":[]},{\"id\":1961721,\"name\":\"Michael\",\"description\":{\"languages\":[\"en\"]},\"status\":\"fundraising\",\"funded_amount\":0,\"basket_amount\":0,\"image\":{\"id\":3443352,\"template_id\":1},\"activity\":\"Agriculture\",\"sector\":\"Agriculture\",\"use\":\"to access premium seeds, high quality fertilizer, advice and insurance for 3 acres of maize to optimize it for increased productivity and profits.\",\"location\":{\"country_code\":\"KE\",\"country\":\"Kenya\",\"town\":\"Soy, Uasin Gishu\",\"geo\":{\"level\":\"town\",\"pairs\":\"0.693386 35.192863\",\"type\":\"point\"}},\"partner_id\":596,\"posted_date\":\"2020-04-23T22:10:09Z\",\"planned_expiration_date\":\"2020-06-07T22:10:09Z\",\"loan_amount\":525,\"borrower_count\":1,\"lender_count\":0,\"bonus_credit_eligibility\":false,\"tags\":[]},{\"id\":1961725,\"name\":\"Rose\",\"description\":{\"languages\":[\"en\"]},\"status\":\"fundraising\",\"funded_amount\":0,\"basket_amount\":0,\"image\":{\"id\":3494539,\"template_id\":1},\"activity\":\"Beauty Salon\",\"sector\":\"Services\",\"use\":\"to support her business with the equipment and cosmetics it needs to boost it.\",\"location\":{\"country_code\":\"KE\",\"country\":\"Kenya\",\"town\":\"Bungoma\",\"geo\":{\"level\":\"town\",\"pairs\":\"0.566667 34.566667\",\"type\":\"point\"}},\"partner_id\":386,\"posted_date\":\"2020-04-23T22:10:09Z\",\"planned_expiration_date\":\"2020-06-07T22:10:08Z\",\"loan_amount\":475,\"borrower_count\":1,\"lender_count\":0,\"bonus_credit_eligibility\":true,\"tags\":[{\"name\":\"volunteer_pick\",\"id\":\"1\"},{\"name\":\"volunteer_like\",\"id\":\"2\"}]},{\"id\":1961727,\"name\":\"Petru\",\"description\":{\"languages\":[\"en\"]},\"status\":\"fundraising\",\"funded_amount\":0,\"basket_amount\":0,\"image\":{\"id\":3500436,\"template_id\":1},\"activity\":\"Personal Housing Expenses\",\"sector\":\"Housing\",\"themes\":[\"Earth Day Campaign\",\"Green\",\"Clean Energy\"],\"use\":\"for connecting his house to the gas pipeline.\",\"location\":{\"country_code\":\"MD\",\"country\":\"Moldova\",\"town\":\"Telene\\u0219ti\",\"geo\":{\"level\":\"town\",\"pairs\":\"47.498396 28.367602\",\"type\":\"point\"}},\"partner_id\":413,\"posted_date\":\"2020-04-23T22:10:09Z\",\"planned_expiration_date\":\"2020-06-07T22:10:09Z\",\"loan_amount\":1400,\"borrower_count\":1,\"lender_count\":0,\"bonus_credit_eligibility\":false,\"tags\":[]},{\"id\":1961719,\"name\":\"Georgina\",\"description\":{\"languages\":[\"en\"]},\"status\":\"fundraising\",\"funded_amount\":0,\"basket_amount\":0,\"image\":{\"id\":3443236,\"template_id\":1},\"activity\":\"Agriculture\",\"sector\":\"Agriculture\",\"use\":\"to access premium seeds, high quality fertilizer, advice and insurance for 1.5 acres of maize to optimize it for increased productivity and profits.\",\"location\":{\"country_code\":\"KE\",\"country\":\"Kenya\",\"town\":\"Kosirai, Nandi\",\"geo\":{\"level\":\"town\",\"pairs\":\"0.283438 35.137879\",\"type\":\"point\"}},\"partner_id\":596,\"posted_date\":\"2020-04-23T22:00:09Z\",\"planned_expiration_date\":\"2020-06-07T22:00:09Z\",\"loan_amount\":175,\"borrower_count\":1,\"lender_count\":0,\"bonus_credit_eligibility\":false,\"tags\":[]},{\"id\":1961717,\"name\":\"Olesea\",\"description\":{\"languages\":[\"en\"]},\"status\":\"fundraising\",\"funded_amount\":175,\"basket_amount\":0,\"image\":{\"id\":3500334,\"template_id\":1},\"activity\":\"Personal Housing Expenses\",\"sector\":\"Housing\",\"themes\":[\"Earth Day Campaign\",\"Green\",\"Clean Energy\"],\"use\":\"to install the heating system in her house.\",\"location\":{\"country_code\":\"MD\",\"country\":\"Moldova\",\"town\":\"Telene\\u0219ti\",\"geo\":{\"level\":\"town\",\"pairs\":\"47.498396 28.367602\",\"type\":\"point\"}},\"partner_id\":413,\"posted_date\":\"2020-04-23T22:00:08Z\",\"planned_expiration_date\":\"2020-06-07T22:00:08Z\",\"loan_amount\":850,\"borrower_count\":1,\"lender_count\":7,\"bonus_credit_eligibility\":false,\"tags\":[{\"name\":\"volunteer_pick\",\"id\":\"1\"},{\"name\":\"volunteer_like\",\"id\":\"2\"}]}]}\n"
     ]
    }
   ],
   "source": [
    "resp = kiva_newest(baseurl, apiobject, method,'json')\n",
    "print(resp.text)\n"
   ]
  },
  {
   "cell_type": "code",
   "execution_count": 15,
   "metadata": {
    "collapsed": true,
    "jupyter": {
     "outputs_hidden": true
    }
   },
   "outputs": [
    {
     "name": "stdout",
     "output_type": "stream",
     "text": [
      "<?xml version=\"1.0\" encoding=\"UTF-8\" ?><response>\n",
      "<paging><page>1</page><total>2881</total><page_size>20</page_size><pages>145</pages></paging><loans type=\"list\"><loan><id>1961740</id><name>Emarencia</name><description><languages type=\"list\"><language>en</language></languages></description><status>fundraising</status><funded_amount>25</funded_amount><basket_amount>0</basket_amount><image><id>3443346</id><template_id>1</template_id></image><activity>Farm Supplies</activity><sector>Agriculture</sector><use>to access premium seeds and high quality fertilizer for one acre of maize, in addition to advice and insurance, optimizing for increased productivity and profits.</use><location><country_code>KE</country_code><country>Kenya</country><town>Kabondo West, Homa Bay</town><geo><level>town</level><pairs>-0.44775 34.891382</pairs><type>point</type></geo></location><partner_id>596</partner_id><posted_date>2020-04-23T22:50:08Z</posted_date><planned_expiration_date>2020-06-07T22:50:08Z</planned_expiration_date><loan_amount>150</loan_amount><borrower_count>1</borrower_count><lender_count>1</lender_count><bonus_credit_eligibility>0</bonus_credit_eligibility><tags/></loan><loan><id>1961737</id><name>Agnaeta</name><description><languages type=\"list\"><language>en</language></languages></description><status>fundraising</status><funded_amount>0</funded_amount><basket_amount>0</basket_amount><image><id>3500446</id><template_id>1</template_id></image><activity>Bricks</activity><sector>Construction</sector><use>to expand her brick making business by buying more materials and expanding her storage room.</use><location><country_code>KE</country_code><country>Kenya</country><town>Kakamega</town><geo><level>town</level><pairs>0.283333 34.75</pairs><type>point</type></geo></location><partner_id>386</partner_id><posted_date>2020-04-23T22:40:09Z</posted_date><planned_expiration_date>2020-06-07T22:40:09Z</planned_expiration_date><loan_amount>375</loan_amount><borrower_count>1</borrower_count><lender_count>0</lender_count><bonus_credit_eligibility>1</bonus_credit_eligibility><tags/></loan><loan><id>1961739</id><name>Juliana</name><description><languages type=\"list\"><language>en</language></languages></description><status>fundraising</status><funded_amount>0</funded_amount><basket_amount>0</basket_amount><image><id>3443342</id><template_id>1</template_id></image><activity>Farming</activity><sector>Agriculture</sector><use>to access premium seeds and high quality fertilizer for 0.5 acres of maize, in addition to advice and insurance, optimizing for increased productivity and profits.</use><location><country_code>KE</country_code><country>Kenya</country><town>Kamara, Nakuru</town><geo><level>town</level><pairs>-0.087234 35.680609</pairs><type>point</type></geo></location><partner_id>596</partner_id><posted_date>2020-04-23T22:40:09Z</posted_date><planned_expiration_date>2020-06-07T22:40:09Z</planned_expiration_date><loan_amount>75</loan_amount><borrower_count>1</borrower_count><lender_count>0</lender_count><bonus_credit_eligibility>0</bonus_credit_eligibility><tags/></loan><loan><id>1961728</id><name>Edwin</name><description><languages type=\"list\"><language>en</language></languages></description><status>fundraising</status><funded_amount>0</funded_amount><basket_amount>0</basket_amount><image><id>3494616</id><template_id>1</template_id></image><activity>Retail</activity><sector>Retail</sector><use>to restock her shop to increase sales and generate income.</use><location><country_code>UG</country_code><country>Uganda</country><town>Ibanda</town><geo><level>town</level><pairs>-0.116667 30.483333</pairs><type>point</type></geo></location><partner_id>222</partner_id><posted_date>2020-04-23T22:40:08Z</posted_date><planned_expiration_date>2020-06-07T22:40:08Z</planned_expiration_date><loan_amount>275</loan_amount><borrower_count>1</borrower_count><lender_count>0</lender_count><bonus_credit_eligibility>1</bonus_credit_eligibility><tags/></loan><loan><id>1961736</id><name>James</name><description><languages type=\"list\"><language>en</language></languages></description><status>fundraising</status><funded_amount>0</funded_amount><basket_amount>0</basket_amount><image><id>3443340</id><template_id>1</template_id></image><activity>Agriculture</activity><sector>Agriculture</sector><use>to access premium seeds and high quality fertilizer for 0.5 acres of maize, in addition to advice and insurance, to  increase productivity and profits.</use><location><country_code>KE</country_code><country>Kenya</country><town>Tindiret, Nandi</town><geo><level>town</level><pairs>-0.076111 35.356389</pairs><type>point</type></geo></location><partner_id>596</partner_id><posted_date>2020-04-23T22:30:08Z</posted_date><planned_expiration_date>2020-06-07T22:30:08Z</planned_expiration_date><loan_amount>75</loan_amount><borrower_count>1</borrower_count><lender_count>0</lender_count><bonus_credit_eligibility>0</bonus_credit_eligibility><tags type=\"list\"><tag><name>volunteer_pick</name><id>1</id></tag><tag><name>volunteer_like</name><id>2</id></tag></tags></loan><loan><id>1961730</id><name>Milcah</name><description><languages type=\"list\"><language>en</language></languages></description><status>fundraising</status><funded_amount>0</funded_amount><basket_amount>0</basket_amount><image><id>3443266</id><template_id>1</template_id></image><activity>Agriculture</activity><sector>Agriculture</sector><use>to access premium seeds and high quality fertilizer for 0.5 acres of maize, in addition to advice and insurance, to increase her productivity and profits.</use><location><country_code>KE</country_code><country>Kenya</country><town>Tindiret, Nandi</town><geo><level>town</level><pairs>-0.076111 35.356389</pairs><type>point</type></geo></location><partner_id>596</partner_id><posted_date>2020-04-23T22:20:09Z</posted_date><planned_expiration_date>2020-06-07T22:20:09Z</planned_expiration_date><loan_amount>100</loan_amount><borrower_count>1</borrower_count><lender_count>0</lender_count><bonus_credit_eligibility>0</bonus_credit_eligibility><tags type=\"list\"><tag><name>volunteer_pick</name><id>1</id></tag><tag><name>volunteer_like</name><id>2</id></tag></tags></loan><loan><id>1961734</id><name>Elizabeth</name><description><languages type=\"list\"><language>en</language></languages></description><status>fundraising</status><funded_amount>50</funded_amount><basket_amount>0</basket_amount><image><id>3500443</id><template_id>1</template_id></image><activity>Motorcycle Repair</activity><sector>Services</sector><use>to buy more spare parts to boost her business.</use><location><country_code>KE</country_code><country>Kenya</country><town>Kakamega</town><geo><level>town</level><pairs>0.283333 34.75</pairs><type>point</type></geo></location><partner_id>386</partner_id><posted_date>2020-04-23T22:20:09Z</posted_date><planned_expiration_date>2020-06-07T22:20:09Z</planned_expiration_date><loan_amount>300</loan_amount><borrower_count>1</borrower_count><lender_count>2</lender_count><bonus_credit_eligibility>1</bonus_credit_eligibility><tags/></loan><loan><id>1961735</id><name>Loeurt</name><description><languages type=\"list\"><language>en</language></languages></description><status>fundraising</status><funded_amount>0</funded_amount><basket_amount>0</basket_amount><image><id>3500444</id><template_id>1</template_id></image><activity>Farm Supplies</activity><sector>Agriculture</sector><use>to buy fertilizers, soil, and rice paddy seeds to use in her farm.</use><location><country_code>KH</country_code><country>Cambodia</country><town>Siem Reap Province</town><geo><level>town</level><pairs>13.691538 104.100133</pairs><type>point</type></geo></location><partner_id>9</partner_id><posted_date>2020-04-23T22:20:02Z</posted_date><planned_expiration_date>2020-06-07T22:20:02Z</planned_expiration_date><loan_amount>500</loan_amount><borrower_count>1</borrower_count><lender_count>0</lender_count><bonus_credit_eligibility>1</bonus_credit_eligibility><tags type=\"list\"><tag><name>volunteer_pick</name><id>1</id></tag><tag><name>volunteer_like</name><id>2</id></tag></tags></loan><loan><id>1961722</id><name>Joan</name><description><languages type=\"list\"><language>en</language></languages></description><status>fundraising</status><funded_amount>0</funded_amount><basket_amount>0</basket_amount><image><id>3443248</id><template_id>1</template_id></image><activity>Agriculture</activity><sector>Agriculture</sector><use>to access premium seeds and high quality fertilizer for one acre of maize, in addition to advice and insurance, increasing her productivity and profits.</use><location><country_code>KE</country_code><country>Kenya</country><town>Kabiyet, Nandi</town><geo><level>town</level><pairs>0.413503 35.075451</pairs><type>point</type></geo></location><partner_id>596</partner_id><posted_date>2020-04-23T22:10:10Z</posted_date><planned_expiration_date>2020-06-07T22:10:09Z</planned_expiration_date><loan_amount>125</loan_amount><borrower_count>1</borrower_count><lender_count>0</lender_count><bonus_credit_eligibility>0</bonus_credit_eligibility><tags type=\"list\"><tag><name>volunteer_pick</name><id>1</id></tag><tag><name>volunteer_like</name><id>2</id></tag></tags></loan><loan><id>1961724</id><name>Dorcas</name><description><languages type=\"list\"><language>en</language></languages></description><status>fundraising</status><funded_amount>0</funded_amount><basket_amount>0</basket_amount><image><id>3443283</id><template_id>1</template_id></image><activity>Farming</activity><sector>Agriculture</sector><use>to access premium seeds, high quality fertilizer, advice and insurance for 1 acre of maize to optimize it for increased productivity and profits.</use><location><country_code>KE</country_code><country>Kenya</country><town>Kipsomba, Uasin Gishu</town><geo><level>town</level><pairs>0.786965 35.192863</pairs><type>point</type></geo></location><partner_id>596</partner_id><posted_date>2020-04-23T22:10:10Z</posted_date><planned_expiration_date>2020-06-07T22:10:10Z</planned_expiration_date><loan_amount>175</loan_amount><borrower_count>1</borrower_count><lender_count>0</lender_count><bonus_credit_eligibility>0</bonus_credit_eligibility><tags/></loan><loan><id>1961726</id><name>John</name><description><languages type=\"list\"><language>en</language></languages></description><status>fundraising</status><funded_amount>0</funded_amount><basket_amount>0</basket_amount><image><id>3443293</id><template_id>1</template_id></image><activity>Agriculture</activity><sector>Agriculture</sector><use>to access premium seeds and high quality fertilizer for 2 acres of maize, in addition to advice and insurance, optimizing productivity and profits.</use><location><country_code>KE</country_code><country>Kenya</country><town>Tindiret, Nandi</town><geo><level>town</level><pairs>-0.076111 35.356389</pairs><type>point</type></geo></location><partner_id>596</partner_id><posted_date>2020-04-23T22:10:10Z</posted_date><planned_expiration_date>2020-06-07T22:10:10Z</planned_expiration_date><loan_amount>225</loan_amount><borrower_count>1</borrower_count><lender_count>0</lender_count><bonus_credit_eligibility>0</bonus_credit_eligibility><tags/></loan><loan><id>1961729</id><name>Jeniffer</name><description><languages type=\"list\"><language>en</language></languages></description><status>fundraising</status><funded_amount>0</funded_amount><basket_amount>0</basket_amount><image><id>3443297</id><template_id>1</template_id></image><activity>Agriculture</activity><sector>Agriculture</sector><use>to access premium seeds and high quality fertilizer for one acre of maize, in addition to advice and insurance, increasing productivity and profits.</use><location><country_code>KE</country_code><country>Kenya</country><town>Segero/Barsombe, Uasin Gishu</town><geo><level>town</level><pairs>0.902718 35.335652</pairs><type>point</type></geo></location><partner_id>596</partner_id><posted_date>2020-04-23T22:10:10Z</posted_date><planned_expiration_date>2020-06-07T22:10:10Z</planned_expiration_date><loan_amount>125</loan_amount><borrower_count>1</borrower_count><lender_count>0</lender_count><bonus_credit_eligibility>0</bonus_credit_eligibility><tags type=\"list\"><tag><name>volunteer_pick</name><id>1</id></tag><tag><name>volunteer_like</name><id>2</id></tag></tags></loan><loan><id>1961732</id><name>Jairo</name><description><languages type=\"list\"><language>en</language></languages></description><status>fundraising</status><funded_amount>0</funded_amount><basket_amount>0</basket_amount><image><id>3443307</id><template_id>1</template_id></image><activity>Agriculture</activity><sector>Agriculture</sector><use>to access premium seeds and high quality fertilizer for one acre of maize, in addition to advice and insurance, to increase productivity and profits.</use><location><country_code>KE</country_code><country>Kenya</country><town>Central Sakwa, Migori</town><geo><level>town</level><pairs>-0.848365 34.541762</pairs><type>point</type></geo></location><partner_id>596</partner_id><posted_date>2020-04-23T22:10:10Z</posted_date><planned_expiration_date>2020-06-07T22:10:10Z</planned_expiration_date><loan_amount>150</loan_amount><borrower_count>1</borrower_count><lender_count>0</lender_count><bonus_credit_eligibility>0</bonus_credit_eligibility><tags type=\"list\"><tag><name>volunteer_pick</name><id>1</id></tag><tag><name>volunteer_like</name><id>2</id></tag></tags></loan><loan><id>1961733</id><name>Alice</name><description><languages type=\"list\"><language>en</language></languages></description><status>fundraising</status><funded_amount>0</funded_amount><basket_amount>0</basket_amount><image><id>3443338</id><template_id>1</template_id></image><activity>Agriculture</activity><sector>Agriculture</sector><use>to access premium seeds and high quality fertilizer for one acre of maize, in addition to advice and insurance, to increase productivity and profits.</use><location><country_code>KE</country_code><country>Kenya</country><town>Chemelil/Chemase, Nandi</town><geo><level>town</level><pairs>-0.082091 35.135129</pairs><type>point</type></geo></location><partner_id>596</partner_id><posted_date>2020-04-23T22:10:10Z</posted_date><planned_expiration_date>2020-06-07T22:10:10Z</planned_expiration_date><loan_amount>150</loan_amount><borrower_count>1</borrower_count><lender_count>0</lender_count><bonus_credit_eligibility>0</bonus_credit_eligibility><tags type=\"list\"><tag><name>volunteer_pick</name><id>1</id></tag><tag><name>volunteer_like</name><id>2</id></tag></tags></loan><loan><id>1961720</id><name>Janet</name><description><languages type=\"list\"><language>en</language></languages></description><status>fundraising</status><funded_amount>0</funded_amount><basket_amount>0</basket_amount><image><id>3443292</id><template_id>1</template_id></image><activity>Farming</activity><sector>Agriculture</sector><use>to access premium seeds and high-quality fertilizer for one acre of maize, in addition to advice and insurance, optimizing for increased productivity and profits.</use><location><country_code>KE</country_code><country>Kenya</country><town>Kilibwoni, Nandi</town><geo><level>town</level><pairs>0.198665 35.236825</pairs><type>point</type></geo></location><partner_id>596</partner_id><posted_date>2020-04-23T22:10:09Z</posted_date><planned_expiration_date>2020-06-07T22:10:09Z</planned_expiration_date><loan_amount>125</loan_amount><borrower_count>1</borrower_count><lender_count>0</lender_count><bonus_credit_eligibility>0</bonus_credit_eligibility><tags/></loan><loan><id>1961721</id><name>Michael</name><description><languages type=\"list\"><language>en</language></languages></description><status>fundraising</status><funded_amount>0</funded_amount><basket_amount>0</basket_amount><image><id>3443352</id><template_id>1</template_id></image><activity>Agriculture</activity><sector>Agriculture</sector><use>to access premium seeds, high quality fertilizer, advice and insurance for 3 acres of maize to optimize it for increased productivity and profits.</use><location><country_code>KE</country_code><country>Kenya</country><town>Soy, Uasin Gishu</town><geo><level>town</level><pairs>0.693386 35.192863</pairs><type>point</type></geo></location><partner_id>596</partner_id><posted_date>2020-04-23T22:10:09Z</posted_date><planned_expiration_date>2020-06-07T22:10:09Z</planned_expiration_date><loan_amount>525</loan_amount><borrower_count>1</borrower_count><lender_count>0</lender_count><bonus_credit_eligibility>0</bonus_credit_eligibility><tags/></loan><loan><id>1961725</id><name>Rose</name><description><languages type=\"list\"><language>en</language></languages></description><status>fundraising</status><funded_amount>0</funded_amount><basket_amount>0</basket_amount><image><id>3494539</id><template_id>1</template_id></image><activity>Beauty Salon</activity><sector>Services</sector><use>to support her business with the equipment and cosmetics it needs to boost it.</use><location><country_code>KE</country_code><country>Kenya</country><town>Bungoma</town><geo><level>town</level><pairs>0.566667 34.566667</pairs><type>point</type></geo></location><partner_id>386</partner_id><posted_date>2020-04-23T22:10:09Z</posted_date><planned_expiration_date>2020-06-07T22:10:08Z</planned_expiration_date><loan_amount>475</loan_amount><borrower_count>1</borrower_count><lender_count>0</lender_count><bonus_credit_eligibility>1</bonus_credit_eligibility><tags type=\"list\"><tag><name>volunteer_pick</name><id>1</id></tag><tag><name>volunteer_like</name><id>2</id></tag></tags></loan><loan><id>1961727</id><name>Petru</name><description><languages type=\"list\"><language>en</language></languages></description><status>fundraising</status><funded_amount>0</funded_amount><basket_amount>0</basket_amount><image><id>3500436</id><template_id>1</template_id></image><activity>Personal Housing Expenses</activity><sector>Housing</sector><themes type=\"list\"><theme>Earth Day Campaign</theme><theme>Green</theme><theme>Clean Energy</theme></themes><use>for connecting his house to the gas pipeline.</use><location><country_code>MD</country_code><country>Moldova</country><town>Telenești</town><geo><level>town</level><pairs>47.498396 28.367602</pairs><type>point</type></geo></location><partner_id>413</partner_id><posted_date>2020-04-23T22:10:09Z</posted_date><planned_expiration_date>2020-06-07T22:10:09Z</planned_expiration_date><loan_amount>1400</loan_amount><borrower_count>1</borrower_count><lender_count>0</lender_count><bonus_credit_eligibility>0</bonus_credit_eligibility><tags/></loan><loan><id>1961719</id><name>Georgina</name><description><languages type=\"list\"><language>en</language></languages></description><status>fundraising</status><funded_amount>0</funded_amount><basket_amount>0</basket_amount><image><id>3443236</id><template_id>1</template_id></image><activity>Agriculture</activity><sector>Agriculture</sector><use>to access premium seeds, high quality fertilizer, advice and insurance for 1.5 acres of maize to optimize it for increased productivity and profits.</use><location><country_code>KE</country_code><country>Kenya</country><town>Kosirai, Nandi</town><geo><level>town</level><pairs>0.283438 35.137879</pairs><type>point</type></geo></location><partner_id>596</partner_id><posted_date>2020-04-23T22:00:09Z</posted_date><planned_expiration_date>2020-06-07T22:00:09Z</planned_expiration_date><loan_amount>175</loan_amount><borrower_count>1</borrower_count><lender_count>0</lender_count><bonus_credit_eligibility>0</bonus_credit_eligibility><tags/></loan><loan><id>1961717</id><name>Olesea</name><description><languages type=\"list\"><language>en</language></languages></description><status>fundraising</status><funded_amount>175</funded_amount><basket_amount>0</basket_amount><image><id>3500334</id><template_id>1</template_id></image><activity>Personal Housing Expenses</activity><sector>Housing</sector><themes type=\"list\"><theme>Earth Day Campaign</theme><theme>Green</theme><theme>Clean Energy</theme></themes><use>to install the heating system in her house.</use><location><country_code>MD</country_code><country>Moldova</country><town>Telenești</town><geo><level>town</level><pairs>47.498396 28.367602</pairs><type>point</type></geo></location><partner_id>413</partner_id><posted_date>2020-04-23T22:00:08Z</posted_date><planned_expiration_date>2020-06-07T22:00:08Z</planned_expiration_date><loan_amount>850</loan_amount><borrower_count>1</borrower_count><lender_count>7</lender_count><bonus_credit_eligibility>0</bonus_credit_eligibility><tags type=\"list\"><tag><name>volunteer_pick</name><id>1</id></tag><tag><name>volunteer_like</name><id>2</id></tag></tags></loan></loans></response>\n"
     ]
    }
   ],
   "source": [
    "resp = kiva_newest(baseurl, apiobject, method,'xml')\n",
    "print(resp.text)\n"
   ]
  },
  {
   "cell_type": "markdown",
   "metadata": {},
   "source": [
    "By now we should be familiar with the query parameters for `page` and `per_page`. Another useful query parameter is `ids_only` which can be either True or False. Please take a moment to familiarize yourself with this parameter, e.g., by playing with the following URI:\n",
    "\n",
    "https://api.kivaws.org/v1/loans/newest.json?page=3&ids_only=true\n",
    "\n",
    "For more practice (in a different setting than the previous problem), please solve the following. Pay careful attention to the test invocation to understand the parameters.\n",
    "\n",
    "**Q2** Please write a function with five string parameters\n",
    "\n",
    "    kiva_query(result,page,pp,ids_only,endpoint)\n",
    "\n",
    "that uses `endpoint` and `result` to create a correct endpoint path for *newest* loans, then creates a dictionary for the other three parameters suitable for query parameters to go with the Kiva API. Please pass the URI and query parameters to `requests.get`, returning the result. Once you have a working version, please think about how to generalize it to make all arguments optional."
   ]
  },
  {
   "cell_type": "code",
   "execution_count": 30,
   "metadata": {},
   "outputs": [],
   "source": [
    "### BEGIN SOLUTION\n",
    "def kiva_query(result='json', page=None, pp=None, ids_only=None,endpoint=\"https://api.kivaws.org/v1/loans\"):\n",
    "    \"\"\"\n",
    "    Returns response object\n",
    "    \"\"\"\n",
    "    D = {}\n",
    "    if page:\n",
    "        D['page'] = page\n",
    "    if pp:\n",
    "        D['per_page'] = pp\n",
    "    if ids_only:\n",
    "        D['ids_only'] = ids_only\n",
    "    assert result in ['json', 'html', 'xml', 'rss']\n",
    "    s = \"{}/newest.{}\"\n",
    "    #print(s.format(endpoint, result))\n",
    "    r = requests.get(s.format(endpoint, result), params=D)\n",
    "    #print(r.request.path_url)\n",
    "    return r\n",
    "### END SOLUTION"
   ]
  },
  {
   "cell_type": "code",
   "execution_count": 37,
   "metadata": {},
   "outputs": [
    {
     "data": {
      "text/plain": [
       "'/v1/loans/newest.xml?page=5&per_page=10&ids_only=false'"
      ]
     },
     "execution_count": 37,
     "metadata": {},
     "output_type": "execute_result"
    }
   ],
   "source": [
    "my_end=\"https://api.kivaws.org/v1/loans\"\n",
    "\n",
    "r = kiva_query(result='xml', page=5, pp=10, ids_only='false',endpoint=my_end)\n",
    "r.request.path_url"
   ]
  },
  {
   "cell_type": "code",
   "execution_count": 38,
   "metadata": {},
   "outputs": [],
   "source": [
    "stripparser = etree.XMLParser(remove_blank_text=True)\n",
    "tree = etree.parse(io.BytesIO(r.content), stripparser)\n",
    "root = tree.getroot()"
   ]
  },
  {
   "cell_type": "code",
   "execution_count": 39,
   "metadata": {},
   "outputs": [],
   "source": [
    "root = etree.parse(io.BytesIO(r.content)).getroot()"
   ]
  },
  {
   "cell_type": "code",
   "execution_count": 40,
   "metadata": {
    "collapsed": true,
    "jupyter": {
     "outputs_hidden": true
    }
   },
   "outputs": [
    {
     "name": "stdout",
     "output_type": "stream",
     "text": [
      "<response>\n",
      "<paging><page>5</page><total>2879</total><page_size>10</page_size><pages>288</pages></paging><loans type=\"list\"><loan><id>1961695</id><name>Jackson</name><description><languages type=\"list\"><language>en</language></languages></description><status>fundraising</status><funded_amount>25</funded_amount><basket_amount>0</basket_amount><image><id>3443225</id><template_id>1</template_id></image><activity>Farming</activity><sector>Agriculture</sector><use>to access premium seeds and high-quality fertilizer for 1.5 acres of maize, in addition to advice and insurance, to optimize increased productivity and profits.</use><location><country_code>KE</country_code><country>Kenya</country><town>Segero/Barsombe, Uasin Gishu</town><geo><level>town</level><pairs>0.902718 35.335652</pairs><type>point</type></geo></location><partner_id>596</partner_id><posted_date>2020-04-23T20:20:09Z</posted_date><planned_expiration_date>2020-06-07T20:20:09Z</planned_expiration_date><loan_amount>175</loan_amount><borrower_count>1</borrower_count><lender_count>1</lender_count><bonus_credit_eligibility>0</bonus_credit_eligibility><tags/></loan><loan><id>1961696</id><name>Iroda</name><description><languages type=\"list\"><language>en</language></languages></description><status>fundraising</status><funded_amount>25</funded_amount><basket_amount>0</basket_amount><image><id>3500322</id><template_id>1</template_id></image><activity>Farming</activity><sector>Agriculture</sector><use>to buy more fertilizer and seeds in order to grow her farming business.</use><location><country_code>TJ</country_code><country>Tajikistan</country><town>Gonchi</town><geo><level>town</level><pairs>39.962528 69.138748</pairs><type>point</type></geo></location><partner_id>100</partner_id><posted_date>2020-04-23T20:20:03Z</posted_date><planned_expiration_date>2020-06-07T20:20:03Z</planned_expiration_date><loan_amount>150</loan_amount><borrower_count>1</borrower_count><lender_count>1</lender_count><bonus_credit_eligibility>1</bonus_credit_eligibility><tags/></loan><loan><id>1961672</id><name>Loice</name><description><languages type=\"list\"><language>en</language></languages></description><status>fundraising</status><funded_amount>25</funded_amount><basket_amount>0</basket_amount><image><id>3500207</id><template_id>1</template_id></image><activity>Farming</activity><sector>Agriculture</sector><use>to buy premium seeds and high-quality fertilizer for her one acre of maize, plus advice and insurance from her lender.</use><location><country_code>KE</country_code><country>Kenya</country><town>Kabiyet, Nandi</town><geo><level>town</level><pairs>0.413503 35.075451</pairs><type>point</type></geo></location><partner_id>596</partner_id><posted_date>2020-04-23T20:10:10Z</posted_date><planned_expiration_date>2020-06-07T20:10:10Z</planned_expiration_date><loan_amount>150</loan_amount><borrower_count>1</borrower_count><lender_count>1</lender_count><bonus_credit_eligibility>0</bonus_credit_eligibility><tags/></loan><loan><id>1961693</id><name>Jane</name><description><languages type=\"list\"><language>en</language></languages></description><status>fundraising</status><funded_amount>25</funded_amount><basket_amount>0</basket_amount><image><id>3494575</id><template_id>1</template_id></image><activity>Fruits &amp; Vegetables</activity><sector>Food</sector><use>to add stock of more vegetables to boost her business.</use><location><country_code>KE</country_code><country>Kenya</country><town>Thika</town><geo><level>town</level><pairs>-1.038757 37.083375</pairs><type>point</type></geo></location><partner_id>386</partner_id><posted_date>2020-04-23T20:10:10Z</posted_date><planned_expiration_date>2020-06-07T20:10:10Z</planned_expiration_date><loan_amount>300</loan_amount><borrower_count>1</borrower_count><lender_count>1</lender_count><bonus_credit_eligibility>1</bonus_credit_eligibility><tags/></loan><loan><id>1961676</id><name>Alvaro</name><description><languages type=\"list\"><language>en</language></languages></description><status>fundraising</status><funded_amount>0</funded_amount><basket_amount>0</basket_amount><image><id>3500305</id><template_id>1</template_id></image><activity>Farming</activity><sector>Agriculture</sector><themes type=\"list\"><theme>Underfunded Areas</theme></themes><use>to buy seeds and equipment for his farming business.</use><location><country_code>TL</country_code><country>Timor-Leste</country><town>Aileu</town><geo><level>town</level><pairs>-8.722408 125.571258</pairs><type>point</type></geo></location><partner_id>243</partner_id><posted_date>2020-04-23T20:10:09Z</posted_date><planned_expiration_date>2020-06-07T20:10:09Z</planned_expiration_date><loan_amount>400</loan_amount><borrower_count>1</borrower_count><lender_count>0</lender_count><bonus_credit_eligibility>1</bonus_credit_eligibility><tags/></loan><loan><id>1961058</id><name>Jennyfer</name><description><languages type=\"list\"><language>es</language><language>en</language></languages></description><status>fundraising</status><funded_amount>25</funded_amount><basket_amount>0</basket_amount><image><id>3496535</id><template_id>1</template_id></image><activity>Personal Medical Expenses</activity><sector>Health</sector><use>to pay for periodontal treatment.</use><location><country_code>MX</country_code><country>Mexico</country><town>CD. DE MEXICO</town><geo><level>town</level><pairs>19.432608 -99.133208</pairs><type>point</type></geo></location><partner_id>357</partner_id><posted_date>2020-04-23T19:50:08Z</posted_date><planned_expiration_date>2020-06-07T19:50:08Z</planned_expiration_date><loan_amount>325</loan_amount><borrower_count>1</borrower_count><lender_count>1</lender_count><bonus_credit_eligibility>0</bonus_credit_eligibility><tags/></loan><loan><id>1961691</id><name>Leah</name><description><languages type=\"list\"><language>en</language></languages></description><status>fundraising</status><funded_amount>25</funded_amount><basket_amount>0</basket_amount><image><id>3443221</id><template_id>1</template_id></image><activity>Farming</activity><sector>Agriculture</sector><use>to access premium seeds and high-quality fertilizer for 1 acre of maize, in addition to advice and insurance, to optimize increased productivity and profits.</use><location><country_code>KE</country_code><country>Kenya</country><town>Tindiret, Nandi</town><geo><level>town</level><pairs>-0.076111 35.356389</pairs><type>point</type></geo></location><partner_id>596</partner_id><posted_date>2020-04-23T19:30:08Z</posted_date><planned_expiration_date>2020-06-07T19:30:08Z</planned_expiration_date><loan_amount>150</loan_amount><borrower_count>1</borrower_count><lender_count>1</lender_count><bonus_credit_eligibility>0</bonus_credit_eligibility><tags/></loan><loan><id>1961690</id><name>Alijon</name><description><languages type=\"list\"><language>en</language></languages></description><status>fundraising</status><funded_amount>0</funded_amount><basket_amount>0</basket_amount><image><id>3500319</id><template_id>1</template_id></image><activity>Farming</activity><sector>Agriculture</sector><use>to buy mineral fertilizers to get a quality crop in summer.</use><location><country_code>TJ</country_code><country>Tajikistan</country><town>Spitamen</town><geo><level>town</level><pairs>40.175566 69.35927</pairs><type>point</type></geo></location><partner_id>100</partner_id><posted_date>2020-04-23T19:20:03Z</posted_date><planned_expiration_date>2020-06-07T19:20:03Z</planned_expiration_date><loan_amount>700</loan_amount><borrower_count>1</borrower_count><lender_count>0</lender_count><bonus_credit_eligibility>0</bonus_credit_eligibility><tags/></loan><loan><id>1961208</id><name>Juan Silvino</name><description><languages type=\"list\"><language>es</language><language>en</language></languages></description><status>fundraising</status><funded_amount>0</funded_amount><basket_amount>0</basket_amount><image><id>3497605</id><template_id>1</template_id></image><activity>Animal Sales</activity><sector>Agriculture</sector><use>to buy cattle to raise and sell.</use><location><country_code>PY</country_code><country>Paraguay</country><town>Santan&#237;</town><geo><level>town</level><pairs>-24.665338 -56.455192</pairs><type>point</type></geo></location><partner_id>58</partner_id><posted_date>2020-04-23T19:10:03Z</posted_date><planned_expiration_date>2020-06-07T19:10:03Z</planned_expiration_date><loan_amount>800</loan_amount><borrower_count>1</borrower_count><lender_count>0</lender_count><bonus_credit_eligibility>1</bonus_credit_eligibility><tags/></loan><loan><id>1961218</id><name>Lucio Adolfo</name><description><languages type=\"list\"><language>es</language><language>en</language></languages></description><status>fundraising</status><funded_amount>175</funded_amount><basket_amount>0</basket_amount><image><id>3497614</id><template_id>1</template_id></image><activity>Primary/secondary school costs</activity><sector>Education</sector><use>to make annual payments for school.</use><location><country_code>PY</country_code><country>Paraguay</country><town>Concepci&#243;n</town><geo><level>town</level><pairs>-23.421426 -57.434445</pairs><type>point</type></geo></location><partner_id>58</partner_id><posted_date>2020-04-23T19:10:03Z</posted_date><planned_expiration_date>2020-06-07T19:10:03Z</planned_expiration_date><loan_amount>350</loan_amount><borrower_count>1</borrower_count><lender_count>5</lender_count><bonus_credit_eligibility>1</bonus_credit_eligibility><tags/></loan></loans></response>\n",
      "\n"
     ]
    }
   ],
   "source": [
    "print(etree.tostring(root, pretty_print=True).decode(\"utf-8\"))"
   ]
  },
  {
   "cell_type": "markdown",
   "metadata": {},
   "source": [
    "**Q3** Please use the result from the previous problem, and XPath, to extract a list `sector_list` of `sectors` that appear in your query, e.g. \"Agriculture\", etc."
   ]
  },
  {
   "cell_type": "code",
   "execution_count": 41,
   "metadata": {},
   "outputs": [],
   "source": [
    "### BEGIN SOLUTION \n",
    "sector_list = root.xpath('/response/loans/*/sector/text()')\n",
    "### END SOLUTION"
   ]
  },
  {
   "cell_type": "code",
   "execution_count": 42,
   "metadata": {},
   "outputs": [
    {
     "name": "stdout",
     "output_type": "stream",
     "text": [
      "['Agriculture', 'Agriculture', 'Agriculture', 'Food', 'Agriculture', 'Health', 'Agriculture', 'Agriculture', 'Agriculture', 'Education']\n"
     ]
    }
   ],
   "source": [
    "print(sector_list)"
   ]
  },
  {
   "cell_type": "markdown",
   "metadata": {},
   "source": [
    "## Practice with POST\n",
    "\n",
    "Please visit the following link in Google Chrome and use the drop-down menus to select all years from 2002 to 2015\n",
    "\n",
    "http://www.rateinflation.com/consumer-price-index/usa-historical-cpi.php\n",
    "\n",
    "Now use Dev Tools so you can see what POST is really doing, and write down what you learned. \n",
    "\n",
    "**Q4** Write a function `makePostDict(from_year,to_year)` that takes the from year and to year (as strings) and returns a correct dictionary that could be sent with the POST.\n"
   ]
  },
  {
   "cell_type": "code",
   "execution_count": null,
   "metadata": {},
   "outputs": [],
   "source": [
    "### BEGIN SOLUTION \n",
    "def makePostDict(from_year,to_year):\n",
    "    cpiargs = {'fromYear': from_year, 'toYear': to_year, '_submit_check': \"1\"}\n",
    "    return cpiargs\n",
    "### END SOLUTION"
   ]
  },
  {
   "cell_type": "code",
   "execution_count": null,
   "metadata": {},
   "outputs": [],
   "source": [
    "# Testing cell\n",
    "D = makePostDict('2004','2011')\n",
    "print(D)"
   ]
  },
  {
   "cell_type": "code",
   "execution_count": null,
   "metadata": {},
   "outputs": [],
   "source": [
    "# Testing cell\n",
    "endpoint = 'http://httpbin.org/post'\n",
    "r = requests.post(endpoint, data=D)\n",
    "r.request.body"
   ]
  },
  {
   "cell_type": "markdown",
   "metadata": {},
   "source": [
    "**Q5** Following what you learned in the book, formulate a `curl` POST for the example of 2002 to 2015."
   ]
  },
  {
   "cell_type": "code",
   "execution_count": null,
   "metadata": {},
   "outputs": [],
   "source": [
    "%%bash\n",
    "\n",
    "### BEGIN SOLUTION \n",
    "\n",
    "### END SOLUTION\n"
   ]
  },
  {
   "cell_type": "markdown",
   "metadata": {},
   "source": [
    "**Q6** Write a function `get_inflation(from_year,to_year)` that uses the `requests` module to issue a POST request whose body is obtained via a call to `makePostDict`, returning the result of the `requests.post` invocation."
   ]
  },
  {
   "cell_type": "code",
   "execution_count": null,
   "metadata": {},
   "outputs": [],
   "source": [
    "### BEGIN SOLUTION \n",
    "def get_inflation(from_year,to_year):\n",
    "    cpiurl = 'http://www.rateinflation.com/consumer-price-index/usa-historical-cpi.php'\n",
    "    cpiargs = makePostDict(from_year,to_year)\n",
    "    r = requests.post(cpiurl, data=cpiargs)\n",
    "    return r\n",
    "\n",
    "### END SOLUTION"
   ]
  },
  {
   "cell_type": "code",
   "execution_count": null,
   "metadata": {},
   "outputs": [],
   "source": [
    "r = get_inflation('2004','2011')\n",
    "r.status_code\n",
    "r.text\n",
    "r.request.url\n",
    "r.request.body"
   ]
  },
  {
   "cell_type": "code",
   "execution_count": null,
   "metadata": {},
   "outputs": [],
   "source": []
  }
 ],
 "metadata": {
  "kernelspec": {
   "display_name": "Python 3",
   "language": "python",
   "name": "python3"
  },
  "language_info": {
   "codemirror_mode": {
    "name": "ipython",
    "version": 3
   },
   "file_extension": ".py",
   "mimetype": "text/x-python",
   "name": "python",
   "nbconvert_exporter": "python",
   "pygments_lexer": "ipython3",
   "version": "3.7.6"
  }
 },
 "nbformat": 4,
 "nbformat_minor": 4
}
