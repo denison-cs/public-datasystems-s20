{
 "cells": [
  {
   "cell_type": "markdown",
   "metadata": {},
   "source": [
    "# Curl activity\n",
    "\n",
    "The reading made use of a command-line way to issue requests, known as `curl`. \n",
    "\n",
    "Please open a Terminal (or, on a PC, a Command Prompt) just as you do when interfacing with GitHub.\n",
    "\n",
    "Please try out the curl GET commands from the book (note that you can copy and paste into a terminal as usual):\n",
    "\n",
    "- curl --get --url https://api.github.com/\n",
    "- curl --get --url https://api.github.com/events\n",
    "- curl --get --url https://api.github.com/orgs/denison-cs\n",
    "- curl --get --url https://api.github.com/repos/denison-cs/welcome/events\n",
    "\n",
    "For each command, after the results are displayed, you may need to hit \"return\" or \"enter\" to get back to your command prompt.\n",
    "\n",
    "Notice how each displays in your Terminal, making it easy to \"see\" the structure. \n",
    "\n",
    "**Q1** Describe the differences between what you see in the Terminal vs. what you see when opening these links in the browser."
   ]
  },
  {
   "cell_type": "markdown",
   "metadata": {},
   "source": [
    "*Solution cell*\n"
   ]
  },
  {
   "cell_type": "markdown",
   "metadata": {},
   "source": [
    "The power of `curl` is all of its options. Above, we used the `get` option and the `url` option. In general, options start with `--`. Below, we use three options.\n",
    "\n",
    "**Q2** Please run the following `curl` command from the reading and describe what it outputs. Is this something you could have easily obtained with a copy/paste into a browswer URL bar?\n",
    "\n",
    "    curl --request GET \\\n",
    "         --head \\\n",
    "      --url https://api.themoviedb.org/3/search/movie?query=Gone%20Wind&api_key=75df0c4f93ec9e484534b8ce1db9a67e"
   ]
  },
  {
   "cell_type": "markdown",
   "metadata": {},
   "source": [
    "*Solution cell*\n"
   ]
  },
  {
   "cell_type": "markdown",
   "metadata": {},
   "source": [
    "Please read the documentation here:\n",
    "https://curl.haxx.se/docs/manpage.html\n",
    "\n",
    "**Q3** Write down three options *other than those we have already used* you think might be useful, and example scenarios when you might use them."
   ]
  },
  {
   "cell_type": "markdown",
   "metadata": {},
   "source": [
    "*Solution cell*\n"
   ]
  },
  {
   "cell_type": "markdown",
   "metadata": {},
   "source": [
    "Here is another `curl` request from the book:\n",
    "\n",
    "    curl --request GET --silent \\\n",
    "      --url 'https://api.themoviedb.org/3/authentication/guest_session/new?api_key=75df0c4f93ec9e484534b8ce1db9a67e'\n",
    "      \n",
    "**Q4** How can you tell from the output what this `curl` request does?"
   ]
  },
  {
   "cell_type": "markdown",
   "metadata": {},
   "source": [
    "*Solution cell*\n"
   ]
  },
  {
   "cell_type": "markdown",
   "metadata": {},
   "source": [
    "`curl` can also be used to POST data. For example, the following occurs in the book:\n",
    "\n",
    "    curl --request POST --silent \\\n",
    "      --url 'https://api.themoviedb.org/3/movie/770/rating?api_key=75df0c4f93ec9e484534b8ce1db9a67e&guest_session_id=7ca08f87015c752f9c2811fb61be0018' \\\n",
    "      --header 'Content-Type: application/json;charset=utf-8' \\\n",
    "      --data '{\"value\": 9.5}'\n",
    "\n",
    "**Q5** What happens if you copy and paste this exact command into your terminal and run it? Why?"
   ]
  },
  {
   "cell_type": "markdown",
   "metadata": {},
   "source": [
    "*Solution cell*\n",
    "\n",
    "It does not work because that guest session id from the book has expired."
   ]
  },
  {
   "cell_type": "markdown",
   "metadata": {},
   "source": [
    "**Q6** Please correct the `curl` command above, based on what you got in the previous question, run the corrected command, and describe the result."
   ]
  },
  {
   "cell_type": "markdown",
   "metadata": {},
   "source": [
    "*Solution cell*\n",
    "\n",
    "    curl --request POST --silent \\\n",
    "      --url 'https://api.themoviedb.org/3/movie/770/rating?api_key=75df0c4f93ec9e484534b8ce1db9a67e&guest_session_id=47b89d27226aa0cb28748e5ff3c9f356' \\\n",
    "      --header 'Content-Type: application/json;charset=utf-8' \\\n",
    "      --data '{\"value\": 9.5}'\n",
    "\n",
    "Gives\n",
    "\n",
    "{\"status_code\":1,\"status_message\":\"Success.\"}"
   ]
  },
  {
   "cell_type": "markdown",
   "metadata": {},
   "source": [
    "**Q7** Some options also have a shorthand, because we use them so often. Please use the documentation above to make a table with shorthand notation for each of the following: `get`, `data`, `dump-header`, `head`, `header`, `include`, `location`, `output`, `proxy-user`, `proxy`, `request`, `silent`, `user`"
   ]
  },
  {
   "cell_type": "markdown",
   "metadata": {},
   "source": [
    "*Solution cell*\n"
   ]
  },
  {
   "cell_type": "markdown",
   "metadata": {},
   "source": [
    "It is also possible to use `curl` in a Jupyter Notebook. For instance, the following cell will work if you are connected to internet and will fail if you run it while you are not connected to the internet.\n",
    "\n",
    "Like SQL magic, the presence of `%%bash` at the top of the cell tells Jupyter that you want to run this like a *bash* command, i.e., like something you could run in a terminal."
   ]
  },
  {
   "cell_type": "code",
   "execution_count": 3,
   "metadata": {
    "collapsed": true,
    "jupyter": {
     "outputs_hidden": true
    }
   },
   "outputs": [
    {
     "name": "stdout",
     "output_type": "stream",
     "text": [
      "{\"page\":1,\"total_results\":10000,\"total_pages\":500,\"results\":[{\"popularity\":538.99,\"vote_count\":3109,\"video\":false,\"poster_path\":\"\\/xBHvZcjRiWyobQ9kxBhO6B2dtRI.jpg\",\"id\":419704,\"adult\":false,\"backdrop_path\":\"\\/5BwqwxMEjeFtdknRV792Svo0K1v.jpg\",\"original_language\":\"en\",\"original_title\":\"Ad Astra\",\"genre_ids\":[18,878],\"title\":\"Ad Astra\",\"vote_average\":6,\"overview\":\"The near future, a time when both hope and hardships drive humanity to look to the stars and beyond. While a mysterious phenomenon menaces to destroy life on planet Earth, astronaut Roy McBride undertakes a mission across the immensity of space and its many perils to uncover the truth about a lost expedition that decades before boldly faced emptiness and silence in search of the unknown.\",\"release_date\":\"2019-09-17\"},{\"popularity\":223.644,\"vote_count\":2969,\"video\":false,\"poster_path\":\"\\/aQvJ5WPzZgYVDrxLX4R6cLJCEaQ.jpg\",\"id\":454626,\"adult\":false,\"backdrop_path\":\"\\/stmYfCUGd8Iy6kAMBr6AmWqx8Bq.jpg\",\"original_language\":\"en\",\"original_title\":\"Sonic the Hedgehog\",\"genre_ids\":[28,35,878,10751],\"title\":\"Sonic the Hedgehog\",\"vote_average\":7.6,\"overview\":\"Based on the global blockbuster videogame franchise from Sega, Sonic the Hedgehog tells the story of the world’s speediest hedgehog as he embraces his new home on Earth. In this live-action adventure comedy, Sonic and his new best friend team up to defend the planet from the evil genius Dr. Robotnik and his plans for world domination.\",\"release_date\":\"2020-02-12\"},{\"popularity\":213.043,\"vote_count\":855,\"video\":false,\"poster_path\":\"\\/gzlbb3yeVISpQ3REd3Ga1scWGTU.jpg\",\"id\":443791,\"adult\":false,\"backdrop_path\":\"\\/ww7eC3BqSbFsyE5H5qMde8WkxJ2.jpg\",\"original_language\":\"en\",\"original_title\":\"Underwater\",\"genre_ids\":[28,27,878,53],\"title\":\"Underwater\",\"vote_average\":6.4,\"overview\":\"After an earthquake destroys their underwater station, six researchers must navigate two miles along the dangerous, unknown depths of the ocean floor to make it to safety in a race against time.\",\"release_date\":\"2020-01-08\"},{\"popularity\":174.345,\"id\":181812,\"video\":false,\"vote_count\":4107,\"vote_average\":6.5,\"title\":\"Star Wars: The Rise of Skywalker\",\"release_date\":\"2019-12-18\",\"original_language\":\"en\",\"original_title\":\"Star Wars: The Rise of Skywalker\",\"genre_ids\":[28,12,878],\"backdrop_path\":\"\\/jOzrELAzFxtMx2I4uDGHOotdfsS.jpg\",\"adult\":false,\"overview\":\"The surviving Resistance faces the First Order once again as the journey of Rey, Finn and Poe Dameron continues. With the power and knowledge of generations behind them, the final battle begins.\",\"poster_path\":\"\\/db32LaOibwEliAmSL2jjDF6oDdj.jpg\"},{\"popularity\":166.523,\"vote_count\":123,\"video\":false,\"poster_path\":\"\\/im0jKiVtVyxynKVnzOyd6efbqYE.jpg\",\"id\":664413,\"adult\":false,\"backdrop_path\":\"\\/gePCMmgv7r2DUO4pHZY2JE6fkKJ.jpg\",\"original_language\":\"pl\",\"original_title\":\"365 dni\",\"genre_ids\":[18,10749],\"title\":\"365 Days\",\"vote_average\":5.4,\"overview\":\"Laura, in order to save her relationship from falling apart, goes to Sicily, where she meets Massimo. A dangerous man, the head of a mafia family, kidnaps her and gives 365 days to love him.\",\"release_date\":\"2020-02-07\"},{\"popularity\":162.998,\"vote_count\":3307,\"video\":false,\"poster_path\":\"\\/y95lQLnuNKdPAzw9F9Ab8kJ80c3.jpg\",\"id\":38700,\"adult\":false,\"backdrop_path\":\"\\/upUy2QhMZEmtypPW3PdieKLAHxh.jpg\",\"original_language\":\"en\",\"original_title\":\"Bad Boys for Life\",\"genre_ids\":[28,80,53],\"title\":\"Bad Boys for Life\",\"vote_average\":7.2,\"overview\":\"Marcus and Mike are forced to confront new threats, career changes, and midlife crises as they join the newly created elite team AMMO of the Miami police department to take down the ruthless Armando Armas, the vicious leader of a Miami drug cartel.\",\"release_date\":\"2020-01-15\"},{\"popularity\":156.837,\"vote_count\":3211,\"video\":false,\"poster_path\":\"\\/h4VB6m0RwcicVEZvzftYZyKXs6K.jpg\",\"id\":495764,\"adult\":false,\"backdrop_path\":\"\\/uozb2VeD87YmhoUP1RrGWfzuCrr.jpg\",\"original_language\":\"en\",\"original_title\":\"Birds of Prey (and the Fantabulous Emancipation of One Harley Quinn)\",\"genre_ids\":[28,35,80],\"title\":\"Birds of Prey (and the Fantabulous Emancipation of One Harley Quinn)\",\"vote_average\":7.2,\"overview\":\"Harley Quinn joins forces with a singer, an assassin and a police detective to help a young girl who had a hit placed on her after she stole a rare diamond from a crime lord.\",\"release_date\":\"2020-02-05\"},{\"popularity\":143.14,\"vote_count\":184,\"video\":false,\"poster_path\":\"\\/4VlXER3FImHeFuUjBShFamhIp9M.jpg\",\"id\":664767,\"adult\":false,\"backdrop_path\":\"\\/vw3zNfzvnVNF7nIjpiEgcdznfeC.jpg\",\"original_language\":\"en\",\"original_title\":\"Mortal Kombat Legends: Scorpions Revenge\",\"genre_ids\":[28,12,16,14],\"title\":\"Mortal Kombat Legends: Scorpion’s Revenge\",\"vote_average\":8.5,\"overview\":\"After the vicious slaughter of his family by stone-cold mercenary Sub-Zero, Hanzo Hasashi is exiled to the torturous Netherrealm. There, in exchange for his servitude to the sinister Quan Chi, he’s given a chance to avenge his family – and is resurrected as Scorpion, a lost soul bent on revenge. Back on Earthrealm, Lord Raiden gathers a team of elite warriors – Shaolin monk Liu Kang, Special Forces officer Sonya Blade and action star Johnny Cage – an unlikely band of heroes with one chance to save humanity. To do this, they must defeat Shang Tsung’s horde of Outworld gladiators and reign over the Mortal Kombat tournament.\",\"release_date\":\"2020-04-12\"},{\"popularity\":131.892,\"vote_count\":1792,\"video\":false,\"poster_path\":\"\\/8WUVHemHFH2ZIP6NWkwlHWsyrEL.jpg\",\"id\":338762,\"adult\":false,\"backdrop_path\":\"\\/ocUrMYbdjknu2TwzMHKT9PBBQRw.jpg\",\"original_language\":\"en\",\"original_title\":\"Bloodshot\",\"genre_ids\":[28,878],\"title\":\"Bloodshot\",\"vote_average\":7.2,\"overview\":\"After he and his wife are murdered, marine Ray Garrison is resurrected by a team of scientists. Enhanced with nanotechnology, he becomes a superhuman, biotech killing machine—'Bloodshot'. As Ray first trains with fellow super-soldiers, he cannot recall anything from his former life. But when his memories flood back and he remembers the man that killed both him and his wife, he breaks out of the facility to get revenge, only to discover that there's more to the conspiracy than he thought.\",\"release_date\":\"2020-03-05\"},{\"popularity\":123.566,\"vote_count\":3342,\"video\":false,\"poster_path\":\"\\/bB42KDdfWkOvmzmYkmK58ZlCa9P.jpg\",\"id\":512200,\"adult\":false,\"backdrop_path\":\"\\/oLma4sWjqlXVr0E3jpaXQCytuG9.jpg\",\"original_language\":\"en\",\"original_title\":\"Jumanji: The Next Level\",\"genre_ids\":[12,35,14],\"title\":\"Jumanji: The Next Level\",\"vote_average\":6.9,\"overview\":\"As the gang return to Jumanji to rescue one of their own, they discover that nothing is as they expect. The players will have to brave parts unknown and unexplored in order to escape the world’s most dangerous game.\",\"release_date\":\"2019-12-04\"},{\"popularity\":120.056,\"vote_count\":1329,\"video\":false,\"poster_path\":\"\\/f4aul3FyD3jv3v4bul1IrkWZvzq.jpg\",\"id\":508439,\"adult\":false,\"backdrop_path\":\"\\/xFxk4vnirOtUxpOEWgA1MCRfy6J.jpg\",\"original_language\":\"en\",\"original_title\":\"Onward\",\"genre_ids\":[12,16,35,14,10751],\"title\":\"Onward\",\"vote_average\":8,\"overview\":\"In a suburban fantasy world, two teenage elf brothers embark on an extraordinary quest to discover if there is still a little magic left out there.\",\"release_date\":\"2020-02-29\"},{\"popularity\":115.153,\"vote_count\":9120,\"video\":false,\"poster_path\":\"\\/qa6HCwP4Z15l3hpsASz3auugEW6.jpg\",\"id\":920,\"adult\":false,\"backdrop_path\":\"\\/sd4xN5xi8tKRPrJOWwNiZEile7f.jpg\",\"original_language\":\"en\",\"original_title\":\"Cars\",\"genre_ids\":[12,16,35,10751],\"title\":\"Cars\",\"vote_average\":6.8,\"overview\":\"Lightning McQueen, a hotshot rookie race car driven to succeed, discovers that life is about the journey, not the finish line, when he finds himself unexpectedly detoured in the sleepy Route 66 town of Radiator Springs. On route across the country to the big Piston Cup Championship in California to compete against two seasoned pros, McQueen gets to know the town's offbeat characters.\",\"release_date\":\"2006-06-08\"},{\"popularity\":113.667,\"vote_count\":171,\"video\":false,\"poster_path\":\"\\/zn7feouGPU8sELez4qvpp0EtgeQ.jpg\",\"id\":624808,\"adult\":false,\"backdrop_path\":\"\\/jjQk4UtMyOnzcqGYiaWiyrLrcEZ.jpg\",\"original_language\":\"en\",\"original_title\":\"Love Wedding Repeat\",\"genre_ids\":[35],\"title\":\"Love Wedding Repeat\",\"vote_average\":5.8,\"overview\":\"While trying to make his sister's wedding day go smoothly, Jack finds himself juggling an angry ex-girlfriend, an uninvited guest with a secret, a misplaced sleep sedative, and the girl that got away in alternate versions of the same day.\",\"release_date\":\"2020-04-10\"},{\"popularity\":110.722,\"vote_count\":383,\"video\":false,\"poster_path\":\"\\/rbrvkNWDyF1NKzvAlIHepFBSBJq.jpg\",\"id\":539537,\"adult\":false,\"backdrop_path\":\"\\/x80ZIVGUJ6plcUBcgVZ6DPKT7vc.jpg\",\"original_language\":\"en\",\"original_title\":\"Fantasy Island\",\"genre_ids\":[14,27,878],\"title\":\"Fantasy Island\",\"vote_average\":5.7,\"overview\":\"A group of contest winners arrive at an island hotel to live out their dreams, only to find themselves trapped in nightmare scenarios.\",\"release_date\":\"2020-02-12\"},{\"popularity\":103.145,\"vote_count\":11651,\"video\":false,\"poster_path\":\"\\/udDclJoHjfjb8Ekgsd4FDteOkCU.jpg\",\"id\":475557,\"adult\":false,\"backdrop_path\":\"\\/f5F4cRhQdUbyVbB5lTNCwUzD6BP.jpg\",\"original_language\":\"en\",\"original_title\":\"Joker\",\"genre_ids\":[80,18,53],\"title\":\"Joker\",\"vote_average\":8.2,\"overview\":\"During the 1980s, a failed stand-up comedian is driven insane and turns to a life of crime and chaos in Gotham City while becoming an infamous psychopathic crime figure.\",\"release_date\":\"2019-10-02\"},{\"popularity\":98.219,\"vote_count\":383,\"video\":false,\"poster_path\":\"\\/7W0G3YECgDAfnuiHG91r8WqgIOe.jpg\",\"id\":446893,\"adult\":false,\"backdrop_path\":\"\\/qsxhnirlp7y4Ae9bd11oYJSX59j.jpg\",\"original_language\":\"en\",\"original_title\":\"Trolls World Tour\",\"genre_ids\":[12,16,35,14,10402,10751],\"title\":\"Trolls World Tour\",\"vote_average\":7.7,\"overview\":\"Queen Poppy and Branch make a surprising discovery — there are other Troll worlds beyond their own, and their distinct differences create big clashes between these various tribes. When a mysterious threat puts all of the Trolls across the land in danger, Poppy, Branch, and their band of friends must embark on an epic quest to create harmony among the feuding Trolls to unite them against certain doom.\",\"release_date\":\"2020-03-12\"},{\"popularity\":96.016,\"vote_count\":9,\"video\":false,\"poster_path\":\"\\/dRCip3nvvHd5jW5E0GrjBsk0OX1.jpg\",\"id\":614375,\"adult\":false,\"backdrop_path\":null,\"original_language\":\"tl\",\"original_title\":\"F#*@BOIS\",\"genre_ids\":[18],\"title\":\"F#*@BOIS\",\"vote_average\":6.6,\"overview\":\"Ace, 23, and Miko, 17, desperately want to become famous actors but it seems the Universe has a different plan for their lives.\",\"release_date\":\"2019-08-02\"},{\"popularity\":93.738,\"vote_count\":6547,\"video\":false,\"poster_path\":\"\\/7IiTTgloJzvGI1TAYymCfbfl3vT.jpg\",\"id\":496243,\"adult\":false,\"backdrop_path\":\"\\/TU9NIjwzjoKPwQHoHshkFcQUCG.jpg\",\"original_language\":\"ko\",\"original_title\":\"기생충\",\"genre_ids\":[35,18,53],\"title\":\"Parasite\",\"vote_average\":8.5,\"overview\":\"All unemployed, Ki-taek's family takes peculiar interest in the wealthy and glamorous Parks for their livelihood until they get entangled in an unexpected incident.\",\"release_date\":\"2019-05-30\"},{\"popularity\":89.179,\"vote_count\":2528,\"video\":false,\"poster_path\":\"\\/8ZX18L5m6rH5viSYpRnTSbb9eXh.jpg\",\"id\":619264,\"adult\":false,\"backdrop_path\":\"\\/3tkDMNfM2YuIAJlvGO6rfIzAnfG.jpg\",\"original_language\":\"es\",\"original_title\":\"El hoyo\",\"genre_ids\":[18,878],\"title\":\"The Platform\",\"vote_average\":7.1,\"overview\":\"A mysterious place, an indescribable prison, a deep hole. An unknown number of levels. Two inmates living on each level. A descending platform containing food for all of them. An inhuman fight for survival, but also an opportunity for solidarity…\",\"release_date\":\"2019-11-08\"},{\"popularity\":86.374,\"vote_count\":956,\"video\":false,\"poster_path\":\"\\/jtrhTYB7xSrJxR1vusu99nvnZ1g.jpg\",\"id\":522627,\"adult\":false,\"backdrop_path\":\"\\/tintsaQ0WLzZsTMkTiqtMB3rfc8.jpg\",\"original_language\":\"en\",\"original_title\":\"The Gentlemen\",\"genre_ids\":[28,35,80],\"title\":\"The Gentlemen\",\"vote_average\":7.8,\"overview\":\"American expat Mickey Pearson has built a highly profitable marijuana empire in London. When word gets out that he’s looking to cash out of the business forever it triggers plots, schemes, bribery and blackmail in an attempt to steal his domain out from under him.\",\"release_date\":\"2020-01-01\"}]}"
     ]
    }
   ],
   "source": [
    "%%bash\n",
    "curl --silent --request GET \\\n",
    "       --url 'https://api.themoviedb.org/3/movie/popular?page=1&api_key=75df0c4f93ec9e484534b8ce1db9a67e'\n"
   ]
  },
  {
   "cell_type": "markdown",
   "metadata": {},
   "source": [
    "**Q8** What kind of error do you get when running this cell while not connected to the internet?"
   ]
  },
  {
   "cell_type": "markdown",
   "metadata": {},
   "source": [
    "*Solution cell*\n",
    "\n",
    "CalledProcessError"
   ]
  }
 ],
 "metadata": {
  "kernelspec": {
   "display_name": "Python 3",
   "language": "python",
   "name": "python3"
  },
  "language_info": {
   "codemirror_mode": {
    "name": "ipython",
    "version": 3
   },
   "file_extension": ".py",
   "mimetype": "text/x-python",
   "name": "python",
   "nbconvert_exporter": "python",
   "pygments_lexer": "ipython3",
   "version": "3.7.6"
  }
 },
 "nbformat": 4,
 "nbformat_minor": 4
}
