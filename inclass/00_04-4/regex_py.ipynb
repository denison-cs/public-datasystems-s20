{
 "cells": [
  {
   "cell_type": "markdown",
   "metadata": {},
   "source": [
    "Before you turn this problem in, make sure everything runs as expected. First, **restart the kernel** (in the menubar, select Kernel$\\rightarrow$Restart) and then **run all cells** (in the menubar, select Cell$\\rightarrow$Run All).\n",
    "\n",
    "Make sure you fill in any place that says `YOUR CODE HERE` or \"YOUR ANSWER HERE\", as well as your name and collaborators below:"
   ]
  },
  {
   "cell_type": "code",
   "execution_count": null,
   "metadata": {},
   "outputs": [],
   "source": [
    "NAME = \"\"\n",
    "COLLABORATORS = \"\""
   ]
  },
  {
   "cell_type": "markdown",
   "metadata": {},
   "source": [
    "---"
   ]
  },
  {
   "cell_type": "code",
   "execution_count": null,
   "metadata": {},
   "outputs": [],
   "source": [
    "import re\n",
    "import os\n",
    "import os.path\n",
    "import io\n",
    "import sys\n",
    "import string\n",
    "from contextlib import redirect_stdout"
   ]
  },
  {
   "cell_type": "markdown",
   "metadata": {
    "deletable": false,
    "editable": false,
    "nbgrader": {
     "cell_type": "markdown",
     "checksum": "aba06ac419452fb80a28a66d1295c165",
     "grade": false,
     "grade_id": "cell-d753860958c8f307",
     "locked": true,
     "schema_version": 3,
     "solution": false,
     "task": false
    }
   },
   "source": [
    "**Q** Warmup. Python strings.  For the following variable names and descriptions, write Python assignment statements to obtain the desired description. The first one is done for you.\n",
    "\n",
    "Var | Description\n",
    "----|------------\n",
    "s1  | The string with characters `Hello world`\n",
    "s2  | The string with characters `Hello world` plus a trailing newline\n",
    "s3  | The string with characters `Hello world\\n` (so the **literal** backslash followed by the character `n`)\n",
    "s4  | Using double quotes as the delimiter, a string that starts with a double quote, followed by two backslashes in a row, followed by a newline."
   ]
  },
  {
   "cell_type": "code",
   "execution_count": null,
   "metadata": {
    "deletable": false,
    "nbgrader": {
     "cell_type": "code",
     "checksum": "7ef02d86861ee58ce07ad6f8012bd8ec",
     "grade": false,
     "grade_id": "cell-c16682bcdac2ecf2",
     "locked": false,
     "schema_version": 3,
     "solution": true,
     "task": false
    }
   },
   "outputs": [],
   "source": [
    "s1 = \"Hello world\"\n",
    "# YOUR CODE HERE\n",
    "raise NotImplementedError()"
   ]
  },
  {
   "cell_type": "code",
   "execution_count": null,
   "metadata": {
    "deletable": false,
    "editable": false,
    "nbgrader": {
     "cell_type": "code",
     "checksum": "73af6bceb5de3cfff0f43df7844056d0",
     "grade": true,
     "grade_id": "cell-fe5417438e8a5e94",
     "locked": true,
     "points": 2,
     "schema_version": 3,
     "solution": false,
     "task": false
    }
   },
   "outputs": [],
   "source": [
    "assert s2[-2] == 'd'\n",
    "assert s2[-1] == '\\n'\n",
    "assert s3[-3] == 'd'\n",
    "assert s3[-2] == '\\\\'\n",
    "assert s3[-1] == 'n'\n",
    "assert len(s4) == 4\n",
    "assert s4[0] == '\"'\n",
    "assert s4[1] == s4[2] == '\\\\'\n",
    "assert s4[-1] == '\\n'"
   ]
  },
  {
   "cell_type": "markdown",
   "metadata": {
    "deletable": false,
    "editable": false,
    "nbgrader": {
     "cell_type": "markdown",
     "checksum": "5cc1d7559f061076f5f48d27ee4bacf6",
     "grade": false,
     "grade_id": "cell-29b0ec5a3baf43d8",
     "locked": true,
     "schema_version": 3,
     "solution": false,
     "task": false
    }
   },
   "source": [
    "**Q** Consider the following target:\n",
    "\n",
    "    target = \"In 2018, Claire had 1208 and Bob had  932\"\n",
    "    \n",
    "Suppose we can assume a structure where we have a number following the `had` and some amount of whitespace.  Ultimately, we want to \"capture\" the two numbers, but not the year, and we want a single pattern that matches multiple times.\n",
    "\n",
    "Start by assigning to variable `pattern` a \"raw\" string containing the desired regular expression pattern.  Use the regex101.com site to test and debug your pattern.  Make sure you have a capture group in your pattern that will give the text of the digits on a match."
   ]
  },
  {
   "cell_type": "code",
   "execution_count": null,
   "metadata": {
    "deletable": false,
    "nbgrader": {
     "cell_type": "code",
     "checksum": "ddbff337bea9ccf65cab4799815311eb",
     "grade": true,
     "grade_id": "cell-9727fbe7b94b6328",
     "locked": false,
     "points": 1,
     "schema_version": 3,
     "solution": true,
     "task": false
    }
   },
   "outputs": [],
   "source": [
    "# YOUR CODE HERE\n",
    "raise NotImplementedError()"
   ]
  },
  {
   "cell_type": "markdown",
   "metadata": {
    "deletable": false,
    "editable": false,
    "nbgrader": {
     "cell_type": "markdown",
     "checksum": "1e097b9ed668cc7cb64944448e309813",
     "grade": false,
     "grade_id": "cell-81c7a06a0791bc3b",
     "locked": true,
     "schema_version": 3,
     "solution": false,
     "task": false
    }
   },
   "source": [
    "**Q** In the `re` module, as reflected in the table on page 112 of your book, there are *functions* `re.search()`, `re.match()` and `re.fullmatch()` that all return a single *Match Object*.  Each of these takes two arguments, where the first is a pattern and the second is a target string.\n",
    "\n",
    "[re module documentation](https://docs.python.org/3/library/re.html#module-contents)\n",
    "\n",
    "For the example developed above, write code to assign to `result1` the result of a `search`, to `result2` the result of a `match`, and to `result3` the result of a `fullmatch`.  Print all three result variables *after you predict what will happen*.  (To predict, you will need to actually read the descriptions in the book table.)\n",
    "\n",
    "If you predicted correctly, congratulations.  If you predicted incorrectly, check your code and check your understanding of the descriptions of these three functions."
   ]
  },
  {
   "cell_type": "code",
   "execution_count": null,
   "metadata": {
    "deletable": false,
    "nbgrader": {
     "cell_type": "code",
     "checksum": "d2cba3cb2673d696bc1a54d389174365",
     "grade": true,
     "grade_id": "cell-28ca46e9e15ff806",
     "locked": false,
     "points": 2,
     "schema_version": 3,
     "solution": true,
     "task": false
    }
   },
   "outputs": [],
   "source": [
    "target = \"In 2018, Claire had 1208 and Bob had  932\"\n",
    "# YOUR CODE HERE\n",
    "raise NotImplementedError()"
   ]
  },
  {
   "cell_type": "markdown",
   "metadata": {
    "deletable": false,
    "editable": false,
    "nbgrader": {
     "cell_type": "markdown",
     "checksum": "eacfeba39edd8c129a78a7aac901d907",
     "grade": false,
     "grade_id": "cell-9d2bf3ffcfeebe5f",
     "locked": true,
     "schema_version": 3,
     "solution": false,
     "task": false
    }
   },
   "source": [
    "**Q** Mofify your pattern so that `result3`, the result of invoking the `fullmatch` function, yields a non-None result.  In order to be useful, your new pattern should have *two* capture groups for the two numbers we want to get from the target."
   ]
  },
  {
   "cell_type": "code",
   "execution_count": null,
   "metadata": {
    "deletable": false,
    "nbgrader": {
     "cell_type": "code",
     "checksum": "8d501a9ff63aa45ff0424aa97e117092",
     "grade": true,
     "grade_id": "cell-0879653f52286996",
     "locked": false,
     "points": 2,
     "schema_version": 3,
     "solution": true,
     "task": false
    }
   },
   "outputs": [],
   "source": [
    "# YOUR CODE HERE\n",
    "raise NotImplementedError()"
   ]
  },
  {
   "cell_type": "markdown",
   "metadata": {
    "deletable": false,
    "editable": false,
    "nbgrader": {
     "cell_type": "markdown",
     "checksum": "914345396afdb38cc2ef2db6f52cf44e",
     "grade": false,
     "grade_id": "cell-18d09191dad4db0d",
     "locked": true,
     "schema_version": 3,
     "solution": false,
     "task": false
    }
   },
   "source": [
    "**Q** With success on the last question, the variable `result3` should refer to a *Match Object*.  Like any object, a match object has attributes and methods.  To invoke a method on an object, we append the variable referring to the object with a dot character followed by the method name and then arguments in parenthesis.\n",
    "\n",
    "To know the methods of a Match Object, we should look up and refer to the documentation:\n",
    "\n",
    "[Match Objects](https://docs.python.org/3/library/re.html#match-objects)\n",
    "\n",
    "While I am helping with a link here, for exercises, you should be able to find the documentation for yourself.\n",
    "\n",
    "Start by practicing with the `group()` method of a Match object.  Assign the following variables:\n",
    "\n",
    "Var | Description\n",
    "----|------------\n",
    "g0  | The value of the string giving the *entire* string matched in `result3`\n",
    "g1  | The value of the string resulting from the first capture group of `result3`\n",
    "g2  | The value of the string resulting from the second capture group of `result3`\n",
    "g3  | The value of the string giving the *entire* string matched in `result1`\n",
    "g4  | The value of the string resulting from the first (and only) capture group of `result1`"
   ]
  },
  {
   "cell_type": "code",
   "execution_count": null,
   "metadata": {
    "deletable": false,
    "nbgrader": {
     "cell_type": "code",
     "checksum": "e6d5893ddee17855244699fd7f166c00",
     "grade": false,
     "grade_id": "cell-0a4bc785e17df14d",
     "locked": false,
     "schema_version": 3,
     "solution": true,
     "task": false
    }
   },
   "outputs": [],
   "source": [
    "# YOUR CODE HERE\n",
    "raise NotImplementedError()\n",
    "print(g0)\n",
    "print(g1, g2)\n",
    "print(g3, g4)"
   ]
  },
  {
   "cell_type": "code",
   "execution_count": null,
   "metadata": {
    "deletable": false,
    "editable": false,
    "nbgrader": {
     "cell_type": "code",
     "checksum": "fd6a0592d487d9c42554b58dd4eadecd",
     "grade": true,
     "grade_id": "cell-a7f08908cfed805f",
     "locked": true,
     "points": 2,
     "schema_version": 3,
     "solution": false,
     "task": false
    }
   },
   "outputs": [],
   "source": [
    "assert g0 == target\n",
    "assert g1 == '1208'\n",
    "assert g2 == '932'\n",
    "assert g4 == '1208'"
   ]
  },
  {
   "cell_type": "markdown",
   "metadata": {
    "deletable": false,
    "editable": false,
    "nbgrader": {
     "cell_type": "markdown",
     "checksum": "89f50ed48efe7bc2dc4cee0e0fe12e56",
     "grade": false,
     "grade_id": "cell-9a62c37809b5250d",
     "locked": true,
     "schema_version": 3,
     "solution": false,
     "task": false
    }
   },
   "source": [
    "**Q** A significant limitation of `search`, `match`, and `fullmatch` is that all of these functions return **at most** one match.  But even in this limited case, and moreso in the general case, we want to define a pattern with the expectation that they will yield **multiple** matches in a given target.  So for the same target above:\n",
    "\n",
    "    target = \"In 2018, Claire had 1208 and Bob had  932\"\n",
    "    \n",
    "we want a regular expression that would match `had 1208` and `had  932` as different matches, and with a single capture group that yields the number in each case.\n",
    "\n",
    "If you passed the last questions asserts, the pattern that you used to obtain `result1` should be the correct pattern, if the full match pattern begins with the `had`.\n",
    "\n",
    "What we need is an *iterator* that, on each iteration, yields the next *Match Object* for the set of matches of a pattern against a target, and that finishes the iteration when we are out of match targets.\n",
    "\n",
    "At the same `re` documentation page linked above, find and read the documentation for the `finditer()` function.  You should now be able to \"bring it all together\" and write a `for` loop that uses a call of `finditer()` as the sequence in the `for`.  In each iteration, print out two things: the full match, and the string for the capture group."
   ]
  },
  {
   "cell_type": "code",
   "execution_count": null,
   "metadata": {
    "deletable": false,
    "nbgrader": {
     "cell_type": "code",
     "checksum": "8963edde4e318d453016d0f8d790c1a3",
     "grade": true,
     "grade_id": "cell-48ccefbf8bbbadf6",
     "locked": false,
     "points": 3,
     "schema_version": 3,
     "solution": true,
     "task": false
    }
   },
   "outputs": [],
   "source": [
    "# YOUR CODE HERE\n",
    "raise NotImplementedError()"
   ]
  }
 ],
 "metadata": {
  "kernelspec": {
   "display_name": "Python 3",
   "language": "python",
   "name": "python3"
  },
  "language_info": {
   "codemirror_mode": {
    "name": "ipython",
    "version": 3
   },
   "file_extension": ".py",
   "mimetype": "text/x-python",
   "name": "python",
   "nbconvert_exporter": "python",
   "pygments_lexer": "ipython3",
   "version": "3.7.6"
  }
 },
 "nbformat": 4,
 "nbformat_minor": 4
}
