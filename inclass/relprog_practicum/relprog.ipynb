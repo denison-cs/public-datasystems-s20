{
 "cells": [
  {
   "cell_type": "markdown",
   "metadata": {},
   "source": [
    "Before you turn this problem in, make sure everything runs as expected. First, **restart the kernel** (in the menubar, select Kernel$\\rightarrow$Restart) and then **run all cells** (in the menubar, select Cell$\\rightarrow$Run All).\n",
    "\n",
    "Make sure you fill in any place that says `YOUR CODE HERE` or \"YOUR ANSWER HERE\", as well as your name and collaborators below:"
   ]
  },
  {
   "cell_type": "code",
   "execution_count": null,
   "metadata": {},
   "outputs": [],
   "source": [
    "NAME = \"\"\n",
    "COLLABORATORS = \"\""
   ]
  },
  {
   "cell_type": "markdown",
   "metadata": {},
   "source": [
    "---"
   ]
  },
  {
   "cell_type": "markdown",
   "metadata": {},
   "source": [
    "## Set User Credentials\n",
    "\n",
    "With a shared resource at a provider like a MySQL RDBMS, we need to use credentials to authenticate ourselves to the server, and need the logical location of the server itself.\n",
    "\n",
    "For these notebooks, these are kept in a text file named 'creds.json', stored either in the same directory or in a data directory.  For this notebook, this is stored in the same directory as the notebook.\n",
    "\n",
    "- Right click on the `creds.json` file and select *Open With*->*Editor*\n",
    "- Replace the mysql dictionary's key for \"user\" (currently `\"nostudent\"`) with the base part of your email address (i.e. without the `@denison.edu`).  Your password on the mysql server, at present, is the same as your user, so change that from `\"nostudent\"` as well.  The server should be correct, mapped to `\"hadoop2.mathsci.denison.edu\"`. Likewise, the scheme should be correct, mapped to `\"mysql+mysqlconnector\"`. \n",
    "\n",
    "**Make sure to use double quotes for strings** ... this is `JSON`, not Python, and we have to follow JSON syntax.\n",
    "\n",
    "Once this is complete, execute the following cell to connect to the database using SQL alchemy. If you are off-campus you will need to use a VPN first."
   ]
  },
  {
   "cell_type": "code",
   "execution_count": null,
   "metadata": {
    "deletable": false,
    "editable": false,
    "nbgrader": {
     "cell_type": "code",
     "checksum": "bb3842ecf9d99f669cf43c2ef7839d55",
     "grade": false,
     "grade_id": "cell-169b9d93f327f35e",
     "locked": true,
     "schema_version": 3,
     "solution": false,
     "task": false
    }
   },
   "outputs": [],
   "source": [
    "import pandas as pd\n",
    "import os\n",
    "import os.path\n",
    "import json\n",
    "import sqlalchemy as sa\n",
    "\n",
    "def getmysql_creds(dirname=\".\",filename=\"creds.json\"):\n",
    "    \"\"\" Using directory and filename parameters, open a credentials file\n",
    "        and obtain the four parts needed for a connection string to\n",
    "        a remote provider using the \"mysql\" dictionary within\n",
    "        an outer dictionary.  \n",
    "        \n",
    "        Return a scheme, server, user, and password\n",
    "    \"\"\"\n",
    "    assert os.path.isfile(os.path.join(dirname, filename))\n",
    "    with open(os.path.join(dirname, filename)) as f:\n",
    "        D = json.load(f)\n",
    "    mysql = D[\"mysql\"]\n",
    "    return mysql[\"scheme\"], mysql[\"server\"], mysql[\"user\"], mysql[\"pass\"],mysql[\"database\"]\n",
    "\n",
    "scheme, server, user, password, database = getmysql_creds()"
   ]
  },
  {
   "cell_type": "markdown",
   "metadata": {},
   "source": [
    "**Q1** In the prior cell, we use the provided function `getmysql_creds` to obtain the five pieces of information needed to establish a connection.  Write the lines of code needed to actually create a connection string, to create the `engine` obhect, and to create the `connection` object.  We have given you the Python template string."
   ]
  },
  {
   "cell_type": "code",
   "execution_count": null,
   "metadata": {
    "deletable": false,
    "nbgrader": {
     "cell_type": "code",
     "checksum": "396985d265f88a4867c929a49906a448",
     "grade": false,
     "grade_id": "cell-e6be1e55bf0d3e86",
     "locked": false,
     "schema_version": 3,
     "solution": true,
     "task": false
    }
   },
   "outputs": [],
   "source": [
    "template = '{}://{}:{}@{}/{}'\n",
    "# YOUR CODE HERE\n",
    "raise NotImplementedError()"
   ]
  },
  {
   "cell_type": "code",
   "execution_count": null,
   "metadata": {
    "deletable": false,
    "editable": false,
    "nbgrader": {
     "cell_type": "code",
     "checksum": "4db847275ac23c31c232aaea5cec0991",
     "grade": true,
     "grade_id": "cell-c3a82e580e15548c",
     "locked": true,
     "points": 0,
     "schema_version": 3,
     "solution": false,
     "task": false
    }
   },
   "outputs": [],
   "source": [
    "assert isinstance(connection, sa.engine.base.Connection)"
   ]
  },
  {
   "cell_type": "markdown",
   "metadata": {},
   "source": [
    "**Q2** Write a query to obtain all information about departments in the Fine Arts division of the college, and use the connection object to make the request.  The result should be a list of tuples assigned to Python variable `tuple_list`."
   ]
  },
  {
   "cell_type": "code",
   "execution_count": null,
   "metadata": {
    "deletable": false,
    "nbgrader": {
     "cell_type": "code",
     "checksum": "17681a0ee1e31a8f4e28261dbc593e9a",
     "grade": false,
     "grade_id": "cell-920335f89f4141e2",
     "locked": false,
     "schema_version": 3,
     "solution": true,
     "task": false
    }
   },
   "outputs": [],
   "source": [
    "# Solution cell\n",
    "\n",
    "# YOUR CODE HERE\n",
    "raise NotImplementedError()"
   ]
  },
  {
   "cell_type": "code",
   "execution_count": null,
   "metadata": {
    "deletable": false,
    "editable": false,
    "nbgrader": {
     "cell_type": "code",
     "checksum": "0f8d51e4fe3b6aa80f07067bebbcdee7",
     "grade": true,
     "grade_id": "cell-6d3a6e653147169c",
     "locked": true,
     "points": 0,
     "schema_version": 3,
     "solution": false,
     "task": false
    }
   },
   "outputs": [],
   "source": [
    "# Testing cell\n",
    "\n",
    "assert isinstance(tuple_list, list)\n",
    "assert len(tuple_list) == 5"
   ]
  },
  {
   "cell_type": "markdown",
   "metadata": {},
   "source": [
    "**Q3** Make the following assignments to variables associated with the results of the last two questions:\n",
    "\n",
    "- `col_list`: the names of the columns \n",
    "- `first_dept`: the id of the first department result returned\n",
    "- `third_deptname`: the *name* of the depatment for the third result returned."
   ]
  },
  {
   "cell_type": "code",
   "execution_count": null,
   "metadata": {
    "deletable": false,
    "nbgrader": {
     "cell_type": "code",
     "checksum": "371b36fda53106886b8425041a0fa661",
     "grade": false,
     "grade_id": "cell-363df93363e9dade",
     "locked": false,
     "schema_version": 3,
     "solution": true,
     "task": false
    }
   },
   "outputs": [],
   "source": [
    "# Solution cell\n",
    "\n",
    "col_list = None\n",
    "first_deptid = None\n",
    "third_deptname = None\n",
    "\n",
    "# YOUR CODE HERE\n",
    "raise NotImplementedError()"
   ]
  },
  {
   "cell_type": "code",
   "execution_count": null,
   "metadata": {
    "deletable": false,
    "editable": false,
    "nbgrader": {
     "cell_type": "code",
     "checksum": "aaa0ffd2b44a7b47865e937e9be8fc7c",
     "grade": true,
     "grade_id": "cell-8fdf540d67854912",
     "locked": true,
     "points": 0,
     "schema_version": 3,
     "solution": false,
     "task": false
    }
   },
   "outputs": [],
   "source": [
    "# Testing cell\n",
    "\n",
    "assert len(col_list) == 4\n",
    "assert 'departmentchair' in col_list\n",
    "assert first_dept == 'ART'\n",
    "assert third_deptname == 'Dance'"
   ]
  },
  {
   "cell_type": "markdown",
   "metadata": {},
   "source": [
    "**Q4** Write a function\n",
    "\n",
    "    fetch_query(dbcon, query)\n",
    "    \n",
    "that submits the given `query`, a Python string, to the given database `dbcon` and returns a list of row tuples of the result.  Your function should **not** use `fetchall` and **must** use a `for` or a `while` loop to accumulate the results.  The database-programming information for successfully completing this question comes from your reading in 13.3."
   ]
  },
  {
   "cell_type": "code",
   "execution_count": null,
   "metadata": {
    "deletable": false,
    "nbgrader": {
     "cell_type": "code",
     "checksum": "178bba3a2b3b9ad9feeec209418c3020",
     "grade": false,
     "grade_id": "cell-5e1cf86342da0452",
     "locked": false,
     "schema_version": 3,
     "solution": true,
     "task": false
    }
   },
   "outputs": [],
   "source": [
    "# Solution cell\n",
    "\n",
    "# YOUR CODE HERE\n",
    "raise NotImplementedError()"
   ]
  },
  {
   "cell_type": "code",
   "execution_count": null,
   "metadata": {
    "deletable": false,
    "editable": false,
    "nbgrader": {
     "cell_type": "code",
     "checksum": "aa853db1218a1c9f5aab2a678896c22e",
     "grade": true,
     "grade_id": "cell-0a0f6801e36c554f",
     "locked": true,
     "points": 0,
     "schema_version": 3,
     "solution": false,
     "task": false
    }
   },
   "outputs": [],
   "source": [
    "query1 = \"\"\"\n",
    "SELECT D.departmentid, departmentname, \n",
    "       instructorlast || ', ' || instructorfirst AS chairname\n",
    "FROM departments AS D LEFT JOIN instructors AS I\n",
    "     ON D.departmentchair = I.instructorid\n",
    "WHERE division = 'Natural Sciences'\n",
    "ORDER BY D.departmentid\n",
    "\"\"\"\n",
    "\n",
    "dlist = fetch_query(connection, query1)\n",
    "assert len(dlist) == 6\n",
    "assert dlist[3]['departmentid'] == 'MATH'"
   ]
  },
  {
   "cell_type": "markdown",
   "metadata": {},
   "source": [
    "**Q4** Repeat the last exercise in writing a generic function\n",
    "\n",
    "    fetch_query(dbcon, query)\n",
    "    \n",
    "that submits the given `query`, a Python string, to the given database `dbcon`.  But this time, construct a return a `pandas` dataframe with the result.  You still need to use an accumulation loop.  You should be able to just append a few lines to your existing function to get this done."
   ]
  },
  {
   "cell_type": "code",
   "execution_count": null,
   "metadata": {
    "deletable": false,
    "nbgrader": {
     "cell_type": "code",
     "checksum": "f603937eba1fb199c21831d039aab654",
     "grade": false,
     "grade_id": "cell-5d2f63632f6c50b3",
     "locked": false,
     "schema_version": 3,
     "solution": true,
     "task": false
    }
   },
   "outputs": [],
   "source": [
    "# Solution cell\n",
    "\n",
    "# YOUR CODE HERE\n",
    "raise NotImplementedError()"
   ]
  },
  {
   "cell_type": "code",
   "execution_count": null,
   "metadata": {
    "deletable": false,
    "editable": false,
    "nbgrader": {
     "cell_type": "code",
     "checksum": "a2bfc7c59da0283182d353de82cff5a6",
     "grade": true,
     "grade_id": "cell-e1159bfbe17867aa",
     "locked": true,
     "points": 0,
     "schema_version": 3,
     "solution": false,
     "task": false
    }
   },
   "outputs": [],
   "source": [
    "query1 = \"\"\"\n",
    "SELECT D.departmentid, departmentname, \n",
    "       instructorlast || ', ' || instructorfirst AS chairname\n",
    "FROM departments AS D LEFT JOIN instructors AS I\n",
    "     ON D.departmentchair = I.instructorid\n",
    "WHERE division = 'Natural Sciences'\n",
    "ORDER BY D.departmentid\n",
    "\"\"\"\n",
    "\n",
    "df = fetch_query(connection, query1)\n",
    "assert len(df) == 6\n",
    "assert isinstance(df, pd.core.frame.DataFrame)\n",
    "assert df.iloc[3]['departmentid'] == 'MATH'"
   ]
  },
  {
   "cell_type": "markdown",
   "metadata": {},
   "source": [
    "**Q5** Assign to variable `query` an SQL statement that yields the last name, first name, and major for the students whose last name starts with `B` and goes through, and including `Bz'."
   ]
  },
  {
   "cell_type": "code",
   "execution_count": null,
   "metadata": {
    "deletable": false,
    "nbgrader": {
     "cell_type": "code",
     "checksum": "cab36dd35d7404b0ce20c6be40f95d72",
     "grade": false,
     "grade_id": "cell-13cadb59eff1eccf",
     "locked": false,
     "schema_version": 3,
     "solution": true,
     "task": false
    }
   },
   "outputs": [],
   "source": [
    "# Solution cell\n",
    "\n",
    "query = \"\"\"\n",
    "\"\"\"\n",
    "# YOUR CODE HERE\n",
    "raise NotImplementedError()"
   ]
  },
  {
   "cell_type": "code",
   "execution_count": null,
   "metadata": {
    "deletable": false,
    "editable": false,
    "nbgrader": {
     "cell_type": "code",
     "checksum": "8299573e64f5603a51c1c01e0c75d31d",
     "grade": true,
     "grade_id": "cell-ea4a0685ef3e08c1",
     "locked": true,
     "points": 0,
     "schema_version": 3,
     "solution": false,
     "task": false
    }
   },
   "outputs": [],
   "source": [
    "results = connection.execute(query).fetchall()\n",
    "assert len(results) == 194"
   ]
  },
  {
   "cell_type": "markdown",
   "metadata": {},
   "source": [
    "**Q6** Write a function\n",
    "\n",
    "    getStudentsInNameRange(dbcon, namefrom, nameto)\n",
    "    \n",
    "that abstracts the query from the last section: it retrieves the studentlast, studentfirst, studentmajor from the students table where the last names are between the given parameters of `namefrom` and `nameto`.\n",
    "\n",
    "Note how, in the solution cell and in the asserts, that `namefrom` and `nameto` are Python strings.  The caller **should not** incorporate any knowledge of SQL and how, hidden in the function, the SQL is written, nor how the syntax of SQL might represent constant strings.  \n",
    "\n",
    "Your return should be a `pandas` DataFrame.\n",
    "\n",
    "Do not undervalue this last question.  The culmination of understanding how to work with a database should be functions that abstract away the details of the SQL, so that the higher level steps of a client application clearly convey the steps and not the underlying (SQL) details."
   ]
  },
  {
   "cell_type": "code",
   "execution_count": null,
   "metadata": {
    "deletable": false,
    "nbgrader": {
     "cell_type": "code",
     "checksum": "3aaa720c0cea034f530e6e25742bfb10",
     "grade": false,
     "grade_id": "cell-b601489517f85052",
     "locked": false,
     "schema_version": 3,
     "solution": true,
     "task": false
    }
   },
   "outputs": [],
   "source": [
    "# Solution cell\n",
    "\n",
    "# YOUR CODE HERE\n",
    "raise NotImplementedError()"
   ]
  },
  {
   "cell_type": "code",
   "execution_count": null,
   "metadata": {
    "deletable": false,
    "editable": false,
    "nbgrader": {
     "cell_type": "code",
     "checksum": "1c8a5809b84153e84295defd6e822661",
     "grade": true,
     "grade_id": "cell-df526b5fb34e9d2e",
     "locked": true,
     "points": 0,
     "schema_version": 3,
     "solution": false,
     "task": false
    }
   },
   "outputs": [],
   "source": [
    "namefrom = \"\"\"B\"\"\"\n",
    "nameto = \"\"\"Bz\"\"\"\n",
    "resultdf = getStudentsInNameRange(connection, namefrom, nameto)\n",
    "assert resultdf.shape == (194,3)"
   ]
  }
 ],
 "metadata": {
  "kernelspec": {
   "display_name": "Python 3",
   "language": "python",
   "name": "python3"
  },
  "language_info": {
   "codemirror_mode": {
    "name": "ipython",
    "version": 3
   },
   "file_extension": ".py",
   "mimetype": "text/x-python",
   "name": "python",
   "nbconvert_exporter": "python",
   "pygments_lexer": "ipython3",
   "version": "3.7.6"
  }
 },
 "nbformat": 4,
 "nbformat_minor": 4
}
