{
 "cells": [
  {
   "cell_type": "code",
   "execution_count": 28,
   "metadata": {},
   "outputs": [
    {
     "data": {
      "text/plain": [
       "<module 'mysocket' from '/Users/tcbressoud/Dropbox/cs181-DataSystems/cs181-bressoud/inclass_s20/source/03_19-second/mysocket.py'>"
      ]
     },
     "execution_count": 28,
     "metadata": {},
     "output_type": "execute_result"
    }
   ],
   "source": [
    "import importlib\n",
    "import mysocket as sock\n",
    "\n",
    "importlib.reload(sock)"
   ]
  },
  {
   "cell_type": "code",
   "execution_count": null,
   "metadata": {},
   "outputs": [],
   "source": [
    "webconn = sock.makeConnection(\"personal.denison.edu\", 80)"
   ]
  },
  {
   "cell_type": "code",
   "execution_count": null,
   "metadata": {},
   "outputs": [],
   "source": [
    "lines = [\"GET / HTTP/1.1\",\n",
    "         \"Host: personal.denison.edu\",\n",
    "         \"\"\n",
    "        ]"
   ]
  },
  {
   "cell_type": "code",
   "execution_count": null,
   "metadata": {},
   "outputs": [],
   "source": [
    "for line in lines:\n",
    "    sock.sendString(webconn, line)\n",
    "    sock.sendCRLF(webconn)"
   ]
  },
  {
   "cell_type": "code",
   "execution_count": null,
   "metadata": {},
   "outputs": [],
   "source": [
    "s = sock.receiveTillClose(webconn)"
   ]
  },
  {
   "cell_type": "code",
   "execution_count": null,
   "metadata": {},
   "outputs": [],
   "source": [
    "s"
   ]
  },
  {
   "cell_type": "code",
   "execution_count": null,
   "metadata": {},
   "outputs": [],
   "source": [
    "webconn.close()"
   ]
  },
  {
   "cell_type": "code",
   "execution_count": 39,
   "metadata": {},
   "outputs": [],
   "source": [
    "def getMailCode(serverline):\n",
    "    endpos = serverline.index(\" \")\n",
    "    first = serverline[:endpos]\n",
    "    num = int(first)\n",
    "    return num"
   ]
  },
  {
   "cell_type": "code",
   "execution_count": 40,
   "metadata": {},
   "outputs": [],
   "source": [
    "mailserver = sock.makeConnection(\"mail.denison.edu\", 25)"
   ]
  },
  {
   "cell_type": "code",
   "execution_count": 41,
   "metadata": {},
   "outputs": [
    {
     "name": "stdout",
     "output_type": "stream",
     "text": [
      "'220 smtpint2.cc.denison.edu ESMTP Postfix\\r\\n' 220\n"
     ]
    }
   ],
   "source": [
    "s1 = sock.receiveToCRLF(mailserver)\n",
    "status = getMailCode(s1)\n",
    "print(repr(s1), status)"
   ]
  },
  {
   "cell_type": "code",
   "execution_count": 42,
   "metadata": {},
   "outputs": [
    {
     "name": "stdout",
     "output_type": "stream",
     "text": [
      "'250 2.0.0 Ok: queued as 26ACF409E344\\r\\n'\n"
     ]
    }
   ],
   "source": [
    "prefixlines = [\n",
    "    \"HELO 140.141.92.5\",\n",
    "    \"MAIL FROM:<bressoud@denison.edu>\",\n",
    "    \"RCPT TO:<tcbressoud@gmail.com>\"\n",
    "]\n",
    "\n",
    "headers = [\n",
    "    'From: \"Dr. B\" <bressoud@denison.edu>',\n",
    "    'To: \"Tom\" <tcbressoud@gmail.com>',\n",
    "    'Date: Sun, 29 Mar 2020 12:00:00 -0500',\n",
    "    'Subject: Test message',\n",
    "    ''\n",
    "]\n",
    "\n",
    "body = \"\"\"Hello Tom-\n",
    "This is a test message with four header lines and\n",
    "five lines in the message body.\n",
    "\n",
    "Best, Dr. B\n",
    "\"\"\"\n",
    "\n",
    "for line in prefixlines:\n",
    "    sock.sendString(mailserver, line)\n",
    "    sock.sendCRLF(mailserver)\n",
    "    statusline = sock.receiveToCRLF(mailserver)\n",
    "    assert getMailCode(statusline) == 250\n",
    "    \n",
    "sock.sendString(mailserver, \"DATA\")\n",
    "sock.sendCRLF(mailserver)\n",
    "statusline = sock.receiveToCRLF(mailserver)\n",
    "assert getMailCode(statusline) == 354\n",
    "\n",
    "for headerline in headers:\n",
    "    sock.sendString(mailserver, headerline)\n",
    "    sock.sendCRLF(mailserver)\n",
    "\n",
    "for bodyline in body.split('\\n'):\n",
    "    sock.sendString(mailserver, bodyline)\n",
    "    sock.sendCRLF(mailserver)\n",
    "\n",
    "sock.sendString(mailserver, \".\")\n",
    "sock.sendCRLF(mailserver)\n",
    "\n",
    "statusline = sock.receiveToCRLF(mailserver)\n",
    "print(repr(statusline))\n",
    "assert getMailCode(statusline) == 250"
   ]
  },
  {
   "cell_type": "code",
   "execution_count": 43,
   "metadata": {},
   "outputs": [],
   "source": [
    "sock.sendString(mailserver, \"QUIT\")\n",
    "sock.sendCRLF(mailserver)\n",
    "statusline = sock.receiveToCRLF(mailserver)\n",
    "assert getMailCode(statusline) == 221"
   ]
  },
  {
   "cell_type": "code",
   "execution_count": 44,
   "metadata": {},
   "outputs": [],
   "source": [
    "mailserver.close()"
   ]
  }
 ],
 "metadata": {
  "kernelspec": {
   "display_name": "Python 3",
   "language": "python",
   "name": "python3"
  },
  "language_info": {
   "codemirror_mode": {
    "name": "ipython",
    "version": 3
   },
   "file_extension": ".py",
   "mimetype": "text/x-python",
   "name": "python",
   "nbconvert_exporter": "python",
   "pygments_lexer": "ipython3",
   "version": "3.7.6"
  }
 },
 "nbformat": 4,
 "nbformat_minor": 4
}
