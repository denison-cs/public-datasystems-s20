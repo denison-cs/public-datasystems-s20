{
 "cells": [
  {
   "cell_type": "markdown",
   "metadata": {},
   "source": [
    "# Learning HTTP\n",
    "\n",
    "In this notebook, we will learn about HTTP by using the `requests` module to generate requests and examine the data and metadata returned.  For each of the following, we want to use a Web Browser (like Chrome or Safari) and the associated Developer Tools to make a request and look at the underlying details before using Python to repeat the operation."
   ]
  },
  {
   "cell_type": "markdown",
   "metadata": {},
   "source": [
    "We know from class discussion that a URL like:\n",
    "```\n",
    "http://personal.denison.edu/\n",
    "```\n",
    "consists of three parts, \n",
    "- `http://` that specifies the protocol\n",
    "- `personal.denison.edu` (and an implied port 80), that specifies the location\n",
    "- `/` that specifies the identifier for the resource, in this case the `html` at the root of the location."
   ]
  },
  {
   "cell_type": "markdown",
   "metadata": {},
   "source": [
    "## Making an HTTP request from a Web Browser\n",
    "\n",
    "We make one or even many HTTP requests each time we enter a URL in a web browser's address area or click on a link on a web page.  To see the details of the request and its response, you should do the following:\n",
    "1. Enter the URL above\n",
    "2. Select View->Developer->Developer Tools\n",
    "   - This will give you a split window, with the current redered page on one side, and a plethora of tools on the other\n",
    "3. On the Developer Tools side of the window, find the tab that shows **Network** and click on it\n",
    "4. Reload the page and use the tools to find and explore the associated request and response\n",
    "\n",
    "In Safari, first go to Preferences->Advanced and check the `Show Develop Menu`\n",
    "1. Enter the URL above\n",
    "2. Select Develop->Show Web Inspector\n",
    "   - This will give you a split window, with the current rendered page on the top half, and a plethora of tools on the other half\n",
    "3. On the Web Inspector side of the window, find the tab that shows **Network** and click on it\n",
    "4. Reload the page and use the tools to find and explore the associated request and response\n"
   ]
  },
  {
   "cell_type": "code",
   "execution_count": 5,
   "metadata": {},
   "outputs": [
    {
     "name": "stdout",
     "output_type": "stream",
     "text": [
      "HTTP/1.1 200 OK\n"
     ]
    }
   ],
   "source": [
    "import mysocket as sock\n",
    "\n",
    "server = sock.makeConnection(\"httpbin.org\", 80)\n",
    "\n",
    "request_line = 'GET / HTTP/1.1\\r\\n'\n",
    "host_line = 'Host: httpbin.org\\r\\n'\n",
    "one_and_done = 'Connection: close\\r\\n'\n",
    "empty_line = '\\r\\n'\n",
    "\n",
    "request_message = request_line + host_line + one_and_done + empty_line\n",
    "\n",
    "sock.sendString(server, request_message)\n",
    "reply = sock.receiveTillClose(server)\n",
    "server.close()\n",
    "\n",
    "status_line = reply[:reply.index('\\r')]\n",
    "print(status_line)"
   ]
  },
  {
   "cell_type": "code",
   "execution_count": null,
   "metadata": {},
   "outputs": [],
   "source": []
  }
 ],
 "metadata": {
  "kernelspec": {
   "display_name": "Python 3",
   "language": "python",
   "name": "python3"
  },
  "language_info": {
   "codemirror_mode": {
    "name": "ipython",
    "version": 3
   },
   "file_extension": ".py",
   "mimetype": "text/x-python",
   "name": "python",
   "nbconvert_exporter": "python",
   "pygments_lexer": "ipython3",
   "version": "3.7.6"
  }
 },
 "nbformat": 4,
 "nbformat_minor": 4
}
