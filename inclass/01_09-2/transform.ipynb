{
 "cells": [
  {
   "cell_type": "markdown",
   "metadata": {},
   "source": [
    "Before you turn this problem in, make sure everything runs as expected. First, **restart the kernel** (in the menubar, select Kernel$\\rightarrow$Restart) and then **run all cells** (in the menubar, select Cell$\\rightarrow$Run All).\n",
    "\n",
    "Make sure you fill in any place that says `YOUR CODE HERE` or \"YOUR ANSWER HERE\", as well as your name and collaborators below:"
   ]
  },
  {
   "cell_type": "code",
   "execution_count": null,
   "metadata": {},
   "outputs": [],
   "source": [
    "NAME = \"\"\n",
    "COLLABORATORS = \"\""
   ]
  },
  {
   "cell_type": "markdown",
   "metadata": {},
   "source": [
    "---"
   ]
  },
  {
   "cell_type": "code",
   "execution_count": null,
   "metadata": {},
   "outputs": [],
   "source": [
    "import pandas as pd\n",
    "import os\n",
    "import os.path\n",
    "from IPython.display import Image\n",
    "datadir = \"publicdata\"\n",
    "figdir = \"figures\""
   ]
  },
  {
   "cell_type": "code",
   "execution_count": null,
   "metadata": {},
   "outputs": [],
   "source": [
    "## Data sets used in the inclass activity\n",
    "\n",
    "column_labels = ['I', 'J', '1', '2', '3']\n",
    "row_labels = ['A', 'B', 'C']\n",
    "dataset = [[ 'A.I', 'A.J', 'A.1', 'A.2', 'A.3' ],\n",
    "           [ 'B.I', 'B.J', 'B.1', 'B.2', 'B.3' ],\n",
    "           [ 'C.I', 'C.J', 'C.1', 'C.2', 'C.3' ]]\n",
    "example2 = pd.DataFrame(dataset, columns=column_labels, index=row_labels)\n",
    "example1 = example2.drop('J', axis=1)\n",
    "\n",
    "row_labels = ['A1', 'A2', 'B1', 'B2', 'C1', 'C2']\n",
    "column_labels = ['I', 'J', 'K', 'V']\n",
    "dataset = [[ 'A.I', 'A.J', 'K.1', 'A1.V'],\n",
    "           [ 'A.I', 'A.J', 'K.2', 'A2.V'],\n",
    "           [ 'B.I', 'B.J', 'K.1', 'B1.V'],\n",
    "           [ 'B.I', 'B.J', 'K.2', 'B2.V'],\n",
    "           [ 'C.I', 'C.J', 'K.1', 'C1.V'],\n",
    "           [ 'C.I', 'C.J', 'K.2', 'C2.V'],\n",
    "]\n",
    "pivot_ex2 = pd.DataFrame(dataset, columns=column_labels, index=row_labels)\n",
    "pivot_ex1 = pivot_ex2.drop('J', axis=1)\n",
    "\n",
    "row_labels = ['A1', 'A2', 'B1', 'B2', 'C1', 'C2']\n",
    "column_labels = ['I', 'K', 'V1', 'V2']\n",
    "dataset = [[ 'A.I', 'K.1', 'A1.V1', 'A1.V2'],\n",
    "           [ 'A.I', 'K.2', 'A2.V1', 'A2.V2'],\n",
    "           [ 'B.I', 'K.1', 'B1.V1', 'B1.V2'],\n",
    "           [ 'B.I', 'K.2', 'B2.V1', 'B2.V2'],\n",
    "           [ 'C.I', 'K.1', 'C1.V1', 'C1.V2'],\n",
    "           [ 'C.I', 'K.2', 'C2.V1', 'C2.V2']\n",
    "]\n",
    "pivot_ex2 = pd.DataFrame(dataset, columns=column_labels, index=row_labels)\n",
    "\n",
    "p = os.path.join(datadir, \"babybyyear.csv\")\n",
    "babynames = pd.read_csv(p)\n",
    "\n",
    "p = os.path.join(datadir, \"indicators_ex.csv\")\n",
    "indicators = pd.read_csv(p)\n",
    "\n",
    "datarows = [\n",
    "['CHN',  2010,  1337.70,   6087.16],\n",
    "['CHN',  2015,  1371.22,  11015.54],\n",
    "['CHN',  2018,  1392.73,  13608.15],\n",
    "['GBR',  2010,    62.77,   2452.90],\n",
    "['GBR',  2015,    65.13,   2896.42],\n",
    "['IND',  2010,  1234.28,   1675.62],\n",
    "['IND',  2015,  1310.15,   2103.59]]\n",
    "indicators2 = pd.DataFrame(datarows, columns=['code','year','pop','gdp'])\n",
    "\n",
    "column_labels = ['I', 'P', 'V1', 'V2']\n",
    "dataset = [['A', 'w', 15, 23.5],\n",
    "           ['A', 'x', 10, 42.5],\n",
    "           ['A', 'x', 5, 18.0],\n",
    "           ['B', 'w', 8, 10.2],\n",
    "           ['B', 'w', 4, 14.3],\n",
    "           ['B', 'x', 6, 12.5]]\n",
    "table = pd.DataFrame(dataset, columns=column_labels)\n",
    "\n",
    "p=os.path.join(datadir, \"ind2.csv\")\n",
    "ind2 = pd.read_csv(p)"
   ]
  },
  {
   "cell_type": "code",
   "execution_count": null,
   "metadata": {},
   "outputs": [],
   "source": [
    "example1"
   ]
  },
  {
   "cell_type": "markdown",
   "metadata": {},
   "source": [
    "**Q** Create the transpose of `example1` and assign to `result1`"
   ]
  },
  {
   "cell_type": "code",
   "execution_count": null,
   "metadata": {
    "deletable": false,
    "nbgrader": {
     "cell_type": "code",
     "checksum": "50f10905d9d107b626081e0221f5fb9d",
     "grade": true,
     "grade_id": "cell-891d548469fe1db4",
     "locked": false,
     "points": 0,
     "schema_version": 3,
     "solution": true,
     "task": false
    }
   },
   "outputs": [],
   "source": [
    "# YOUR CODE HERE\n",
    "raise NotImplementedError()"
   ]
  },
  {
   "cell_type": "code",
   "execution_count": null,
   "metadata": {},
   "outputs": [],
   "source": [
    "# Note the new method of incorporating a jpg into a notebook.  You will use this for Project 1\n",
    "#\n",
    "Image(filename=os.path.join(figdir, \"melt.jpg\"),\n",
    "     width=350)"
   ]
  },
  {
   "cell_type": "markdown",
   "metadata": {},
   "source": [
    "**Q** Melt `example1` with melt columns of 1,2, and 3, giving name of new variable column as `K` and name of the new value column as `V`.  Assign to `meltresult1`"
   ]
  },
  {
   "cell_type": "code",
   "execution_count": null,
   "metadata": {
    "deletable": false,
    "nbgrader": {
     "cell_type": "code",
     "checksum": "19c13fd15e15594111b184ac46f966c4",
     "grade": true,
     "grade_id": "cell-70f1f2e671e288f1",
     "locked": false,
     "points": 0,
     "schema_version": 3,
     "solution": true,
     "task": false
    }
   },
   "outputs": [],
   "source": [
    "# YOUR CODE HERE\n",
    "raise NotImplementedError()\n",
    "meltresult1"
   ]
  },
  {
   "cell_type": "markdown",
   "metadata": {},
   "source": [
    "**Q** Modify `meltresult1` in place so that the row index is made up of `I` and `K`"
   ]
  },
  {
   "cell_type": "code",
   "execution_count": null,
   "metadata": {
    "deletable": false,
    "nbgrader": {
     "cell_type": "code",
     "checksum": "622f279488364ec403d72f34e0eea2f9",
     "grade": true,
     "grade_id": "cell-f2bb9cfbc9513b2d",
     "locked": false,
     "points": 0,
     "schema_version": 3,
     "solution": true,
     "task": false
    }
   },
   "outputs": [],
   "source": [
    "# YOUR CODE HERE\n",
    "raise NotImplementedError()\n",
    "meltresult1"
   ]
  },
  {
   "cell_type": "code",
   "execution_count": null,
   "metadata": {},
   "outputs": [],
   "source": [
    "babynames"
   ]
  },
  {
   "cell_type": "markdown",
   "metadata": {},
   "source": [
    "**Q** Melt the `babynames` frame so that `sex` is not melted and the new variable and new value are named appropriately."
   ]
  },
  {
   "cell_type": "code",
   "execution_count": null,
   "metadata": {
    "deletable": false,
    "nbgrader": {
     "cell_type": "code",
     "checksum": "58a1a0e20acf1dfcd81b66f8b284885a",
     "grade": true,
     "grade_id": "cell-fd403ef1095eecb5",
     "locked": false,
     "points": 0,
     "schema_version": 3,
     "solution": true,
     "task": false
    }
   },
   "outputs": [],
   "source": [
    "# YOUR CODE HERE\n",
    "raise NotImplementedError()\n",
    "meltresult2"
   ]
  },
  {
   "cell_type": "code",
   "execution_count": null,
   "metadata": {},
   "outputs": [],
   "source": [
    "example2"
   ]
  },
  {
   "cell_type": "markdown",
   "metadata": {},
   "source": [
    "**Q** Melt `example2` so that neither `I` nor `J` are melted, and name the new variable and new value columns appropriately.  Assign to `meltresult3`."
   ]
  },
  {
   "cell_type": "code",
   "execution_count": null,
   "metadata": {
    "deletable": false,
    "nbgrader": {
     "cell_type": "code",
     "checksum": "f448b61e939e14d3d099e9a178032fb0",
     "grade": true,
     "grade_id": "cell-ec47e6361386aed3",
     "locked": false,
     "points": 0,
     "schema_version": 3,
     "solution": true,
     "task": false
    }
   },
   "outputs": [],
   "source": [
    "# YOUR CODE HERE\n",
    "raise NotImplementedError()\n",
    "meltresult3"
   ]
  },
  {
   "cell_type": "code",
   "execution_count": null,
   "metadata": {},
   "outputs": [],
   "source": [
    "example1"
   ]
  },
  {
   "cell_type": "markdown",
   "metadata": {},
   "source": [
    "**Q** Optional Setup: To use `stack`, we need a version of `example1` where the row index is `I` and the column index not only has the remaining columns, but the Index has a `name` of `K`.  Assign this new version as `example1_i` "
   ]
  },
  {
   "cell_type": "code",
   "execution_count": null,
   "metadata": {
    "deletable": false,
    "nbgrader": {
     "cell_type": "code",
     "checksum": "6bd2a60f0e1217a33de42238f9b3d294",
     "grade": true,
     "grade_id": "cell-ec21d68a033376bb",
     "locked": false,
     "points": 0,
     "schema_version": 3,
     "solution": true,
     "task": false
    }
   },
   "outputs": [],
   "source": [
    "# YOUR CODE HERE\n",
    "raise NotImplementedError()\n",
    "example1_i"
   ]
  },
  {
   "cell_type": "markdown",
   "metadata": {},
   "source": [
    "**Q** Optional: Now perform a stack operation on `example1_i`, assigning to `stack1`.  What is the type of the returned value?"
   ]
  },
  {
   "cell_type": "code",
   "execution_count": null,
   "metadata": {
    "deletable": false,
    "nbgrader": {
     "cell_type": "code",
     "checksum": "b7056e54dac0434927b83a52f0e837db",
     "grade": true,
     "grade_id": "cell-fd820cded8edc740",
     "locked": false,
     "points": 0,
     "schema_version": 3,
     "solution": true,
     "task": false
    }
   },
   "outputs": [],
   "source": [
    "# YOUR CODE HERE\n",
    "raise NotImplementedError()\n",
    "stack1"
   ]
  },
  {
   "cell_type": "markdown",
   "metadata": {},
   "source": [
    "**Q** Optional: Construct a DataFrame from the result, and make sure to name the column(s) appropriately.  Assign to `stack1_df`."
   ]
  },
  {
   "cell_type": "code",
   "execution_count": null,
   "metadata": {
    "deletable": false,
    "nbgrader": {
     "cell_type": "code",
     "checksum": "f93cae797151c835ca039a81e97efc10",
     "grade": true,
     "grade_id": "cell-2380188f2e6f9a31",
     "locked": false,
     "points": 0,
     "schema_version": 3,
     "solution": true,
     "task": false
    }
   },
   "outputs": [],
   "source": [
    "# YOUR CODE HERE\n",
    "raise NotImplementedError()\n",
    "stack1_df"
   ]
  },
  {
   "cell_type": "code",
   "execution_count": null,
   "metadata": {},
   "outputs": [],
   "source": [
    "babynames"
   ]
  },
  {
   "cell_type": "markdown",
   "metadata": {},
   "source": [
    "**Q** Optional: Set up the indices on `babynames` (call it `babynames2`) such that a stack yields the intended result. Is the year inner index named `'year'`?"
   ]
  },
  {
   "cell_type": "code",
   "execution_count": null,
   "metadata": {
    "deletable": false,
    "nbgrader": {
     "cell_type": "code",
     "checksum": "62fce63cc9b3777e40586594d6f19b35",
     "grade": true,
     "grade_id": "cell-cbc6d186f7e4cb4a",
     "locked": false,
     "points": 0,
     "schema_version": 3,
     "solution": true,
     "task": false
    }
   },
   "outputs": [],
   "source": [
    "# YOUR CODE HERE\n",
    "raise NotImplementedError()\n",
    "baby2_stack"
   ]
  },
  {
   "cell_type": "code",
   "execution_count": null,
   "metadata": {},
   "outputs": [],
   "source": [
    "Image(filename=os.path.join(figdir, \"pivot.jpg\"),\n",
    "     width=400)"
   ]
  },
  {
   "cell_type": "code",
   "execution_count": null,
   "metadata": {},
   "outputs": [],
   "source": [
    "pivot_ex1"
   ]
  },
  {
   "cell_type": "markdown",
   "metadata": {},
   "source": [
    "**Q** With \"Index\" of `I` and \"Pivot\" of `K`, transform pivot_ex1, assigning to pivot_result1"
   ]
  },
  {
   "cell_type": "code",
   "execution_count": null,
   "metadata": {
    "deletable": false,
    "nbgrader": {
     "cell_type": "code",
     "checksum": "197d2b404345a8b56c03ff0d160d2bcd",
     "grade": true,
     "grade_id": "cell-b549379eeb3d1f32",
     "locked": false,
     "points": 0,
     "schema_version": 3,
     "solution": true,
     "task": false
    }
   },
   "outputs": [],
   "source": [
    "# YOUR CODE HERE\n",
    "raise NotImplementedError()\n",
    "pivot_result1"
   ]
  },
  {
   "cell_type": "code",
   "execution_count": null,
   "metadata": {},
   "outputs": [],
   "source": [
    "pivot_ex2"
   ]
  },
  {
   "cell_type": "markdown",
   "metadata": {},
   "source": [
    "**Q** Invoke the `pivot()` method on `pivot_ex2` such that we still have \"Index\" of `I`, a \"Pivot\" of `K`, but now specify the `values=` named parameter as the list of columns `V1` and `V2`. Assign to `pivot_result2`."
   ]
  },
  {
   "cell_type": "code",
   "execution_count": null,
   "metadata": {
    "deletable": false,
    "nbgrader": {
     "cell_type": "code",
     "checksum": "d5f7f76ecb5007ac3faad2d436f12b9e",
     "grade": true,
     "grade_id": "cell-6e4a18316ecadf5e",
     "locked": false,
     "points": 0,
     "schema_version": 3,
     "solution": true,
     "task": false
    }
   },
   "outputs": [],
   "source": [
    "# YOUR CODE HERE\n",
    "raise NotImplementedError()\n",
    "pivot_result2"
   ]
  },
  {
   "cell_type": "code",
   "execution_count": null,
   "metadata": {},
   "outputs": [],
   "source": [
    "meltresult2"
   ]
  },
  {
   "cell_type": "markdown",
   "metadata": {},
   "source": [
    "**Q** Consider the babynames result we got from an earlier exercise, and named `meltresult2`.  Pivot, using an \"Index\" of `year`, and \"Pivot\" as `sex` and \"Value\" of `name."
   ]
  },
  {
   "cell_type": "code",
   "execution_count": null,
   "metadata": {
    "deletable": false,
    "nbgrader": {
     "cell_type": "code",
     "checksum": "9827cde567b590e954b7efa7fdcbc45f",
     "grade": true,
     "grade_id": "cell-3d7a85210251ed5c",
     "locked": false,
     "points": 0,
     "schema_version": 3,
     "solution": true,
     "task": false
    }
   },
   "outputs": [],
   "source": [
    "# YOUR CODE HERE\n",
    "raise NotImplementedError()"
   ]
  },
  {
   "cell_type": "markdown",
   "metadata": {},
   "source": [
    "**Q** Repeat the pivot, now using an \"Index\" of `sex`, and \"Pivot\" as `year` and \"Value\" of `name."
   ]
  },
  {
   "cell_type": "code",
   "execution_count": null,
   "metadata": {
    "deletable": false,
    "nbgrader": {
     "cell_type": "code",
     "checksum": "2de8bfb61fc8ece7bda1cbe97b20cf12",
     "grade": true,
     "grade_id": "cell-a72300775389163d",
     "locked": false,
     "points": 0,
     "schema_version": 3,
     "solution": true,
     "task": false
    }
   },
   "outputs": [],
   "source": [
    "# YOUR CODE HERE\n",
    "raise NotImplementedError()"
   ]
  },
  {
   "cell_type": "code",
   "execution_count": null,
   "metadata": {},
   "outputs": [],
   "source": [
    "indicators"
   ]
  },
  {
   "cell_type": "markdown",
   "metadata": {},
   "source": [
    "**Q** Pivot the `indicators` data frame using an \"Index\" of `code` and a \"Pivot\" of `year`. "
   ]
  },
  {
   "cell_type": "code",
   "execution_count": null,
   "metadata": {
    "deletable": false,
    "nbgrader": {
     "cell_type": "code",
     "checksum": "aacb064862d47fe34cbaf7135eca0453",
     "grade": true,
     "grade_id": "cell-d51da2caa9d3bde4",
     "locked": false,
     "points": 0,
     "schema_version": 3,
     "solution": true,
     "task": false
    }
   },
   "outputs": [],
   "source": [
    "# YOUR CODE HERE\n",
    "raise NotImplementedError()"
   ]
  },
  {
   "cell_type": "markdown",
   "metadata": {},
   "source": [
    "**Q** Pivot the `indicators` data frame using an \"Index\" of `year` and a \"Pivot\" of `code`. "
   ]
  },
  {
   "cell_type": "code",
   "execution_count": null,
   "metadata": {
    "deletable": false,
    "nbgrader": {
     "cell_type": "code",
     "checksum": "c1332d99661874e2d4e6998a55fa5dc9",
     "grade": true,
     "grade_id": "cell-83104e3552fabad4",
     "locked": false,
     "points": 0,
     "schema_version": 3,
     "solution": true,
     "task": false
    }
   },
   "outputs": [],
   "source": [
    "# YOUR CODE HERE\n",
    "raise NotImplementedError()"
   ]
  },
  {
   "cell_type": "code",
   "execution_count": null,
   "metadata": {},
   "outputs": [],
   "source": [
    "indicators2"
   ]
  },
  {
   "cell_type": "markdown",
   "metadata": {},
   "source": [
    "**Q** Consider what is different about the `indicators2` data frame from the original `indicators` data frame.  If we pivot using an \"Index\" of `code` and a \"Pivot\" of `year`, how many rows should we get in the result?  What are the columns?  What happens for a resultant row when we have a row/column combination that was not present in the original?  Try it now and resolve the reality with your expectation. "
   ]
  },
  {
   "cell_type": "code",
   "execution_count": null,
   "metadata": {
    "deletable": false,
    "nbgrader": {
     "cell_type": "code",
     "checksum": "7d4de79bc3f930d2555f7742a07576b4",
     "grade": true,
     "grade_id": "cell-586dd06cb4a5e7f6",
     "locked": false,
     "points": 0,
     "schema_version": 3,
     "solution": true,
     "task": false
    }
   },
   "outputs": [],
   "source": [
    "# YOUR CODE HERE\n",
    "raise NotImplementedError()"
   ]
  },
  {
   "cell_type": "code",
   "execution_count": null,
   "metadata": {},
   "outputs": [],
   "source": [
    "table"
   ]
  },
  {
   "cell_type": "markdown",
   "metadata": {},
   "source": [
    "**Q** The `pivot_table()` operation is more general than `pivot()` and is used in two instances where `pivot()` is not sufficient.  The first of these uses occurs when an \"Index\"/\"Pivot\" combination occurs more than once in a table, so there are *multiple* values that must be combined into a single row of the result.  Examine `table` above and see where this occurs.  Then invoke `pivot_table` with an \"Index\" of `I` and a \"Pivot\" of `P`.  Assign to `pivoted`.  ... understand the result. "
   ]
  },
  {
   "cell_type": "code",
   "execution_count": null,
   "metadata": {
    "deletable": false,
    "nbgrader": {
     "cell_type": "code",
     "checksum": "30d1ff841c23da7b1179d304e22b2870",
     "grade": true,
     "grade_id": "cell-4497cdf582a735c7",
     "locked": false,
     "points": 0,
     "schema_version": 3,
     "solution": true,
     "task": false
    }
   },
   "outputs": [],
   "source": [
    "# YOUR CODE HERE\n",
    "raise NotImplementedError()"
   ]
  },
  {
   "cell_type": "markdown",
   "metadata": {},
   "source": [
    "**Q** Specify, in an invocation of `pivot_table`, the `aggfunc=` named parameter as a dictionary mapping `'V1'` to the mean aggregation function and `'V2'` to the sum aggregation function.  Again assign the result to `pivoted` "
   ]
  },
  {
   "cell_type": "code",
   "execution_count": null,
   "metadata": {
    "deletable": false,
    "nbgrader": {
     "cell_type": "code",
     "checksum": "b02de6de1db70a5e5b9f3b31b795c0d3",
     "grade": true,
     "grade_id": "cell-57a1b718f6915312",
     "locked": false,
     "points": 0,
     "schema_version": 3,
     "solution": true,
     "task": false
    }
   },
   "outputs": [],
   "source": [
    "# YOUR CODE HERE\n",
    "raise NotImplementedError()"
   ]
  },
  {
   "cell_type": "code",
   "execution_count": null,
   "metadata": {},
   "outputs": [],
   "source": [
    "ind2"
   ]
  },
  {
   "cell_type": "markdown",
   "metadata": {},
   "source": [
    "**Q** The other time we need `pivot_table` over `pivot` is when the \"Index\" is comprised of **multiple** columns.  In this case, the \"Index\" is specified as a list of column names.  Invoke `pivot_table` with an \"Index\" of both `code` and `year` and with \"Pivot\" as `indicator`.  Note the row index (single versus two-level) and the column index (single versus tow-level).  Does the result make sense?"
   ]
  },
  {
   "cell_type": "code",
   "execution_count": null,
   "metadata": {
    "deletable": false,
    "nbgrader": {
     "cell_type": "code",
     "checksum": "dffff4624f88a42507f137f4f3607936",
     "grade": true,
     "grade_id": "cell-504bcab673dde0e4",
     "locked": false,
     "points": 0,
     "schema_version": 3,
     "solution": true,
     "task": false
    }
   },
   "outputs": [],
   "source": [
    "# YOUR CODE HERE\n",
    "raise NotImplementedError()"
   ]
  }
 ],
 "metadata": {
  "kernelspec": {
   "display_name": "Python 3",
   "language": "python",
   "name": "python3"
  },
  "language_info": {
   "codemirror_mode": {
    "name": "ipython",
    "version": 3
   },
   "file_extension": ".py",
   "mimetype": "text/x-python",
   "name": "python",
   "nbconvert_exporter": "python",
   "pygments_lexer": "ipython3",
   "version": "3.7.6"
  }
 },
 "nbformat": 4,
 "nbformat_minor": 4
}
