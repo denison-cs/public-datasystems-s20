{
 "cells": [
  {
   "cell_type": "markdown",
   "metadata": {},
   "source": [
    "Before you turn this problem in, make sure everything runs as expected. First, **restart the kernel** (in the menubar, select Kernel$\\rightarrow$Restart) and then **run all cells** (in the menubar, select Cell$\\rightarrow$Run All).\n",
    "\n",
    "Make sure you fill in any place that says `YOUR CODE HERE` or \"YOUR ANSWER HERE\", as well as your name and collaborators below:"
   ]
  },
  {
   "cell_type": "code",
   "execution_count": null,
   "metadata": {},
   "outputs": [],
   "source": [
    "NAME = \"\"\n",
    "COLLABORATORS = \"\""
   ]
  },
  {
   "cell_type": "markdown",
   "metadata": {},
   "source": [
    "---"
   ]
  },
  {
   "cell_type": "code",
   "execution_count": null,
   "metadata": {},
   "outputs": [],
   "source": [
    "import pandas as pd\n",
    "import os\n",
    "import os.path\n",
    "\n",
    "datadir = 'publicdata'"
   ]
  },
  {
   "cell_type": "code",
   "execution_count": null,
   "metadata": {},
   "outputs": [],
   "source": [
    "tbcolumns = [\"country\",\"year\",\"cases\",\"population\"]\n",
    "tbdata = [ [\"Afghanistan\",  1999,    745,   19987071],\n",
    "           [\"Afghanistan\",  2000,   2666,   20595360],\n",
    "           [     \"Brazil\",  1999,  37737,  172006362],\n",
    "           [     \"Brazil\",  2000,  80488,  174504898],\n",
    "           [      \"China\",  1999, 212258, 1272915272],\n",
    "           [      \"China\",  2000, 213766, 1280428583] ]\n",
    "\n",
    "tbcases = {'country': [\"Afghanistan\", \"Afghanistan\", \"Brazil\", \"Brazil\", \"China\", \"China\"],\n",
    "           'year': [1999, 2000, 1999, 2000, 1999, 2000],\n",
    "           'cases': [745, 2666, 37737, 80488, 212258, 213766],\n",
    "           'population': [ 19987071, 20595360, 172006362, 174504898, 1272915272, 1280428583 ]\n",
    "          }"
   ]
  },
  {
   "cell_type": "code",
   "execution_count": null,
   "metadata": {},
   "outputs": [],
   "source": [
    "def readSimpleCSV_LoL(path):\n",
    "    \"\"\"\n",
    "    create list of row lists representation of the data in a csv referred to by path.\n",
    "    return both the list of column names and the list of lists.\n",
    "    \n",
    "    note that this function does **no** conversion of data types for string\n",
    "    versions of numbers\n",
    "    \n",
    "    path: string containing path to valid indicators data\n",
    "    \"\"\"\n",
    "    if not os.path.isfile(path):\n",
    "        return None\n",
    "    \n",
    "    LoL = []\n",
    "    f = open(path, 'rt')\n",
    "    \n",
    "    colnames = f.readline().strip().split(',')\n",
    "    \n",
    "    for line in f:\n",
    "        colvals = line.strip().split(',')\n",
    "        LoL.append(colvals)\n",
    "    \n",
    "    f.close()\n",
    "    return colnames, LoL"
   ]
  },
  {
   "cell_type": "markdown",
   "metadata": {},
   "source": [
    "**Q** Call the `readSimpleCSV_LoL()` with `\"indicators2016.csv\"` and assign to variables `colnames` and `LoL` the returned values.  Finish with the expression for LoL"
   ]
  },
  {
   "cell_type": "code",
   "execution_count": null,
   "metadata": {
    "deletable": false,
    "nbgrader": {
     "cell_type": "code",
     "checksum": "7142c2158cc68bba6d6e4f5cc7d3e2f5",
     "grade": true,
     "grade_id": "cell-68dda91be51f4f75",
     "locked": false,
     "points": 0,
     "schema_version": 3,
     "solution": true,
     "task": false
    }
   },
   "outputs": [],
   "source": [
    "# YOUR CODE HERE\n",
    "raise NotImplementedError()"
   ]
  },
  {
   "cell_type": "markdown",
   "metadata": {},
   "source": [
    "**Q** Create a `pandas` dataframe called `ind_df` with the DataFrame constructor and finish with `ind_df`.  Start by **just** passing LoL as the dataset, then change and correct so that columns are named properly."
   ]
  },
  {
   "cell_type": "code",
   "execution_count": null,
   "metadata": {
    "deletable": false,
    "nbgrader": {
     "cell_type": "code",
     "checksum": "911d9a316c6aa17ad8bb1e7db2adc2ca",
     "grade": true,
     "grade_id": "cell-deaf6629f19c7e1b",
     "locked": false,
     "points": 0,
     "schema_version": 3,
     "solution": true,
     "task": false
    }
   },
   "outputs": [],
   "source": [
    "# YOUR CODE HERE\n",
    "raise NotImplementedError()"
   ]
  },
  {
   "cell_type": "markdown",
   "metadata": {},
   "source": [
    "**Q** Call the `info()` method (no arguments) on the dataframe as an expression."
   ]
  },
  {
   "cell_type": "code",
   "execution_count": null,
   "metadata": {
    "deletable": false,
    "nbgrader": {
     "cell_type": "code",
     "checksum": "082677496e7ea6c2b6785e2283b353cb",
     "grade": true,
     "grade_id": "cell-cbf81c7dfa132083",
     "locked": false,
     "points": 0,
     "schema_version": 3,
     "solution": true,
     "task": false
    }
   },
   "outputs": [],
   "source": [
    "# YOUR CODE HERE\n",
    "raise NotImplementedError()"
   ]
  },
  {
   "cell_type": "markdown",
   "metadata": {},
   "source": [
    "**Q** Assign to `ind_df2` the result of invoking the `set_index` method, passing the independent variable.  Finish with `ind_df2` as an expression."
   ]
  },
  {
   "cell_type": "code",
   "execution_count": null,
   "metadata": {
    "deletable": false,
    "nbgrader": {
     "cell_type": "code",
     "checksum": "bb710359c3ca3d54fca441c16a8758f6",
     "grade": true,
     "grade_id": "cell-59fa4c7db440109b",
     "locked": false,
     "points": 0,
     "schema_version": 3,
     "solution": true,
     "task": false
    }
   },
   "outputs": [],
   "source": [
    "# YOUR CODE HERE\n",
    "raise NotImplementedError()"
   ]
  },
  {
   "cell_type": "markdown",
   "metadata": {},
   "source": [
    "**Q** Use the `type_conversion` below to change the data types for the `pop`, `gdp`, `life`, and `cell` columns to floats, and assign to ind_df3.  Call the `info()` method (no arguments) on the dataframe as an expression.  Understand the difference between the two `info()` results."
   ]
  },
  {
   "cell_type": "code",
   "execution_count": null,
   "metadata": {
    "deletable": false,
    "nbgrader": {
     "cell_type": "code",
     "checksum": "d4ff85396e5dc139bde02c29b7016fdf",
     "grade": true,
     "grade_id": "cell-802dbf635a762773",
     "locked": false,
     "points": 0,
     "schema_version": 3,
     "solution": true,
     "task": false
    }
   },
   "outputs": [],
   "source": [
    "type_conversion = {'pop': float, 'gdp': float, 'life': float, 'cell': float}\n",
    "# YOUR CODE HERE\n",
    "raise NotImplementedError()"
   ]
  },
  {
   "cell_type": "markdown",
   "metadata": {},
   "source": [
    "**Q** Create a dataframe, `tb_df` using the dictionary constant defined above.  Set the index as the combination of independent variables `country` and `year`, using `set_index`, and doing the operation `inplace`. Finish with the `tb_df` expression."
   ]
  },
  {
   "cell_type": "code",
   "execution_count": null,
   "metadata": {
    "deletable": false,
    "nbgrader": {
     "cell_type": "code",
     "checksum": "bd924da27f4c2009efdc06aee71bb720",
     "grade": true,
     "grade_id": "cell-37e0534d4035cfef",
     "locked": false,
     "points": 0,
     "schema_version": 3,
     "solution": true,
     "task": false
    }
   },
   "outputs": [],
   "source": [
    "# YOUR CODE HERE\n",
    "raise NotImplementedError()"
   ]
  },
  {
   "cell_type": "markdown",
   "metadata": {},
   "source": [
    "**Q** Call the `info()` method (no arguments) on the dataframe as an expression.  "
   ]
  },
  {
   "cell_type": "code",
   "execution_count": null,
   "metadata": {
    "deletable": false,
    "nbgrader": {
     "cell_type": "code",
     "checksum": "9a43de26eb66bc7ddaccfe5960a5f3d6",
     "grade": true,
     "grade_id": "cell-0ec6cda3d7e7722b",
     "locked": false,
     "points": 0,
     "schema_version": 3,
     "solution": true,
     "task": false
    }
   },
   "outputs": [],
   "source": [
    "# YOUR CODE HERE\n",
    "raise NotImplementedError()"
   ]
  },
  {
   "cell_type": "markdown",
   "metadata": {},
   "source": [
    "**Q** In the `ind_df3` dataframe, project the life expectancy column, first by access operator `[]`, then by attribute.  Just use expressions, do not assign.  What is the **data type** of what is returned.  If you are not sure, put the expression as an argument to the `type()` function call."
   ]
  },
  {
   "cell_type": "code",
   "execution_count": null,
   "metadata": {
    "deletable": false,
    "nbgrader": {
     "cell_type": "code",
     "checksum": "b9059bdfc1bf8a8650b5a1f43358795a",
     "grade": true,
     "grade_id": "cell-2c45048e3a10a71a",
     "locked": false,
     "points": 0,
     "schema_version": 3,
     "solution": true,
     "task": false
    }
   },
   "outputs": [],
   "source": [
    "# YOUR CODE HERE\n",
    "raise NotImplementedError()"
   ]
  },
  {
   "cell_type": "markdown",
   "metadata": {},
   "source": [
    "**Q** Attempt the two ways of getting the `pop` single column projection.  Why did you see what you did?"
   ]
  },
  {
   "cell_type": "code",
   "execution_count": null,
   "metadata": {
    "deletable": false,
    "nbgrader": {
     "cell_type": "code",
     "checksum": "ddf52e6929b388ee1909529ba3ee1a2a",
     "grade": true,
     "grade_id": "cell-6e97dc7457187bf7",
     "locked": false,
     "points": 0,
     "schema_version": 3,
     "solution": true,
     "task": false
    }
   },
   "outputs": [],
   "source": [
    "# YOUR CODE HERE\n",
    "raise NotImplementedError()"
   ]
  },
  {
   "cell_type": "markdown",
   "metadata": {},
   "source": [
    "**Q** Convert the `pop` column to a list.  Leave as an expression."
   ]
  },
  {
   "cell_type": "code",
   "execution_count": null,
   "metadata": {
    "deletable": false,
    "nbgrader": {
     "cell_type": "code",
     "checksum": "7cdab01cbfa0c71c8e2ab005228260e8",
     "grade": true,
     "grade_id": "cell-0b1c3dc95754a925",
     "locked": false,
     "points": 0,
     "schema_version": 3,
     "solution": true,
     "task": false
    }
   },
   "outputs": [],
   "source": [
    "# YOUR CODE HERE\n",
    "raise NotImplementedError()"
   ]
  },
  {
   "cell_type": "markdown",
   "metadata": {},
   "source": [
    "**Q** Project the `cell` column followed by using the access operator with an integer position of 3 for Russia. Does this work with either way of projecting a single column?  What is the data type of the result?"
   ]
  },
  {
   "cell_type": "code",
   "execution_count": null,
   "metadata": {
    "deletable": false,
    "nbgrader": {
     "cell_type": "code",
     "checksum": "378aaf8ddece490fd236546389f4d257",
     "grade": true,
     "grade_id": "cell-7fbbcda7ad4712ff",
     "locked": false,
     "points": 0,
     "schema_version": 3,
     "solution": true,
     "task": false
    }
   },
   "outputs": [],
   "source": [
    "# YOUR CODE HERE\n",
    "raise NotImplementedError()"
   ]
  },
  {
   "cell_type": "markdown",
   "metadata": {},
   "source": [
    "**Q** Project the two columns of `cell` and `life` (in that order) from `ind_df3` as an expression.  Put the expression in a `type()` function call and see if the result is what you expect.  Explain why the `code` column is part of the result."
   ]
  },
  {
   "cell_type": "code",
   "execution_count": null,
   "metadata": {
    "deletable": false,
    "nbgrader": {
     "cell_type": "code",
     "checksum": "12425091165a1bf5675c3a48f23f0be3",
     "grade": true,
     "grade_id": "cell-395e8df386f72a24",
     "locked": false,
     "points": 0,
     "schema_version": 3,
     "solution": true,
     "task": false
    }
   },
   "outputs": [],
   "source": [
    "# YOUR CODE HERE\n",
    "raise NotImplementedError()"
   ]
  },
  {
   "cell_type": "markdown",
   "metadata": {},
   "source": [
    "**Q** Select *just* the `CAN` row from `ind_df3` dataframe.  Use the `loc` attribute and an access operator with a single expression.  What is the data type of the result?  Use the `type()` function if you need to."
   ]
  },
  {
   "cell_type": "code",
   "execution_count": null,
   "metadata": {
    "deletable": false,
    "nbgrader": {
     "cell_type": "code",
     "checksum": "2a5aa033da756ef953ad167d13f87988",
     "grade": true,
     "grade_id": "cell-3fde0dfb0b14808d",
     "locked": false,
     "points": 0,
     "schema_version": 3,
     "solution": true,
     "task": false
    }
   },
   "outputs": [],
   "source": [
    "# YOUR CODE HERE\n",
    "raise NotImplementedError()"
   ]
  },
  {
   "cell_type": "markdown",
   "metadata": {},
   "source": [
    "**Q** Using *slice* notation, select the rows fron `IND` through `USA` inclusive.  What is the data type of the result?"
   ]
  },
  {
   "cell_type": "code",
   "execution_count": null,
   "metadata": {
    "deletable": false,
    "nbgrader": {
     "cell_type": "code",
     "checksum": "ea9a023c68a70aec7ade6aebf493612a",
     "grade": true,
     "grade_id": "cell-4ca268a09e7120c0",
     "locked": false,
     "points": 0,
     "schema_version": 3,
     "solution": true,
     "task": false
    }
   },
   "outputs": [],
   "source": [
    "# YOUR CODE HERE\n",
    "raise NotImplementedError()"
   ]
  },
  {
   "cell_type": "markdown",
   "metadata": {},
   "source": [
    "**Q** Same question as above, but select the rows in the opposite order."
   ]
  },
  {
   "cell_type": "code",
   "execution_count": null,
   "metadata": {
    "deletable": false,
    "nbgrader": {
     "cell_type": "code",
     "checksum": "af208709999b34fb3e58d862dfc70bf6",
     "grade": true,
     "grade_id": "cell-2db8460414de0009",
     "locked": false,
     "points": 0,
     "schema_version": 3,
     "solution": true,
     "task": false
    }
   },
   "outputs": [],
   "source": [
    "# YOUR CODE HERE\n",
    "raise NotImplementedError()"
   ]
  },
  {
   "cell_type": "markdown",
   "metadata": {},
   "source": [
    "**Q** Now use the `loc` attribute with two expressions, separated by a comma, to get rows from `IND` to `RUS` and columns from `country` to `pop`.  What is the data type of the result?"
   ]
  },
  {
   "cell_type": "code",
   "execution_count": null,
   "metadata": {
    "deletable": false,
    "nbgrader": {
     "cell_type": "code",
     "checksum": "6de19b2819af059d37e5fb9aa79f0ad9",
     "grade": true,
     "grade_id": "cell-2fef31106af12ec4",
     "locked": false,
     "points": 0,
     "schema_version": 3,
     "solution": true,
     "task": false
    }
   },
   "outputs": [],
   "source": [
    "# YOUR CODE HERE\n",
    "raise NotImplementedError()"
   ]
  },
  {
   "cell_type": "markdown",
   "metadata": {},
   "source": [
    "**Q** Same rows, but now we want to just project columns `country`, `gdp`, and `life`"
   ]
  },
  {
   "cell_type": "code",
   "execution_count": null,
   "metadata": {
    "deletable": false,
    "nbgrader": {
     "cell_type": "code",
     "checksum": "02fe713a72c1972861442169347967a0",
     "grade": true,
     "grade_id": "cell-90730d55fa8808a6",
     "locked": false,
     "points": 0,
     "schema_version": 3,
     "solution": true,
     "task": false
    }
   },
   "outputs": [],
   "source": [
    "# YOUR CODE HERE\n",
    "raise NotImplementedError()"
   ]
  },
  {
   "cell_type": "markdown",
   "metadata": {},
   "source": [
    "**Q** Calculate, as an expression, a column Series in which the `cell` column is divided by the `pop` column."
   ]
  },
  {
   "cell_type": "code",
   "execution_count": null,
   "metadata": {
    "deletable": false,
    "nbgrader": {
     "cell_type": "code",
     "checksum": "ecea1e881cace19836b572c8c4215618",
     "grade": true,
     "grade_id": "cell-d60c14ace5ab5e92",
     "locked": false,
     "points": 0,
     "schema_version": 3,
     "solution": true,
     "task": false
    }
   },
   "outputs": [],
   "source": [
    "# YOUR CODE HERE\n",
    "raise NotImplementedError()"
   ]
  },
  {
   "cell_type": "markdown",
   "metadata": {},
   "source": [
    "**Q** Use the `pandas` `read_csv()` function to read the `\"topnames\"` csv file into a dataframe. Assign to `tn_df` and invoke the `head()` method to see the first 10 rows.  Is there a (row) index?  Figure out how to revise your dataframe creation so that there is an index."
   ]
  },
  {
   "cell_type": "code",
   "execution_count": null,
   "metadata": {
    "deletable": false,
    "nbgrader": {
     "cell_type": "code",
     "checksum": "c6be448ddadd19efad5d5210f9a12eed",
     "grade": true,
     "grade_id": "cell-fc75bfabfc3fa30c",
     "locked": false,
     "points": 0,
     "schema_version": 3,
     "solution": true,
     "task": false
    }
   },
   "outputs": [],
   "source": [
    "# YOUR CODE HERE\n",
    "raise NotImplementedError()"
   ]
  },
  {
   "cell_type": "markdown",
   "metadata": {},
   "source": [
    "**Q** In any time that remains, practice with as many different access operations described in Chapter 7 with ant of these data sets. "
   ]
  }
 ],
 "metadata": {
  "kernelspec": {
   "display_name": "Python 3",
   "language": "python",
   "name": "python3"
  },
  "language_info": {
   "codemirror_mode": {
    "name": "ipython",
    "version": 3
   },
   "file_extension": ".py",
   "mimetype": "text/x-python",
   "name": "python",
   "nbconvert_exporter": "python",
   "pygments_lexer": "ipython3",
   "version": "3.7.6"
  }
 },
 "nbformat": 4,
 "nbformat_minor": 4
}
