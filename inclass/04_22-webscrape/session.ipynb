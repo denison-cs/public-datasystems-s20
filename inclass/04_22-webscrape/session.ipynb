{
 "cells": [
  {
   "cell_type": "markdown",
   "metadata": {},
   "source": [
    "Before you turn this problem in, make sure everything runs as expected. First, **restart the kernel** (in the menubar, select Kernel$\\rightarrow$Restart) and then **run all cells** (in the menubar, select Cell$\\rightarrow$Run All).\n",
    "\n",
    "Make sure you fill in any place that says `YOUR CODE HERE` or \"YOUR ANSWER HERE\", as well as your name and collaborators below:"
   ]
  },
  {
   "cell_type": "code",
   "execution_count": null,
   "metadata": {},
   "outputs": [],
   "source": [
    "NAME = \"\"\n",
    "COLLABORATORS = \"\""
   ]
  },
  {
   "cell_type": "markdown",
   "metadata": {},
   "source": [
    "---"
   ]
  },
  {
   "cell_type": "code",
   "execution_count": null,
   "metadata": {},
   "outputs": [],
   "source": [
    "import requests\n",
    "import pandas as pd\n",
    "from lxml import etree\n",
    "import io\n",
    "import os\n",
    "from IPython.display import Image\n",
    "\n",
    "import util\n",
    "from util import *\n",
    "import importlib"
   ]
  },
  {
   "cell_type": "code",
   "execution_count": null,
   "metadata": {},
   "outputs": [],
   "source": [
    "importlib.reload(util)\n",
    "from util import *"
   ]
  },
  {
   "cell_type": "markdown",
   "metadata": {},
   "source": [
    "# Web Scraping\n",
    "\n",
    "Web scraping is the process of taking data that resides in web pages, whose format is HTML, and, after parsing it into a tree, perform operations on the tree to extract information and transform it into a useable form.\n",
    "\n",
    "This notebook complements the treatment from Chapter 22 of our textbook, but does not replace it.  \n",
    "\n",
    "## Warmup\n",
    "\n",
    "### Discovery\n",
    "\n",
    "Consider the web page at http://personal.denison.edu/~bressoud/datasystems/basic.html, shown in its rendered form below:"
   ]
  },
  {
   "cell_type": "code",
   "execution_count": null,
   "metadata": {
    "jupyter": {
     "source_hidden": true
    }
   },
   "outputs": [],
   "source": [
    "Image(\"figs/basic.jpg\", width=300)"
   ]
  },
  {
   "cell_type": "markdown",
   "metadata": {},
   "source": [
    "**Student Action** Go to the above web page using Chrome, navigate to View->Developer->Inspect Elements, and hand-draw the tree rooted at `html`.  You can omit the `/html/head/style` elements, and abbreviate text children."
   ]
  },
  {
   "cell_type": "markdown",
   "metadata": {},
   "source": [
    "### Programmatic Extraction\n",
    "\n",
    "Run the cell below to acquire the HTML that you just examined from its location on the web.  Notice that the cell uses the `HTMLParser` constructor to use in the `etree.parse()`, since the parsing of HTML has some important differences from parsing XML (with the `XMLParser`).  On completion of the cell, `root` refers to the root html element."
   ]
  },
  {
   "cell_type": "code",
   "execution_count": null,
   "metadata": {},
   "outputs": [],
   "source": [
    "# Reading from the web into an XML Element, using custom parser\n",
    "protocol = \"http\"\n",
    "location = \"personal.denison.edu\"\n",
    "resourcepath = \"/~bressoud/datasystems/{}\"\n",
    "\n",
    "buildURL = lambda s: \"{}://{}{}\".format(protocol, location, resourcepath.format(s))\n",
    "\n",
    "htmlparser = etree.HTMLParser(remove_blank_text=True) \n",
    "\n",
    "url = buildURL(\"basic.html\")\n",
    "response = requests.get(url)\n",
    "assert response.status_code == 200\n",
    "\n",
    "tree = etree.parse(io.BytesIO(response.content), htmlparser)\n",
    "root = tree.getroot()"
   ]
  },
  {
   "cell_type": "markdown",
   "metadata": {},
   "source": [
    "> The next few steps illustrate extracting information from the HTML tree using XPath (declarative) and `lxml` Element object traversal (procedural).\n",
    "\n",
    "**Student Action**  Function `print_levels(node, level, maxlevel, maxchildren)` takes an Element node and, from our perspective, always starts at level 0, and prints out an XML/HTML tree showing beginning and end tags and nesting (using recursion), up to a maxlevel depth of the recursion and up to a maximum number of children under any given node.  Invoke this function below multiple times on the HTML tree.  Each time, try a different value for maxlevel.  We start you off with a maxlevel of 0.  If maxchildren is not specified, it defaults to a value of 30, so we omit it in this example."
   ]
  },
  {
   "cell_type": "code",
   "execution_count": null,
   "metadata": {
    "deletable": false,
    "nbgrader": {
     "cell_type": "code",
     "checksum": "48154dcbdb4e4947a94a5ea5e06284e9",
     "grade": true,
     "grade_id": "cell-fe4c20bdfec71bf1",
     "locked": false,
     "points": 0,
     "schema_version": 3,
     "solution": true,
     "task": false
    }
   },
   "outputs": [],
   "source": [
    "print_levels(root, 0, maxlevel=0)\n",
    "# YOUR CODE HERE\n",
    "raise NotImplementedError()"
   ]
  },
  {
   "cell_type": "markdown",
   "metadata": {},
   "source": [
    "**Student Action** Delete the `raise Exception` and change the assignment to `xs` to be an XPath expression that retrieves the `href` attribute from the `a` node. (We are using `xs` to name an **x**path **s**tring.)"
   ]
  },
  {
   "cell_type": "code",
   "execution_count": null,
   "metadata": {
    "deletable": false,
    "nbgrader": {
     "cell_type": "code",
     "checksum": "c7564035039662774f7e115cdf85f0e2",
     "grade": true,
     "grade_id": "cell-160cb0ab41062289",
     "locked": false,
     "points": 0,
     "schema_version": 3,
     "solution": true,
     "task": false
    }
   },
   "outputs": [],
   "source": [
    "xs = \"\"\n",
    "# YOUR CODE HERE\n",
    "raise NotImplementedError()\n",
    "result = root.xpath(xs)\n",
    "print(result[0])"
   ]
  },
  {
   "cell_type": "markdown",
   "metadata": {},
   "source": [
    "**Student Action** Now create, in `xs` an XPath expression that yields the text of the three `li` items in the outside unordered list (`ul`)."
   ]
  },
  {
   "cell_type": "code",
   "execution_count": null,
   "metadata": {
    "deletable": false,
    "nbgrader": {
     "cell_type": "code",
     "checksum": "b74e584aba03d029d4df5e447e2d3fd6",
     "grade": true,
     "grade_id": "cell-ff7f7885cdb259e5",
     "locked": false,
     "points": 0,
     "schema_version": 3,
     "solution": true,
     "task": false
    }
   },
   "outputs": [],
   "source": [
    "xs = \"\"\n",
    "# YOUR CODE HERE\n",
    "raise NotImplementedError()\n",
    "result = root.xpath(xs)\n",
    "print(result)"
   ]
  },
  {
   "cell_type": "markdown",
   "metadata": {},
   "source": [
    "**Variations** How about the inner list items?  All list items?  How would you remove extraneous whitespace?"
   ]
  },
  {
   "cell_type": "markdown",
   "metadata": {},
   "source": [
    "## Topnames Table with GET\n",
    "\n",
    "### Discovery"
   ]
  },
  {
   "cell_type": "markdown",
   "metadata": {},
   "source": [
    "Consider the web page at http://personal.denison.edu/~bressoud/datasystems/topnames.html, shown in its rendered form below:"
   ]
  },
  {
   "cell_type": "code",
   "execution_count": null,
   "metadata": {},
   "outputs": [],
   "source": [
    "Image(\"figs/topnames.jpg\", width=400)"
   ]
  },
  {
   "cell_type": "markdown",
   "metadata": {},
   "source": [
    "**Student Action** Go to the above web page \n",
    "using Chrome, navigate to View->Developer->Inspect Elements.\n",
    "\n",
    "- Find where in the HTML that the \"topnames\" label for the table exists (not the tab, but in the content of the page proper).  Traverse \"up\" to the first `div` ancestor, and draw the subtree starting at that point, down to the point where you have included the label text, but only covering the first full subtree of the `div` (containing the label).\n",
    "\n",
    "- Find the `table` node within the overall tree, and then draw the subtee rooted at `table`.  You need only include the first two data-carrying rows of data.  You can also use abbreviations of your own choosing to make this less onerous."
   ]
  },
  {
   "cell_type": "code",
   "execution_count": null,
   "metadata": {},
   "outputs": [],
   "source": [
    "# Reading from the web into an XML Element, using custom parser\n",
    "url = buildURL(\"topnames.html\")\n",
    "response = requests.get(url)\n",
    "assert response.status_code == 200\n",
    "\n",
    "tree = etree.parse(io.BytesIO(response.content), htmlparser)\n",
    "root = tree.getroot()"
   ]
  },
  {
   "cell_type": "markdown",
   "metadata": {},
   "source": [
    "**Student Action** Create in `xs` an XPath expression that (uniquely) \n",
    "finds the `div` that is the common ancestor of both the topnames label and the `table` containing the data.  Assign the node itself (not the list containing the node) to the variable `divroot` and use the `print_levels` to show enough of the tree that the print out includes the label text."
   ]
  },
  {
   "cell_type": "code",
   "execution_count": null,
   "metadata": {
    "deletable": false,
    "nbgrader": {
     "cell_type": "code",
     "checksum": "fbc8e5be8c53cf905fd93933d5afb620",
     "grade": true,
     "grade_id": "cell-31ccac71984445de",
     "locked": false,
     "points": 0,
     "schema_version": 3,
     "solution": true,
     "task": false
    }
   },
   "outputs": [],
   "source": [
    "xs = \"\"\n",
    "# YOUR CODE HERE\n",
    "raise NotImplementedError()\n",
    "print_levels(divroot, 0, maxlevel=2)"
   ]
  },
  {
   "cell_type": "markdown",
   "metadata": {},
   "source": [
    "**Student Action** [Optional] Suppose you knew that a table and its label existed on a web page structured this way, but you did not necessarily know the text of the label, but the label as placed in the web page was part of the extraction.  Create in `xs` and XPath expression that, based on operating on `divroot`, retrieves the label of the table."
   ]
  },
  {
   "cell_type": "code",
   "execution_count": null,
   "metadata": {
    "deletable": false,
    "nbgrader": {
     "cell_type": "code",
     "checksum": "ab5e4480ac14d9e282b83d8f561b2b8b",
     "grade": true,
     "grade_id": "cell-8fff7ea9b0dacad5",
     "locked": false,
     "points": 0,
     "schema_version": 3,
     "solution": true,
     "task": false
    }
   },
   "outputs": [],
   "source": [
    "xs = \"\"\n",
    "# YOUR CODE HERE\n",
    "raise NotImplementedError()\n",
    "result = divroot.xpath(xs)\n",
    "print_results(result[:5])\n",
    "assert len(result) == 1"
   ]
  },
  {
   "cell_type": "markdown",
   "metadata": {},
   "source": [
    "**Student Action**  Either using the `root` of the html tree, or from the `divroot` found above, assign to `xs` an XPath expression that assigns to `table` the Element subtree rooted at `table`.  Then use `print_levels` to make sure your understanding of the table tree matches your hand-drawn tree from earlier.  If you chose to start from `root`, would your expression be **guaranteed** to get the table you are interested in?"
   ]
  },
  {
   "cell_type": "code",
   "execution_count": null,
   "metadata": {
    "deletable": false,
    "nbgrader": {
     "cell_type": "code",
     "checksum": "5185391199674c68eb8942c01400c5b3",
     "grade": true,
     "grade_id": "cell-ef671b123ea1744b",
     "locked": false,
     "points": 0,
     "schema_version": 3,
     "solution": true,
     "task": false
    }
   },
   "outputs": [],
   "source": [
    "xs = \"\"\n",
    "# YOUR CODE HERE\n",
    "raise NotImplementedError()\n",
    "print_levels(table, 0, maxlevel=3, maxchildren=3)"
   ]
  },
  {
   "cell_type": "markdown",
   "metadata": {},
   "source": [
    "### Programmatic Extraction\n",
    "\n",
    "#### List of Lists\n",
    "\n",
    "**Student Action** Assign to `xs` an XPath expression that retrieves the names of the columns of the table, assigning to `col_names`.  Write your expression as an absolute one, working from the root."
   ]
  },
  {
   "cell_type": "code",
   "execution_count": null,
   "metadata": {
    "deletable": false,
    "nbgrader": {
     "cell_type": "code",
     "checksum": "db2d0c2ade66ac6b9e41e2cbde332c79",
     "grade": true,
     "grade_id": "cell-68a4cd2c00d8a69f",
     "locked": false,
     "points": 0,
     "schema_version": 3,
     "solution": true,
     "task": false
    }
   },
   "outputs": [],
   "source": [
    "xs = \"\"\n",
    "# YOUR CODE HERE\n",
    "raise NotImplementedError()\n",
    "print(col_names)"
   ]
  },
  {
   "cell_type": "markdown",
   "metadata": {},
   "source": [
    "Note that if the HTML document had multiple tables, then the XPath expression above would match header cells from all `th` elements anywhere in the document, including ones in totally separate tables.  In such a case, we may have to make further assumptions about the structure of the HTML to uniquely find the desired table.  \n",
    "\n",
    "In the following, we will assume that `table` refers to the correct table, and focus on extracting the data and transforming it into a data frame.\n",
    "\n",
    "We show a method from the book that solves this problem by the following steps:\n",
    "\n",
    "1. Use XPath to retrieve a single list of the text property of all `td` nodes under the `tbody`.\n",
    "2. Using the knowledge that there are four fields per row, iterate over this single list and, by putting sequential sets of four elements into a row list, create a LoL representation of the data.\n",
    "3. Build the dataframe based on the LoL and the column names."
   ]
  },
  {
   "cell_type": "code",
   "execution_count": null,
   "metadata": {},
   "outputs": [],
   "source": [
    "tdlist = table.xpath(\"./tbody/tr/td/text()\")\n",
    "print(len(tdlist))\n",
    "print(tdlist[0:10])"
   ]
  },
  {
   "cell_type": "markdown",
   "metadata": {},
   "source": [
    "We extract this into a list of lists that we can feed to `pandas`. Each list is a row, i.e., a slice of length 4 from `tdlist`."
   ]
  },
  {
   "cell_type": "code",
   "execution_count": null,
   "metadata": {},
   "outputs": [],
   "source": [
    "LoL = []\n",
    "fieldcount = 0\n",
    "for item in tdlist:\n",
    "    if fieldcount == 0:\n",
    "        row = []\n",
    "    row.append(item)\n",
    "    if fieldcount < 3:\n",
    "        fieldcount += 1\n",
    "    else:\n",
    "        LoL.append(row)\n",
    "        fieldcount = 0\n",
    "LoL[:10]"
   ]
  },
  {
   "cell_type": "code",
   "execution_count": null,
   "metadata": {},
   "outputs": [],
   "source": [
    "# Turning the LoL into a dataframe\n",
    "df = pd.DataFrame(LoL,columns=col_names)\n",
    "df.set_index(['year','sex'], inplace=True)\n",
    "df.head(10)"
   ]
  },
  {
   "cell_type": "markdown",
   "metadata": {},
   "source": [
    "#### Dictionary of Column Lists\n",
    "\n",
    "A perhaps simpler solution involves using the regularity of the columns in a table (be it in HTML or other regular table form).  Within each `tr`, the **position** of each of the `td` elements for the four fields in this table is always the same, regardless of row.  So at position 1 within all the rows, we always have the year, at position 2, we always have the sex, and so forth."
   ]
  },
  {
   "cell_type": "markdown",
   "metadata": {},
   "source": [
    "**Student Action** Assign to `xs` an XPath expression that retrieves, relative to `table`, the text property for all `td` elements under a `tr` where the `td` is the position 1 child of the `tr`:"
   ]
  },
  {
   "cell_type": "code",
   "execution_count": null,
   "metadata": {
    "deletable": false,
    "nbgrader": {
     "cell_type": "code",
     "checksum": "eaf5231e7cd0fad9255398fcdda5e6ba",
     "grade": true,
     "grade_id": "cell-df631f45510f24ea",
     "locked": false,
     "points": 0,
     "schema_version": 3,
     "solution": true,
     "task": false
    }
   },
   "outputs": [],
   "source": [
    "xs = \"\"\n",
    "# YOUR CODE HERE\n",
    "raise NotImplementedError()\n",
    "year_vector = table.xpath(xs)\n",
    "print(len(year_vector))\n",
    "print(year_vector[:10])"
   ]
  },
  {
   "cell_type": "markdown",
   "metadata": {},
   "source": [
    "We could do this four times, with different values for the position, creating four vectors and then constructing the dictionary.  Instead, we want to use Python string formatting to \n",
    "dynamically create an xpath that retrieves the `td` at a position given by a variable, and then traverses to the text attribute.  "
   ]
  },
  {
   "cell_type": "markdown",
   "metadata": {},
   "source": [
    "**Student Action** Assign to `xs_template` a Python string using `{}` in place of the position, so that the testing code shows its use by obtaining the four data columns from the table."
   ]
  },
  {
   "cell_type": "code",
   "execution_count": null,
   "metadata": {
    "deletable": false,
    "nbgrader": {
     "cell_type": "code",
     "checksum": "15907506580c0eb1e77746aa0367ff94",
     "grade": true,
     "grade_id": "cell-2dba3d6ffed57fcb",
     "locked": false,
     "points": 0,
     "schema_version": 3,
     "solution": true,
     "task": false
    }
   },
   "outputs": [],
   "source": [
    "xs_template = \"\"\n",
    "# YOUR CODE HERE\n",
    "raise NotImplementedError()\n",
    "years = table.xpath(xs_template.format(1))\n",
    "print(years[:8])\n",
    "sexes = table.xpath(xs_template.format(2))\n",
    "print(sexes[:8])\n",
    "names = table.xpath(xs_template.format(3))\n",
    "print(names[:8])\n",
    "counts = table.xpath(xs_template.format(4))\n",
    "print(counts[:8])"
   ]
  },
  {
   "cell_type": "code",
   "execution_count": null,
   "metadata": {},
   "outputs": [],
   "source": [
    "DoL = {}\n",
    "for index, column in enumerate(col_names):\n",
    "    xpath = xs.format(index+1)\n",
    "    DoL[column] = table.xpath(xpath)\n",
    "df = pd.DataFrame(DoL)\n",
    "df.set_index(['year','sex'], inplace=True)\n",
    "df.head(10)"
   ]
  },
  {
   "cell_type": "markdown",
   "metadata": {},
   "source": [
    "## POST Example\n",
    "\n",
    "### Discovery\n",
    "\n",
    "Consider the web page at https://ww2.energy.ca.gov/almanac/transportation_data/gasoline/margins/index_cms.php\n",
    "\n",
    "We can infer from a PHP page, often with a `php` extension, that the page is a dynamic one, that, on an HTTP request, will respond to the request by dynamically generating the HTML content.  PHP is a scripting language that lets a server execute code instead of serving up static content.\n",
    "\n",
    "On the given page, navigate toward the bottom of the page where you will find a `Select Year` drop down and a button labeled `Get different year`, and pick the year you were born, or 1999 if you were born earlier than 1999, and then click the `Get different year` button.\n",
    "\n",
    "The two GUI elements of the drop-down and the submission button consistute what, in HTML, is called a **form** (albeit, one of the simplest forms one might imagine).\n",
    "\n",
    "The way that a PHP or other dynamic resource path at a web server obtains the information for processing is via the client making a POST request.  The request includes information in the **body** of the request that passes, from client to server, the information needed to do the dynamic generation.  ... otherwise, the page could simply be static.\n",
    "\n",
    "In this case, by making a year choice and clicking the submission button, the web browser makes a POST request and formats the body with the form data.  We need our web scraping client applications to be able to perform the same way."
   ]
  },
  {
   "cell_type": "markdown",
   "metadata": {},
   "source": [
    "**Student Action** Go to the above web page using Chrome\n",
    "\n",
    "- navigate to View->Developer->Developer Tools\n",
    "- In the Tools window, select the `Network` tab\n",
    "- In the window showing the web page itself, navigate to near the bottom and repeat your earlier action of selecting a year and then clicking the `Select different year` botton.\n",
    "    - This action should result in a set of entries appearing in the Network window.  The first of these in the `Name` subwindow, should be labeled `index_cms.php`\n",
    "- Click on that first entry, `index_cms.php`\n",
    "    - The lower window will subdivide, and you shoud see sub-tabs with names `Headers`, `Preview`, `Response`, etc.\n",
    "- Click on the `Headers` sub-tab\n",
    "- Make sure the `Request Headers` and the `Form Data` elements under `Headers` are expanded and the others are collapsed.\n",
    "- Click the `view source` next to the `Request Headers` element:\n",
    "    - Find the HTTP request line.  Do you recognize the syntax\n",
    "    - What does the `Content-length` header line tell you?\n",
    "    - How about the `Content-type` header?\n",
    "    - Are these headers formed by the client or by the server?\n",
    "- Now examine the `Form Data` element:\n",
    "    - what are the key-value pairs?\n",
    "    - Now click on the `view source`\n",
    "    - Where, in an HTTP request, would this information be placed?\n",
    "    - Click back on the `view parsed` to get back to the key-value view\n",
    "    - Toggle back and form between `view URL encoded` and `view decoded`; what is the difference?  Which of these two is used in the `view source` view?"
   ]
  },
  {
   "cell_type": "code",
   "execution_count": null,
   "metadata": {},
   "outputs": [],
   "source": [
    "protocol = \"https\"\n",
    "location = \"ww2.energy.ca.gov\"\n",
    "resourcepath = \"/almanac/transportation_data/gasoline/margins/index_cms.php\"\n",
    "\n",
    "url = buildURL(resourcepath)"
   ]
  },
  {
   "cell_type": "code",
   "execution_count": null,
   "metadata": {},
   "outputs": [],
   "source": [
    "response = requests.get(url)\n",
    "assert response.status_code == 200\n",
    "\n",
    "tree = etree.parse(io.BytesIO(response.content), htmlparser)\n",
    "root = tree.getroot()"
   ]
  },
  {
   "cell_type": "markdown",
   "metadata": {},
   "source": [
    "If we use Developer Tools (or View Source) we can find the form that contains the year drop-down and the submit button labeled `Get different year`.  We want to examine that `form` subtree within our HTML.\n",
    "\n",
    "**Student Action** Assign to `xs` an Xpath string that finds the `form` node where the `action` attribute is set to the page's PHP of `index_cms.php`"
   ]
  },
  {
   "cell_type": "code",
   "execution_count": null,
   "metadata": {
    "deletable": false,
    "nbgrader": {
     "cell_type": "code",
     "checksum": "f9b2f757b91df1b54e89970831a4faf1",
     "grade": true,
     "grade_id": "cell-05bc5b6bbd01ba16",
     "locked": false,
     "points": 0,
     "schema_version": 3,
     "solution": true,
     "task": false
    }
   },
   "outputs": [],
   "source": [
    "xs = \"\"\n",
    "# YOUR CODE HERE\n",
    "raise NotImplementedError()\n",
    "\n",
    "form = root.find(xs)\n",
    "print_levels(form, 0, maxlevel=3, maxchildren=5)"
   ]
  },
  {
   "cell_type": "markdown",
   "metadata": {},
   "source": [
    "**Conclusions**\n",
    "\n",
    "1. A GET to this resource path results in an HTML page with multiple (weekly) tables, each of which has data of interest.\n",
    "2. The page has a form element, whose `method` attribute is `\"post\"`.  That means that, when the embedded form is \"filled out\" and the user submits the form, an HTTP POST is the result:\n",
    "    - The `action` attribute of the form determines the resource path, relative to the current location, for the URI/resource path needed in the HTTP POST\n",
    "    - The \"form\", in this case, just consists of a dropdown list, whose entries are given by the sequence of `option` nodes, and whose values are the possible years.  The key for this field is called `year`, as given in the `select` node.  The value will be one of the year values.\n",
    "    - The `input` node determines the submission of the form.  In this case, when the user clicks the `\"Get different year\"`, the form will be submitted and, in addition to the key=value items from the form items, the `name` of the `input` attribute, `newYear` will be mapped to the `value` of \"Get different year\"."
   ]
  },
  {
   "cell_type": "markdown",
   "metadata": {},
   "source": [
    "### Emulating an Interactive Form-Based POST\n",
    "\n",
    "We use an HTTP POST to convey information from the client to the server.  The information conveyed is in the $\\textit{body}$ of the request.  So, in contrast to most earlier examples, we need to change two things in using the `requests` module to make this request:\n",
    "\n",
    "1. We must invoke a POST request instead of a GET request.\n",
    "2. The request must include a body that consists of key-value pairs.\n",
    "\n",
    "For (1), the `requests` module has a `post` top level function.  For (2), we construct a *dictionary* with the desired mappings.  We pass that to the `post()` using named parameter `data`.  The requests module is very flexible in how it interprets an argument provided through `data`.  If it is a string, it simply puts the encoded bytes of the string in the body.  If it is a dictionary, it interprets it and generates a URL-encoded version, as we will see below:"
   ]
  },
  {
   "cell_type": "code",
   "execution_count": null,
   "metadata": {},
   "outputs": [],
   "source": [
    "year = 1999\n",
    "\n",
    "payload = {'year': year, 'newYear': 'Get different year'}\n",
    "response = requests.post(url, data=payload)\n",
    "assert response.status_code == 200"
   ]
  },
  {
   "cell_type": "code",
   "execution_count": null,
   "metadata": {},
   "outputs": [],
   "source": [
    "request = response.request\n",
    "request.body"
   ]
  },
  {
   "cell_type": "markdown",
   "metadata": {},
   "source": [
    "In the above, we use the response to get the request object.  We then examine the body of the request and see a character sequence with key=value mappings, separated by `&`.  Forms in the body of a POST follow the same URL-encoding that we use for query parameters.  Spaces can get mapped to `+` character (or `%20`).  We did not have to perform this formatting for ourselves, the `requests` module can take a mapping dictionary and perform this task for us.\n",
    "\n",
    "W3Schools on URL Encoding: https://www.w3schools.com/tags/ref_urlencode.ASP"
   ]
  },
  {
   "cell_type": "code",
   "execution_count": null,
   "metadata": {},
   "outputs": [],
   "source": [
    "request.method"
   ]
  },
  {
   "cell_type": "code",
   "execution_count": null,
   "metadata": {},
   "outputs": [],
   "source": [
    "request.path_url"
   ]
  },
  {
   "cell_type": "code",
   "execution_count": null,
   "metadata": {},
   "outputs": [],
   "source": [
    "request.headers"
   ]
  },
  {
   "cell_type": "markdown",
   "metadata": {},
   "source": [
    "Note how, also, the requests module informed the server about the format of the body of the post through setting of the `'Content-Type'` header line."
   ]
  },
  {
   "cell_type": "markdown",
   "metadata": {},
   "source": [
    "### Processing the Data in the HTML Tree\n",
    "\n",
    "In the result, there is a **table per week**."
   ]
  },
  {
   "cell_type": "code",
   "execution_count": null,
   "metadata": {},
   "outputs": [],
   "source": [
    "tree1999 = etree.parse(io.BytesIO(response.content), htmlparser)\n",
    "root1999 = tree1999.getroot()"
   ]
  },
  {
   "cell_type": "markdown",
   "metadata": {},
   "source": [
    "Another discovery process finds that each of the weekly tables is an immediate child of a `div` whose `class` attribute is `'contnr`.  This knowledge allows us to directly get the set of weekly tables with a specific xpath and no chance for ambiguity or other tables in the tree to get collected."
   ]
  },
  {
   "cell_type": "code",
   "execution_count": null,
   "metadata": {},
   "outputs": [],
   "source": [
    "# Get a list of the weekly tables\n",
    "\n",
    "table_list = root1999.xpath(\"//div[@class='contnr']/table\")\n",
    "print(len(table_list))"
   ]
  },
  {
   "cell_type": "code",
   "execution_count": null,
   "metadata": {},
   "outputs": [],
   "source": [
    "first_table = table_list[0]\n",
    "print_levels(first_table, 0, maxlevel=3, maxchildren=4)"
   ]
  },
  {
   "cell_type": "markdown",
   "metadata": {},
   "source": [
    "**Student Activity** Experiment with `first_table` and hand-draw enough of the table to demonstrate that you understand its structure."
   ]
  },
  {
   "cell_type": "markdown",
   "metadata": {},
   "source": [
    "Given that each table represents a single week, and that the rows in the table represent variables, then each table will give us a single row for a table representing the data of the page.  With an eye toward collecting a List of Dictionaries for construction of the table, we will develop processing of one table to result in one (row) dictionary.\n",
    "\n",
    "We can see from the print of the tree, that the first piece of data needed, the date, is in a `caption` child of the `table`.  Let us postulate data columns:\n",
    "\n",
    "`['distrib_cost', 'crude_cost', 'refine_cost', 'storage', 'state_local_tax', 'state_excise_tax', 'fed_excise_tax', 'retail_price']`\n",
    "\n",
    "Assume we just want the `Branded` data."
   ]
  },
  {
   "cell_type": "code",
   "execution_count": null,
   "metadata": {},
   "outputs": [],
   "source": [
    "data_cols = ['distrib_cost', 'crude_cost', 'refine_cost', 'storage', \n",
    "             'state_local_tax', 'state_excise_tax', 'fed_excise_tax', 'retail_price']"
   ]
  },
  {
   "cell_type": "code",
   "execution_count": null,
   "metadata": {},
   "outputs": [],
   "source": [
    "date = first_table[0][0].text\n",
    "date"
   ]
  },
  {
   "cell_type": "markdown",
   "metadata": {},
   "source": [
    "Each individual row has one `th` and two `td` nodes, and for the `Branded` data, we want the first of those `td` nodes.  First row contains the Branded/Unbranded header."
   ]
  },
  {
   "cell_type": "code",
   "execution_count": null,
   "metadata": {},
   "outputs": [],
   "source": [
    "datastrings = first_table.xpath(\"./tr[position()>1]/td[1]/text()\")"
   ]
  },
  {
   "cell_type": "code",
   "execution_count": null,
   "metadata": {},
   "outputs": [],
   "source": [
    "datalist = [float(s[1:]) for s in datastrings]\n",
    "datalist"
   ]
  },
  {
   "cell_type": "code",
   "execution_count": null,
   "metadata": {},
   "outputs": [],
   "source": [
    "D = {key:value for key, value in zip(data_cols, datalist)}"
   ]
  },
  {
   "cell_type": "code",
   "execution_count": null,
   "metadata": {},
   "outputs": [],
   "source": [
    "D['date'] = date"
   ]
  },
  {
   "cell_type": "code",
   "execution_count": null,
   "metadata": {},
   "outputs": [],
   "source": [
    "D"
   ]
  },
  {
   "cell_type": "markdown",
   "metadata": {},
   "source": [
    "As a function to process one table:"
   ]
  },
  {
   "cell_type": "code",
   "execution_count": null,
   "metadata": {},
   "outputs": [],
   "source": [
    "def processTable(table):\n",
    "    data_cols = ['distrib_cost', 'crude_cost', 'refine_cost', 'storage', \n",
    "                 'state_local_tax', 'state_excise_tax', 'fed_excise_tax', 'retail_price']\n",
    "    date = table[0][0].text\n",
    "    datastrings = table.xpath(\"./tr[position()>1]/td[1]/text()\")\n",
    "    datalist = [float(s[1:]) for s in datastrings]\n",
    "    D = {key:value for key, value in zip(data_cols, datalist)}\n",
    "    D['date'] = date\n",
    "    return D"
   ]
  },
  {
   "cell_type": "markdown",
   "metadata": {},
   "source": [
    "With a function, we can then easily use a list comprehension to generate our list of dictionaries over the set of tables acquired through our original XPath:"
   ]
  },
  {
   "cell_type": "code",
   "execution_count": null,
   "metadata": {},
   "outputs": [],
   "source": [
    "LoD = [processTable(table) for table in table_list]"
   ]
  },
  {
   "cell_type": "markdown",
   "metadata": {},
   "source": [
    "And finally build our Data Frame:"
   ]
  },
  {
   "cell_type": "code",
   "execution_count": null,
   "metadata": {},
   "outputs": [],
   "source": [
    "df = pd.DataFrame(LoD)\n",
    "df.set_index('date', inplace=True)\n",
    "df.head(8)"
   ]
  },
  {
   "cell_type": "code",
   "execution_count": null,
   "metadata": {},
   "outputs": [],
   "source": []
  }
 ],
 "metadata": {
  "kernelspec": {
   "display_name": "Python 3",
   "language": "python",
   "name": "python3"
  },
  "language_info": {
   "codemirror_mode": {
    "name": "ipython",
    "version": 3
   },
   "file_extension": ".py",
   "mimetype": "text/x-python",
   "name": "python",
   "nbconvert_exporter": "python",
   "pygments_lexer": "ipython3",
   "version": "3.7.6"
  }
 },
 "nbformat": 4,
 "nbformat_minor": 4
}
