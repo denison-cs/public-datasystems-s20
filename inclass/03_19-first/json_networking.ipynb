{
 "cells": [
  {
   "cell_type": "markdown",
   "metadata": {},
   "source": [
    "Before you turn this problem in, make sure everything runs as expected. First, **restart the kernel** (in the menubar, select Kernel$\\rightarrow$Restart) and then **run all cells** (in the menubar, select Cell$\\rightarrow$Run All).\n",
    "\n",
    "Make sure you fill in any place that says `YOUR CODE HERE` or \"YOUR ANSWER HERE\", as well as your name and collaborators below:"
   ]
  },
  {
   "cell_type": "code",
   "execution_count": null,
   "metadata": {},
   "outputs": [],
   "source": [
    "NAME = \"\"\n",
    "COLLABORATORS = \"\""
   ]
  },
  {
   "cell_type": "markdown",
   "metadata": {},
   "source": [
    "---"
   ]
  },
  {
   "cell_type": "markdown",
   "metadata": {
    "deletable": false,
    "editable": false,
    "nbgrader": {
     "cell_type": "markdown",
     "checksum": "71248aca64cea5638e587d94979befa4",
     "grade": false,
     "grade_id": "cell-b7ad669b2ef04f9e",
     "locked": true,
     "schema_version": 3,
     "solution": false
    }
   },
   "source": [
    "# JSON and Networking\n",
    "\n",
    "This worksheet is based on sections 2.4 and 19.1 of the textbook.\n",
    "\n",
    "This in-class activity illustrates some of what you can do with JSON, and then guides you through an activity to think about the basics of network architecture. Both of these topics will be essential for our coming work on HTTP architecture and programming.\n",
    "\n",
    "Please run the cell below."
   ]
  },
  {
   "cell_type": "code",
   "execution_count": null,
   "metadata": {
    "deletable": false,
    "editable": false,
    "nbgrader": {
     "cell_type": "code",
     "checksum": "8b91067f500f33ab0e106527a79e06d2",
     "grade": false,
     "grade_id": "cell-e6422b628a626980",
     "locked": true,
     "schema_version": 3,
     "solution": false
    }
   },
   "outputs": [],
   "source": [
    "import json\n",
    "import os"
   ]
  },
  {
   "cell_type": "markdown",
   "metadata": {
    "deletable": false,
    "editable": false,
    "nbgrader": {
     "cell_type": "markdown",
     "checksum": "d6685d36a3b6c14b3210354e5d3db67c",
     "grade": false,
     "grade_id": "cell-384ed3b7598695ed",
     "locked": true,
     "schema_version": 3,
     "solution": false
    }
   },
   "source": [
    "# JSON Exercises\n",
    "\n",
    "**Q1** (warmup) In the `babyNames()` function below, open the file named `babynames.csv`. Create a dictionary to contain the names as keys and the numbers as values. Read each line of the file, rather than reading the entire file all at once. Make sure you close the file. Populate and return the dictionary you have created.\n",
    "\n",
    "Note: if time is of the essence, you can skip this problem."
   ]
  },
  {
   "cell_type": "code",
   "execution_count": null,
   "metadata": {
    "deletable": false,
    "nbgrader": {
     "cell_type": "code",
     "checksum": "649a43490a2e2514bb5f6806983424f3",
     "grade": false,
     "grade_id": "cell-2cc9348043a8ae46",
     "locked": false,
     "schema_version": 3,
     "solution": true
    }
   },
   "outputs": [],
   "source": [
    "def babyNames():\n",
    "    \"\"\"Open the comma-separated value file babynames.csv and return a \n",
    "    dictionary with names as keys and numbers of applications as values.\n",
    "    \n",
    "    \"\"\"\n",
    "    # YOUR CODE HERE\n",
    "    raise NotImplementedError()"
   ]
  },
  {
   "cell_type": "code",
   "execution_count": null,
   "metadata": {
    "deletable": false,
    "editable": false,
    "nbgrader": {
     "cell_type": "code",
     "checksum": "dc11a284bc95eaa9f86b4c86bf9ea558",
     "grade": true,
     "grade_id": "cell-bb25e01796fb8a1c",
     "locked": true,
     "points": 2,
     "schema_version": 3,
     "solution": false
    }
   },
   "outputs": [],
   "source": [
    "assert isinstance(babyNames(), dict)\n",
    "assert len(babyNames().keys()) == 6\n",
    "assert '22127' == babyNames()['Jacob']"
   ]
  },
  {
   "cell_type": "markdown",
   "metadata": {},
   "source": [
    "In case you didn't have time for the problem above, the cell below gives you the dictionary the function above wold have created, which you can use in the problems below."
   ]
  },
  {
   "cell_type": "code",
   "execution_count": null,
   "metadata": {},
   "outputs": [],
   "source": [
    "bN = {\"Jacob\":\"22127\", \"Ethan\":\"18002\", \"Michael\":\"17350\", \"Jayden\":\"17179\", \"William\":\"17051\", \"Alexander\":\"16756\"}\n"
   ]
  },
  {
   "cell_type": "markdown",
   "metadata": {
    "collapsed": true,
    "deletable": false,
    "editable": false,
    "nbgrader": {
     "cell_type": "markdown",
     "checksum": "82cec7fbced791a548c24424c4d95606",
     "grade": false,
     "grade_id": "cell-50934203eaa0008a",
     "locked": true,
     "schema_version": 3,
     "solution": false
    }
   },
   "source": [
    "**Q2** In the `babyNamesDict()` function below, write the dictionary created using `babynames.csv` into a JSON formatted file without using any of the JSON utilities.  Make sure you close the file. Return the name of the file you have written. Ensure the file type is \".json\" and remember that the syntax of a JSON file requires curly braces { } at the beginning and end.\n",
    "\n",
    "Note: in case time is short, please be aware that the folder already contains the json file you are being asked to create here, as `babynames.json`. If you solve this problem and run your code, it will overwrite that file (hopefully with an identical one, if you solve this correctly!)"
   ]
  },
  {
   "cell_type": "code",
   "execution_count": null,
   "metadata": {
    "deletable": false,
    "nbgrader": {
     "cell_type": "code",
     "checksum": "0a31635bf02dc7824c6edd3fe7895ef7",
     "grade": false,
     "grade_id": "cell-cc3e9cd3db0d5784",
     "locked": false,
     "schema_version": 3,
     "solution": true
    }
   },
   "outputs": [],
   "source": [
    "def babyNamesDict():\n",
    "    \"\"\"Writes the dictionary from babyNames() out to a file. \n",
    "    Returns the name of the file.\n",
    "    \n",
    "    \"\"\"\n",
    "    # YOUR CODE HERE\n",
    "    raise NotImplementedError()"
   ]
  },
  {
   "cell_type": "code",
   "execution_count": null,
   "metadata": {
    "deletable": false,
    "editable": false,
    "nbgrader": {
     "cell_type": "code",
     "checksum": "cfcd3cdcbab8895166ffc00a3cf4cacf",
     "grade": true,
     "grade_id": "cell-993e67ecfc908374",
     "locked": true,
     "points": 3,
     "schema_version": 3,
     "solution": false
    }
   },
   "outputs": [],
   "source": [
    "output = babyNamesDict()\n",
    "assert isinstance(output, str)\n",
    "assert output[-5:] == '.json'\n",
    "assert os.path.isfile(output)"
   ]
  },
  {
   "cell_type": "markdown",
   "metadata": {
    "deletable": false,
    "editable": false,
    "nbgrader": {
     "cell_type": "markdown",
     "checksum": "d65055ea62510bc26d370aacdef7d11a",
     "grade": false,
     "grade_id": "cell-93892a9a2c298626",
     "locked": true,
     "schema_version": 3,
     "solution": false
    }
   },
   "source": [
    "**Q3** In the `babyNamesDictJSON()` function below, write the dictionary created using `babynames.csv` into a JSON formatted file (e.g. `\"babynames2.json\"` or `\"babynames3.json\"`), using the JSON `dump` function. Recall that `dump(data,file)` will dump a dictionary `data` into a JSON `file` (but you first have to `open` the file and use `'w'` to tell Python you want to write). Make sure you close the file after `dump`. Return the name of the file you have written.\n",
    "\n",
    "Note: if time is short, please be aware that the file `babynames2.json` is already in the folder, so you can complete the next problem even if you don't do this one."
   ]
  },
  {
   "cell_type": "code",
   "execution_count": null,
   "metadata": {
    "deletable": false,
    "nbgrader": {
     "cell_type": "code",
     "checksum": "898b6f911ca11a4dc496fb882274f988",
     "grade": false,
     "grade_id": "cell-0e0ebb6bd11db4d7",
     "locked": false,
     "schema_version": 3,
     "solution": true
    }
   },
   "outputs": [],
   "source": [
    "def babyNamesDictJSON():\n",
    "    \"\"\"Writes the dictionary created by babyNames() into a file named 'babynames2.json using json utilities.\n",
    "       Returns the name of the file.\n",
    "    \n",
    "    \"\"\"\n",
    "    # YOUR CODE HERE\n",
    "    raise NotImplementedError()"
   ]
  },
  {
   "cell_type": "code",
   "execution_count": null,
   "metadata": {
    "deletable": false,
    "editable": false,
    "nbgrader": {
     "cell_type": "code",
     "checksum": "b7c0fad11cddead029fdc5e77795ecce",
     "grade": true,
     "grade_id": "cell-afd6fd68cf5a61cc",
     "locked": true,
     "points": 2,
     "schema_version": 3,
     "solution": false
    }
   },
   "outputs": [],
   "source": [
    "output2 = babyNamesDictJSON()\n",
    "#assert output != output2\n",
    "#assert output2 == \"babynames2.json\"\n",
    "assert os.path.isfile(output2)"
   ]
  },
  {
   "cell_type": "markdown",
   "metadata": {
    "deletable": false,
    "editable": false,
    "nbgrader": {
     "cell_type": "markdown",
     "checksum": "4bdc4246aca9df0d9c9069a44338265c",
     "grade": false,
     "grade_id": "cell-d77e906b4bb10371",
     "locked": true,
     "schema_version": 3,
     "solution": false
    }
   },
   "source": [
    "**Q4** In the `compareJSON()` function below, write a utility function that compares the texts of two JSON files given their filenames. Assume that the filenames contain the file extension. Please make use of the `load` function that comes with json files."
   ]
  },
  {
   "cell_type": "code",
   "execution_count": null,
   "metadata": {
    "deletable": false,
    "nbgrader": {
     "cell_type": "code",
     "checksum": "0c482d1a0ed0c050bf3e9824e6d43e0c",
     "grade": false,
     "grade_id": "cell-cd7f8509023e51eb",
     "locked": false,
     "schema_version": 3,
     "solution": true
    }
   },
   "outputs": [],
   "source": [
    "def compareJSON(filename1, filename2):\n",
    "    \"\"\" Compare the text from two JSON files given their \n",
    "    filenames. Return true if they are the same.\n",
    "    \n",
    "    \"\"\"\n",
    "    # YOUR CODE HERE\n",
    "    raise NotImplementedError()"
   ]
  },
  {
   "cell_type": "code",
   "execution_count": null,
   "metadata": {
    "deletable": false,
    "editable": false,
    "nbgrader": {
     "cell_type": "code",
     "checksum": "7f46984d94e51820e5e45343053e56d3",
     "grade": true,
     "grade_id": "cell-c40738447af40f00",
     "locked": true,
     "points": 2,
     "schema_version": 3,
     "solution": false
    }
   },
   "outputs": [],
   "source": [
    "assert compareJSON(\"babynames2.json\", \"babynames2.json\")\n",
    "assert compareJSON(output, output2)"
   ]
  },
  {
   "cell_type": "markdown",
   "metadata": {
    "deletable": false,
    "editable": false,
    "nbgrader": {
     "cell_type": "markdown",
     "checksum": "03633d6c935df0deea5ff0b3e2fba105",
     "grade": false,
     "grade_id": "cell-f4876b567d4dcece",
     "locked": true,
     "schema_version": 3,
     "solution": false,
     "task": false
    }
   },
   "source": [
    "# Networking\n",
    "\n",
    "In order to get some practice with networking, we will use a tool that allows you to trace the route of packets through the internet. Using this tool, you can select a website to communicate with, then send a communication (ping) through the network to talk to this website, then trace the path of the response from the website, as it navigates through routers all over the world.\n",
    "\n",
    "As you may know, many people and organizations do not like for their data to be tracked as it moves around the web, so for many of the websites you put into this tool, the path will be blocked by a firewall (which prevents the signals traceroute needs to trace the route).\n",
    "\n",
    "Each time you use the tool to answer a question below, please copy and paste the output so you can reference it later."
   ]
  },
  {
   "cell_type": "markdown",
   "metadata": {
    "deletable": false,
    "editable": false,
    "nbgrader": {
     "cell_type": "markdown",
     "checksum": "ec38f2f9b06f5b5114a85143d0913096",
     "grade": false,
     "grade_id": "cell-8986c1ac667c5927",
     "locked": true,
     "schema_version": 3,
     "solution": false,
     "task": false
    }
   },
   "source": [
    "**Q5** Please use the link below to determine your IP address and other information that is available at your current location. What if you use a different web browser or \"private browsing mode\"? If you can, please also check the IP address of another device (e.g. your phone), which you can do by googling \"what's my IP address.\"\n",
    "\n",
    "https://www.slac.stanford.edu/cgi-bin/nph-traceroute.pl"
   ]
  },
  {
   "cell_type": "markdown",
   "metadata": {
    "deletable": false,
    "nbgrader": {
     "cell_type": "markdown",
     "checksum": "3b27974054ea7fe7ae35c2bfe7e2f06a",
     "grade": true,
     "grade_id": "cell-520d303355c70d17",
     "locked": false,
     "points": 1,
     "schema_version": 3,
     "solution": true,
     "task": false
    }
   },
   "source": [
    "YOUR ANSWER HERE"
   ]
  },
  {
   "cell_type": "markdown",
   "metadata": {
    "deletable": false,
    "editable": false,
    "nbgrader": {
     "cell_type": "markdown",
     "checksum": "dbcd0e28b5873712789313ed63619993",
     "grade": false,
     "grade_id": "cell-28703a9248f2f074",
     "locked": true,
     "schema_version": 3,
     "solution": false,
     "task": false
    }
   },
   "source": [
    "**Q6** Using the same link, click \"Yes\" to tell the website you do want to ping the Stanford network. Please write down three things you learned from the location information in the pathway. Do you think a LAN was involved?"
   ]
  },
  {
   "cell_type": "markdown",
   "metadata": {
    "deletable": false,
    "nbgrader": {
     "cell_type": "markdown",
     "checksum": "45fd897af3ae3f067134a1330ea759a2",
     "grade": true,
     "grade_id": "cell-928601083cb80dc3",
     "locked": false,
     "points": 1,
     "schema_version": 3,
     "solution": true,
     "task": false
    }
   },
   "source": [
    "YOUR ANSWER HERE"
   ]
  },
  {
   "cell_type": "markdown",
   "metadata": {
    "deletable": false,
    "editable": false,
    "nbgrader": {
     "cell_type": "markdown",
     "checksum": "c357ba6a87d7226fdf6b0c198a0c73d4",
     "grade": false,
     "grade_id": "cell-b8b5a6d392e294c9",
     "locked": true,
     "schema_version": 3,
     "solution": false,
     "task": false
    }
   },
   "source": [
    "**Q7** Please copy and paste the pathway you got from the previous problem, then repeat the process to obtain another pathway. Are the two pathways exactly the same? Explain"
   ]
  },
  {
   "cell_type": "markdown",
   "metadata": {
    "deletable": false,
    "nbgrader": {
     "cell_type": "markdown",
     "checksum": "f417ca6a86ed1b43ccf3ac601e4c29e7",
     "grade": true,
     "grade_id": "cell-16ab5b390c344f82",
     "locked": false,
     "points": 1,
     "schema_version": 3,
     "solution": true,
     "task": false
    }
   },
   "source": [
    "YOUR ANSWER HERE"
   ]
  },
  {
   "cell_type": "markdown",
   "metadata": {
    "deletable": false,
    "editable": false,
    "nbgrader": {
     "cell_type": "markdown",
     "checksum": "805ea35ac3d7ce4d9a0a633ac2a90855",
     "grade": false,
     "grade_id": "cell-5a44a7e1cb34c4b8",
     "locked": true,
     "schema_version": 3,
     "solution": false,
     "task": false
    }
   },
   "source": [
    "**Q8** Now, using the same tool, please type in \"personal.denison.edu\" and report what you learned from the pathway. What are the endpoints of the pathway? "
   ]
  },
  {
   "cell_type": "markdown",
   "metadata": {
    "deletable": false,
    "nbgrader": {
     "cell_type": "markdown",
     "checksum": "fb1cf7b6cfa830fe5ac767275c2135cc",
     "grade": true,
     "grade_id": "cell-bd377dbbf1808802",
     "locked": false,
     "points": 1,
     "schema_version": 3,
     "solution": true,
     "task": false
    }
   },
   "source": [
    "YOUR ANSWER HERE"
   ]
  },
  {
   "cell_type": "markdown",
   "metadata": {
    "deletable": false,
    "editable": false,
    "nbgrader": {
     "cell_type": "markdown",
     "checksum": "22d34a12d5215d6356cde7c3de25e006",
     "grade": false,
     "grade_id": "cell-0753c3419649badf",
     "locked": true,
     "schema_version": 3,
     "solution": false,
     "task": false
    }
   },
   "source": [
    "**Q9** Now, using the same tool, please type in \"www.whitehouse.gov\" and report what you learned from the pathway. Do you think the traceroute got all the way to the White House servers? Justify your answer."
   ]
  },
  {
   "cell_type": "markdown",
   "metadata": {
    "deletable": false,
    "nbgrader": {
     "cell_type": "markdown",
     "checksum": "79f5a93c9a321ec916c3da667e510d7c",
     "grade": true,
     "grade_id": "cell-0f384bb5ba33fb17",
     "locked": false,
     "points": 1,
     "schema_version": 3,
     "solution": true,
     "task": false
    }
   },
   "source": [
    "YOUR ANSWER HERE"
   ]
  },
  {
   "cell_type": "markdown",
   "metadata": {
    "deletable": false,
    "editable": false,
    "nbgrader": {
     "cell_type": "markdown",
     "checksum": "93a78a9644b3da5165eebaf6881ce499",
     "grade": false,
     "grade_id": "cell-dc99562fb8d9cb15",
     "locked": true,
     "schema_version": 3,
     "solution": false,
     "task": false
    }
   },
   "source": [
    "**Q10** Now try the same experiments using this link:\n",
    "\n",
    "https://www.net.princeton.edu/traceroute.html\n",
    "\n",
    "For example, when going to Denison, what locations does the tracer go through? Can it make it to the White House? What if you give it the Stanford IP address?"
   ]
  },
  {
   "cell_type": "markdown",
   "metadata": {
    "deletable": false,
    "nbgrader": {
     "cell_type": "markdown",
     "checksum": "d3bfeba1b4635a05ec79ce247f87d559",
     "grade": true,
     "grade_id": "cell-02d38ab216b1b641",
     "locked": false,
     "points": 1,
     "schema_version": 3,
     "solution": true,
     "task": false
    }
   },
   "source": [
    "YOUR ANSWER HERE"
   ]
  },
  {
   "cell_type": "markdown",
   "metadata": {
    "deletable": false,
    "editable": false,
    "nbgrader": {
     "cell_type": "markdown",
     "checksum": "3ea241631856577437c52b8e19afd61d",
     "grade": false,
     "grade_id": "cell-52a722e42106ba3e",
     "locked": true,
     "schema_version": 3,
     "solution": false,
     "task": false
    }
   },
   "source": [
    "**Q11** Select one of the intermediate IP addresses from any of your tests above (we know that the intermediate IP addresses did not kill traceroute with a firewall). Then put that IP address into this tool and describe what you learned:\n",
    "\n",
    "https://gsuite.tools/traceroute\n",
    "\n",
    "For fun, try to make a path that goes through five countries. You may need to use Google to learn IP addresses for some remote places."
   ]
  },
  {
   "cell_type": "markdown",
   "metadata": {
    "deletable": false,
    "nbgrader": {
     "cell_type": "markdown",
     "checksum": "25f9f3c10a80f8e9f38032f18c3370ab",
     "grade": true,
     "grade_id": "cell-3c1003cc8fd89220",
     "locked": false,
     "points": 1,
     "schema_version": 3,
     "solution": true,
     "task": false
    }
   },
   "source": [
    "YOUR ANSWER HERE"
   ]
  }
 ],
 "metadata": {
  "kernelspec": {
   "display_name": "Python 3",
   "language": "python",
   "name": "python3"
  },
  "language_info": {
   "codemirror_mode": {
    "name": "ipython",
    "version": 3
   },
   "file_extension": ".py",
   "mimetype": "text/x-python",
   "name": "python",
   "nbconvert_exporter": "python",
   "pygments_lexer": "ipython3",
   "version": "3.7.6"
  }
 },
 "nbformat": 4,
 "nbformat_minor": 2
}
