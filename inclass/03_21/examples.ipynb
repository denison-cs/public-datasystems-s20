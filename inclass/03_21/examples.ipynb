{
 "cells": [
  {
   "cell_type": "markdown",
   "metadata": {},
   "source": [
    "Before you turn this problem in, make sure everything runs as expected. First, **restart the kernel** (in the menubar, select Kernel$\\rightarrow$Restart) and then **run all cells** (in the menubar, select Cell$\\rightarrow$Run All).\n",
    "\n",
    "Make sure you fill in any place that says `YOUR CODE HERE` or \"YOUR ANSWER HERE\", as well as your name and collaborators below:"
   ]
  },
  {
   "cell_type": "code",
   "execution_count": null,
   "metadata": {},
   "outputs": [],
   "source": [
    "NAME = \"\"\n",
    "COLLABORATORS = \"\""
   ]
  },
  {
   "cell_type": "markdown",
   "metadata": {},
   "source": [
    "---"
   ]
  },
  {
   "cell_type": "code",
   "execution_count": null,
   "metadata": {},
   "outputs": [],
   "source": [
    "import os\n",
    "import os.path\n",
    "import io\n",
    "\n",
    "import pandas as pd\n",
    "import json\n",
    "from lxml import etree\n",
    "\n",
    "import requests"
   ]
  },
  {
   "cell_type": "markdown",
   "metadata": {},
   "source": [
    "## Acquiring From the Network"
   ]
  },
  {
   "cell_type": "code",
   "execution_count": null,
   "metadata": {},
   "outputs": [],
   "source": [
    "protocol = 'https'\n",
    "host = 'tcbressoud.github.io'\n",
    "buildURL = lambda resource: \"{}://{}/datasystems-bookweb/data/{}\".format(protocol, host, resource)"
   ]
  },
  {
   "cell_type": "markdown",
   "metadata": {},
   "source": [
    "### CSV"
   ]
  },
  {
   "cell_type": "markdown",
   "metadata": {},
   "source": [
    "Notes:\n",
    "\n",
    "- requests gives two views on the body of a request\n",
    "    - `response.content`: the raw bytes version of the data\n",
    "    - `response.text`: the translation of the raw bytes into a sequence of characters.  This uses the **assumed/inferred** encoding, which can be found in `response.encoding`."
   ]
  },
  {
   "cell_type": "code",
   "execution_count": null,
   "metadata": {},
   "outputs": [],
   "source": [
    "csvurl = buildURL(\"ind2016.csv\")\n",
    "response = requests.get(csvurl)\n",
    "if response.status_code != 200:\n",
    "    print(\"Error acquiring file\")"
   ]
  },
  {
   "cell_type": "code",
   "execution_count": null,
   "metadata": {},
   "outputs": [],
   "source": [
    "response.encoding"
   ]
  },
  {
   "cell_type": "markdown",
   "metadata": {},
   "source": [
    "If we look at response.headers['Content-Type'], we get `'text/csv; charset=utf-8'`"
   ]
  },
  {
   "cell_type": "code",
   "execution_count": null,
   "metadata": {},
   "outputs": [],
   "source": [
    "response.headers['Content-Type']"
   ]
  },
  {
   "cell_type": "code",
   "execution_count": null,
   "metadata": {},
   "outputs": [],
   "source": [
    "print(response.text)"
   ]
  },
  {
   "cell_type": "markdown",
   "metadata": {},
   "source": [
    "Now we have two (correct) ways of getting at the data, both as binary and as string text.\n",
    "\n",
    "Our goal is to take the CSV and use it the same way we use file-based CSV data.\n",
    "\n",
    "The **key** is two object constructors available in the `io` module.  The basic purpose of both of these are the same: to take an in-memory structure and to make it operate the same way that a file does.\n",
    "\n",
    "- `StringIO`: takes a string buffer and returns an object that operates in the same way as a file object returned from an `open()` call.  Like a file object, this object has a notion of a *current location* that advances as we read (using `read()`, `readline()`, etc.) through the characters of the object.\n",
    "- `BytesIO`: takes a bytes buffer and returns an object that operates in the same way as a file object returned from an `open()` call and opened in binary mode. Like a file object, this object has a notion of a *current location* that advances as we perform `read()` operations over the bytes of the object."
   ]
  },
  {
   "cell_type": "code",
   "execution_count": null,
   "metadata": {},
   "outputs": [],
   "source": [
    "fileLikeObj = io.StringIO(response.text)\n",
    "\n",
    "headerList = fileLikeObj.readline().strip().split(',')\n",
    "LoL = []\n",
    "for line in fileLikeObj:\n",
    "    rowlist = line.strip().split(',')\n",
    "    LoL.append(rowlist)\n",
    "\n",
    "df = pd.DataFrame(LoL, columns=headerList)\n",
    "df = df.astype({'pop': float, 'gdp': float, 'gdp': float, 'life': float, 'cell': float})\n",
    "df\n",
    "    "
   ]
  },
  {
   "cell_type": "markdown",
   "metadata": {},
   "source": [
    "In `pandas`, using the `read_csv()` data frame constructor, the first argument can be a file object or a file-like object.  So we can create the file-like object from the string version of the response, and use that as the first argument, with the rest of the benefit in parameter options that come from using `read_csv()`"
   ]
  },
  {
   "cell_type": "code",
   "execution_count": null,
   "metadata": {},
   "outputs": [],
   "source": [
    "fileLikeObj = io.StringIO(response.text)\n",
    "df = pd.read_csv(fileLikeObj, index_col='code')\n",
    "df"
   ]
  },
  {
   "cell_type": "markdown",
   "metadata": {},
   "source": [
    "Now let us turn to a case where the encoding is UTF-16BE."
   ]
  },
  {
   "cell_type": "code",
   "execution_count": null,
   "metadata": {},
   "outputs": [],
   "source": [
    "csvurl = buildURL(\"ind2016_16.csv\")\n",
    "#csvurl = buildURL(\"topnames_16.csv\")\n",
    "response = requests.get(csvurl)\n",
    "if response.status_code != 200:\n",
    "    print(\"Error acquiring file\")"
   ]
  },
  {
   "cell_type": "markdown",
   "metadata": {},
   "source": [
    "For a web server and the HTTP request, there is little difference between one file and another.  So we would not expect the assumed encoding to be correct:"
   ]
  },
  {
   "cell_type": "code",
   "execution_count": null,
   "metadata": {},
   "outputs": [],
   "source": [
    "response.encoding"
   ]
  },
  {
   "cell_type": "markdown",
   "metadata": {},
   "source": [
    "If we were to look at the decoded version through `response.text`, we see a nonsense string, exactly because the decoding was incorrect."
   ]
  },
  {
   "cell_type": "code",
   "execution_count": null,
   "metadata": {},
   "outputs": [],
   "source": [
    "response.text[:20]"
   ]
  },
  {
   "cell_type": "markdown",
   "metadata": {},
   "source": [
    "We set the enocoding to the proper value, given our knowledge of how this particular resource was encoded, and we then see an appropriate `response.text`:"
   ]
  },
  {
   "cell_type": "code",
   "execution_count": null,
   "metadata": {},
   "outputs": [],
   "source": [
    "response.encoding = 'UTF-16BE'\n",
    "print(response.text)"
   ]
  },
  {
   "cell_type": "markdown",
   "metadata": {},
   "source": [
    "If `response.encoding` is correct, then `response.text` will be a correct string containing the CSV data.  At this point, the *same technique*, where we use the `response.text` string and create a file-like object, and can do the same things we did in Chapter 2 and with pandas:"
   ]
  },
  {
   "cell_type": "code",
   "execution_count": null,
   "metadata": {},
   "outputs": [],
   "source": [
    "fileLikeObj = io.StringIO(response.text)\n",
    "df = pd.read_csv(fileLikeObj, index_col='code')\n",
    "df"
   ]
  },
  {
   "cell_type": "markdown",
   "metadata": {},
   "source": [
    "The changes in `response.encoding` and resultant difference in `response.text` did **not** change the underlying bytes data, available in `response.content`.  While it is more complex, particularly across non-standard encoding, to use the bytes data and direct file-type operations to construct a data frame, the pandas `read_csv()` can take its input from a file-like object containing bytes data, and can perform the decoding itself.\n",
    "\n",
    "To demonstrate this across our two different encodings, we GET both the UTF-8 encoded CSV file and the UTF-16BE encoded CSV file, and use different response objects for the two results:"
   ]
  },
  {
   "cell_type": "code",
   "execution_count": null,
   "metadata": {},
   "outputs": [],
   "source": [
    "csvurl1 = buildURL(\"ind2016.csv\")\n",
    "response1 = requests.get(csvurl1)\n",
    "if response1.status_code != 200:\n",
    "    print(\"Error acquiring file\")\n",
    "    \n",
    "csvurl2 = buildURL(\"ind2016_16.csv\")\n",
    "response2 = requests.get(csvurl2)\n",
    "if response2.status_code != 200:\n",
    "    print(\"Error acquiring file\")"
   ]
  },
  {
   "cell_type": "markdown",
   "metadata": {},
   "source": [
    "When we are dealing with the underlying bytes data, and we want/need a file-like object, we use `io.BytesIO()` to construct the file-like object from the bytes in `response1.content` and `response2.content`.  We then pass the file-like objects to `read_csv()` and specify the proper encoding:"
   ]
  },
  {
   "cell_type": "code",
   "execution_count": null,
   "metadata": {},
   "outputs": [],
   "source": [
    "fileLikeObj1 = io.BytesIO(response1.content)\n",
    "fileLikeObj2 = io.BytesIO(response2.content)\n",
    "df1 = pd.read_csv(fileLikeObj1, encoding='UTF-8', index_col='code')\n",
    "df2 = pd.read_csv(fileLikeObj2, encoding='UTF-16BE', index_col='code')"
   ]
  },
  {
   "cell_type": "code",
   "execution_count": null,
   "metadata": {},
   "outputs": [],
   "source": [
    "df1"
   ]
  },
  {
   "cell_type": "code",
   "execution_count": null,
   "metadata": {},
   "outputs": [],
   "source": [
    "df2"
   ]
  },
  {
   "cell_type": "markdown",
   "metadata": {},
   "source": [
    "## JSON\n",
    "\n",
    "In common to the following examples, we obtain from the web server files with JSON as the body data.  In `response1`, we have UTF-8 encoded data, in `response2` we have UTF-16BE encoded data."
   ]
  },
  {
   "cell_type": "code",
   "execution_count": null,
   "metadata": {},
   "outputs": [],
   "source": [
    "json_url1 = buildURL(\"ind0.json\")\n",
    "response1 = requests.get(json_url1)\n",
    "if response1.status_code != 200:\n",
    "    print(\"Error acquiring file\")\n",
    "    \n",
    "json_url2 = buildURL(\"ind0_16.json\")\n",
    "response2 = requests.get(json_url2)\n",
    "if response2.status_code != 200:\n",
    "    print(\"Error acquiring file\")"
   ]
  },
  {
   "cell_type": "markdown",
   "metadata": {},
   "source": [
    "### JSON From String in Response"
   ]
  },
  {
   "cell_type": "markdown",
   "metadata": {},
   "source": [
    "In common with examples above, when we want to use the `.text` (string) version of the response, we **have** to get the encoding right.  We do this for both `response1` and `response2`, at which point the character string version of the two responses is valid, and we can use a variety of techniques to go from a string into a JSON-based data structure.  Since the latter steps are the same after we get the encoding right, we just run through examples using `response1.text`."
   ]
  },
  {
   "cell_type": "code",
   "execution_count": null,
   "metadata": {},
   "outputs": [],
   "source": [
    "response1.encoding = 'UTF-8'\n",
    "response1.text"
   ]
  },
  {
   "cell_type": "code",
   "execution_count": null,
   "metadata": {},
   "outputs": [],
   "source": [
    "response2.encoding = 'UTF-16BE'\n",
    "response2.text"
   ]
  },
  {
   "cell_type": "markdown",
   "metadata": {},
   "source": [
    "#### Option 1: Use `json.loads()`, which takes a string and returns the in-memory data structure:"
   ]
  },
  {
   "cell_type": "code",
   "execution_count": null,
   "metadata": {},
   "outputs": [],
   "source": [
    "ds1 = json.loads(response1.text)\n",
    "ds1"
   ]
  },
  {
   "cell_type": "markdown",
   "metadata": {},
   "source": [
    "#### Option 2: Create a file-like object, and then use `json.load()`"
   ]
  },
  {
   "cell_type": "code",
   "execution_count": null,
   "metadata": {},
   "outputs": [],
   "source": [
    "fileLikeObj1 = io.StringIO(response1.text)\n",
    "ds1 = json.load(fileLikeObj1)\n",
    "ds1"
   ]
  },
  {
   "cell_type": "markdown",
   "metadata": {},
   "source": [
    "#### Option 3: Use `requests` `.json()` method of a response object"
   ]
  },
  {
   "cell_type": "code",
   "execution_count": null,
   "metadata": {},
   "outputs": [],
   "source": [
    "ds1 = response1.json()\n",
    "ds1"
   ]
  },
  {
   "cell_type": "markdown",
   "metadata": {},
   "source": []
  },
  {
   "cell_type": "code",
   "execution_count": null,
   "metadata": {},
   "outputs": [],
   "source": [
    "ds1 = json.loads(response1.content)\n",
    "ds1"
   ]
  },
  {
   "cell_type": "markdown",
   "metadata": {},
   "source": [
    "### JSON From Bytes Data in Response Body\n",
    "\n",
    "Because of its alternate encoding resulting in a different set of bytes for the sequence of characters, we use the bytes data of response2 in our examples demonstrating bytes data conversion into JSON-derived data structure.\n",
    "\n",
    "Turns out the the RFC standard for JSON explicitly allows all three of UTF-8, UTF-16, and UTF-32 to be allowed in data formatted as JSON.  This means that the `json` module will recognize the bytes data directly, as if it were already a decoded string"
   ]
  },
  {
   "cell_type": "markdown",
   "metadata": {},
   "source": [
    "#### Option 1: Use `json.loads()`, which takes bytes data in UTF-8, UTF-16, or UTF-32 and returns the in-memory data structure:"
   ]
  },
  {
   "cell_type": "code",
   "execution_count": null,
   "metadata": {},
   "outputs": [],
   "source": [
    "ds2 = json.loads(response2.content)\n",
    "ds2"
   ]
  },
  {
   "cell_type": "markdown",
   "metadata": {},
   "source": [
    "#### Option 2: Create a bytes file-like object, and then use `json.load()`"
   ]
  },
  {
   "cell_type": "code",
   "execution_count": null,
   "metadata": {},
   "outputs": [],
   "source": [
    "fileLikeObj2 = io.BytesIO(response2.content)\n",
    "ds2 = json.load(fileLikeObj2)\n",
    "ds2"
   ]
  }
 ],
 "metadata": {
  "kernelspec": {
   "display_name": "Python 3",
   "language": "python",
   "name": "python3"
  },
  "language_info": {
   "codemirror_mode": {
    "name": "ipython",
    "version": 3
   },
   "file_extension": ".py",
   "mimetype": "text/x-python",
   "name": "python",
   "nbconvert_exporter": "python",
   "pygments_lexer": "ipython3",
   "version": "3.7.6"
  }
 },
 "nbformat": 4,
 "nbformat_minor": 4
}
