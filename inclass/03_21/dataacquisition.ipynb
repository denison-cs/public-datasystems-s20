{
 "cells": [
  {
   "cell_type": "markdown",
   "metadata": {},
   "source": [
    "Before you turn this problem in, make sure everything runs as expected. First, **restart the kernel** (in the menubar, select Kernel$\\rightarrow$Restart) and then **run all cells** (in the menubar, select Cell$\\rightarrow$Run All).\n",
    "\n",
    "Make sure you fill in any place that says `YOUR CODE HERE` or \"YOUR ANSWER HERE\", as well as your name and collaborators below:"
   ]
  },
  {
   "cell_type": "code",
   "execution_count": null,
   "metadata": {},
   "outputs": [],
   "source": [
    "NAME = \"\"\n",
    "COLLABORATORS = \"\""
   ]
  },
  {
   "cell_type": "markdown",
   "metadata": {},
   "source": [
    "---"
   ]
  },
  {
   "cell_type": "code",
   "execution_count": null,
   "metadata": {},
   "outputs": [],
   "source": [
    "import io\n",
    "import requests\n",
    "import importlib\n",
    "import pandas as pd\n",
    "\n",
    "import mysocket as sock\n",
    "\n",
    "protocol = \"http\"\n",
    "host = \"hadoop.mathsci.denison.edu\"\n",
    "buildURL = lambda s: \"{}://{}{}\".format(protocol, host, s)\n",
    "\n",
    "resource0 = \"/bookweb/data/mystery0.dat\"\n",
    "resource1 = \"/bookweb/data/mystery.dat\"\n",
    "\n",
    "url0 = buildURL(resource0)\n",
    "url1 = buildURL(resource1)\n",
    "\n",
    "url0alt = \"https://tcbressoud.github.io/datasystems-bookweb/data/mystery0.dat\"\n",
    "url1alt = \"https://tcbressoud.github.io/datasystems-bookweb/data/mystery.dat\"\n",
    "\n",
    "lines = [\n",
    "    \"GET {} HTTP/1.1\\r\\n\",\n",
    "    \"Host: {}\\r\\n\",\n",
    "    \"Connection: close\\r\\n\",\n",
    "    \"\\r\\n\"\n",
    "]\n",
    "template = \"\".join(lines)\n",
    "\n",
    "req0 = template.format(resource0,host)\n",
    "req1 = template.format(resource1,host)"
   ]
  },
  {
   "cell_type": "markdown",
   "metadata": {},
   "source": [
    "**Q0** Examine the `req0` request and pick out the HTTP method, the host, the resource path, writing your observations in the Markdown cell two cells hence.  Is there anything that tells you **for certain** whether the request is for a text resource, or for a binary resource?"
   ]
  },
  {
   "cell_type": "code",
   "execution_count": null,
   "metadata": {},
   "outputs": [],
   "source": [
    "# Code cell for experimentation\n",
    "\n"
   ]
  },
  {
   "cell_type": "markdown",
   "metadata": {
    "deletable": false,
    "nbgrader": {
     "cell_type": "markdown",
     "checksum": "3a43f16dfb91edc6b8fd5cd5e8800d45",
     "grade": true,
     "grade_id": "cell-0bace6f4724236ea",
     "locked": false,
     "points": 0,
     "schema_version": 3,
     "solution": true,
     "task": false
    }
   },
   "source": [
    "YOUR ANSWER HERE"
   ]
  },
  {
   "cell_type": "markdown",
   "metadata": {},
   "source": [
    "**Q1** Using the `mysocket` library, (and over a VPN link to the Dension network), use the following cell to make a connection to `host` on port 80, and send the (already composed) `req0`."
   ]
  },
  {
   "cell_type": "code",
   "execution_count": null,
   "metadata": {
    "deletable": false,
    "nbgrader": {
     "cell_type": "code",
     "checksum": "14cb00453e04bae848330e41c8dea520",
     "grade": true,
     "grade_id": "cell-70f8731603083672",
     "locked": false,
     "points": 0,
     "schema_version": 3,
     "solution": true,
     "task": false
    }
   },
   "outputs": [],
   "source": [
    "# YOUR CODE HERE\n",
    "raise NotImplementedError()"
   ]
  },
  {
   "cell_type": "markdown",
   "metadata": {},
   "source": [
    "**Q2 (a. and b.)** Assign the result of `sock.receiveThruEmptyLine()` to `prefix0`, passing your connection as the sole argument, then, assign to `body_size` the integer value of `Content-length` specified in the prefix."
   ]
  },
  {
   "cell_type": "code",
   "execution_count": null,
   "metadata": {
    "deletable": false,
    "nbgrader": {
     "cell_type": "code",
     "checksum": "91dac3ff8e24365a62eb474e41178dd1",
     "grade": true,
     "grade_id": "cell-73b9a6f58dd8d7d4",
     "locked": false,
     "points": 0,
     "schema_version": 3,
     "solution": true,
     "task": false
    }
   },
   "outputs": [],
   "source": [
    "# YOUR CODE HERE\n",
    "raise NotImplementedError()\n",
    "prefix0"
   ]
  },
  {
   "cell_type": "code",
   "execution_count": null,
   "metadata": {
    "deletable": false,
    "nbgrader": {
     "cell_type": "code",
     "checksum": "a0e829090cdba94e87e2283be4674cd7",
     "grade": true,
     "grade_id": "cell-57d3c7f4f88aa9be",
     "locked": false,
     "points": 0,
     "schema_version": 3,
     "solution": true,
     "task": false
    }
   },
   "outputs": [],
   "source": [
    "# YOUR CODE HERE\n",
    "raise NotImplementedError()"
   ]
  },
  {
   "cell_type": "markdown",
   "metadata": {},
   "source": [
    "**Q3** Assign to `body0` the result of reading the body of the HTTP response.  You can use `sock.receiveBySize()`, whose required arguments are, in order, the connection and the number of bytes, and whose third named argument `encoding=` should be set to `None` to omit any decoding during the receive. Then `close` the connection.\n",
    "\n",
    "Use the `.hex()` method on `body0` to get a hexadecimal string representation of the actual bytes in the body.\n",
    "\n",
    "Argue to yourself whether the contents of the body are binary data, or textual data under some encoding.\n",
    "\n",
    "Note: if you mess up because you received the prefix and body from the socket once, closed the socket, and then tried to receive again, you will have to go  back to your `makeConnection()` above, to re-execute a valid client request-response sequence."
   ]
  },
  {
   "cell_type": "code",
   "execution_count": null,
   "metadata": {
    "deletable": false,
    "nbgrader": {
     "cell_type": "code",
     "checksum": "82e9546825133068b30216d41b86ba42",
     "grade": true,
     "grade_id": "cell-5905adaa6ee2b2ec",
     "locked": false,
     "points": 0,
     "schema_version": 3,
     "solution": true,
     "task": false
    }
   },
   "outputs": [],
   "source": [
    "# YOUR CODE HERE\n",
    "raise NotImplementedError()\n",
    "body0.hex()"
   ]
  },
  {
   "cell_type": "markdown",
   "metadata": {},
   "source": [
    "**Q4** Use the `requests` module to perform a GET on `url0`, which contains uses the same protocol, host, and resource path we just used in our `sockets` example.  Assign the result to `resp0` and, from that response, assign to `body2` the **raw bytes** body of the response."
   ]
  },
  {
   "cell_type": "code",
   "execution_count": null,
   "metadata": {
    "deletable": false,
    "nbgrader": {
     "cell_type": "code",
     "checksum": "cea8a5f7d21536f6751d089c646af5a5",
     "grade": true,
     "grade_id": "cell-f1e95b88f808db58",
     "locked": false,
     "points": 0,
     "schema_version": 3,
     "solution": true,
     "task": false
    }
   },
   "outputs": [],
   "source": [
    "# YOUR CODE HERE\n",
    "raise NotImplementedError()\n",
    "body2.hex()"
   ]
  },
  {
   "cell_type": "markdown",
   "metadata": {},
   "source": [
    "**Q5** Invoke the `decode()` method, with no arguments, on either `body0` or `body2` and assign to `body`. Does the string decoded from the bytes object **only** contain printable (i.e. from the keyboard) characters?"
   ]
  },
  {
   "cell_type": "code",
   "execution_count": null,
   "metadata": {
    "deletable": false,
    "nbgrader": {
     "cell_type": "code",
     "checksum": "c5611c21c4d62125e424951d71e41f8e",
     "grade": true,
     "grade_id": "cell-fd3a252a4692dcb5",
     "locked": false,
     "points": 0,
     "schema_version": 3,
     "solution": true,
     "task": false
    }
   },
   "outputs": [],
   "source": [
    "# YOUR CODE HERE\n",
    "raise NotImplementedError()\n",
    "body"
   ]
  },
  {
   "cell_type": "markdown",
   "metadata": {},
   "source": [
    "**Q5** Now invoke the `decode()` method, with the `encoding=` named argument set to `'UTF-16BE'`, assign to `body` and print the result:"
   ]
  },
  {
   "cell_type": "code",
   "execution_count": null,
   "metadata": {
    "deletable": false,
    "nbgrader": {
     "cell_type": "code",
     "checksum": "fd94db067fa9ff1152e6b870c136298f",
     "grade": true,
     "grade_id": "cell-5ed790efdad6b078",
     "locked": false,
     "points": 0,
     "schema_version": 3,
     "solution": true,
     "task": false
    }
   },
   "outputs": [],
   "source": [
    "# YOUR CODE HERE\n",
    "raise NotImplementedError()\n",
    "body"
   ]
  },
  {
   "cell_type": "markdown",
   "metadata": {},
   "source": [
    "**Q6** Accomplish the same result by assigning `'UTF-16BE'` to the `encoding` attribute of `resp0` and then print `resp0.text`"
   ]
  },
  {
   "cell_type": "code",
   "execution_count": null,
   "metadata": {
    "deletable": false,
    "nbgrader": {
     "cell_type": "code",
     "checksum": "b0425902e67813b943c59de41670b18f",
     "grade": true,
     "grade_id": "cell-59a0f93b62bf85b8",
     "locked": false,
     "points": 0,
     "schema_version": 3,
     "solution": true,
     "task": false
    }
   },
   "outputs": [],
   "source": [
    "# YOUR CODE HERE\n",
    "raise NotImplementedError()\n"
   ]
  },
  {
   "cell_type": "markdown",
   "metadata": {},
   "source": [
    "**Q7** The data at `url1` is also encoded in `'UTF-16BE'`.  Write `requests` module code to get the resource at that URL, set its encoding, and the assign to `body` the decoded string value of the body result."
   ]
  },
  {
   "cell_type": "code",
   "execution_count": null,
   "metadata": {
    "deletable": false,
    "nbgrader": {
     "cell_type": "code",
     "checksum": "f56e41e279a35d64b7d9725f699e53bd",
     "grade": true,
     "grade_id": "cell-dfdf6c4393561e7d",
     "locked": false,
     "points": 0,
     "schema_version": 3,
     "solution": true,
     "task": false
    }
   },
   "outputs": [],
   "source": [
    "# YOUR CODE HERE\n",
    "raise NotImplementedError()\n",
    "print(body[:592])"
   ]
  }
 ],
 "metadata": {
  "kernelspec": {
   "display_name": "Python 3",
   "language": "python",
   "name": "python3"
  },
  "language_info": {
   "codemirror_mode": {
    "name": "ipython",
    "version": 3
   },
   "file_extension": ".py",
   "mimetype": "text/x-python",
   "name": "python",
   "nbconvert_exporter": "python",
   "pygments_lexer": "ipython3",
   "version": "3.7.6"
  }
 },
 "nbformat": 4,
 "nbformat_minor": 4
}
