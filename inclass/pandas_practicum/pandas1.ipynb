{
 "cells": [
  {
   "cell_type": "markdown",
   "metadata": {},
   "source": [
    "Before you turn this problem in, make sure everything runs as expected. First, **restart the kernel** (in the menubar, select Kernel$\\rightarrow$Restart) and then **run all cells** (in the menubar, select Cell$\\rightarrow$Run All).\n",
    "\n",
    "Make sure you fill in any place that says `YOUR CODE HERE` or \"YOUR ANSWER HERE\", as well as your name and collaborators below:"
   ]
  },
  {
   "cell_type": "code",
   "execution_count": null,
   "metadata": {},
   "outputs": [],
   "source": [
    "NAME = \"\"\n",
    "COLLABORATORS = \"\""
   ]
  },
  {
   "cell_type": "markdown",
   "metadata": {},
   "source": [
    "---"
   ]
  },
  {
   "cell_type": "markdown",
   "metadata": {},
   "source": [
    "# `pandas` Practicum"
   ]
  },
  {
   "cell_type": "markdown",
   "metadata": {},
   "source": [
    "## DataFrame Creation"
   ]
  },
  {
   "cell_type": "code",
   "execution_count": null,
   "metadata": {},
   "outputs": [],
   "source": [
    "import pandas as pd\n",
    "import os\n",
    "import os.path\n",
    "\n",
    "datadir = \"publicdata\""
   ]
  },
  {
   "cell_type": "markdown",
   "metadata": {},
   "source": [
    "**Ex1:** The cell that follows defines parallel lists with columns for the country names, the drives-right logical, and the cpc, the number of motor vehicles per 1000 people in the corresponding country.\n",
    "\n",
    "In the successor cell, write a function \n",
    "```\n",
    "createCars(names, drives_right, cars_per_thousand)\n",
    "```\n",
    "to create a dictionary from the parallel lists and then use the dictionary to build a pandas dataframe and return the dataframe."
   ]
  },
  {
   "cell_type": "code",
   "execution_count": null,
   "metadata": {},
   "outputs": [],
   "source": [
    "names = ['United States', 'Australia', 'Japan', 'India', 'Russia', 'Morocco', 'Egypt']\n",
    "dr =  [True, False, False, False, True, True, True]\n",
    "cpc = [809, 731, 588, 18, 200, 70, 45]"
   ]
  },
  {
   "cell_type": "code",
   "execution_count": null,
   "metadata": {
    "deletable": false,
    "nbgrader": {
     "cell_type": "code",
     "checksum": "cf9087c904c4ad9c9254c3baa370ed9f",
     "grade": true,
     "grade_id": "cell-21935205b8053b58",
     "locked": false,
     "points": 2,
     "schema_version": 3,
     "solution": true
    }
   },
   "outputs": [],
   "source": [
    "# YOUR CODE HERE\n",
    "raise NotImplementedError()\n",
    "\n",
    "cars = createCars(names, dr, cpc)\n",
    "cars"
   ]
  },
  {
   "cell_type": "markdown",
   "metadata": {},
   "source": [
    "**Ex2:** Rewrite your `createCars` function from above to include a new last parameter with the names of the row labels and use those to set the index for the newly created dataframe."
   ]
  },
  {
   "cell_type": "code",
   "execution_count": null,
   "metadata": {
    "deletable": false,
    "nbgrader": {
     "cell_type": "code",
     "checksum": "86f4614f76463053f5301c449704f204",
     "grade": true,
     "grade_id": "cell-f613daad8b59cf79",
     "locked": false,
     "points": 2,
     "schema_version": 3,
     "solution": true
    }
   },
   "outputs": [],
   "source": [
    "row_labels = ['US', 'AUS', 'JAP', 'IN', 'RU', 'MOR', 'EG']\n",
    "\n",
    "# YOUR CODE HERE\n",
    "raise NotImplementedError()\n",
    "\n",
    "cars = createCars(names, dr, cpc, row_labels)\n",
    "cars"
   ]
  },
  {
   "cell_type": "markdown",
   "metadata": {},
   "source": [
    "**Ex3:** Use the `pandas` function `read_csv()` to retrieve the data from the data directory's `'cars.csv'` file and build a dataframe named `cars`."
   ]
  },
  {
   "cell_type": "code",
   "execution_count": null,
   "metadata": {
    "deletable": false,
    "nbgrader": {
     "cell_type": "code",
     "checksum": "b17bd93fe1d4b73a8b41885e29bd0693",
     "grade": true,
     "grade_id": "cell-68ec6bc4914d2363",
     "locked": false,
     "points": 1,
     "schema_version": 3,
     "solution": true
    }
   },
   "outputs": [],
   "source": [
    "# YOUR CODE HERE\n",
    "raise NotImplementedError()\n",
    "\n",
    "cars"
   ]
  },
  {
   "cell_type": "markdown",
   "metadata": {},
   "source": [
    "**Ex4:** Revise your solution from the previous problem to specify which column contains the row labels (index) for the data frame you want to build."
   ]
  },
  {
   "cell_type": "code",
   "execution_count": null,
   "metadata": {
    "deletable": false,
    "nbgrader": {
     "cell_type": "code",
     "checksum": "e21d2d2630d23ad91bebcc72b34c0726",
     "grade": true,
     "grade_id": "cell-5124c64c8925d5df",
     "locked": false,
     "points": 1,
     "schema_version": 3,
     "solution": true
    }
   },
   "outputs": [],
   "source": [
    "# YOUR CODE HERE\n",
    "raise NotImplementedError()\n",
    "\n",
    "# Print out cars\n",
    "cars"
   ]
  },
  {
   "cell_type": "markdown",
   "metadata": {},
   "source": [
    "## DataFrame Access\n",
    "\n",
    "The purpose of the second section is to show some of the basic operations for accessing subsets of the data.  These subsets could include:\n",
    "\n",
    "- **projection**\n",
    "  - single column subset\n",
    "    - as a Series/vector\n",
    "    - as a one column DataFrame (using one-element list within access brackets)\n",
    "  - multiple column subset\n",
    "    - using list within access brackets\n",
    "    - using list as column specfication in `loc`, `iloc`\n",
    "    \n",
    "- **selection**\n",
    "  - single row subset\n",
    "    - as a Series\n",
    "      - use single row specification (only) with `loc`, `iloc`\n",
    "    - as a one row DataFrame\n",
    "      - using one element list for row specification and `loc`, `iloc`\n",
    "  - multiple row subset \n",
    "    - using integer slice notation within access brackets\n",
    "      - does not work for row labels, only integer indices\n",
    "    - using multiple element list for row specification and `loc`, `iloc`\n",
    "  \n",
    "- combining **projection** and **selection**\n",
    "  - use `loc`, `iloc` \n",
    "    - `[<row-spec>, <col-spec>]`\n",
    "  - Single row and single column, can get single (scalar) value\n",
    "  - List or slice gets multiple\n",
    "    - multiple in one dimension but single in other dimension, then we get a Series vector\n",
    "    - multiple in both dimensions gets a dataframe"
   ]
  },
  {
   "cell_type": "markdown",
   "metadata": {},
   "source": [
    "### Projection (subset columns)"
   ]
  },
  {
   "cell_type": "markdown",
   "metadata": {},
   "source": [
    "**Ex1:** Using the `cars` dataframe from the previous section, perform the following projections:"
   ]
  },
  {
   "cell_type": "markdown",
   "metadata": {},
   "source": [
    "**a.** Single column projection of the `country` column as a Series vector."
   ]
  },
  {
   "cell_type": "code",
   "execution_count": null,
   "metadata": {
    "deletable": false,
    "nbgrader": {
     "cell_type": "code",
     "checksum": "25a839edeb55a8dc8ea1a1efeaf22022",
     "grade": true,
     "grade_id": "cell-09179de919b8168d",
     "locked": false,
     "points": 1,
     "schema_version": 3,
     "solution": true
    }
   },
   "outputs": [],
   "source": [
    "# YOUR CODE HERE\n",
    "raise NotImplementedError()"
   ]
  },
  {
   "cell_type": "markdown",
   "metadata": {},
   "source": [
    "**b.** Single column projection of the `country` column yielding a one column DataFrame."
   ]
  },
  {
   "cell_type": "code",
   "execution_count": null,
   "metadata": {
    "deletable": false,
    "nbgrader": {
     "cell_type": "code",
     "checksum": "620784dca6a44abfa6ffdcb34f0d00e6",
     "grade": true,
     "grade_id": "cell-1f4801b5780cc207",
     "locked": false,
     "points": 1,
     "schema_version": 3,
     "solution": true
    }
   },
   "outputs": [],
   "source": [
    "# YOUR CODE HERE\n",
    "raise NotImplementedError()"
   ]
  },
  {
   "cell_type": "markdown",
   "metadata": {},
   "source": [
    "**c.** Two column projection (as a DataFrame) including the `country` and the `drives_right` columns."
   ]
  },
  {
   "cell_type": "code",
   "execution_count": null,
   "metadata": {
    "deletable": false,
    "nbgrader": {
     "cell_type": "code",
     "checksum": "7e217a592cc161d7b725d49bf0e4117f",
     "grade": true,
     "grade_id": "cell-27db6f66e5ad718f",
     "locked": false,
     "points": 1,
     "schema_version": 3,
     "solution": true
    }
   },
   "outputs": [],
   "source": [
    "# YOUR CODE HERE\n",
    "raise NotImplementedError()"
   ]
  },
  {
   "cell_type": "markdown",
   "metadata": {},
   "source": [
    "### Selection (subset rows)"
   ]
  },
  {
   "cell_type": "markdown",
   "metadata": {},
   "source": [
    "**Ex2:** Using the `cars` dataframe from the previous section, perform the following selections of rows using integer indices:"
   ]
  },
  {
   "cell_type": "markdown",
   "metadata": {},
   "source": [
    "**a.** The first 3 rows/observations in the DataFrame"
   ]
  },
  {
   "cell_type": "code",
   "execution_count": null,
   "metadata": {
    "deletable": false,
    "nbgrader": {
     "cell_type": "code",
     "checksum": "2306d7bc5e9b01f04efa80b837c632b8",
     "grade": true,
     "grade_id": "cell-e0e1772025f4d2cc",
     "locked": false,
     "points": 1,
     "schema_version": 3,
     "solution": true
    }
   },
   "outputs": [],
   "source": [
    "# YOUR CODE HERE\n",
    "raise NotImplementedError()"
   ]
  },
  {
   "cell_type": "markdown",
   "metadata": {},
   "source": [
    "**b.** The fourth, fifth, and sixth observations"
   ]
  },
  {
   "cell_type": "code",
   "execution_count": null,
   "metadata": {
    "deletable": false,
    "nbgrader": {
     "cell_type": "code",
     "checksum": "b80bf394514798bff7d9bf910a9647f4",
     "grade": true,
     "grade_id": "cell-2c7bd482985b85e6",
     "locked": false,
     "points": 1,
     "schema_version": 3,
     "solution": true
    }
   },
   "outputs": [],
   "source": [
    "# YOUR CODE HERE\n",
    "raise NotImplementedError()"
   ]
  },
  {
   "cell_type": "markdown",
   "metadata": {},
   "source": [
    "**Ex3:** Using the `cars` dataframe, perform the following selections of rows using `loc` and `iloc`.  For each, use `print` to show the result of the expression, and do **both** the `loc` and the `iloc` version."
   ]
  },
  {
   "cell_type": "markdown",
   "metadata": {},
   "source": [
    "**a.** Select the observation for Japan as a Series."
   ]
  },
  {
   "cell_type": "code",
   "execution_count": null,
   "metadata": {
    "deletable": false,
    "nbgrader": {
     "cell_type": "code",
     "checksum": "94a1a2968079d90d0e06c6c328cb0d12",
     "grade": true,
     "grade_id": "cell-54fe5dc9cb2d7058",
     "locked": false,
     "points": 1,
     "schema_version": 3,
     "solution": true
    }
   },
   "outputs": [],
   "source": [
    "# YOUR CODE HERE\n",
    "raise NotImplementedError()"
   ]
  },
  {
   "cell_type": "markdown",
   "metadata": {},
   "source": [
    "**b.** Select the observations for Australia and Egypt as a DataFrame."
   ]
  },
  {
   "cell_type": "code",
   "execution_count": null,
   "metadata": {
    "deletable": false,
    "nbgrader": {
     "cell_type": "code",
     "checksum": "a8aaa7e9a7a098b94709d31218465ef9",
     "grade": true,
     "grade_id": "cell-163cfe14c69d05ec",
     "locked": false,
     "points": 1,
     "schema_version": 3,
     "solution": true
    }
   },
   "outputs": [],
   "source": [
    "# YOUR CODE HERE\n",
    "raise NotImplementedError()"
   ]
  },
  {
   "cell_type": "markdown",
   "metadata": {},
   "source": [
    "### Combining Selection and Projection"
   ]
  },
  {
   "cell_type": "markdown",
   "metadata": {},
   "source": [
    "**Ex4:** Using the `cars` dataframe, perform the following selection/projection combinations to retrieve a single element of the dataframe.  As in Ex3, use print to show your results and give both a `loc` and an `iloc` version of the solution."
   ]
  },
  {
   "cell_type": "markdown",
   "metadata": {},
   "source": [
    "**a.** Access the single *scalar* element for the Morocco row and the drives_right column."
   ]
  },
  {
   "cell_type": "code",
   "execution_count": null,
   "metadata": {
    "deletable": false,
    "nbgrader": {
     "cell_type": "code",
     "checksum": "03eac12c569cb640367929e9688c5641",
     "grade": true,
     "grade_id": "cell-565710862dfcde97",
     "locked": false,
     "points": 1,
     "schema_version": 3,
     "solution": true
    }
   },
   "outputs": [],
   "source": [
    "# YOUR CODE HERE\n",
    "raise NotImplementedError()"
   ]
  },
  {
   "cell_type": "markdown",
   "metadata": {},
   "source": [
    "**b.** Access the (sub) DataFrame consisting of a single row and a single column for the Morocco row and the drives_right column."
   ]
  },
  {
   "cell_type": "code",
   "execution_count": null,
   "metadata": {
    "deletable": false,
    "nbgrader": {
     "cell_type": "code",
     "checksum": "d87f49d2210a38c377d4958094689c54",
     "grade": true,
     "grade_id": "cell-725d8d9d64f2d0f0",
     "locked": false,
     "points": 1,
     "schema_version": 3,
     "solution": true
    }
   },
   "outputs": [],
   "source": [
    "# YOUR CODE HERE\n",
    "raise NotImplementedError()"
   ]
  },
  {
   "cell_type": "markdown",
   "metadata": {},
   "source": [
    "**Ex5:** Using the `cars` dataframe, and using a slice open on both sides (`':'`) for the row specification (i.e. retrieve all rows), perform the following column projections.  You may select either `loc` or `iloc` and do not need to provide both variations here."
   ]
  },
  {
   "cell_type": "markdown",
   "metadata": {},
   "source": [
    "**a.** Retrieve/project the drives_right column as a **Series**"
   ]
  },
  {
   "cell_type": "code",
   "execution_count": null,
   "metadata": {
    "deletable": false,
    "nbgrader": {
     "cell_type": "code",
     "checksum": "8b5a28c8f018476c82e9cec221859772",
     "grade": true,
     "grade_id": "cell-06441f6e9760ee7b",
     "locked": false,
     "points": 1,
     "schema_version": 3,
     "solution": true
    }
   },
   "outputs": [],
   "source": [
    "# YOUR CODE HERE\n",
    "raise NotImplementedError()"
   ]
  },
  {
   "cell_type": "markdown",
   "metadata": {},
   "source": [
    "**b.** Retrieve/project the drives_right column as a **DataFrame**"
   ]
  },
  {
   "cell_type": "code",
   "execution_count": null,
   "metadata": {
    "deletable": false,
    "nbgrader": {
     "cell_type": "code",
     "checksum": "e57311b46ffceac536d5e34ca1b031d2",
     "grade": true,
     "grade_id": "cell-5159932dc5a04d3a",
     "locked": false,
     "points": 1,
     "schema_version": 3,
     "solution": true
    }
   },
   "outputs": [],
   "source": [
    "# YOUR CODE HERE\n",
    "raise NotImplementedError()"
   ]
  },
  {
   "cell_type": "markdown",
   "metadata": {},
   "source": [
    "**c.** Retrieve/project the cars_per_cap and drives_right columns as a **DataFrame**"
   ]
  },
  {
   "cell_type": "code",
   "execution_count": null,
   "metadata": {
    "deletable": false,
    "nbgrader": {
     "cell_type": "code",
     "checksum": "d3b5829d05103b16c73b9bb12355f0c7",
     "grade": true,
     "grade_id": "cell-4c7270e7c6a2f84b",
     "locked": false,
     "points": 1,
     "schema_version": 3,
     "solution": true
    }
   },
   "outputs": [],
   "source": [
    "# YOUR CODE HERE\n",
    "raise NotImplementedError()"
   ]
  },
  {
   "cell_type": "markdown",
   "metadata": {},
   "source": [
    "## Las Vegas Tourism"
   ]
  },
  {
   "cell_type": "markdown",
   "metadata": {},
   "source": [
    "**Ex** In the file `\"tourism.csv\"` we have compiled data collected by the Las Vegas tourism bureau.  Read the file inm constructing a data frame named `lv_df`."
   ]
  },
  {
   "cell_type": "code",
   "execution_count": null,
   "metadata": {
    "deletable": false,
    "nbgrader": {
     "cell_type": "code",
     "checksum": "5bb4b72e55ff5cc8cbcaf53a53507ae9",
     "grade": true,
     "grade_id": "cell-fe14a80a433c3083",
     "locked": false,
     "points": 2,
     "schema_version": 3,
     "solution": true,
     "task": false
    }
   },
   "outputs": [],
   "source": [
    "# YOUR CODE HERE\n",
    "raise NotImplementedError()"
   ]
  },
  {
   "cell_type": "markdown",
   "metadata": {},
   "source": [
    "**Ex** Write an expression giving a sub-dataframe showing five months with the most visitors to Las Vegas in the data set."
   ]
  },
  {
   "cell_type": "code",
   "execution_count": null,
   "metadata": {
    "deletable": false,
    "nbgrader": {
     "cell_type": "code",
     "checksum": "a94e4d0dbc482a2e849a9e7c33bad109",
     "grade": true,
     "grade_id": "cell-23efabc03dbfe0c9",
     "locked": false,
     "points": 2,
     "schema_version": 3,
     "solution": true,
     "task": false
    }
   },
   "outputs": [],
   "source": [
    "# YOUR CODE HERE\n",
    "raise NotImplementedError()"
   ]
  },
  {
   "cell_type": "markdown",
   "metadata": {},
   "source": [
    "**Ex** Use Series aggregation to assign to `max_visitors` the maximum number of visitors in the data set.  End the cell by using the variable as an expression to display the result."
   ]
  },
  {
   "cell_type": "code",
   "execution_count": null,
   "metadata": {
    "deletable": false,
    "nbgrader": {
     "cell_type": "code",
     "checksum": "a0d8be2d3635b59f7e2702d6ebd2b378",
     "grade": true,
     "grade_id": "cell-3d97fc4c9f73b782",
     "locked": false,
     "points": 1,
     "schema_version": 3,
     "solution": true,
     "task": false
    }
   },
   "outputs": [],
   "source": [
    "# YOUR CODE HERE\n",
    "raise NotImplementedError()"
   ]
  },
  {
   "cell_type": "markdown",
   "metadata": {},
   "source": [
    "**Ex** Notice that the `date` column is a mashup, comprised of a month name, a hyphen, and a year.  In the first of the next two cells, you should define a function (prefereably a lambda) that, given a date yields the month name from that date.  You will then apply that function to the `date` column, yielding a new column that you will add to the dataset with a column name of `month`.  End the cell with the expression for the first five rows of the result.  In the second cell, perform the set of steps to add a `year` column to the dataset."
   ]
  },
  {
   "cell_type": "code",
   "execution_count": null,
   "metadata": {
    "deletable": false,
    "nbgrader": {
     "cell_type": "code",
     "checksum": "e6a0e078093e8a6903104894e81e2f21",
     "grade": true,
     "grade_id": "cell-e877feb8d1f06771",
     "locked": false,
     "points": 2,
     "schema_version": 3,
     "solution": true,
     "task": false
    }
   },
   "outputs": [],
   "source": [
    "# YOUR CODE HERE\n",
    "raise NotImplementedError()"
   ]
  },
  {
   "cell_type": "code",
   "execution_count": null,
   "metadata": {
    "deletable": false,
    "nbgrader": {
     "cell_type": "code",
     "checksum": "0ee30f0b28a0fe685dddc63b1bb37b46",
     "grade": true,
     "grade_id": "cell-6af8622c9409b482",
     "locked": false,
     "points": 1,
     "schema_version": 3,
     "solution": true,
     "task": false
    }
   },
   "outputs": [],
   "source": [
    "# YOUR CODE HERE\n",
    "raise NotImplementedError()"
   ]
  },
  {
   "cell_type": "markdown",
   "metadata": {},
   "source": [
    "**Ex** Project columns year, month, visitors, convention, and roomsavail and assign to `lv_df2`.  Finish by showing the last 7 lines of the result."
   ]
  },
  {
   "cell_type": "code",
   "execution_count": null,
   "metadata": {
    "deletable": false,
    "nbgrader": {
     "cell_type": "code",
     "checksum": "096ca39122b743422c1174eb1284484b",
     "grade": true,
     "grade_id": "cell-ab1e7e381c88994c",
     "locked": false,
     "points": 1,
     "schema_version": 3,
     "solution": true,
     "task": false
    }
   },
   "outputs": [],
   "source": [
    "# YOUR CODE HERE\n",
    "raise NotImplementedError()"
   ]
  },
  {
   "cell_type": "markdown",
   "metadata": {},
   "source": [
    "**Ex** Obtain a Series with the average number of visitors, convention, and roomsavail from the data set, assigning to `avg_vals` and finishing the cell with the variable expression."
   ]
  },
  {
   "cell_type": "code",
   "execution_count": null,
   "metadata": {
    "deletable": false,
    "nbgrader": {
     "cell_type": "code",
     "checksum": "d726c43d5f476b192c6a57b304f336b3",
     "grade": true,
     "grade_id": "cell-ae4165186dfc49a5",
     "locked": false,
     "points": 2,
     "schema_version": 3,
     "solution": true,
     "task": false
    }
   },
   "outputs": [],
   "source": [
    "# YOUR CODE HERE\n",
    "raise NotImplementedError()"
   ]
  },
  {
   "cell_type": "markdown",
   "metadata": {},
   "source": [
    "**Ex** Compute the average number of visitors, convention, and roomsavail **by year** in a DataFrame named `avg_vals_year`, ending with the variable expression."
   ]
  },
  {
   "cell_type": "code",
   "execution_count": null,
   "metadata": {
    "deletable": false,
    "nbgrader": {
     "cell_type": "code",
     "checksum": "fab8372b4a78be4e68aecd4d4429bec9",
     "grade": true,
     "grade_id": "cell-54080d9b6560e285",
     "locked": false,
     "points": 2,
     "schema_version": 3,
     "solution": true,
     "task": false
    }
   },
   "outputs": [],
   "source": [
    "# YOUR CODE HERE\n",
    "raise NotImplementedError()"
   ]
  },
  {
   "cell_type": "markdown",
   "metadata": {},
   "source": [
    "**Ex** Obtain a DataFrame with the mean and maximum number of visitors and convention, and minimum number of roomsavail from the data set, assigning to `agg_vals_month` but group by month.  Finish the cell with the variable expression."
   ]
  },
  {
   "cell_type": "code",
   "execution_count": null,
   "metadata": {
    "deletable": false,
    "nbgrader": {
     "cell_type": "code",
     "checksum": "10577c7a1478f8220e3b4a574fe4957e",
     "grade": true,
     "grade_id": "cell-ddd2027316f7972e",
     "locked": false,
     "points": 2,
     "schema_version": 3,
     "solution": true,
     "task": false
    }
   },
   "outputs": [],
   "source": [
    "# YOUR CODE HERE\n",
    "raise NotImplementedError()"
   ]
  }
 ],
 "metadata": {
  "kernelspec": {
   "display_name": "Python 3",
   "language": "python",
   "name": "python3"
  },
  "language_info": {
   "codemirror_mode": {
    "name": "ipython",
    "version": 3
   },
   "file_extension": ".py",
   "mimetype": "text/x-python",
   "name": "python",
   "nbconvert_exporter": "python",
   "pygments_lexer": "ipython3",
   "version": "3.7.6"
  }
 },
 "nbformat": 4,
 "nbformat_minor": 4
}
