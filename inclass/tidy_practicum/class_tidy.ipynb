{
 "cells": [
  {
   "cell_type": "markdown",
   "metadata": {},
   "source": [
    "Before you turn this problem in, make sure everything runs as expected. First, **restart the kernel** (in the menubar, select Kernel$\\rightarrow$Restart) and then **run all cells** (in the menubar, select Cell$\\rightarrow$Run All).\n",
    "\n",
    "Make sure you fill in any place that says `YOUR CODE HERE` or \"YOUR ANSWER HERE\", as well as your name and collaborators below:"
   ]
  },
  {
   "cell_type": "code",
   "execution_count": null,
   "metadata": {},
   "outputs": [],
   "source": [
    "NAME = \"\"\n",
    "COLLABORATORS = \"\""
   ]
  },
  {
   "cell_type": "markdown",
   "metadata": {},
   "source": [
    "---"
   ]
  },
  {
   "cell_type": "markdown",
   "metadata": {},
   "source": [
    "# Pandas\n",
    "\n",
    "## Focus on Data Transformation Objectives\n",
    "\n",
    "> Assumption: that we have a pandas data frame in two dimensions"
   ]
  },
  {
   "cell_type": "markdown",
   "metadata": {},
   "source": [
    "## Pandas Tutorials\n",
    "- http://pandas.pydata.org/pandas-docs/stable/10min.html\n",
    "- https://pandas.pydata.org/pandas-docs/stable/tutorials.html"
   ]
  },
  {
   "cell_type": "markdown",
   "metadata": {},
   "source": [
    "Attribution for table examples: [**R for Data Science**](http://r4ds.had.co.nz/) by Garrett Grolemund and Hadley Wickham.  The work itself is licensed under the [Creative Commons Attribution-NonCommercial-NoDerivs 3.0](http://creativecommons.org/licenses/by-nc-nd/3.0/us/)"
   ]
  },
  {
   "cell_type": "code",
   "execution_count": null,
   "metadata": {},
   "outputs": [],
   "source": [
    "import pandas as pd\n",
    "import requests as req\n",
    "import numpy as np\n",
    "\n",
    "# Start with some examples:\n",
    "\n",
    "table1columns = [\"country\",  \"year\",       \"type\",     \"count\"]\n",
    "table1data =[ [\"Afghanistan\",  1999,      \"cases\",       745],\n",
    "              [\"Afghanistan\",  1999, \"population\",  19987071],\n",
    "              [\"Afghanistan\",  2000,      \"cases\",      2666],\n",
    "              [\"Afghanistan\",  2000, \"population\",  20595360],\n",
    "              [     \"Brazil\",  1999,      \"cases\",     37737],\n",
    "              [     \"Brazil\",  1999, \"population\", 172006362],\n",
    "              [     \"Brazil\",  2000,      \"cases\",     80488],\n",
    "              [     \"Brazil\",  2000, \"population\", 174504898],\n",
    "              [      \"China\",  1999,      \"cases\",    212258],\n",
    "              [      \"China\",  1999, \"population\",1272915272],\n",
    "              [      \"China\",  2000,      \"cases\",    213766],\n",
    "              [      \"China\",  2000, \"population\",1280428583] ]\n",
    "\n",
    "table2columns = [\"country\", \"year\", \"srate\"]\n",
    "table2data = [ [\"Afghanistan\",  1999,      \"745/19987071\"],\n",
    "               [\"Afghanistan\",  2000,     \"2666/20595360\"],\n",
    "               [     \"Brazil\",  1999,   \"37737/172006362\"],\n",
    "               [     \"Brazil\",  2000,   \"80488/174504898\"],\n",
    "               [      \"China\",  1999, \"212258/1272915272\"],\n",
    "               [      \"China\",  2000, \"213766/1280428583\"] ]\n",
    "\n",
    "table3acolumns = [\"country\", \"year\", \"cases\"]\n",
    "table3adata = [ [\"Afghanistan\",  1999,    745],\n",
    "                [\"Afghanistan\",  2000,   2666],\n",
    "                [     \"Brazil\",  1999,  37737],\n",
    "                [     \"Brazil\",  2000,  80488],\n",
    "                [      \"China\",  1999, 212258],\n",
    "                [      \"China\",  2000, 213766] ]\n",
    "\n",
    "table3bcolumns = [\"country\", \"year\", \"population\"]\n",
    "table3bdata =[ [\"Afghanistan\",  1999,   19987071],\n",
    "               [\"Afghanistan\",  2000,   20595360],\n",
    "               [     \"Brazil\",  1999,  172006362],\n",
    "               [     \"Brazil\",  2000,  174504898],\n",
    "               [      \"China\",  1999, 1272915272],\n",
    "               [      \"China\",  2000, 1280428583] ]\n",
    "\n",
    "table4acolumns = [\"country\", \"1999\", \"2000\"]\n",
    "table4adata = [ [\"Afghanistan\",    745,   2666],\n",
    "                [     \"Brazil\",  37737,  80488],\n",
    "                [      \"China\", 212258, 213766] ]\n",
    "\n",
    "table4bcolumns = [\"country\", \"1999\", \"2000\"]\n",
    "table4bdata = [ [\"Afghanistan\",   19987071,   20595360],\n",
    "                [     \"Brazil\",  172006362,  174504898],\n",
    "                [      \"China\", 1272915272, 1280428583] ]\n",
    "\n",
    "table5columns = [\"country\",\"year\",\"cases\",\"population\"]\n",
    "table5data =[ [\"Afghanistan\",  1999,    745,   19987071],\n",
    "              [\"Afghanistan\",  2000,   2666,   20595360],\n",
    "              [     \"Brazil\",  1999,  37737,  172006362],\n",
    "              [     \"Brazil\",  2000,  80488,  174504898],\n",
    "              [      \"China\",  1999, 212258, 1272915272],\n",
    "              [      \"China\",  2000, 213766, 1280428583] ]"
   ]
  },
  {
   "cell_type": "code",
   "execution_count": null,
   "metadata": {},
   "outputs": [],
   "source": [
    "table1 = pd.DataFrame(table1data, columns=table1columns)\n",
    "table2 = pd.DataFrame(table2data, columns=table2columns)\n",
    "table3a = pd.DataFrame(table3adata, columns=table3acolumns)\n",
    "table3b = pd.DataFrame(table3bdata, columns=table3bcolumns)\n",
    "table4a = pd.DataFrame(table4adata, columns=table4acolumns)\n",
    "table4b = pd.DataFrame(table4bdata, columns=table4bcolumns)\n",
    "table5 = pd.DataFrame(table5data, columns=table5columns)"
   ]
  },
  {
   "cell_type": "code",
   "execution_count": null,
   "metadata": {},
   "outputs": [],
   "source": [
    "table1"
   ]
  },
  {
   "cell_type": "code",
   "execution_count": null,
   "metadata": {},
   "outputs": [],
   "source": [
    "table2"
   ]
  },
  {
   "cell_type": "code",
   "execution_count": null,
   "metadata": {},
   "outputs": [],
   "source": [
    "get_rate = lambda s: s.split('/')[0]\n",
    "rates = table2['srate'].apply(get_rate)"
   ]
  },
  {
   "cell_type": "code",
   "execution_count": null,
   "metadata": {},
   "outputs": [],
   "source": [
    "rates\n"
   ]
  },
  {
   "cell_type": "code",
   "execution_count": null,
   "metadata": {},
   "outputs": [],
   "source": [
    "table2['rate'] = rates"
   ]
  },
  {
   "cell_type": "code",
   "execution_count": null,
   "metadata": {},
   "outputs": [],
   "source": [
    "table2"
   ]
  },
  {
   "cell_type": "raw",
   "metadata": {},
   "source": []
  },
  {
   "cell_type": "code",
   "execution_count": null,
   "metadata": {},
   "outputs": [],
   "source": [
    "table3a"
   ]
  },
  {
   "cell_type": "code",
   "execution_count": null,
   "metadata": {},
   "outputs": [],
   "source": [
    "table3b"
   ]
  },
  {
   "cell_type": "code",
   "execution_count": null,
   "metadata": {},
   "outputs": [],
   "source": [
    "table4a"
   ]
  },
  {
   "cell_type": "code",
   "execution_count": null,
   "metadata": {},
   "outputs": [],
   "source": [
    "table4b"
   ]
  },
  {
   "cell_type": "code",
   "execution_count": null,
   "metadata": {},
   "outputs": [],
   "source": [
    "table5"
   ]
  }
 ],
 "metadata": {
  "kernelspec": {
   "display_name": "Python 3",
   "language": "python",
   "name": "python3"
  },
  "language_info": {
   "codemirror_mode": {
    "name": "ipython",
    "version": 3
   },
   "file_extension": ".py",
   "mimetype": "text/x-python",
   "name": "python",
   "nbconvert_exporter": "python",
   "pygments_lexer": "ipython3",
   "version": "3.7.6"
  }
 },
 "nbformat": 4,
 "nbformat_minor": 2
}
