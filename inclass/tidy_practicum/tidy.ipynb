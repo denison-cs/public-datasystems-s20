{
 "cells": [
  {
   "cell_type": "markdown",
   "metadata": {},
   "source": [
    "Before you turn this problem in, make sure everything runs as expected. First, **restart the kernel** (in the menubar, select Kernel$\\rightarrow$Restart) and then **run all cells** (in the menubar, select Cell$\\rightarrow$Run All).\n",
    "\n",
    "Make sure you fill in any place that says `YOUR CODE HERE` or \"YOUR ANSWER HERE\", as well as your name and collaborators below:"
   ]
  },
  {
   "cell_type": "code",
   "execution_count": null,
   "metadata": {},
   "outputs": [],
   "source": [
    "NAME = \"\"\n",
    "COLLABORATORS = \"\""
   ]
  },
  {
   "cell_type": "markdown",
   "metadata": {},
   "source": [
    "---"
   ]
  },
  {
   "cell_type": "code",
   "execution_count": null,
   "metadata": {},
   "outputs": [],
   "source": [
    "import pandas as pd\n",
    "import os\n",
    "import os.path\n",
    "\n",
    "datadir = \"publicdata\""
   ]
  },
  {
   "cell_type": "code",
   "execution_count": null,
   "metadata": {},
   "outputs": [],
   "source": [
    "topnames = pd.read_csv(os.path.join(datadir, \"topnames.csv\"))\n",
    "topfemale = pd.read_csv(os.path.join(datadir, \"topfemale.csv\"))\n",
    "topmale = pd.read_csv(os.path.join(datadir, \"topmale.csv\"))\n",
    "namesbyyear = pd.read_csv(os.path.join(datadir, \"namesbyyear.csv\"))\n",
    "#print(list(namesbyyear.columns)[1:])\n",
    "cindex = ['sex'] + list(namesbyyear.columns)[1:]\n",
    "#print(cindex)\n",
    "namesbyyear.columns = cindex\n",
    "countsbyyear = pd.read_csv(os.path.join(datadir, \"countsbyyear.csv\"))\n",
    "countsbyyear.columns = cindex.copy()\n",
    "\n",
    "namesbyyear2 = pd.read_csv(os.path.join(datadir, \"namesbyyear2.csv\"))\n",
    "namesbyyear2.columns = cindex.copy()\n",
    "\n",
    "gendercount = pd.read_csv(os.path.join(datadir, \"gendercount.csv\"))"
   ]
  },
  {
   "cell_type": "code",
   "execution_count": null,
   "metadata": {},
   "outputs": [],
   "source": [
    "topfemale.head()"
   ]
  },
  {
   "cell_type": "code",
   "execution_count": null,
   "metadata": {},
   "outputs": [],
   "source": [
    "topmale.head()"
   ]
  },
  {
   "cell_type": "markdown",
   "metadata": {},
   "source": [
    "**Q** In data frames `topmale` and `topfemale`, we have the names and counts for the entire topnames data set for the Male part of the data set and for the Female part of the data set.  Create a tidy data set (one in which year, sex -> name, count).  Call it `tidy1`.  Let `tidy1` not have an index, and sort based on year, then sex."
   ]
  },
  {
   "cell_type": "code",
   "execution_count": null,
   "metadata": {
    "deletable": false,
    "nbgrader": {
     "cell_type": "code",
     "checksum": "e0a486e8cf09c7ff5b1290a146752bf8",
     "grade": false,
     "grade_id": "cell-05b04db64632a67b",
     "locked": false,
     "schema_version": 3,
     "solution": true,
     "task": false
    }
   },
   "outputs": [],
   "source": [
    "# YOUR CODE HERE\n",
    "raise NotImplementedError()\n",
    "tidy1.head(10)"
   ]
  },
  {
   "cell_type": "code",
   "execution_count": null,
   "metadata": {
    "deletable": false,
    "editable": false,
    "nbgrader": {
     "cell_type": "code",
     "checksum": "8e1a5be41ea0f8f0767c11be6a5381a8",
     "grade": true,
     "grade_id": "cell-431c7552dcf78527",
     "locked": true,
     "points": 4,
     "schema_version": 3,
     "solution": false,
     "task": false
    }
   },
   "outputs": [],
   "source": [
    "assert len(tidy1) == 278\n",
    "assert tidy1.iloc[0]['year'] == 1880\n",
    "assert tidy1.iloc[0]['count'] == 7065\n",
    "assert tidy1.iloc[0]['name'] == 'Mary'\n",
    "assert tidy1.iloc[0]['sex'] == 'Female'\n",
    "assert tidy1.iloc[277]['year'] == 2018\n",
    "assert tidy1.iloc[277]['count'] == 19837\n",
    "assert tidy1.iloc[277]['name'] == 'Liam'\n",
    "assert tidy1.iloc[277]['sex'] == 'Male'"
   ]
  },
  {
   "cell_type": "code",
   "execution_count": null,
   "metadata": {},
   "outputs": [],
   "source": [
    "namesbyyear"
   ]
  },
  {
   "cell_type": "code",
   "execution_count": null,
   "metadata": {},
   "outputs": [],
   "source": [
    "countsbyyear"
   ]
  },
  {
   "cell_type": "markdown",
   "metadata": {},
   "source": [
    "**Q** In data frames `namesbyyear` and `countsbyyear`, we have the names and counts for the a subset of the topnames data set.  Each has two rows, one for each sex (in a column named `sex`) and columns for the years from 2014 to 2018.  Create a tidy data set (one in which year, sex -> name, count).  Call it `tidy2`.  Let `tidy2` not have an index, and sort based on year, then sex.  Don't forget to convert a column that came from column labels (a string) into the appropriate data type."
   ]
  },
  {
   "cell_type": "code",
   "execution_count": null,
   "metadata": {
    "deletable": false,
    "nbgrader": {
     "cell_type": "code",
     "checksum": "d68e4725350f464ab474916e5c1709c1",
     "grade": false,
     "grade_id": "cell-4a8f5f03d0def162",
     "locked": false,
     "schema_version": 3,
     "solution": true,
     "task": false
    }
   },
   "outputs": [],
   "source": [
    "# YOUR CODE HERE\n",
    "raise NotImplementedError()\n",
    "tidy2"
   ]
  },
  {
   "cell_type": "code",
   "execution_count": null,
   "metadata": {
    "deletable": false,
    "editable": false,
    "nbgrader": {
     "cell_type": "code",
     "checksum": "f5175e2a8c5a1930a7660f8458c4d7f4",
     "grade": true,
     "grade_id": "cell-14f34d0a88b83acb",
     "locked": true,
     "points": 4,
     "schema_version": 3,
     "solution": false,
     "task": false
    }
   },
   "outputs": [],
   "source": [
    "assert len(tidy2) == 10\n",
    "assert tidy2.iloc[0]['year'] == 2014\n",
    "assert tidy2.iloc[0]['count'] == 20936\n",
    "assert tidy2.iloc[0]['name'] == 'Emma'\n",
    "assert tidy2.iloc[0]['sex'] == 'Female'\n",
    "assert tidy2.iloc[9]['year'] == 2018\n",
    "assert tidy2.iloc[9]['count'] == 19837\n",
    "assert tidy2.iloc[9]['name'] == 'Liam'\n",
    "assert tidy2.iloc[9]['sex'] == 'Male'"
   ]
  },
  {
   "cell_type": "markdown",
   "metadata": {},
   "source": [
    "**Q** Consider the `namesbyyear2` data frame below.  Transform into a tidy data set named `tidy3`, with no index, and sorted by year and then sex."
   ]
  },
  {
   "cell_type": "code",
   "execution_count": null,
   "metadata": {},
   "outputs": [],
   "source": [
    "namesbyyear2"
   ]
  },
  {
   "cell_type": "code",
   "execution_count": null,
   "metadata": {
    "deletable": false,
    "nbgrader": {
     "cell_type": "code",
     "checksum": "7b89d619d8a12ef268ae5ffee6585fdf",
     "grade": false,
     "grade_id": "cell-e1865c1df4b2851e",
     "locked": false,
     "schema_version": 3,
     "solution": true,
     "task": false
    }
   },
   "outputs": [],
   "source": [
    "# YOUR CODE HERE\n",
    "raise NotImplementedError()\n",
    "tidy3"
   ]
  },
  {
   "cell_type": "code",
   "execution_count": null,
   "metadata": {
    "deletable": false,
    "editable": false,
    "nbgrader": {
     "cell_type": "code",
     "checksum": "80825a1b917983ec9194b8ed29390a6f",
     "grade": true,
     "grade_id": "cell-46fe63e5bc3a25a5",
     "locked": true,
     "points": 4,
     "schema_version": 3,
     "solution": false,
     "task": false
    }
   },
   "outputs": [],
   "source": [
    "assert len(tidy3) == 10\n",
    "assert tidy3.iloc[0]['year'] == 2014\n",
    "assert tidy3.iloc[0]['count'] == 20936\n",
    "assert tidy3.iloc[0]['name'] == 'Emma'\n",
    "assert tidy3.iloc[0]['sex'] == 'Female'\n",
    "assert tidy3.iloc[9]['year'] == 2018\n",
    "assert tidy3.iloc[9]['count'] == 19837\n",
    "assert tidy3.iloc[9]['name'] == 'Liam'\n",
    "assert tidy3.iloc[9]['sex'] == 'Male'"
   ]
  },
  {
   "cell_type": "markdown",
   "metadata": {},
   "source": [
    "**Q** Challenge Problem.  Consider the `gendercount` data frame, a prefix of which is shown below.  Convert into a tidy data frame named `tidy4`, indexed by year and sex, and sorted by that index.  Hint1: Because we ultimately want to do a pivot, but have strings in the value column, a `pivot_table`, which expects numerics for possible aggregation, will not work.  Hint2: If we create the \"right\" row index, both `pivot` and `unstack` can become available to us.  "
   ]
  },
  {
   "cell_type": "code",
   "execution_count": null,
   "metadata": {},
   "outputs": [],
   "source": [
    "gendercount.head()"
   ]
  },
  {
   "cell_type": "code",
   "execution_count": null,
   "metadata": {
    "deletable": false,
    "nbgrader": {
     "cell_type": "code",
     "checksum": "d71f8bb667be073ffd71e86651d5dc80",
     "grade": false,
     "grade_id": "cell-c4c18716955d1801",
     "locked": false,
     "schema_version": 3,
     "solution": true,
     "task": false
    }
   },
   "outputs": [],
   "source": [
    "# YOUR CODE HERE\n",
    "raise NotImplementedError()\n",
    "tidy4"
   ]
  },
  {
   "cell_type": "code",
   "execution_count": null,
   "metadata": {
    "deletable": false,
    "editable": false,
    "nbgrader": {
     "cell_type": "code",
     "checksum": "cf2825681a8f30c2a5e5eba2a7b7fac0",
     "grade": true,
     "grade_id": "cell-3a74e417efec320c",
     "locked": true,
     "points": 3,
     "schema_version": 3,
     "solution": false,
     "task": false
    }
   },
   "outputs": [],
   "source": [
    "assert len(tidy4) == 278\n",
    "assert tidy4.iloc[0]['count'] == 7065\n",
    "assert tidy4.iloc[0]['name'] == 'Mary'\n",
    "assert tidy4.iloc[277]['count'] == 19837\n",
    "assert tidy4.iloc[277]['name'] == 'Liam'"
   ]
  }
 ],
 "metadata": {
  "kernelspec": {
   "display_name": "Python 3",
   "language": "python",
   "name": "python3"
  },
  "language_info": {
   "codemirror_mode": {
    "name": "ipython",
    "version": 3
   },
   "file_extension": ".py",
   "mimetype": "text/x-python",
   "name": "python",
   "nbconvert_exporter": "python",
   "pygments_lexer": "ipython3",
   "version": "3.7.6"
  }
 },
 "nbformat": 4,
 "nbformat_minor": 4
}
