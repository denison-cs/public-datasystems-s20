{
 "cells": [
  {
   "cell_type": "markdown",
   "metadata": {},
   "source": [
    "Before you turn this problem in, make sure everything runs as expected. First, **restart the kernel** (in the menubar, select Kernel$\\rightarrow$Restart) and then **run all cells** (in the menubar, select Cell$\\rightarrow$Run All).\n",
    "\n",
    "Make sure you fill in any place that says `YOUR CODE HERE` or \"YOUR ANSWER HERE\", as well as your name and collaborators below:"
   ]
  },
  {
   "cell_type": "code",
   "execution_count": null,
   "metadata": {},
   "outputs": [],
   "source": [
    "NAME = \"\"\n",
    "COLLABORATORS = \"\""
   ]
  },
  {
   "cell_type": "markdown",
   "metadata": {},
   "source": [
    "---"
   ]
  },
  {
   "cell_type": "markdown",
   "metadata": {},
   "source": [
    "### Melting DataFrames\n",
    "\n",
    "Tranformation required when **column names** represent the values of a variable.  Examples from class include the year column in the Tuburculosis data set, the month column in the unemployment dataset, and the treatment column in the clinical trials dataset.  Consider:"
   ]
  },
  {
   "cell_type": "code",
   "execution_count": null,
   "metadata": {},
   "outputs": [],
   "source": [
    "import pandas as pd\n",
    "\n",
    "clinic_columns = ['First', 'Last', 'TreatmentA', 'TreatmentB']\n",
    "clinic_data = [\n",
    "    ['John', 'Smith', -1, 2],\n",
    "    ['Jane', 'Doe', 16, 11],\n",
    "    ['Mary', 'Johnson', 3, 1]\n",
    "]\n",
    "trials = pd.DataFrame(clinic_data, columns=clinic_columns)\n",
    "trials"
   ]
  },
  {
   "cell_type": "markdown",
   "metadata": {},
   "source": [
    "Here, we see the values in both the `TreatmentA` and `TreatmentB` columns represent the same \"kind\" of thing, the response of some metric to a particular treatment.  If we added a third treatment and incorporated it into the dataset, we would add another **column**, but would not be measuring anything new.  So we would be adding a column without adding an observational variable.\n",
    "\n",
    "An observation is uniquely determined, then, by the triple of `First`, `Last`, and `Treatment`, our independent variables, and the only remaining dependent variable is the `Response`.\n",
    "\n",
    "So we need to transform the column names `TreatmentA` and `TreatmentB` into values of a `Treatment` column, and the corresponding values in the existing columns are used to populate the `Response` column.\n",
    "\n",
    "At a minimum, a melt operation has to partition the existing column names into the columns to be retained in the new data frame, and the columns that are values for a new variable."
   ]
  },
  {
   "cell_type": "code",
   "execution_count": null,
   "metadata": {},
   "outputs": [],
   "source": [
    "trials2 = trials.melt(id_vars=['First', 'Last'])\n",
    "trials2"
   ]
  },
  {
   "cell_type": "markdown",
   "metadata": {},
   "source": [
    "By default, the new column under which the previous column headers become values is called a generic **variable**, and the values under those columns are assembled in a column named **value**.  We can optionally include better names for one or both of these new column labels:"
   ]
  },
  {
   "cell_type": "code",
   "execution_count": null,
   "metadata": {},
   "outputs": [],
   "source": [
    "trials2 = trials.melt(id_vars=['First', 'Last'], \n",
    "                      value_name='Response', var_name='Treatment')\n",
    "trials2"
   ]
  },
  {
   "cell_type": "code",
   "execution_count": null,
   "metadata": {},
   "outputs": [],
   "source": [
    "getlast = lambda s: s[-1]\n",
    "treatment2 = trials2['Treatment'].apply(getlast)\n",
    "trials2['Treatment'] = treatment2\n",
    "trials2"
   ]
  },
  {
   "cell_type": "markdown",
   "metadata": {},
   "source": [
    "Note that, to complete this data curation, we would map the missing observation to a `np.nan`, and the `TreatmentA` to `A` and `TreatmentB` to `B`.  We may also want to drop the row with the nan, which is easy to do with curated data."
   ]
  },
  {
   "cell_type": "code",
   "execution_count": null,
   "metadata": {},
   "outputs": [],
   "source": [
    "tbcasescolumns = [\"country\", \"year\", \"cases\"]\n",
    "tbcasesdata = [ [\"Afghanistan\",  1999,    745],\n",
    "                [\"Afghanistan\",  2000,   2666],\n",
    "                [     \"Brazil\",  1999,  37737],\n",
    "                [     \"Brazil\",  2000,  80488],\n",
    "                [      \"China\",  1999, 212258],\n",
    "                [      \"China\",  2000, 213766] ]\n",
    "tbcases = pd.DataFrame(tbcasesdata, columns=tbcasescolumns)\n",
    "tbcases"
   ]
  },
  {
   "cell_type": "code",
   "execution_count": null,
   "metadata": {},
   "outputs": [],
   "source": [
    "tbcases.pivot(index='country', columns='year', values='cases')"
   ]
  },
  {
   "cell_type": "code",
   "execution_count": null,
   "metadata": {},
   "outputs": [],
   "source": [
    "table1columns = [\"country\",  \"year\",       \"type\",     \"count\"]\n",
    "table1data =[ [\"Afghanistan\",  1999,      \"cases\",       745],\n",
    "              [\"Afghanistan\",  1999, \"population\",  19987071],\n",
    "              [\"Afghanistan\",  2000,      \"cases\",      2666],\n",
    "              [\"Afghanistan\",  2000, \"population\",  20595360],\n",
    "              [     \"Brazil\",  1999,      \"cases\",     37737],\n",
    "              [     \"Brazil\",  1999, \"population\", 172006362],\n",
    "              [     \"Brazil\",  2000,      \"cases\",     80488],\n",
    "              [     \"Brazil\",  2000, \"population\", 174504898],\n",
    "              [      \"China\",  1999,      \"cases\",    212258],\n",
    "              [      \"China\",  1999, \"population\",1272915272],\n",
    "              [      \"China\",  2000,      \"cases\",    213766],\n",
    "              [      \"China\",  2000, \"population\",1280428583] ]\n",
    "table1 = pd.DataFrame(table1data, columns=table1columns)"
   ]
  },
  {
   "cell_type": "code",
   "execution_count": null,
   "metadata": {},
   "outputs": [],
   "source": [
    "table1"
   ]
  },
  {
   "cell_type": "code",
   "execution_count": null,
   "metadata": {},
   "outputs": [],
   "source": [
    "table1.pivot_table(index=['country', 'year'], values='count', columns='type')"
   ]
  },
  {
   "cell_type": "code",
   "execution_count": null,
   "metadata": {},
   "outputs": [],
   "source": [
    "table1['syear'] = table1.year.apply(str)"
   ]
  },
  {
   "cell_type": "code",
   "execution_count": null,
   "metadata": {},
   "outputs": [],
   "source": [
    "table1['country-year'] = table1.country + '-' + table1.syear\n",
    "table1 = table1[['country-year', 'type', 'count']]\n",
    "table1"
   ]
  },
  {
   "cell_type": "code",
   "execution_count": null,
   "metadata": {},
   "outputs": [],
   "source": [
    "table1.pivot(index='country-year', columns='type', values='count')"
   ]
  },
  {
   "cell_type": "code",
   "execution_count": null,
   "metadata": {},
   "outputs": [],
   "source": [
    "table1_indexed = table1.set_index(['country', 'year'])\n",
    "table1_indexed"
   ]
  },
  {
   "cell_type": "markdown",
   "metadata": {},
   "source": [
    "### Pivoting DataFrames\n",
    "\n",
    "#### Video Examples\n",
    "\n",
    "In the first example, the data, as presented are Tidy-conformant.  There appears to be a unique Independent Variable, `id` that uniquely defines each observation, and `id` determines `treatment`, `gender`, and `response`.  Note that, if, for a given `id`, either treatment (or both) were possible, then the combination of `id` and `treatment` would determine `response` and `id` (alone) would determine `gender`.  Just trying to keep exercising the ideas from class in what consitutes tidy data based on functional dependency."
   ]
  },
  {
   "cell_type": "code",
   "execution_count": null,
   "metadata": {},
   "outputs": [],
   "source": [
    "import pandas as pd\n",
    "\n",
    "clinic_columns = ['id', 'treatment', 'gender', 'response']\n",
    "clinic_data = [\n",
    "    [1, 'A', 'F', 5],\n",
    "    [2, 'A', 'M', 3],\n",
    "    [3, 'B', 'F', 8],\n",
    "    [4, 'B', 'M', 9]\n",
    "]\n",
    "trials = pd.DataFrame(clinic_data, columns=clinic_columns)\n",
    "trials"
   ]
  },
  {
   "cell_type": "markdown",
   "metadata": {},
   "source": [
    "Rehaping of this data is **not**, in this case, to go from non-tidy data to tidy data.  Rather, for presentational purposes, we decide that a matrix presentation with treatment down one axis and gender across the other axis is preferred.\n",
    "\n",
    "The transformation of **pivot**, in essence, takes **values** (of a categorical variable, like gender) and makes a **column** for each different value of the categorical.  When it does this, it requires that we specify what we want to use for the row labels and to specify what column that will appear at the intersection of the row label and the new column.  So we need three pieces of information for a pivot:\n",
    "\n",
    "1. row labels (the \"**index**\" of the transformed dataframe)\n",
    "2. which **column** in the preimage to use to find the possible values for the newly generated columns\n",
    "3. the column to use for the **values** at the intersection of the new row labels and the new columns\n",
    "\n",
    "This is where the names used for the named parameters in the `pandas` `pivot` method are intended to convey."
   ]
  },
  {
   "cell_type": "code",
   "execution_count": null,
   "metadata": {},
   "outputs": [],
   "source": [
    "trials_presentation = trials.pivot(index='treatment', columns='gender', values='response')\n",
    "trials_presentation"
   ]
  }
 ],
 "metadata": {
  "kernelspec": {
   "display_name": "Python 3",
   "language": "python",
   "name": "python3"
  },
  "language_info": {
   "codemirror_mode": {
    "name": "ipython",
    "version": 3
   },
   "file_extension": ".py",
   "mimetype": "text/x-python",
   "name": "python",
   "nbconvert_exporter": "python",
   "pygments_lexer": "ipython3",
   "version": "3.7.6"
  }
 },
 "nbformat": 4,
 "nbformat_minor": 2
}
