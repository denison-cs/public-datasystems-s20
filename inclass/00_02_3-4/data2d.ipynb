{
 "cells": [
  {
   "cell_type": "markdown",
   "metadata": {},
   "source": [
    "Consider the following table of data"
   ]
  },
  {
   "cell_type": "markdown",
   "metadata": {},
   "source": [
    "year|sex|name|count|births\n",
    "----|---|----|-----|------\n",
    "2016|Female|Emma|19496|3941454\n",
    "2016|Male|Noah|19117|3941454\n",
    "2017|Female|Emma|19800|3836770\n",
    "2017|Male|Liam|18798|3836770"
   ]
  },
  {
   "cell_type": "markdown",
   "metadata": {},
   "source": [
    "1. Assign to LoL a Python constant list of row list representation of this table, and create a list named LoL_cols the list of column names "
   ]
  },
  {
   "cell_type": "code",
   "execution_count": null,
   "metadata": {},
   "outputs": [],
   "source": []
  },
  {
   "cell_type": "markdown",
   "metadata": {},
   "source": [
    "2. Assign to DoL a Python constant dictionary of list representation of this table"
   ]
  },
  {
   "cell_type": "code",
   "execution_count": null,
   "metadata": {},
   "outputs": [],
   "source": []
  },
  {
   "cell_type": "markdown",
   "metadata": {},
   "source": [
    "3. Write code to open the `namesbirths0` file and loop to create `LoL2` from the file data."
   ]
  },
  {
   "cell_type": "code",
   "execution_count": null,
   "metadata": {},
   "outputs": [],
   "source": []
  },
  {
   "cell_type": "markdown",
   "metadata": {},
   "source": [
    "4. Write code to open `namesbirths0` file and loop to create DoL2 from the file data."
   ]
  },
  {
   "cell_type": "code",
   "execution_count": null,
   "metadata": {},
   "outputs": [],
   "source": []
  },
  {
   "cell_type": "markdown",
   "metadata": {},
   "source": [
    "5. Write code to create a new column named `percent` in the DoL data set whose value is defined by:\n",
    "\n",
    "$$ count / births * 100 $$"
   ]
  },
  {
   "cell_type": "code",
   "execution_count": null,
   "metadata": {},
   "outputs": [],
   "source": []
  },
  {
   "cell_type": "markdown",
   "metadata": {},
   "source": [
    "6. Create the column `percent` in the LoL data set"
   ]
  },
  {
   "cell_type": "code",
   "execution_count": null,
   "metadata": {},
   "outputs": [],
   "source": []
  },
  {
   "cell_type": "markdown",
   "metadata": {},
   "source": [
    "7. Write a function\n",
    "\n",
    "    filterSexLoL(LoL, sex)\n",
    "    \n",
    "that filters a list of list representation so that only the given sex *passes* the filter.  This function should create and return a brand new list which includes the subset rows.\n",
    "\n",
    "Variation: In place version, where nothing is returned and works through mutation of the passed reference `LoL`"
   ]
  },
  {
   "cell_type": "code",
   "execution_count": null,
   "metadata": {},
   "outputs": [],
   "source": []
  },
  {
   "cell_type": "markdown",
   "metadata": {},
   "source": [
    "8. Write a function\n",
    "\n",
    "    filterSexDoL(DoL, sex)\n",
    "    \n",
    "that filters a dictionary of list representation so that only the given sex *passes* the filter.  This function should create and return a brand new dictionary which includes the subset of the data.\n",
    "\n",
    "Variation: In place version, where nothing is returned and work through mutation of the passed reference `DoL`"
   ]
  },
  {
   "cell_type": "code",
   "execution_count": null,
   "metadata": {},
   "outputs": [],
   "source": []
  }
 ],
 "metadata": {
  "kernelspec": {
   "display_name": "Python 3",
   "language": "python",
   "name": "python3"
  },
  "language_info": {
   "codemirror_mode": {
    "name": "ipython",
    "version": 3
   },
   "file_extension": ".py",
   "mimetype": "text/x-python",
   "name": "python",
   "nbconvert_exporter": "python",
   "pygments_lexer": "ipython3",
   "version": "3.7.6"
  }
 },
 "nbformat": 4,
 "nbformat_minor": 4
}
