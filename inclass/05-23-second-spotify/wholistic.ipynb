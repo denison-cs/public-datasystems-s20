{
 "cells": [
  {
   "cell_type": "markdown",
   "metadata": {},
   "source": [
    "Before you turn this problem in, make sure everything runs as expected. First, **restart the kernel** (in the menubar, select Kernel$\\rightarrow$Restart) and then **run all cells** (in the menubar, select Cell$\\rightarrow$Run All).\n",
    "\n",
    "Make sure you fill in any place that says `YOUR CODE HERE` or \"YOUR ANSWER HERE\", as well as your name and collaborators below:"
   ]
  },
  {
   "cell_type": "code",
   "execution_count": null,
   "metadata": {},
   "outputs": [],
   "source": [
    "NAME = \"\"\n",
    "COLLABORATORS = \"\""
   ]
  },
  {
   "cell_type": "markdown",
   "metadata": {},
   "source": [
    "---"
   ]
  },
  {
   "cell_type": "markdown",
   "metadata": {},
   "source": [
    "# Processing Example\n",
    "\n",
    "> This notebook builds a more wholistic example, showing the operations covered in the previous sections integrated and including the *processing of results* to gather data and build a result."
   ]
  },
  {
   "cell_type": "code",
   "execution_count": null,
   "metadata": {},
   "outputs": [],
   "source": [
    "import requests\n",
    "import pandas as pd\n",
    "from   lxml import etree\n",
    "import io\n",
    "import os\n",
    "from   IPython.display import Image\n",
    "import json\n",
    "\n",
    "import util\n",
    "from   util import *\n",
    "import importlib\n",
    "\n",
    "figdir = \"./figs\""
   ]
  },
  {
   "cell_type": "code",
   "execution_count": null,
   "metadata": {},
   "outputs": [],
   "source": [
    "importlib.reload(util)\n",
    "from util import *"
   ]
  },
  {
   "cell_type": "markdown",
   "metadata": {},
   "source": [
    "## Setup\n",
    "\n",
    "**Step 0**: Edit `creds.json`, and put your TMDb API key as the value associated with `creds['tmdb']['apikey']`."
   ]
  },
  {
   "cell_type": "code",
   "execution_count": null,
   "metadata": {},
   "outputs": [],
   "source": [
    "creds = read_creds(\"tmdb\")\n",
    "\n",
    "apikey   = creds['apikey']      # Used for v3 api_key query parameter authentication"
   ]
  },
  {
   "cell_type": "markdown",
   "metadata": {},
   "source": [
    "## Build a Table of Top Rated TV Shows\n",
    "\n",
    "> Focus on using the `/tv/top_rated` endpoint\n",
    "\n",
    "### Making the Request\n",
    "\n",
    "**Use the API Documentation and write a cell that makes a request for this endpoint**\n",
    "\n",
    "Documentation: https://developers.themoviedb.org/3/tv/get-top-rated-tv\n",
    "\n",
    "Comparable Chapter Reference: https://tcbressoud.github.io/datasystems-bookweb/23-ch-rest.html#phase-1-build-a-table-of-popular-movies\n",
    "\n",
    "Assign the JSON result to `result`"
   ]
  },
  {
   "cell_type": "code",
   "execution_count": null,
   "metadata": {
    "deletable": false,
    "nbgrader": {
     "cell_type": "code",
     "checksum": "839b25c483586574070f550398c251af",
     "grade": true,
     "grade_id": "cell-39b5c85db6f04441",
     "locked": false,
     "points": 0,
     "schema_version": 3,
     "solution": true,
     "task": false
    }
   },
   "outputs": [],
   "source": [
    "page = 1\n",
    "# YOUR CODE HERE\n",
    "raise NotImplementedError()\n",
    "json_head(result, 24)"
   ]
  },
  {
   "cell_type": "markdown",
   "metadata": {},
   "source": [
    "**Turn the code above into a function `GetTopRatedTVPage` with parameters `apikey` and `page`**"
   ]
  },
  {
   "cell_type": "code",
   "execution_count": null,
   "metadata": {
    "deletable": false,
    "nbgrader": {
     "cell_type": "code",
     "checksum": "5a70c366a340cef7b0e93d2e367b3ac8",
     "grade": true,
     "grade_id": "cell-45a970f63c6a7826",
     "locked": false,
     "points": 0,
     "schema_version": 3,
     "solution": true,
     "task": false
    }
   },
   "outputs": [],
   "source": [
    "# YOUR CODE HERE\n",
    "raise NotImplementedError()\n",
    "result = GetTopRatedTVPage(apikey, 1)\n",
    "json_head(result, 24)"
   ]
  },
  {
   "cell_type": "markdown",
   "metadata": {},
   "source": [
    "### Understanding the Results\n",
    "\n",
    "Documentation: https://developers.themoviedb.org/3/tv/get-top-rated-tv\n",
    "\n",
    "Using the documentation *and* experimenting with the actual result, answer the following short questions about the result:"
   ]
  },
  {
   "cell_type": "markdown",
   "metadata": {},
   "source": [
    "**What is the type of the outermost structure, and what are the children (and their types) of that outermost structure?**"
   ]
  },
  {
   "cell_type": "markdown",
   "metadata": {
    "deletable": false,
    "nbgrader": {
     "cell_type": "markdown",
     "checksum": "0cd6c6a077ec4e8f6bde9fbc22d7641f",
     "grade": true,
     "grade_id": "cell-2a827e98eb386ec7",
     "locked": false,
     "points": 0,
     "schema_version": 3,
     "solution": true,
     "task": false
    }
   },
   "source": [
    "YOUR ANSWER HERE"
   ]
  },
  {
   "cell_type": "markdown",
   "metadata": {},
   "source": [
    "**Write a loop that iterates over the `result` data structure and, within, the returned TV shows and prints out for each one the id, the TV show name, the vote average, the vote count, the popularity, and the first air date.**\n",
    "\n",
    "Use the documentation to see the names of the fields and their data type."
   ]
  },
  {
   "cell_type": "code",
   "execution_count": null,
   "metadata": {
    "deletable": false,
    "nbgrader": {
     "cell_type": "code",
     "checksum": "340f99d644bc69ce55baefd07288e818",
     "grade": true,
     "grade_id": "cell-51efced414c45551",
     "locked": false,
     "points": 0,
     "schema_version": 3,
     "solution": true,
     "task": false
    }
   },
   "outputs": [],
   "source": [
    "# YOUR CODE HERE\n",
    "raise NotImplementedError()"
   ]
  },
  {
   "cell_type": "markdown",
   "metadata": {},
   "source": [
    "### Design TV Show Table\n",
    "\n",
    "> Our goal is to build a tabular representation of the tv shows\n",
    "\n",
    "We will design our table with fields corresponding to \n",
    "\n",
    "Field | Python Type | Notes\n",
    ":-----|:-----------:|:----------------------------\n",
    "**`id`** | int | the TMDB identifier for the TV show\n",
    "**`name`** | str | the name of the TV show (not the original name)\n",
    "**`vote_average`** | float  | Average of the ratings for the TV show\n",
    "**`vote_count`** | int | Count of ratings for the TV show\n",
    "**`popularity`** | float | TMDb Popularity Metric for the TV Show\n",
    "**`first_air_date`** | str | Date TV Show first aired"
   ]
  },
  {
   "cell_type": "markdown",
   "metadata": {},
   "source": [
    "**Write a block of code to take a JSON data structure, `result` and build a List of Dictionaries Representation called `LoD`**\n",
    "\n",
    "Also assume a variable `count_threshold` that is the *minimum* number of ratings needed for an entry in `result['results']` to get added to the LoD representation.  If you have time, consider additional variables, `date_start` and `date_end` that would check the `first_air_date` and only include TV shows that were between those two dates."
   ]
  },
  {
   "cell_type": "code",
   "execution_count": null,
   "metadata": {
    "deletable": false,
    "nbgrader": {
     "cell_type": "code",
     "checksum": "4ddf3248ebd2b8dbfe87fd3c800a5184",
     "grade": true,
     "grade_id": "cell-37867dada8a6c8b9",
     "locked": false,
     "points": 0,
     "schema_version": 3,
     "solution": true,
     "task": false
    }
   },
   "outputs": [],
   "source": [
    "count_threshold = 1000\n",
    "date_start = '2000-01-01'\n",
    "date_end = '2019-12-31'\n",
    "\n",
    "# YOUR CODE HERE\n",
    "raise NotImplementedError()\n",
    "json_head(LoD, 24)"
   ]
  },
  {
   "cell_type": "markdown",
   "metadata": {},
   "source": [
    "**Convert your code into a function `TVResult2LoD` with arguments `result`, `count_threshold`, `date_start`, and `date_end` and returns the constructed LoD**"
   ]
  },
  {
   "cell_type": "code",
   "execution_count": null,
   "metadata": {
    "deletable": false,
    "nbgrader": {
     "cell_type": "code",
     "checksum": "002a58cb6ee89b5a7040517c74bbf7b5",
     "grade": true,
     "grade_id": "cell-4bc800c2ae507a32",
     "locked": false,
     "points": 0,
     "schema_version": 3,
     "solution": true,
     "task": false
    }
   },
   "outputs": [],
   "source": [
    "# YOUR CODE HERE\n",
    "raise NotImplementedError()\n",
    "\n",
    "start = '2000-01-01'\n",
    "end = '2019-12-31'\n",
    "LoD = TVResult2LoD(result, 650, start, end)\n",
    "json_head(LoD, 24)"
   ]
  },
  {
   "cell_type": "code",
   "execution_count": null,
   "metadata": {},
   "outputs": [],
   "source": [
    "df = pd.DataFrame(LoD)\n",
    "df.head()"
   ]
  },
  {
   "cell_type": "markdown",
   "metadata": {},
   "source": [
    "### Handle Multiple Pages\n",
    "\n",
    "**Using a loop, create a single LoD that composes the LoD from pages 1 through 10**\n",
    "\n",
    "> Continue to use the filtering variables.\n",
    ">\n",
    "> Simply use the two created functions each time through the loop\n",
    ">\n",
    "> Call your aggregate LoD `Total_LoD`"
   ]
  },
  {
   "cell_type": "code",
   "execution_count": null,
   "metadata": {
    "deletable": false,
    "nbgrader": {
     "cell_type": "code",
     "checksum": "9e50daa53542d0e0eecb0771e6862d4a",
     "grade": true,
     "grade_id": "cell-d9afabf40e0d43f2",
     "locked": false,
     "points": 0,
     "schema_version": 3,
     "solution": true,
     "task": false
    }
   },
   "outputs": [],
   "source": [
    "count_threshold = 1000\n",
    "date_start = '2000-01-01'\n",
    "date_end = '2019-12-31'\n",
    "\n",
    "# YOUR CODE HERE\n",
    "raise NotImplementedError()"
   ]
  },
  {
   "cell_type": "code",
   "execution_count": null,
   "metadata": {},
   "outputs": [],
   "source": [
    "df = pd.DataFrame(Total_LoD)\n",
    "df"
   ]
  }
 ],
 "metadata": {
  "kernelspec": {
   "display_name": "Python 3",
   "language": "python",
   "name": "python3"
  },
  "language_info": {
   "codemirror_mode": {
    "name": "ipython",
    "version": 3
   },
   "file_extension": ".py",
   "mimetype": "text/x-python",
   "name": "python",
   "nbconvert_exporter": "python",
   "pygments_lexer": "ipython3",
   "version": "3.7.7"
  }
 },
 "nbformat": 4,
 "nbformat_minor": 4
}
