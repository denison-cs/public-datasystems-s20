{
 "cells": [
  {
   "cell_type": "code",
   "execution_count": 2,
   "metadata": {},
   "outputs": [],
   "source": [
    "import os.path\n",
    "import json\n",
    "import importlib\n",
    "import requests\n",
    "import webbrowser\n",
    "import base64\n",
    "from datetime import datetime, timedelta\n",
    "from requests.auth import HTTPBasicAuth\n",
    "\n",
    "import util\n",
    "from util import *"
   ]
  },
  {
   "cell_type": "markdown",
   "metadata": {},
   "source": [
    "## Try Out Token\n",
    "\n",
    "The following cell is like other API requests we have seen, we set up an endpoing and a location, and, in addition to any other request parameters we might need as Path Parameters, Query Parameters, Header Parameters, or POST-body Parameters, we include a Header parameter, where the header name is `Authorization`, and the value is `\"Bearer <access_token>\"`.  While other providers that use OAuth2 for delegated authority must have a request parameter that conveys the access token, it could take a different form, like a query parameter, for instance."
   ]
  },
  {
   "cell_type": "code",
   "execution_count": 3,
   "metadata": {},
   "outputs": [],
   "source": [
    "creds = read_creds(\"spotify\", file=\"creds.json\")\n",
    "assert 'token' in creds"
   ]
  },
  {
   "cell_type": "code",
   "execution_count": 4,
   "metadata": {},
   "outputs": [],
   "source": [
    "user_token = creds['token']"
   ]
  },
  {
   "cell_type": "code",
   "execution_count": 5,
   "metadata": {},
   "outputs": [],
   "source": [
    "location = \"api.spotify.com\"\n",
    "resource_path = \"/v1/me\"\n",
    "url = buildURL(resource_path, location)\n",
    "\n",
    "authHeader = \"Bearer {}\".format(user_token)\n",
    "headerD = {\"Authorization\": authHeader}\n",
    "\n",
    "response=requests.get(url, headers=headerD)\n",
    "if response.status_code != 200:\n",
    "    print(\"Error.  Status code:\", response.status_code)\n",
    "    print(response.text)"
   ]
  },
  {
   "cell_type": "code",
   "execution_count": 6,
   "metadata": {},
   "outputs": [
    {
     "data": {
      "text/plain": [
       "{'display_name': 'TC',\n",
       " 'external_urls': {'spotify': 'https://open.spotify.com/user/w622cqswncii4yuvtw1gq9bph'},\n",
       " 'followers': {'href': None, 'total': 0},\n",
       " 'href': 'https://api.spotify.com/v1/users/w622cqswncii4yuvtw1gq9bph',\n",
       " 'id': 'w622cqswncii4yuvtw1gq9bph',\n",
       " 'images': [],\n",
       " 'type': 'user',\n",
       " 'uri': 'spotify:user:w622cqswncii4yuvtw1gq9bph'}"
      ]
     },
     "execution_count": 6,
     "metadata": {},
     "output_type": "execute_result"
    }
   ],
   "source": [
    "response.json()"
   ]
  },
  {
   "cell_type": "code",
   "execution_count": null,
   "metadata": {},
   "outputs": [],
   "source": []
  }
 ],
 "metadata": {
  "kernelspec": {
   "display_name": "Python 3",
   "language": "python",
   "name": "python3"
  },
  "language_info": {
   "codemirror_mode": {
    "name": "ipython",
    "version": 3
   },
   "file_extension": ".py",
   "mimetype": "text/x-python",
   "name": "python",
   "nbconvert_exporter": "python",
   "pygments_lexer": "ipython3",
   "version": "3.7.7"
  }
 },
 "nbformat": 4,
 "nbformat_minor": 4
}
