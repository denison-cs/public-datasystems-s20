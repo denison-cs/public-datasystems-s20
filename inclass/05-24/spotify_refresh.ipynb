{
 "cells": [
  {
   "cell_type": "code",
   "execution_count": 2,
   "metadata": {},
   "outputs": [],
   "source": [
    "import os.path\n",
    "import json\n",
    "import importlib\n",
    "import requests\n",
    "import webbrowser\n",
    "import base64\n",
    "from datetime import datetime, timedelta\n",
    "from requests.auth import HTTPBasicAuth\n",
    "\n",
    "import util\n",
    "from util import *"
   ]
  },
  {
   "cell_type": "markdown",
   "metadata": {},
   "source": [
    "## Refresh Token"
   ]
  },
  {
   "cell_type": "code",
   "execution_count": 53,
   "metadata": {},
   "outputs": [],
   "source": [
    "creds = read_creds(\"spotify\", file=\"creds-tcb.json\")\n",
    "assert 'token' in creds\n",
    "assert 'refresh' in creds\n",
    "\n",
    "location = \"accounts.spotify.com\"\n",
    "resource_path = \"/api/token\"\n",
    "url = buildURL(resource_path, location)\n",
    "\n",
    "auth = HTTPBasicAuth(creds['client_id'], creds['client_secret'])\n",
    "bodyD = {\n",
    "    'grant_type': 'refresh_token',\n",
    "    'refresh_token': creds['refresh']\n",
    "}\n",
    "\n",
    "response = requests.post(url, auth=auth, data=bodyD)\n",
    "if response.status_code != 200:\n",
    "    print(\"Error.  Status code:\", response.status_code)\n",
    "    print(response.text)"
   ]
  },
  {
   "cell_type": "code",
   "execution_count": 54,
   "metadata": {},
   "outputs": [
    {
     "data": {
      "text/plain": [
       "{'access_token': 'BQDVrwoj7e6cVvr-r6zDTbP3R2_o6X_hzzj1nu3qwnA5Q3EV_4kvCZRTHDs7HSZx5El_JuR07nRSIaib56ZR6uQtw1GZkWI_5zwUPIViVTA5NZwazrRraorPCDXvnb5FqZzhuuz2chQ8wRmGpEZ_lUX0VyoTnLAXFg',\n",
       " 'token_type': 'Bearer',\n",
       " 'expires_in': 3600,\n",
       " 'scope': ''}"
      ]
     },
     "execution_count": 54,
     "metadata": {},
     "output_type": "execute_result"
    }
   ],
   "source": [
    "response.json()"
   ]
  },
  {
   "cell_type": "code",
   "execution_count": 60,
   "metadata": {},
   "outputs": [],
   "source": [
    "creds['token'] = tokenD['access_token']\n",
    "del creds['refresh']\n",
    "creds['scope'] = tokenD['scope']\n",
    "expiration = datetime.now() + timedelta(seconds=tokenD['expires_in'])\n",
    "creds['expires'] = str(expiration)\n",
    "update_creds(\"spotify\", creds)"
   ]
  }
 ],
 "metadata": {
  "kernelspec": {
   "display_name": "Python 3",
   "language": "python",
   "name": "python3"
  },
  "language_info": {
   "codemirror_mode": {
    "name": "ipython",
    "version": 3
   },
   "file_extension": ".py",
   "mimetype": "text/x-python",
   "name": "python",
   "nbconvert_exporter": "python",
   "pygments_lexer": "ipython3",
   "version": "3.7.7"
  }
 },
 "nbformat": 4,
 "nbformat_minor": 4
}
