{
 "cells": [
  {
   "cell_type": "markdown",
   "metadata": {},
   "source": [
    "Before you turn this problem in, make sure everything runs as expected. First, **restart the kernel** (in the menubar, select Kernel$\\rightarrow$Restart) and then **run all cells** (in the menubar, select Cell$\\rightarrow$Run All).\n",
    "\n",
    "Make sure you fill in any place that says `YOUR CODE HERE` or \"YOUR ANSWER HERE\", as well as your name and collaborators below:"
   ]
  },
  {
   "cell_type": "code",
   "execution_count": null,
   "metadata": {},
   "outputs": [],
   "source": [
    "NAME = \"\"\n",
    "COLLABORATORS = \"\""
   ]
  },
  {
   "cell_type": "markdown",
   "metadata": {},
   "source": [
    "---"
   ]
  },
  {
   "cell_type": "markdown",
   "metadata": {},
   "source": [
    "## Set User Credentials\n",
    "\n",
    "With a shared resource at a provider like a MySQL RDBMS, we need to use credentials to authenticate ourselves to the server, and need the logical location of the server itself.\n",
    "\n",
    "For these notebooks, these are kept in a text file named 'creds.json', stored either in the same directory or in a data directory.  For this notebook, this is stored in the same directory as the notebook.\n",
    "\n",
    "- Right click on the `creds.json` file and select *Open With*->*Editor*\n",
    "- The server should be correct, mapped to `\"hadoop2.mathsci.denison.edu\"`. Likewise, the scheme should be correct, mapped to `\"mysql+mysqlconnector\"`.  \n",
    "- Replace the mysql dictionary's key for \"user\" (currently `\"nostudent\"`) with the base part of your email address (i.e. without the `@denison.edu`).  Your password on the mysql server, at present, is the same as your username, so change that from `\"nostudent\"` as well.  \n",
    "- **NEW INSTRUCTIONS** Lastly, change `database` from `\"nostudent\"` to your username, because you will be creating and dropping tables, and this must happen in your own space.\n",
    "\n",
    "**Make sure to use double quotes for strings** ... this is `JSON`, not Python, and we have to follow JSON syntax.\n",
    "\n",
    "Once this is complete, execute the following cell to connect to the database using SQL alchemy. If you are off-campus you will need to use a VPN first.\n",
    "\n",
    "We have set it up so that you have **both** sqlalchemy engine/connection objects **and** a connection to allow the use of cell magics.  During the course of the notebook, you will use the sql magics to allow trial and experimentation, but we will also develop functions that use the sqlalchemy engine/connection to allow us to abstract one or more SQL statements as a function."
   ]
  },
  {
   "cell_type": "code",
   "execution_count": null,
   "metadata": {},
   "outputs": [],
   "source": [
    "import pandas as pd\n",
    "import os\n",
    "import os.path\n",
    "import json\n",
    "import sqlalchemy as sa\n",
    "\n",
    "def getmysql_creds(dirname=\".\",filename=\"creds.json\"):\n",
    "    \"\"\" Using directory and filename parameters, open a credentials file\n",
    "        and obtain the four parts needed for a connection string to\n",
    "        a remote provider using the \"mysql\" dictionary within\n",
    "        an outer dictionary.  \n",
    "        \n",
    "        Return a scheme, server, user, and password\n",
    "    \"\"\"\n",
    "    assert os.path.isfile(os.path.join(dirname, filename))\n",
    "    with open(os.path.join(dirname, filename)) as f:\n",
    "        D = json.load(f)\n",
    "    mysql = D[\"mysql\"]\n",
    "    return mysql[\"scheme\"], mysql[\"server\"], mysql[\"user\"], mysql[\"pass\"],mysql[\"database\"]\n",
    "\n",
    "scheme, server, u, password, database = getmysql_creds()\n",
    "template = '{}://{}:{}@{}/{}'\n",
    "\n",
    "cstring = template.format(scheme, u, password, server,database)\n",
    "\n",
    "engine=sa.create_engine(cstring)\n",
    "\n",
    "print(cstring) # you should be in your personal \n",
    "               # database space now, if you edited the JSON"
   ]
  },
  {
   "cell_type": "code",
   "execution_count": null,
   "metadata": {},
   "outputs": [],
   "source": [
    "%load_ext sql"
   ]
  },
  {
   "cell_type": "code",
   "execution_count": null,
   "metadata": {},
   "outputs": [],
   "source": [
    "%sql $cstring"
   ]
  },
  {
   "cell_type": "markdown",
   "metadata": {},
   "source": [
    "If we query the database server for the set of tables defined for the default database, we should see an \"empty\" database."
   ]
  },
  {
   "cell_type": "code",
   "execution_count": null,
   "metadata": {},
   "outputs": [],
   "source": [
    "%sql SHOW TABLES"
   ]
  },
  {
   "cell_type": "markdown",
   "metadata": {},
   "source": [
    "Since the python variable `database` references a string naming our default database (the same as our username), if we ever change our default database, we can change the default back using the following cell."
   ]
  },
  {
   "cell_type": "code",
   "execution_count": null,
   "metadata": {},
   "outputs": [],
   "source": [
    "%sql USE $database"
   ]
  },
  {
   "cell_type": "code",
   "execution_count": null,
   "metadata": {},
   "outputs": [],
   "source": [
    "%sql SHOW TABLES"
   ]
  },
  {
   "cell_type": "markdown",
   "metadata": {},
   "source": [
    "**Q1** When we have defined a sound database structure, and identified the table names, column attributes, data types for the column attributes, and the single/composite primary key for a table, we can now tell SQL to create a table.\n",
    "\n",
    "The first link below takes you to the TutorialsPoint tutorial section on creating SQL tables.  Read the section and then copy the CREATE TABLE SQL into the following cell (where it says `query`) and execute it, to create a table called `CUSTOMERS`.  Note: even though this query is not SELECTing something, it's still a query just like we've seen before.\n",
    "\n",
    "Try and understand the format of the CREATE and how the column names are separated, the data types and constraints for the column are specified, and how the primary key (a singleton) is specified. \n",
    "\n",
    "Repeat the above SHOW TABLES sql.  Then try and execute the CREATE a second time.  Read the error and see what you get.\n",
    "\n",
    "The second link below takes you to a set of pages that give more detail about the data types supported by our MySQL server.\n",
    "\n",
    "- [Create Table](https://www.tutorialspoint.com/sql/sql-create-table.htm)  \n",
    "- [MySQL Data Types](https://dev.mysql.com/doc/refman/5.7/en/data-types.html)"
   ]
  },
  {
   "cell_type": "code",
   "execution_count": null,
   "metadata": {
    "deletable": false,
    "nbgrader": {
     "cell_type": "code",
     "checksum": "ec6f5b1f4e14202b66dc3c2916257316",
     "grade": false,
     "grade_id": "cell-6afcd9515e010cd2",
     "locked": false,
     "schema_version": 3,
     "solution": true,
     "task": false
    }
   },
   "outputs": [],
   "source": [
    "# Solution cell\n",
    "query = \"\"\"\n",
    "\"\"\"\n",
    "# YOUR CODE HERE\n",
    "raise NotImplementedError()\n",
    "%sql $query"
   ]
  },
  {
   "cell_type": "code",
   "execution_count": null,
   "metadata": {
    "deletable": false,
    "editable": false,
    "nbgrader": {
     "cell_type": "code",
     "checksum": "2a0fa6333a9ba0e8ef2565cfe8432bbc",
     "grade": true,
     "grade_id": "cell-fb519a90aa912e6c",
     "locked": true,
     "points": 1,
     "schema_version": 3,
     "solution": false,
     "task": false
    }
   },
   "outputs": [],
   "source": [
    "# Testing cell\n",
    "assert 'CREATE' in query\n",
    "assert 'CustAddress' in query\n",
    "assert 'DECIMAL (18, 2)' in query"
   ]
  },
  {
   "cell_type": "code",
   "execution_count": null,
   "metadata": {},
   "outputs": [],
   "source": [
    "%sql SHOW TABLES"
   ]
  },
  {
   "cell_type": "code",
   "execution_count": null,
   "metadata": {},
   "outputs": [],
   "source": [
    "%sql SELECT * FROM CUSTOMERS"
   ]
  },
  {
   "cell_type": "markdown",
   "metadata": {},
   "source": [
    "**Q2** The link below takes you to the TutorialsPoint tutorial section on removing (DROPing) an SQL table.  In the following cell, use SQL to delete the table you created.\n",
    "\n",
    "[Drop Table](https://www.tutorialspoint.com/sql/sql-drop-table.htm)"
   ]
  },
  {
   "cell_type": "code",
   "execution_count": null,
   "metadata": {
    "deletable": false,
    "nbgrader": {
     "cell_type": "code",
     "checksum": "f9bf7cf0b86ef4e98e445450f32f04a7",
     "grade": false,
     "grade_id": "cell-5e617d6358624d3c",
     "locked": false,
     "schema_version": 3,
     "solution": true,
     "task": false
    }
   },
   "outputs": [],
   "source": [
    "# Solution cell\n",
    "query = \"\"\"\n",
    "\"\"\"\n",
    "# YOUR CODE HERE\n",
    "raise NotImplementedError()\n",
    "%sql $query"
   ]
  },
  {
   "cell_type": "code",
   "execution_count": null,
   "metadata": {
    "deletable": false,
    "editable": false,
    "nbgrader": {
     "cell_type": "code",
     "checksum": "86638e08080a1528dc0e0d51e3ff26f8",
     "grade": true,
     "grade_id": "cell-81860fc8a766371a",
     "locked": true,
     "points": 1,
     "schema_version": 3,
     "solution": false,
     "task": false
    }
   },
   "outputs": [],
   "source": [
    "# Testing cell\n",
    "\n",
    "assert 'DROP' in query\n",
    "assert 'TABLE' in query"
   ]
  },
  {
   "cell_type": "markdown",
   "metadata": {},
   "source": [
    "If we strictly alternate between a DROP and a CREATE, we can iteratively refine our definition of a table in our database to get what we want.  However, sometimes we know we want to DROP a table, whether or not it already exists (and note that DROPing a table will **lose** all data contained in that table), and then CREATE our new version of the table.\n",
    "\n",
    "The cell below gives the extended DROP syntax that allows us to DROP a table if it exists.  With an existing CUSTOMERS table, execute the following line, and then execute it again."
   ]
  },
  {
   "cell_type": "code",
   "execution_count": null,
   "metadata": {},
   "outputs": [],
   "source": [
    "%sql DROP TABLE IF EXISTS CUSTOMERS"
   ]
  },
  {
   "cell_type": "markdown",
   "metadata": {},
   "source": [
    "If we do a SHOW TABLES and know that the table exists, but are in the midst of development and want to remind ourselves of the columns attributes and data types for a table, we can use the DESCRIBE SQL statement.  Re-create the CUSTOMERS table and then execute the cell below:"
   ]
  },
  {
   "cell_type": "code",
   "execution_count": null,
   "metadata": {},
   "outputs": [],
   "source": [
    "%sql DESCRIBE CUSTOMERS"
   ]
  },
  {
   "cell_type": "markdown",
   "metadata": {},
   "source": [
    "**Q3** In the cell below, write a Python function \n",
    "`\n",
    "dropcreate_CUSTOMERS(conn)\n",
    "`\n",
    "that, given an sqlalchemy connection, will perform the two steps of dropping the CUSTOMERS table if it exists, and then CREATEs the customer table.  In this case, we are assuming in the function the schema for the customers table, and so there are no Python variables to bind, we simply need strings for each of the SQL commands, and the ability to execute.\n",
    "\n",
    "In your answer, please create these strings, then execute both, then return both strings (drop statement then create statement)."
   ]
  },
  {
   "cell_type": "code",
   "execution_count": null,
   "metadata": {
    "deletable": false,
    "nbgrader": {
     "cell_type": "code",
     "checksum": "e12930adaefff18a8cfeba7aa5f54e55",
     "grade": false,
     "grade_id": "cell-1b771085bf01f4e1",
     "locked": false,
     "schema_version": 3,
     "solution": true,
     "task": false
    }
   },
   "outputs": [],
   "source": [
    "# Solution cell\n",
    "# YOUR CODE HERE\n",
    "raise NotImplementedError()"
   ]
  },
  {
   "cell_type": "code",
   "execution_count": null,
   "metadata": {},
   "outputs": [],
   "source": [
    "# Run this cell\n",
    "with engine.connect() as connection:\n",
    "    d,c = dropcreate_CUSTOMERS(connection)"
   ]
  },
  {
   "cell_type": "code",
   "execution_count": null,
   "metadata": {},
   "outputs": [],
   "source": [
    "%sql SHOW TABLES"
   ]
  },
  {
   "cell_type": "code",
   "execution_count": null,
   "metadata": {},
   "outputs": [],
   "source": [
    "%sql DESCRIBE CUSTOMERS"
   ]
  },
  {
   "cell_type": "code",
   "execution_count": null,
   "metadata": {
    "deletable": false,
    "editable": false,
    "nbgrader": {
     "cell_type": "code",
     "checksum": "50fee0e72f7cbd890a0dfce954a32bc5",
     "grade": true,
     "grade_id": "cell-f3b269017c85ae13",
     "locked": true,
     "points": 2,
     "schema_version": 3,
     "solution": false,
     "task": false
    }
   },
   "outputs": [],
   "source": [
    "# Testing cell\n",
    "assert 'DROP' in d\n",
    "assert 'EXISTS' in d\n",
    "assert 'NOT NULL' in c\n",
    "assert 'PRIMARY KEY' in c"
   ]
  },
  {
   "cell_type": "markdown",
   "metadata": {},
   "source": [
    "**Q4** Say that we want to create the tables in a database for a dataset given to us as a csv file.  Consider the `movies.csv` assigned as a DataFrame to the `movies` variable below:"
   ]
  },
  {
   "cell_type": "code",
   "execution_count": null,
   "metadata": {},
   "outputs": [],
   "source": [
    "movies = pd.read_csv(\"movies.csv\")\n",
    "movies.head()"
   ]
  },
  {
   "cell_type": "code",
   "execution_count": null,
   "metadata": {},
   "outputs": [],
   "source": [
    "type(movies.iloc[0,0])"
   ]
  },
  {
   "cell_type": "markdown",
   "metadata": {},
   "source": [
    "We see that the movies dataset has three columns, an integer giving a unique id for the movie, a title as a string, and genres, and verticle bar separated list of genres attributed to the given movie.  Setting aside the fact that this dataset does not conform to relational database standards of third normal form, let us build a SQL table that can simply hold the data as given to us.  \n",
    "\n",
    "We need to come up with a table schema that, for the strings, uses a `VARCHAR(n)` for each attribute where `n` is large enough for the longest anticipated string in our dataset. Note that `n` should be a power of 2. The cells below apply the len function to the column vector of title and genres and updates the dataframe with these new columns.  We will not be using these columns in the SQL table, but it can inform our schema."
   ]
  },
  {
   "cell_type": "code",
   "execution_count": null,
   "metadata": {},
   "outputs": [],
   "source": [
    "movies['titlelen'] = movies.title.apply(len)\n",
    "movies['genrelen'] = movies.genres.apply(len)\n",
    "movies.head()"
   ]
  },
  {
   "cell_type": "code",
   "execution_count": null,
   "metadata": {},
   "outputs": [],
   "source": [
    "print(max(movies.titlelen), max(movies.genrelen))"
   ]
  },
  {
   "cell_type": "markdown",
   "metadata": {},
   "source": [
    "**Q5** As we did with the `CUSTOMERS` table, write a function \n",
    "`\n",
    "dropcreate_Movies(conn)\n",
    "`\n",
    "that drops the Movie table if it exists, and then creates a Movie table with fields for `movieId`, `title`, and `genres`, with appropriate data types and `movieId` as the primary key.  Suppose that it is OK for the genres field to be NULL, but not the title.  Also note that, while we are using the same column names in our SQL table as those present in the csv, this need not be the case, and that if we wanted to rename columns, we would need to do it at this point. \n",
    "\n",
    "As before, please return the drop statement and the create statement, after executing them."
   ]
  },
  {
   "cell_type": "code",
   "execution_count": null,
   "metadata": {
    "deletable": false,
    "nbgrader": {
     "cell_type": "code",
     "checksum": "54d2a47c636a1dbe9479fb78d540aeac",
     "grade": false,
     "grade_id": "cell-dc4446ba5cd0ce76",
     "locked": false,
     "schema_version": 3,
     "solution": true,
     "task": false
    }
   },
   "outputs": [],
   "source": [
    "# Solution cell\n",
    "# YOUR CODE HERE\n",
    "raise NotImplementedError()"
   ]
  },
  {
   "cell_type": "code",
   "execution_count": null,
   "metadata": {},
   "outputs": [],
   "source": [
    "# Run this cell\n",
    "with engine.connect() as connection:\n",
    "    d,c = dropcreate_Movies(connection)"
   ]
  },
  {
   "cell_type": "code",
   "execution_count": null,
   "metadata": {},
   "outputs": [],
   "source": [
    "%sql SHOW TABLES"
   ]
  },
  {
   "cell_type": "code",
   "execution_count": null,
   "metadata": {},
   "outputs": [],
   "source": [
    "%sql DESCRIBE Movies"
   ]
  },
  {
   "cell_type": "code",
   "execution_count": null,
   "metadata": {
    "deletable": false,
    "editable": false,
    "nbgrader": {
     "cell_type": "code",
     "checksum": "ca57edda6a08a00105a35fa068e2ea86",
     "grade": true,
     "grade_id": "cell-9eb93821f6c0f0b8",
     "locked": true,
     "points": 2,
     "schema_version": 3,
     "solution": false,
     "task": false
    }
   },
   "outputs": [],
   "source": [
    "# Testing cell\n",
    "assert 'DROP' in d\n",
    "assert 'EXISTS' in d\n",
    "assert 'Movies' in d\n",
    "assert 'NOT NULL' in c\n",
    "assert 'PRIMARY KEY' in c\n",
    "assert 'Movies' in c\n",
    "assert '(' in c"
   ]
  },
  {
   "cell_type": "markdown",
   "metadata": {},
   "source": [
    "You should now have a `Movies` table in your personal database space. The next step is to populate this new table with data."
   ]
  },
  {
   "cell_type": "markdown",
   "metadata": {},
   "source": [
    "The link below takes you to the TutorialsPoint tutorial on the SQL INSERT statement.  Read the page and then come back to experiment with the INSERT's below.\n",
    "\n",
    "[SQL INSERT](https://www.tutorialspoint.com/sql/sql-insert-query.htm)"
   ]
  },
  {
   "cell_type": "markdown",
   "metadata": {},
   "source": [
    "Depending on how you last left the Schema for the CUSTOMERS table, you may be able to execute the following SQL insert statement.  If it does not work, use DESCRIBE and try to figure out why.  Once you are able to successfully insert the tuple, try and insert the same tuple a second time.  Explore the error message and see what the error is telling you."
   ]
  },
  {
   "cell_type": "code",
   "execution_count": null,
   "metadata": {},
   "outputs": [],
   "source": [
    "%%sql \n",
    "INSERT INTO CUSTOMERS (ID, NAME, AGE, ADDRESS, SALARY)\n",
    "       VALUES (1, 'Bressoud, Thomas', 42, '1234 Main St', 140000)"
   ]
  },
  {
   "cell_type": "markdown",
   "metadata": {},
   "source": [
    "**Q6** Describe what happened the first time you executed the command above (i.e. what was displayed after you ran the cell, and what it meant). Then describe what happened the second time. Then explain why."
   ]
  },
  {
   "cell_type": "markdown",
   "metadata": {
    "deletable": false,
    "nbgrader": {
     "cell_type": "markdown",
     "checksum": "4563e0491f3f32946a673d17f6df2860",
     "grade": true,
     "grade_id": "cell-9bff1f83c432e788",
     "locked": false,
     "points": 1,
     "schema_version": 3,
     "solution": true,
     "task": false
    }
   },
   "source": [
    "YOUR ANSWER HERE"
   ]
  },
  {
   "cell_type": "code",
   "execution_count": null,
   "metadata": {},
   "outputs": [],
   "source": [
    "%sql SELECT * FROM CUSTOMERS"
   ]
  },
  {
   "cell_type": "markdown",
   "metadata": {},
   "source": [
    "Consider the INSERT in the cell below.  How does that differ from the first INSERT?  Try rearranging the order of the fields and explore what works and what does not work. Make it so that the `SELECT` statement below yields two rows in the database (one for `TB` and one for `MS`)."
   ]
  },
  {
   "cell_type": "code",
   "execution_count": null,
   "metadata": {},
   "outputs": [],
   "source": [
    "%%sql\n",
    "INSERT INTO CUSTOMERS (ID, AGE, NAME)\n",
    "       VALUES (2, 27, 'Mary Sykes')"
   ]
  },
  {
   "cell_type": "code",
   "execution_count": null,
   "metadata": {},
   "outputs": [],
   "source": [
    "%sql SELECT * FROM CUSTOMERS"
   ]
  },
  {
   "cell_type": "markdown",
   "metadata": {},
   "source": [
    "**Q7** What happened when you swapped the order of AGE and NAME?"
   ]
  },
  {
   "cell_type": "markdown",
   "metadata": {
    "deletable": false,
    "nbgrader": {
     "cell_type": "markdown",
     "checksum": "7846401f338bf0c617bc46a6d2d29cf1",
     "grade": true,
     "grade_id": "cell-9b24ae20a109302a",
     "locked": false,
     "points": 1,
     "schema_version": 3,
     "solution": true,
     "task": false
    }
   },
   "source": [
    "YOUR ANSWER HERE"
   ]
  },
  {
   "cell_type": "markdown",
   "metadata": {},
   "source": [
    "Consider the INSERT in the cell below.  How does that differ from the first and second INSERT?  Try rearranging the order of the fields and explore what works and what does not work. Make it so that the `SELECT` statement afterwards yields three total entries in `CUSTOMERS`."
   ]
  },
  {
   "cell_type": "code",
   "execution_count": null,
   "metadata": {
    "deletable": false,
    "nbgrader": {
     "cell_type": "code",
     "checksum": "400a7b43a3b111cc73cf630905c15c4d",
     "grade": false,
     "grade_id": "cell-25bd5b75f4a8d64e",
     "locked": false,
     "schema_version": 3,
     "solution": true,
     "task": false
    }
   },
   "outputs": [],
   "source": [
    "%%sql\n",
    "INSERT INTO CUSTOMERS VALUES (3, 'Weinberg, Adam', '131 W. Broadway', 50, 350000)\n",
    "\n",
    "# YOUR CODE HERE\n",
    "raise NotImplementedError()"
   ]
  },
  {
   "cell_type": "code",
   "execution_count": null,
   "metadata": {},
   "outputs": [],
   "source": [
    "%sql SELECT * FROM CUSTOMERS"
   ]
  },
  {
   "cell_type": "markdown",
   "metadata": {},
   "source": [
    "**Q8** Explain what went wrong with the first insert statement, and how you fixed this. Please reference \"type\" in your answer."
   ]
  },
  {
   "cell_type": "markdown",
   "metadata": {
    "deletable": false,
    "nbgrader": {
     "cell_type": "markdown",
     "checksum": "829c4983f2163601586be55d345409b4",
     "grade": true,
     "grade_id": "cell-1393dafa2ca317b6",
     "locked": false,
     "points": 1,
     "schema_version": 3,
     "solution": true,
     "task": false
    }
   },
   "source": [
    "YOUR ANSWER HERE"
   ]
  },
  {
   "cell_type": "markdown",
   "metadata": {},
   "source": [
    "Consider the INSERT in the cell below.  How does that differ from the first and second INSERT?  Try rearranging the order of the fields and explore what works and what does not work."
   ]
  },
  {
   "cell_type": "code",
   "execution_count": null,
   "metadata": {},
   "outputs": [],
   "source": [
    "%%sql   \n",
    "INSERT INTO CUSTOMERS VALUES (4, 'Kretchmar, R. Matthew', 30, NULL, NULL)"
   ]
  },
  {
   "cell_type": "code",
   "execution_count": null,
   "metadata": {},
   "outputs": [],
   "source": [
    "%sql SELECT * FROM CUSTOMERS"
   ]
  },
  {
   "cell_type": "markdown",
   "metadata": {},
   "source": [
    "**Q9** What do you notice about what's wrong with the four rows presently in your database? How would this be fixed?"
   ]
  },
  {
   "cell_type": "markdown",
   "metadata": {
    "deletable": false,
    "nbgrader": {
     "cell_type": "markdown",
     "checksum": "804140cc084955f1f6938c5188e6ba4e",
     "grade": true,
     "grade_id": "cell-f80049fb61a8f5bf",
     "locked": false,
     "points": 1,
     "schema_version": 3,
     "solution": true,
     "task": false
    }
   },
   "source": [
    "YOUR ANSWER HERE"
   ]
  },
  {
   "cell_type": "markdown",
   "metadata": {},
   "source": [
    "**Q10** Given what you have learned about INSERT, write a function:\n",
    "`\n",
    "insert_Movies(conn, ident, title, genres)\n",
    "`\n",
    "That, given an active sqlalchemy database connection and the triple of parameters of a movie identifier, a title, and a genres string, will insert the tuple into the `Movies` table.  Note that here you have variables to bind, and so you will have to refer back to our earlier work on this subject in the prior notebook on SQL programming.\n",
    "\n",
    "The statement you execute in this problem will be a bound statement. Please return this bound statement (as a string) at the end of your function."
   ]
  },
  {
   "cell_type": "code",
   "execution_count": null,
   "metadata": {
    "deletable": false,
    "nbgrader": {
     "cell_type": "code",
     "checksum": "8f604ace6d60df0511f222fe4fe2c983",
     "grade": false,
     "grade_id": "cell-8324ca953e56aa70",
     "locked": false,
     "schema_version": 3,
     "solution": true,
     "task": false
    }
   },
   "outputs": [],
   "source": [
    "# YOUR CODE HERE\n",
    "raise NotImplementedError()"
   ]
  },
  {
   "cell_type": "markdown",
   "metadata": {},
   "source": [
    "Try it out, experimenting with invocations using the following cell example as a starting point."
   ]
  },
  {
   "cell_type": "code",
   "execution_count": null,
   "metadata": {},
   "outputs": [],
   "source": [
    "# Run this cell\n",
    "with engine.connect() as connection:\n",
    "    s = insert_Movies(connection, 1, \"New Movie (2020)\", \"Comedy\")"
   ]
  },
  {
   "cell_type": "code",
   "execution_count": null,
   "metadata": {},
   "outputs": [],
   "source": [
    "%sql SELECT * from Movies"
   ]
  },
  {
   "cell_type": "code",
   "execution_count": null,
   "metadata": {
    "deletable": false,
    "editable": false,
    "nbgrader": {
     "cell_type": "code",
     "checksum": "ce9938c2cce6e3ec38c8bdfdc1034df9",
     "grade": true,
     "grade_id": "cell-38eac51be70533e2",
     "locked": true,
     "points": 3,
     "schema_version": 3,
     "solution": false,
     "task": false
    }
   },
   "outputs": [],
   "source": [
    "# Testing cell\n",
    "assert 'INSERT' in str(s)\n",
    "assert 'movieId' in str(s)\n",
    "assert 'VALUES' in str(s)\n",
    "assert 'genres' in str(s)"
   ]
  },
  {
   "cell_type": "markdown",
   "metadata": {},
   "source": [
    "You can always \"start again\" by executing the `dropcreate_Movies()` function."
   ]
  },
  {
   "cell_type": "code",
   "execution_count": null,
   "metadata": {},
   "outputs": [],
   "source": [
    "with engine.connect() as connection:\n",
    "    dropcreate_Movies(connection)"
   ]
  },
  {
   "cell_type": "code",
   "execution_count": null,
   "metadata": {},
   "outputs": [],
   "source": [
    "%sql SELECT * from Movies"
   ]
  },
  {
   "cell_type": "markdown",
   "metadata": {},
   "source": [
    "Please insert your five favorite movies into the table, then check with the command below that you have five movies."
   ]
  },
  {
   "cell_type": "code",
   "execution_count": null,
   "metadata": {},
   "outputs": [],
   "source": [
    "%sql SELECT COUNT(*) from Movies"
   ]
  },
  {
   "cell_type": "markdown",
   "metadata": {},
   "source": [
    "**Q11** Write a function\n",
    "`\n",
    "createpopulate_Movies(conn, df)\n",
    "`\n",
    "that, given an sqlalchemy connection and a dataframe containing the dataset constructed from `movies.csv` will drop/create the Movies table and then iterate over the rows in the dataframe adding each to the SQL table until fully populated. Your function should call `dropcreate_Movies` and should not return anything. Instead, it creates a table in your personal database space."
   ]
  },
  {
   "cell_type": "code",
   "execution_count": null,
   "metadata": {
    "deletable": false,
    "nbgrader": {
     "cell_type": "code",
     "checksum": "671571ebf7dae9c829816bfd127871c7",
     "grade": false,
     "grade_id": "cell-34538dc1ad29bc8b",
     "locked": false,
     "schema_version": 3,
     "solution": true,
     "task": false
    }
   },
   "outputs": [],
   "source": [
    "# YOUR CODE HERE\n",
    "raise NotImplementedError()"
   ]
  },
  {
   "cell_type": "code",
   "execution_count": null,
   "metadata": {},
   "outputs": [],
   "source": [
    "# Make this cell work before running the one below.\n",
    "mov = pd.read_csv('movies.csv')\n",
    "with engine.connect() as connection:\n",
    "    createpopulate_Movies(connection,mov,100)"
   ]
  },
  {
   "cell_type": "code",
   "execution_count": null,
   "metadata": {
    "deletable": false,
    "editable": false,
    "nbgrader": {
     "cell_type": "code",
     "checksum": "dec67c9d9cae14fd3b55039b8fa15b8b",
     "grade": true,
     "grade_id": "cell-019d1d2bb4ecb44e",
     "locked": true,
     "points": 3,
     "schema_version": 3,
     "solution": false,
     "task": false
    }
   },
   "outputs": [],
   "source": [
    "# Testing cell\n",
    "resultset = %sql SELECT * FROM Movies\n",
    "resultdf = resultset.DataFrame()\n",
    "assert resultdf.shape == (100,3)\n",
    "assert '1995' in resultdf.iloc[0,1]\n",
    "assert 'Romance' in resultdf.iloc[3,2]\n",
    "resultdf.head()"
   ]
  },
  {
   "cell_type": "markdown",
   "metadata": {},
   "source": [
    "**Q12** Discuss, from the point of view of database design, how to fix the issue in the third column of your new `Movies` table."
   ]
  },
  {
   "cell_type": "markdown",
   "metadata": {
    "deletable": false,
    "nbgrader": {
     "cell_type": "markdown",
     "checksum": "e8b4f717e451ca76e9a10ab275d6dc4f",
     "grade": true,
     "grade_id": "cell-e3aa73741a653cb0",
     "locked": false,
     "points": 1,
     "schema_version": 3,
     "solution": true,
     "task": false
    }
   },
   "source": [
    "YOUR ANSWER HERE"
   ]
  }
 ],
 "metadata": {
  "kernelspec": {
   "display_name": "Python 3",
   "language": "python",
   "name": "python3"
  },
  "language_info": {
   "codemirror_mode": {
    "name": "ipython",
    "version": 3
   },
   "file_extension": ".py",
   "mimetype": "text/x-python",
   "name": "python",
   "nbconvert_exporter": "python",
   "pygments_lexer": "ipython3",
   "version": "3.7.6"
  }
 },
 "nbformat": 4,
 "nbformat_minor": 2
}
