{
 "cells": [
  {
   "cell_type": "markdown",
   "metadata": {
    "nbgrader": {
     "grade": false,
     "grade_id": "cell-b7ad669b2ef04f9e",
     "locked": true,
     "schema_version": 3,
     "solution": false
    }
   },
   "source": [
    "# Text versus Binary Files and JSON\n",
    "\n",
    "This worksheet is based on sections 2.4 \n",
    "\n",
    "This in-class activity illustrates some of what you can do with JSON, and should help you to understand the difference between text and binary files.\n",
    "\n",
    "Please run the cell below."
   ]
  },
  {
   "cell_type": "code",
   "execution_count": 2,
   "metadata": {
    "nbgrader": {
     "grade": false,
     "grade_id": "cell-e6422b628a626980",
     "locked": true,
     "schema_version": 3,
     "solution": false
    }
   },
   "outputs": [],
   "source": [
    "import json\n",
    "import os\n",
    "\n",
    "file1 = 'numbers.json'\n",
    "file2 = 'numbers.dat'\n",
    "\n",
    "# Create a simple list consisting of integer values\n",
    "vars = [198, 247, 0, 128]\n",
    "\n",
    "# Convert the list of integer values into a single binary byte value\n",
    "bvars = bytes(vars)"
   ]
  },
  {
   "cell_type": "markdown",
   "metadata": {},
   "source": [
    "# Text/Strings versus Binary\n",
    "\n",
    "- A **string** is a sequence of text characters, where each character comes from the set of visible characters (available on a keyboard) plus certain control characters, like newline, (horizontal) tab, and carriage return.\n",
    "\n",
    "- When a **file** is comprised of a sequence of text characters (in some encoding like UTF-8), it is called a **text file**.  A file that contains \"raw\" bytes, where integers, floats, and object variables retain their in-memory representation, is called a **binary file**.\n",
    "\n",
    "- In Python, a **bytes** data type is used to obtain the underlying \"raw\" bytes of integers, floating point numbers, and even more complex data structures, like lists."
   ]
  },
  {
   "cell_type": "markdown",
   "metadata": {},
   "source": [
    "### Initial Questions\n",
    "\n",
    "1. Is `vars`, as it resides in memory in a Python program, a sequence of characters?  ... if we were able to \"look\" at how this list was stored, would we be able to see, in that storage, the `'['`, the `','`, the character `'1'`, etc?\n",
    "2. Write down a string with that sequence of characters and name it `vars2`; Is it a legal operation to, for instance, access `vars2[0]`?  What do you get, if you do?"
   ]
  },
  {
   "cell_type": "markdown",
   "metadata": {},
   "source": [
    "## Writing from Python to Files\n",
    "\n",
    "**Q** In the next cell, create a **string** that corresponds to the `vars` list of integers and then write that out to `numbers0.txt`."
   ]
  },
  {
   "cell_type": "code",
   "execution_count": null,
   "metadata": {},
   "outputs": [],
   "source": []
  },
  {
   "cell_type": "markdown",
   "metadata": {},
   "source": [
    "**Q** In the next cell, write the binary (bytes) version of `vars` to the file `numbers0.dat`"
   ]
  },
  {
   "cell_type": "code",
   "execution_count": null,
   "metadata": {},
   "outputs": [],
   "source": []
  },
  {
   "cell_type": "markdown",
   "metadata": {},
   "source": [
    "**Q** In the next cell, use the `json` `dump` function to write `vars` to `numbers.json`.  Here is the link to the documentation: https://docs.python.org/3/library/json.html#basic-usage, and here is a link to the book section: https://tcbressoud.github.io/datasystems-bookweb/2-ch-filesystems.html#writing-data-structures-to-json"
   ]
  },
  {
   "cell_type": "code",
   "execution_count": null,
   "metadata": {},
   "outputs": [],
   "source": []
  },
  {
   "cell_type": "markdown",
   "metadata": {},
   "source": [
    "## Exploring text and binary files using Atom\n",
    "\n",
    "Now, follow along with your instructor looking at the hex representation of the actual bytes of text and binary files."
   ]
  },
  {
   "cell_type": "markdown",
   "metadata": {},
   "source": [
    "## Reading from JSON\n",
    "\n",
    "**Q** Create a text file named `test.json` (using either Atom or the Text Editor of Jupyter Lab) and add contents for a single top level data structure that contains a combination of one or more dictionaries, one or more lists, and uses integer and string values.  Make sure you delimit every string value with one double quote at the beginning and one double quote at the end."
   ]
  },
  {
   "cell_type": "markdown",
   "metadata": {},
   "source": [
    "**Q** In the next cell, open the file you created above, and then use the `load` function of the JSON module to read the value into a variable, `vars2`. Then use the `type` function to see its type."
   ]
  },
  {
   "cell_type": "code",
   "execution_count": null,
   "metadata": {},
   "outputs": [],
   "source": []
  },
  {
   "cell_type": "markdown",
   "metadata": {
    "nbgrader": {
     "grade": false,
     "grade_id": "cell-384ed3b7598695ed",
     "locked": true,
     "schema_version": 3,
     "solution": false
    }
   },
   "source": [
    "# JSON\n",
    "\n",
    "JSON files are text files, which can be used to easily move between Python data structures (e.g., lists, dictionaries) and files containing data (e.g., csv, txt). Recall that *binary files* are files whose bytes directly represent underlying data types, like integers and floats, rather than textual data. You have probably had the experience in the past of struggling to open a binary file, since a text editor cannot always convert the bytes into meaningful information for you. JSON files help manage this conversion.\n",
    "\n",
    "**Q1** (warmup) In the `babyNames()` function below, open the file named `babynames.csv`. Create a dictionary to contain the names as keys and the numbers as values. Read each line of the file, rather than reading the entire file all at once. Make sure you close the file. Populate and return the dictionary you have created.\n",
    "\n",
    "Note: if time is of the essence, you can skip this problem."
   ]
  },
  {
   "cell_type": "code",
   "execution_count": 1,
   "metadata": {
    "nbgrader": {
     "grade": false,
     "grade_id": "cell-2cc9348043a8ae46",
     "locked": false,
     "schema_version": 3,
     "solution": true
    }
   },
   "outputs": [],
   "source": [
    "# Solution cell\n",
    "\n",
    "def babyNames():\n",
    "    \"\"\"Open the comma-separated value file babynames.csv and return a \n",
    "    dictionary with names as keys and numbers of applications as values.\n",
    "    \n",
    "    \"\"\"\n",
    "    ### BEGIN SOLUTION\n",
    "    fh = open(\"babynames.csv\", 'r')\n",
    "    bN = {}\n",
    "    for line in fh:\n",
    "        name = line.split(',')[1].strip()\n",
    "        number = line.split(',')[0]\n",
    "        bN[name] = number\n",
    "    fh.close()\n",
    "    return bN\n",
    "    ### END SOLUTION"
   ]
  },
  {
   "cell_type": "code",
   "execution_count": 2,
   "metadata": {
    "nbgrader": {
     "grade": true,
     "grade_id": "cell-bb25e01796fb8a1c",
     "locked": true,
     "points": 2,
     "schema_version": 3,
     "solution": false
    }
   },
   "outputs": [],
   "source": [
    "assert isinstance(babyNames(), dict)\n",
    "assert len(babyNames().keys()) == 6\n",
    "assert '22127' == babyNames()['Jacob']"
   ]
  },
  {
   "cell_type": "markdown",
   "metadata": {},
   "source": [
    "In case you didn't have time for the problem above, the cell below gives you the dictionary the function above wold have created, which you can use in the problems below."
   ]
  },
  {
   "cell_type": "code",
   "execution_count": 5,
   "metadata": {},
   "outputs": [],
   "source": [
    "bN = {\"Jacob\":\"22127\", \"Ethan\":\"18002\", \"Michael\":\"17350\", \"Jayden\":\"17179\", \"William\":\"17051\", \"Alexander\":\"16756\"}\n"
   ]
  },
  {
   "cell_type": "markdown",
   "metadata": {
    "nbgrader": {
     "grade": false,
     "grade_id": "cell-50934203eaa0008a",
     "locked": true,
     "schema_version": 3,
     "solution": false
    }
   },
   "source": [
    "**Q2** In the `babyNamesDict()` function below, write the dictionary created using `babynames.csv` into a JSON formatted file without using any of the JSON utilities.  Make sure you close the file. Return the name of the file you have written. Ensure the file type is \".json\" and remember that the syntax of a JSON file requires curly braces { } at the beginning and end.\n",
    "\n",
    "Note: in case time is short, please be aware that the folder already contains the json file you are being asked to create here, as `babynames.json`. If you solve this problem and run your code, it will overwrite that file (hopefully with an identical one, if you solve this correctly!)"
   ]
  },
  {
   "cell_type": "code",
   "execution_count": 3,
   "metadata": {
    "nbgrader": {
     "grade": false,
     "grade_id": "cell-cc3e9cd3db0d5784",
     "locked": false,
     "schema_version": 3,
     "solution": true
    }
   },
   "outputs": [],
   "source": [
    "# Solution cell\n",
    "\n",
    "def babyNamesDict():\n",
    "    \"\"\"Writes the dictionary from babyNames() out to a file. \n",
    "    Returns the name of the file.\n",
    "    \n",
    "    \"\"\"\n",
    "    ### BEGIN SOLUTION\n",
    "    bN = babyNames()\n",
    "    fN = \"babynames.json\"\n",
    "    fh = open(fN, 'w')\n",
    "    names = list(bN.keys())\n",
    "    fh.write(\"{\")\n",
    "    count = 0\n",
    "    total = len(names)\n",
    "    for n in names:\n",
    "        fh.write('\"'+ n +'\":\"' + bN[n] + '\"')\n",
    "        if count < total-1:\n",
    "            fh.write(\", \")\n",
    "        count += 1\n",
    "    fh.write(\"}\")\n",
    "    fh.close()\n",
    "    return fN\n",
    "    ### END SOLUTION"
   ]
  },
  {
   "cell_type": "code",
   "execution_count": 9,
   "metadata": {
    "nbgrader": {
     "grade": true,
     "grade_id": "cell-993e67ecfc908374",
     "locked": true,
     "points": 3,
     "schema_version": 3,
     "solution": false
    }
   },
   "outputs": [],
   "source": [
    "output = babyNamesDict()\n",
    "assert isinstance(output, str)\n",
    "assert output[-5:] == '.json'\n",
    "assert os.path.isfile(output)"
   ]
  },
  {
   "cell_type": "markdown",
   "metadata": {},
   "source": [
    "The exercises above showed how to convert a csv file into a dictionary, and how to write a JSON file based on that dictionary \"by hand.\" In practice, you would never do such a thing. Instead, you would use the built-in `dump` function. Recall from the reading that the `dump` function works as illustrated in the following code. We begin with a data structure in memory, then open a \".json\" file to write into (this file does not need to already exist), then `dump(data,file)` will dump a dictionary `data` into a JSON `file`. We then close the file at the end. Please run the code below, then go check out the file `names.json` you have created. You could also change the name in the code and it will create a new file."
   ]
  },
  {
   "cell_type": "code",
   "execution_count": 3,
   "metadata": {},
   "outputs": [],
   "source": [
    "names = [\"Isabella\", \"Sophia\", \"Emma\", \"Olivia\", \"Ava\"]\n",
    "f = open(\"names.json\", 'w')\n",
    "\n",
    "json.dump(names, f)\n",
    "\n",
    "f.close()"
   ]
  },
  {
   "cell_type": "markdown",
   "metadata": {},
   "source": [
    "**Q3a** Please mimic the code above to do the same thing with the dictionary `bN` given above, containing the dictionary of babynames and counts. Call your file `babynames2.json`, and don't forget to close the file after you dump into it. You can also experiment with other file names."
   ]
  },
  {
   "cell_type": "code",
   "execution_count": 6,
   "metadata": {
    "nbgrader": {
     "grade": false,
     "grade_id": "cell-76d24c44af1c7c45",
     "locked": false,
     "schema_version": 3,
     "solution": true,
     "task": false
    }
   },
   "outputs": [],
   "source": [
    "# Solution cell\n",
    "\n",
    "### BEGIN SOLUTION\n",
    "fN = \"babynames2.json\"\n",
    "fh = open(fN, 'w')\n",
    "json.dump(bN, fh)\n",
    "fh.close()\n",
    "### END SOLUTION\n"
   ]
  },
  {
   "cell_type": "markdown",
   "metadata": {
    "nbgrader": {
     "grade": false,
     "grade_id": "cell-93892a9a2c298626",
     "locked": true,
     "schema_version": 3,
     "solution": false
    }
   },
   "source": [
    "**Q3b** Turn your code from above into a function. In the `babyNamesDictJSON()` function below, write the dictionary created using `babynames.csv` into a JSON formatted file named `\"babynames2.json\"`, using the JSON `dump` function. Make sure you close the file after `dump`. Return the name of the file you have written.\n",
    "\n",
    "Note: if time is short, please be aware that the file `babynames2.json` is already in the folder, so you can complete the next problem even if you don't do this one."
   ]
  },
  {
   "cell_type": "code",
   "execution_count": 7,
   "metadata": {
    "nbgrader": {
     "grade": false,
     "grade_id": "cell-0e0ebb6bd11db4d7",
     "locked": false,
     "schema_version": 3,
     "solution": true
    }
   },
   "outputs": [],
   "source": [
    "# Solution cell\n",
    "\n",
    "def babyNamesDictJSON():\n",
    "    \"\"\"Writes the dictionary created by babyNames() into a file named 'babynames2.json using json utilities.\n",
    "       Returns the name of the file.\n",
    "    \n",
    "    \"\"\"\n",
    "    ### BEGIN SOLUTION\n",
    "    bN = babyNames()\n",
    "    fN = \"babynames2.json\"\n",
    "    fh = open(fN, 'w')\n",
    "    json.dump(bN, fh)\n",
    "    fh.close()\n",
    "    return fN\n",
    "    ### END SOLUTION"
   ]
  },
  {
   "cell_type": "code",
   "execution_count": 8,
   "metadata": {
    "nbgrader": {
     "grade": true,
     "grade_id": "cell-afd6fd68cf5a61cc",
     "locked": true,
     "points": 2,
     "schema_version": 3,
     "solution": false
    }
   },
   "outputs": [],
   "source": [
    "output2 = babyNamesDictJSON()\n",
    "#assert output != output2\n",
    "#assert output2 == \"babynames2.json\"\n",
    "assert os.path.isfile(output2)"
   ]
  },
  {
   "cell_type": "markdown",
   "metadata": {},
   "source": [
    "Please note the difference between the JSON files `names.json` and `babynames.json`, and remember that the first came from a list while the second came from a dictionary. \n",
    "\n",
    "The exercise above shows how to write from a Python data structure into a JSON file. To go the other way, we use the `load` function. The command `json.load(file)` will return a data structure based on a json file. For the file `names.json`, the `load` function returns a list. For `babynames.json` it should return a dictionary. Please carefully read the code below. Note that you must first `open` the file before you load, and so you should `close` it when you're done."
   ]
  },
  {
   "cell_type": "code",
   "execution_count": 12,
   "metadata": {},
   "outputs": [
    {
     "name": "stdout",
     "output_type": "stream",
     "text": [
      "['Isabella', 'Sophia', 'Emma', 'Olivia', 'Ava']\n"
     ]
    }
   ],
   "source": [
    "# Sample code\n",
    "\n",
    "fileNames = open(\"names.json\", 'r')\n",
    "L = json.load(fileNames)\n",
    "fileNames.close()\n",
    "print(L)"
   ]
  },
  {
   "cell_type": "markdown",
   "metadata": {
    "nbgrader": {
     "grade": false,
     "grade_id": "cell-0ab05652b845f51d",
     "locked": true,
     "schema_version": 3,
     "solution": false,
     "task": false
    }
   },
   "source": [
    "**Q4a** Please mimic the code above, but now do it for the file `\"babynames.json\"`. What data type is your result, and why?"
   ]
  },
  {
   "cell_type": "code",
   "execution_count": null,
   "metadata": {
    "nbgrader": {
     "grade": false,
     "grade_id": "cell-131436e6b14d83c2",
     "locked": false,
     "schema_version": 3,
     "solution": true,
     "task": false
    }
   },
   "outputs": [],
   "source": [
    "# Solution cell\n",
    "\n",
    "### BEGIN SOLUTION\n",
    "fileBaby = open(\"babynames.json\", 'r')\n",
    "D = json.load(fileBaby)\n",
    "fileBaby.close()\n",
    "print(D)\n",
    "### END SOLUTION"
   ]
  },
  {
   "cell_type": "markdown",
   "metadata": {
    "nbgrader": {
     "grade": false,
     "grade_id": "cell-d77e906b4bb10371",
     "locked": true,
     "schema_version": 3,
     "solution": false
    }
   },
   "source": [
    "**Q4b** In the `compareJSON()` function below, write a utility function that compares the texts of two JSON files given their filenames. Assume that the filenames contain the file extension. Please make use of the `load` function that comes with json files."
   ]
  },
  {
   "cell_type": "code",
   "execution_count": 29,
   "metadata": {
    "nbgrader": {
     "grade": false,
     "grade_id": "cell-cd7f8509023e51eb",
     "locked": false,
     "schema_version": 3,
     "solution": true
    }
   },
   "outputs": [],
   "source": [
    "# Solution cell\n",
    "\n",
    "def compareJSON(filename1, filename2):\n",
    "    \"\"\" Compare the text from two JSON files given their \n",
    "    filenames. Return true if they are the same.\n",
    "    \n",
    "    \"\"\"\n",
    "    ### BEGIN SOLUTION\n",
    "    fh = open(filename1, 'r')\n",
    "    fh2 = open(filename2, 'r')\n",
    "    stuff = json.load(fh)\n",
    "    stuff2 = json.load(fh2)\n",
    "    fh.close()\n",
    "    fh2.close()\n",
    "    return stuff == stuff2\n",
    "    ### END SOLUTION"
   ]
  },
  {
   "cell_type": "code",
   "execution_count": 30,
   "metadata": {
    "nbgrader": {
     "grade": true,
     "grade_id": "cell-c40738447af40f00",
     "locked": true,
     "points": 2,
     "schema_version": 3,
     "solution": false
    }
   },
   "outputs": [],
   "source": [
    "assert compareJSON(\"babynames2.json\", \"babynames2.json\")\n",
    "assert compareJSON(output, output2)\n",
    "assert not compareJSON(\"names.json\",\"babynames.json\")"
   ]
  }
 ],
 "metadata": {
  "celltoolbar": "Create Assignment",
  "kernelspec": {
   "display_name": "Python 3",
   "language": "python",
   "name": "python3"
  },
  "language_info": {
   "codemirror_mode": {
    "name": "ipython",
    "version": 3
   },
   "file_extension": ".py",
   "mimetype": "text/x-python",
   "name": "python",
   "nbconvert_exporter": "python",
   "pygments_lexer": "ipython3",
   "version": "3.7.6"
  }
 },
 "nbformat": 4,
 "nbformat_minor": 4
}
