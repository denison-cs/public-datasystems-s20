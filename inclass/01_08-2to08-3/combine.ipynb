{
 "cells": [
  {
   "cell_type": "markdown",
   "metadata": {},
   "source": [
    "Before you turn this problem in, make sure everything runs as expected. First, **restart the kernel** (in the menubar, select Kernel$\\rightarrow$Restart) and then **run all cells** (in the menubar, select Cell$\\rightarrow$Run All).\n",
    "\n",
    "Make sure you fill in any place that says `YOUR CODE HERE` or \"YOUR ANSWER HERE\", as well as your name and collaborators below:"
   ]
  },
  {
   "cell_type": "code",
   "execution_count": null,
   "metadata": {},
   "outputs": [],
   "source": [
    "NAME = \"\"\n",
    "COLLABORATORS = \"\""
   ]
  },
  {
   "cell_type": "markdown",
   "metadata": {},
   "source": [
    "---"
   ]
  },
  {
   "cell_type": "code",
   "execution_count": null,
   "metadata": {},
   "outputs": [],
   "source": [
    "import pandas as pd\n",
    "\n",
    "import os\n",
    "import os.path\n",
    "\n",
    "datadir = \"publicdata\""
   ]
  },
  {
   "cell_type": "markdown",
   "metadata": {},
   "source": [
    "**Q** Assign to `tourism` a DataFrame from the `tourism.csv` file in the data directory.  Using `head()` and `tail()` see the date range extent of the data.  The `date` column should be the index for the dataframe."
   ]
  },
  {
   "cell_type": "code",
   "execution_count": null,
   "metadata": {
    "deletable": false,
    "nbgrader": {
     "cell_type": "code",
     "checksum": "5702c07dc99cbd060555278160344020",
     "grade": true,
     "grade_id": "cell-1469c382bf7712c7",
     "locked": false,
     "points": 0,
     "schema_version": 3,
     "solution": true,
     "task": false
    }
   },
   "outputs": [],
   "source": [
    "# YOUR CODE HERE\n",
    "raise NotImplementedError()\n",
    "print(tourism.shape)\n",
    "tourism.tail()"
   ]
  },
  {
   "cell_type": "markdown",
   "metadata": {},
   "source": [
    "**Q** Assign to `tourism2` a DataFrame from the `tourism2.csv` file in the data directory.  Looking at the dataframe, see what rows and columns are part of this data frame?  How does that compare with `tourism`?  If we wanted to combine these two, from a logical operation standpoint, how would you describe the desired outcome?"
   ]
  },
  {
   "cell_type": "code",
   "execution_count": null,
   "metadata": {
    "deletable": false,
    "nbgrader": {
     "cell_type": "code",
     "checksum": "4b140a0cc201d9a6413e255ecef9e8e2",
     "grade": true,
     "grade_id": "cell-2f1bab8c40dda026",
     "locked": false,
     "points": 0,
     "schema_version": 3,
     "solution": true,
     "task": false
    }
   },
   "outputs": [],
   "source": [
    "# YOUR CODE HERE\n",
    "raise NotImplementedError()\n",
    "print(tourism2.shape)\n",
    "tourism2.head()"
   ]
  },
  {
   "cell_type": "markdown",
   "metadata": {},
   "source": [
    "**Q** For the goal determined in the last question, and looking at Sect. 8.3.1 in the book, create a new DataFrame called `tourism_full` that combines the two data frames."
   ]
  },
  {
   "cell_type": "code",
   "execution_count": null,
   "metadata": {
    "deletable": false,
    "nbgrader": {
     "cell_type": "code",
     "checksum": "7d1dc4f9b2e4be5d94d934a3c2029498",
     "grade": true,
     "grade_id": "cell-381d7d4ff16728fa",
     "locked": false,
     "points": 0,
     "schema_version": 3,
     "solution": true,
     "task": false
    }
   },
   "outputs": [],
   "source": [
    "# YOUR CODE HERE\n",
    "raise NotImplementedError()\n",
    "print(tourism_full.shape)\n",
    "tourism_full.tail(8)"
   ]
  },
  {
   "cell_type": "markdown",
   "metadata": {},
   "source": [
    "**Q** Now suppose that we are given a file, `gamingrevenue.csv` that has additional information on the gross revenue for gaming and three sub parts: the revenue from the Las Vegas strip, from downtown Las Vegas, and from the Boulder strip.  Read this into a DataFrame named `gr` and use `head()` and `tail()` to understand the rows and columns.  How does this relate to `tourism_full`?  If we wanted to combine these two, what logical operation is required? "
   ]
  },
  {
   "cell_type": "code",
   "execution_count": null,
   "metadata": {
    "deletable": false,
    "nbgrader": {
     "cell_type": "code",
     "checksum": "6d2c8524c455e619ef5306714d1d2717",
     "grade": true,
     "grade_id": "cell-d174b700323c531b",
     "locked": false,
     "points": 0,
     "schema_version": 3,
     "solution": true,
     "task": false
    }
   },
   "outputs": [],
   "source": [
    "# YOUR CODE HERE\n",
    "raise NotImplementedError()\n",
    "print(gr.shape)\n",
    "gr.tail()"
   ]
  },
  {
   "cell_type": "markdown",
   "metadata": {},
   "source": [
    "**Q** Now, using the information in Sect. 8.3.2 of the book, create a data frame named `tourism_allcol` that combines these two data frames.  Why are the aguments to this combining function different than the arguments used to create the `tourism_full`?  Look carefully at the columns printed for `tourism_fill`?  Did you get what you expect?  If not, how would you modify your combining operation (either before the combination, or \"fixing up\" after the operation)?"
   ]
  },
  {
   "cell_type": "code",
   "execution_count": null,
   "metadata": {
    "deletable": false,
    "nbgrader": {
     "cell_type": "code",
     "checksum": "e1d8027c39bf4ec50c61fc8ef8ec8435",
     "grade": true,
     "grade_id": "cell-57c693d6333640d8",
     "locked": false,
     "points": 0,
     "schema_version": 3,
     "solution": true,
     "task": false
    }
   },
   "outputs": [],
   "source": [
    "# YOUR CODE HERE\n",
    "raise NotImplementedError()\n",
    "print(tourism_allcol.shape)\n",
    "print(tourism_allcol.columns)"
   ]
  },
  {
   "cell_type": "markdown",
   "metadata": {},
   "source": [
    "**Q** Optional Follow-on: generate `gr` such that the column name present in both `gr` and `tourism_full` is named `gr2` in the `gr` data frame."
   ]
  },
  {
   "cell_type": "code",
   "execution_count": null,
   "metadata": {
    "deletable": false,
    "nbgrader": {
     "cell_type": "code",
     "checksum": "6a19dbf23201952ada0d59e68667ad2e",
     "grade": true,
     "grade_id": "cell-e2f76509ef8e0802",
     "locked": false,
     "points": 0,
     "schema_version": 3,
     "solution": true,
     "task": false
    }
   },
   "outputs": [],
   "source": [
    "# YOUR CODE HERE\n",
    "raise NotImplementedError()\n",
    "print(gr.shape)\n",
    "gr.tail()"
   ]
  },
  {
   "cell_type": "markdown",
   "metadata": {},
   "source": [
    "**Q** Optional follow-on: Repeat the combination operation so that we end with unique column names and a total of 14 columns.  "
   ]
  },
  {
   "cell_type": "code",
   "execution_count": null,
   "metadata": {
    "deletable": false,
    "nbgrader": {
     "cell_type": "code",
     "checksum": "852446c84e64c5509940c171e702d22a",
     "grade": true,
     "grade_id": "cell-41da291da2912b67",
     "locked": false,
     "points": 0,
     "schema_version": 3,
     "solution": true,
     "task": false
    }
   },
   "outputs": [],
   "source": [
    "# YOUR CODE HERE\n",
    "raise NotImplementedError()\n",
    "print(tourism_allcol.shape)\n",
    "print(tourism_allcol.columns)"
   ]
  },
  {
   "cell_type": "markdown",
   "metadata": {},
   "source": [
    "**Q** Optional follow-on: Sometimes, when we create a dataframe and we *assume* two columns to have the same values, like `gamingrevenue` and `gr2` in this case, we want to *verify* our assumption.  Assign to `diffgr` the *filtered subset of rows* of `tourism_allcol` subject to the condition that the `gr2` and `gamingrevenue` columns are *different*."
   ]
  },
  {
   "cell_type": "code",
   "execution_count": null,
   "metadata": {
    "deletable": false,
    "nbgrader": {
     "cell_type": "code",
     "checksum": "cc72de88ad3b89006393eee3ecfef21d",
     "grade": true,
     "grade_id": "cell-db1d938da17bd449",
     "locked": false,
     "points": 0,
     "schema_version": 3,
     "solution": true,
     "task": false
    }
   },
   "outputs": [],
   "source": [
    "# YOUR CODE HERE\n",
    "raise NotImplementedError()\n",
    "print(diffgr.shape)\n",
    "diffgr"
   ]
  },
  {
   "cell_type": "markdown",
   "metadata": {},
   "source": [
    "**Q** Optional follow-on:  the next two questions follow a line of reasoning where the rows between two data frames are **not all the same**, and we combine along the column dimension.  Our original data frame `tourism` was not complete on its rows for August 2019 through December 2019, but our gaming revenue data frame, `gr` has rows for January 2017 through December 2019.  Combine these two tables along the column dimension, assigning to `partial`, and include named argument `sort=` with argument of boolean `False`.  From the `shape` attribute of the result, compare the number of rows in `partial` to the number of rows in `tourism` and `gr`.  Use `head()` and `tail()` on `partial` to understand the result in this case. "
   ]
  },
  {
   "cell_type": "code",
   "execution_count": null,
   "metadata": {
    "deletable": false,
    "nbgrader": {
     "cell_type": "code",
     "checksum": "ed31464750b8618c4e564935a7a8cd25",
     "grade": true,
     "grade_id": "cell-bc3ef69e29a54939",
     "locked": false,
     "points": 0,
     "schema_version": 3,
     "solution": true,
     "task": false
    }
   },
   "outputs": [],
   "source": [
    "# YOUR CODE HERE\n",
    "raise NotImplementedError()\n",
    "print(partial.shape)"
   ]
  },
  {
   "cell_type": "markdown",
   "metadata": {},
   "source": [
    "**Q** Optional follow-on: The result in partial gives us a chance to further understand how the `dropna` method works.  Assign to `partial2` the result of dropping na's from `partial` along the row axis with named parameter `how=` set to `'all'`, and assign to `partial3` the result of dropping na's from `partial` along the row axis with named parameter `how=` set to `'any'`.  Using `shape`, `head()`, and `tail()` understand the difference.  Which would you want to use in this case? "
   ]
  },
  {
   "cell_type": "code",
   "execution_count": null,
   "metadata": {
    "deletable": false,
    "nbgrader": {
     "cell_type": "code",
     "checksum": "a115435c04489ff088814a99b8297302",
     "grade": true,
     "grade_id": "cell-3e586b91d3426a04",
     "locked": false,
     "points": 0,
     "schema_version": 3,
     "solution": true,
     "task": false
    }
   },
   "outputs": [],
   "source": [
    "# YOUR CODE HERE\n",
    "raise NotImplementedError()\n",
    "print(partial2.shape, partial3.shape)"
   ]
  },
  {
   "cell_type": "markdown",
   "metadata": {},
   "source": [
    "**Q** Optional follow-on:  Suppose we wanted to see whether or not the three gaming revenue columns from the Las Vegas strip, from Downtown Las Vegas, and from the Boulder strip added up to the total gaming revenue (`gr2` or `gamingrevenue`) in `tourism_allcol`.  Define the steps to create a new column for `tourism_allcol` containing the the difference between the total gaming revenue and the sum of the parts?  Is the difference 0?  If it is not, how would we get the average and median difference? "
   ]
  },
  {
   "cell_type": "code",
   "execution_count": null,
   "metadata": {
    "deletable": false,
    "nbgrader": {
     "cell_type": "code",
     "checksum": "e7edf18a478b29de5086435502094a7d",
     "grade": true,
     "grade_id": "cell-cdfd213b80727407",
     "locked": false,
     "points": 0,
     "schema_version": 3,
     "solution": true,
     "task": false
    }
   },
   "outputs": [],
   "source": [
    "# YOUR CODE HERE\n",
    "raise NotImplementedError()\n",
    "tourism_allcol.head()"
   ]
  },
  {
   "cell_type": "markdown",
   "metadata": {},
   "source": [
    "**Q** Read the `\"join1.csv\"` and `\"join2.csv\"` into data frames and assign to variables `join1` and `join2` respectively.  Examine their contents and write down their functional dependencies."
   ]
  },
  {
   "cell_type": "code",
   "execution_count": null,
   "metadata": {
    "deletable": false,
    "nbgrader": {
     "cell_type": "code",
     "checksum": "ee270b1709e3df29fb1b8042d77b20d9",
     "grade": true,
     "grade_id": "cell-e941ccdb95cc4ed2",
     "locked": false,
     "points": 0,
     "schema_version": 3,
     "solution": true,
     "task": false
    }
   },
   "outputs": [],
   "source": [
    "# YOUR CODE HERE\n",
    "raise NotImplementedError()\n",
    "print(join1)\n",
    "print(join2)"
   ]
  },
  {
   "cell_type": "markdown",
   "metadata": {},
   "source": [
    "**Q** Assign to `join_inner` the inner join of `join1` and `join2`, using the `join()` method as described in [Join/Merge](http://hadoop.mathsci.denison.edu/bookweb/8-ch-tabularadvancedops.html#joiningmerging-dataframes) from the book.  Examine the result.  How does this compare to a simple combining along the column dimension?"
   ]
  },
  {
   "cell_type": "code",
   "execution_count": null,
   "metadata": {
    "deletable": false,
    "nbgrader": {
     "cell_type": "code",
     "checksum": "d9e21671501ac5c139e5c7ecb8912bc6",
     "grade": true,
     "grade_id": "cell-c3ecc0a0397782b3",
     "locked": false,
     "points": 0,
     "schema_version": 3,
     "solution": true,
     "task": false
    }
   },
   "outputs": [],
   "source": [
    "# YOUR CODE HERE\n",
    "raise NotImplementedError()\n",
    "join_inner"
   ]
  },
  {
   "cell_type": "markdown",
   "metadata": {},
   "source": [
    "**Q** Assign to `join_left` the left join of `join1` and `join2`, using the `join()` method.  Examine the result.  How does this compare to a simple combining along the column dimension?"
   ]
  },
  {
   "cell_type": "code",
   "execution_count": null,
   "metadata": {
    "deletable": false,
    "nbgrader": {
     "cell_type": "code",
     "checksum": "b80d06213a78962a5c3e5e4a75944589",
     "grade": true,
     "grade_id": "cell-979abaa9cb042518",
     "locked": false,
     "points": 0,
     "schema_version": 3,
     "solution": true,
     "task": false
    }
   },
   "outputs": [],
   "source": [
    "# YOUR CODE HERE\n",
    "raise NotImplementedError()\n",
    "join_left"
   ]
  },
  {
   "cell_type": "markdown",
   "metadata": {},
   "source": [
    "**Q** Read `\"join3.csv\"` into a data frames and assign to variable `join3`.  Examine its contents and write down its functional dependency."
   ]
  },
  {
   "cell_type": "code",
   "execution_count": null,
   "metadata": {
    "deletable": false,
    "nbgrader": {
     "cell_type": "code",
     "checksum": "cfa184a3780beac0a4a139b304dad8bc",
     "grade": true,
     "grade_id": "cell-464c8e918e7908ff",
     "locked": false,
     "points": 0,
     "schema_version": 3,
     "solution": true,
     "task": false
    }
   },
   "outputs": [],
   "source": [
    "# YOUR CODE HERE\n",
    "raise NotImplementedError()\n",
    "join3"
   ]
  },
  {
   "cell_type": "markdown",
   "metadata": {},
   "source": [
    "**Q** Reset the index of `join3` in place, and then perform a pandas `merge()` function between the new `join3` and `join2`.  Use an `on=` column of `\"code\"` and a `how=` of `\"inner\"`.  Assign to `join_inner` and understand the result."
   ]
  },
  {
   "cell_type": "code",
   "execution_count": null,
   "metadata": {
    "deletable": false,
    "nbgrader": {
     "cell_type": "code",
     "checksum": "245cd81414c06b2050072451a7815064",
     "grade": true,
     "grade_id": "cell-6b101d3bcdeb5ddb",
     "locked": false,
     "points": 0,
     "schema_version": 3,
     "solution": true,
     "task": false
    }
   },
   "outputs": [],
   "source": [
    "# YOUR CODE HERE\n",
    "raise NotImplementedError()\n",
    "join_inner"
   ]
  },
  {
   "cell_type": "markdown",
   "metadata": {},
   "source": [
    "**Q** Perform a pandas `merge()` function between the new `join3` and `join2`.  Use an `on=` column of `\"code\"` and this time use a `how=` of `\"left\"`.  Assign to `join_inner` and understand the result."
   ]
  },
  {
   "cell_type": "code",
   "execution_count": null,
   "metadata": {
    "deletable": false,
    "nbgrader": {
     "cell_type": "code",
     "checksum": "6dd105b21897c86958600a444ab5b5ee",
     "grade": true,
     "grade_id": "cell-9c6e9592c9a96a87",
     "locked": false,
     "points": 0,
     "schema_version": 3,
     "solution": true,
     "task": false
    }
   },
   "outputs": [],
   "source": [
    "# YOUR CODE HERE\n",
    "raise NotImplementedError()\n",
    "join_left"
   ]
  }
 ],
 "metadata": {
  "kernelspec": {
   "display_name": "Python 3",
   "language": "python",
   "name": "python3"
  },
  "language_info": {
   "codemirror_mode": {
    "name": "ipython",
    "version": 3
   },
   "file_extension": ".py",
   "mimetype": "text/x-python",
   "name": "python",
   "nbconvert_exporter": "python",
   "pygments_lexer": "ipython3",
   "version": "3.7.6"
  }
 },
 "nbformat": 4,
 "nbformat_minor": 4
}
