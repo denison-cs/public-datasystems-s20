{
 "cells": [
  {
   "cell_type": "markdown",
   "metadata": {},
   "source": [
    "Before you turn this problem in, make sure everything runs as expected. First, **restart the kernel** (in the menubar, select Kernel$\\rightarrow$Restart) and then **run all cells** (in the menubar, select Cell$\\rightarrow$Run All).\n",
    "\n",
    "Make sure you fill in any place that says `YOUR CODE HERE` or \"YOUR ANSWER HERE\", as well as your name and collaborators below:"
   ]
  },
  {
   "cell_type": "code",
   "execution_count": null,
   "metadata": {},
   "outputs": [],
   "source": [
    "NAME = \"\"\n",
    "COLLABORATORS = \"\""
   ]
  },
  {
   "cell_type": "markdown",
   "metadata": {},
   "source": [
    "---"
   ]
  },
  {
   "cell_type": "markdown",
   "metadata": {},
   "source": [
    "# Design Overview\n",
    "\n",
    "The goal of this worksheet is to help you think about database design. Design is important because:\n",
    "\n",
    "1. Sound databases allow for persistent storage of data, as a shared resource accessible to multiple users, in such a way that future insertions will not break pre-existing functions.\n",
    "2. When databases are well-designed, it becomes easier to write code to interface with them.\n",
    "3. 80% of a data scientist's time is spent reading, munging, and cleaning data. Doing these tasks up front, once, in order to get the data into a database, will save time downstream.\n"
   ]
  },
  {
   "cell_type": "markdown",
   "metadata": {},
   "source": [
    "## Design process\n",
    "\n",
    "The process of design breaks down into three steps:\n",
    "\n",
    "1. Figure out the tables that should be part of your database. Each table should deal with logically independent units (e.g., students, classes, courses, instructors) and should have its own functional dependency (e.g., the difference between `countries` and `indicators`).\n",
    "2. Figure out the fields of each table. Avoid fields that are a mashup, or whose value is a list. Avoid fields full of repeats (e.g., `land` mass as a field in `indicators` with repeated values every year because the landmass of a country doesn't change over time). Avoid repeated fields between tables unless used for a join (e.g., don't include `credithours` in both `courses` and `classes` but it's ok to include `classid` in both `classes` and `student_class`).\n",
    "3. Figure out the relationships between tables. If there is a many-to-many relationship, you will need to introduce a linking table.\n"
   ]
  },
  {
   "cell_type": "markdown",
   "metadata": {},
   "source": [
    "## Warmup\n",
    "\n",
    "To get you warmed up, please answer the questions below."
   ]
  },
  {
   "cell_type": "markdown",
   "metadata": {},
   "source": [
    "**Q1:** Below are two instances of relations of a school. \n",
    "\n",
    "|studID|grade|gpa|\n",
    "|--|-----|-----|\n",
    "|10699|Freshman|3.6|\n",
    "|62045|Senior|2.4|\n",
    "|38599|Sophomore|3.1|\n",
    "<center>Grades</center>\n",
    "\n",
    "\n",
    "|first|last|phone|ID|\n",
    "|-----|----|-----|--|\n",
    "|Rene|Bonham|651-800-0941|38599|\n",
    "|Mackenzie|Dow|612-683-5855|10699|\n",
    "|Esme|Finley|612-044-2893|62045|\n",
    "<center>Students</center>\n",
    "\n",
    "Answer the following:\n",
    "1. What are the attributes of each relation?\n",
    "2. What are the tuples of each relation?\n",
    "3. What is the relation schema for each relation?\n",
    "4. What is the database schema?\n",
    "5. What is another equivalent way to present each relation?"
   ]
  },
  {
   "cell_type": "markdown",
   "metadata": {
    "deletable": false,
    "nbgrader": {
     "cell_type": "markdown",
     "checksum": "f377a209c8192a36dd80ebe6f56ff25b",
     "grade": true,
     "grade_id": "cell-44fb14e73ad8f7a5",
     "locked": false,
     "points": 0,
     "schema_version": 3,
     "solution": true,
     "task": false
    }
   },
   "source": [
    "YOUR ANSWER HERE"
   ]
  },
  {
   "cell_type": "markdown",
   "metadata": {},
   "source": [
    "**Q2:** Create the previous two relations of a school into two pandas dataframes. Then join the two dataframes."
   ]
  },
  {
   "cell_type": "code",
   "execution_count": null,
   "metadata": {
    "deletable": false,
    "nbgrader": {
     "cell_type": "code",
     "checksum": "fe054f93c07eb35b3edb9c13a3322263",
     "grade": true,
     "grade_id": "cell-fe29ebb96334692e",
     "locked": false,
     "points": 0,
     "schema_version": 3,
     "solution": true,
     "task": false
    }
   },
   "outputs": [],
   "source": [
    "# YOUR CODE HERE\n",
    "raise NotImplementedError()"
   ]
  },
  {
   "cell_type": "markdown",
   "metadata": {},
   "source": [
    "**Q3:** How many different ways are there to represent a relation instance if that instance has:\n",
    "1. 3 attributes and 2 tuples?\n",
    "2. 3 attributes and 4 tuples?\n",
    "3. n attributes and m tuples?"
   ]
  },
  {
   "cell_type": "markdown",
   "metadata": {
    "deletable": false,
    "nbgrader": {
     "cell_type": "markdown",
     "checksum": "eedc204d30800d1dba2a710a04ca0acc",
     "grade": true,
     "grade_id": "cell-a301584bea8aac7a",
     "locked": false,
     "points": 0,
     "schema_version": 3,
     "solution": true,
     "task": false
    }
   },
   "source": [
    "YOUR ANSWER HERE"
   ]
  },
  {
   "cell_type": "markdown",
   "metadata": {},
   "source": [
    "**Q4:** Describe the structure, constraints, and operations used in a data model, and the problems solved by using a database. "
   ]
  },
  {
   "cell_type": "markdown",
   "metadata": {
    "deletable": false,
    "nbgrader": {
     "cell_type": "markdown",
     "checksum": "c39032bdb414ea03b3ae9543c2712e17",
     "grade": true,
     "grade_id": "cell-9a0c161f833cec84",
     "locked": false,
     "points": 0,
     "schema_version": 3,
     "solution": true,
     "task": false
    }
   },
   "source": [
    "YOUR ANSWER HERE"
   ]
  },
  {
   "cell_type": "markdown",
   "metadata": {},
   "source": [
    "**Q5:** What are the types of keys in various relation? Define and give an example of each."
   ]
  },
  {
   "cell_type": "markdown",
   "metadata": {
    "deletable": false,
    "nbgrader": {
     "cell_type": "markdown",
     "checksum": "dc1a00a29b9d559cc07d2507d8964973",
     "grade": true,
     "grade_id": "cell-3fd0825cbf1dc106",
     "locked": false,
     "points": 0,
     "schema_version": 3,
     "solution": true,
     "task": false
    }
   },
   "source": [
    "YOUR ANSWER HERE"
   ]
  },
  {
   "cell_type": "markdown",
   "metadata": {},
   "source": [
    "## Design Case Study\n",
    "\n",
    "Now it is time for you to create tables and analyze them using python. The example below walks you though how a data scientist might approach the problem of creating a database, especially the types of questions you should be asking yourself."
   ]
  },
  {
   "cell_type": "markdown",
   "metadata": {},
   "source": [
    "**Q6:** Design a database for the following dataset. You do not have to create the tables, just list the columns for each. Note which columns are keys. Give the functional dependencies.\n",
    "\n",
    "|Player|Team|Position|Age|Division|BattingAv|\n",
    "|------|----|--------|---|--------|---------|\n",
    "|George|Wildcats|First base|50|West|0.316|\n",
    "|Rob|Wildcats|Second base|42|West|0.197|\n",
    "|Eric|Wildcats|Third base|28|West|0.388|\n",
    "|Jim|Penguins|Pitcher|45|East|0.455|\n",
    "|Greg|Penguins|Shortstop|38|East|0.215|\n",
    "|Francis|Royals|Outfield|41|East|0.121|\n",
    "|Moe|Raptors|Catcher|35|West|0.132|\n",
    "|Edmund|Raptors|Pitcher|47|West|0.494|\n",
    "|Curtis|Royals|First base|32|East|0.261|\n",
    "|Dion|Wildcats|Catcher|46|West|0.207|\n",
    "|Cecil|Royals|Second base|27|East|0.369|\n",
    "\n"
   ]
  },
  {
   "cell_type": "markdown",
   "metadata": {
    "deletable": false,
    "nbgrader": {
     "cell_type": "markdown",
     "checksum": "c9a48160f0cbf806e8ea3509b7604a25",
     "grade": true,
     "grade_id": "cell-b1eb412d01ddeafc",
     "locked": false,
     "points": 0,
     "schema_version": 3,
     "solution": true,
     "task": false
    }
   },
   "source": [
    "YOUR ANSWER HERE"
   ]
  },
  {
   "cell_type": "markdown",
   "metadata": {},
   "source": [
    "**Q7:** What types should be used for each field? Which fields should be allowed to take null values? Which fields should be primary keys? Are there any concerns about two different rows having the same value of the primary key? If so, how could this be fixed? Justify your answers."
   ]
  },
  {
   "cell_type": "markdown",
   "metadata": {
    "deletable": false,
    "nbgrader": {
     "cell_type": "markdown",
     "checksum": "b90312c46c769156d98fc275c2f7bba7",
     "grade": true,
     "grade_id": "cell-cb2c6b1854a2e94b",
     "locked": false,
     "points": 0,
     "schema_version": 3,
     "solution": true,
     "task": false
    }
   },
   "source": [
    "YOUR ANSWER HERE"
   ]
  },
  {
   "cell_type": "markdown",
   "metadata": {},
   "source": [
    "**Q8:** What type of relationship makes sense between `Players` and `Teams`? Which field should be a foreign key to facilitate efficient joining between these tables?"
   ]
  },
  {
   "cell_type": "markdown",
   "metadata": {
    "deletable": false,
    "nbgrader": {
     "cell_type": "markdown",
     "checksum": "307c299e0738cf3b8248155736fe473d",
     "grade": true,
     "grade_id": "cell-1b484dac686ec6ee",
     "locked": false,
     "points": 0,
     "schema_version": 3,
     "solution": true,
     "task": false
    }
   },
   "source": [
    "YOUR ANSWER HERE"
   ]
  },
  {
   "cell_type": "markdown",
   "metadata": {},
   "source": [
    "**Q9:** What if this data represents an intramural league, where one player could play on multiple teams? What then would be the type of relationship between `Players` and `Teams`, and how would you facilitate this in your database. Be as precise as possible, e.g., discussing functional dependencies, foreign keys, joins, etc."
   ]
  },
  {
   "cell_type": "markdown",
   "metadata": {
    "deletable": false,
    "nbgrader": {
     "cell_type": "markdown",
     "checksum": "4fa599c07b4415cd4260880d31d3229b",
     "grade": true,
     "grade_id": "cell-6ac804a1befca7f5",
     "locked": false,
     "points": 0,
     "schema_version": 3,
     "solution": true,
     "task": false
    }
   },
   "source": [
    "YOUR ANSWER HERE"
   ]
  },
  {
   "cell_type": "markdown",
   "metadata": {},
   "source": [
    "**Q10:** Suppose now you learn that in the future, the data will be enriched by adding information about the rules in each `Division`, e.g., whether or not the division allows a \"Designated Hitter\" position. How does this change your database design from above?"
   ]
  },
  {
   "cell_type": "markdown",
   "metadata": {
    "deletable": false,
    "nbgrader": {
     "cell_type": "markdown",
     "checksum": "204af27554190d883e1db14e30f16c6f",
     "grade": true,
     "grade_id": "cell-6befed77f96bb0b8",
     "locked": false,
     "points": 0,
     "schema_version": 3,
     "solution": true,
     "task": false
    }
   },
   "source": [
    "YOUR ANSWER HERE"
   ]
  },
  {
   "cell_type": "markdown",
   "metadata": {},
   "source": [
    "## Creating and populating tables\n",
    "\n",
    "Now that we've thought through the database from a design point of view, we are almost ready to create a database for the data above. First, we need to set up a connection to our personal space in the database server. Please follow the instructions in the following cell."
   ]
  },
  {
   "cell_type": "markdown",
   "metadata": {},
   "source": [
    "### Set User Credentials\n",
    "\n",
    "With a shared resource at a provider like a MySQL RDBMS, we need to use credentials to authenticate ourselves to the server, and need the logical location of the server itself.\n",
    "\n",
    "For these notebooks, these are kept in a text file named 'creds.json', stored either in the same directory or in a data directory.  For this notebook, this is stored in the same directory as the notebook.\n",
    "\n",
    "- Right click on the `creds.json` file and select *Open With*->*Editor*\n",
    "- The server should be correct, mapped to `\"hadoop2.mathsci.denison.edu\"`. Likewise, the scheme should be correct, mapped to `\"mysql+mysqlconnector\"`.  \n",
    "- Replace the mysql dictionary's key for \"user\" (currently `\"nostudent\"`) with the base part of your email address (i.e. without the `@denison.edu`).  Your password on the mysql server, at present, is the same as your username, so change that from `\"nostudent\"` as well.  \n",
    "- **NEW INSTRUCTIONS** Lastly, change `database` from `\"nostudent\"` to your username, because you will be creating and dropping tables, and this must happen in your own space.\n",
    "\n",
    "**Make sure to use double quotes for strings** ... this is `JSON`, not Python, and we have to follow JSON syntax.\n",
    "\n",
    "Once this is complete, execute the following cell to connect to the database using SQL alchemy. If you are off-campus you will need to use a VPN first."
   ]
  },
  {
   "cell_type": "code",
   "execution_count": null,
   "metadata": {},
   "outputs": [],
   "source": [
    "import pandas as pd\n",
    "import os\n",
    "import os.path\n",
    "import json\n",
    "import sqlalchemy as sa\n",
    "\n",
    "def getmysql_creds(dirname=\".\",filename=\"creds.json\"):\n",
    "    \"\"\" Using directory and filename parameters, open a credentials file\n",
    "        and obtain the four parts needed for a connection string to\n",
    "        a remote provider using the \"mysql\" dictionary within\n",
    "        an outer dictionary.  \n",
    "        \n",
    "        Return a scheme, server, user, and password\n",
    "    \"\"\"\n",
    "    assert os.path.isfile(os.path.join(dirname, filename))\n",
    "    with open(os.path.join(dirname, filename)) as f:\n",
    "        D = json.load(f)\n",
    "    mysql = D[\"mysql\"]\n",
    "    return mysql[\"scheme\"], mysql[\"server\"], mysql[\"user\"], mysql[\"pass\"],mysql[\"database\"]\n",
    "\n",
    "scheme, server, u, password, database = getmysql_creds()\n",
    "template = '{}://{}:{}@{}/{}'\n",
    "\n",
    "cstring = template.format(scheme, u, password, server,database)\n",
    "\n",
    "engine=sa.create_engine(cstring)\n",
    "\n",
    "print(cstring) # you should be in your personal \n",
    "               # database space now, if you edited the JSON"
   ]
  },
  {
   "cell_type": "markdown",
   "metadata": {},
   "source": [
    "**Q11:** Using sqlalchemy, add the tables you have created to your database. Then, print the tables you have created, using queries in SQL."
   ]
  },
  {
   "cell_type": "code",
   "execution_count": null,
   "metadata": {
    "deletable": false,
    "nbgrader": {
     "cell_type": "code",
     "checksum": "98440d8892005b85febdae44874653f9",
     "grade": true,
     "grade_id": "cell-0b51efe2a7d9a718",
     "locked": false,
     "points": 0,
     "schema_version": 3,
     "solution": true,
     "task": false
    }
   },
   "outputs": [],
   "source": [
    "# YOUR CODE HERE\n",
    "raise NotImplementedError()"
   ]
  },
  {
   "cell_type": "markdown",
   "metadata": {},
   "source": [
    "**Q12:** Play around with select statements to get data out of your database you just created."
   ]
  },
  {
   "cell_type": "code",
   "execution_count": null,
   "metadata": {
    "deletable": false,
    "nbgrader": {
     "cell_type": "code",
     "checksum": "98ff71dbafa64155917e72274efa1f26",
     "grade": true,
     "grade_id": "cell-2b34ddc543ec95a8",
     "locked": false,
     "points": 0,
     "schema_version": 3,
     "solution": true,
     "task": false
    }
   },
   "outputs": [],
   "source": [
    "# YOUR CODE HERE\n",
    "raise NotImplementedError()"
   ]
  },
  {
   "cell_type": "markdown",
   "metadata": {},
   "source": [
    "## Updating a table"
   ]
  },
  {
   "cell_type": "markdown",
   "metadata": {},
   "source": [
    "**Q13:** Let's say one year passed and the Wildcats traded George for Curtis. Make the respective changes to the database and then print the baseball table, ordered by team and then age."
   ]
  },
  {
   "cell_type": "code",
   "execution_count": null,
   "metadata": {
    "deletable": false,
    "nbgrader": {
     "cell_type": "code",
     "checksum": "9cd6451fecf62b6c4788987d957bb60d",
     "grade": true,
     "grade_id": "cell-eaf68512df88eb8f",
     "locked": false,
     "points": 0,
     "schema_version": 3,
     "solution": true,
     "task": false
    }
   },
   "outputs": [],
   "source": [
    "# YOUR CODE HERE\n",
    "raise NotImplementedError()"
   ]
  },
  {
   "cell_type": "markdown",
   "metadata": {},
   "source": [
    "**Q14:** Using the `AVG()` query in SQL, create a view, called averages, that contains the average age and average batting average for each team, and print the result."
   ]
  },
  {
   "cell_type": "code",
   "execution_count": null,
   "metadata": {
    "deletable": false,
    "nbgrader": {
     "cell_type": "code",
     "checksum": "4d7c20fb4f5a7b083376f159c24b705d",
     "grade": true,
     "grade_id": "cell-d6a7b612899230d9",
     "locked": false,
     "points": 0,
     "schema_version": 3,
     "solution": true,
     "task": false
    }
   },
   "outputs": [],
   "source": [
    "# YOUR CODE HERE\n",
    "raise NotImplementedError()"
   ]
  },
  {
   "cell_type": "markdown",
   "metadata": {},
   "source": [
    "**Q15:** Join `baseballAv` and teams but do not keep the Id column. Print the result."
   ]
  },
  {
   "cell_type": "code",
   "execution_count": null,
   "metadata": {
    "deletable": false,
    "nbgrader": {
     "cell_type": "code",
     "checksum": "eb446efcd7b499bec7778e0c72de5285",
     "grade": true,
     "grade_id": "cell-abe240cb52e45592",
     "locked": false,
     "points": 0,
     "schema_version": 3,
     "solution": true,
     "task": false
    }
   },
   "outputs": [],
   "source": [
    "# YOUR CODE HERE\n",
    "raise NotImplementedError()"
   ]
  },
  {
   "cell_type": "markdown",
   "metadata": {},
   "source": [
    "## More Practice\n",
    "\n",
    "The problems below give you even more practice."
   ]
  },
  {
   "cell_type": "markdown",
   "metadata": {},
   "source": [
    "**Question 1a:** Design a database for the following dataset. You do not have to create the tables, just list the columns for each. Note which columns are keys.\n",
    "\n",
    "\n",
    "\n",
    "|name|continent|population|status|order|family|\n",
    "|----|---------|----------|------|-----|------|\n",
    "|polar bear|artic circle|20000|threatened|carnivora|ursidae|\n",
    "|giant panda|asia|1000|endangered|carnivora|ursidae|\n",
    "|american bison|north america|30000|near-endangered|artiodactyla|bovidae|\n",
    "|cheetah|africa|7000|vulnerable|carnivora|felidae|\n",
    "|south asian river dolphin|asia|1000|endangered|artiodactyla|platanistidae|\n",
    "|snow leopard|asia|4000|endangered|carnivora|felidae|\n",
    "|african lion|africa|30000|vulnerable|carnivora|felidae|\n",
    "|indian rhinoceos|asia|2500|vulnerable|perissodactyla|rhinocerotidae|\n",
    "\n",
    "\n"
   ]
  },
  {
   "cell_type": "markdown",
   "metadata": {
    "deletable": false,
    "nbgrader": {
     "cell_type": "markdown",
     "checksum": "7ce40d66fb476f70ad1685c3b6c19336",
     "grade": true,
     "grade_id": "cell-759a85d2839bed6c",
     "locked": false,
     "points": 0,
     "schema_version": 3,
     "solution": true,
     "task": false
    }
   },
   "source": [
    "YOUR ANSWER HERE"
   ]
  },
  {
   "cell_type": "markdown",
   "metadata": {},
   "source": [
    "**Question 1b:** Create the previous database in MySQLWorkbench and paste your code below."
   ]
  },
  {
   "cell_type": "markdown",
   "metadata": {
    "deletable": false,
    "nbgrader": {
     "cell_type": "markdown",
     "checksum": "692e168da01be4173176e11d3b69e6a1",
     "grade": true,
     "grade_id": "cell-82c572f18a281796",
     "locked": false,
     "points": 0,
     "schema_version": 3,
     "solution": true,
     "task": false
    }
   },
   "source": [
    "YOUR ANSWER HERE"
   ]
  },
  {
   "cell_type": "markdown",
   "metadata": {},
   "source": [
    "**Question 1c:** Based on the the previous database, write the following queries in SQL:\n",
    "1. Find the population of the cheetah.\n",
    "2. Find the status of the snow leopard.\n",
    "3. Find all the animals in the artiodactyla order.\n",
    "4. Find all the animals who don't live in Asia, with a population over 10,000.\n",
    "5. Find the populations of all the animals in the carnivora order."
   ]
  },
  {
   "cell_type": "markdown",
   "metadata": {
    "deletable": false,
    "nbgrader": {
     "cell_type": "markdown",
     "checksum": "3746fc94e2c7e7ba1d3efaac4c9d6c55",
     "grade": true,
     "grade_id": "cell-5145eb36ac345a61",
     "locked": false,
     "points": 0,
     "schema_version": 3,
     "solution": true,
     "task": false
    }
   },
   "source": [
    "YOUR ANSWER HERE"
   ]
  },
  {
   "cell_type": "markdown",
   "metadata": {},
   "source": [
    "**Question 2a:** Design a database for the following dataset. You do not have to create the tables, just list the columns for each. Note which columns are keys.  A full version of the following can be found here: https://catalog.data.gov/dataset/school-location\n",
    "\n",
    "\n",
    "\n",
    "|NAME|TYPE|PUBLIC/PRIVATE|SCHOOL DISTRICT|OPEN/CLOSED|CITY|ZIP|\n",
    "|----|----|--------------|---------------|-----------|-------------|-------|\n",
    "|Baton Rouge Montessori Kids|All Grades|Private\t|Private|\tO|\tBATON ROUGE|\t70810|\n",
    "|Greenville Alternative at Beechwood|Middle|Public|East Baton Rouge Parish|O|BATON ROUGE|70807|\n",
    "|Central Private School|All Grades|Private|Private|O|BAKER|70714|\n",
    "|Baker Heights Elementary School|Elementary|Public|City of Baker|O|BAKER|70714|\n",
    "|Northwestern Middle School|Middle|Public|Zachary Community|O|ZACHARY|70791|\n",
    "|Zachary Early Learning Center|Elementary|Public|Zachary Community|O|ZACHARY|70791|\n",
    "|Woodlawn High School|High|Public|East Baton Rouge Parish|O|BATON ROUGE|70817|\n",
    "|Family Christian Academy|All Grades|Private|Private|O|BATON ROUGE|70810|\n",
    "|Wildwood Elementary School|Elementary|Public|East Baton Rouge Parish|O|BATON ROUGE|70810|\n"
   ]
  },
  {
   "cell_type": "markdown",
   "metadata": {
    "deletable": false,
    "nbgrader": {
     "cell_type": "markdown",
     "checksum": "e52b368fd37b057ebeb86d3d8d78e982",
     "grade": true,
     "grade_id": "cell-13fbe52e7c7b5731",
     "locked": false,
     "points": 0,
     "schema_version": 3,
     "solution": true,
     "task": false
    }
   },
   "source": [
    "YOUR ANSWER HERE"
   ]
  },
  {
   "cell_type": "markdown",
   "metadata": {},
   "source": [
    "**Question 2b:** Insert the following SQL into MySQLWorkbench and paste your code below."
   ]
  },
  {
   "cell_type": "markdown",
   "metadata": {
    "deletable": false,
    "nbgrader": {
     "cell_type": "markdown",
     "checksum": "8d1cc0adf97fa16b2bb678601a25c4b9",
     "grade": true,
     "grade_id": "cell-0c6b03fac8052e4e",
     "locked": false,
     "points": 0,
     "schema_version": 3,
     "solution": true,
     "task": false
    }
   },
   "source": [
    "YOUR ANSWER HERE"
   ]
  },
  {
   "cell_type": "markdown",
   "metadata": {},
   "source": [
    "**Question 2c:** Based on the the previous database, write the following queries in SQL:\n",
    "1. Find all the schools in 70810. \n",
    "2. Find all the public middle schools.\n",
    "3. Find all the schools in Baton Rouge. \n",
    "4. Find the public, all grade schools in Baton Rouge. \n",
    "5. Find all the schools with School in the name. "
   ]
  },
  {
   "cell_type": "markdown",
   "metadata": {
    "deletable": false,
    "nbgrader": {
     "cell_type": "markdown",
     "checksum": "aafa6c057f468812feed736a93fb9ee9",
     "grade": true,
     "grade_id": "cell-029aa17dd9ee86a1",
     "locked": false,
     "points": 0,
     "schema_version": 3,
     "solution": true,
     "task": false
    }
   },
   "source": [
    "YOUR ANSWER HERE"
   ]
  },
  {
   "cell_type": "markdown",
   "metadata": {},
   "source": [
    "**Question 3a:** Design a database for the following dataset. You do not have to create the tables, just list the columns for each. Note which columns are keys.\n",
    "\n",
    "|State Park|Course Name|Region|County|\n",
    "|----------|-----------|------|------|\n",
    "|Alfred E. Smith/Sunken Meadow|Blue|9|Suffolk|\n",
    "|Alfred E. Smith/Sunken Meadow|Green|9|Suffolk|\n",
    "|Alfred E. Smith/Sunken Meadow|Red|9|Suffolk|\n",
    "|Battle Island||5|\tOswego|\n",
    "|Beaver Island|\t|\t1|\tErie|\n",
    "|Bethpage\t|Black\t|9|\tNassau|\n",
    "|Bethpage\t|Blue\t|9|\tNassau|\n",
    "|Bethpage\t|Green\t|9|\tNassau|\n",
    "|Bethpage\t|Red\t|9|\tNassau|\n",
    "|Bethpage\t|Yellow\t|9|\tNassau|\n",
    "|Bonavista\t\t||4|Seneca|\n",
    "|Chenango Valley||\t\t5|\tBroome|\n",
    "|Fair Haven Beach||\t\t4|\tCayuga|\n",
    "|Green Lakes\t||\t5\t|Onondaga|\n",
    "|Indian Hills\t||\t4\t|Steuben|\n",
    "|James Baird\t\t||7\t|Dutchess|\n",
    "|Jones Beach\t|Pitch/Putt\t|9\t|Nassau|\n",
    "|Mark Twain\t\t||4\t|Chemung|\n",
    "|Montauk Downs\t||\t9|\tSuffolk|\n",
    "|Ogden & Ruth Livingston Mills\t||\t7|\tDutchess|\n",
    "|Pinnacle\t\t||4\t|Steuben|\n",
    "|Robert Moses\t|Pitch/Putt|\t9|\tSuffolk|\n",
    "|Rockland Lake\t||\t8\t|Rockland|\n",
    "|Rockland Lake\t|Executive|\t8\t|Rockland|\n",
    "|Sag Harbor\t\t||9|\tSuffolk|\n",
    "|Saratoga Spa\t\t||11|\tSaratoga|\n",
    "|Saratoga Spa\t|Executive|11|\tSaratoga|\n",
    "|St. Lawrence\t\t||10|\tSt. Lawrence|\n",
    "|Wellesley Island\t||\t10\t|Jefferson|"
   ]
  },
  {
   "cell_type": "markdown",
   "metadata": {
    "deletable": false,
    "nbgrader": {
     "cell_type": "markdown",
     "checksum": "104198c02d3ee9913e4b8626c6814e4a",
     "grade": true,
     "grade_id": "cell-5c33ce3c5f869a16",
     "locked": false,
     "points": 0,
     "schema_version": 3,
     "solution": true,
     "task": false
    }
   },
   "source": [
    "YOUR ANSWER HERE"
   ]
  },
  {
   "cell_type": "markdown",
   "metadata": {},
   "source": [
    "**Question 3b:** Insert the following SQL into MySQLWorkbench and paste your code below."
   ]
  },
  {
   "cell_type": "markdown",
   "metadata": {
    "deletable": false,
    "nbgrader": {
     "cell_type": "markdown",
     "checksum": "0e7511cc1c3751a213c454cfd0f8fbf0",
     "grade": true,
     "grade_id": "cell-b12e1d069c27a40e",
     "locked": false,
     "points": 0,
     "schema_version": 3,
     "solution": true,
     "task": false
    }
   },
   "source": [
    "YOUR ANSWER HERE"
   ]
  },
  {
   "cell_type": "markdown",
   "metadata": {},
   "source": [
    "**Question 3c:** Based on the the previous database, write the following queries in SQL:\n",
    "1. Find the golf courses.\n",
    "2. Find the golf courses in Suffolk.\n",
    "3. Find all the State Parks which contain an s in their name.\n",
    "4. Find the names of the blue courses in region 9. "
   ]
  },
  {
   "cell_type": "markdown",
   "metadata": {
    "deletable": false,
    "nbgrader": {
     "cell_type": "markdown",
     "checksum": "342f65d36ca97cbbe6ebd8ba7e133761",
     "grade": true,
     "grade_id": "cell-a72a237100934455",
     "locked": false,
     "points": 0,
     "schema_version": 3,
     "solution": true,
     "task": false
    }
   },
   "source": [
    "YOUR ANSWER HERE"
   ]
  },
  {
   "cell_type": "markdown",
   "metadata": {},
   "source": [
    "**Question 4a:** Using pd.read_csv(), read in the following csv as df:https://vincentarelbundock.github.io/Rdatasets/csv/DAAG/spam7.csv.\n",
    "\n",
    "Then show the first few rows of the dataframe.\n",
    "\n",
    "For a description of the dataset, read the following: https://vincentarelbundock.github.io/Rdatasets/doc/DAAG/spam7.html"
   ]
  },
  {
   "cell_type": "code",
   "execution_count": null,
   "metadata": {
    "deletable": false,
    "nbgrader": {
     "cell_type": "code",
     "checksum": "1620f61d7dea97e3f023bc1100786022",
     "grade": true,
     "grade_id": "cell-8d694993e85ade07",
     "locked": false,
     "points": 0,
     "schema_version": 3,
     "solution": true,
     "task": false
    }
   },
   "outputs": [],
   "source": [
    "# YOUR CODE HERE\n",
    "raise NotImplementedError()"
   ]
  },
  {
   "cell_type": "markdown",
   "metadata": {},
   "source": [
    "**Question 4b:** Using pandas, create a new dataframe containing the last 3 columns. Call this dataframe dfB.  Then write the equivalent query in SQL."
   ]
  },
  {
   "cell_type": "code",
   "execution_count": null,
   "metadata": {
    "deletable": false,
    "nbgrader": {
     "cell_type": "code",
     "checksum": "e5c9bf1c94749e13737c00e29a04a576",
     "grade": false,
     "grade_id": "cell-c3f64175438b07eb",
     "locked": false,
     "schema_version": 3,
     "solution": true,
     "task": false
    }
   },
   "outputs": [],
   "source": [
    "# YOUR CODE HERE\n",
    "raise NotImplementedError()"
   ]
  },
  {
   "cell_type": "code",
   "execution_count": null,
   "metadata": {
    "deletable": false,
    "editable": false,
    "nbgrader": {
     "cell_type": "code",
     "checksum": "ad88d93f325e12ac05b5c45516d39589",
     "grade": true,
     "grade_id": "cell-c76e30bed568c4cf",
     "locked": true,
     "points": 0,
     "schema_version": 3,
     "solution": false,
     "task": false
    }
   },
   "outputs": [],
   "source": [
    "assert list(dfB.iloc[5])==[0.0, 0.0, 'y']\n",
    "assert list(dfB.iloc[234])==[0.0, 0.83999999999999997, 'y']\n",
    "assert len(dfB)==4601"
   ]
  },
  {
   "cell_type": "markdown",
   "metadata": {},
   "source": [
    "**Question 4c:** Using pandas, create a new dataframe containing of only the spam emails. Call this dataframe dfC. Then write the equivalent query in SQL."
   ]
  },
  {
   "cell_type": "code",
   "execution_count": null,
   "metadata": {
    "deletable": false,
    "nbgrader": {
     "cell_type": "code",
     "checksum": "89985c643f3063b0f743c47ea75d677c",
     "grade": false,
     "grade_id": "cell-396e8ed8c8d5bf1f",
     "locked": false,
     "schema_version": 3,
     "solution": true,
     "task": false
    }
   },
   "outputs": [],
   "source": [
    "# YOUR CODE HERE\n",
    "raise NotImplementedError()"
   ]
  },
  {
   "cell_type": "code",
   "execution_count": null,
   "metadata": {
    "deletable": false,
    "editable": false,
    "nbgrader": {
     "cell_type": "code",
     "checksum": "923f91824434f8e20e2481e651f11bf6",
     "grade": true,
     "grade_id": "cell-81e95d98c1242746",
     "locked": true,
     "points": 0,
     "schema_version": 3,
     "solution": false,
     "task": false
    }
   },
   "outputs": [],
   "source": [
    "assert len(dfC)==1813"
   ]
  },
  {
   "cell_type": "markdown",
   "metadata": {},
   "source": [
    "**Your answer here**"
   ]
  },
  {
   "cell_type": "markdown",
   "metadata": {},
   "source": [
    "**Question 4d:** Using pandas, create a dataframe of the averages of each column, grouped by whether or not the email was spam. Call this dataframe dfD. Then write the equivalent query in SQL. **Hint:** to take the average in SQL, use AVG()"
   ]
  },
  {
   "cell_type": "code",
   "execution_count": null,
   "metadata": {
    "deletable": false,
    "nbgrader": {
     "cell_type": "code",
     "checksum": "bbaa70f0a6273bc73af970de137eaa8e",
     "grade": true,
     "grade_id": "cell-931de215dcdd0111",
     "locked": false,
     "points": 0,
     "schema_version": 3,
     "solution": true,
     "task": false
    }
   },
   "outputs": [],
   "source": [
    "# YOUR CODE HERE\n",
    "raise NotImplementedError()"
   ]
  },
  {
   "cell_type": "markdown",
   "metadata": {
    "deletable": false,
    "nbgrader": {
     "cell_type": "markdown",
     "checksum": "852c9b7f4b9560958a9510a95825b7cc",
     "grade": true,
     "grade_id": "cell-668d02a1a7899393",
     "locked": false,
     "points": 0,
     "schema_version": 3,
     "solution": true,
     "task": false
    }
   },
   "source": [
    "YOUR ANSWER HERE"
   ]
  },
  {
   "cell_type": "code",
   "execution_count": null,
   "metadata": {},
   "outputs": [],
   "source": [
    "assert list(dfD['dollar'])==[0.011648493543758971, 0.17447821290678439]"
   ]
  },
  {
   "cell_type": "markdown",
   "metadata": {},
   "source": [
    "**Question 4e:** Using pandas, create a new dataframe that is sorted by total length of words in capitals, from greatest to least. Call this dataframe dfE. Then write the equivalent query in SQL."
   ]
  },
  {
   "cell_type": "code",
   "execution_count": null,
   "metadata": {},
   "outputs": [],
   "source": [
    "dfE=df.sort_values('crl.tot',ascending=False)\n",
    "dfE[:10]"
   ]
  },
  {
   "cell_type": "code",
   "execution_count": null,
   "metadata": {},
   "outputs": [],
   "source": [
    "assert list(dfE.loc[10])==[11, 21, 0.0, 0.46200000000000002, 0.0, 0.0, 0.0, 'y']\n",
    "assert len(dfE)==4601"
   ]
  },
  {
   "cell_type": "markdown",
   "metadata": {},
   "source": [
    "**Your answer here**"
   ]
  },
  {
   "cell_type": "markdown",
   "metadata": {},
   "source": [
    "**Question 5a:** The following is simulated data representing forecasters weather predictions. Create the following table using SQL queries in MySQLWorkbench and paste your query below: \n",
    "\n",
    "|ID|x1|x2|x3|x4|\n",
    "|--|--|--|--|--|\n",
    "|0|Merle|64|67|Hibbing|\n",
    "|1|Jillian|68|63|Duluth|\n",
    "|2|Julia|62|71|Elk River|\n",
    "|3|Paul|76|76|Eden Praire|\n",
    "|4|Rob|70|74|Bloomington|\n",
    "|5|Andrew|65|71|Park Rapids|\n",
    "|6|Maya|65|67|Eagan|"
   ]
  },
  {
   "cell_type": "markdown",
   "metadata": {},
   "source": [
    "**Your answer here**"
   ]
  },
  {
   "cell_type": "markdown",
   "metadata": {},
   "source": [
    "**Question 5b:** Based on the previously generated table, write SQL queries that do the following:\n",
    "1. Name the columns as follows: name, prediction, actual, location.\n",
    "2. Delete Paul from the table.\n",
    "3. Add the following row: ['George',80,74,Lakeville].\n",
    "4. Create a new column, error1, that calculates how far off their predition was.\n",
    "5. Changes George's prediction to 79.\n",
    "6. Find who got the largest error."
   ]
  },
  {
   "cell_type": "markdown",
   "metadata": {},
   "source": [
    "**Your answer here**"
   ]
  },
  {
   "cell_type": "markdown",
   "metadata": {},
   "source": [
    "**Question 6:** Write a function\n",
    "\n",
    "    importCsv(url,tableName,cursor)\n",
    "\n",
    "that reads in the following url to a database: https://vincentarelbundock.github.io/Rdatasets/csv/DAAG/cuckoos.csv. Information about the data can be found here: https://vincentarelbundock.github.io/Rdatasets/doc/DAAG/cuckoos.html."
   ]
  },
  {
   "cell_type": "code",
   "execution_count": null,
   "metadata": {},
   "outputs": [],
   "source": [
    "# Clean up the code below\n",
    "\n",
    "import numpy as np\n",
    "import pandas as pd\n",
    "\n",
    "def tupleConvert(row):\n",
    "    crow = []\n",
    "    for item in row[1:]:\n",
    "        if isinstance(item, str):\n",
    "            crow.append(item)\n",
    "        elif item == None:\n",
    "            crow.append(item)\n",
    "        elif item == float(\"nan\"):\n",
    "            crow.append(None)\n",
    "        elif pd.isnull(item):\n",
    "            crow.append(None)\n",
    "        else:\n",
    "            crow.append(np.asscalar(item))\n",
    "    return crow\n",
    "\n",
    "def importCsv(url,tableName,cursor):\n",
    "    df=pd.read_csv(url)\n",
    "    c=cursor\n",
    "    c.execute(\"drop table if exists \"+tableName)\n",
    "    \n",
    "    types=list(df.dtypes)\n",
    "    types2=[]\n",
    "    for item in types:\n",
    "        item=str(item).replace('64','')\n",
    "        if item=='object':\n",
    "            item='text'\n",
    "        types2.append(item)\n",
    "    columns=[]\n",
    "    for index in range(len(df.columns)):\n",
    "        columns.append((df.columns[index].replace(' ','').replace(':',''),types2[index]))\n",
    "    \n",
    "    text1=\"create table \"+tableName+\"(\"\n",
    "    for index in range(len(columns)):\n",
    "        text1=text1+columns[index][0]+\" \"+columns[index][1]+', '\n",
    "    text1=text1[:-2]+')'\n",
    "    c.execute(text1)\n",
    "\n",
    "    for row in df.itertuples():\n",
    "            row=tupleConvert(row)\n",
    "            text=\"insert into \"+tableName+\" values(\"+str(row[0])+','+str(row[1])+','+str(row[2])+\",'\"+str(str(row[3]))+\"',\"+\\\n",
    "              str(row[4])+\")\"\n",
    "            c.execute(text)\n",
    "c=engine.connect() \n",
    "url='https://vincentarelbundock.github.io/Rdatasets/csv/DAAG/cuckoos.csv'\n",
    "importCsv(url,\"cuck\",c)\n",
    "c.close()"
   ]
  },
  {
   "cell_type": "code",
   "execution_count": null,
   "metadata": {},
   "outputs": [],
   "source": [
    "# Just in case the connection is still open, close it.\n",
    "c.close()\n"
   ]
  }
 ],
 "metadata": {
  "kernelspec": {
   "display_name": "Python 3",
   "language": "python",
   "name": "python3"
  },
  "language_info": {
   "codemirror_mode": {
    "name": "ipython",
    "version": 3
   },
   "file_extension": ".py",
   "mimetype": "text/x-python",
   "name": "python",
   "nbconvert_exporter": "python",
   "pygments_lexer": "ipython3",
   "version": "3.7.6"
  }
 },
 "nbformat": 4,
 "nbformat_minor": 2
}
