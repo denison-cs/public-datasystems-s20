{
 "cells": [
  {
   "cell_type": "markdown",
   "metadata": {},
   "source": [
    "# Basic HTTP Homework\n",
    "\n",
    "In this homework notebook, we will use the bare-bones HTTP library, `myhttp`, to perform requests with a few web servers and work with the results.\n",
    "\n",
    "Recall the three functions provided by the module:\n",
    "\n",
    "-   `makeConnection(host, port)`: Establish a TCP connection from the client machine to a server\n",
    "     at the given machine `host` and listening at the given `port`. Returns the socket connection.\n",
    "\n",
    "-   `sendStringRequest(connection, s)`: Given an established socket `connection`, take `s`, a \n",
    "    string, and send it over the connection. If line endings in `s` are `'\\r\\n'`, the\n",
    "    string is sent without modifications, but if line endings are `'\\n'`,\n",
    "    like in typical Python strings, these are replaced with `'\\r\\n'`.\n",
    "\n",
    "-   `receiveStringResponse(connection)`: Receive and return a string HTTP response from established \n",
    "    socket `connection`.  To obtain a Python string, `'\\r\\n'` are translated\n",
    "    to `'\\n'` line endings.  Further, the `Content-Length` header line\n",
    "    of the response is used to determine the length to retrieve as the\n",
    "    body of the response.  This function should not be used for non-text body responses."
   ]
  },
  {
   "cell_type": "code",
   "execution_count": 1,
   "metadata": {},
   "outputs": [],
   "source": [
    "import myhttp\n",
    "import re"
   ]
  },
  {
   "cell_type": "markdown",
   "metadata": {},
   "source": [
    "**Q1:** Suppose we want to retrieve a text file resource from a web server on machine `hadoop2.mathsci.denison.edu` where the resource path is `/static/chapter6/foo`.  Write a function\n",
    "```\n",
    "get_foo()\n",
    "```\n",
    "that returns the full string HTTP response.  If you need to, look at our class example, as well as the databook (http://hadoop2.mathsci.denison.edu/databook/clientserver.html) for complete information on correct HTTP syntax."
   ]
  },
  {
   "cell_type": "code",
   "execution_count": 2,
   "metadata": {
    "nbgrader": {
     "grade": false,
     "grade_id": "cell-b65c88744f16b24a",
     "locked": false,
     "schema_version": 3,
     "solution": true
    }
   },
   "outputs": [
    {
     "name": "stdout",
     "output_type": "stream",
     "text": [
      "Error connecting to ('hadoop2.mathsci.denison.edu', 80)\n"
     ]
    },
    {
     "ename": "AttributeError",
     "evalue": "'NoneType' object has no attribute 'sendall'",
     "output_type": "error",
     "traceback": [
      "\u001b[0;31m---------------------------------------------------------------------------\u001b[0m",
      "\u001b[0;31mAttributeError\u001b[0m                            Traceback (most recent call last)",
      "\u001b[0;32m<ipython-input-2-d8fb8fbbd70c>\u001b[0m in \u001b[0;36m<module>\u001b[0;34m\u001b[0m\n\u001b[1;32m     11\u001b[0m     \u001b[0;32mreturn\u001b[0m \u001b[0mresult\u001b[0m\u001b[0;34m\u001b[0m\u001b[0;34m\u001b[0m\u001b[0m\n\u001b[1;32m     12\u001b[0m \u001b[0;31m### END SOLUTION\u001b[0m\u001b[0;34m\u001b[0m\u001b[0;34m\u001b[0m\u001b[0;34m\u001b[0m\u001b[0m\n\u001b[0;32m---> 13\u001b[0;31m \u001b[0mresult\u001b[0m \u001b[0;34m=\u001b[0m \u001b[0mget_foo\u001b[0m\u001b[0;34m(\u001b[0m\u001b[0;34m)\u001b[0m\u001b[0;34m\u001b[0m\u001b[0;34m\u001b[0m\u001b[0m\n\u001b[0m\u001b[1;32m     14\u001b[0m \u001b[0mprint\u001b[0m\u001b[0;34m(\u001b[0m\u001b[0mresult\u001b[0m\u001b[0;34m)\u001b[0m\u001b[0;34m\u001b[0m\u001b[0;34m\u001b[0m\u001b[0m\n",
      "\u001b[0;32m<ipython-input-2-d8fb8fbbd70c>\u001b[0m in \u001b[0;36mget_foo\u001b[0;34m()\u001b[0m\n\u001b[1;32m      6\u001b[0m \\n\"\"\"\n\u001b[1;32m      7\u001b[0m     \u001b[0mconnection\u001b[0m \u001b[0;34m=\u001b[0m \u001b[0mmyhttp\u001b[0m\u001b[0;34m.\u001b[0m\u001b[0mmakeConnection\u001b[0m\u001b[0;34m(\u001b[0m\u001b[0mhost\u001b[0m\u001b[0;34m,\u001b[0m \u001b[0mport\u001b[0m\u001b[0;34m=\u001b[0m\u001b[0;36m80\u001b[0m\u001b[0;34m)\u001b[0m\u001b[0;34m\u001b[0m\u001b[0;34m\u001b[0m\u001b[0m\n\u001b[0;32m----> 8\u001b[0;31m     \u001b[0mmyhttp\u001b[0m\u001b[0;34m.\u001b[0m\u001b[0msendStringRequest\u001b[0m\u001b[0;34m(\u001b[0m\u001b[0mconnection\u001b[0m\u001b[0;34m,\u001b[0m \u001b[0mrequest\u001b[0m\u001b[0;34m)\u001b[0m\u001b[0;34m\u001b[0m\u001b[0;34m\u001b[0m\u001b[0m\n\u001b[0m\u001b[1;32m      9\u001b[0m     \u001b[0mresult\u001b[0m \u001b[0;34m=\u001b[0m \u001b[0mmyhttp\u001b[0m\u001b[0;34m.\u001b[0m\u001b[0mreceiveStringResponse\u001b[0m\u001b[0;34m(\u001b[0m\u001b[0mconnection\u001b[0m\u001b[0;34m)\u001b[0m\u001b[0;34m\u001b[0m\u001b[0;34m\u001b[0m\u001b[0m\n\u001b[1;32m     10\u001b[0m     \u001b[0mconnection\u001b[0m\u001b[0;34m.\u001b[0m\u001b[0mclose\u001b[0m\u001b[0;34m(\u001b[0m\u001b[0;34m)\u001b[0m\u001b[0;34m\u001b[0m\u001b[0;34m\u001b[0m\u001b[0m\n",
      "\u001b[0;32m~/Dropbox/datasystems-exercises/http/myhttp.py\u001b[0m in \u001b[0;36msendStringRequest\u001b[0;34m(connection, text)\u001b[0m\n\u001b[1;32m     80\u001b[0m \u001b[0;34m\u001b[0m\u001b[0m\n\u001b[1;32m     81\u001b[0m         \u001b[0ms_crlf\u001b[0m \u001b[0;34m=\u001b[0m \u001b[0ms\u001b[0m \u001b[0;34m+\u001b[0m \u001b[0mCRLF\u001b[0m\u001b[0;34m\u001b[0m\u001b[0;34m\u001b[0m\u001b[0m\n\u001b[0;32m---> 82\u001b[0;31m         \u001b[0mconn\u001b[0m\u001b[0;34m.\u001b[0m\u001b[0msendall\u001b[0m\u001b[0;34m(\u001b[0m\u001b[0ms_crlf\u001b[0m\u001b[0;34m.\u001b[0m\u001b[0mencode\u001b[0m\u001b[0;34m(\u001b[0m\u001b[0;34m\"utf-8\"\u001b[0m\u001b[0;34m)\u001b[0m\u001b[0;34m)\u001b[0m\u001b[0;34m\u001b[0m\u001b[0;34m\u001b[0m\u001b[0m\n\u001b[0m\u001b[1;32m     83\u001b[0m \u001b[0;34m\u001b[0m\u001b[0m\n\u001b[1;32m     84\u001b[0m \u001b[0;34m\u001b[0m\u001b[0m\n",
      "\u001b[0;31mAttributeError\u001b[0m: 'NoneType' object has no attribute 'sendall'"
     ]
    }
   ],
   "source": [
    "### BEGIN SOLUTION\n",
    "def get_foo():\n",
    "    host = 'hadoop2.mathsci.denison.edu'\n",
    "    request=\"\"\"GET /static/chapter6/foo HTTP/1.1\n",
    "Host: hadoop2.mathsci.denison.edu\n",
    "\\n\"\"\"\n",
    "    connection = myhttp.makeConnection(host, port=80)\n",
    "    myhttp.sendStringRequest(connection, request)\n",
    "    result = myhttp.receiveStringResponse(connection)\n",
    "    connection.close()\n",
    "    return result\n",
    "### END SOLUTION\n",
    "result = get_foo()\n",
    "print(result)"
   ]
  },
  {
   "cell_type": "code",
   "execution_count": null,
   "metadata": {
    "nbgrader": {
     "grade": true,
     "grade_id": "cell-b8e4490dfcaa6454",
     "locked": true,
     "points": 2,
     "schema_version": 3,
     "solution": false
    }
   },
   "outputs": [],
   "source": [
    "result = get_foo()\n",
    "assert result[:15] == \"HTTP/1.1 200 OK\"\n",
    "assert \"Content-Length: 201\" in result\n",
    "assert \"/users/bressoud/datasystems/web/static/chapter6/foo\" in result"
   ]
  },
  {
   "cell_type": "markdown",
   "metadata": {},
   "source": [
    "**Q2:** Now write a function to retrieve a text file resource from a web server on machine `hadoop2.mathsci.denison.edu` where the resource path is `/static/chapter6/bar.txt`.  Write a function\n",
    "```\n",
    "get_bar()\n",
    "```\n",
    "that returns the full string HTTP response."
   ]
  },
  {
   "cell_type": "code",
   "execution_count": 6,
   "metadata": {
    "nbgrader": {
     "grade": false,
     "grade_id": "cell-e7f98c6253de0a06",
     "locked": false,
     "schema_version": 3,
     "solution": true
    }
   },
   "outputs": [
    {
     "name": "stdout",
     "output_type": "stream",
     "text": [
      "HTTP/1.1 200 OK\n",
      "Server: nginx/1.10.3 (Ubuntu)\n",
      "Date: Tue, 30 Oct 2018 18:11:20 GMT\n",
      "Content-Type: text/plain\n",
      "Content-Length: 208\n",
      "Last-Modified: Sat, 27 Oct 2018 21:53:27 GMT\n",
      "Connection: keep-alive\n",
      "ETag: \"5bd4de57-d0\"\n",
      "Expires: Thu, 29 Nov 2018 18:11:20 GMT\n",
      "Cache-Control: max-age=2592000\n",
      "Accept-Ranges: bytes\n",
      "\n",
      "This is a file in the filesystem of the web server.\n",
      "It is at path /users/bressoud/datasystems/web/static/chapter6/bar.txt\n",
      "  in the server's filesystem,\n",
      "but that maps to resource path /static/chapter6/bar.txt\n",
      "\n"
     ]
    }
   ],
   "source": [
    "### BEGIN SOLUTION\n",
    "def get_bar():\n",
    "    host = 'hadoop2.mathsci.denison.edu'\n",
    "    request=\"\"\"GET /static/chapter6/bar.txt HTTP/1.1\n",
    "Host: hadoop2.mathsci.denison.edu\n",
    "\\n\"\"\"\n",
    "    connection = myhttp.makeConnection(host, port=80)\n",
    "    myhttp.sendStringRequest(connection, request)\n",
    "    result = myhttp.receiveStringResponse(connection)\n",
    "    connection.close()\n",
    "    return result\n",
    "### END SOLUTION\n",
    "result = get_bar()\n",
    "print(result)"
   ]
  },
  {
   "cell_type": "code",
   "execution_count": 7,
   "metadata": {
    "collapsed": true,
    "jupyter": {
     "outputs_hidden": true
    },
    "nbgrader": {
     "grade": true,
     "grade_id": "cell-6040e203d5f07567",
     "locked": true,
     "points": 2,
     "schema_version": 3,
     "solution": false
    }
   },
   "outputs": [],
   "source": [
    "result = get_bar()\n",
    "assert result[:15] == \"HTTP/1.1 200 OK\"\n",
    "assert \"Content-Length: 208\" in result\n",
    "assert \"/users/bressoud/datasystems/web/static/chapter6/bar.txt\" in result"
   ]
  },
  {
   "cell_type": "markdown",
   "metadata": {},
   "source": [
    "**Q3:** We should be able to generalize our function to be able to retrieve HTTP responses from any valid resource path on the `hadoop2`.  Write a function\n",
    "```\n",
    "get_hadoop2(resource_path)\n",
    "```\n",
    "that makes an HTTP GET request to hadoop2 for the resource specified by `resource_path`."
   ]
  },
  {
   "cell_type": "code",
   "execution_count": 8,
   "metadata": {
    "nbgrader": {
     "grade": false,
     "grade_id": "cell-7d69118b454c05f9",
     "locked": false,
     "schema_version": 3,
     "solution": true
    }
   },
   "outputs": [
    {
     "name": "stdout",
     "output_type": "stream",
     "text": [
      "HTTP/1.1 200 OK\n",
      "Server: nginx/1.10.3 (Ubuntu)\n",
      "Date: Tue, 30 Oct 2018 18:11:23 GMT\n",
      "Content-Type: application/octet-stream\n",
      "Content-Length: 201\n",
      "Last-Modified: Sat, 27 Oct 2018 21:51:15 GMT\n",
      "Connection: keep-alive\n",
      "ETag: \"5bd4ddd3-c9\"\n",
      "Expires: Thu, 29 Nov 2018 18:11:23 GMT\n",
      "Cache-Control: max-age=2592000\n",
      "Accept-Ranges: bytes\n",
      "\n",
      "This is a file in the filesystem of the web server.\n",
      "It is at path /users/bressoud/datasystems/web/static/chapter6/foo \n",
      "  in the server's filesystem,\n",
      "but that maps to resource path /static/chapter6/foo\n",
      "\n"
     ]
    }
   ],
   "source": [
    "### BEGIN SOLUTION\n",
    "def get_hadoop2(resource_path):\n",
    "    host = 'hadoop2.mathsci.denison.edu'\n",
    "    request=\"GET {} HTTP/1.1\\nHost: hadoop2.mathsci.denison.edu\\n\\n\".format(resource_path)\n",
    "    connection = myhttp.makeConnection(host, port=80)\n",
    "    myhttp.sendStringRequest(connection, request)\n",
    "    result = myhttp.receiveStringResponse(connection)\n",
    "    connection.close()\n",
    "    return result\n",
    "### END SOLUTION\n",
    "result = get_hadoop2(\"/static/chapter6/foo\")\n",
    "print(result)"
   ]
  },
  {
   "cell_type": "code",
   "execution_count": 9,
   "metadata": {
    "collapsed": true,
    "jupyter": {
     "outputs_hidden": true
    },
    "nbgrader": {
     "grade": true,
     "grade_id": "cell-aef80f8b1ea393cb",
     "locked": true,
     "points": 2,
     "schema_version": 3,
     "solution": false
    }
   },
   "outputs": [],
   "source": [
    "result = get_hadoop2(\"/static/chapter6/foo\")\n",
    "assert result[:15] == \"HTTP/1.1 200 OK\"\n",
    "assert \"Content-Length: 201\" in result\n",
    "assert \"/users/bressoud/datasystems/web/static/chapter6/foo\" in result"
   ]
  },
  {
   "cell_type": "markdown",
   "metadata": {},
   "source": [
    "**Q4:** We can generalize even our function even further by specifying the server host as well as the resource path.  Write a function\n",
    "```\n",
    "get_http(host, resource_path)\n",
    "```\n",
    "that makes an HTTP GET request to host `host` for the resource specified by `resource_path`.  Make sure you include the given `host` in the `Host: ` header line of the HTTP request as well as using it for making the connection."
   ]
  },
  {
   "cell_type": "code",
   "execution_count": 10,
   "metadata": {
    "nbgrader": {
     "grade": false,
     "grade_id": "cell-40d6d381121b7539",
     "locked": false,
     "schema_version": 3,
     "solution": true
    }
   },
   "outputs": [
    {
     "name": "stdout",
     "output_type": "stream",
     "text": [
      "HTTP/1.1 200 OK\n",
      "Server: nginx/1.10.3 (Ubuntu)\n",
      "Date: Tue, 30 Oct 2018 18:11:24 GMT\n",
      "Content-Type: application/octet-stream\n",
      "Content-Length: 187\n",
      "Last-Modified: Sat, 27 Oct 2018 21:58:28 GMT\n",
      "Connection: keep-alive\n",
      "ETag: \"5bd4df84-bb\"\n",
      "Expires: Thu, 29 Nov 2018 18:11:24 GMT\n",
      "Cache-Control: max-age=2592000\n",
      "Accept-Ranges: bytes\n",
      "\n",
      ",country,capital,area,population\n",
      "BR,Brazil,Brasilia,8.516,200.4\n",
      "RU,Russia,Moscow,17.10,143.5\n",
      "IN,India,New Delhi,3.286,1252\n",
      "CH,China,Beijing,9.597,1357\n",
      "SA,South Africa,Pretoria,1.221,52.98\n"
     ]
    }
   ],
   "source": [
    "### BEGIN SOLUTION\n",
    "def get_http(host, resource_path):\n",
    "    request=\"GET {} HTTP/1.1\\nHost: {}\\n\\n\".format(resource_path, host)\n",
    "    connection = myhttp.makeConnection(host, port=80)\n",
    "    myhttp.sendStringRequest(connection, request)\n",
    "    result = myhttp.receiveStringResponse(connection)\n",
    "    connection.close()\n",
    "    return result\n",
    "### END SOLUTION\n",
    "result = get_http(\"hadoop2.mathsci.denison.edu\", \"/static/chapter6/brics.csv\")\n",
    "print(result)"
   ]
  },
  {
   "cell_type": "code",
   "execution_count": 11,
   "metadata": {
    "collapsed": true,
    "jupyter": {
     "outputs_hidden": true
    },
    "nbgrader": {
     "grade": true,
     "grade_id": "cell-f3d91f951fc067aa",
     "locked": true,
     "points": 2,
     "schema_version": 3,
     "solution": false
    }
   },
   "outputs": [],
   "source": [
    "result = get_http(\"hadoop2.mathsci.denison.edu\", \"/static/chapter6/brics.csv\")\n",
    "assert result[:15] == \"HTTP/1.1 200 OK\"\n",
    "assert \"Content-Length: 187\" in result\n",
    "assert \",country,capital,area,population\" in result"
   ]
  },
  {
   "cell_type": "markdown",
   "metadata": {},
   "source": [
    "With our ability to make basic HTTP requests, which yields HTTP responses, we now need to build some ability to process the result and extract the various parts of the result.  In particular, we want to be able to extract:\n",
    "- the result status, which is the three digits after the HTTP version in the result line.\n",
    "- the set of lines containing the headers\n",
    "- the body of the result"
   ]
  },
  {
   "cell_type": "markdown",
   "metadata": {},
   "source": [
    "**Q5:** Write a function\n",
    "```\n",
    "extractStatus(result)\n",
    "```\n",
    "that finds and returns the integer version of the three digit result code."
   ]
  },
  {
   "cell_type": "code",
   "execution_count": 12,
   "metadata": {
    "nbgrader": {
     "grade": false,
     "grade_id": "cell-97ff77e9d95effe0",
     "locked": false,
     "schema_version": 3,
     "solution": true
    }
   },
   "outputs": [
    {
     "data": {
      "text/plain": [
       "200"
      ]
     },
     "execution_count": 12,
     "metadata": {},
     "output_type": "execute_result"
    }
   ],
   "source": [
    "### BEGIN SOLUTION\n",
    "import re\n",
    "def extractStatus(result):\n",
    "    pattern = r'HTTP/1.1 (\\d\\d\\d)'\n",
    "    m = re.match(pattern, result)\n",
    "    return int(m.group(1))\n",
    "### END SOLUTION\n",
    "result = get_foo()\n",
    "extractStatus(result)"
   ]
  },
  {
   "cell_type": "code",
   "execution_count": 13,
   "metadata": {
    "nbgrader": {
     "grade": true,
     "grade_id": "cell-63676b90c4011669",
     "locked": true,
     "points": 2,
     "schema_version": 3,
     "solution": false
    }
   },
   "outputs": [
    {
     "name": "stdout",
     "output_type": "stream",
     "text": [
      "HTTP/1.1 404 Not Found\n"
     ]
    }
   ],
   "source": [
    "result1 = get_foo()\n",
    "assert extractStatus(result1) == 200\n",
    "result2 = get_hadoop2(\"/static/chapter6/baz\")\n",
    "print(result2[:22])\n",
    "assert extractStatus(result2) == 404"
   ]
  },
  {
   "cell_type": "markdown",
   "metadata": {},
   "source": [
    "**Q6:** Write a function\n",
    "```\n",
    "extractHeaders(result)\n",
    "```\n",
    "that finds all the result header lines (after the start line and before the blank line in the result) and uses the header: value pair to build a dictionary whose keys are the header types and the values are the string up to, but not inlcuding, the newline that terminates the header line."
   ]
  },
  {
   "cell_type": "code",
   "execution_count": 14,
   "metadata": {
    "nbgrader": {
     "grade": false,
     "grade_id": "cell-ac3b8797878334b5",
     "locked": false,
     "schema_version": 3,
     "solution": true
    }
   },
   "outputs": [
    {
     "data": {
      "text/plain": [
       "{'Server': 'nginx/1.10.3 (Ubuntu)',\n",
       " 'Date': 'Tue, 30 Oct 2018 18:11:28 GMT',\n",
       " 'Content-Type': 'application/octet-stream',\n",
       " 'Content-Length': '201',\n",
       " 'Last-Modified': 'Sat, 27 Oct 2018 21:51:15 GMT',\n",
       " 'Connection': 'keep-alive',\n",
       " 'ETag': '\"5bd4ddd3-c9\"',\n",
       " 'Expires': 'Thu, 29 Nov 2018 18:11:28 GMT',\n",
       " 'Cache-Control': 'max-age=2592000',\n",
       " 'Accept-Ranges': 'bytes'}"
      ]
     },
     "execution_count": 14,
     "metadata": {},
     "output_type": "execute_result"
    }
   ],
   "source": [
    "### BEGIN SOLUTION\n",
    "import re\n",
    "def extractHeaders(result):\n",
    "    hdrspattern = r'\\n(.*\\n)\\n'\n",
    "    oneheader = r'^([\\w-]+): (.*)$'\n",
    "    D = {}\n",
    "    m = re.search(hdrspattern, result, flags=re.S)\n",
    "    for line in m.group(1).split('\\n'):\n",
    "        #print(line)\n",
    "        m2 = re.search(oneheader, line)\n",
    "        if m2:\n",
    "            D[m2.group(1)] = m2.group(2)\n",
    "    return D\n",
    "### END SOLUTION\n",
    "result = get_foo()\n",
    "extractHeaders(result)"
   ]
  },
  {
   "cell_type": "code",
   "execution_count": 15,
   "metadata": {
    "nbgrader": {
     "grade": true,
     "grade_id": "cell-80e51d6f6430737a",
     "locked": true,
     "points": 3,
     "schema_version": 3,
     "solution": false
    }
   },
   "outputs": [
    {
     "ename": "AssertionError",
     "evalue": "",
     "output_type": "error",
     "traceback": [
      "\u001b[0;31m---------------------------------------------------------------------------\u001b[0m",
      "\u001b[0;31mAssertionError\u001b[0m                            Traceback (most recent call last)",
      "\u001b[0;32m<ipython-input-15-89813c3a8051>\u001b[0m in \u001b[0;36m<module>\u001b[0;34m()\u001b[0m\n\u001b[1;32m      1\u001b[0m \u001b[0mresult1\u001b[0m \u001b[0;34m=\u001b[0m \u001b[0mget_foo\u001b[0m\u001b[0;34m(\u001b[0m\u001b[0;34m)\u001b[0m\u001b[0;34m\u001b[0m\u001b[0m\n\u001b[1;32m      2\u001b[0m \u001b[0mhdrs1\u001b[0m \u001b[0;34m=\u001b[0m \u001b[0mextractHeaders\u001b[0m\u001b[0;34m(\u001b[0m\u001b[0mresult1\u001b[0m\u001b[0;34m)\u001b[0m\u001b[0;34m\u001b[0m\u001b[0m\n\u001b[0;32m----> 3\u001b[0;31m \u001b[0;32massert\u001b[0m \u001b[0mlen\u001b[0m\u001b[0;34m(\u001b[0m\u001b[0mhdrs1\u001b[0m\u001b[0;34m)\u001b[0m \u001b[0;34m==\u001b[0m \u001b[0;36m8\u001b[0m\u001b[0;34m\u001b[0m\u001b[0m\n\u001b[0m\u001b[1;32m      4\u001b[0m \u001b[0;32massert\u001b[0m \u001b[0;34m'Content-Length'\u001b[0m \u001b[0;32min\u001b[0m \u001b[0mhdrs1\u001b[0m\u001b[0;34m\u001b[0m\u001b[0m\n\u001b[1;32m      5\u001b[0m \u001b[0mresult2\u001b[0m \u001b[0;34m=\u001b[0m \u001b[0mget_hadoop2\u001b[0m\u001b[0;34m(\u001b[0m\u001b[0;34m\"/static/chapter6/baz\"\u001b[0m\u001b[0;34m)\u001b[0m\u001b[0;34m\u001b[0m\u001b[0m\n",
      "\u001b[0;31mAssertionError\u001b[0m: "
     ]
    }
   ],
   "source": [
    "result1 = get_foo()\n",
    "hdrs1 = extractHeaders(result1)\n",
    "assert len(hdrs1) == 8\n",
    "assert 'Content-Length' in hdrs1\n",
    "result2 = get_hadoop2(\"/static/chapter6/baz\")\n",
    "hdrs2 = extractHeaders(result2)\n",
    "assert len(hdrs2) == 5"
   ]
  },
  {
   "cell_type": "markdown",
   "metadata": {},
   "source": [
    "**Q7:** Write a function\n",
    "```\n",
    "extractBody(result)\n",
    "```\n",
    "that returns the body of the result."
   ]
  },
  {
   "cell_type": "code",
   "execution_count": 69,
   "metadata": {
    "nbgrader": {
     "grade": false,
     "grade_id": "cell-9927181c3e37c4e7",
     "locked": false,
     "schema_version": 3,
     "solution": true
    }
   },
   "outputs": [
    {
     "data": {
      "text/plain": [
       "\"This is a file in the filesystem of the web server.\\nIt is at path /users/bressoud/datasystems/web/static/chapter6/foo \\n  in the server's filesystem,\\nbut that maps to resource path /static/chapter6/foo\\n\""
      ]
     },
     "execution_count": 69,
     "metadata": {},
     "output_type": "execute_result"
    }
   ],
   "source": [
    "### BEGIN SOLUTION\n",
    "import re\n",
    "def extractBody(result):\n",
    "    bodypattern = r'\\n\\n(.*)$'\n",
    "    m = re.search(bodypattern, result, flags=re.S)\n",
    "    return m.group(1)\n",
    "### END SOLUTION\n",
    "result = get_foo()\n",
    "extractBody(result)"
   ]
  },
  {
   "cell_type": "code",
   "execution_count": 70,
   "metadata": {
    "collapsed": true,
    "jupyter": {
     "outputs_hidden": true
    },
    "nbgrader": {
     "grade": true,
     "grade_id": "cell-d5b819a625dcfb57",
     "locked": true,
     "points": 2,
     "schema_version": 3,
     "solution": false
    }
   },
   "outputs": [],
   "source": [
    "result1 = get_foo()\n",
    "body1 = extractBody(result1)\n",
    "assert len(body1.split('\\n')) == 5\n",
    "result2 = get_hadoop2(\"/static/chapter6/baz\")\n",
    "body2 = extractBody(result2)\n",
    "assert body2 == '<html>\\n<head><title>404 Not Found</title></head>\\n<body bgcolor=\"white\">\\n<center><h1>404 Not Found</h1></center>\\n<hr><center>nginx/1.10.3 (Ubuntu)</center>\\n</body>\\n</html>\\n'"
   ]
  },
  {
   "cell_type": "code",
   "execution_count": null,
   "metadata": {
    "collapsed": true,
    "jupyter": {
     "outputs_hidden": true
    }
   },
   "outputs": [],
   "source": []
  }
 ],
 "metadata": {
  "celltoolbar": "Create Assignment",
  "kernelspec": {
   "display_name": "Python 3",
   "language": "python",
   "name": "python3"
  },
  "language_info": {
   "codemirror_mode": {
    "name": "ipython",
    "version": 3
   },
   "file_extension": ".py",
   "mimetype": "text/x-python",
   "name": "python",
   "nbconvert_exporter": "python",
   "pygments_lexer": "ipython3",
   "version": "3.7.6"
  }
 },
 "nbformat": 4,
 "nbformat_minor": 4
}
