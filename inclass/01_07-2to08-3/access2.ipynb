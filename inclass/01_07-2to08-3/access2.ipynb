{
 "cells": [
  {
   "cell_type": "markdown",
   "metadata": {},
   "source": [
    "Before you turn this problem in, make sure everything runs as expected. First, **restart the kernel** (in the menubar, select Kernel$\\rightarrow$Restart) and then **run all cells** (in the menubar, select Cell$\\rightarrow$Run All).\n",
    "\n",
    "Make sure you fill in any place that says `YOUR CODE HERE` or \"YOUR ANSWER HERE\", as well as your name and collaborators below:"
   ]
  },
  {
   "cell_type": "code",
   "execution_count": null,
   "metadata": {},
   "outputs": [],
   "source": [
    "NAME = \"\"\n",
    "COLLABORATORS = \"\""
   ]
  },
  {
   "cell_type": "markdown",
   "metadata": {},
   "source": [
    "---"
   ]
  },
  {
   "cell_type": "code",
   "execution_count": null,
   "metadata": {},
   "outputs": [],
   "source": [
    "import pandas as pd\n",
    "import os\n",
    "import os.path\n",
    "\n",
    "datadir = 'publicdata'"
   ]
  },
  {
   "cell_type": "code",
   "execution_count": null,
   "metadata": {},
   "outputs": [],
   "source": [
    "tbcases = {'country': [\"Afghanistan\", \"Afghanistan\", \"Brazil\", \"Brazil\", \"China\", \"China\"],\n",
    "           'year': [1999, 2000, 1999, 2000, 1999, 2000],\n",
    "           'cases': [745, 2666, 37737, 80488, 212258, 213766],\n",
    "           'population': [ 19987071, 20595360, 172006362, 174504898, 1272915272, 1280428583 ]\n",
    "          }\n",
    "tb_df = pd.DataFrame(tbcases)\n",
    "tb_df.set_index(['country', 'year'], inplace=True)\n",
    "\n",
    "ind_df = pd.read_csv(os.path.join(datadir,\"indicators2016.csv\"), index_col='code')"
   ]
  },
  {
   "cell_type": "markdown",
   "metadata": {},
   "source": [
    "## Construction with `read_csv()`"
   ]
  },
  {
   "cell_type": "markdown",
   "metadata": {},
   "source": [
    "**Q** Use `read_csv()` to construct a dataframe from the `\"topnames.csv\"` file, assign to `tn_df`, and use `head()` as an expression to show the first 5 rows."
   ]
  },
  {
   "cell_type": "code",
   "execution_count": null,
   "metadata": {
    "deletable": false,
    "nbgrader": {
     "cell_type": "code",
     "checksum": "86701236721949fbe7a000dcd35e09c0",
     "grade": true,
     "grade_id": "cell-87b96e5192dc301e",
     "locked": false,
     "points": 0,
     "schema_version": 3,
     "solution": true,
     "task": false
    }
   },
   "outputs": [],
   "source": [
    "# YOUR CODE HERE\n",
    "raise NotImplementedError()"
   ]
  },
  {
   "cell_type": "markdown",
   "metadata": {},
   "source": [
    "**Q** Use **help** to navigate to `pandas reference` and search for `read_csv()` and select the top search return.  In the signature and then in the descriptions of the parameters, find the `index_col` parameter.  By reading the description, figure out how to create `tn_df2` with a MultiIndex for the independent variables."
   ]
  },
  {
   "cell_type": "code",
   "execution_count": null,
   "metadata": {
    "deletable": false,
    "nbgrader": {
     "cell_type": "code",
     "checksum": "48710b8e60e2dc0ccabf9f88912a49a6",
     "grade": true,
     "grade_id": "cell-b931dbc849fa1b44",
     "locked": false,
     "points": 0,
     "schema_version": 3,
     "solution": true,
     "task": false
    }
   },
   "outputs": [],
   "source": [
    "# YOUR CODE HERE\n",
    "raise NotImplementedError()"
   ]
  },
  {
   "cell_type": "markdown",
   "metadata": {},
   "source": [
    "**Q** Recreate `tn_df2` by using `read_csv` and then setting the row label index using `year` and `sex` in a separate step, and doing so *without* creating a new DataFrame.  End with an invocation of `tail()` showing the last 10 rows."
   ]
  },
  {
   "cell_type": "code",
   "execution_count": null,
   "metadata": {
    "deletable": false,
    "nbgrader": {
     "cell_type": "code",
     "checksum": "ff1b8fe7af1c621c1de09996f1f3656f",
     "grade": true,
     "grade_id": "cell-a33e0e173671d262",
     "locked": false,
     "points": 0,
     "schema_version": 3,
     "solution": true,
     "task": false
    }
   },
   "outputs": [],
   "source": [
    "# YOUR CODE HERE\n",
    "raise NotImplementedError()"
   ]
  },
  {
   "cell_type": "markdown",
   "metadata": {},
   "source": [
    "## Review of Basic Access\n",
    "\n",
    "**Summary of Access Operations from Last Week**\n",
    "\n",
    "- Project Single Column as Series\n",
    "    - access operator and string name\n",
    "    - attribute shortcut\n",
    "- Single Element as Scalar\n",
    "    - as single column projection composed with Series integer position in access operator; can use a row-label index instead of an integer position\n",
    "    - using `.loc[]` with **exactly one** specification for comma separated *row-spec* and *col-spec*\n",
    "- Project Multiple Columns\n",
    "    - access operator with explicit list as \"argument\"\n",
    "- Select Multiple Rows\n",
    "    - `.loc[]` with slice for *row-spec* and no *col-spec*\n",
    "- Combination Projection and Selection\n",
    "    - `.loc[]` with slice for *row-spec* and slice for *col-spec*\n",
    "    - `.loc[]` with slice for *row-spec* and explicit list for *col-spec*"
   ]
  },
  {
   "cell_type": "markdown",
   "metadata": {},
   "source": [
    "**Q** In the eight cells that follow, write an expression as an example for each of the access operations we demonstrated last week, using the `tb_df` DataFrame created at the beginning of this notebook."
   ]
  },
  {
   "cell_type": "code",
   "execution_count": null,
   "metadata": {
    "deletable": false,
    "nbgrader": {
     "cell_type": "code",
     "checksum": "c9db6bd2fa452abc3ec0ce843a98a0b5",
     "grade": true,
     "grade_id": "cell-084bc0f1b6c286e7",
     "locked": false,
     "points": 0,
     "schema_version": 3,
     "solution": true,
     "task": false
    }
   },
   "outputs": [],
   "source": [
    "# YOUR CODE HERE\n",
    "raise NotImplementedError()"
   ]
  },
  {
   "cell_type": "code",
   "execution_count": null,
   "metadata": {
    "deletable": false,
    "nbgrader": {
     "cell_type": "code",
     "checksum": "1bea47a09377c325599ded8ae1de8b32",
     "grade": true,
     "grade_id": "cell-a6c0e86936b236ec",
     "locked": false,
     "points": 0,
     "schema_version": 3,
     "solution": true,
     "task": false
    }
   },
   "outputs": [],
   "source": [
    "# YOUR CODE HERE\n",
    "raise NotImplementedError()"
   ]
  },
  {
   "cell_type": "code",
   "execution_count": null,
   "metadata": {
    "deletable": false,
    "nbgrader": {
     "cell_type": "code",
     "checksum": "4af22253b1493a1c400c78801a3b3f92",
     "grade": true,
     "grade_id": "cell-94b4e0724497c083",
     "locked": false,
     "points": 0,
     "schema_version": 3,
     "solution": true,
     "task": false
    }
   },
   "outputs": [],
   "source": [
    "# YOUR CODE HERE\n",
    "raise NotImplementedError()"
   ]
  },
  {
   "cell_type": "code",
   "execution_count": null,
   "metadata": {
    "deletable": false,
    "nbgrader": {
     "cell_type": "code",
     "checksum": "354922b281d5aa66db03aa9efabc28fe",
     "grade": true,
     "grade_id": "cell-d8627cd1e06eae07",
     "locked": false,
     "points": 0,
     "schema_version": 3,
     "solution": true,
     "task": false
    }
   },
   "outputs": [],
   "source": [
    "# YOUR CODE HERE\n",
    "raise NotImplementedError()"
   ]
  },
  {
   "cell_type": "code",
   "execution_count": null,
   "metadata": {
    "deletable": false,
    "nbgrader": {
     "cell_type": "code",
     "checksum": "46380e3186f0398b179841a5925be1cf",
     "grade": true,
     "grade_id": "cell-38792bb01ad7fe86",
     "locked": false,
     "points": 0,
     "schema_version": 3,
     "solution": true,
     "task": false
    }
   },
   "outputs": [],
   "source": [
    "# YOUR CODE HERE\n",
    "raise NotImplementedError()"
   ]
  },
  {
   "cell_type": "code",
   "execution_count": null,
   "metadata": {
    "deletable": false,
    "nbgrader": {
     "cell_type": "code",
     "checksum": "bc38369b21a950b01575d283af306320",
     "grade": true,
     "grade_id": "cell-4c90d439a846f18c",
     "locked": false,
     "points": 0,
     "schema_version": 3,
     "solution": true,
     "task": false
    }
   },
   "outputs": [],
   "source": [
    "# YOUR CODE HERE\n",
    "raise NotImplementedError()"
   ]
  },
  {
   "cell_type": "code",
   "execution_count": null,
   "metadata": {
    "deletable": false,
    "nbgrader": {
     "cell_type": "code",
     "checksum": "95f4a8143a9f7b03b683c834de005039",
     "grade": true,
     "grade_id": "cell-7493322bd80d9af9",
     "locked": false,
     "points": 0,
     "schema_version": 3,
     "solution": true,
     "task": false
    }
   },
   "outputs": [],
   "source": [
    "# YOUR CODE HERE\n",
    "raise NotImplementedError()"
   ]
  },
  {
   "cell_type": "code",
   "execution_count": null,
   "metadata": {
    "deletable": false,
    "nbgrader": {
     "cell_type": "code",
     "checksum": "62b90b9ebb6068a7d153a22840fd68c9",
     "grade": true,
     "grade_id": "cell-c23a21f8f0009687",
     "locked": false,
     "points": 0,
     "schema_version": 3,
     "solution": true,
     "task": false
    }
   },
   "outputs": [],
   "source": [
    "# YOUR CODE HERE\n",
    "raise NotImplementedError()"
   ]
  },
  {
   "cell_type": "markdown",
   "metadata": {},
   "source": [
    "The next set of steps is intended to explore the ways we can specify the *row-spec* and *col-spec* when we use the `.loc` attribute and the access operator (`[` `]`), with comma separated *row-spec* and *col-spec* within the access operator.  We will use the indicators2016 data in the `ind_df` Data Frame.  For each question, we ask for a variation which you provide in the first cell, and then put that same expression in a call to `type()` in the second cell."
   ]
  },
  {
   "cell_type": "markdown",
   "metadata": {},
   "source": [
    "**Q** Use **exactly-one** row and col specs to give the population of Vietnam."
   ]
  },
  {
   "cell_type": "code",
   "execution_count": null,
   "metadata": {
    "deletable": false,
    "nbgrader": {
     "cell_type": "code",
     "checksum": "c6ee719f6411c9894faa671095cb95c0",
     "grade": true,
     "grade_id": "cell-de561abacc91d2fd",
     "locked": false,
     "points": 0,
     "schema_version": 3,
     "solution": true,
     "task": false
    }
   },
   "outputs": [],
   "source": [
    "# YOUR CODE HERE\n",
    "raise NotImplementedError()"
   ]
  },
  {
   "cell_type": "code",
   "execution_count": null,
   "metadata": {
    "deletable": false,
    "nbgrader": {
     "cell_type": "code",
     "checksum": "ce32d28cca4ac214dc746b0069fc422e",
     "grade": true,
     "grade_id": "cell-3d0d2410c9ffdd54",
     "locked": false,
     "points": 0,
     "schema_version": 3,
     "solution": true,
     "task": false
    }
   },
   "outputs": [],
   "source": [
    "# YOUR CODE HERE\n",
    "raise NotImplementedError()"
   ]
  },
  {
   "cell_type": "markdown",
   "metadata": {},
   "source": [
    "**Q** Use a **potentially-multiple** row spec and an **exactly-one** col spec to get the life expectancy of Canada, China, and India."
   ]
  },
  {
   "cell_type": "code",
   "execution_count": null,
   "metadata": {
    "deletable": false,
    "nbgrader": {
     "cell_type": "code",
     "checksum": "6d6cba2efa074b8fc91cf1cd37584d4d",
     "grade": true,
     "grade_id": "cell-96a5ad6b6ada1da6",
     "locked": false,
     "points": 0,
     "schema_version": 3,
     "solution": true,
     "task": false
    }
   },
   "outputs": [],
   "source": [
    "# YOUR CODE HERE\n",
    "raise NotImplementedError()"
   ]
  },
  {
   "cell_type": "code",
   "execution_count": null,
   "metadata": {
    "deletable": false,
    "nbgrader": {
     "cell_type": "code",
     "checksum": "080e17fba861053e5128ae6cfb40fc74",
     "grade": true,
     "grade_id": "cell-c808c820fde4bada",
     "locked": false,
     "points": 0,
     "schema_version": 3,
     "solution": true,
     "task": false
    }
   },
   "outputs": [],
   "source": [
    "# YOUR CODE HERE\n",
    "raise NotImplementedError()"
   ]
  },
  {
   "cell_type": "markdown",
   "metadata": {},
   "source": [
    "**Q** Use an **exactly-one** row spec and a **potentially-multiple** col spec to get `country` and `cell` for the United States "
   ]
  },
  {
   "cell_type": "code",
   "execution_count": null,
   "metadata": {
    "deletable": false,
    "nbgrader": {
     "cell_type": "code",
     "checksum": "f229bec81a827992056e209c31db2617",
     "grade": true,
     "grade_id": "cell-17699787ecd799f7",
     "locked": false,
     "points": 0,
     "schema_version": 3,
     "solution": true,
     "task": false
    }
   },
   "outputs": [],
   "source": [
    "# YOUR CODE HERE\n",
    "raise NotImplementedError()"
   ]
  },
  {
   "cell_type": "code",
   "execution_count": null,
   "metadata": {
    "deletable": false,
    "nbgrader": {
     "cell_type": "code",
     "checksum": "b07d5c2a642eb843bca664238580960c",
     "grade": true,
     "grade_id": "cell-fcdbaf234f9e0a77",
     "locked": false,
     "points": 0,
     "schema_version": 3,
     "solution": true,
     "task": false
    }
   },
   "outputs": [],
   "source": [
    "# YOUR CODE HERE\n",
    "raise NotImplementedError()"
   ]
  },
  {
   "cell_type": "markdown",
   "metadata": {},
   "source": [
    "**Q** Use **potentially-multiple** for both row and col specs to get population and gdp for the countries from Russia to the end of the table."
   ]
  },
  {
   "cell_type": "code",
   "execution_count": null,
   "metadata": {
    "deletable": false,
    "nbgrader": {
     "cell_type": "code",
     "checksum": "c40280a32752a463e1f50c25b11fb0ae",
     "grade": true,
     "grade_id": "cell-e269987783f6faf8",
     "locked": false,
     "points": 0,
     "schema_version": 3,
     "solution": true,
     "task": false
    }
   },
   "outputs": [],
   "source": [
    "# YOUR CODE HERE\n",
    "raise NotImplementedError()"
   ]
  },
  {
   "cell_type": "code",
   "execution_count": null,
   "metadata": {
    "deletable": false,
    "nbgrader": {
     "cell_type": "code",
     "checksum": "cdec55360e84362b66dd2adcdaa69fe2",
     "grade": true,
     "grade_id": "cell-205d92b86853938b",
     "locked": false,
     "points": 0,
     "schema_version": 3,
     "solution": true,
     "task": false
    }
   },
   "outputs": [],
   "source": [
    "# YOUR CODE HERE\n",
    "raise NotImplementedError()"
   ]
  },
  {
   "cell_type": "markdown",
   "metadata": {},
   "source": [
    "## Boolean Vectors and Row Filtering"
   ]
  },
  {
   "cell_type": "markdown",
   "metadata": {},
   "source": [
    "**Q** Write an expression that yields a boolean vector (Series whose elements are True/False Boolean values) for the cases in the indicators data set where the population is larger than the number of cell phones."
   ]
  },
  {
   "cell_type": "code",
   "execution_count": null,
   "metadata": {
    "deletable": false,
    "nbgrader": {
     "cell_type": "code",
     "checksum": "48cfc3ac8e320091e026d81f452f9874",
     "grade": true,
     "grade_id": "cell-78f54db7b62b6d0a",
     "locked": false,
     "points": 0,
     "schema_version": 3,
     "solution": true,
     "task": false
    }
   },
   "outputs": [],
   "source": [
    "# YOUR CODE HERE\n",
    "raise NotImplementedError()"
   ]
  },
  {
   "cell_type": "markdown",
   "metadata": {},
   "source": [
    "**Q** Write an expression that yields a boolean vector indicating the cases in the topnames data set where application counts are greater than 25000."
   ]
  },
  {
   "cell_type": "code",
   "execution_count": null,
   "metadata": {
    "deletable": false,
    "nbgrader": {
     "cell_type": "code",
     "checksum": "e4ee9ae530ac6075cce10f120fb603c6",
     "grade": true,
     "grade_id": "cell-c89ffefea2aecda7",
     "locked": false,
     "points": 0,
     "schema_version": 3,
     "solution": true,
     "task": false
    }
   },
   "outputs": [],
   "source": [
    "# YOUR CODE HERE\n",
    "raise NotImplementedError()"
   ]
  },
  {
   "cell_type": "markdown",
   "metadata": {},
   "source": [
    "**Q** Write an expression to filter the topnames dataset to select the rows where the count is greater than 25000."
   ]
  },
  {
   "cell_type": "code",
   "execution_count": null,
   "metadata": {
    "deletable": false,
    "nbgrader": {
     "cell_type": "code",
     "checksum": "4afd773aa386c0792b109133c7297b8e",
     "grade": true,
     "grade_id": "cell-6403c772b2f51fbc",
     "locked": false,
     "points": 0,
     "schema_version": 3,
     "solution": true,
     "task": false
    }
   },
   "outputs": [],
   "source": [
    "# YOUR CODE HERE\n",
    "raise NotImplementedError()"
   ]
  },
  {
   "cell_type": "markdown",
   "metadata": {},
   "source": [
    "### Filtering rows by categorical row label index"
   ]
  },
  {
   "cell_type": "markdown",
   "metadata": {},
   "source": [
    "**Q** Write an expression that obtains the subset of topnames (`tn_df2`, which has a multilevel index) where the 'sex' level of the dataframe index is equal to the key `'Female'`.  Use the cross-section (`xs`) method with named parameters `key=` and `level=`."
   ]
  },
  {
   "cell_type": "code",
   "execution_count": null,
   "metadata": {
    "deletable": false,
    "nbgrader": {
     "cell_type": "code",
     "checksum": "d4bad4a881fbf3804b8737fdae43dba3",
     "grade": true,
     "grade_id": "cell-838330a18ba0d954",
     "locked": false,
     "points": 0,
     "schema_version": 3,
     "solution": true,
     "task": false
    }
   },
   "outputs": [],
   "source": [
    "# YOUR CODE HERE\n",
    "raise NotImplementedError()"
   ]
  },
  {
   "cell_type": "markdown",
   "metadata": {},
   "source": [
    "## Aggregating Series and DataFrames"
   ]
  },
  {
   "cell_type": "markdown",
   "metadata": {},
   "source": [
    "**Q** Write an expression that gives a scalar of the median `count` in topnames. "
   ]
  },
  {
   "cell_type": "code",
   "execution_count": null,
   "metadata": {
    "deletable": false,
    "nbgrader": {
     "cell_type": "code",
     "checksum": "d45f79a9bf6cd004d6c03b354361db38",
     "grade": true,
     "grade_id": "cell-d0c7b5917f2c49e6",
     "locked": false,
     "points": 0,
     "schema_version": 3,
     "solution": true,
     "task": false
    }
   },
   "outputs": [],
   "source": [
    "# YOUR CODE HERE\n",
    "raise NotImplementedError()"
   ]
  },
  {
   "cell_type": "markdown",
   "metadata": {},
   "source": [
    "**Q** Write an expression for the average population from the tb data frame."
   ]
  },
  {
   "cell_type": "code",
   "execution_count": null,
   "metadata": {
    "deletable": false,
    "nbgrader": {
     "cell_type": "code",
     "checksum": "40eeb55b0661a88f76f6cc5192a068ea",
     "grade": true,
     "grade_id": "cell-20a262fd49533d43",
     "locked": false,
     "points": 0,
     "schema_version": 3,
     "solution": true,
     "task": false
    }
   },
   "outputs": [],
   "source": [
    "# YOUR CODE HERE\n",
    "raise NotImplementedError()"
   ]
  },
  {
   "cell_type": "markdown",
   "metadata": {},
   "source": [
    "**Q** Write an expression for the average population in 2000 from the tb data frame."
   ]
  },
  {
   "cell_type": "code",
   "execution_count": null,
   "metadata": {
    "deletable": false,
    "nbgrader": {
     "cell_type": "code",
     "checksum": "00b28d61045e2122b2206fd5f3fac775",
     "grade": true,
     "grade_id": "cell-7c5500a3d76cfba7",
     "locked": false,
     "points": 0,
     "schema_version": 3,
     "solution": true,
     "task": false
    }
   },
   "outputs": [],
   "source": [
    "# YOUR CODE HERE\n",
    "raise NotImplementedError()"
   ]
  },
  {
   "cell_type": "markdown",
   "metadata": {},
   "source": [
    "**Q** Obtain an expression which gives a Series of the unique names in the topnames data set."
   ]
  },
  {
   "cell_type": "code",
   "execution_count": null,
   "metadata": {
    "deletable": false,
    "nbgrader": {
     "cell_type": "code",
     "checksum": "ec87043d15630df5c82563c5e917c2ea",
     "grade": true,
     "grade_id": "cell-fe39ee474f8ab32f",
     "locked": false,
     "points": 0,
     "schema_version": 3,
     "solution": true,
     "task": false
    }
   },
   "outputs": [],
   "source": [
    "# YOUR CODE HERE\n",
    "raise NotImplementedError()"
   ]
  },
  {
   "cell_type": "markdown",
   "metadata": {},
   "source": [
    "**Q** Write an expression that yields the counts of the names in the topnames data set.  "
   ]
  },
  {
   "cell_type": "code",
   "execution_count": null,
   "metadata": {
    "deletable": false,
    "nbgrader": {
     "cell_type": "code",
     "checksum": "e1277271b6fe8eb1afb8785d89e0e6bb",
     "grade": true,
     "grade_id": "cell-e862e04e59c82c5c",
     "locked": false,
     "points": 0,
     "schema_version": 3,
     "solution": true,
     "task": false
    }
   },
   "outputs": [],
   "source": [
    "# YOUR CODE HERE\n",
    "raise NotImplementedError()"
   ]
  },
  {
   "cell_type": "markdown",
   "metadata": {},
   "source": [
    "**Q** Write an expression that yields the mean of all the numeric columns in the indicators data set.  Assign to ind_means and use that as the last expression in the cell.  What is the type of the result?  What comprises the index?"
   ]
  },
  {
   "cell_type": "code",
   "execution_count": null,
   "metadata": {
    "deletable": false,
    "nbgrader": {
     "cell_type": "code",
     "checksum": "57c7e8f4c62ab221669a92c35ba707e7",
     "grade": true,
     "grade_id": "cell-33a3c20f21df0de5",
     "locked": false,
     "points": 0,
     "schema_version": 3,
     "solution": true,
     "task": false
    }
   },
   "outputs": [],
   "source": [
    "# YOUR CODE HERE\n",
    "raise NotImplementedError()"
   ]
  },
  {
   "cell_type": "markdown",
   "metadata": {},
   "source": [
    "**Q** Given `ind_means`, write a single print statement that prints, as separate expressions,the cell and life entries of `ind_means`"
   ]
  },
  {
   "cell_type": "code",
   "execution_count": null,
   "metadata": {
    "deletable": false,
    "nbgrader": {
     "cell_type": "code",
     "checksum": "cdf9a123dc6c934779e954a2de272c78",
     "grade": true,
     "grade_id": "cell-8c8fbd355a9965a1",
     "locked": false,
     "points": 0,
     "schema_version": 3,
     "solution": true,
     "task": false
    }
   },
   "outputs": [],
   "source": [
    "# YOUR CODE HERE\n",
    "raise NotImplementedError()"
   ]
  },
  {
   "cell_type": "markdown",
   "metadata": {},
   "source": [
    "**Q** Using the `agg` method, write an expression that aggregates the indicators data frame and yields a DataFrame with the median and max for population, but just the max for cell.  What comprises the Index for the columns?  What comprises the Index for the rows?  Think about how you would access any of the individual elements in the result, if you had assigned it to a variable."
   ]
  },
  {
   "cell_type": "code",
   "execution_count": null,
   "metadata": {
    "deletable": false,
    "nbgrader": {
     "cell_type": "code",
     "checksum": "210e72fedd44642dd9885b8e1815f5d9",
     "grade": true,
     "grade_id": "cell-0b0fece3b43d2539",
     "locked": false,
     "points": 0,
     "schema_version": 3,
     "solution": true,
     "task": false
    }
   },
   "outputs": [],
   "source": [
    "# YOUR CODE HERE\n",
    "raise NotImplementedError()"
   ]
  },
  {
   "cell_type": "markdown",
   "metadata": {},
   "source": [
    "## GroupBy\n",
    "\n",
    "Bring class together with Picture and discussion.  Lead conceptually through Partition, Aggregate, and Combine.  Then come back here and work through first couple examples."
   ]
  },
  {
   "cell_type": "markdown",
   "metadata": {},
   "source": [
    "**Q** Invoke the groupby method on the tn_df2 dataframe, once for `level=` of `year`, assigning to `groupby_year`, and once for column `name`, assigning to `groupby_name`.  End the cell printing the length of each object."
   ]
  },
  {
   "cell_type": "code",
   "execution_count": null,
   "metadata": {
    "deletable": false,
    "nbgrader": {
     "cell_type": "code",
     "checksum": "ec352f83858d6ba2ffae6435192bf83b",
     "grade": true,
     "grade_id": "cell-9ab438f202ef4ae9",
     "locked": false,
     "points": 0,
     "schema_version": 3,
     "solution": true,
     "task": false
    }
   },
   "outputs": [],
   "source": [
    "# YOUR CODE HERE\n",
    "raise NotImplementedError()"
   ]
  },
  {
   "cell_type": "markdown",
   "metadata": {},
   "source": [
    "**Q** Print the `groupby_year`.  Did you get what you expected?"
   ]
  },
  {
   "cell_type": "code",
   "execution_count": null,
   "metadata": {
    "deletable": false,
    "nbgrader": {
     "cell_type": "code",
     "checksum": "208b111fc0801746563c96e2099ef84c",
     "grade": true,
     "grade_id": "cell-3b4e60722bc7c69d",
     "locked": false,
     "points": 0,
     "schema_version": 3,
     "solution": true,
     "task": false
    }
   },
   "outputs": [],
   "source": [
    "# YOUR CODE HERE\n",
    "raise NotImplementedError()"
   ]
  },
  {
   "cell_type": "markdown",
   "metadata": {},
   "source": [
    "**Q** Write a dictionary that maps `count` to the list of `'count'`, `'median'` and `'sum'` and then invoke the `agg` method on the `groupby_name` object."
   ]
  },
  {
   "cell_type": "code",
   "execution_count": null,
   "metadata": {
    "deletable": false,
    "nbgrader": {
     "cell_type": "code",
     "checksum": "ee967c9edb7272eddb0722fdf15374fa",
     "grade": true,
     "grade_id": "cell-a75711863146349d",
     "locked": false,
     "points": 0,
     "schema_version": 3,
     "solution": true,
     "task": false
    }
   },
   "outputs": [],
   "source": [
    "# YOUR CODE HERE\n",
    "raise NotImplementedError()"
   ]
  }
 ],
 "metadata": {
  "kernelspec": {
   "display_name": "Python 3",
   "language": "python",
   "name": "python3"
  },
  "language_info": {
   "codemirror_mode": {
    "name": "ipython",
    "version": 3
   },
   "file_extension": ".py",
   "mimetype": "text/x-python",
   "name": "python",
   "nbconvert_exporter": "python",
   "pygments_lexer": "ipython3",
   "version": "3.7.6"
  }
 },
 "nbformat": 4,
 "nbformat_minor": 4
}
