{
 "cells": [
  {
   "cell_type": "markdown",
   "metadata": {},
   "source": [
    "## Student Practice"
   ]
  },
  {
   "cell_type": "markdown",
   "metadata": {},
   "source": [
    "From Last Time:\n",
    "\n",
    "- simple http get request of html from root of a location\n",
    "- http get request of html from non-root (but default)\n",
    "- http get request of html from non-root non-default\n",
    "- request for non-existant resource\n",
    "- http get request of csv\n",
    "\n",
    "More advanced HTTP operations:\n",
    "- http GET request with parameters\n",
    "- http POST request with parameters\n",
    "- request for redirected resource\n",
    "- request for protected resource"
   ]
  },
  {
   "cell_type": "markdown",
   "metadata": {},
   "source": [
    "## Programmatic HTTP `GET` request\n",
    "\n",
    "[`requests` module documentation](http://docs.python-requests.org/en/master/)"
   ]
  },
  {
   "cell_type": "code",
   "execution_count": 1,
   "metadata": {
    "collapsed": true,
    "jupyter": {
     "outputs_hidden": true
    }
   },
   "outputs": [],
   "source": [
    "import requests"
   ]
  },
  {
   "cell_type": "code",
   "execution_count": 2,
   "metadata": {},
   "outputs": [
    {
     "data": {
      "text/plain": [
       "'http://httpbin.org/get'"
      ]
     },
     "execution_count": 2,
     "metadata": {},
     "output_type": "execute_result"
    }
   ],
   "source": [
    "protocol = 'http://'\n",
    "location = 'httpbin.org'\n",
    "resource = '/get'\n",
    "\n",
    "template = '{}{}{}'\n",
    "url = template.format(protocol, location, resource)\n",
    "\n",
    "url"
   ]
  },
  {
   "cell_type": "markdown",
   "metadata": {},
   "source": [
    "We can use a GET to retrieve the specified resource:"
   ]
  },
  {
   "cell_type": "code",
   "execution_count": 3,
   "metadata": {},
   "outputs": [
    {
     "name": "stdout",
     "output_type": "stream",
     "text": [
      "/get\n"
     ]
    }
   ],
   "source": [
    "resp = requests.get(url)\n",
    "if resp.status_code != 200:\n",
    "    print('Error retieving request from', url, \"Status:\", resp.status_code)\n",
    "else:\n",
    "    print(resp.request.path_url)"
   ]
  },
  {
   "cell_type": "markdown",
   "metadata": {},
   "source": [
    "In this case, the body constains JSON formatted information, as does all of the resources available from `httpbin.org`, and the content of that JSON is designed to reflect back to the client many aspects of the HTTP request."
   ]
  },
  {
   "cell_type": "code",
   "execution_count": 4,
   "metadata": {},
   "outputs": [
    {
     "name": "stdout",
     "output_type": "stream",
     "text": [
      "application/json\n"
     ]
    }
   ],
   "source": [
    "print(resp.headers['Content-Type'])"
   ]
  },
  {
   "cell_type": "markdown",
   "metadata": {},
   "source": [
    "And the nice thing about JSON content is that response objects have a `json()` method and this can be used to interpret the result body as a data structure in our Python program."
   ]
  },
  {
   "cell_type": "code",
   "execution_count": 5,
   "metadata": {},
   "outputs": [
    {
     "data": {
      "text/plain": [
       "{'args': {},\n",
       " 'headers': {'Accept': '*/*',\n",
       "  'Accept-Encoding': 'gzip, deflate',\n",
       "  'Connection': 'close',\n",
       "  'Host': 'httpbin.org',\n",
       "  'User-Agent': 'python-requests/2.18.4'},\n",
       " 'origin': '140.141.243.118',\n",
       " 'url': 'http://httpbin.org/get'}"
      ]
     },
     "execution_count": 5,
     "metadata": {},
     "output_type": "execute_result"
    }
   ],
   "source": [
    "result_dictionary = resp.json()\n",
    "result_dictionary"
   ]
  },
  {
   "cell_type": "markdown",
   "metadata": {},
   "source": [
    "### URL request to a JSON that uses URL parameters"
   ]
  },
  {
   "cell_type": "markdown",
   "metadata": {},
   "source": [
    "Resources that we request of a Data System provider may not always be for an existing file (text or otherwise).  Just like when we make requests to an SQL server and specify (through our SQL SELECT query) some part of the data we are interested in, and the server processes from the stored files and tables and returns just the requested subset, we need such dynamic flexibility in the Data System providers that use HTTP.\n",
    "\n",
    "This means that we need to pass additional information through HTTP, but still adhere to the methods/verbs that the protocol provides.  One means of passing additional information is to extend the use of our URL to include one or more key-value pairs.  These can be used by the server/provider, which can dynamically create our response."
   ]
  },
  {
   "cell_type": "markdown",
   "metadata": {},
   "source": [
    "From the Python programmatic point of view, we can think of the names of our parameters and their values as a dictionary.  The keys give the names of the parameters we are specifying and they map to the values of the arguments.  So if we wanted to specify a parameter of `width` with a value of the integer 500, and a parameter of `label` with a value consisting of the string `\"cs181 is fun\"`, we could create a dictionary as follows:"
   ]
  },
  {
   "cell_type": "code",
   "execution_count": 6,
   "metadata": {
    "collapsed": true,
    "jupyter": {
     "outputs_hidden": true
    }
   },
   "outputs": [],
   "source": [
    "urlparams = {'width': 500, 'label': \"cs181 is fun\"}"
   ]
  },
  {
   "cell_type": "markdown",
   "metadata": {},
   "source": [
    "And the `requests` module `get()` function has an additional named argument named `params`, which we can use as follows:"
   ]
  },
  {
   "cell_type": "code",
   "execution_count": 7,
   "metadata": {},
   "outputs": [
    {
     "name": "stdout",
     "output_type": "stream",
     "text": [
      "/get?width=500&label=cs181+is+fun\n"
     ]
    }
   ],
   "source": [
    "resp = requests.get(url, params=urlparams)\n",
    "if resp.status_code != 200:\n",
    "    print('Error retieving request from', url, \"Status:\", resp.status_code)\n",
    "else:\n",
    "    print(resp.request.path_url)"
   ]
  },
  {
   "cell_type": "markdown",
   "metadata": {},
   "source": [
    "See how the additional information is reflected in the JSON returned by `httpbin.org`"
   ]
  },
  {
   "cell_type": "code",
   "execution_count": 8,
   "metadata": {},
   "outputs": [
    {
     "data": {
      "text/plain": [
       "{'args': {'label': 'cs181 is fun', 'width': '500'},\n",
       " 'headers': {'Accept': '*/*',\n",
       "  'Accept-Encoding': 'gzip, deflate',\n",
       "  'Connection': 'close',\n",
       "  'Host': 'httpbin.org',\n",
       "  'User-Agent': 'python-requests/2.18.4'},\n",
       " 'origin': '140.141.243.118',\n",
       " 'url': 'http://httpbin.org/get?width=500&label=cs181+is+fun'}"
      ]
     },
     "execution_count": 8,
     "metadata": {},
     "output_type": "execute_result"
    }
   ],
   "source": [
    "result_dictionary = resp.json()\n",
    "result_dictionary"
   ]
  },
  {
   "cell_type": "markdown",
   "metadata": {},
   "source": [
    "But we also need to understand what happens in the HTTP.  In this case, looking at the request path url tells us, excluding the location information, the Resource Identifier specified in the HTTP GET: "
   ]
  },
  {
   "cell_type": "code",
   "execution_count": 9,
   "metadata": {},
   "outputs": [
    {
     "data": {
      "text/plain": [
       "'/get?width=500&label=cs181+is+fun'"
      ]
     },
     "execution_count": 9,
     "metadata": {},
     "output_type": "execute_result"
    }
   ],
   "source": [
    "resp.request.path_url"
   ]
  },
  {
   "cell_type": "markdown",
   "metadata": {},
   "source": [
    "Notice what happened to the specification of the resource.  The `/get` had a `?` added, and then one or more `<`key`>`=`<`value`>` pairs separated by the `&` character.  But also note that, since a resource identifier cannot include spaces, the spaces were replace by the `+` character.\n",
    "\n",
    "**Repeat the sequence starting with the setting of the `urlparams` dictionary at least three times, experimenting with different kinds of values and employing special characters, including some of the characters we see being used to start the query parameters, and to separate key/value pairs.**"
   ]
  },
  {
   "cell_type": "code",
   "execution_count": null,
   "metadata": {
    "collapsed": true,
    "jupyter": {
     "outputs_hidden": true
    }
   },
   "outputs": [],
   "source": []
  },
  {
   "cell_type": "markdown",
   "metadata": {},
   "source": [
    "## Real World Example of HTTP GET Parameters\n",
    "\n",
    "Kiva is an organization that serves as a matching service between organizations and individuals from underdeveloped areas of the world with lenders interested in helping such recipients.  Kiva provides HTTP access to allow developers to request various parts of the data they maintain.  Particular subsets of the data are available via resource identifiers known as **endpoints.** . Look at the following link where they document the `/loans/newest` endpoint:\n",
    "[Kiva loans/newest](https://build.kiva.org/api#GET*|loans|newest)\n",
    "\n",
    "The cell below sets up the basic url we can use for a GET HTTP request."
   ]
  },
  {
   "cell_type": "code",
   "execution_count": 10,
   "metadata": {},
   "outputs": [
    {
     "data": {
      "text/plain": [
       "'https://api.kivaws.org/v1/loans/newest.json'"
      ]
     },
     "execution_count": 10,
     "metadata": {},
     "output_type": "execute_result"
    }
   ],
   "source": [
    "protocol = 'https://'\n",
    "location = 'api.kivaws.org'\n",
    "resource = '/v1/loans/newest'\n",
    "fmt = 'json'\n",
    "\n",
    "template = '{}{}{}.{}'\n",
    "url = template.format(protocol, location, resource, fmt)\n",
    "\n",
    "url"
   ]
  },
  {
   "cell_type": "markdown",
   "metadata": {},
   "source": [
    "From the documentation, try to understand how the API uses GET parameters to customize a request to obtain data.  Then create a dictionary specifying a permutations of the `page`, `per_page`, and the `ids_only` parameters."
   ]
  },
  {
   "cell_type": "code",
   "execution_count": 11,
   "metadata": {
    "collapsed": true,
    "jupyter": {
     "outputs_hidden": true
    }
   },
   "outputs": [],
   "source": [
    "loansparams = {'page': 3, 'per_page': 2, 'ids_only': 'false'}"
   ]
  },
  {
   "cell_type": "markdown",
   "metadata": {},
   "source": [
    "**Now, make `get()` requests and look at how different settings of the parameters yield different results from the data provider.**"
   ]
  },
  {
   "cell_type": "code",
   "execution_count": 14,
   "metadata": {},
   "outputs": [
    {
     "name": "stdout",
     "output_type": "stream",
     "text": [
      "/v1/loans/newest.json?page=3&per_page=2&ids_only=false\n"
     ]
    }
   ],
   "source": [
    "resp=requests.get(url, params=loansparams)\n",
    "print(resp.request.path_url)"
   ]
  },
  {
   "cell_type": "code",
   "execution_count": 15,
   "metadata": {},
   "outputs": [
    {
     "data": {
      "text/plain": [
       "'{\"paging\":{\"page\":3,\"total\":4410,\"page_size\":2,\"pages\":2205},\"loans\":[{\"id\":1498079,\"name\":\"Al-Dahabia Group\",\"description\":{\"languages\":[\"en\"]},\"status\":\"fundraising\",\"funded_amount\":0,\"basket_amount\":0,\"image\":{\"id\":2809332,\"template_id\":1},\"activity\":\"Personal Medical Expenses\",\"sector\":\"Health\",\"themes\":[\"Refugees\\\\/Displaced\",\"Vulnerable Groups\"],\"use\":\"to pay for necessary medical surgery expenses she has to undergo.\",\"location\":{\"country_code\":\"LB\",\"country\":\"Lebanon\",\"town\":\"Qana\",\"geo\":{\"level\":\"town\",\"pairs\":\"33.833333 35.833333\",\"type\":\"point\"}},\"partner_id\":77,\"posted_date\":\"2018-03-30T14:30:02Z\",\"planned_expiration_date\":\"2018-04-29T14:30:02Z\",\"loan_amount\":2100,\"borrower_count\":3,\"lender_count\":0,\"bonus_credit_eligibility\":true,\"tags\":[]},{\"id\":1497458,\"name\":\"Angelica\",\"description\":{\"languages\":[\"es\",\"en\"]},\"status\":\"fundraising\",\"funded_amount\":0,\"basket_amount\":0,\"image\":{\"id\":2808391,\"template_id\":1},\"activity\":\"Agriculture\",\"sector\":\"Agriculture\",\"use\":\"to plant a hectare of mandarins to produce a greater volume and improve her environment.\",\"location\":{\"country_code\":\"BO\",\"country\":\"Bolivia\",\"town\":\"Caranavi\",\"geo\":{\"level\":\"town\",\"pairs\":\"-17 -65\",\"type\":\"point\"}},\"partner_id\":527,\"posted_date\":\"2018-03-30T14:20:07Z\",\"planned_expiration_date\":\"2018-04-29T14:20:07Z\",\"loan_amount\":1025,\"borrower_count\":1,\"lender_count\":0,\"bonus_credit_eligibility\":false,\"tags\":[]}]}'"
      ]
     },
     "execution_count": 15,
     "metadata": {},
     "output_type": "execute_result"
    }
   ],
   "source": [
    "resp.text"
   ]
  },
  {
   "cell_type": "code",
   "execution_count": 16,
   "metadata": {
    "collapsed": true,
    "jupyter": {
     "outputs_hidden": true
    }
   },
   "outputs": [
    {
     "data": {
      "text/plain": [
       "b'{\"paging\":{\"page\":3,\"total\":4410,\"page_size\":2,\"pages\":2205},\"loans\":[{\"id\":1498079,\"name\":\"Al-Dahabia Group\",\"description\":{\"languages\":[\"en\"]},\"status\":\"fundraising\",\"funded_amount\":0,\"basket_amount\":0,\"image\":{\"id\":2809332,\"template_id\":1},\"activity\":\"Personal Medical Expenses\",\"sector\":\"Health\",\"themes\":[\"Refugees\\\\/Displaced\",\"Vulnerable Groups\"],\"use\":\"to pay for necessary medical surgery expenses she has to undergo.\",\"location\":{\"country_code\":\"LB\",\"country\":\"Lebanon\",\"town\":\"Qana\",\"geo\":{\"level\":\"town\",\"pairs\":\"33.833333 35.833333\",\"type\":\"point\"}},\"partner_id\":77,\"posted_date\":\"2018-03-30T14:30:02Z\",\"planned_expiration_date\":\"2018-04-29T14:30:02Z\",\"loan_amount\":2100,\"borrower_count\":3,\"lender_count\":0,\"bonus_credit_eligibility\":true,\"tags\":[]},{\"id\":1497458,\"name\":\"Angelica\",\"description\":{\"languages\":[\"es\",\"en\"]},\"status\":\"fundraising\",\"funded_amount\":0,\"basket_amount\":0,\"image\":{\"id\":2808391,\"template_id\":1},\"activity\":\"Agriculture\",\"sector\":\"Agriculture\",\"use\":\"to plant a hectare of mandarins to produce a greater volume and improve her environment.\",\"location\":{\"country_code\":\"BO\",\"country\":\"Bolivia\",\"town\":\"Caranavi\",\"geo\":{\"level\":\"town\",\"pairs\":\"-17 -65\",\"type\":\"point\"}},\"partner_id\":527,\"posted_date\":\"2018-03-30T14:20:07Z\",\"planned_expiration_date\":\"2018-04-29T14:20:07Z\",\"loan_amount\":1025,\"borrower_count\":1,\"lender_count\":0,\"bonus_credit_eligibility\":false,\"tags\":[]}]}'"
      ]
     },
     "execution_count": 16,
     "metadata": {},
     "output_type": "execute_result"
    }
   ],
   "source": [
    "resp.content"
   ]
  },
  {
   "cell_type": "code",
   "execution_count": 17,
   "metadata": {},
   "outputs": [],
   "source": [
    "import json"
   ]
  },
  {
   "cell_type": "code",
   "execution_count": 20,
   "metadata": {},
   "outputs": [
    {
     "data": {
      "text/plain": [
       "{'loans': [{'activity': 'Personal Medical Expenses',\n",
       "   'basket_amount': 0,\n",
       "   'bonus_credit_eligibility': True,\n",
       "   'borrower_count': 3,\n",
       "   'description': {'languages': ['en']},\n",
       "   'funded_amount': 0,\n",
       "   'id': 1498079,\n",
       "   'image': {'id': 2809332, 'template_id': 1},\n",
       "   'lender_count': 0,\n",
       "   'loan_amount': 2100,\n",
       "   'location': {'country': 'Lebanon',\n",
       "    'country_code': 'LB',\n",
       "    'geo': {'level': 'town', 'pairs': '33.833333 35.833333', 'type': 'point'},\n",
       "    'town': 'Qana'},\n",
       "   'name': 'Al-Dahabia Group',\n",
       "   'partner_id': 77,\n",
       "   'planned_expiration_date': '2018-04-29T14:30:02Z',\n",
       "   'posted_date': '2018-03-30T14:30:02Z',\n",
       "   'sector': 'Health',\n",
       "   'status': 'fundraising',\n",
       "   'tags': [],\n",
       "   'themes': ['Refugees/Displaced', 'Vulnerable Groups'],\n",
       "   'use': 'to pay for necessary medical surgery expenses she has to undergo.'},\n",
       "  {'activity': 'Agriculture',\n",
       "   'basket_amount': 0,\n",
       "   'bonus_credit_eligibility': False,\n",
       "   'borrower_count': 1,\n",
       "   'description': {'languages': ['es', 'en']},\n",
       "   'funded_amount': 0,\n",
       "   'id': 1497458,\n",
       "   'image': {'id': 2808391, 'template_id': 1},\n",
       "   'lender_count': 0,\n",
       "   'loan_amount': 1025,\n",
       "   'location': {'country': 'Bolivia',\n",
       "    'country_code': 'BO',\n",
       "    'geo': {'level': 'town', 'pairs': '-17 -65', 'type': 'point'},\n",
       "    'town': 'Caranavi'},\n",
       "   'name': 'Angelica',\n",
       "   'partner_id': 527,\n",
       "   'planned_expiration_date': '2018-04-29T14:20:07Z',\n",
       "   'posted_date': '2018-03-30T14:20:07Z',\n",
       "   'sector': 'Agriculture',\n",
       "   'status': 'fundraising',\n",
       "   'tags': [],\n",
       "   'use': 'to plant a hectare of mandarins to produce a greater volume and improve her environment.'}],\n",
       " 'paging': {'page': 3, 'page_size': 2, 'pages': 2205, 'total': 4410}}"
      ]
     },
     "execution_count": 20,
     "metadata": {},
     "output_type": "execute_result"
    }
   ],
   "source": [
    "data = json.loads(resp.text)\n",
    "data"
   ]
  },
  {
   "cell_type": "markdown",
   "metadata": {},
   "source": [
    "## URL POST with Body Parameters\n",
    "\n",
    "One of the distinguishing features of a POST, as compared to a GET, is that the client requestor includes a **body** part of the message (after the headers and the separating CRLF).  If we are specifying a new version/update of a resource, then the contents of the body contains that data, in whatever form is expected and agreed upon between the client and the server.\n",
    "\n",
    "POST requests are also used, depending on the design decisions of the server, when we, in a web page, fill out a **form** and then **submit** the form by clicking a button within the page.  The set of name-value pairs from the fields filled in on the form are then placed in the **body** of the POST request.\n",
    "\n",
    "If we want to use our Python programs to gather data back from a server that might be the result of such a form-based use of a POST, we need to be able to specify the name-value pairs and have them placed in the body, and we need to be able to make a POST request instead of a GET request.\n",
    "\n",
    "Our `requests` module makes this remarkably simple.  Just like in a GET request where we want to specify URL parameters, and we do it by creating a dictionary, we create a dictionary of the desired POST **body** name-value pairs and use a named parameter in the `requests` `post()` function.  Following is an example that uses the POST endpoint of `httbin.org`:"
   ]
  },
  {
   "cell_type": "code",
   "execution_count": 39,
   "metadata": {},
   "outputs": [
    {
     "data": {
      "text/plain": [
       "'http://httpbin.org/post'"
      ]
     },
     "execution_count": 39,
     "metadata": {},
     "output_type": "execute_result"
    }
   ],
   "source": [
    "protocol = 'http://'\n",
    "location = 'httpbin.org'\n",
    "resource = '/post'\n",
    "\n",
    "template = '{}{}{}'\n",
    "url = template.format(protocol, location, resource)\n",
    "\n",
    "url"
   ]
  },
  {
   "cell_type": "code",
   "execution_count": 42,
   "metadata": {},
   "outputs": [
    {
     "name": "stdout",
     "output_type": "stream",
     "text": [
      "/post\n",
      "Name=Thomas+C.+Bressoud&Phone=740-555-1212&CreditCard=375412312345\n"
     ]
    }
   ],
   "source": [
    "bodyparams = {'Name': 'Thomas C. Bressoud', 'Phone': '740-555-1212', 'CreditCard': 375412312345}\n",
    "resp = requests.post(url, data=bodyparams)\n",
    "if resp.status_code != 200:\n",
    "    print('Error retieving post request from', url, \"Status:\", resp.status_code)\n",
    "else:\n",
    "    print(resp.request.path_url)\n",
    "    print(resp.request.body)\n",
    "    resultD = resp.json()"
   ]
  },
  {
   "cell_type": "markdown",
   "metadata": {},
   "source": [
    "If called for, we can include **both** params as part of the url and params as part of the body:"
   ]
  },
  {
   "cell_type": "code",
   "execution_count": 44,
   "metadata": {},
   "outputs": [
    {
     "name": "stdout",
     "output_type": "stream",
     "text": [
      "/post?a=5&b=42\n",
      "Name=Thomas+C.+Bressoud&Phone=740-555-1212&CreditCard=375412312345\n"
     ]
    }
   ],
   "source": [
    "urlparams = {'a': 5, 'b': 42}\n",
    "bodyparams = {'Name': 'Thomas C. Bressoud', 'Phone': '740-555-1212', 'CreditCard': 375412312345}\n",
    "resp = requests.post(url, params=urlparams, data=bodyparams)\n",
    "if resp.status_code != 200:\n",
    "    print('Error retieving post request from', url, \"Status:\", resp.status_code)\n",
    "else:\n",
    "    print(resp.request.path_url)\n",
    "    print(resp.request.body)\n",
    "    resultD = resp.json()"
   ]
  },
  {
   "cell_type": "code",
   "execution_count": 60,
   "metadata": {},
   "outputs": [
    {
     "data": {
      "text/plain": [
       "{'args': {'a': '5', 'b': '42'},\n",
       " 'data': '',\n",
       " 'files': {},\n",
       " 'form': {'CreditCard': '375412312345',\n",
       "  'Name': 'Thomas C. Bressoud',\n",
       "  'Phone': '740-555-1212'},\n",
       " 'headers': {'Accept': '*/*',\n",
       "  'Accept-Encoding': 'gzip, deflate',\n",
       "  'Connection': 'close',\n",
       "  'Content-Length': '66',\n",
       "  'Content-Type': 'application/x-www-form-urlencoded',\n",
       "  'Host': 'httpbin.org',\n",
       "  'User-Agent': 'python-requests/2.18.4'},\n",
       " 'json': None,\n",
       " 'origin': '140.141.243.118',\n",
       " 'url': 'http://httpbin.org/post?a=5&b=42'}"
      ]
     },
     "execution_count": 60,
     "metadata": {},
     "output_type": "execute_result"
    }
   ],
   "source": [
    "resultD"
   ]
  },
  {
   "cell_type": "markdown",
   "metadata": {},
   "source": [
    "**Experiment with different combinations of URL parameters and BODY parameters in POST requests to `httpbin.org`**"
   ]
  },
  {
   "cell_type": "code",
   "execution_count": null,
   "metadata": {
    "collapsed": true,
    "jupyter": {
     "outputs_hidden": true
    }
   },
   "outputs": [],
   "source": []
  },
  {
   "cell_type": "markdown",
   "metadata": {},
   "source": [
    "## Real World Example of HTTP POST with BODY parameters\n",
    "\n",
    "Follow with the instructor to CA Gas (margin) prices"
   ]
  },
  {
   "cell_type": "code",
   "execution_count": null,
   "metadata": {
    "collapsed": true,
    "jupyter": {
     "outputs_hidden": true
    }
   },
   "outputs": [],
   "source": []
  }
 ],
 "metadata": {
  "kernelspec": {
   "display_name": "Python 3",
   "language": "python",
   "name": "python3"
  },
  "language_info": {
   "codemirror_mode": {
    "name": "ipython",
    "version": 3
   },
   "file_extension": ".py",
   "mimetype": "text/x-python",
   "name": "python",
   "nbconvert_exporter": "python",
   "pygments_lexer": "ipython3",
   "version": "3.7.6"
  }
 },
 "nbformat": 4,
 "nbformat_minor": 4
}
