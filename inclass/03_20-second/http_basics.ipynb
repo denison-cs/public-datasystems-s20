{
 "cells": [
  {
   "cell_type": "code",
   "execution_count": 61,
   "metadata": {},
   "outputs": [],
   "source": [
    "import mysocket as sock\n",
    "import requests\n",
    "import re\n",
    "\n",
    "def printByLine(s):\n",
    "    pattern = r'\\r\\n'\n",
    "    lines = re.split(pattern, s)\n",
    "    for line in lines[:-1]:\n",
    "        real_line = line + '\\r\\n'\n",
    "        print(repr(real_line))\n",
    "\n",
    "\n",
    "protocol = \"http\"\n",
    "host = \"hadoop.mathsci.denison.edu\"\n",
    "port = 80\n",
    "buildURL = lambda s: \"{}://{}:{}/{}\".format(protocol, host, port, s)"
   ]
  },
  {
   "cell_type": "code",
   "execution_count": 62,
   "metadata": {},
   "outputs": [
    {
     "data": {
      "text/plain": [
       "'GET /bookweb/data/basic.html HTTP/1.0\\r\\nHost: hadoop.mathsci.denison.edu\\r\\nConnection: close\\r\\n\\r\\n'"
      ]
     },
     "execution_count": 62,
     "metadata": {},
     "output_type": "execute_result"
    }
   ],
   "source": [
    "requestlines = [\"GET /bookweb/data/basic.html HTTP/1.0\",\n",
    "                \"Host: hadoop.mathsci.denison.edu\",\n",
    "                \"Connection: close\",\n",
    "                \"\"\n",
    "               ]\n",
    "request = \"\\r\\n\".join(requestlines) + \"\\r\\n\"\n",
    "request"
   ]
  },
  {
   "cell_type": "code",
   "execution_count": 63,
   "metadata": {},
   "outputs": [
    {
     "name": "stdout",
     "output_type": "stream",
     "text": [
      "'GET /bookweb/data/basic.html HTTP/1.0\\r\\n'\n",
      "'Host: hadoop.mathsci.denison.edu\\r\\n'\n",
      "'Connection: close\\r\\n'\n",
      "'\\r\\n'\n"
     ]
    }
   ],
   "source": [
    "printByLine(request)"
   ]
  },
  {
   "cell_type": "code",
   "execution_count": 67,
   "metadata": {},
   "outputs": [],
   "source": [
    "webconn = sock.makeConnection(\"hadoop.mathsci.denison.edu\", 80)\n",
    "sock.sendString(webconn, request)\n",
    "s = sock.receiveTillClose(webconn)"
   ]
  },
  {
   "cell_type": "code",
   "execution_count": 64,
   "metadata": {},
   "outputs": [],
   "source": [
    "webconn = sock.makeConnection(\"hadoop.mathsci.denison.edu\", 80)\n",
    "for line in requestlines:\n",
    "    sock.sendString(webconn, line)\n",
    "    sock.sendCRLF(webconn)\n",
    "s = sock.receiveTillClose(webconn)"
   ]
  },
  {
   "cell_type": "code",
   "execution_count": 68,
   "metadata": {},
   "outputs": [
    {
     "data": {
      "text/plain": [
       "'HTTP/1.1 200 OK\\r\\nServer: nginx/1.14.0 (Ubuntu)\\r\\nDate: Fri, 03 Apr 2020 13:22:56 GMT\\r\\nContent-Type: text/html\\r\\nContent-Length: 162\\r\\nLast-Modified: Fri, 03 Apr 2020 12:38:55 GMT\\r\\nConnection: close\\r\\nETag: \"5e872e5f-a2\"\\r\\nExpires: Fri, 03 Apr 2020 14:22:56 GMT\\r\\nCache-Control: max-age=3600\\r\\nAccept-Ranges: bytes\\r\\n\\r\\n<!DOCTYPE html>\\n<html>\\n<head>\\n<title>Denison CS-181/DA-210</title>\\n</head>\\n<body>\\n\\n<h1>Welcome</h1>\\n\\n<p>Great to have you taking this class!</p>\\n\\n</body>\\n</html>\\n'"
      ]
     },
     "execution_count": 68,
     "metadata": {},
     "output_type": "execute_result"
    }
   ],
   "source": [
    "s"
   ]
  },
  {
   "cell_type": "code",
   "execution_count": 53,
   "metadata": {},
   "outputs": [
    {
     "data": {
      "text/plain": [
       "'http://hadoop.mathsci.denison.edu:80/bookweb/data/basic.html'"
      ]
     },
     "execution_count": 53,
     "metadata": {},
     "output_type": "execute_result"
    }
   ],
   "source": [
    "url = buildURL(\"bookweb/data/basic.html\")\n",
    "url"
   ]
  },
  {
   "cell_type": "code",
   "execution_count": 54,
   "metadata": {},
   "outputs": [],
   "source": [
    "response = requests.get(url)"
   ]
  },
  {
   "cell_type": "code",
   "execution_count": 55,
   "metadata": {},
   "outputs": [
    {
     "data": {
      "text/plain": [
       "200"
      ]
     },
     "execution_count": 55,
     "metadata": {},
     "output_type": "execute_result"
    }
   ],
   "source": [
    "response.status_code"
   ]
  },
  {
   "cell_type": "markdown",
   "metadata": {},
   "source": [
    "## Student Practice"
   ]
  },
  {
   "cell_type": "markdown",
   "metadata": {},
   "source": [
    "Do each of the following first from web browser, then from requests module.\n",
    "\n",
    "- simple http get request of html from root of a location\n",
    "- http get request of html from non-root (but default)\n",
    "- http get request of html from non-root non-default\n",
    "- request for non-existant resource\n",
    "- http get request of csv\n",
    "\n",
    "More advanced HTTP operations\n",
    "- http get request with parameters\n",
    "- http post request with parameters\n",
    "- request for redirected resource\n",
    "- request for protected resource"
   ]
  },
  {
   "cell_type": "markdown",
   "metadata": {},
   "source": [
    "## Programmatic HTTP `GET` request\n",
    "\n",
    "[`requests` module documentation](https://requests.readthedocs.io/en/master/)"
   ]
  },
  {
   "cell_type": "code",
   "execution_count": 1,
   "metadata": {},
   "outputs": [],
   "source": [
    "import requests"
   ]
  },
  {
   "cell_type": "markdown",
   "metadata": {},
   "source": [
    "Based on  our newfound understanding of a basic URL consisting of parts of a protocol, a location, and a resource identifier, we use separate variables for each and compose them using a format method on a template string:"
   ]
  },
  {
   "cell_type": "markdown",
   "metadata": {},
   "source": [
    "### Basic request of URL from root of a location"
   ]
  },
  {
   "cell_type": "code",
   "execution_count": 2,
   "metadata": {
    "collapsed": false,
    "jupyter": {
     "outputs_hidden": false
    }
   },
   "outputs": [
    {
     "data": {
      "text/plain": [
       "'http://personal.denison.edu/'"
      ]
     },
     "execution_count": 2,
     "metadata": {},
     "output_type": "execute_result"
    }
   ],
   "source": [
    "protocol = 'http://'\n",
    "location = 'personal.denison.edu'\n",
    "resource = '/'\n",
    "\n",
    "template = '{}{}{}'\n",
    "url = template.format(protocol, location, resource)\n",
    "\n",
    "url"
   ]
  },
  {
   "cell_type": "markdown",
   "metadata": {},
   "source": [
    "The simplest use of the `requests` module is perform a `GET` method using the `get()` function of the module, with a simple single argument of a string specifying the URL."
   ]
  },
  {
   "cell_type": "code",
   "execution_count": 3,
   "metadata": {},
   "outputs": [],
   "source": [
    "resp = requests.get(url)"
   ]
  },
  {
   "cell_type": "markdown",
   "metadata": {},
   "source": [
    "**Whenever** we make a request, we **must** check for a successful return by looking at the `status_code` attribute of the response object.  If we get a non-successful code, our programming must either fix a bug, or recover from the error, informing the user of the problem."
   ]
  },
  {
   "cell_type": "code",
   "execution_count": 4,
   "metadata": {},
   "outputs": [],
   "source": [
    "if resp.status_code != 200:\n",
    "    print('Error retieving request from', url)"
   ]
  },
  {
   "cell_type": "markdown",
   "metadata": {},
   "source": [
    "In many cases, before we act on the **message body**, which is the **content** on what has been retrieved from the server, we want or need to know about additional metadata, like:\n",
    "- How large is the content\n",
    "- What type of data has been returned (html, csv, xml, xhtml, json, etc.)\n",
    "- other information such as date, server, etc.\n",
    "\n",
    "The `headers` attribute of the response object contains a dictionary containing all the meta-data information provided by the server that came from the header field part of the HTTP response.  Note that HTTP does not know about Python dictionaries ... the transformation/translation from the HTTP response, which is just a set of characters in the underlying data stream connection between the client and the server, happens because of the `requests` module. "
   ]
  },
  {
   "cell_type": "code",
   "execution_count": null,
   "metadata": {
    "collapsed": true,
    "jupyter": {
     "outputs_hidden": true
    }
   },
   "outputs": [],
   "source": [
    "resp.headers"
   ]
  },
  {
   "cell_type": "markdown",
   "metadata": {},
   "source": [
    "Finally, we can access the data of the response in two ways.  If it is textual data, and we want the string version of the data (appropriate to the encoding), we use the `text` attribute of the response object."
   ]
  },
  {
   "cell_type": "code",
   "execution_count": null,
   "metadata": {
    "collapsed": true,
    "jupyter": {
     "outputs_hidden": true
    }
   },
   "outputs": [],
   "source": [
    "resp.text"
   ]
  },
  {
   "cell_type": "markdown",
   "metadata": {},
   "source": [
    "While if the data is binary (like an image, or a compiled program), or if we want the form without applying the encoding, we use the `content` attribute of the response object."
   ]
  },
  {
   "cell_type": "code",
   "execution_count": null,
   "metadata": {
    "collapsed": true,
    "jupyter": {
     "outputs_hidden": true
    }
   },
   "outputs": [],
   "source": [
    "resp.content"
   ]
  },
  {
   "cell_type": "markdown",
   "metadata": {},
   "source": [
    "Notice the `b` prefix in the demonstration above, indicating that these are raw bytes.\n",
    "\n",
    "A `requests` module response object also has an attribute (`request`) that references the original request corresponding to the this particular response.  Some of the request's interesting attributes include:\n",
    "- `headers`\n",
    "- `path-url`\n",
    "- `url`\n",
    "- `method`\n",
    "- `body`"
   ]
  },
  {
   "cell_type": "code",
   "execution_count": null,
   "metadata": {
    "collapsed": true,
    "jupyter": {
     "outputs_hidden": true
    }
   },
   "outputs": [],
   "source": [
    "resp.request.headers"
   ]
  },
  {
   "cell_type": "code",
   "execution_count": null,
   "metadata": {
    "collapsed": true,
    "jupyter": {
     "outputs_hidden": true
    }
   },
   "outputs": [],
   "source": [
    "resp.request.path_url"
   ]
  },
  {
   "cell_type": "code",
   "execution_count": null,
   "metadata": {
    "collapsed": true,
    "jupyter": {
     "outputs_hidden": true
    }
   },
   "outputs": [],
   "source": [
    "resp.request.url"
   ]
  },
  {
   "cell_type": "code",
   "execution_count": null,
   "metadata": {
    "collapsed": true,
    "jupyter": {
     "outputs_hidden": true
    }
   },
   "outputs": [],
   "source": [
    "resp.request.method"
   ]
  },
  {
   "cell_type": "code",
   "execution_count": null,
   "metadata": {
    "collapsed": true,
    "jupyter": {
     "outputs_hidden": true
    }
   },
   "outputs": [],
   "source": [
    "resp.request.body"
   ]
  },
  {
   "cell_type": "markdown",
   "metadata": {},
   "source": [
    "### Basic URL request to non-root of a location\n",
    "\n",
    "We can change our resource to request the HTML using a resource identifier other than the root:"
   ]
  },
  {
   "cell_type": "code",
   "execution_count": null,
   "metadata": {
    "collapsed": true,
    "jupyter": {
     "outputs_hidden": true
    }
   },
   "outputs": [],
   "source": [
    "resource = '/~kretchmar/'\n",
    "\n",
    "template = '{}{}{}'\n",
    "url = template.format(protocol, location, resource)\n",
    "\n",
    "url"
   ]
  },
  {
   "cell_type": "markdown",
   "metadata": {},
   "source": [
    "**A1** Add code to retrieve from this new url and then print the **length** of the content returned and print the first 100 characters in the body of the returned HTML."
   ]
  },
  {
   "cell_type": "code",
   "execution_count": null,
   "metadata": {
    "collapsed": true,
    "jupyter": {
     "outputs_hidden": true
    }
   },
   "outputs": [],
   "source": []
  },
  {
   "cell_type": "markdown",
   "metadata": {},
   "source": [
    "**A2** Using Chrome, copy the HTTP raw request (the GET, including all header lines), and then copy the response, from the response line through the response headers."
   ]
  },
  {
   "cell_type": "markdown",
   "metadata": {},
   "source": []
  },
  {
   "cell_type": "markdown",
   "metadata": {},
   "source": [
    "### URL request to a non-root resource identifier that does not exist"
   ]
  },
  {
   "cell_type": "markdown",
   "metadata": {},
   "source": [
    "**B1** Now change the resource to something that does not exist, and demonstrate how your code can detect when something does not exist and print an appropriate error message to the user."
   ]
  },
  {
   "cell_type": "code",
   "execution_count": null,
   "metadata": {
    "collapsed": true,
    "jupyter": {
     "outputs_hidden": true
    }
   },
   "outputs": [],
   "source": []
  },
  {
   "cell_type": "markdown",
   "metadata": {},
   "source": [
    "**B2** Using chrome, copy and paste the HTTP raw request and also the HTTP raw response corresponding to exactly the same request made above."
   ]
  },
  {
   "cell_type": "markdown",
   "metadata": {},
   "source": []
  },
  {
   "cell_type": "markdown",
   "metadata": {},
   "source": [
    "### URL request to a non-HTML, non-default resource identified location"
   ]
  },
  {
   "cell_type": "markdown",
   "metadata": {},
   "source": [
    "The goal here is to find a resource, say within `discovercs.denison.edu` that gives us a URL for an explicit file provided by a Data System provider.  So look for a csv or text file and determine the URL.  Then give two cells below, one which requests the resource programmatically and uses the headers and content to print information about the response (size, type) and some of its data body.  Don't forget to include code to check the status return as well."
   ]
  },
  {
   "cell_type": "code",
   "execution_count": null,
   "metadata": {
    "collapsed": true,
    "jupyter": {
     "outputs_hidden": true
    }
   },
   "outputs": [],
   "source": []
  },
  {
   "cell_type": "markdown",
   "metadata": {},
   "source": [
    "The second cell should again use Chrome to show and help understand the HTTP request and response going on."
   ]
  },
  {
   "cell_type": "markdown",
   "metadata": {},
   "source": []
  },
  {
   "cell_type": "markdown",
   "metadata": {},
   "source": [
    "### URL request to a JSON that uses URL parameters"
   ]
  },
  {
   "cell_type": "markdown",
   "metadata": {},
   "source": [
    "Resources that we request of a Data System provider may not always be for an existing file (text or otherwise).  Just like when we make requests to an SQL server and specify (through our SQL SELECT query) some part of the data we are interested in, and the server processes from the stored files and tables and returns just the requested subset, we need such dynamic flexibility in the Data System providers that use HTTP.\n",
    "\n",
    "This means that we need to pass additional information through HTTP, but still adhere to the methods/verbs that the protocol provides.  One means of passing additional information is to extend the use of our URL to include one or more key-value pairs.  These can be used by the server/provider, which can dynamically create our response."
   ]
  },
  {
   "cell_type": "code",
   "execution_count": null,
   "metadata": {
    "collapsed": true,
    "jupyter": {
     "outputs_hidden": true
    }
   },
   "outputs": [],
   "source": []
  }
 ],
 "metadata": {
  "kernelspec": {
   "display_name": "Python 3",
   "language": "python",
   "name": "python3"
  },
  "language_info": {
   "codemirror_mode": {
    "name": "ipython",
    "version": 3
   },
   "file_extension": ".py",
   "mimetype": "text/x-python",
   "name": "python",
   "nbconvert_exporter": "python",
   "pygments_lexer": "ipython3",
   "version": "3.7.6"
  }
 },
 "nbformat": 4,
 "nbformat_minor": 4
}
